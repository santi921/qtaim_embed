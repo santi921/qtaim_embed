{
 "cells": [
  {
   "cell_type": "code",
   "execution_count": 1,
   "metadata": {},
   "outputs": [],
   "source": [
    "import torch\n",
    "import os\n",
    "import numpy as np\n",
    "import matplotlib.pyplot as plt\n",
    "import seaborn as sns\n",
    "import numpy as np\n",
    "from qtaim_embed.models.utils import load_graph_level_model_from_config\n",
    "from qtaim_embed.data.dataloader import DataLoaderMoleculeGraphTask\n",
    "from qtaim_embed.core.dataset import HeteroGraphGraphLabelDataset\n",
    "from qtaim_embed.models.utils import get_test_train_preds_as_df, test_and_predict_libe"
   ]
  },
  {
   "cell_type": "code",
   "execution_count": 2,
   "metadata": {},
   "outputs": [
    {
     "name": "stdout",
     "output_type": "stream",
     "text": [
      "... > creating MoleculeWrapper objects\n"
     ]
    },
    {
     "name": "stderr",
     "output_type": "stream",
     "text": [
      "100%|██████████| 1716/1716 [00:00<00:00, 13984.60it/s]\n"
     ]
    },
    {
     "name": "stdout",
     "output_type": "stream",
     "text": [
      "... > bond_feats_error_count:  0\n",
      "... > atom_feats_error_count:  0\n",
      "element set {'C', 'F', 'O', 'N', 'S', 'H', 'P', 'Li'}\n",
      "selected atomic keys []\n",
      "selected bond keys ['bond_length']\n",
      "selected global keys ['corrected_E', 'spin', 'charge']\n",
      "... > Building graphs and featurizing\n"
     ]
    },
    {
     "name": "stderr",
     "output_type": "stream",
     "text": [
      "100%|██████████| 1716/1716 [00:02<00:00, 640.22it/s]\n"
     ]
    },
    {
     "name": "stdout",
     "output_type": "stream",
     "text": [
      "included in labels\n",
      "{'global': ['corrected_E']}\n",
      "included in graph features\n",
      "{'atom': ['total_degree', 'total_H', 'is_in_ring', 'ring_size_3', 'ring_size_4', 'ring_size_5', 'ring_size_6', 'ring_size_7', 'chemical_symbol_C', 'chemical_symbol_F', 'chemical_symbol_O', 'chemical_symbol_N', 'chemical_symbol_S', 'chemical_symbol_H', 'chemical_symbol_P', 'chemical_symbol_Li'], 'bond': ['metal bond', 'ring inclusion', 'ring size_3', 'ring size_4', 'ring size_5', 'ring size_6', 'ring size_7', 'bond_length'], 'global': ['num atoms', 'num bonds', 'molecule weight', 'charge one hot', 'charge one hot', 'charge one hot', 'spin one hot', 'spin one hot', 'spin one hot']}\n",
      "original loader node types: dict_keys(['atom', 'bond', 'global'])\n",
      "original loader label types: dict_keys([])\n",
      "include names:  dict_keys(['global'])\n",
      "... > parsing labels and features in graphs\n"
     ]
    },
    {
     "name": "stderr",
     "output_type": "stream",
     "text": [
      "100%|██████████| 1716/1716 [00:00<00:00, 30714.00it/s]\n"
     ]
    },
    {
     "name": "stdout",
     "output_type": "stream",
     "text": [
      "original loader node types: dict_keys(['atom', 'bond', 'global'])\n",
      "original loader label types: dict_keys(['global'])\n",
      "... > Log scaling features\n",
      "... > Log scaling features complete\n",
      "... > Scaling features\n",
      "mean [0.82051049 0.12242161 0.07909777 0.00656382 0.05048244 0.01205826\n",
      " 0.00859197 0.00140127 0.20550669 0.04406612 0.16778314 0.00151189\n",
      " 0.00413005 0.21188614 0.01191076 0.0463524 ]\n",
      "std [0.5301781  0.31105153 0.22038588 0.06713131 0.1801202  0.09062421\n",
      " 0.07669211 0.0311339  0.31656498 0.16912269 0.29689599 0.03233694\n",
      " 0.05334485 0.3193314  0.09007798 0.17314875]\n",
      "mean [0.         0.09420027 0.00786088 0.05984692 0.01498344 0.01068385\n",
      " 0.00182407 0.86012772]\n",
      "std [0.         0.23753096 0.07339587 0.19468197 0.10080292 0.08538931\n",
      " 0.03551088 0.34877978]\n",
      "Standard deviation for feature 0 is 0.0, smaller than 0.001. You may want to exclude this feature.\n",
      "mean [2.41164055 2.24761734 4.63867565 0.24397488 0.24478275 0.20438955\n",
      " 0.29971749 0.29244671 0.10098298]\n",
      "std [0.37903647 0.42249919 0.41820949 0.33103891 0.33128821 0.31606479\n",
      " 0.34339155 0.34232081 0.24453733]\n",
      "... > Scaling features complete\n",
      "... > feature mean(s): \n",
      " {'atom': tensor([0.8205, 0.1224, 0.0791, 0.0066, 0.0505, 0.0121, 0.0086, 0.0014, 0.2055,\n",
      "        0.0441, 0.1678, 0.0015, 0.0041, 0.2119, 0.0119, 0.0464]), 'bond': tensor([0.0000, 0.0942, 0.0079, 0.0598, 0.0150, 0.0107, 0.0018, 0.8601]), 'global': tensor([2.4116, 2.2476, 4.6387, 0.2440, 0.2448, 0.2044, 0.2997, 0.2924, 0.1010])}\n",
      "... > feature std(s):  \n",
      " {'atom': tensor([0.5302, 0.3111, 0.2204, 0.0671, 0.1801, 0.0906, 0.0767, 0.0311, 0.3166,\n",
      "        0.1691, 0.2969, 0.0323, 0.0533, 0.3193, 0.0901, 0.1731]), 'bond': tensor([0.0010, 0.2375, 0.0734, 0.1947, 0.1008, 0.0854, 0.0355, 0.3488]), 'global': tensor([0.3790, 0.4225, 0.4182, 0.3310, 0.3313, 0.3161, 0.3434, 0.3423, 0.2445])}\n",
      "... > Scaling targets\n",
      "mean [0.46935998]\n",
      "std [3.96668811]\n",
      "... > Scaling targets complete\n",
      "... > feature mean(s): \n",
      " {'global': tensor([0.4694])}\n",
      "... > feature std(s):  \n",
      " {'global': tensor([3.9667])}\n",
      "... > loaded dataset\n",
      "... > creating MoleculeWrapper objects\n"
     ]
    },
    {
     "name": "stderr",
     "output_type": "stream",
     "text": [
      "100%|██████████| 15441/15441 [00:16<00:00, 919.30it/s] \n"
     ]
    },
    {
     "name": "stdout",
     "output_type": "stream",
     "text": [
      "... > bond_feats_error_count:  0\n",
      "... > atom_feats_error_count:  0\n",
      "element set {'C', 'F', 'O', 'N', 'S', 'H', 'P', 'Li'}\n",
      "selected atomic keys []\n",
      "selected bond keys ['bond_length']\n",
      "selected global keys ['corrected_E', 'spin', 'charge']\n",
      "... > Building graphs and featurizing\n"
     ]
    },
    {
     "name": "stderr",
     "output_type": "stream",
     "text": [
      "  2%|▏         | 364/15441 [00:18<09:37, 26.12it/s] "
     ]
    }
   ],
   "source": [
    "qtaim_keys_high = {\n",
    "    \"atom\": [\n",
    "        \"extra_feat_atom_Lagrangian_K\", \n",
    "      \"extra_feat_atom_Hamiltonian_K\",\n",
    "       \"extra_feat_atom_e_density\", \"extra_feat_atom_lap_e_density\",\n",
    "       \"extra_feat_atom_e_loc_func\", \"extra_feat_atom_ave_loc_ion_E\",\n",
    "       \"extra_feat_atom_delta_g_promolecular\", \"extra_feat_atom_delta_g_hirsh\",\n",
    "       \"extra_feat_atom_esp_nuc\", \"extra_feat_atom_esp_e\",\n",
    "       \"extra_feat_atom_esp_total\", \"extra_feat_atom_grad_norm\",\n",
    "       \"extra_feat_atom_lap_norm\", \"extra_feat_atom_eig_hess\",\n",
    "       \"extra_feat_atom_det_hessian\", \"extra_feat_atom_ellip_e_dens\",\n",
    "       \"extra_feat_atom_eta\",\"extra_feat_atom_energy_density\"\n",
    "    ],\n",
    "    \"bond\": [\n",
    "        \"bond_length\",\n",
    "       \"extra_feat_bond_Lagrangian_K\", \n",
    "       \"extra_feat_bond_Hamiltonian_K\", \"extra_feat_bond_e_density\",\n",
    "       \"extra_feat_bond_lap_e_density\", \"extra_feat_bond_e_loc_func\",\n",
    "       \"extra_feat_bond_ave_loc_ion_E\", \"extra_feat_bond_delta_g_promolecular\",\n",
    "       \"extra_feat_bond_delta_g_hirsh\", \"extra_feat_bond_esp_nuc\",\n",
    "       \"extra_feat_bond_esp_e\", \"extra_feat_bond_esp_total\",\n",
    "       \"extra_feat_bond_grad_norm\", \"extra_feat_bond_lap_norm\",\n",
    "       \"extra_feat_bond_eig_hess\", \"extra_feat_bond_det_hessian\",\n",
    "       \"extra_feat_bond_ellip_e_dens\", \"extra_feat_bond_eta\",\n",
    "       \"extra_feat_bond_energy_density\", \"extra_feat_bond_lol\"\n",
    "\n",
    "    ],\n",
    "    \"global\": [\"corrected_E\", \"spin\", \"charge\"],\n",
    "}\n",
    "\n",
    "\n",
    "libe_loc = \"../../../../data/splits_1205/test_libe_qtaim_1205_labelled_corrected.pkl\"\n",
    "libe_loc_train = (\n",
    "    \"../../../../data/splits_1205/train_libe_qtaim_1205_labelled_corrected.pkl\"\n",
    ")\n",
    "\n",
    "base_dict = {\n",
    "    \"atom\": [],\n",
    "    \"bond\": [\"bond_length\"],\n",
    "    \"global\": [\"corrected_E\", \"spin\", \"charge\"],\n",
    "}\n",
    "\n",
    "dataset_dict = {}\n",
    "keys_list = [\n",
    "    base_dict,\n",
    "    qtaim_keys_high,\n",
    "]\n",
    "for ind, feat_dict in enumerate(keys_list):\n",
    "    if ind == 0:\n",
    "        key = \"base\"\n",
    "    elif ind == 1:\n",
    "        key = \"qtaim_full\"\n",
    "\n",
    "    dataset_dict[key + \"_test\"] = HeteroGraphGraphLabelDataset(\n",
    "        file=libe_loc,\n",
    "        allowed_ring_size=[3, 4, 5, 6, 7],\n",
    "        allowed_charges=[-1, 0, 1],\n",
    "        allowed_spins=[1, 2, 3],\n",
    "        self_loop=True,\n",
    "        extra_keys=feat_dict,\n",
    "        target_list=[\"corrected_E\"],\n",
    "        extra_dataset_info={},\n",
    "        debug=False,\n",
    "        log_scale_features=True,\n",
    "        log_scale_targets=False,\n",
    "        standard_scale_features=True,\n",
    "        standard_scale_targets=True,\n",
    "    )\n",
    "    dataset_dict[key + \"_train\"] = HeteroGraphGraphLabelDataset(\n",
    "        file=libe_loc_train,\n",
    "        allowed_ring_size=[3, 4, 5, 6, 7],\n",
    "        allowed_charges=[-1, 0, 1],\n",
    "        allowed_spins=[1, 2, 3],\n",
    "        self_loop=True,\n",
    "        extra_keys=feat_dict,\n",
    "        target_list=[\"corrected_E\"],\n",
    "        extra_dataset_info={},\n",
    "        debug=False,\n",
    "        log_scale_features=True,\n",
    "        log_scale_targets=False,\n",
    "        standard_scale_features=True,\n",
    "        standard_scale_targets=True,\n",
    "    )\n"
   ]
  },
  {
   "cell_type": "code",
   "execution_count": null,
   "metadata": {},
   "outputs": [],
   "source": []
  }
 ],
 "metadata": {
  "kernelspec": {
   "display_name": "qtaim_embed",
   "language": "python",
   "name": "python3"
  },
  "language_info": {
   "codemirror_mode": {
    "name": "ipython",
    "version": 3
   },
   "file_extension": ".py",
   "mimetype": "text/x-python",
   "name": "python",
   "nbconvert_exporter": "python",
   "pygments_lexer": "ipython3",
   "version": "3.11.3"
  }
 },
 "nbformat": 4,
 "nbformat_minor": 2
}
