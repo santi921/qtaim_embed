{
 "cells": [
  {
   "cell_type": "code",
   "execution_count": 4,
   "metadata": {},
   "outputs": [],
   "source": [
    "import pandas as pd\n",
    "import numpy as np\n",
    "from qtaim_embed.core.dataset import HeteroGraphNodeLabelDataset\n",
    "from scipy import stats\n",
    "\n",
    "dev_dataset = \"../../../data/splits_1101/test_qm9_qtaim_1025_labelled.pkl\"\n",
    "# read the dataset\n",
    "dev_df = pd.read_pickle(dev_dataset)"
   ]
  },
  {
   "cell_type": "code",
   "execution_count": 2,
   "metadata": {},
   "outputs": [
    {
     "name": "stdout",
     "output_type": "stream",
     "text": [
      "... > creating MoleculeWrapper objects\n"
     ]
    },
    {
     "name": "stderr",
     "output_type": "stream",
     "text": [
      "100%|██████████| 13385/13385 [00:04<00:00, 3126.02it/s]\n"
     ]
    },
    {
     "name": "stdout",
     "output_type": "stream",
     "text": [
      "... > bond_feats_error_count:  0\n",
      "... > atom_feats_error_count:  0\n",
      "element set {'N', 'H', 'F', 'O', 'C'}\n",
      "selected atomic keys ['extra_feat_atom_Lagrangian_K', 'extra_feat_atom_Hamiltonian_K', 'extra_feat_atom_e_density', 'extra_feat_atom_lap_e_density', 'extra_feat_atom_e_loc_func', 'extra_feat_atom_ave_loc_ion_E', 'extra_feat_atom_delta_g_promolecular', 'extra_feat_atom_delta_g_hirsh', 'extra_feat_atom_esp_nuc', 'extra_feat_atom_esp_e', 'extra_feat_atom_esp_total', 'extra_feat_atom_grad_norm', 'extra_feat_atom_lap_norm', 'extra_feat_atom_eig_hess', 'extra_feat_atom_det_hessian', 'extra_feat_atom_ellip_e_dens', 'extra_feat_atom_eta']\n",
      "selected bond keys ['extra_feat_bond_Lagrangian_K', 'extra_feat_bond_Hamiltonian_K', 'extra_feat_bond_e_density', 'extra_feat_bond_lap_e_density', 'extra_feat_bond_e_loc_func', 'extra_feat_bond_ave_loc_ion_E', 'extra_feat_bond_delta_g_promolecular', 'extra_feat_bond_delta_g_hirsh', 'extra_feat_bond_esp_nuc', 'extra_feat_bond_esp_e', 'extra_feat_bond_esp_total', 'extra_feat_bond_grad_norm', 'extra_feat_bond_lap_norm', 'extra_feat_bond_eig_hess', 'extra_feat_bond_det_hessian', 'extra_feat_bond_ellip_e_dens', 'extra_feat_bond_eta', 'bond_length']\n",
      "selected global keys []\n",
      "... > Building graphs and featurizing\n"
     ]
    },
    {
     "name": "stderr",
     "output_type": "stream",
     "text": [
      "100%|██████████| 13385/13385 [00:23<00:00, 575.85it/s]\n"
     ]
    },
    {
     "name": "stdout",
     "output_type": "stream",
     "text": [
      "included in labels\n",
      "{'atom': ['extra_feat_atom_Lagrangian_K', 'extra_feat_atom_Hamiltonian_K', 'extra_feat_atom_e_density', 'extra_feat_atom_lap_e_density', 'extra_feat_atom_e_loc_func', 'extra_feat_atom_ave_loc_ion_E', 'extra_feat_atom_delta_g_promolecular', 'extra_feat_atom_delta_g_hirsh', 'extra_feat_atom_esp_nuc', 'extra_feat_atom_esp_e', 'extra_feat_atom_esp_total', 'extra_feat_atom_grad_norm', 'extra_feat_atom_lap_norm', 'extra_feat_atom_eig_hess', 'extra_feat_atom_det_hessian', 'extra_feat_atom_ellip_e_dens', 'extra_feat_atom_eta'], 'bond': ['bond_length', 'extra_feat_bond_Lagrangian_K', 'extra_feat_bond_Hamiltonian_K', 'extra_feat_bond_e_density', 'extra_feat_bond_lap_e_density', 'extra_feat_bond_e_loc_func', 'extra_feat_bond_ave_loc_ion_E', 'extra_feat_bond_delta_g_promolecular', 'extra_feat_bond_delta_g_hirsh', 'extra_feat_bond_esp_nuc', 'extra_feat_bond_esp_e', 'extra_feat_bond_esp_total', 'extra_feat_bond_grad_norm', 'extra_feat_bond_lap_norm', 'extra_feat_bond_eig_hess', 'extra_feat_bond_det_hessian', 'extra_feat_bond_ellip_e_dens', 'extra_feat_bond_eta']}\n",
      "included in graph features\n",
      "{'atom': ['total_degree', 'total_H', 'is_in_ring', 'ring_size_5', 'chemical_symbol_N', 'chemical_symbol_H', 'chemical_symbol_F', 'chemical_symbol_O', 'chemical_symbol_C'], 'bond': ['metal bond', 'ring inclusion', 'ring size_5'], 'global': ['num atoms', 'num bonds', 'molecule weight']}\n",
      "original loader node types: dict_keys(['atom', 'bond', 'global'])\n",
      "original loader label types: dict_keys([])\n",
      "include names:  dict_keys(['atom', 'bond'])\n",
      "... > parsing labels and features in graphs\n"
     ]
    },
    {
     "name": "stderr",
     "output_type": "stream",
     "text": [
      "100%|██████████| 13385/13385 [00:00<00:00, 13592.56it/s]\n"
     ]
    },
    {
     "name": "stdout",
     "output_type": "stream",
     "text": [
      "original loader node types: dict_keys(['atom', 'bond', 'global'])\n",
      "original loader label types: dict_keys(['atom', 'bond'])\n",
      "... > loaded dataset\n"
     ]
    }
   ],
   "source": [
    "dataset_dev = HeteroGraphNodeLabelDataset(\n",
    "    file=dev_dataset,\n",
    "    standard_scale_features=False,\n",
    "    standard_scale_targets=False,\n",
    "    log_scale_features=False,\n",
    "    log_scale_targets=False,\n",
    "    allowed_ring_size=[5],\n",
    "    allowed_charges=None,\n",
    "    allowed_spins=None,\n",
    "    self_loop=True,\n",
    "    debug=False,\n",
    "    extra_keys={\n",
    "        \"atom\": [\n",
    "            \"extra_feat_atom_Lagrangian_K\",\n",
    "            \"extra_feat_atom_Hamiltonian_K\",\n",
    "            \"extra_feat_atom_e_density\",\n",
    "            \"extra_feat_atom_lap_e_density\",\n",
    "            \"extra_feat_atom_e_loc_func\",\n",
    "            \"extra_feat_atom_ave_loc_ion_E\",\n",
    "            \"extra_feat_atom_delta_g_promolecular\",\n",
    "            \"extra_feat_atom_delta_g_hirsh\",\n",
    "            \"extra_feat_atom_esp_nuc\",\n",
    "            \"extra_feat_atom_esp_e\",\n",
    "            \"extra_feat_atom_esp_total\",\n",
    "            \"extra_feat_atom_grad_norm\",\n",
    "            \"extra_feat_atom_lap_norm\",\n",
    "            \"extra_feat_atom_eig_hess\",\n",
    "            \"extra_feat_atom_det_hessian\",\n",
    "            \"extra_feat_atom_ellip_e_dens\",\n",
    "            \"extra_feat_atom_eta\",\n",
    "        ],\n",
    "        \"bond\": [\n",
    "            \"extra_feat_bond_Lagrangian_K\",\n",
    "            \"extra_feat_bond_Hamiltonian_K\",\n",
    "            \"extra_feat_bond_e_density\",\n",
    "            \"extra_feat_bond_lap_e_density\",\n",
    "            \"extra_feat_bond_e_loc_func\",\n",
    "            \"extra_feat_bond_ave_loc_ion_E\",\n",
    "            \"extra_feat_bond_delta_g_promolecular\",\n",
    "            \"extra_feat_bond_delta_g_hirsh\",\n",
    "            \"extra_feat_bond_esp_nuc\",\n",
    "            \"extra_feat_bond_esp_e\",\n",
    "            \"extra_feat_bond_esp_total\",\n",
    "            \"extra_feat_bond_grad_norm\",\n",
    "            \"extra_feat_bond_lap_norm\",\n",
    "            \"extra_feat_bond_eig_hess\",\n",
    "            \"extra_feat_bond_det_hessian\",\n",
    "            \"extra_feat_bond_ellip_e_dens\",\n",
    "            \"extra_feat_bond_eta\",\n",
    "            \"bond_length\",\n",
    "        ],\n",
    "        \"global\": [],\n",
    "    },\n",
    "    target_dict={\n",
    "        \"atom\": [\n",
    "            \"extra_feat_atom_Lagrangian_K\",\n",
    "            \"extra_feat_atom_Hamiltonian_K\",\n",
    "            \"extra_feat_atom_e_density\",\n",
    "            \"extra_feat_atom_lap_e_density\",\n",
    "            \"extra_feat_atom_e_loc_func\",\n",
    "            \"extra_feat_atom_ave_loc_ion_E\",\n",
    "            \"extra_feat_atom_delta_g_promolecular\",\n",
    "            \"extra_feat_atom_delta_g_hirsh\",\n",
    "            \"extra_feat_atom_esp_nuc\",\n",
    "            \"extra_feat_atom_esp_e\",\n",
    "            \"extra_feat_atom_esp_total\",\n",
    "            \"extra_feat_atom_grad_norm\",\n",
    "            \"extra_feat_atom_lap_norm\",\n",
    "            \"extra_feat_atom_eig_hess\",\n",
    "            \"extra_feat_atom_det_hessian\",\n",
    "            \"extra_feat_atom_ellip_e_dens\",\n",
    "            \"extra_feat_atom_eta\",\n",
    "        ],\n",
    "        \"bond\": [\n",
    "            \"extra_feat_bond_Lagrangian_K\",\n",
    "            \"extra_feat_bond_Hamiltonian_K\",\n",
    "            \"extra_feat_bond_e_density\",\n",
    "            \"extra_feat_bond_lap_e_density\",\n",
    "            \"extra_feat_bond_e_loc_func\",\n",
    "            \"extra_feat_bond_ave_loc_ion_E\",\n",
    "            \"extra_feat_bond_delta_g_promolecular\",\n",
    "            \"extra_feat_bond_delta_g_hirsh\",\n",
    "            \"extra_feat_bond_esp_nuc\",\n",
    "            \"extra_feat_bond_esp_e\",\n",
    "            \"extra_feat_bond_esp_total\",\n",
    "            \"extra_feat_bond_grad_norm\",\n",
    "            \"extra_feat_bond_lap_norm\",\n",
    "            \"extra_feat_bond_eig_hess\",\n",
    "            \"extra_feat_bond_det_hessian\",\n",
    "            \"extra_feat_bond_ellip_e_dens\",\n",
    "            \"extra_feat_bond_eta\",\n",
    "            \"bond_length\",\n",
    "        ],\n",
    "        \"global\": [],\n",
    "    },\n",
    "    extra_dataset_info={},\n",
    ")"
   ]
  },
  {
   "cell_type": "code",
   "execution_count": 10,
   "metadata": {},
   "outputs": [
    {
     "name": "stdout",
     "output_type": "stream",
     "text": [
      "capturing stats for atom type:  N\n",
      "capturing stats for atom type:  H\n",
      "capturing stats for atom type:  F\n",
      "capturing stats for atom type:  O\n",
      "capturing stats for atom type:  C\n"
     ]
    }
   ],
   "source": [
    "def gather_atom_level_stats(dataset_dev):\n",
    "    atoms_in = [\n",
    "        i.split(\"_\")[-1]\n",
    "        for i in dataset_dev.exclude_names[\"atom\"]\n",
    "        if \"chemical_symbol_\" in i\n",
    "    ]\n",
    "    atom_feats_qtaim = [\n",
    "        i for i in dataset_dev.include_names[\"atom\"] if \"extra_feat_atom_\" in i\n",
    "    ]\n",
    "    feat_dict = {}\n",
    "    feat_dict_summary = {}\n",
    "    feat_dict_complete = {}\n",
    "\n",
    "    for probe_atom_type in atoms_in:\n",
    "        print(\"capturing stats for atom type: \", probe_atom_type)\n",
    "        for probe_descriptor in atom_feats_qtaim:\n",
    "            # probe_atom_type = \"C\"\n",
    "            # probe_descriptor = \"extra_feat_atom_Lagrangian_K\"\n",
    "\n",
    "            for graph in dataset_dev.graphs:\n",
    "                probe_ind = dataset_dev.exclude_names[\"atom\"].index(\n",
    "                    \"chemical_symbol_\" + probe_atom_type\n",
    "                )\n",
    "                probe_col = graph.ndata[\"feat\"][\"atom\"][:, probe_ind]\n",
    "\n",
    "                probe_desc_ind = dataset_dev.include_names[\"atom\"].index(\n",
    "                    probe_descriptor\n",
    "                )\n",
    "                atom_type_positive_ind = np.where(probe_col == 1)[0]\n",
    "                feat_at_atom = graph.ndata[\"labels\"][\"atom\"][\n",
    "                    atom_type_positive_ind, probe_desc_ind\n",
    "                ]\n",
    "\n",
    "                if probe_atom_type not in feat_dict.keys():\n",
    "                    feat_dict[probe_atom_type] = {}\n",
    "                if probe_descriptor not in feat_dict[probe_atom_type].keys():\n",
    "                    feat_dict[probe_atom_type][probe_descriptor] = []\n",
    "                feat_dict[probe_atom_type][probe_descriptor].extend(feat_at_atom)\n",
    "\n",
    "            feat_dict[probe_atom_type][probe_descriptor] = np.array(\n",
    "                feat_dict[probe_atom_type][probe_descriptor]\n",
    "            )\n",
    "\n",
    "    for probe_descriptor in atom_feats_qtaim:\n",
    "        for probe_atom_type in atoms_in:\n",
    "            if probe_descriptor not in feat_dict_complete.keys():\n",
    "                feat_dict_complete[probe_descriptor] = []\n",
    "            feat_dict_complete[probe_descriptor].extend(\n",
    "                feat_dict[probe_atom_type][probe_descriptor]\n",
    "            )\n",
    "\n",
    "    for k, v in feat_dict.items():\n",
    "        if k not in feat_dict_summary.keys():\n",
    "            feat_dict_summary[k] = {}\n",
    "        for sub_k, sub_v in v.items():\n",
    "            dict_summary_stats = {\n",
    "                \"mean\": np.mean(sub_v),\n",
    "                \"std\": np.std(sub_v),\n",
    "                \"min\": np.min(sub_v),\n",
    "                \"max\": np.max(sub_v),\n",
    "                \"mode\": stats.mode(sub_v)[0],\n",
    "            }\n",
    "            feat_dict_summary[k][sub_k] = dict_summary_stats\n",
    "\n",
    "    return feat_dict, feat_dict_complete, feat_dict_summary\n",
    "\n",
    "\n",
    "feat_dict, feat_dict_complete, feat_dict_summary = gather_atom_level_stats(dataset_dev)"
   ]
  },
  {
   "cell_type": "code",
   "execution_count": 14,
   "metadata": {},
   "outputs": [],
   "source": [
    "def gather_bond_level_stats(dataset_dev):\n",
    "    bond_feats_qtaim = [\n",
    "        i for i in dataset_dev.include_names[\"bond\"] if \"extra_feat_bond_\" in i\n",
    "    ]\n",
    "    feat_dict_summary = {}\n",
    "    feat_dict_complete = {}\n",
    "\n",
    "    for probe_descriptor in bond_feats_qtaim:\n",
    "        for graph in dataset_dev.graphs:\n",
    "            probe_desc_ind = dataset_dev.include_names[\"bond\"].index(probe_descriptor)\n",
    "            feat_at_atom = graph.ndata[\"labels\"][\"bond\"][:, probe_desc_ind]\n",
    "\n",
    "            if probe_descriptor not in feat_dict_complete.keys():\n",
    "                feat_dict_complete[probe_descriptor] = []\n",
    "            feat_dict_complete[probe_descriptor].extend(feat_at_atom)\n",
    "\n",
    "        feat_dict_complete[probe_descriptor] = np.array(\n",
    "            feat_dict_complete[probe_descriptor]\n",
    "        )\n",
    "\n",
    "    for k, v in feat_dict_complete.items():\n",
    "        if k not in feat_dict_summary.keys():\n",
    "            feat_dict_summary[k] = {}\n",
    "        dict_summary_stats = {\n",
    "            \"mean\": np.mean(v),\n",
    "            \"std\": np.std(v),\n",
    "            \"min\": np.min(v),\n",
    "            \"max\": np.max(v),\n",
    "            \"mode\": stats.mode(v)[0],\n",
    "        }\n",
    "        feat_dict_summary[k] = dict_summary_stats\n",
    "    return feat_dict_complete, feat_dict_summary\n",
    "\n",
    "\n",
    "feat_dict_complete, feat_dict_summary = gather_bond_level_stats(dataset_dev)"
   ]
  },
  {
   "cell_type": "code",
   "execution_count": 16,
   "metadata": {},
   "outputs": [
    {
     "data": {
      "text/plain": [
       "{'extra_feat_bond_Lagrangian_K': array([0.03620145, 0.04419453, 0.05288771, ..., 0.03521625, 0.17293593,\n",
       "        0.05124786], dtype=float32),\n",
       " 'extra_feat_bond_Hamiltonian_K': array([0.3036617 , 0.29256713, 0.17661889, ..., 0.29406413, 0.41768956,\n",
       "        0.4368419 ], dtype=float32),\n",
       " 'extra_feat_bond_e_density': array([-0.3036617 , -0.29256713, -0.17661889, ..., -0.29406413,\n",
       "        -0.41768956, -0.4368419 ], dtype=float32),\n",
       " 'extra_feat_bond_lap_e_density': array([-1.069841  , -0.9934904 , -0.49492472, ..., -1.0353914 ,\n",
       "        -0.9790145 , -1.5423762 ], dtype=float32),\n",
       " 'extra_feat_bond_e_loc_func': array([0.98943394, 0.9830637 , 0.9562653 , ..., 0.9893821 , 0.84029436,\n",
       "        0.9878577 ], dtype=float32),\n",
       " 'extra_feat_bond_ave_loc_ion_E': array([0.44933584, 0.43088365, 0.44190475, ..., 0.47749993, 0.6687556 ,\n",
       "        0.57182604], dtype=float32),\n",
       " 'extra_feat_bond_delta_g_promolecular': array([0.28261948, 0.27357894, 0.31212416, ..., 0.28179213, 0.32422242,\n",
       "        0.48293623], dtype=float32),\n",
       " 'extra_feat_bond_delta_g_hirsh': array([0.51110244, 0.48902363, 0.44044793, ..., 0.5107749 , 0.4589473 ,\n",
       "        0.73525727], dtype=float32),\n",
       " 'extra_feat_bond_esp_nuc': array([17.509737, 17.121572, 20.062643, ..., 17.41481 , 21.360254,\n",
       "        16.68176 ], dtype=float32),\n",
       " 'extra_feat_bond_esp_e': array([-16.667517, -16.298143, -19.47903 , ..., -16.57202 , -20.009476,\n",
       "        -15.241874], dtype=float32),\n",
       " 'extra_feat_bond_esp_total': array([0.84222066, 0.82342887, 0.5836118 , ..., 0.84279084, 1.3507786 ,\n",
       "        1.4398865 ], dtype=float32),\n",
       " 'extra_feat_bond_grad_norm': array([4.07560411e-16, 1.00602235e-16, 9.69398040e-17, ...,\n",
       "        1.79091048e-16, 1.72059272e-16, 1.43468221e-14], dtype=float32),\n",
       " 'extra_feat_bond_lap_norm': array([-1.069841  , -0.9934904 , -0.49492472, ..., -1.0353914 ,\n",
       "        -0.9790145 , -1.5423762 ], dtype=float32),\n",
       " 'extra_feat_bond_eig_hess': array([-1.069841  , -0.9934904 , -0.49492472, ..., -1.0353914 ,\n",
       "        -0.9790145 , -1.5423762 ], dtype=float32),\n",
       " 'extra_feat_bond_det_hessian': array([0.18555024, 0.16259626, 0.04892351, ..., 0.18623552, 0.1076825 ,\n",
       "        1.3751462 ], dtype=float32),\n",
       " 'extra_feat_bond_ellip_e_dens': array([0.033809, 0.006577, 0.036099, ..., 0.03351 , 0.145677, 0.044304],\n",
       "       dtype=float32),\n",
       " 'extra_feat_bond_eta': array([2.010228, 1.898644, 1.333184, ..., 1.912504, 2.433992, 1.373923],\n",
       "       dtype=float32)}"
      ]
     },
     "execution_count": 16,
     "metadata": {},
     "output_type": "execute_result"
    }
   ],
   "source": [
    "feat_dict_complete"
   ]
  },
  {
   "cell_type": "code",
   "execution_count": 56,
   "metadata": {},
   "outputs": [
    {
     "data": {
      "text/plain": [
       "['C', 'H', 'F', 'N', 'O']"
      ]
     },
     "execution_count": 56,
     "metadata": {},
     "output_type": "execute_result"
    }
   ],
   "source": [
    "atoms_in = [\n",
    "    i.split(\"_\")[-1]\n",
    "    for i in dataset_dev.exclude_names[\"atom\"]\n",
    "    if \"chemical_symbol_\" in i\n",
    "]\n",
    "atoms_in"
   ]
  },
  {
   "cell_type": "code",
   "execution_count": 59,
   "metadata": {},
   "outputs": [
    {
     "data": {
      "text/plain": [
       "['Lagrangian_K',\n",
       " 'Hamiltonian_K',\n",
       " 'e_density',\n",
       " 'lap_e_density',\n",
       " 'e_loc_func',\n",
       " 'ave_loc_ion_E',\n",
       " 'delta_g_promolecular',\n",
       " 'delta_g_hirsh',\n",
       " 'esp_nuc',\n",
       " 'esp_e',\n",
       " 'esp_total',\n",
       " 'grad_norm',\n",
       " 'lap_norm',\n",
       " 'eig_hess',\n",
       " 'det_hessian',\n",
       " 'ellip_e_dens',\n",
       " 'eta']"
      ]
     },
     "execution_count": 59,
     "metadata": {},
     "output_type": "execute_result"
    }
   ],
   "source": [
    "dataset_dev.include_names\n",
    "atom_feats_qtaim = [\n",
    "    i[16:] for i in dataset_dev.include_names[\"atom\"] if \"extra_feat_atom_\" in i\n",
    "]\n",
    "atom_feats_qtaim"
   ]
  },
  {
   "cell_type": "code",
   "execution_count": 51,
   "metadata": {},
   "outputs": [
    {
     "data": {
      "text/plain": [
       "{'C': {'extra_feat_atom_Lagrangian_K': {'mean': 7.1804614,\n",
       "   'std': 22.808365,\n",
       "   'min': 0.00082105416,\n",
       "   'max': 180.31058}}}"
      ]
     },
     "execution_count": 51,
     "metadata": {},
     "output_type": "execute_result"
    }
   ],
   "source": [
    "feat_dict_summary"
   ]
  },
  {
   "cell_type": "code",
   "execution_count": 47,
   "metadata": {},
   "outputs": [],
   "source": [
    "dict_summary_stats = {\"atom\": {}, \"bond\": {}}\n",
    "dict_histograms = {\"atom\": {}, \"bond\": {}}\n",
    "\n",
    "\n",
    "for col in dev_df.columns:\n",
    "    if \"extra_feat\" in col:\n",
    "        if \"atom\" == col.split(\"_\")[2]:\n",
    "            qtaim_desc_name = col[16:]\n",
    "            if qtaim_desc_name not in dict_summary_stats[\"atom\"]:\n",
    "                dict_summary_stats[\"atom\"][qtaim_desc_name] = []\n",
    "                dict_histograms[\"atom\"][qtaim_desc_name] = []\n",
    "            # [dict_histograms[\"atom\"][qtaim_desc_name].append(i) for i in dev_df[col]]\n",
    "            for i in dev_df[col]:\n",
    "                if type(i[0]) == list:\n",
    "                    [dict_histograms[\"atom\"][qtaim_desc_name].append(j) for j in i[0]]\n",
    "                else:\n",
    "                    [dict_histograms[\"atom\"][qtaim_desc_name].append(j) for j in i]\n",
    "            dict_histograms[\"atom\"][qtaim_desc_name] = np.array(\n",
    "                dict_histograms[\"atom\"][qtaim_desc_name]\n",
    "            )\n",
    "        if \"bond\" == col.split(\"_\")[2]:\n",
    "            qtaim_desc_name = col[16:]\n",
    "            if qtaim_desc_name not in dict_summary_stats[\"bond\"]:\n",
    "                dict_summary_stats[\"bond\"][qtaim_desc_name] = []\n",
    "                dict_histograms[\"bond\"][qtaim_desc_name] = []\n",
    "            for i in dev_df[col]:\n",
    "                if type(i[0]) == list:\n",
    "                    [dict_histograms[\"bond\"][qtaim_desc_name].append(j) for j in i[0]]\n",
    "                else:\n",
    "                    [dict_histograms[\"bond\"][qtaim_desc_name].append(j) for j in i]\n",
    "            dict_histograms[\"bond\"][qtaim_desc_name] = np.array(\n",
    "                dict_histograms[\"bond\"][qtaim_desc_name]\n",
    "            )\n",
    "        # assert that all lists are of the same length in bond\n",
    "for key in dict_histograms[\"bond\"].keys():\n",
    "    assert len(dict_histograms[\"bond\"][key]) == len(\n",
    "        dict_histograms[\"bond\"][\"Lagrangian_K\"]\n",
    "    )\n",
    "\n",
    "for key in dict_histograms[\"atom\"].keys():\n",
    "    assert len(dict_histograms[\"atom\"][key]) == len(\n",
    "        dict_histograms[\"atom\"][\"Lagrangian_K\"]\n",
    "    )"
   ]
  },
  {
   "cell_type": "code",
   "execution_count": 48,
   "metadata": {},
   "outputs": [
    {
     "data": {
      "image/png": "[encoded data removed]",
      "text/plain": [
       "<Figure size 640x480 with 1 Axes>"
      ]
     },
     "metadata": {},
     "output_type": "display_data"
    }
   ],
   "source": [
    "import matplotlib.pyplot as plt\n",
    "import seaborn as sns\n",
    "\n",
    "# plot [\"bond\"][\"Lagrangian_K\"]\n",
    "\n",
    "# create a violin plot\n",
    "sns.violinplot(x=dict_histograms[\"atom\"][\"Lagrangian_K\"])\n",
    "# show the plot\n",
    "plt.show()"
   ]
  },
  {
   "cell_type": "code",
   "execution_count": 49,
   "metadata": {},
   "outputs": [
    {
     "name": "stdout",
     "output_type": "stream",
     "text": [
      "180.3105721\n"
     ]
    }
   ],
   "source": [
    "print(dict_histograms[\"atom\"][\"Lagrangian_K\"].max())"
   ]
  },
  {
   "cell_type": "code",
   "execution_count": null,
   "metadata": {},
   "outputs": [],
   "source": []
  }
 ],
 "metadata": {
  "kernelspec": {
   "display_name": "qtaim_embed",
   "language": "python",
   "name": "python3"
  },
  "language_info": {
   "codemirror_mode": {
    "name": "ipython",
    "version": 3
   },
   "file_extension": ".py",
   "mimetype": "text/x-python",
   "name": "python",
   "nbconvert_exporter": "python",
   "pygments_lexer": "ipython3",
   "version": "3.11.3"
  },
  "orig_nbformat": 4
 },
 "nbformat": 4,
 "nbformat_minor": 2
}
