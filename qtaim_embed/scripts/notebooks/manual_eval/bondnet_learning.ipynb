{
 "cells": [
  {
   "cell_type": "code",
   "execution_count": 1,
   "metadata": {},
   "outputs": [],
   "source": [
    "import json\n",
    "import torch\n",
    "import pandas as pd\n",
    "import seaborn as sns\n",
    "\n",
    "from torch.utils.data import DataLoader\n",
    "import pytorch_lightning as pl\n",
    "from torchmetrics import R2Score\n",
    "\n",
    "\n",
    "sns.set(style=\"whitegrid\")\n",
    "\n",
    "\n",
    "from pytorch_lightning.loggers import TensorBoardLogger\n",
    "from pytorch_lightning.callbacks import (\n",
    "    LearningRateMonitor,\n",
    "    EarlyStopping,\n",
    "    ModelCheckpoint,\n",
    ")\n",
    "\n",
    "from bondnet.utils import seed_torch\n",
    "from bondnet.model.training_utils import load_model_lightning\n",
    "from bondnet.data.datamodule import BondNetLightningDataModule\n",
    "\n",
    "from bondnet.utils import seed_torch\n",
    "from bondnet.model.training_utils import (\n",
    "    LogParameters,\n",
    "    load_model_lightning,\n",
    ")\n",
    "\n",
    "seed_torch()\n",
    "torch.set_float32_matmul_precision(\"high\")  # might have to disable on older GPUs\n",
    "torch.multiprocessing.set_sharing_strategy(\"file_system\")"
   ]
  },
  {
   "cell_type": "code",
   "execution_count": 2,
   "metadata": {},
   "outputs": [
    {
     "name": "stdout",
     "output_type": "stream",
     "text": [
      "/home/santiagovargas/dev/bondnet/bondnet/dataset/20231110_parse/green/2022/ccsdtf_121423_qtaim.json\n"
     ]
    }
   ],
   "source": [
    "! ls ~/dev/bondnet/bondnet/dataset/20231110_parse/green/2022/ccsdtf_121423_qtaim.json"
   ]
  },
  {
   "cell_type": "code",
   "execution_count": 3,
   "metadata": {},
   "outputs": [],
   "source": [
    "#df_100 = pd.read_json(\"~/dev/bondnet/bondnet/dataset/20231110_parse/green/2022/ccsdtf_121423_qtaim_100.json\")\n",
    "#df_1000 = pd.read_json(\"~/dev/bondnet/bondnet/dataset/20231110_parse/green/2022/ccsdtf_121423_qtaim_1000.json\")\n",
    "#df_10000 = pd.read_json(\"~/dev/bondnet/bondnet/dataset/20231110_parse/green/2022/ccsdtf_121423_qtaim_10000.json\")\n",
    "#df_full = pd.read_json(\"~/dev/bondnet/bondnet/dataset/20231110_parse/green/2022/ccsdtf_121423_qtaim.json\")\n",
    "#df_test = pd.read_json(\"~/dev/bondnet/bondnet/dataset/20231110_parse/green/2022/ccsdtf_121423_qtaim_test_learning.json\")"
   ]
  },
  {
   "cell_type": "code",
   "execution_count": 4,
   "metadata": {},
   "outputs": [],
   "source": [
    "config = {\n",
    "  \"model\": {\n",
    "    \"conv\": \"GatedGCNConv\",\n",
    "    \"readout\": \"Set2SetThenCat\", \n",
    "    \"initializer\": \"kaiming\",\n",
    "    \"augment\": False,\n",
    "    \"classifier\": False,\n",
    "    \"classif_categories\": 3,\n",
    "    \"cat_weights\": [1.0, 1.0, 1.0],\n",
    "    \"embedding_size\": 8,\n",
    "    \"epochs\": 2000,\n",
    "    \"extra_features\": {\n",
    "    \"atom\": [\"grad_norm\", \"esp_total\", \"Hamiltonian_K\"],\n",
    "    \"bond\": [\"grad_norm\", \"ellip_e_dens\", \"ave_loc_ion_E\",\n",
    "             \"e_loc_func\", \"esp_total\",  \"Hamiltonian_K\"],\n",
    "    \"global\": [\"dHrxn298\"],\n",
    "     \"mappings\": [\"indices_qtaim\"]\n",
    "     },\n",
    "    \"extra_info\": [],\n",
    "    \"feature_filter\": False,\n",
    "    \"filter_species\": [3, 6],\n",
    "    \"fc_activation\": \"ReLU\",\n",
    "    \"fc_batch_norm\": True,\n",
    "    \"fc_dropout\": 0.2,\n",
    "    \"fc_hidden_size_1\": 512,\n",
    "    \"fc_hidden_size_shape\": \"flat\",\n",
    "    \"fc_num_layers\": 3,\n",
    "    \"gated_activation\": \"ReLU\",\n",
    "    \"gated_batch_norm\": True,\n",
    "    \"gated_dropout\": 0.1,\n",
    "    \"gated_graph_norm\": False,\n",
    "    \"gated_hidden_size_1\": 128,\n",
    "    \"gated_hidden_size_shape\": \"cone\",\n",
    "    \"gated_num_fc_layers\": 2,\n",
    "    \"gated_num_layers\": 1,\n",
    "    \"gated_residual\": False,\n",
    "    \"learning_rate\": 0.001,\n",
    "    \"precision\": \"bf16-mixed\",\n",
    "    \"loss\": \"mse\",\n",
    "    \"num_lstm_iters\": 13,\n",
    "    \"num_lstm_layers\": 1,\n",
    "    \"restore\": False,\n",
    "    \"weight_decay\": 0.000001,\n",
    "    \"max_epochs\": 1000,\n",
    "    \"max_epochs_transfer\": 10,\n",
    "    \"transfer\": False,\n",
    "    \"filter_outliers\": True,\n",
    "    \"filter_sparse_rxns\": False, \n",
    "    \"freeze\": False,\n",
    "    \"transfer\": False,\n",
    "    \"target_var\": \"dE0\",\n",
    "    \"target_var_transfer\": \"dHrxn298\",\n",
    "    \"reactant_only\": False\n",
    "  },\n",
    "  \"optim\": {\n",
    "    \"batch_size\": 64,\n",
    "    \"num_devices\": 1,\n",
    "    \"num_nodes\": 0,\n",
    "    \"num_workers\": 0,\n",
    "    \"val_size\": 0.1,\n",
    "    \"test_size\": 0.1,\n",
    "    \"strategy\": \"auto\",\n",
    "    \"gradient_clip_val\": 1000.0,\n",
    "    \"accumulate_grad_batches\": 1,\n",
    "    \"pin_memory\": False, \n",
    "    \"persistent_workers\": False\n",
    "  },\n",
    "  \"dataset\": {\n",
    "    \"log_save_dir\": \"./model_log/\",\n",
    "    \"lmdb_dir\": \"./lmdb_data/\",\n",
    "    \"target_var\": \"dE0\",\n",
    "    \"overwrite\": True\n",
    "  },\n",
    "  \"dataset_transfer\": {\n",
    "    \"log_save_dir\": \"./model_log_transfer/\",\n",
    "    \"lmdb_dir\": \"./lmdb_data_transfer/\",\n",
    "    \"target_var\": \"dHrxn298\",\n",
    "    \"overwrite\": True\n",
    "  }\n",
    "}"
   ]
  },
  {
   "cell_type": "code",
   "execution_count": 5,
   "metadata": {},
   "outputs": [
    {
     "name": "stdout",
     "output_type": "stream",
     "text": [
      "fg_list None\n",
      "reading file from: ~/dev/bondnet/bondnet/dataset/20231110_parse/green/2022/ccsdtf_121423_qtaim_1000.json\n",
      "rxn raw len: 1000\n",
      "Program finished in 4.738968463003403 seconds\n",
      ".............failures.............\n",
      "reactions len: 996\n",
      "valid ind len: 996\n",
      "bond break fail count: \t\t0\n",
      "default fail count: \t\t4\n",
      "sdf map fail count: \t\t0\n",
      "product bond fail count: \t0\n",
      "about to group and organize\n",
      "number of grouped reactions: 996\n",
      "---> generating grouped reactions\n"
     ]
    },
    {
     "name": "stderr",
     "output_type": "stream",
     "text": [
      "grouped reactions: 100%|██████████| 996/996 [00:17<00:00, 55.48it/s]\n"
     ]
    },
    {
     "name": "stdout",
     "output_type": "stream",
     "text": [
      "--> generating labels\n"
     ]
    },
    {
     "name": "stderr",
     "output_type": "stream",
     "text": [
      "labeled reactions: 100%|██████████| 996/996 [00:00<00:00, 26935.10it/s]\n"
     ]
    },
    {
     "name": "stdout",
     "output_type": "stream",
     "text": [
      "features: 2309\n",
      "labels: 996\n",
      "molecules: 2309\n",
      "constructing graphs & features....\n"
     ]
    },
    {
     "name": "stderr",
     "output_type": "stream",
     "text": [
      "mol graphs: 100%|██████████| 2309/2309 [00:05<00:00, 447.64it/s]\n"
     ]
    },
    {
     "name": "stdout",
     "output_type": "stream",
     "text": [
      "number of graphs valid: 2309\n",
      "number of graphs: 2309\n"
     ]
    }
   ],
   "source": [
    "dataset_loc = \"~/dev/bondnet/bondnet/dataset/20231110_parse/green/2022/ccsdtf_121423_qtaim_1000.json\"\n",
    "log_save_dir = \"./100/\"\n",
    "\n",
    "\n",
    "if config[\"model\"][\"precision\"] == \"16\" or config[\"model\"][\"precision\"] == \"32\":\n",
    "    config[\"model\"][\"precision\"] = int(config[\"model\"][\"precision\"])\n",
    "\n",
    "# dataset\n",
    "config[\"dataset\"][\"data_dir\"] = dataset_loc\n",
    "extra_keys = config[\"model\"][\"extra_features\"]\n",
    "config[\"model\"][\"filter_sparse_rxns\"] = False\n",
    "config[\"model\"][\"debug\"] = False\n",
    "\n",
    "config[\"dataset_transfer\"][\"data_dir\"] = dataset_loc\n",
    "dm = BondNetLightningDataModule(config)\n",
    "\n",
    "feature_size, feature_names = dm.prepare_data()"
   ]
  },
  {
   "cell_type": "code",
   "execution_count": 6,
   "metadata": {},
   "outputs": [
    {
     "name": "stdout",
     "output_type": "stream",
     "text": [
      ">>>>>>>>>>>>>>>>>>>>>>>>>>>>>>>>>>>>>>>>config_settings<<<<<<<<<<<<<<<<<<<<<<<<<<<<<<<<<<<<<<<<\n",
      "model               \t\t\t{'conv': 'GatedGCNConv', 'readout': 'Set2SetThenCat', 'initializer': 'kaiming', 'augment': False, 'classifier': False, 'classif_categories': 3, 'cat_weights': [1.0, 1.0, 1.0], 'embedding_size': 8, 'epochs': 2000, 'extra_features': {'atom': ['grad_norm', 'esp_total', 'Hamiltonian_K'], 'bond': ['grad_norm', 'ellip_e_dens', 'ave_loc_ion_E', 'e_loc_func', 'esp_total', 'Hamiltonian_K'], 'global': ['dHrxn298'], 'mappings': ['indices_qtaim']}, 'extra_info': [], 'feature_filter': False, 'filter_species': [3, 6], 'fc_activation': 'ReLU', 'fc_batch_norm': True, 'fc_dropout': 0.2, 'fc_hidden_size_1': 512, 'fc_hidden_size_shape': 'flat', 'fc_num_layers': 3, 'gated_activation': 'ReLU', 'gated_batch_norm': True, 'gated_dropout': 0.1, 'gated_graph_norm': False, 'gated_hidden_size_1': 128, 'gated_hidden_size_shape': 'cone', 'gated_num_fc_layers': 2, 'gated_num_layers': 1, 'gated_residual': False, 'learning_rate': 0.001, 'precision': 'bf16-mixed', 'loss': 'mse', 'num_lstm_iters': 13, 'num_lstm_layers': 1, 'restore': False, 'weight_decay': 1e-06, 'max_epochs': 1000, 'max_epochs_transfer': 10, 'transfer': False, 'filter_outliers': True, 'filter_sparse_rxns': False, 'freeze': False, 'target_var': 'dE0', 'target_var_transfer': 'dHrxn298', 'reactant_only': False, 'debug': False, 'in_feats': {'atom': 23, 'bond': 13, 'global': 4}}\n",
      "optim               \t\t\t{'batch_size': 64, 'num_devices': 1, 'num_nodes': 0, 'num_workers': 0, 'val_size': 0.1, 'test_size': 0.1, 'strategy': 'auto', 'gradient_clip_val': 1000.0, 'accumulate_grad_batches': 1, 'pin_memory': False, 'persistent_workers': False}\n",
      "dataset             \t\t\t{'log_save_dir': './model_log/', 'lmdb_dir': './lmdb_data/', 'target_var': 'dE0', 'overwrite': True, 'data_dir': '~/dev/bondnet/bondnet/dataset/20231110_parse/green/2022/ccsdtf_121423_qtaim_1000.json', 'feature_names': {'atom': ['total_degree', 'total_H', 'is_in_ring', 'ring_size_3', 'ring_size_4', 'ring_size_5', 'ring_size_6', 'ring_size_7', 'chemical_symbol_C', 'chemical_symbol_F', 'chemical_symbol_H', 'chemical_symbol_N', 'chemical_symbol_O', 'chemical_symbol_Mg', 'chemical_symbol_Li', 'chemical_symbol_S', 'chemical_symbol_Cl', 'chemical_symbol_P', 'chemical_symbol_O', 'chemical_symbol_Br', 'grad_norm', 'esp_total', 'Hamiltonian_K'], 'bond': ['metal bond', 'ring inclusion', 'ring size_3', 'ring size_4', 'ring size_5', 'ring size_6', 'ring size_7', 'grad_norm', 'ellip_e_dens', 'ave_loc_ion_E', 'e_loc_func', 'esp_total', 'Hamiltonian_K'], 'global': ['num atoms', 'num bonds', 'molecule weight', 'dHrxn298']}}\n",
      "dataset_transfer    \t\t\t{'log_save_dir': './model_log_transfer/', 'lmdb_dir': './lmdb_data_transfer/', 'target_var': 'dHrxn298', 'overwrite': True, 'data_dir': '~/dev/bondnet/bondnet/dataset/20231110_parse/green/2022/ccsdtf_121423_qtaim_1000.json'}\n",
      ">>>>>>>>>>>>>>>>>>>>>>>>>>>>>>>>>>>>>>>>config_settings<<<<<<<<<<<<<<<<<<<<<<<<<<<<<<<<<<<<<<<<\n",
      "NB: using GatedGCNConv\n",
      "NB: using Set2SetThenCat\n",
      ":::USING KAIMING INITIALIZER:::\n"
     ]
    }
   ],
   "source": [
    "config[\"model\"][\"in_feats\"] = feature_size\n",
    "config[\"dataset\"][\"feature_names\"] = feature_names\n",
    "\n",
    "print(\">\" * 40 + \"config_settings\" + \"<\" * 40)\n",
    "for k, v in config.items():\n",
    "    print(\"{}\\t\\t\\t{}\".format(str(k).ljust(20), str(v).ljust(20)))\n",
    "\n",
    "print(\">\" * 40 + \"config_settings\" + \"<\" * 40)\n",
    "model = load_model_lightning(config[\"model\"], load_dir=log_save_dir)"
   ]
  },
  {
   "cell_type": "code",
   "execution_count": 7,
   "metadata": {},
   "outputs": [
    {
     "name": "stdout",
     "output_type": "stream",
     "text": [
      ">>>>>>>>>>>>>>>>>>>>>>>>>>>>>>>>>>>>>>>>model_parameters<<<<<<<<<<<<<<<<<<<<<<<<<<<<<<<<<<<<<<<<\n",
      "Total number of parameters:  1443137\n"
     ]
    }
   ],
   "source": [
    "# print number of parameters \n",
    "print(\">\" * 40 + \"model_parameters\" + \"<\" * 40)\n",
    "print(\"Total number of parameters: \", sum(p.numel() for p in model.parameters()))"
   ]
  },
  {
   "cell_type": "code",
   "execution_count": 8,
   "metadata": {},
   "outputs": [
    {
     "name": "stderr",
     "output_type": "stream",
     "text": [
      "Using bfloat16 Automatic Mixed Precision (AMP)\n",
      "GPU available: True (cuda), used: True\n",
      "TPU available: False, using: 0 TPU cores\n",
      "IPU available: False, using: 0 IPUs\n",
      "HPU available: False, using: 0 HPUs\n",
      "/home/santiagovargas/anaconda3/envs/qtaim_embed/lib/python3.11/site-packages/pytorch_lightning/callbacks/model_checkpoint.py:617: UserWarning: Checkpoint directory /home/santiagovargas/dev/qtaim_embed/qtaim_embed/scripts/notebooks/manual_eval/model_log exists and is not empty.\n",
      "  rank_zero_warn(f\"Checkpoint directory {dirpath} exists and is not empty.\")\n",
      "LOCAL_RANK: 0 - CUDA_VISIBLE_DEVICES: [0,1]\n",
      "\n",
      "   | Name            | Type              | Params\n",
      "-------------------------------------------------------\n",
      "0  | embedding       | UnifySize         | 320   \n",
      "1  | gated_layers    | ModuleList        | 190 K \n",
      "2  | readout_layer   | Set2SetThenCat    | 395 K \n",
      "3  | fc_layers       | ModuleList        | 857 K \n",
      "4  | loss            | MeanSquaredError  | 0     \n",
      "5  | train_r2        | R2Score           | 0     \n",
      "6  | train_torch_l1  | MeanAbsoluteError | 0     \n",
      "7  | train_torch_mse | MeanSquaredError  | 0     \n",
      "8  | val_r2          | R2Score           | 0     \n",
      "9  | val_torch_l1    | MeanAbsoluteError | 0     \n",
      "10 | val_torch_mse   | MeanSquaredError  | 0     \n",
      "11 | test_r2         | R2Score           | 0     \n",
      "12 | test_torch_l1   | MeanAbsoluteError | 0     \n",
      "13 | test_torch_mse  | MeanSquaredError  | 0     \n",
      "-------------------------------------------------------\n",
      "1.4 M     Trainable params\n",
      "0         Non-trainable params\n",
      "1.4 M     Total params\n",
      "5.773     Total estimated model params size (MB)\n"
     ]
    },
    {
     "data": {
      "application/vnd.jupyter.widget-view+json": {
       "model_id": "17bc85d4b5f4439eb9e92ad8f1e58399",
       "version_major": 2,
       "version_minor": 0
      },
      "text/plain": [
       "Sanity Checking: 0it [00:00, ?it/s]"
      ]
     },
     "metadata": {},
     "output_type": "display_data"
    },
    {
     "name": "stderr",
     "output_type": "stream",
     "text": [
      "/home/santiagovargas/anaconda3/envs/qtaim_embed/lib/python3.11/site-packages/pytorch_lightning/trainer/connectors/data_connector.py:442: PossibleUserWarning: The dataloader, val_dataloader, does not have many workers which may be a bottleneck. Consider increasing the value of the `num_workers` argument` (try 32 which is the number of cpus on this machine) in the `DataLoader` init to improve performance.\n",
      "  rank_zero_warn(\n",
      "/home/santiagovargas/anaconda3/envs/qtaim_embed/lib/python3.11/site-packages/pytorch_lightning/trainer/connectors/data_connector.py:442: PossibleUserWarning: The dataloader, train_dataloader, does not have many workers which may be a bottleneck. Consider increasing the value of the `num_workers` argument` (try 32 which is the number of cpus on this machine) in the `DataLoader` init to improve performance.\n",
      "  rank_zero_warn(\n",
      "/home/santiagovargas/anaconda3/envs/qtaim_embed/lib/python3.11/site-packages/pytorch_lightning/loops/fit_loop.py:281: PossibleUserWarning: The number of training batches (13) is smaller than the logging interval Trainer(log_every_n_steps=50). Set a lower value for log_every_n_steps if you want to see logs for the training epoch.\n",
      "  rank_zero_warn(\n"
     ]
    },
    {
     "data": {
      "application/vnd.jupyter.widget-view+json": {
       "model_id": "abf5d537cd774d1690b941c06d02b56f",
       "version_major": 2,
       "version_minor": 0
      },
      "text/plain": [
       "Training: 0it [00:00, ?it/s]"
      ]
     },
     "metadata": {},
     "output_type": "display_data"
    },
    {
     "data": {
      "application/vnd.jupyter.widget-view+json": {
       "model_id": "401fb0b1e07c440ea9114e3a537afab3",
       "version_major": 2,
       "version_minor": 0
      },
      "text/plain": [
       "Validation: 0it [00:00, ?it/s]"
      ]
     },
     "metadata": {},
     "output_type": "display_data"
    },
    {
     "data": {
      "application/vnd.jupyter.widget-view+json": {
       "model_id": "95776e85ad724947bbe6f3af36d6cbaa",
       "version_major": 2,
       "version_minor": 0
      },
      "text/plain": [
       "Validation: 0it [00:00, ?it/s]"
      ]
     },
     "metadata": {},
     "output_type": "display_data"
    },
    {
     "data": {
      "application/vnd.jupyter.widget-view+json": {
       "model_id": "c1cdf2f96b11452297441dfa34e6b9c9",
       "version_major": 2,
       "version_minor": 0
      },
      "text/plain": [
       "Validation: 0it [00:00, ?it/s]"
      ]
     },
     "metadata": {},
     "output_type": "display_data"
    },
    {
     "data": {
      "application/vnd.jupyter.widget-view+json": {
       "model_id": "f7f95d2e3b9c4d8da8003df7ae8d3324",
       "version_major": 2,
       "version_minor": 0
      },
      "text/plain": [
       "Validation: 0it [00:00, ?it/s]"
      ]
     },
     "metadata": {},
     "output_type": "display_data"
    },
    {
     "data": {
      "application/vnd.jupyter.widget-view+json": {
       "model_id": "908a59114c3943eba0944a5c0419acdc",
       "version_major": 2,
       "version_minor": 0
      },
      "text/plain": [
       "Validation: 0it [00:00, ?it/s]"
      ]
     },
     "metadata": {},
     "output_type": "display_data"
    },
    {
     "data": {
      "application/vnd.jupyter.widget-view+json": {
       "model_id": "e39d9796c54342e8812e8342e55095c7",
       "version_major": 2,
       "version_minor": 0
      },
      "text/plain": [
       "Validation: 0it [00:00, ?it/s]"
      ]
     },
     "metadata": {},
     "output_type": "display_data"
    },
    {
     "data": {
      "application/vnd.jupyter.widget-view+json": {
       "model_id": "d8cdd106bcff4025884d8789362d5e8e",
       "version_major": 2,
       "version_minor": 0
      },
      "text/plain": [
       "Validation: 0it [00:00, ?it/s]"
      ]
     },
     "metadata": {},
     "output_type": "display_data"
    },
    {
     "data": {
      "application/vnd.jupyter.widget-view+json": {
       "model_id": "40ab4b89e7314a8b9e4c0c712328e101",
       "version_major": 2,
       "version_minor": 0
      },
      "text/plain": [
       "Validation: 0it [00:00, ?it/s]"
      ]
     },
     "metadata": {},
     "output_type": "display_data"
    },
    {
     "data": {
      "application/vnd.jupyter.widget-view+json": {
       "model_id": "4bbfe17494c84f5b85c900095f1dfb38",
       "version_major": 2,
       "version_minor": 0
      },
      "text/plain": [
       "Validation: 0it [00:00, ?it/s]"
      ]
     },
     "metadata": {},
     "output_type": "display_data"
    },
    {
     "data": {
      "application/vnd.jupyter.widget-view+json": {
       "model_id": "ab31df9f13214a6ba6ea49de4507c1eb",
       "version_major": 2,
       "version_minor": 0
      },
      "text/plain": [
       "Validation: 0it [00:00, ?it/s]"
      ]
     },
     "metadata": {},
     "output_type": "display_data"
    },
    {
     "data": {
      "application/vnd.jupyter.widget-view+json": {
       "model_id": "bd26908056b74c8aa5b2bb56e2e8974f",
       "version_major": 2,
       "version_minor": 0
      },
      "text/plain": [
       "Validation: 0it [00:00, ?it/s]"
      ]
     },
     "metadata": {},
     "output_type": "display_data"
    },
    {
     "data": {
      "application/vnd.jupyter.widget-view+json": {
       "model_id": "a1ef95171f0d4d358836eab90d4ce573",
       "version_major": 2,
       "version_minor": 0
      },
      "text/plain": [
       "Validation: 0it [00:00, ?it/s]"
      ]
     },
     "metadata": {},
     "output_type": "display_data"
    },
    {
     "data": {
      "application/vnd.jupyter.widget-view+json": {
       "model_id": "f899605ad127479190cbcbc45919a691",
       "version_major": 2,
       "version_minor": 0
      },
      "text/plain": [
       "Validation: 0it [00:00, ?it/s]"
      ]
     },
     "metadata": {},
     "output_type": "display_data"
    },
    {
     "data": {
      "application/vnd.jupyter.widget-view+json": {
       "model_id": "0a6c701a832c445e8ce23c90bff3b855",
       "version_major": 2,
       "version_minor": 0
      },
      "text/plain": [
       "Validation: 0it [00:00, ?it/s]"
      ]
     },
     "metadata": {},
     "output_type": "display_data"
    },
    {
     "data": {
      "application/vnd.jupyter.widget-view+json": {
       "model_id": "8e96c80df1f6439b92f55d053ac81123",
       "version_major": 2,
       "version_minor": 0
      },
      "text/plain": [
       "Validation: 0it [00:00, ?it/s]"
      ]
     },
     "metadata": {},
     "output_type": "display_data"
    },
    {
     "data": {
      "application/vnd.jupyter.widget-view+json": {
       "model_id": "183009df289f4e81a78ce8351af784b2",
       "version_major": 2,
       "version_minor": 0
      },
      "text/plain": [
       "Validation: 0it [00:00, ?it/s]"
      ]
     },
     "metadata": {},
     "output_type": "display_data"
    },
    {
     "data": {
      "application/vnd.jupyter.widget-view+json": {
       "model_id": "06d74451cb24404eab21189765757d33",
       "version_major": 2,
       "version_minor": 0
      },
      "text/plain": [
       "Validation: 0it [00:00, ?it/s]"
      ]
     },
     "metadata": {},
     "output_type": "display_data"
    },
    {
     "data": {
      "application/vnd.jupyter.widget-view+json": {
       "model_id": "7f09d8d356be42ad917566832ecde62f",
       "version_major": 2,
       "version_minor": 0
      },
      "text/plain": [
       "Validation: 0it [00:00, ?it/s]"
      ]
     },
     "metadata": {},
     "output_type": "display_data"
    },
    {
     "data": {
      "application/vnd.jupyter.widget-view+json": {
       "model_id": "97e3883d138547678bcd01adb914a483",
       "version_major": 2,
       "version_minor": 0
      },
      "text/plain": [
       "Validation: 0it [00:00, ?it/s]"
      ]
     },
     "metadata": {},
     "output_type": "display_data"
    },
    {
     "data": {
      "application/vnd.jupyter.widget-view+json": {
       "model_id": "0cd34fa0c89b46e2a53b986d40c058c4",
       "version_major": 2,
       "version_minor": 0
      },
      "text/plain": [
       "Validation: 0it [00:00, ?it/s]"
      ]
     },
     "metadata": {},
     "output_type": "display_data"
    },
    {
     "data": {
      "application/vnd.jupyter.widget-view+json": {
       "model_id": "dd5d965262d2465d838a3074eb043551",
       "version_major": 2,
       "version_minor": 0
      },
      "text/plain": [
       "Validation: 0it [00:00, ?it/s]"
      ]
     },
     "metadata": {},
     "output_type": "display_data"
    },
    {
     "data": {
      "application/vnd.jupyter.widget-view+json": {
       "model_id": "ebd46d1d310840ddb987d1132ced1020",
       "version_major": 2,
       "version_minor": 0
      },
      "text/plain": [
       "Validation: 0it [00:00, ?it/s]"
      ]
     },
     "metadata": {},
     "output_type": "display_data"
    },
    {
     "data": {
      "application/vnd.jupyter.widget-view+json": {
       "model_id": "56f652f144b94c4f9674b6629f655342",
       "version_major": 2,
       "version_minor": 0
      },
      "text/plain": [
       "Validation: 0it [00:00, ?it/s]"
      ]
     },
     "metadata": {},
     "output_type": "display_data"
    },
    {
     "data": {
      "application/vnd.jupyter.widget-view+json": {
       "model_id": "756a1fe56e70489591ad2570428db712",
       "version_major": 2,
       "version_minor": 0
      },
      "text/plain": [
       "Validation: 0it [00:00, ?it/s]"
      ]
     },
     "metadata": {},
     "output_type": "display_data"
    },
    {
     "data": {
      "application/vnd.jupyter.widget-view+json": {
       "model_id": "73c8506e1fb54e21a2fbebc963881b33",
       "version_major": 2,
       "version_minor": 0
      },
      "text/plain": [
       "Validation: 0it [00:00, ?it/s]"
      ]
     },
     "metadata": {},
     "output_type": "display_data"
    },
    {
     "data": {
      "application/vnd.jupyter.widget-view+json": {
       "model_id": "bf908f086f4b45409dc41742c0b21ed8",
       "version_major": 2,
       "version_minor": 0
      },
      "text/plain": [
       "Validation: 0it [00:00, ?it/s]"
      ]
     },
     "metadata": {},
     "output_type": "display_data"
    },
    {
     "data": {
      "application/vnd.jupyter.widget-view+json": {
       "model_id": "66a91bdedb8d42268c7de40c7cfbe05e",
       "version_major": 2,
       "version_minor": 0
      },
      "text/plain": [
       "Validation: 0it [00:00, ?it/s]"
      ]
     },
     "metadata": {},
     "output_type": "display_data"
    },
    {
     "data": {
      "application/vnd.jupyter.widget-view+json": {
       "model_id": "79059deb635f456193cea1ae5e0afa98",
       "version_major": 2,
       "version_minor": 0
      },
      "text/plain": [
       "Validation: 0it [00:00, ?it/s]"
      ]
     },
     "metadata": {},
     "output_type": "display_data"
    },
    {
     "data": {
      "application/vnd.jupyter.widget-view+json": {
       "model_id": "f89a8d49c3974f109d1f85ed527120b4",
       "version_major": 2,
       "version_minor": 0
      },
      "text/plain": [
       "Validation: 0it [00:00, ?it/s]"
      ]
     },
     "metadata": {},
     "output_type": "display_data"
    },
    {
     "data": {
      "application/vnd.jupyter.widget-view+json": {
       "model_id": "03520e0b422f431fa399e2289176e4d9",
       "version_major": 2,
       "version_minor": 0
      },
      "text/plain": [
       "Validation: 0it [00:00, ?it/s]"
      ]
     },
     "metadata": {},
     "output_type": "display_data"
    },
    {
     "data": {
      "application/vnd.jupyter.widget-view+json": {
       "model_id": "7ddfa79d3ab24361bc5193b7e31cb7a1",
       "version_major": 2,
       "version_minor": 0
      },
      "text/plain": [
       "Validation: 0it [00:00, ?it/s]"
      ]
     },
     "metadata": {},
     "output_type": "display_data"
    },
    {
     "data": {
      "application/vnd.jupyter.widget-view+json": {
       "model_id": "2162dae7ec37445d9b2eea1155ed948e",
       "version_major": 2,
       "version_minor": 0
      },
      "text/plain": [
       "Validation: 0it [00:00, ?it/s]"
      ]
     },
     "metadata": {},
     "output_type": "display_data"
    },
    {
     "data": {
      "application/vnd.jupyter.widget-view+json": {
       "model_id": "f30bb78f241347c7b4a5ecf50c8bf9f0",
       "version_major": 2,
       "version_minor": 0
      },
      "text/plain": [
       "Validation: 0it [00:00, ?it/s]"
      ]
     },
     "metadata": {},
     "output_type": "display_data"
    },
    {
     "data": {
      "application/vnd.jupyter.widget-view+json": {
       "model_id": "6f85e32c2a4147fc93dc5040b5a9781a",
       "version_major": 2,
       "version_minor": 0
      },
      "text/plain": [
       "Validation: 0it [00:00, ?it/s]"
      ]
     },
     "metadata": {},
     "output_type": "display_data"
    },
    {
     "data": {
      "application/vnd.jupyter.widget-view+json": {
       "model_id": "615b19b9d3ee455987623e1f279dec47",
       "version_major": 2,
       "version_minor": 0
      },
      "text/plain": [
       "Validation: 0it [00:00, ?it/s]"
      ]
     },
     "metadata": {},
     "output_type": "display_data"
    },
    {
     "data": {
      "application/vnd.jupyter.widget-view+json": {
       "model_id": "e22d84a7ec0f4d4f82c289a3c62f4495",
       "version_major": 2,
       "version_minor": 0
      },
      "text/plain": [
       "Validation: 0it [00:00, ?it/s]"
      ]
     },
     "metadata": {},
     "output_type": "display_data"
    },
    {
     "data": {
      "application/vnd.jupyter.widget-view+json": {
       "model_id": "9f923bb95409489d82b923225030c13f",
       "version_major": 2,
       "version_minor": 0
      },
      "text/plain": [
       "Validation: 0it [00:00, ?it/s]"
      ]
     },
     "metadata": {},
     "output_type": "display_data"
    },
    {
     "data": {
      "application/vnd.jupyter.widget-view+json": {
       "model_id": "fe733466dc464d61a592d0828ab4fead",
       "version_major": 2,
       "version_minor": 0
      },
      "text/plain": [
       "Validation: 0it [00:00, ?it/s]"
      ]
     },
     "metadata": {},
     "output_type": "display_data"
    },
    {
     "data": {
      "application/vnd.jupyter.widget-view+json": {
       "model_id": "f8ed36c196a548f1b5970312a2ce7cc9",
       "version_major": 2,
       "version_minor": 0
      },
      "text/plain": [
       "Validation: 0it [00:00, ?it/s]"
      ]
     },
     "metadata": {},
     "output_type": "display_data"
    },
    {
     "data": {
      "application/vnd.jupyter.widget-view+json": {
       "model_id": "6cb24fa4bff34c4a9534a24a531b3147",
       "version_major": 2,
       "version_minor": 0
      },
      "text/plain": [
       "Validation: 0it [00:00, ?it/s]"
      ]
     },
     "metadata": {},
     "output_type": "display_data"
    },
    {
     "data": {
      "application/vnd.jupyter.widget-view+json": {
       "model_id": "51a6be8502494f899b3224772926eaa3",
       "version_major": 2,
       "version_minor": 0
      },
      "text/plain": [
       "Validation: 0it [00:00, ?it/s]"
      ]
     },
     "metadata": {},
     "output_type": "display_data"
    },
    {
     "data": {
      "application/vnd.jupyter.widget-view+json": {
       "model_id": "8bd0b8c2d02c4687b8d79ca014bdc39a",
       "version_major": 2,
       "version_minor": 0
      },
      "text/plain": [
       "Validation: 0it [00:00, ?it/s]"
      ]
     },
     "metadata": {},
     "output_type": "display_data"
    },
    {
     "data": {
      "application/vnd.jupyter.widget-view+json": {
       "model_id": "01b54c2cb21440e2a03c3b888a442fe0",
       "version_major": 2,
       "version_minor": 0
      },
      "text/plain": [
       "Validation: 0it [00:00, ?it/s]"
      ]
     },
     "metadata": {},
     "output_type": "display_data"
    },
    {
     "data": {
      "application/vnd.jupyter.widget-view+json": {
       "model_id": "b23b5e80b6d64e7798ed41d17f6a7cad",
       "version_major": 2,
       "version_minor": 0
      },
      "text/plain": [
       "Validation: 0it [00:00, ?it/s]"
      ]
     },
     "metadata": {},
     "output_type": "display_data"
    },
    {
     "data": {
      "application/vnd.jupyter.widget-view+json": {
       "model_id": "b065b72ba1b14238aba36f0b2bb6c06a",
       "version_major": 2,
       "version_minor": 0
      },
      "text/plain": [
       "Validation: 0it [00:00, ?it/s]"
      ]
     },
     "metadata": {},
     "output_type": "display_data"
    },
    {
     "data": {
      "application/vnd.jupyter.widget-view+json": {
       "model_id": "555cfa5948ac4299bc0e072976449c02",
       "version_major": 2,
       "version_minor": 0
      },
      "text/plain": [
       "Validation: 0it [00:00, ?it/s]"
      ]
     },
     "metadata": {},
     "output_type": "display_data"
    },
    {
     "data": {
      "application/vnd.jupyter.widget-view+json": {
       "model_id": "0401366ec68b4cfba5734460b2e7cb6b",
       "version_major": 2,
       "version_minor": 0
      },
      "text/plain": [
       "Validation: 0it [00:00, ?it/s]"
      ]
     },
     "metadata": {},
     "output_type": "display_data"
    },
    {
     "data": {
      "application/vnd.jupyter.widget-view+json": {
       "model_id": "7456ec4dd2a6438b81da05ac952906b2",
       "version_major": 2,
       "version_minor": 0
      },
      "text/plain": [
       "Validation: 0it [00:00, ?it/s]"
      ]
     },
     "metadata": {},
     "output_type": "display_data"
    },
    {
     "data": {
      "application/vnd.jupyter.widget-view+json": {
       "model_id": "c3d024bcab8d40c28d8edee161da5804",
       "version_major": 2,
       "version_minor": 0
      },
      "text/plain": [
       "Validation: 0it [00:00, ?it/s]"
      ]
     },
     "metadata": {},
     "output_type": "display_data"
    },
    {
     "data": {
      "application/vnd.jupyter.widget-view+json": {
       "model_id": "0c698df7d0ec4948abda81312c41ea9c",
       "version_major": 2,
       "version_minor": 0
      },
      "text/plain": [
       "Validation: 0it [00:00, ?it/s]"
      ]
     },
     "metadata": {},
     "output_type": "display_data"
    },
    {
     "data": {
      "application/vnd.jupyter.widget-view+json": {
       "model_id": "510e77155ca04f45a5ad929563ec3de2",
       "version_major": 2,
       "version_minor": 0
      },
      "text/plain": [
       "Validation: 0it [00:00, ?it/s]"
      ]
     },
     "metadata": {},
     "output_type": "display_data"
    },
    {
     "data": {
      "application/vnd.jupyter.widget-view+json": {
       "model_id": "c263507ae5224156b0d91a1183963029",
       "version_major": 2,
       "version_minor": 0
      },
      "text/plain": [
       "Validation: 0it [00:00, ?it/s]"
      ]
     },
     "metadata": {},
     "output_type": "display_data"
    },
    {
     "data": {
      "application/vnd.jupyter.widget-view+json": {
       "model_id": "0dbe9f62752342dca0c17ada0406f95d",
       "version_major": 2,
       "version_minor": 0
      },
      "text/plain": [
       "Validation: 0it [00:00, ?it/s]"
      ]
     },
     "metadata": {},
     "output_type": "display_data"
    },
    {
     "name": "stdout",
     "output_type": "stream",
     "text": [
      "Epoch 00053: reducing learning rate of group 0 to 4.0000e-04.\n"
     ]
    },
    {
     "data": {
      "application/vnd.jupyter.widget-view+json": {
       "model_id": "1027b0acf24140eca5c65700f69c1079",
       "version_major": 2,
       "version_minor": 0
      },
      "text/plain": [
       "Validation: 0it [00:00, ?it/s]"
      ]
     },
     "metadata": {},
     "output_type": "display_data"
    },
    {
     "data": {
      "application/vnd.jupyter.widget-view+json": {
       "model_id": "f7dfab01b3c648aa911539165a3bbc61",
       "version_major": 2,
       "version_minor": 0
      },
      "text/plain": [
       "Validation: 0it [00:00, ?it/s]"
      ]
     },
     "metadata": {},
     "output_type": "display_data"
    },
    {
     "data": {
      "application/vnd.jupyter.widget-view+json": {
       "model_id": "264e61a039864ed0b017d6f667268c8d",
       "version_major": 2,
       "version_minor": 0
      },
      "text/plain": [
       "Validation: 0it [00:00, ?it/s]"
      ]
     },
     "metadata": {},
     "output_type": "display_data"
    },
    {
     "data": {
      "application/vnd.jupyter.widget-view+json": {
       "model_id": "a6c8632d0bb04e6ea9087fd73de6e8a5",
       "version_major": 2,
       "version_minor": 0
      },
      "text/plain": [
       "Validation: 0it [00:00, ?it/s]"
      ]
     },
     "metadata": {},
     "output_type": "display_data"
    },
    {
     "data": {
      "application/vnd.jupyter.widget-view+json": {
       "model_id": "26211ace4f67493a82f482a1c38b38e4",
       "version_major": 2,
       "version_minor": 0
      },
      "text/plain": [
       "Validation: 0it [00:00, ?it/s]"
      ]
     },
     "metadata": {},
     "output_type": "display_data"
    },
    {
     "data": {
      "application/vnd.jupyter.widget-view+json": {
       "model_id": "444f36829b83427a82d6f84134b595f0",
       "version_major": 2,
       "version_minor": 0
      },
      "text/plain": [
       "Validation: 0it [00:00, ?it/s]"
      ]
     },
     "metadata": {},
     "output_type": "display_data"
    },
    {
     "data": {
      "application/vnd.jupyter.widget-view+json": {
       "model_id": "be5e610c41c046e1b8e2e2a5a3724974",
       "version_major": 2,
       "version_minor": 0
      },
      "text/plain": [
       "Validation: 0it [00:00, ?it/s]"
      ]
     },
     "metadata": {},
     "output_type": "display_data"
    },
    {
     "data": {
      "application/vnd.jupyter.widget-view+json": {
       "model_id": "718f65bfdaca4bd7b5baea2ef19caff6",
       "version_major": 2,
       "version_minor": 0
      },
      "text/plain": [
       "Validation: 0it [00:00, ?it/s]"
      ]
     },
     "metadata": {},
     "output_type": "display_data"
    },
    {
     "data": {
      "application/vnd.jupyter.widget-view+json": {
       "model_id": "2323798e202143a294bccea0c427f184",
       "version_major": 2,
       "version_minor": 0
      },
      "text/plain": [
       "Validation: 0it [00:00, ?it/s]"
      ]
     },
     "metadata": {},
     "output_type": "display_data"
    },
    {
     "data": {
      "application/vnd.jupyter.widget-view+json": {
       "model_id": "2198e27b750b45858606e1925555456c",
       "version_major": 2,
       "version_minor": 0
      },
      "text/plain": [
       "Validation: 0it [00:00, ?it/s]"
      ]
     },
     "metadata": {},
     "output_type": "display_data"
    },
    {
     "data": {
      "application/vnd.jupyter.widget-view+json": {
       "model_id": "cc90e601cfc242a49835d654dbce6a3c",
       "version_major": 2,
       "version_minor": 0
      },
      "text/plain": [
       "Validation: 0it [00:00, ?it/s]"
      ]
     },
     "metadata": {},
     "output_type": "display_data"
    },
    {
     "data": {
      "application/vnd.jupyter.widget-view+json": {
       "model_id": "287c836d60e4451fa3124253d243afce",
       "version_major": 2,
       "version_minor": 0
      },
      "text/plain": [
       "Validation: 0it [00:00, ?it/s]"
      ]
     },
     "metadata": {},
     "output_type": "display_data"
    },
    {
     "data": {
      "application/vnd.jupyter.widget-view+json": {
       "model_id": "250b05cccf434b51b0387b598ff2ba52",
       "version_major": 2,
       "version_minor": 0
      },
      "text/plain": [
       "Validation: 0it [00:00, ?it/s]"
      ]
     },
     "metadata": {},
     "output_type": "display_data"
    },
    {
     "data": {
      "application/vnd.jupyter.widget-view+json": {
       "model_id": "e4bcac5e28d7490b93e8ff136759c60d",
       "version_major": 2,
       "version_minor": 0
      },
      "text/plain": [
       "Validation: 0it [00:00, ?it/s]"
      ]
     },
     "metadata": {},
     "output_type": "display_data"
    },
    {
     "data": {
      "application/vnd.jupyter.widget-view+json": {
       "model_id": "9a6f38c9d2604a4e91d764d55374b19f",
       "version_major": 2,
       "version_minor": 0
      },
      "text/plain": [
       "Validation: 0it [00:00, ?it/s]"
      ]
     },
     "metadata": {},
     "output_type": "display_data"
    },
    {
     "data": {
      "application/vnd.jupyter.widget-view+json": {
       "model_id": "7602c91aeee24d65b3807a3ddc7c3f6e",
       "version_major": 2,
       "version_minor": 0
      },
      "text/plain": [
       "Validation: 0it [00:00, ?it/s]"
      ]
     },
     "metadata": {},
     "output_type": "display_data"
    },
    {
     "data": {
      "application/vnd.jupyter.widget-view+json": {
       "model_id": "162c9a3dbbfc484bba322b6a2fb5d029",
       "version_major": 2,
       "version_minor": 0
      },
      "text/plain": [
       "Validation: 0it [00:00, ?it/s]"
      ]
     },
     "metadata": {},
     "output_type": "display_data"
    },
    {
     "data": {
      "application/vnd.jupyter.widget-view+json": {
       "model_id": "c036cd2c34974df9b3cb9cb9d76f443e",
       "version_major": 2,
       "version_minor": 0
      },
      "text/plain": [
       "Validation: 0it [00:00, ?it/s]"
      ]
     },
     "metadata": {},
     "output_type": "display_data"
    },
    {
     "data": {
      "application/vnd.jupyter.widget-view+json": {
       "model_id": "61257fe601c14232b9f0dd89ef252c44",
       "version_major": 2,
       "version_minor": 0
      },
      "text/plain": [
       "Validation: 0it [00:00, ?it/s]"
      ]
     },
     "metadata": {},
     "output_type": "display_data"
    },
    {
     "data": {
      "application/vnd.jupyter.widget-view+json": {
       "model_id": "2bac39dfb26a4d7f93207297feeeb0d2",
       "version_major": 2,
       "version_minor": 0
      },
      "text/plain": [
       "Validation: 0it [00:00, ?it/s]"
      ]
     },
     "metadata": {},
     "output_type": "display_data"
    },
    {
     "data": {
      "application/vnd.jupyter.widget-view+json": {
       "model_id": "7e45e6291ce04ca19393e51ad82ef58e",
       "version_major": 2,
       "version_minor": 0
      },
      "text/plain": [
       "Validation: 0it [00:00, ?it/s]"
      ]
     },
     "metadata": {},
     "output_type": "display_data"
    },
    {
     "data": {
      "application/vnd.jupyter.widget-view+json": {
       "model_id": "a3db1c4d455b4f10945f8bd0eec8de76",
       "version_major": 2,
       "version_minor": 0
      },
      "text/plain": [
       "Validation: 0it [00:00, ?it/s]"
      ]
     },
     "metadata": {},
     "output_type": "display_data"
    },
    {
     "data": {
      "application/vnd.jupyter.widget-view+json": {
       "model_id": "d3248c2179274aceaf555be00171c52d",
       "version_major": 2,
       "version_minor": 0
      },
      "text/plain": [
       "Validation: 0it [00:00, ?it/s]"
      ]
     },
     "metadata": {},
     "output_type": "display_data"
    },
    {
     "data": {
      "application/vnd.jupyter.widget-view+json": {
       "model_id": "02f466f667da47aba8288c8491943730",
       "version_major": 2,
       "version_minor": 0
      },
      "text/plain": [
       "Validation: 0it [00:00, ?it/s]"
      ]
     },
     "metadata": {},
     "output_type": "display_data"
    }
   ],
   "source": [
    "log_parameters = LogParameters()\n",
    "logger_tb = TensorBoardLogger(\n",
    "    config[\"dataset\"][\"log_save_dir\"], name=\"test_logs\"\n",
    ")\n",
    "lr_monitor = LearningRateMonitor(logging_interval=\"step\")\n",
    "\n",
    "checkpoint_callback = ModelCheckpoint(\n",
    "    dirpath=config[\"dataset\"][\"log_save_dir\"],\n",
    "    filename=\"model_lightning_{epoch:02d}-{val_l1:.2f}\",\n",
    "    monitor=\"val_l1\",\n",
    "    mode=\"min\",\n",
    "    auto_insert_metric_name=True,\n",
    "    save_last=True,\n",
    ")\n",
    "\n",
    "early_stopping_callback = EarlyStopping(\n",
    "    monitor=\"val_l1\", min_delta=0.00, patience=500, verbose=False, mode=\"min\"\n",
    ")\n",
    "\n",
    "trainer = pl.Trainer(\n",
    "    max_epochs=config[\"model\"][\"max_epochs\"],\n",
    "    accelerator=\"gpu\",\n",
    "    devices=config[\"optim\"][\"num_devices\"],\n",
    "    num_nodes=config[\"optim\"][\"num_nodes\"],\n",
    "    gradient_clip_val=config[\"optim\"][\"gradient_clip_val\"],\n",
    "    accumulate_grad_batches=config[\"optim\"][\"accumulate_grad_batches\"],\n",
    "    enable_progress_bar=True,\n",
    "    callbacks=[\n",
    "        early_stopping_callback,\n",
    "        lr_monitor,\n",
    "        #log_parameters,\n",
    "        checkpoint_callback,\n",
    "    ],\n",
    "    enable_checkpointing=True,\n",
    "    strategy=config[\"optim\"][\"strategy\"],\n",
    "    default_root_dir=config[\"dataset\"][\"log_save_dir\"],\n",
    "    logger=[logger_tb],\n",
    "    precision=config[\"model\"][\"precision\"],\n",
    ")\n",
    "\n",
    "trainer.fit(model, dm)\n",
    "trainer.test(model, dm)"
   ]
  },
  {
   "cell_type": "code",
   "execution_count": null,
   "metadata": {},
   "outputs": [],
   "source": []
  }
 ],
 "metadata": {
  "kernelspec": {
   "display_name": "qtaim_embed",
   "language": "python",
   "name": "python3"
  },
  "language_info": {
   "codemirror_mode": {
    "name": "ipython",
    "version": 3
   },
   "file_extension": ".py",
   "mimetype": "text/x-python",
   "name": "python",
   "nbconvert_exporter": "python",
   "pygments_lexer": "ipython3",
   "version": "3.11.3"
  }
 },
 "nbformat": 4,
 "nbformat_minor": 2
}
