{
 "cells": [
  {
   "cell_type": "code",
   "execution_count": 1,
   "metadata": {},
   "outputs": [],
   "source": [
    "import torch\n",
    "\n",
    "from qtaim_embed.models.utils import load_graph_level_model_from_config\n",
    "from qtaim_embed.utils.tests import get_dataset_graph_level\n",
    "from qtaim_embed.data.dataloader import DataLoaderMoleculeGraphTask\n",
    "from qtaim_embed.utils.data import get_default_graph_level_config\n",
    "from qtaim_embed.core.dataset import HeteroGraphGraphLabelDataset"
   ]
  },
  {
   "cell_type": "code",
   "execution_count": 2,
   "metadata": {},
   "outputs": [
    {
     "name": "stdout",
     "output_type": "stream",
     "text": [
      "'model_lightning_epoch=1024-val_mae=0.01.ckpt'\n",
      "'model_lightning_epoch=1103-val_mae=0.00.ckpt'\n",
      "'model_lightning_epoch=1219-val_mae=0.01.ckpt'\n",
      "'model_lightning_epoch=146-val_mae=0.01.ckpt'\n",
      "'model_lightning_epoch=1496-val_mae=0.00.ckpt'\n",
      "'model_lightning_epoch=1500-val_mae=0.00.ckpt'\n",
      "'model_lightning_epoch=1520-val_mae=0.01.ckpt'\n",
      "'model_lightning_epoch=166-val_mae=0.01.ckpt'\n",
      "'model_lightning_epoch=220-val_mae=0.01.ckpt'\n",
      "'model_lightning_epoch=248-val_mae=0.01.ckpt'\n",
      "'model_lightning_epoch=288-val_mae=0.01.ckpt'\n",
      "'model_lightning_epoch=291-val_mae=0.01.ckpt'\n",
      "'model_lightning_epoch=306-val_mae=0.01.ckpt'\n",
      "'model_lightning_epoch=323-val_mae=0.01.ckpt'\n",
      "'model_lightning_epoch=330-val_mae=0.01.ckpt'\n",
      "'model_lightning_epoch=375-val_mae=0.00.ckpt'\n",
      "'model_lightning_epoch=388-val_mae=0.01.ckpt'\n",
      "'model_lightning_epoch=401-val_mae=0.01.ckpt'\n",
      "'model_lightning_epoch=404-val_mae=0.01.ckpt'\n",
      "'model_lightning_epoch=421-val_mae=0.00.ckpt'\n",
      "'model_lightning_epoch=444-val_mae=0.01.ckpt'\n",
      "'model_lightning_epoch=485-val_mae=0.01.ckpt'\n",
      "'model_lightning_epoch=488-val_mae=0.01.ckpt'\n",
      "'model_lightning_epoch=494-val_mae=0.01.ckpt'\n",
      "'model_lightning_epoch=498-val_mae=0.01.ckpt'\n",
      "'model_lightning_epoch=516-val_mae=0.01.ckpt'\n",
      "'model_lightning_epoch=522-val_mae=0.01.ckpt'\n",
      "'model_lightning_epoch=523-val_mae=0.01.ckpt'\n",
      "'model_lightning_epoch=623-val_mae=0.01.ckpt'\n",
      "'model_lightning_epoch=635-val_mae=0.01.ckpt'\n",
      "'model_lightning_epoch=644-val_mae=0.01.ckpt'\n",
      "'model_lightning_epoch=661-val_mae=0.01.ckpt'\n",
      "'model_lightning_epoch=677-val_mae=0.01.ckpt'\n",
      "'model_lightning_epoch=693-val_mae=0.01.ckpt'\n",
      "'model_lightning_epoch=744-val_mae=0.01.ckpt'\n",
      "'model_lightning_epoch=885-val_mae=0.01.ckpt'\n"
     ]
    }
   ],
   "source": [
    "! ls ../../../data/saved_models/1119/libe/"
   ]
  },
  {
   "cell_type": "code",
   "execution_count": 5,
   "metadata": {},
   "outputs": [
    {
     "name": "stdout",
     "output_type": "stream",
     "text": [
      ":::RESTORING MODEL FROM EXISTING FILE:::\n",
      "... > number of tasks: 1\n",
      ":::MODEL LOADED:::\n"
     ]
    }
   ],
   "source": [
    "\n",
    "model_config ={\n",
    "    \"model\": {\n",
    "        \"restore\": True,\n",
    "        \"restore_path\": \"../../../data/saved_models/1119/libe/model_lightning_epoch=1103-val_mae=0.00.ckpt\"\n",
    "    }\n",
    "}\n",
    "model = load_graph_level_model_from_config(model_config[\"model\"])\n"
   ]
  },
  {
   "cell_type": "code",
   "execution_count": null,
   "metadata": {},
   "outputs": [],
   "source": []
  },
  {
   "cell_type": "code",
   "execution_count": 6,
   "metadata": {},
   "outputs": [
    {
     "data": {
      "text/plain": [
       "GCNGraphPred(\n",
       "  (activation): ReLU()\n",
       "  (embedding): UnifySize(\n",
       "    (linears): ModuleDict(\n",
       "      (atom): Linear(in_features=16, out_features=50, bias=False)\n",
       "      (bond): Linear(in_features=8, out_features=50, bias=False)\n",
       "      (global): Linear(in_features=9, out_features=50, bias=False)\n",
       "    )\n",
       "  )\n",
       "  (conv_layers): ModuleList(\n",
       "    (0-3): 4 x ResidualBlock(\n",
       "      (layers): ModuleList(\n",
       "        (0-1): 2 x HeteroGraphConv(\n",
       "          (mods): ModuleDict(\n",
       "            (a2b): GraphConvDropoutBatch(\n",
       "              (graph_conv): GraphConv(\n",
       "                in=50, out=50, normalization=both\n",
       "                (_activation): ReLU()\n",
       "              )\n",
       "              (dropout): Dropout(p=0.2, inplace=False)\n",
       "              (batch_norm): BatchNorm1d(50, eps=1e-05, momentum=0.1, affine=True, track_running_stats=True)\n",
       "            )\n",
       "            (b2a): GraphConvDropoutBatch(\n",
       "              (graph_conv): GraphConv(\n",
       "                in=50, out=50, normalization=both\n",
       "                (_activation): ReLU()\n",
       "              )\n",
       "              (dropout): Dropout(p=0.2, inplace=False)\n",
       "              (batch_norm): BatchNorm1d(50, eps=1e-05, momentum=0.1, affine=True, track_running_stats=True)\n",
       "            )\n",
       "            (a2g): GraphConvDropoutBatch(\n",
       "              (graph_conv): GraphConv(\n",
       "                in=50, out=50, normalization=both\n",
       "                (_activation): ReLU()\n",
       "              )\n",
       "              (dropout): Dropout(p=0.2, inplace=False)\n",
       "              (batch_norm): BatchNorm1d(50, eps=1e-05, momentum=0.1, affine=True, track_running_stats=True)\n",
       "            )\n",
       "            (g2a): GraphConvDropoutBatch(\n",
       "              (graph_conv): GraphConv(\n",
       "                in=50, out=50, normalization=both\n",
       "                (_activation): ReLU()\n",
       "              )\n",
       "              (dropout): Dropout(p=0.2, inplace=False)\n",
       "              (batch_norm): BatchNorm1d(50, eps=1e-05, momentum=0.1, affine=True, track_running_stats=True)\n",
       "            )\n",
       "            (b2g): GraphConvDropoutBatch(\n",
       "              (graph_conv): GraphConv(\n",
       "                in=50, out=50, normalization=both\n",
       "                (_activation): ReLU()\n",
       "              )\n",
       "              (dropout): Dropout(p=0.2, inplace=False)\n",
       "              (batch_norm): BatchNorm1d(50, eps=1e-05, momentum=0.1, affine=True, track_running_stats=True)\n",
       "            )\n",
       "            (g2b): GraphConvDropoutBatch(\n",
       "              (graph_conv): GraphConv(\n",
       "                in=50, out=50, normalization=both\n",
       "                (_activation): ReLU()\n",
       "              )\n",
       "              (dropout): Dropout(p=0.2, inplace=False)\n",
       "              (batch_norm): BatchNorm1d(50, eps=1e-05, momentum=0.1, affine=True, track_running_stats=True)\n",
       "            )\n",
       "            (a2a): GraphConvDropoutBatch(\n",
       "              (graph_conv): GraphConv(\n",
       "                in=50, out=50, normalization=both\n",
       "                (_activation): ReLU()\n",
       "              )\n",
       "              (dropout): Dropout(p=0.2, inplace=False)\n",
       "              (batch_norm): BatchNorm1d(50, eps=1e-05, momentum=0.1, affine=True, track_running_stats=True)\n",
       "            )\n",
       "            (b2b): GraphConvDropoutBatch(\n",
       "              (graph_conv): GraphConv(\n",
       "                in=50, out=50, normalization=both\n",
       "                (_activation): ReLU()\n",
       "              )\n",
       "              (dropout): Dropout(p=0.2, inplace=False)\n",
       "              (batch_norm): BatchNorm1d(50, eps=1e-05, momentum=0.1, affine=True, track_running_stats=True)\n",
       "            )\n",
       "            (g2g): GraphConvDropoutBatch(\n",
       "              (graph_conv): GraphConv(\n",
       "                in=50, out=50, normalization=both\n",
       "                (_activation): ReLU()\n",
       "              )\n",
       "              (dropout): Dropout(p=0.2, inplace=False)\n",
       "              (batch_norm): BatchNorm1d(50, eps=1e-05, momentum=0.1, affine=True, track_running_stats=True)\n",
       "            )\n",
       "          )\n",
       "        )\n",
       "      )\n",
       "    )\n",
       "    (4): ResidualBlock(\n",
       "      (layers): ModuleList(\n",
       "        (0): HeteroGraphConv(\n",
       "          (mods): ModuleDict(\n",
       "            (a2b): GraphConvDropoutBatch(\n",
       "              (graph_conv): GraphConv(\n",
       "                in=50, out=50, normalization=both\n",
       "                (_activation): ReLU()\n",
       "              )\n",
       "              (dropout): Dropout(p=0.2, inplace=False)\n",
       "              (batch_norm): BatchNorm1d(50, eps=1e-05, momentum=0.1, affine=True, track_running_stats=True)\n",
       "            )\n",
       "            (b2a): GraphConvDropoutBatch(\n",
       "              (graph_conv): GraphConv(\n",
       "                in=50, out=50, normalization=both\n",
       "                (_activation): ReLU()\n",
       "              )\n",
       "              (dropout): Dropout(p=0.2, inplace=False)\n",
       "              (batch_norm): BatchNorm1d(50, eps=1e-05, momentum=0.1, affine=True, track_running_stats=True)\n",
       "            )\n",
       "            (a2g): GraphConvDropoutBatch(\n",
       "              (graph_conv): GraphConv(\n",
       "                in=50, out=50, normalization=both\n",
       "                (_activation): ReLU()\n",
       "              )\n",
       "              (dropout): Dropout(p=0.2, inplace=False)\n",
       "              (batch_norm): BatchNorm1d(50, eps=1e-05, momentum=0.1, affine=True, track_running_stats=True)\n",
       "            )\n",
       "            (g2a): GraphConvDropoutBatch(\n",
       "              (graph_conv): GraphConv(\n",
       "                in=50, out=50, normalization=both\n",
       "                (_activation): ReLU()\n",
       "              )\n",
       "              (dropout): Dropout(p=0.2, inplace=False)\n",
       "              (batch_norm): BatchNorm1d(50, eps=1e-05, momentum=0.1, affine=True, track_running_stats=True)\n",
       "            )\n",
       "            (b2g): GraphConvDropoutBatch(\n",
       "              (graph_conv): GraphConv(\n",
       "                in=50, out=50, normalization=both\n",
       "                (_activation): ReLU()\n",
       "              )\n",
       "              (dropout): Dropout(p=0.2, inplace=False)\n",
       "              (batch_norm): BatchNorm1d(50, eps=1e-05, momentum=0.1, affine=True, track_running_stats=True)\n",
       "            )\n",
       "            (g2b): GraphConvDropoutBatch(\n",
       "              (graph_conv): GraphConv(\n",
       "                in=50, out=50, normalization=both\n",
       "                (_activation): ReLU()\n",
       "              )\n",
       "              (dropout): Dropout(p=0.2, inplace=False)\n",
       "              (batch_norm): BatchNorm1d(50, eps=1e-05, momentum=0.1, affine=True, track_running_stats=True)\n",
       "            )\n",
       "            (a2a): GraphConvDropoutBatch(\n",
       "              (graph_conv): GraphConv(\n",
       "                in=50, out=50, normalization=both\n",
       "                (_activation): ReLU()\n",
       "              )\n",
       "              (dropout): Dropout(p=0.2, inplace=False)\n",
       "              (batch_norm): BatchNorm1d(50, eps=1e-05, momentum=0.1, affine=True, track_running_stats=True)\n",
       "            )\n",
       "            (b2b): GraphConvDropoutBatch(\n",
       "              (graph_conv): GraphConv(\n",
       "                in=50, out=50, normalization=both\n",
       "                (_activation): ReLU()\n",
       "              )\n",
       "              (dropout): Dropout(p=0.2, inplace=False)\n",
       "              (batch_norm): BatchNorm1d(50, eps=1e-05, momentum=0.1, affine=True, track_running_stats=True)\n",
       "            )\n",
       "            (g2g): GraphConvDropoutBatch(\n",
       "              (graph_conv): GraphConv(\n",
       "                in=50, out=50, normalization=both\n",
       "                (_activation): ReLU()\n",
       "              )\n",
       "              (dropout): Dropout(p=0.2, inplace=False)\n",
       "              (batch_norm): BatchNorm1d(50, eps=1e-05, momentum=0.1, affine=True, track_running_stats=True)\n",
       "            )\n",
       "          )\n",
       "        )\n",
       "        (1): HeteroGraphConv(\n",
       "          (mods): ModuleDict(\n",
       "            (a2b): GraphConvDropoutBatch(\n",
       "              (graph_conv): GraphConv(\n",
       "                in=50, out=50, normalization=both\n",
       "                (_activation): ReLU()\n",
       "              )\n",
       "              (dropout): Dropout(p=0.2, inplace=False)\n",
       "              (batch_norm): BatchNorm1d(50, eps=1e-05, momentum=0.1, affine=True, track_running_stats=True)\n",
       "            )\n",
       "            (b2a): GraphConvDropoutBatch(\n",
       "              (graph_conv): GraphConv(\n",
       "                in=50, out=50, normalization=both\n",
       "                (_activation): ReLU()\n",
       "              )\n",
       "              (dropout): Dropout(p=0.2, inplace=False)\n",
       "              (batch_norm): BatchNorm1d(50, eps=1e-05, momentum=0.1, affine=True, track_running_stats=True)\n",
       "            )\n",
       "            (a2g): GraphConvDropoutBatch(\n",
       "              (graph_conv): GraphConv(\n",
       "                in=50, out=1, normalization=both\n",
       "                (_activation): ReLU()\n",
       "              )\n",
       "              (dropout): Dropout(p=0.2, inplace=False)\n",
       "              (batch_norm): BatchNorm1d(1, eps=1e-05, momentum=0.1, affine=True, track_running_stats=True)\n",
       "            )\n",
       "            (g2a): GraphConvDropoutBatch(\n",
       "              (graph_conv): GraphConv(\n",
       "                in=50, out=50, normalization=both\n",
       "                (_activation): ReLU()\n",
       "              )\n",
       "              (dropout): Dropout(p=0.2, inplace=False)\n",
       "              (batch_norm): BatchNorm1d(50, eps=1e-05, momentum=0.1, affine=True, track_running_stats=True)\n",
       "            )\n",
       "            (b2g): GraphConvDropoutBatch(\n",
       "              (graph_conv): GraphConv(\n",
       "                in=50, out=1, normalization=both\n",
       "                (_activation): ReLU()\n",
       "              )\n",
       "              (dropout): Dropout(p=0.2, inplace=False)\n",
       "              (batch_norm): BatchNorm1d(1, eps=1e-05, momentum=0.1, affine=True, track_running_stats=True)\n",
       "            )\n",
       "            (g2b): GraphConvDropoutBatch(\n",
       "              (graph_conv): GraphConv(\n",
       "                in=50, out=50, normalization=both\n",
       "                (_activation): ReLU()\n",
       "              )\n",
       "              (dropout): Dropout(p=0.2, inplace=False)\n",
       "              (batch_norm): BatchNorm1d(50, eps=1e-05, momentum=0.1, affine=True, track_running_stats=True)\n",
       "            )\n",
       "            (a2a): GraphConvDropoutBatch(\n",
       "              (graph_conv): GraphConv(\n",
       "                in=50, out=50, normalization=both\n",
       "                (_activation): ReLU()\n",
       "              )\n",
       "              (dropout): Dropout(p=0.2, inplace=False)\n",
       "              (batch_norm): BatchNorm1d(50, eps=1e-05, momentum=0.1, affine=True, track_running_stats=True)\n",
       "            )\n",
       "            (b2b): GraphConvDropoutBatch(\n",
       "              (graph_conv): GraphConv(\n",
       "                in=50, out=50, normalization=both\n",
       "                (_activation): ReLU()\n",
       "              )\n",
       "              (dropout): Dropout(p=0.2, inplace=False)\n",
       "              (batch_norm): BatchNorm1d(50, eps=1e-05, momentum=0.1, affine=True, track_running_stats=True)\n",
       "            )\n",
       "            (g2g): GraphConvDropoutBatch(\n",
       "              (graph_conv): GraphConv(\n",
       "                in=50, out=1, normalization=both\n",
       "                (_activation): ReLU()\n",
       "              )\n",
       "              (dropout): Dropout(p=0.2, inplace=False)\n",
       "              (batch_norm): BatchNorm1d(1, eps=1e-05, momentum=0.1, affine=True, track_running_stats=True)\n",
       "            )\n",
       "          )\n",
       "        )\n",
       "      )\n",
       "    )\n",
       "  )\n",
       "  (readout): WeightAndSumThenCat(\n",
       "    (atom_weighting): ModuleDict(\n",
       "      (atom): Linear(in_features=50, out_features=1, bias=True)\n",
       "      (bond): Linear(in_features=50, out_features=1, bias=True)\n",
       "    )\n",
       "  )\n",
       "  (loss): MeanSquaredError()\n",
       "  (fc_layers): ModuleList(\n",
       "    (0): Linear(in_features=101, out_features=512, bias=True)\n",
       "    (1): ReLU()\n",
       "    (2): Linear(in_features=512, out_features=256, bias=True)\n",
       "    (3): ReLU()\n",
       "    (4): Linear(in_features=256, out_features=128, bias=True)\n",
       "    (5): ReLU()\n",
       "    (6): Linear(in_features=128, out_features=1, bias=True)\n",
       "  )\n",
       "  (train_r2): MultioutputWrapper(\n",
       "    (metrics): ModuleList(\n",
       "      (0): R2Score()\n",
       "    )\n",
       "  )\n",
       "  (train_torch_l1): MultioutputWrapper(\n",
       "    (metrics): ModuleList(\n",
       "      (0): MeanAbsoluteError()\n",
       "    )\n",
       "  )\n",
       "  (train_torch_mse): MultioutputWrapper(\n",
       "    (metrics): ModuleList(\n",
       "      (0): MeanSquaredError()\n",
       "    )\n",
       "  )\n",
       "  (val_r2): MultioutputWrapper(\n",
       "    (metrics): ModuleList(\n",
       "      (0): R2Score()\n",
       "    )\n",
       "  )\n",
       "  (val_torch_l1): MultioutputWrapper(\n",
       "    (metrics): ModuleList(\n",
       "      (0): MeanAbsoluteError()\n",
       "    )\n",
       "  )\n",
       "  (val_torch_mse): MultioutputWrapper(\n",
       "    (metrics): ModuleList(\n",
       "      (0): MeanSquaredError()\n",
       "    )\n",
       "  )\n",
       "  (test_r2): MultioutputWrapper(\n",
       "    (metrics): ModuleList(\n",
       "      (0): R2Score()\n",
       "    )\n",
       "  )\n",
       "  (test_torch_l1): MultioutputWrapper(\n",
       "    (metrics): ModuleList(\n",
       "      (0): MeanAbsoluteError()\n",
       "    )\n",
       "  )\n",
       "  (test_torch_mse): MultioutputWrapper(\n",
       "    (metrics): ModuleList(\n",
       "      (0): MeanSquaredError()\n",
       "    )\n",
       "  )\n",
       ")"
      ]
     },
     "execution_count": 6,
     "metadata": {},
     "output_type": "execute_result"
    }
   ],
   "source": [
    "# move model to cpu\n",
    "model.cpu()"
   ]
  },
  {
   "cell_type": "code",
   "execution_count": 109,
   "metadata": {},
   "outputs": [
    {
     "name": "stdout",
     "output_type": "stream",
     "text": [
      "../../../data/splits_1101/test_libe_qtaim_1029_labelled.pkl\n"
     ]
    }
   ],
   "source": [
    "! ls ../../../data/splits_1101/test_libe_qtaim_1029_labelled.pkl"
   ]
  },
  {
   "cell_type": "code",
   "execution_count": 7,
   "metadata": {},
   "outputs": [
    {
     "name": "stdout",
     "output_type": "stream",
     "text": [
      "... > creating MoleculeWrapper objects\n"
     ]
    },
    {
     "name": "stderr",
     "output_type": "stream",
     "text": [
      "100%|██████████| 1716/1716 [00:00<00:00, 16916.61it/s]\n"
     ]
    },
    {
     "name": "stdout",
     "output_type": "stream",
     "text": [
      "... > bond_feats_error_count:  0\n",
      "... > atom_feats_error_count:  0\n",
      "element set {'H', 'S', 'O', 'C', 'P', 'Li', 'N', 'F'}\n",
      "selected atomic keys []\n",
      "selected bond keys ['bond_length']\n",
      "selected global keys ['shifted_rrho_ev_free_energy', 'charge', 'spin']\n",
      "... > Building graphs and featurizing\n"
     ]
    },
    {
     "name": "stderr",
     "output_type": "stream",
     "text": [
      "100%|██████████| 1716/1716 [00:02<00:00, 662.92it/s]\n"
     ]
    },
    {
     "name": "stdout",
     "output_type": "stream",
     "text": [
      "included in labels\n",
      "{'global': ['shifted_rrho_ev_free_energy']}\n",
      "included in graph features\n",
      "{'atom': ['total_degree', 'total_H', 'is_in_ring', 'ring_size_3', 'ring_size_4', 'ring_size_5', 'ring_size_6', 'ring_size_7', 'chemical_symbol_H', 'chemical_symbol_S', 'chemical_symbol_O', 'chemical_symbol_C', 'chemical_symbol_P', 'chemical_symbol_Li', 'chemical_symbol_N', 'chemical_symbol_F'], 'bond': ['metal bond', 'ring inclusion', 'ring size_3', 'ring size_4', 'ring size_5', 'ring size_6', 'ring size_7', 'bond_length'], 'global': ['num atoms', 'num bonds', 'molecule weight', 'charge one hot', 'charge one hot', 'charge one hot', 'spin one hot', 'spin one hot', 'spin one hot']}\n",
      "original loader node types: dict_keys(['atom', 'bond', 'global'])\n",
      "original loader label types: dict_keys([])\n",
      "include names:  dict_keys(['global'])\n",
      "... > parsing labels and features in graphs\n"
     ]
    },
    {
     "name": "stderr",
     "output_type": "stream",
     "text": [
      "100%|██████████| 1716/1716 [00:00<00:00, 35456.00it/s]\n"
     ]
    },
    {
     "name": "stdout",
     "output_type": "stream",
     "text": [
      "original loader node types: dict_keys(['atom', 'bond', 'global'])\n",
      "original loader label types: dict_keys(['global'])\n",
      "... > Log scaling features\n",
      "... > Log scaling features complete\n",
      "... > Scaling features\n",
      "mean [0.82051049 0.12242161 0.07909777 0.00656382 0.05048244 0.01205826\n",
      " 0.00859197 0.00140127 0.21188614 0.00413005 0.16778314 0.20550669\n",
      " 0.01191076 0.0463524  0.00151189 0.04406612]\n",
      "std [0.5301781  0.31105153 0.22038588 0.06713131 0.1801202  0.09062421\n",
      " 0.07669211 0.0311339  0.3193314  0.05334485 0.29689599 0.31656498\n",
      " 0.09007798 0.17314875 0.03233694 0.16912269]\n",
      "mean [0.         0.09420027 0.00786088 0.05984692 0.01498344 0.01068385\n",
      " 0.00182407 0.86012772]\n",
      "std [0.         0.23753096 0.07339587 0.19468197 0.10080292 0.08538931\n",
      " 0.03551088 0.34877978]\n",
      "Standard deviation for feature 0 is 0.0, smaller than 0.001. You may want to exclude this feature.\n",
      "mean [2.41164055 2.24761734 4.63867565 0.24397488 0.24478275 0.20438955\n",
      " 0.29971749 0.29244671 0.10098298]\n",
      "std [0.37903647 0.42249919 0.41820949 0.33103891 0.33128821 0.31606479\n",
      " 0.34339155 0.34232081 0.24453733]\n",
      "... > Scaling features complete\n",
      "... > feature mean(s): \n",
      " {'atom': tensor([0.8205, 0.1224, 0.0791, 0.0066, 0.0505, 0.0121, 0.0086, 0.0014, 0.2119,\n",
      "        0.0041, 0.1678, 0.2055, 0.0119, 0.0464, 0.0015, 0.0441]), 'bond': tensor([0.0000, 0.0942, 0.0079, 0.0598, 0.0150, 0.0107, 0.0018, 0.8601]), 'global': tensor([2.4116, 2.2476, 4.6387, 0.2440, 0.2448, 0.2044, 0.2997, 0.2924, 0.1010])}\n",
      "... > feature std(s):  \n",
      " {'atom': tensor([0.5302, 0.3111, 0.2204, 0.0671, 0.1801, 0.0906, 0.0767, 0.0311, 0.3193,\n",
      "        0.0533, 0.2969, 0.3166, 0.0901, 0.1731, 0.0323, 0.1691]), 'bond': tensor([0.0010, 0.2375, 0.0734, 0.1947, 0.1008, 0.0854, 0.0355, 0.3488]), 'global': tensor([0.3790, 0.4225, 0.4182, 0.3310, 0.3313, 0.3161, 0.3434, 0.3423, 0.2445])}\n",
      "... > Scaling targets\n",
      "mean [-13381.25870359]\n",
      "std [7416.11105214]\n",
      "... > Scaling targets complete\n",
      "... > feature mean(s): \n",
      " {'global': tensor([-13381.2588])}\n",
      "... > feature std(s):  \n",
      " {'global': tensor([7416.1108])}\n",
      "... > loaded dataset\n",
      "... > creating MoleculeWrapper objects\n"
     ]
    },
    {
     "name": "stderr",
     "output_type": "stream",
     "text": [
      "100%|██████████| 15441/15441 [00:00<00:00, 16563.26it/s]\n"
     ]
    },
    {
     "name": "stdout",
     "output_type": "stream",
     "text": [
      "... > bond_feats_error_count:  0\n",
      "... > atom_feats_error_count:  0\n",
      "element set {'H', 'S', 'O', 'C', 'Li', 'P', 'N', 'F'}\n",
      "selected atomic keys []\n",
      "selected bond keys ['bond_length']\n",
      "selected global keys ['shifted_rrho_ev_free_energy', 'charge', 'spin']\n",
      "... > Building graphs and featurizing\n"
     ]
    },
    {
     "name": "stderr",
     "output_type": "stream",
     "text": [
      "100%|██████████| 15441/15441 [00:24<00:00, 635.20it/s]\n"
     ]
    },
    {
     "name": "stdout",
     "output_type": "stream",
     "text": [
      "included in labels\n",
      "{'global': ['shifted_rrho_ev_free_energy']}\n",
      "included in graph features\n",
      "{'atom': ['total_degree', 'total_H', 'is_in_ring', 'ring_size_3', 'ring_size_4', 'ring_size_5', 'ring_size_6', 'ring_size_7', 'chemical_symbol_H', 'chemical_symbol_S', 'chemical_symbol_O', 'chemical_symbol_C', 'chemical_symbol_Li', 'chemical_symbol_P', 'chemical_symbol_N', 'chemical_symbol_F'], 'bond': ['metal bond', 'ring inclusion', 'ring size_3', 'ring size_4', 'ring size_5', 'ring size_6', 'ring size_7', 'bond_length'], 'global': ['num atoms', 'num bonds', 'molecule weight', 'charge one hot', 'charge one hot', 'charge one hot', 'spin one hot', 'spin one hot', 'spin one hot']}\n",
      "original loader node types: dict_keys(['atom', 'bond', 'global'])\n",
      "original loader label types: dict_keys([])\n",
      "include names:  dict_keys(['global'])\n",
      "... > parsing labels and features in graphs\n"
     ]
    },
    {
     "name": "stderr",
     "output_type": "stream",
     "text": [
      "100%|██████████| 15441/15441 [00:00<00:00, 35328.20it/s]\n"
     ]
    },
    {
     "name": "stdout",
     "output_type": "stream",
     "text": [
      "original loader node types: dict_keys(['atom', 'bond', 'global'])\n",
      "original loader label types: dict_keys(['global'])\n",
      "... > Log scaling features\n",
      "... > Log scaling features complete\n",
      "... > Scaling features\n",
      "mean [0.81882055 0.12294483 0.07864681 0.00636963 0.04923264 0.012599\n",
      " 0.00870874 0.0017368  0.21217394 0.00448019 0.16919955 0.20448417\n",
      " 0.04642736 0.01177804 0.00194719 0.04265673]\n",
      "std [0.52936523 0.31073827 0.21983742 0.06614016 0.17804946 0.09259712\n",
      " 0.0772049  0.03465313 0.31945264 0.05554604 0.29774436 0.31610734\n",
      " 0.17327866 0.08958346 0.03668651 0.1665767 ]\n",
      "mean [0.         0.09396846 0.0077247  0.0588101  0.01550789 0.01058552\n",
      " 0.00231985 0.85893608]\n",
      "std [0.         0.23728444 0.07276459 0.19314612 0.10251223 0.08500161\n",
      " 0.04003267 0.34916464]\n",
      "Standard deviation for feature 0 is 0.0, smaller than 0.001. You may want to exclude this feature.\n",
      "mean [2.40803768 2.24163705 4.63554331 0.25286562 0.23580741 0.20447415\n",
      " 0.28689228 0.30848439 0.09777052]\n",
      "std [0.37162319 0.41515977 0.40878447 0.33366461 0.32839626 0.31610284\n",
      " 0.34139624 0.34447419 0.24126808]\n",
      "... > Scaling features complete\n",
      "... > feature mean(s): \n",
      " {'atom': tensor([0.8188, 0.1229, 0.0786, 0.0064, 0.0492, 0.0126, 0.0087, 0.0017, 0.2122,\n",
      "        0.0045, 0.1692, 0.2045, 0.0464, 0.0118, 0.0019, 0.0427]), 'bond': tensor([0.0000, 0.0940, 0.0077, 0.0588, 0.0155, 0.0106, 0.0023, 0.8589]), 'global': tensor([2.4080, 2.2416, 4.6355, 0.2529, 0.2358, 0.2045, 0.2869, 0.3085, 0.0978])}\n",
      "... > feature std(s):  \n",
      " {'atom': tensor([0.5294, 0.3107, 0.2198, 0.0661, 0.1780, 0.0926, 0.0772, 0.0347, 0.3195,\n",
      "        0.0555, 0.2977, 0.3161, 0.1733, 0.0896, 0.0367, 0.1666]), 'bond': tensor([0.0010, 0.2373, 0.0728, 0.1931, 0.1025, 0.0850, 0.0400, 0.3492]), 'global': tensor([0.3716, 0.4152, 0.4088, 0.3337, 0.3284, 0.3161, 0.3414, 0.3445, 0.2413])}\n",
      "... > Scaling targets\n",
      "mean [-13312.06587843]\n",
      "std [7287.13972587]\n",
      "... > Scaling targets complete\n",
      "... > feature mean(s): \n",
      " {'global': tensor([-13312.0654])}\n",
      "... > feature std(s):  \n",
      " {'global': tensor([7287.1396])}\n",
      "... > loaded dataset\n"
     ]
    }
   ],
   "source": [
    "qtaim_keys = {\n",
    "        \"atom\": [\"extra_feat_atom_esp_total\"],\n",
    "        \"bond\": [\n",
    "            \"extra_feat_bond_esp_total\",\n",
    "            \"extra_feat_bond_ellip_e_dens\",\n",
    "            \n",
    "            \"bond_length\",\n",
    "        ],\n",
    "        \"global\": [\"shifted_rrho_ev_free_energy\", \"charge\", \"spin\"],\n",
    "}\n",
    "\n",
    "base_dict = {\n",
    "        \"atom\": [],\n",
    "        \"bond\": [\n",
    "            \"bond_length\",\n",
    "        ],\n",
    "        \"global\": [\"shifted_rrho_ev_free_energy\", \"charge\", \"spin\"],\n",
    "}\n",
    "libe_loc = \"../../../data/splits_1101/test_libe_qtaim_1029_labelled.pkl\"\n",
    "dataset = HeteroGraphGraphLabelDataset(\n",
    "    file=libe_loc,\n",
    "    allowed_ring_size=[3, 4, 5, 6, 7],\n",
    "    allowed_charges=[-1, 0, 1],\n",
    "    allowed_spins=[1, 2, 3],\n",
    "    self_loop=True,\n",
    "    extra_keys=base_dict,\n",
    "    target_list=[\"shifted_rrho_ev_free_energy\"],\n",
    "    extra_dataset_info={},\n",
    "    debug=False,\n",
    "    log_scale_features=True,\n",
    "    log_scale_targets=False,\n",
    "    standard_scale_features=True,\n",
    "    standard_scale_targets=True,\n",
    ")\n",
    "libe_loc_train = \"../../../data/splits_1101/train_libe_qtaim_1029_labelled.pkl\"\n",
    "dataset_train = HeteroGraphGraphLabelDataset(\n",
    "    file=libe_loc_train,\n",
    "    allowed_ring_size=[3, 4, 5, 6, 7],\n",
    "    allowed_charges=[-1, 0, 1],\n",
    "    allowed_spins=[1, 2, 3],\n",
    "    self_loop=True,\n",
    "    extra_keys=base_dict,\n",
    "    target_list=[\"shifted_rrho_ev_free_energy\"],\n",
    "    extra_dataset_info={},\n",
    "    debug=False,\n",
    "    log_scale_features=True,\n",
    "    log_scale_targets=False,\n",
    "    standard_scale_features=True,\n",
    "    standard_scale_targets=True,\n",
    ")"
   ]
  },
  {
   "cell_type": "code",
   "execution_count": 8,
   "metadata": {},
   "outputs": [
    {
     "data": {
      "text/plain": [
       "{'atom': 16, 'bond': 8, 'global': 9}"
      ]
     },
     "execution_count": 8,
     "metadata": {},
     "output_type": "execute_result"
    }
   ],
   "source": [
    "dataset.feature_size()"
   ]
  },
  {
   "cell_type": "code",
   "execution_count": 30,
   "metadata": {},
   "outputs": [
    {
     "name": "stdout",
     "output_type": "stream",
     "text": [
      "0.9697765 764.80597 1289.2839\n",
      "--------------------------------------------------\n",
      "Perf post training:\t r2: 0.9698\t mae: 764.8060\t mse: 1289.2839\n"
     ]
    }
   ],
   "source": [
    "data_loader = DataLoaderMoleculeGraphTask(\n",
    "    dataset, batch_size=len(dataset.graphs), shuffle=False\n",
    ")\n",
    "\n",
    "batch_graph, batched_labels = next(iter(data_loader))\n",
    "r2_pre, mae, mse = model.evaluate_manually(\n",
    "    batch_graph,\n",
    "    batched_labels,\n",
    "    scaler_list=dataset.label_scalers,\n",
    ")\n",
    "# convert to numpy\n",
    "r2_pre = r2_pre.numpy()[0]\n",
    "mae = mae.numpy()[0]\n",
    "mse = mse.numpy()[0]\n",
    "preds_test = model.forward(batch_graph, batch_graph.ndata[\"feat\"])\n",
    "\n",
    "print(r2_pre, mae, mse)\n",
    "print(\"-\" * 50)\n",
    "print(\n",
    "    \"Perf post training:\\t r2: {:.4f}\\t mae: {:.4f}\\t mse: {:.4f}\".format(\n",
    "        r2_pre, mae, mse\n",
    "    )\n",
    ")"
   ]
  },
  {
   "cell_type": "code",
   "execution_count": 31,
   "metadata": {},
   "outputs": [
    {
     "name": "stdout",
     "output_type": "stream",
     "text": [
      "--------------------------------------------------\n",
      "Perf post training:\t r2: 0.7492\t mae: 2490.6846\t mse: 3714.2800\n"
     ]
    }
   ],
   "source": [
    "data_loader = DataLoaderMoleculeGraphTask(\n",
    "    dataset_train, batch_size=len(dataset_train.graphs), shuffle=False\n",
    ")\n",
    "\n",
    "batch_graph, batched_labels = next(iter(data_loader))\n",
    "r2_pre, mae, mse = model.evaluate_manually(\n",
    "    batch_graph,\n",
    "    batched_labels,\n",
    "    scaler_list=dataset.label_scalers,\n",
    ")\n",
    "r2_pre = r2_pre.numpy()[0]\n",
    "mae = mae.numpy()[0]\n",
    "mse = mse.numpy()[0]\n",
    "\n",
    "preds_train = model.forward(batch_graph, batch_graph.ndata[\"feat\"])\n",
    "print(\"-\" * 50)\n",
    "print(\n",
    "    \"Perf post training:\\t r2: {:.4f}\\t mae: {:.4f}\\t mse: {:.4f}\".format(\n",
    "        r2_pre, mae, mse\n",
    "    )\n",
    ")"
   ]
  },
  {
   "cell_type": "code",
   "execution_count": 32,
   "metadata": {},
   "outputs": [],
   "source": [
    "label_list = [i.ndata[\"labels\"][\"global\"].tolist()[0][0] for i in dataset.graphs]\n",
    "label_list_train = [i.ndata[\"labels\"][\"global\"].tolist()[0][0] for i in dataset_train.graphs]"
   ]
  },
  {
   "cell_type": "code",
   "execution_count": 33,
   "metadata": {},
   "outputs": [
    {
     "name": "stdout",
     "output_type": "stream",
     "text": [
      "1716 15441\n",
      "1716 15441\n"
     ]
    }
   ],
   "source": [
    "print(len(label_list), len(label_list_train))\n",
    "print(len(preds_test), len(preds_train))    "
   ]
  },
  {
   "cell_type": "code",
   "execution_count": 36,
   "metadata": {},
   "outputs": [
    {
     "data": {
      "image/png": "[encoded data removed]",
      "text/plain": [
       "<Figure size 1000x1000 with 1 Axes>"
      ]
     },
     "metadata": {},
     "output_type": "display_data"
    }
   ],
   "source": [
    "import matplotlib.pyplot as plt\n",
    "import seaborn as sns\n",
    "import numpy as np\n",
    "\n",
    "plt.figure(figsize=(10, 10))\n",
    "plt.scatter(label_list_train, preds_train.detach().numpy(), label=\"train\")\n",
    "plt.scatter(label_list, preds_test.detach().numpy(), label=\"test\")\n",
    "plt.xlabel(\"True\")\n",
    "plt.ylabel(\"Predicted\")\n",
    "plt.legend()\n",
    "plt.show()\n"
   ]
  },
  {
   "cell_type": "code",
   "execution_count": 62,
   "metadata": {},
   "outputs": [
    {
     "data": {
      "text/plain": [
       "12666   -11322.250262\n",
       "4081     -4216.541351\n",
       "15379    -9936.445518\n",
       "12917   -10920.912677\n",
       "16817    -8964.805534\n",
       "             ...     \n",
       "3115     -6456.542504\n",
       "5398     -4325.154769\n",
       "13102   -14053.577930\n",
       "14955   -17358.873445\n",
       "4171     -4563.803739\n",
       "Name: shifted_rrho_ev_free_energy, Length: 1716, dtype: float64"
      ]
     },
     "execution_count": 62,
     "metadata": {},
     "output_type": "execute_result"
    }
   ],
   "source": [
    "import pandas as pd \n",
    "pd.read_pickle(libe_loc)[\"shifted_rrho_ev_free_energy\"]"
   ]
  },
  {
   "cell_type": "code",
   "execution_count": null,
   "metadata": {},
   "outputs": [],
   "source": []
  }
 ],
 "metadata": {
  "kernelspec": {
   "display_name": "qtaim_embed",
   "language": "python",
   "name": "python3"
  },
  "language_info": {
   "codemirror_mode": {
    "name": "ipython",
    "version": 3
   },
   "file_extension": ".py",
   "mimetype": "text/x-python",
   "name": "python",
   "nbconvert_exporter": "python",
   "pygments_lexer": "ipython3",
   "version": "3.11.3"
  },
  "orig_nbformat": 4
 },
 "nbformat": 4,
 "nbformat_minor": 2
}
