{
 "cells": [
  {
   "cell_type": "code",
   "execution_count": 1,
   "metadata": {},
   "outputs": [],
   "source": [
    "import os\n",
    "import numpy as np\n",
    "\n",
    "import torch\n",
    "from torchmetrics.wrappers import MultioutputWrapper\n",
    "import torchmetrics\n",
    "\n",
    "from qtaim_embed.models.utils import load_graph_level_model_from_config\n",
    "from qtaim_embed.data.dataloader import DataLoaderMoleculeGraphTask\n",
    "from qtaim_embed.core.dataset import HeteroGraphGraphLabelClassifierDataset\n"
   ]
  },
  {
   "cell_type": "code",
   "execution_count": 59,
   "metadata": {},
   "outputs": [
    {
     "name": "stdout",
     "output_type": "stream",
     "text": [
      "... > creating MoleculeWrapper objects\n"
     ]
    },
    {
     "name": "stderr",
     "output_type": "stream",
     "text": [
      "\n",
      "\u001b[A\n",
      "\u001b[A\n",
      "\u001b[A\n",
      "\u001b[A\n",
      "\u001b[A\n",
      "\u001b[A\n",
      "\u001b[A\n",
      "\u001b[A\n",
      "\u001b[A\n",
      "\u001b[A\n",
      "100%|██████████| 6692/6692 [00:01<00:00, 6598.59it/s]\n"
     ]
    },
    {
     "name": "stdout",
     "output_type": "stream",
     "text": [
      "... > bond_feats_error_count:  0\n",
      "... > atom_feats_error_count:  0\n",
      "element set {'Br', 'Ca', 'Na', 'Al', 'V', 'Ti', 'B', 'Cr', 'Cl', 'Cu', 'F', 'Fe', 'As', 'N', 'H', 'P', 'Se', 'Si', 'O', 'C', 'Ni', 'Zn', 'Ge', 'S'}\n",
      "selected atomic keys []\n",
      "selected bond keys ['bond_length']\n",
      "selected global keys ['NR-AR', 'NR-AR-LBD', 'NR-AhR', 'NR-Aromatase', 'NR-ER', 'NR-ER-LBD', 'NR-PPAR-gamma', 'SR-ARE', 'SR-ATAD5', 'SR-HSE', 'SR-MMP', 'SR-p53']\n",
      "... > Building graphs and featurizing\n"
     ]
    },
    {
     "name": "stderr",
     "output_type": "stream",
     "text": [
      "\n",
      "\u001b[A\n",
      "\u001b[A\n",
      "\u001b[A\n",
      "\u001b[A\n",
      "\u001b[A\n",
      "\u001b[A\n",
      "\u001b[A\n",
      "\u001b[A\n",
      "\u001b[A\n",
      "\u001b[A\n",
      "\u001b[A\n",
      "\u001b[A\n",
      "\u001b[A\n",
      "\u001b[A\n",
      "\u001b[A\n",
      "\u001b[A\n",
      "\u001b[A\n",
      "\u001b[A\n",
      "\u001b[A\n",
      "\u001b[A\n",
      "\u001b[A\n",
      "\u001b[A\n",
      "\u001b[A\n",
      "\u001b[A\n",
      "\u001b[A\n",
      "\u001b[A\n",
      "\u001b[A\n",
      "\u001b[A\n",
      "\u001b[A\n",
      "\u001b[A\n",
      "\u001b[A\n",
      "\u001b[A\n",
      "\u001b[A\n",
      "\u001b[A\n",
      "\u001b[A\n",
      "\u001b[A\n",
      "\u001b[A\n",
      "\u001b[A\n",
      "\u001b[A\n",
      "\u001b[A\n",
      "\u001b[A\n",
      "\u001b[A\n",
      "\u001b[A\n",
      "\u001b[A\n",
      "\u001b[A\n",
      "\u001b[A\n",
      "\u001b[A\n",
      "\u001b[A\n",
      "\u001b[A\n",
      "\u001b[A\n",
      "\u001b[A\n",
      "\u001b[A\n",
      "\u001b[A\n",
      "\u001b[A\n",
      "\u001b[A\n",
      "\u001b[A\n",
      "\u001b[A\n",
      "\u001b[A\n",
      "\u001b[A\n",
      "\u001b[A\n",
      "\u001b[A\n",
      "\u001b[A\n",
      "\u001b[A\n",
      "\u001b[A\n",
      "\u001b[A\n",
      "\u001b[A\n",
      "\u001b[A\n",
      "\u001b[A\n",
      "\u001b[A\n",
      "\u001b[A\n",
      "\u001b[A\n",
      "\u001b[A\n",
      "\u001b[A\n",
      "\u001b[A\n",
      "\u001b[A\n",
      "\u001b[A\n",
      "\u001b[A\n",
      "\u001b[A\n",
      "\u001b[A\n",
      "\u001b[A\n",
      "\u001b[A\n",
      "\u001b[A\n",
      "\u001b[A\n",
      "\u001b[A\n",
      "\u001b[A\n",
      "\u001b[A\n",
      "\u001b[A\n",
      "\u001b[A\n",
      "\u001b[A\n",
      "\u001b[A\n",
      "\u001b[A\n",
      "\u001b[A\n",
      "\u001b[A\n",
      "\u001b[A\n",
      "\u001b[A\n",
      "\u001b[A\n",
      "\u001b[A\n",
      "\u001b[A\n",
      "\u001b[A\n",
      "\u001b[A\n",
      "\u001b[A\n",
      "\u001b[A\n",
      "\u001b[A\n",
      "\u001b[A\n",
      "\u001b[A\n",
      "\u001b[A\n",
      "\u001b[A\n",
      "\u001b[A\n",
      "\u001b[A\n",
      "\u001b[A\n",
      "\u001b[A\n",
      "\u001b[A\n",
      "\u001b[A\n",
      "\u001b[A\n",
      "\u001b[A\n",
      "\u001b[A\n",
      "\u001b[A\n",
      "\u001b[A\n",
      "\u001b[A\n",
      "\u001b[A\n",
      "\u001b[A\n",
      "\u001b[A\n",
      "\u001b[A\n",
      "\u001b[A\n",
      "\u001b[A\n",
      "\u001b[A\n",
      "\u001b[A\n",
      "\u001b[A\n",
      "\u001b[A\n",
      "\u001b[A\n",
      "\u001b[A\n",
      "\u001b[A\n",
      "\u001b[A\n",
      "\u001b[A\n",
      "\u001b[A\n",
      "\u001b[A\n",
      "\u001b[A\n",
      "\u001b[A\n",
      "\u001b[A\n",
      "\u001b[A\n",
      "\u001b[A\n",
      "\u001b[A\n",
      "\u001b[A\n",
      "\u001b[A\n",
      "\u001b[A\n",
      "\u001b[A\n",
      "\u001b[A\n",
      "\u001b[A\n",
      "\u001b[A\n",
      "\u001b[A\n",
      "\u001b[A\n",
      "\u001b[A\n",
      "\u001b[A\n",
      "\u001b[A\n",
      "\u001b[A\n",
      "\u001b[A\n",
      "\u001b[A\n",
      "\u001b[A\n",
      "\u001b[A\n",
      "\u001b[A\n",
      "\u001b[A\n",
      "\u001b[A\n",
      "\u001b[A\n",
      "\u001b[A\n",
      "\u001b[A\n",
      "\u001b[A\n",
      "\u001b[A\n",
      "\u001b[A\n",
      "\u001b[A\n",
      "\u001b[A\n",
      "\u001b[A\n",
      "\u001b[A\n",
      "\u001b[A\n",
      "\u001b[A\n",
      "\u001b[A\n",
      "\u001b[A\n",
      "\u001b[A\n",
      "\u001b[A\n",
      "\u001b[A\n",
      "\u001b[A\n",
      "\u001b[A\n",
      "\u001b[A\n",
      "\u001b[A\n",
      "\u001b[A\n",
      "\u001b[A\n",
      "\u001b[A\n",
      "\u001b[A\n",
      "\u001b[A\n",
      "\u001b[A\n",
      "\u001b[A\n",
      "\u001b[A\n",
      "\u001b[A\n",
      "\u001b[A\n",
      "\u001b[A\n",
      "\u001b[A\n",
      "\u001b[A\n",
      "\u001b[A\n",
      "100%|██████████| 6692/6692 [00:31<00:00, 211.48it/s]\n"
     ]
    },
    {
     "name": "stdout",
     "output_type": "stream",
     "text": [
      "included in labels\n",
      "{'global': ['NR-AR', 'NR-AR-LBD', 'NR-AhR', 'NR-Aromatase', 'NR-ER', 'NR-ER-LBD', 'NR-PPAR-gamma', 'SR-ARE', 'SR-ATAD5', 'SR-HSE', 'SR-MMP', 'SR-p53']}\n",
      "included in graph features\n",
      "{'atom': ['total_degree', 'total_H', 'is_in_ring', 'ring_size_3', 'ring_size_4', 'ring_size_5', 'ring_size_6', 'chemical_symbol_Br', 'chemical_symbol_Ca', 'chemical_symbol_Na', 'chemical_symbol_Al', 'chemical_symbol_V', 'chemical_symbol_Ti', 'chemical_symbol_B', 'chemical_symbol_Cr', 'chemical_symbol_Cl', 'chemical_symbol_Cu', 'chemical_symbol_F', 'chemical_symbol_Fe', 'chemical_symbol_As', 'chemical_symbol_N', 'chemical_symbol_H', 'chemical_symbol_P', 'chemical_symbol_Se', 'chemical_symbol_Si', 'chemical_symbol_O', 'chemical_symbol_C', 'chemical_symbol_Ni', 'chemical_symbol_Zn', 'chemical_symbol_Ge', 'chemical_symbol_S'], 'bond': ['metal bond', 'ring inclusion', 'ring size_3', 'ring size_4', 'ring size_5', 'ring size_6', 'bond_length'], 'global': ['num atoms', 'num bonds', 'molecule weight']}\n",
      "original loader node types: dict_keys(['atom', 'bond', 'global'])\n",
      "original loader label types: dict_keys([])\n",
      "include names:  dict_keys(['global'])\n",
      "... > parsing labels and features in graphs\n"
     ]
    },
    {
     "name": "stderr",
     "output_type": "stream",
     "text": [
      "\n",
      "\u001b[A\n",
      "\u001b[A\n",
      "6692it [00:00, 28692.78it/s]\n"
     ]
    },
    {
     "name": "stdout",
     "output_type": "stream",
     "text": [
      "... > number of categories for each label: \n",
      "...... > label  NR-AR :  2 with distribution:  [2608, 51]\n",
      "...... > label  NR-AR-LBD :  2 with distribution:  [2631, 28]\n",
      "...... > label  NR-AhR :  2 with distribution:  [2527, 132]\n",
      "...... > label  NR-Aromatase :  2 with distribution:  [2612, 47]\n",
      "...... > label  NR-ER :  2 with distribution:  [2451, 208]\n",
      "...... > label  NR-ER-LBD :  2 with distribution:  [2603, 56]\n",
      "...... > label  NR-PPAR-gamma :  2 with distribution:  [2634, 25]\n",
      "...... > label  SR-ARE :  2 with distribution:  [2496, 163]\n",
      "...... > label  SR-ATAD5 :  2 with distribution:  [2648, 11]\n",
      "...... > label  SR-HSE :  2 with distribution:  [2616, 43]\n",
      "...... > label  SR-MMP :  2 with distribution:  [2539, 120]\n",
      "...... > label  SR-p53 :  2 with distribution:  [2635, 24]\n",
      "original loader node types: dict_keys(['atom', 'bond', 'global'])\n",
      "original loader label types: dict_keys(['global'])\n",
      "number of graphs filtered:  4033\n",
      "... > Scaling features\n",
      "mean [1.56201885e+00 3.80881765e-01 5.58098750e-02 9.67130459e-04\n",
      " 1.49582844e-02 2.89365433e-02 1.09479168e-02 1.32819250e-03\n",
      " 0.00000000e+00 0.00000000e+00 3.86852184e-05 0.00000000e+00\n",
      " 0.00000000e+00 6.44753640e-05 2.57901456e-05 7.74993875e-03\n",
      " 1.28950728e-05 4.16510851e-03 1.28950728e-05 5.15802912e-05\n",
      " 3.49069620e-02 5.08143238e-01 8.63969877e-04 0.00000000e+00\n",
      " 6.83438858e-04 7.96786548e-02 3.56136120e-01 0.00000000e+00\n",
      " 1.28950728e-05 1.28950728e-05 6.11226450e-03]\n",
      "std [1.64470773 0.68589328 0.2295542  0.03108368 0.12138589 0.16762822\n",
      " 0.10405796 0.03642016 0.         0.         0.00621962 0.\n",
      " 0.         0.0080294  0.00507833 0.08769194 0.00359095 0.06440311\n",
      " 0.00359095 0.00718176 0.18354418 0.49993368 0.02938066 0.\n",
      " 0.02613373 0.27079506 0.47885612 0.         0.00359095 0.00359095\n",
      " 0.07794168]\n",
      "Standard deviation for feature 8 is 0.0, smaller than 0.001. You may want to exclude this feature.\n",
      "Standard deviation for feature 9 is 0.0, smaller than 0.001. You may want to exclude this feature.\n",
      "Standard deviation for feature 11 is 0.0, smaller than 0.001. You may want to exclude this feature.\n",
      "Standard deviation for feature 12 is 0.0, smaller than 0.001. You may want to exclude this feature.\n",
      "Standard deviation for feature 23 is 0.0, smaller than 0.001. You may want to exclude this feature.\n",
      "Standard deviation for feature 27 is 0.0, smaller than 0.001. You may want to exclude this feature.\n",
      "mean [0.00000000e+00 6.87115026e-02 1.17549332e-03 1.86354874e-02\n",
      " 3.57349968e-02 1.36513957e-02 1.71792153e+00]\n",
      "std [0.         0.25296291 0.03426531 0.13523389 0.18562868 0.11603894\n",
      " 0.87906523]\n",
      "Standard deviation for feature 0 is 0.0, smaller than 0.001. You may want to exclude this feature.\n",
      "mean [ 29.16472358  23.99511094 211.90266476]\n",
      "std [ 15.96076719  15.1459359  110.58346301]\n",
      "... > Scaling features complete\n",
      "... > feature mean(s): \n",
      " {'atom': tensor([1.5620e+00, 3.8088e-01, 5.5810e-02, 9.6713e-04, 1.4958e-02, 2.8937e-02,\n",
      "        1.0948e-02, 1.3282e-03, 0.0000e+00, 0.0000e+00, 3.8685e-05, 0.0000e+00,\n",
      "        0.0000e+00, 6.4475e-05, 2.5790e-05, 7.7499e-03, 1.2895e-05, 4.1651e-03,\n",
      "        1.2895e-05, 5.1580e-05, 3.4907e-02, 5.0814e-01, 8.6397e-04, 0.0000e+00,\n",
      "        6.8344e-04, 7.9679e-02, 3.5614e-01, 0.0000e+00, 1.2895e-05, 1.2895e-05,\n",
      "        6.1123e-03]), 'bond': tensor([0.0000e+00, 6.8712e-02, 1.1755e-03, 1.8635e-02, 3.5735e-02, 1.3651e-02,\n",
      "        1.7179e+00]), 'global': tensor([ 29.1647,  23.9951, 211.9027])}\n",
      "... > feature std(s):  \n",
      " {'atom': tensor([1.6447e+00, 6.8589e-01, 2.2955e-01, 3.1084e-02, 1.2139e-01, 1.6763e-01,\n",
      "        1.0406e-01, 3.6420e-02, 1.0000e-03, 1.0000e-03, 6.2196e-03, 1.0000e-03,\n",
      "        1.0000e-03, 8.0294e-03, 5.0783e-03, 8.7692e-02, 3.5909e-03, 6.4403e-02,\n",
      "        3.5909e-03, 7.1818e-03, 1.8354e-01, 4.9993e-01, 2.9381e-02, 1.0000e-03,\n",
      "        2.6134e-02, 2.7080e-01, 4.7886e-01, 1.0000e-03, 3.5909e-03, 3.5909e-03,\n",
      "        7.7942e-02]), 'bond': tensor([0.0010, 0.2530, 0.0343, 0.1352, 0.1856, 0.1160, 0.8791]), 'global': tensor([ 15.9608,  15.1459, 110.5835])}\n",
      "... > loaded dataset\n",
      "... > creating MoleculeWrapper objects\n"
     ]
    },
    {
     "name": "stderr",
     "output_type": "stream",
     "text": [
      "\n",
      "\u001b[A\n",
      "100%|██████████| 744/744 [00:00<00:00, 5899.22it/s]\n"
     ]
    },
    {
     "name": "stdout",
     "output_type": "stream",
     "text": [
      "... > bond_feats_error_count:  0\n",
      "... > atom_feats_error_count:  0\n",
      "element set {'Br', 'Ca', 'Na', 'Al', 'V', 'Ti', 'B', 'Cr', 'Cl', 'Cu', 'F', 'Fe', 'As', 'N', 'H', 'P', 'Se', 'Si', 'O', 'C', 'Ni', 'Zn', 'Ge', 'S'}\n",
      "selected atomic keys []\n",
      "selected bond keys ['bond_length']\n",
      "selected global keys ['NR-AR', 'NR-AR-LBD', 'NR-AhR', 'NR-Aromatase', 'NR-ER', 'NR-ER-LBD', 'NR-PPAR-gamma', 'SR-ARE', 'SR-ATAD5', 'SR-HSE', 'SR-MMP', 'SR-p53']\n",
      "... > Building graphs and featurizing\n"
     ]
    },
    {
     "name": "stderr",
     "output_type": "stream",
     "text": [
      "\n",
      "\u001b[A\n",
      "\u001b[A\n",
      "\u001b[A\n",
      "\u001b[A\n",
      "\u001b[A\n",
      "\u001b[A\n",
      "\u001b[A\n",
      "\u001b[A\n",
      "\u001b[A\n",
      "\u001b[A\n",
      "\u001b[A\n",
      "\u001b[A\n",
      "\u001b[A\n",
      "\u001b[A\n",
      "\u001b[A\n",
      "\u001b[A\n",
      "\u001b[A\n",
      "\u001b[A\n",
      "\u001b[A\n",
      "\u001b[A\n",
      "\u001b[A\n",
      "\u001b[A\n",
      "100%|██████████| 744/744 [00:02<00:00, 307.73it/s]\n"
     ]
    },
    {
     "name": "stdout",
     "output_type": "stream",
     "text": [
      "included in labels\n",
      "{'global': ['NR-AR', 'NR-AR-LBD', 'NR-AhR', 'NR-Aromatase', 'NR-ER', 'NR-ER-LBD', 'NR-PPAR-gamma', 'SR-ARE', 'SR-ATAD5', 'SR-HSE', 'SR-MMP', 'SR-p53']}\n",
      "included in graph features\n",
      "{'atom': ['total_degree', 'total_H', 'is_in_ring', 'ring_size_3', 'ring_size_4', 'ring_size_5', 'ring_size_6', 'chemical_symbol_Br', 'chemical_symbol_Ca', 'chemical_symbol_Na', 'chemical_symbol_Al', 'chemical_symbol_V', 'chemical_symbol_Ti', 'chemical_symbol_B', 'chemical_symbol_Cr', 'chemical_symbol_Cl', 'chemical_symbol_Cu', 'chemical_symbol_F', 'chemical_symbol_Fe', 'chemical_symbol_As', 'chemical_symbol_N', 'chemical_symbol_H', 'chemical_symbol_P', 'chemical_symbol_Se', 'chemical_symbol_Si', 'chemical_symbol_O', 'chemical_symbol_C', 'chemical_symbol_Ni', 'chemical_symbol_Zn', 'chemical_symbol_Ge', 'chemical_symbol_S'], 'bond': ['metal bond', 'ring inclusion', 'ring size_3', 'ring size_4', 'ring size_5', 'ring size_6', 'bond_length'], 'global': ['num atoms', 'num bonds', 'molecule weight']}\n",
      "original loader node types: dict_keys(['atom', 'bond', 'global'])\n",
      "original loader label types: dict_keys([])\n",
      "include names:  dict_keys(['global'])\n",
      "... > parsing labels and features in graphs\n"
     ]
    },
    {
     "name": "stderr",
     "output_type": "stream",
     "text": [
      "\n",
      "744it [00:00, 28204.14it/s]\n"
     ]
    },
    {
     "name": "stdout",
     "output_type": "stream",
     "text": [
      "... > number of categories for each label: \n",
      "...... > label  NR-AR :  2 with distribution:  [306, 8]\n",
      "...... > label  NR-AR-LBD :  2 with distribution:  [308, 6]\n",
      "...... > label  NR-AhR :  2 with distribution:  [294, 20]\n",
      "...... > label  NR-Aromatase :  2 with distribution:  [306, 8]\n",
      "...... > label  NR-ER :  2 with distribution:  [291, 23]\n",
      "...... > label  NR-ER-LBD :  2 with distribution:  [306, 8]\n",
      "...... > label  NR-PPAR-gamma :  2 with distribution:  [314, 0]\n",
      "...... > label  SR-ARE :  2 with distribution:  [291, 23]\n",
      "...... > label  SR-ATAD5 :  2 with distribution:  [314, 0]\n",
      "...... > label  SR-HSE :  2 with distribution:  [309, 5]\n",
      "...... > label  SR-MMP :  2 with distribution:  [296, 18]\n",
      "...... > label  SR-p53 :  2 with distribution:  [311, 3]\n",
      "original loader node types: dict_keys(['atom', 'bond', 'global'])\n",
      "original loader label types: dict_keys(['global'])\n",
      "number of graphs filtered:  430\n",
      "... > Scaling features\n",
      "mean [1.57018674e+00 3.71538957e-01 5.53766903e-02 1.28783001e-03\n",
      " 9.87336338e-03 2.96200901e-02 1.45954067e-02 9.65872505e-04\n",
      " 0.00000000e+00 0.00000000e+00 0.00000000e+00 0.00000000e+00\n",
      " 0.00000000e+00 1.07319167e-04 0.00000000e+00 7.83429921e-03\n",
      " 0.00000000e+00 3.43421335e-03 0.00000000e+00 2.14638334e-04\n",
      " 3.85275810e-02 4.98926808e-01 1.07319167e-03 0.00000000e+00\n",
      " 3.21957502e-04 8.17772054e-02 3.59626529e-01 0.00000000e+00\n",
      " 0.00000000e+00 0.00000000e+00 7.19038420e-03]\n",
      "std [1.63842561 0.67818965 0.22871404 0.03586323 0.09887305 0.16953684\n",
      " 0.11992656 0.03106348 0.         0.         0.         0.\n",
      " 0.         0.01035894 0.         0.08816418 0.         0.05850145\n",
      " 0.         0.01464897 0.19246612 0.49999885 0.03274202 0.\n",
      " 0.01794029 0.27402499 0.47989091 0.         0.         0.\n",
      " 0.08449072]\n",
      "Standard deviation for feature 8 is 0.0, smaller than 0.001. You may want to exclude this feature.\n",
      "Standard deviation for feature 9 is 0.0, smaller than 0.001. You may want to exclude this feature.\n",
      "Standard deviation for feature 10 is 0.0, smaller than 0.001. You may want to exclude this feature.\n",
      "Standard deviation for feature 11 is 0.0, smaller than 0.001. You may want to exclude this feature.\n",
      "Standard deviation for feature 12 is 0.0, smaller than 0.001. You may want to exclude this feature.\n",
      "Standard deviation for feature 14 is 0.0, smaller than 0.001. You may want to exclude this feature.\n",
      "Standard deviation for feature 16 is 0.0, smaller than 0.001. You may want to exclude this feature.\n",
      "Standard deviation for feature 18 is 0.0, smaller than 0.001. You may want to exclude this feature.\n",
      "Standard deviation for feature 23 is 0.0, smaller than 0.001. You may want to exclude this feature.\n",
      "Standard deviation for feature 27 is 0.0, smaller than 0.001. You may want to exclude this feature.\n",
      "Standard deviation for feature 28 is 0.0, smaller than 0.001. You may want to exclude this feature.\n",
      "Standard deviation for feature 29 is 0.0, smaller than 0.001. You may want to exclude this feature.\n",
      "mean [0.00000000e+00 6.74025974e-02 1.55844156e-03 1.19480519e-02\n",
      " 3.63636364e-02 1.79220779e-02 1.70691107e+00]\n",
      "std [0.         0.25071794 0.03944633 0.10865218 0.18719328 0.1326683\n",
      " 0.86464076]\n",
      "Standard deviation for feature 0 is 0.0, smaller than 0.001. You may want to exclude this feature.\n",
      "mean [ 29.67515924  24.52229299 219.02257354]\n",
      "std [ 16.95825394  16.65845972 120.31318248]\n",
      "... > Scaling features complete\n",
      "... > feature mean(s): \n",
      " {'atom': tensor([1.5702e+00, 3.7154e-01, 5.5377e-02, 1.2878e-03, 9.8734e-03, 2.9620e-02,\n",
      "        1.4595e-02, 9.6587e-04, 0.0000e+00, 0.0000e+00, 0.0000e+00, 0.0000e+00,\n",
      "        0.0000e+00, 1.0732e-04, 0.0000e+00, 7.8343e-03, 0.0000e+00, 3.4342e-03,\n",
      "        0.0000e+00, 2.1464e-04, 3.8528e-02, 4.9893e-01, 1.0732e-03, 0.0000e+00,\n",
      "        3.2196e-04, 8.1777e-02, 3.5963e-01, 0.0000e+00, 0.0000e+00, 0.0000e+00,\n",
      "        7.1904e-03]), 'bond': tensor([0.0000e+00, 6.7403e-02, 1.5584e-03, 1.1948e-02, 3.6364e-02, 1.7922e-02,\n",
      "        1.7069e+00]), 'global': tensor([ 29.6752,  24.5223, 219.0226])}\n",
      "... > feature std(s):  \n",
      " {'atom': tensor([1.6384e+00, 6.7819e-01, 2.2871e-01, 3.5863e-02, 9.8873e-02, 1.6954e-01,\n",
      "        1.1993e-01, 3.1063e-02, 1.0000e-03, 1.0000e-03, 1.0000e-03, 1.0000e-03,\n",
      "        1.0000e-03, 1.0359e-02, 1.0000e-03, 8.8164e-02, 1.0000e-03, 5.8501e-02,\n",
      "        1.0000e-03, 1.4649e-02, 1.9247e-01, 5.0000e-01, 3.2742e-02, 1.0000e-03,\n",
      "        1.7940e-02, 2.7402e-01, 4.7989e-01, 1.0000e-03, 1.0000e-03, 1.0000e-03,\n",
      "        8.4491e-02]), 'bond': tensor([0.0010, 0.2507, 0.0394, 0.1087, 0.1872, 0.1327, 0.8646]), 'global': tensor([ 16.9583,  16.6585, 120.3132])}\n",
      "... > loaded dataset\n",
      "... > creating MoleculeWrapper objects\n"
     ]
    },
    {
     "name": "stderr",
     "output_type": "stream",
     "text": [
      "\n",
      "\u001b[A\n",
      "\u001b[A\n",
      "\u001b[A\n",
      "\u001b[A\n",
      "\u001b[A\n",
      "\u001b[A\n",
      "\u001b[A\n",
      "\u001b[A\n",
      "\u001b[A\n",
      "\u001b[A\n",
      "\u001b[A\n",
      "\u001b[A\n",
      "\u001b[A\n",
      "\u001b[A\n",
      "\u001b[A\n",
      "\u001b[A\n",
      "\u001b[A\n",
      "\u001b[A\n",
      "\u001b[A\n",
      "\u001b[A\n",
      "\u001b[A\n",
      "\u001b[A\n",
      "\u001b[A\n",
      "\u001b[A\n",
      "\u001b[A\n",
      "\u001b[A\n",
      "\u001b[A\n",
      "\u001b[A\n",
      "\u001b[A\n",
      "\u001b[A\n",
      "\u001b[A\n",
      "\u001b[A\n",
      "100%|██████████| 6692/6692 [00:03<00:00, 2030.39it/s]\n"
     ]
    },
    {
     "name": "stdout",
     "output_type": "stream",
     "text": [
      "... > bond_feats_error_count:  0\n",
      "... > atom_feats_error_count:  0\n",
      "element set {'Br', 'Ca', 'Na', 'Al', 'V', 'Ti', 'B', 'Cr', 'Cl', 'Cu', 'F', 'Fe', 'As', 'N', 'H', 'P', 'Se', 'Si', 'O', 'C', 'Ni', 'Zn', 'Ge', 'S'}\n",
      "selected atomic keys ['extra_feat_atom_Hamiltonian_K', 'extra_feat_atom_e_density', 'extra_feat_atom_lap_e_density', 'extra_feat_atom_esp_total', 'extra_feat_atom_det_hessian', 'extra_feat_atom_eta', 'extra_feat_atom_energy_density']\n",
      "selected bond keys ['extra_feat_bond_Lagrangian_K', 'bond_length', 'extra_feat_bond_Hamiltonian_K', 'extra_feat_bond_e_density', 'extra_feat_bond_lap_e_density', 'extra_feat_bond_e_loc_func', 'extra_feat_bond_esp_e', 'extra_feat_bond_esp_total', 'extra_feat_bond_grad_norm', 'extra_feat_bond_lap_norm', 'extra_feat_bond_ellip_e_dens', 'extra_feat_bond_eta']\n",
      "selected global keys ['NR-AR', 'NR-AR-LBD', 'NR-AhR', 'NR-Aromatase', 'NR-ER', 'NR-ER-LBD', 'NR-PPAR-gamma', 'SR-ARE', 'SR-ATAD5', 'SR-HSE', 'SR-MMP', 'SR-p53']\n",
      "... > Building graphs and featurizing\n"
     ]
    },
    {
     "name": "stderr",
     "output_type": "stream",
     "text": [
      "\n",
      "\u001b[A\n",
      "\u001b[A\n",
      "\u001b[A\n",
      "\u001b[A\n",
      "\u001b[A\n",
      "\u001b[A\n",
      "\u001b[A\n",
      "\u001b[A\n",
      "\u001b[A\n",
      "\u001b[A\n",
      "\u001b[A\n",
      "\u001b[A\n",
      "\u001b[A\n",
      "\u001b[A\n",
      "\u001b[A\n",
      "\u001b[A\n",
      "\u001b[A\n",
      "\u001b[A\n",
      "\u001b[A\n",
      "\u001b[A\n",
      "\u001b[A\n",
      "\u001b[A\n",
      "\u001b[A\n",
      "\u001b[A\n",
      "\u001b[A\n",
      "\u001b[A\n",
      "\u001b[A\n",
      "\u001b[A\n",
      "\u001b[A\n",
      "\u001b[A\n",
      "\u001b[A\n",
      "\u001b[A\n",
      "\u001b[A\n",
      "\u001b[A\n",
      "\u001b[A\n",
      "\u001b[A\n",
      "\u001b[A\n",
      "\u001b[A\n",
      "\u001b[A\n",
      "\u001b[A\n",
      "\u001b[A\n",
      "\u001b[A\n",
      "\u001b[A\n",
      "\u001b[A\n",
      "\u001b[A\n",
      "\u001b[A\n",
      "\u001b[A\n",
      "\u001b[A\n",
      "\u001b[A\n",
      "\u001b[A\n",
      "\u001b[A\n",
      "\u001b[A\n",
      "\u001b[A\n",
      "\u001b[A\n",
      "\u001b[A\n",
      "\u001b[A\n",
      "\u001b[A\n",
      "\u001b[A\n",
      "\u001b[A\n",
      "\u001b[A\n",
      "\u001b[A\n",
      "\u001b[A\n",
      "\u001b[A\n",
      "\u001b[A\n",
      "\u001b[A\n",
      "\u001b[A\n",
      "\u001b[A\n",
      "\u001b[A\n",
      "\u001b[A\n",
      "\u001b[A\n",
      "\u001b[A\n",
      "\u001b[A\n",
      "\u001b[A\n",
      "\u001b[A\n",
      "\u001b[A\n",
      "\u001b[A\n",
      "\u001b[A\n",
      "\u001b[A\n",
      "\u001b[A\n",
      "\u001b[A\n",
      "\u001b[A\n",
      "\u001b[A\n",
      "\u001b[A\n",
      "\u001b[A\n",
      "\u001b[A\n",
      "\u001b[A\n",
      "\u001b[A\n",
      "\u001b[A\n",
      "\u001b[A\n",
      "\u001b[A\n",
      "\u001b[A\n",
      "\u001b[A\n",
      "\u001b[A\n",
      "\u001b[A\n",
      "\u001b[A\n",
      "\u001b[A\n",
      "\u001b[A\n",
      "\u001b[A\n",
      "\u001b[A\n",
      "\u001b[A\n",
      "\u001b[A\n",
      "\u001b[A\n",
      "\u001b[A\n",
      "\u001b[A\n",
      "\u001b[A\n",
      "\u001b[A\n",
      "\u001b[A\n",
      "\u001b[A\n",
      "\u001b[A\n",
      "\u001b[A\n",
      "\u001b[A\n",
      "\u001b[A\n",
      "\u001b[A\n",
      "\u001b[A\n",
      "\u001b[A\n",
      "\u001b[A\n",
      "\u001b[A\n",
      "\u001b[A\n",
      "\u001b[A\n",
      "\u001b[A\n",
      "\u001b[A\n",
      "\u001b[A\n",
      "\u001b[A\n",
      "\u001b[A\n",
      "\u001b[A\n",
      "\u001b[A\n",
      "\u001b[A\n",
      "\u001b[A\n",
      "\u001b[A\n",
      "\u001b[A\n",
      "\u001b[A\n",
      "\u001b[A\n",
      "\u001b[A\n",
      "\u001b[A\n",
      "\u001b[A\n",
      "\u001b[A\n",
      "\u001b[A\n",
      "\u001b[A\n",
      "\u001b[A\n",
      "\u001b[A\n",
      "\u001b[A\n",
      "\u001b[A\n",
      "\u001b[A\n",
      "\u001b[A\n",
      "\u001b[A\n",
      "\u001b[A\n",
      "\u001b[A\n",
      "\u001b[A\n",
      "\u001b[A\n",
      "\u001b[A\n",
      "\u001b[A\n",
      "\u001b[A\n",
      "\u001b[A\n",
      "\u001b[A\n",
      "\u001b[A\n",
      "\u001b[A\n",
      "\u001b[A\n",
      "\u001b[A\n",
      "\u001b[A\n",
      "\u001b[A\n",
      "\u001b[A\n",
      "\u001b[A\n",
      "\u001b[A\n",
      "\u001b[A\n",
      "\u001b[A\n",
      "\u001b[A\n",
      "\u001b[A\n",
      "\u001b[A\n",
      "\u001b[A\n",
      "\u001b[A\n",
      "\u001b[A\n",
      "\u001b[A\n",
      "\u001b[A\n",
      "\u001b[A\n",
      "\u001b[A\n",
      "\u001b[A\n",
      "\u001b[A\n",
      "\u001b[A\n",
      "\u001b[A\n",
      "\u001b[A\n",
      "\u001b[A\n",
      "\u001b[A\n",
      "\u001b[A\n",
      "\u001b[A\n",
      "\u001b[A\n",
      "\u001b[A\n",
      "\u001b[A\n",
      "\u001b[A\n",
      "\u001b[A\n",
      "\u001b[A\n",
      "\u001b[A\n",
      "\u001b[A\n",
      "\u001b[A\n",
      "\u001b[A\n",
      "\u001b[A\n",
      "\u001b[A\n",
      "\u001b[A\n",
      "\u001b[A\n",
      "\u001b[A\n",
      "\u001b[A\n",
      "\u001b[A\n",
      "\u001b[A\n",
      "100%|██████████| 6692/6692 [00:28<00:00, 234.62it/s]\n"
     ]
    },
    {
     "name": "stdout",
     "output_type": "stream",
     "text": [
      "included in labels\n",
      "{'global': ['NR-AR', 'NR-AR-LBD', 'NR-AhR', 'NR-Aromatase', 'NR-ER', 'NR-ER-LBD', 'NR-PPAR-gamma', 'SR-ARE', 'SR-ATAD5', 'SR-HSE', 'SR-MMP', 'SR-p53']}\n",
      "included in graph features\n",
      "{'atom': ['total_degree', 'total_H', 'is_in_ring', 'ring_size_3', 'ring_size_4', 'ring_size_5', 'ring_size_6', 'chemical_symbol_Br', 'chemical_symbol_Ca', 'chemical_symbol_Na', 'chemical_symbol_Al', 'chemical_symbol_V', 'chemical_symbol_Ti', 'chemical_symbol_B', 'chemical_symbol_Cr', 'chemical_symbol_Cl', 'chemical_symbol_Cu', 'chemical_symbol_F', 'chemical_symbol_Fe', 'chemical_symbol_As', 'chemical_symbol_N', 'chemical_symbol_H', 'chemical_symbol_P', 'chemical_symbol_Se', 'chemical_symbol_Si', 'chemical_symbol_O', 'chemical_symbol_C', 'chemical_symbol_Ni', 'chemical_symbol_Zn', 'chemical_symbol_Ge', 'chemical_symbol_S', 'extra_feat_atom_Hamiltonian_K', 'extra_feat_atom_e_density', 'extra_feat_atom_lap_e_density', 'extra_feat_atom_esp_total', 'extra_feat_atom_det_hessian', 'extra_feat_atom_eta', 'extra_feat_atom_energy_density'], 'bond': ['metal bond', 'ring inclusion', 'ring size_3', 'ring size_4', 'ring size_5', 'ring size_6', 'bond_length', 'extra_feat_bond_Lagrangian_K', 'extra_feat_bond_Hamiltonian_K', 'extra_feat_bond_e_density', 'extra_feat_bond_lap_e_density', 'extra_feat_bond_e_loc_func', 'extra_feat_bond_esp_e', 'extra_feat_bond_esp_total', 'extra_feat_bond_grad_norm', 'extra_feat_bond_lap_norm', 'extra_feat_bond_ellip_e_dens', 'extra_feat_bond_eta'], 'global': ['num atoms', 'num bonds', 'molecule weight']}\n",
      "original loader node types: dict_keys(['atom', 'bond', 'global'])\n",
      "original loader label types: dict_keys([])\n",
      "include names:  dict_keys(['global'])\n",
      "... > parsing labels and features in graphs\n"
     ]
    },
    {
     "name": "stderr",
     "output_type": "stream",
     "text": [
      "\n",
      "\u001b[A\n",
      "\u001b[A\n",
      "6692it [00:00, 27262.01it/s]\n"
     ]
    },
    {
     "name": "stdout",
     "output_type": "stream",
     "text": [
      "... > number of categories for each label: \n",
      "...... > label  NR-AR :  2 with distribution:  [2608, 51]\n",
      "...... > label  NR-AR-LBD :  2 with distribution:  [2631, 28]\n",
      "...... > label  NR-AhR :  2 with distribution:  [2527, 132]\n",
      "...... > label  NR-Aromatase :  2 with distribution:  [2612, 47]\n",
      "...... > label  NR-ER :  2 with distribution:  [2451, 208]\n",
      "...... > label  NR-ER-LBD :  2 with distribution:  [2603, 56]\n",
      "...... > label  NR-PPAR-gamma :  2 with distribution:  [2634, 25]\n",
      "...... > label  SR-ARE :  2 with distribution:  [2496, 163]\n",
      "...... > label  SR-ATAD5 :  2 with distribution:  [2648, 11]\n",
      "...... > label  SR-HSE :  2 with distribution:  [2616, 43]\n",
      "...... > label  SR-MMP :  2 with distribution:  [2539, 120]\n",
      "...... > label  SR-p53 :  2 with distribution:  [2635, 24]\n",
      "original loader node types: dict_keys(['atom', 'bond', 'global'])\n",
      "original loader label types: dict_keys(['global'])\n",
      "number of graphs filtered:  4033\n",
      "... > Scaling features\n",
      "mean [ 1.56201885e+00  3.80881765e-01  5.58098750e-02  9.67130459e-04\n",
      "  1.49582844e-02  2.89365433e-02  1.09479168e-02  1.32819250e-03\n",
      "  0.00000000e+00  0.00000000e+00  3.86852184e-05  0.00000000e+00\n",
      "  0.00000000e+00  6.44753640e-05  2.57901456e-05  7.74993875e-03\n",
      "  1.28950728e-05  4.16510851e-03  1.28950728e-05  5.15802912e-05\n",
      "  3.49069620e-02  5.08143238e-01  8.63969877e-04  0.00000000e+00\n",
      "  6.83438858e-04  7.96786548e-02  3.56136120e-01  0.00000000e+00\n",
      "  1.28950728e-05  1.28950728e-05  6.11226450e-03  1.51102323e+06\n",
      " -1.51102323e+06 -6.03875084e+06  6.02583436e+10 -2.47519796e+24\n",
      " -1.08944444e+00 -1.51102323e+06]\n",
      "std [1.64470773e+00 6.85893279e-01 2.29554205e-01 3.10836793e-02\n",
      " 1.21385889e-01 1.67628219e-01 1.04057964e-01 3.64201648e-02\n",
      " 0.00000000e+00 0.00000000e+00 6.21962393e-03 0.00000000e+00\n",
      " 0.00000000e+00 8.02939642e-03 5.07833442e-03 8.76919449e-02\n",
      " 3.59094786e-03 6.44031085e-02 3.59094786e-03 7.18175679e-03\n",
      " 1.83544180e-01 4.99933683e-01 2.93806643e-02 0.00000000e+00\n",
      " 2.61337286e-02 2.70795064e-01 4.78856121e-01 0.00000000e+00\n",
      " 3.59094786e-03 3.59094786e-03 7.79416752e-02 3.39353734e+07\n",
      " 3.39353734e+07 1.35616815e+08 1.67267188e+13 6.67869904e+25\n",
      " 1.11344539e-01 3.39353734e+07]\n",
      "Standard deviation for feature 8 is 0.0, smaller than 0.001. You may want to exclude this feature.\n",
      "Standard deviation for feature 9 is 0.0, smaller than 0.001. You may want to exclude this feature.\n",
      "Standard deviation for feature 11 is 0.0, smaller than 0.001. You may want to exclude this feature.\n",
      "Standard deviation for feature 12 is 0.0, smaller than 0.001. You may want to exclude this feature.\n",
      "Standard deviation for feature 23 is 0.0, smaller than 0.001. You may want to exclude this feature.\n",
      "Standard deviation for feature 27 is 0.0, smaller than 0.001. You may want to exclude this feature.\n",
      "mean [ 0.00000000e+00  6.87115026e-02  1.17549332e-03  1.86354874e-02\n",
      "  3.57349968e-02  1.36513957e-02  1.71792153e+00  1.23900535e-01\n",
      "  2.96186305e-01 -2.96186305e-01 -6.89143078e-01  8.06569691e-01\n",
      " -2.58746579e+01  9.79953098e-01  6.44635616e-16 -6.89143078e-01\n",
      "  1.49612526e-01  1.44476462e+00]\n",
      "std [0.00000000e+00 2.52962906e-01 3.42653109e-02 1.35233894e-01\n",
      " 1.85628680e-01 1.16038938e-01 8.79065230e-01 1.70157369e-01\n",
      " 1.53062899e-01 1.53062899e-01 5.27840586e-01 2.92932812e-01\n",
      " 7.79264173e+00 5.39249818e-01 4.84791865e-15 5.27840586e-01\n",
      " 5.38767865e-01 6.04242241e-01]\n",
      "Standard deviation for feature 0 is 0.0, smaller than 0.001. You may want to exclude this feature.\n",
      "Standard deviation for feature 14 is 4.847918651347318e-15, smaller than 0.001. You may want to exclude this feature.\n",
      "mean [ 29.16472358  23.99511094 211.90266476]\n",
      "std [ 15.96076719  15.1459359  110.58346301]\n",
      "... > Scaling features complete\n",
      "... > feature mean(s): \n",
      " {'atom': tensor([ 1.5620e+00,  3.8088e-01,  5.5810e-02,  9.6713e-04,  1.4958e-02,\n",
      "         2.8937e-02,  1.0948e-02,  1.3282e-03,  0.0000e+00,  0.0000e+00,\n",
      "         3.8685e-05,  0.0000e+00,  0.0000e+00,  6.4475e-05,  2.5790e-05,\n",
      "         7.7499e-03,  1.2895e-05,  4.1651e-03,  1.2895e-05,  5.1580e-05,\n",
      "         3.4907e-02,  5.0814e-01,  8.6397e-04,  0.0000e+00,  6.8344e-04,\n",
      "         7.9679e-02,  3.5614e-01,  0.0000e+00,  1.2895e-05,  1.2895e-05,\n",
      "         6.1123e-03,  1.5110e+06, -1.5110e+06, -6.0388e+06,  6.0258e+10,\n",
      "        -2.4752e+24, -1.0894e+00, -1.5110e+06]), 'bond': tensor([ 0.0000e+00,  6.8712e-02,  1.1755e-03,  1.8635e-02,  3.5735e-02,\n",
      "         1.3651e-02,  1.7179e+00,  1.2390e-01,  2.9619e-01, -2.9619e-01,\n",
      "        -6.8914e-01,  8.0657e-01, -2.5875e+01,  9.7995e-01,  6.4464e-16,\n",
      "        -6.8914e-01,  1.4961e-01,  1.4448e+00]), 'global': tensor([ 29.1647,  23.9951, 211.9027])}\n",
      "... > feature std(s):  \n",
      " {'atom': tensor([1.6447e+00, 6.8589e-01, 2.2955e-01, 3.1084e-02, 1.2139e-01, 1.6763e-01,\n",
      "        1.0406e-01, 3.6420e-02, 1.0000e-03, 1.0000e-03, 6.2196e-03, 1.0000e-03,\n",
      "        1.0000e-03, 8.0294e-03, 5.0783e-03, 8.7692e-02, 3.5909e-03, 6.4403e-02,\n",
      "        3.5909e-03, 7.1818e-03, 1.8354e-01, 4.9993e-01, 2.9381e-02, 1.0000e-03,\n",
      "        2.6134e-02, 2.7080e-01, 4.7886e-01, 1.0000e-03, 3.5909e-03, 3.5909e-03,\n",
      "        7.7942e-02, 3.3935e+07, 3.3935e+07, 1.3562e+08, 1.6727e+13, 6.6787e+25,\n",
      "        1.1134e-01, 3.3935e+07]), 'bond': tensor([1.0000e-03, 2.5296e-01, 3.4265e-02, 1.3523e-01, 1.8563e-01, 1.1604e-01,\n",
      "        8.7907e-01, 1.7016e-01, 1.5306e-01, 1.5306e-01, 5.2784e-01, 2.9293e-01,\n",
      "        7.7926e+00, 5.3925e-01, 1.0000e-03, 5.2784e-01, 5.3877e-01, 6.0424e-01]), 'global': tensor([ 15.9608,  15.1459, 110.5835])}\n",
      "... > loaded dataset\n",
      "... > creating MoleculeWrapper objects\n"
     ]
    },
    {
     "name": "stderr",
     "output_type": "stream",
     "text": [
      "\n",
      "\u001b[A\n",
      "\u001b[A\n",
      "\u001b[A\n",
      "100%|██████████| 744/744 [00:00<00:00, 1948.04it/s]\n"
     ]
    },
    {
     "name": "stdout",
     "output_type": "stream",
     "text": [
      "... > bond_feats_error_count:  0\n",
      "... > atom_feats_error_count:  0\n",
      "element set {'Br', 'Ca', 'Na', 'Al', 'V', 'Ti', 'B', 'Cr', 'Cl', 'Cu', 'F', 'Fe', 'As', 'N', 'H', 'P', 'Se', 'Si', 'O', 'C', 'Ni', 'Zn', 'Ge', 'S'}\n",
      "selected atomic keys ['extra_feat_atom_Hamiltonian_K', 'extra_feat_atom_e_density', 'extra_feat_atom_lap_e_density', 'extra_feat_atom_esp_total', 'extra_feat_atom_det_hessian', 'extra_feat_atom_eta', 'extra_feat_atom_energy_density']\n",
      "selected bond keys ['extra_feat_bond_Lagrangian_K', 'bond_length', 'extra_feat_bond_Hamiltonian_K', 'extra_feat_bond_e_density', 'extra_feat_bond_lap_e_density', 'extra_feat_bond_e_loc_func', 'extra_feat_bond_esp_e', 'extra_feat_bond_esp_total', 'extra_feat_bond_grad_norm', 'extra_feat_bond_lap_norm', 'extra_feat_bond_ellip_e_dens', 'extra_feat_bond_eta']\n",
      "selected global keys ['NR-AR', 'NR-AR-LBD', 'NR-AhR', 'NR-Aromatase', 'NR-ER', 'NR-ER-LBD', 'NR-PPAR-gamma', 'SR-ARE', 'SR-ATAD5', 'SR-HSE', 'SR-MMP', 'SR-p53']\n",
      "... > Building graphs and featurizing\n"
     ]
    },
    {
     "name": "stderr",
     "output_type": "stream",
     "text": [
      "\n",
      "\u001b[A\n",
      "\u001b[A\n",
      "\u001b[A\n",
      "\u001b[A\n",
      "\u001b[A\n",
      "\u001b[A\n",
      "\u001b[A\n",
      "\u001b[A\n",
      "\u001b[A\n",
      "\u001b[A\n",
      "\u001b[A\n",
      "\u001b[A\n",
      "\u001b[A\n",
      "\u001b[A\n",
      "\u001b[A\n",
      "\u001b[A\n",
      "\u001b[A\n",
      "\u001b[A\n",
      "\u001b[A\n",
      "\u001b[A\n",
      "\u001b[A\n",
      "\u001b[A\n",
      "\u001b[A\n",
      "100%|██████████| 744/744 [00:02<00:00, 299.49it/s]\n"
     ]
    },
    {
     "name": "stdout",
     "output_type": "stream",
     "text": [
      "included in labels\n",
      "{'global': ['NR-AR', 'NR-AR-LBD', 'NR-AhR', 'NR-Aromatase', 'NR-ER', 'NR-ER-LBD', 'NR-PPAR-gamma', 'SR-ARE', 'SR-ATAD5', 'SR-HSE', 'SR-MMP', 'SR-p53']}\n",
      "included in graph features\n",
      "{'atom': ['total_degree', 'total_H', 'is_in_ring', 'ring_size_3', 'ring_size_4', 'ring_size_5', 'ring_size_6', 'chemical_symbol_Br', 'chemical_symbol_Ca', 'chemical_symbol_Na', 'chemical_symbol_Al', 'chemical_symbol_V', 'chemical_symbol_Ti', 'chemical_symbol_B', 'chemical_symbol_Cr', 'chemical_symbol_Cl', 'chemical_symbol_Cu', 'chemical_symbol_F', 'chemical_symbol_Fe', 'chemical_symbol_As', 'chemical_symbol_N', 'chemical_symbol_H', 'chemical_symbol_P', 'chemical_symbol_Se', 'chemical_symbol_Si', 'chemical_symbol_O', 'chemical_symbol_C', 'chemical_symbol_Ni', 'chemical_symbol_Zn', 'chemical_symbol_Ge', 'chemical_symbol_S', 'extra_feat_atom_Hamiltonian_K', 'extra_feat_atom_e_density', 'extra_feat_atom_lap_e_density', 'extra_feat_atom_esp_total', 'extra_feat_atom_det_hessian', 'extra_feat_atom_eta', 'extra_feat_atom_energy_density'], 'bond': ['metal bond', 'ring inclusion', 'ring size_3', 'ring size_4', 'ring size_5', 'ring size_6', 'bond_length', 'extra_feat_bond_Lagrangian_K', 'extra_feat_bond_Hamiltonian_K', 'extra_feat_bond_e_density', 'extra_feat_bond_lap_e_density', 'extra_feat_bond_e_loc_func', 'extra_feat_bond_esp_e', 'extra_feat_bond_esp_total', 'extra_feat_bond_grad_norm', 'extra_feat_bond_lap_norm', 'extra_feat_bond_ellip_e_dens', 'extra_feat_bond_eta'], 'global': ['num atoms', 'num bonds', 'molecule weight']}\n",
      "original loader node types: dict_keys(['atom', 'bond', 'global'])\n",
      "original loader label types: dict_keys([])\n",
      "include names:  dict_keys(['global'])\n",
      "... > parsing labels and features in graphs\n"
     ]
    },
    {
     "name": "stderr",
     "output_type": "stream",
     "text": [
      "\n",
      "744it [00:00, 27943.50it/s]\n"
     ]
    },
    {
     "name": "stdout",
     "output_type": "stream",
     "text": [
      "... > number of categories for each label: \n",
      "...... > label  NR-AR :  2 with distribution:  [306, 8]\n",
      "...... > label  NR-AR-LBD :  2 with distribution:  [308, 6]\n",
      "...... > label  NR-AhR :  2 with distribution:  [294, 20]\n",
      "...... > label  NR-Aromatase :  2 with distribution:  [306, 8]\n",
      "...... > label  NR-ER :  2 with distribution:  [291, 23]\n",
      "...... > label  NR-ER-LBD :  2 with distribution:  [306, 8]\n",
      "...... > label  NR-PPAR-gamma :  2 with distribution:  [314, 0]\n",
      "...... > label  SR-ARE :  2 with distribution:  [291, 23]\n",
      "...... > label  SR-ATAD5 :  2 with distribution:  [314, 0]\n",
      "...... > label  SR-HSE :  2 with distribution:  [309, 5]\n",
      "...... > label  SR-MMP :  2 with distribution:  [296, 18]\n",
      "...... > label  SR-p53 :  2 with distribution:  [311, 3]\n",
      "original loader node types: dict_keys(['atom', 'bond', 'global'])\n",
      "original loader label types: dict_keys(['global'])\n",
      "number of graphs filtered:  430\n",
      "... > Log scaling features\n",
      "... > Log scaling features complete\n",
      "... > Scaling features\n",
      "mean [ 7.51226224e-01  2.28242689e-01  3.83841968e-02  8.92655740e-04\n",
      "  6.84369401e-03  2.05310820e-02  1.01167651e-02  6.69491805e-04\n",
      "  0.00000000e+00  0.00000000e+00  0.00000000e+00  0.00000000e+00\n",
      "  0.00000000e+00  7.43879784e-05  0.00000000e+00  5.43032242e-03\n",
      "  0.00000000e+00  2.38041531e-03  0.00000000e+00  1.48775957e-04\n",
      "  2.67052842e-02  3.45829711e-01  7.43879784e-04  0.00000000e+00\n",
      "  2.23163935e-04  5.66836395e-02  2.49274116e-01  0.00000000e+00\n",
      "  0.00000000e+00  0.00000000e+00  4.98399455e-03  6.52000779e+00\n",
      " -6.52000779e+00 -7.80567826e+00  8.59320937e+00 -2.00088779e+01\n",
      " -7.35021585e-01 -6.52000779e+00]\n",
      "std [6.21803737e-01 3.86463692e-01 1.58532493e-01 2.48584991e-02\n",
      " 6.85335762e-02 1.17513984e-01 8.31267602e-02 2.15315615e-02\n",
      " 0.00000000e+00 0.00000000e+00 0.00000000e+00 0.00000000e+00\n",
      " 0.00000000e+00 7.18027047e-03 0.00000000e+00 6.11107542e-02\n",
      " 0.00000000e+00 4.05501145e-02 0.00000000e+00 1.01538909e-02\n",
      " 1.33407347e-01 3.46572793e-01 2.26950395e-02 0.00000000e+00\n",
      " 1.24352584e-02 1.89939648e-01 3.32635034e-01 0.00000000e+00\n",
      " 0.00000000e+00 0.00000000e+00 5.85645078e-02 5.14480722e+00\n",
      " 5.14480722e+00 5.24431649e+00 5.78023987e+00 1.58442696e+01\n",
      " 5.05058510e-02 5.14480722e+00]\n",
      "Standard deviation for feature 8 is 0.0, smaller than 0.001. You may want to exclude this feature.\n",
      "Standard deviation for feature 9 is 0.0, smaller than 0.001. You may want to exclude this feature.\n",
      "Standard deviation for feature 10 is 0.0, smaller than 0.001. You may want to exclude this feature.\n",
      "Standard deviation for feature 11 is 0.0, smaller than 0.001. You may want to exclude this feature.\n",
      "Standard deviation for feature 12 is 0.0, smaller than 0.001. You may want to exclude this feature.\n",
      "Standard deviation for feature 14 is 0.0, smaller than 0.001. You may want to exclude this feature.\n",
      "Standard deviation for feature 16 is 0.0, smaller than 0.001. You may want to exclude this feature.\n",
      "Standard deviation for feature 18 is 0.0, smaller than 0.001. You may want to exclude this feature.\n",
      "Standard deviation for feature 23 is 0.0, smaller than 0.001. You may want to exclude this feature.\n",
      "Standard deviation for feature 27 is 0.0, smaller than 0.001. You may want to exclude this feature.\n",
      "Standard deviation for feature 28 is 0.0, smaller than 0.001. You may want to exclude this feature.\n",
      "Standard deviation for feature 29 is 0.0, smaller than 0.001. You may want to exclude this feature.\n",
      "mean [ 0.00000000e+00  4.67199205e-02  1.08022938e-03  8.28175854e-03\n",
      "  2.52053521e-02  1.24226378e-02  9.33269314e-01  1.11541109e-01\n",
      "  2.56405751e-01 -2.56405751e-01 -4.84876468e-01  5.74272474e-01\n",
      " -3.27419811e+00  6.55469411e-01  0.00000000e+00 -4.84876468e-01\n",
      "  1.05260742e-01  8.58398858e-01]\n",
      "std [0.         0.17378444 0.02734211 0.07531195 0.12975249 0.09195866\n",
      " 0.37907035 0.13221195 0.11705012 0.11705012 0.33988453 0.19230036\n",
      " 0.28339642 0.27019654 0.         0.33988453 0.20474748 0.29747876]\n",
      "Standard deviation for feature 0 is 0.0, smaller than 0.001. You may want to exclude this feature.\n",
      "Standard deviation for feature 14 is 0.0, smaller than 0.001. You may want to exclude this feature.\n",
      "mean [3.30254276 3.08951136 5.27543842]\n",
      "std [0.48792112 0.53919177 0.47918857]\n",
      "... > Scaling features complete\n",
      "... > feature mean(s): \n",
      " {'atom': tensor([ 7.5123e-01,  2.2824e-01,  3.8384e-02,  8.9266e-04,  6.8437e-03,\n",
      "         2.0531e-02,  1.0117e-02,  6.6949e-04,  0.0000e+00,  0.0000e+00,\n",
      "         0.0000e+00,  0.0000e+00,  0.0000e+00,  7.4388e-05,  0.0000e+00,\n",
      "         5.4303e-03,  0.0000e+00,  2.3804e-03,  0.0000e+00,  1.4878e-04,\n",
      "         2.6705e-02,  3.4583e-01,  7.4388e-04,  0.0000e+00,  2.2316e-04,\n",
      "         5.6684e-02,  2.4927e-01,  0.0000e+00,  0.0000e+00,  0.0000e+00,\n",
      "         4.9840e-03,  6.5200e+00, -6.5200e+00, -7.8057e+00,  8.5932e+00,\n",
      "        -2.0009e+01, -7.3502e-01, -6.5200e+00]), 'bond': tensor([ 0.0000e+00,  4.6720e-02,  1.0802e-03,  8.2818e-03,  2.5205e-02,\n",
      "         1.2423e-02,  9.3327e-01,  1.1154e-01,  2.5641e-01, -2.5641e-01,\n",
      "        -4.8488e-01,  5.7427e-01, -3.2742e+00,  6.5547e-01,  0.0000e+00,\n",
      "        -4.8488e-01,  1.0526e-01,  8.5840e-01]), 'global': tensor([3.3025, 3.0895, 5.2754])}\n",
      "... > feature std(s):  \n",
      " {'atom': tensor([6.2180e-01, 3.8646e-01, 1.5853e-01, 2.4858e-02, 6.8534e-02, 1.1751e-01,\n",
      "        8.3127e-02, 2.1532e-02, 1.0000e-03, 1.0000e-03, 1.0000e-03, 1.0000e-03,\n",
      "        1.0000e-03, 7.1803e-03, 1.0000e-03, 6.1111e-02, 1.0000e-03, 4.0550e-02,\n",
      "        1.0000e-03, 1.0154e-02, 1.3341e-01, 3.4657e-01, 2.2695e-02, 1.0000e-03,\n",
      "        1.2435e-02, 1.8994e-01, 3.3264e-01, 1.0000e-03, 1.0000e-03, 1.0000e-03,\n",
      "        5.8565e-02, 5.1448e+00, 5.1448e+00, 5.2443e+00, 5.7802e+00, 1.5844e+01,\n",
      "        5.0506e-02, 5.1448e+00]), 'bond': tensor([0.0010, 0.1738, 0.0273, 0.0753, 0.1298, 0.0920, 0.3791, 0.1322, 0.1171,\n",
      "        0.1171, 0.3399, 0.1923, 0.2834, 0.2702, 0.0010, 0.3399, 0.2047, 0.2975]), 'global': tensor([0.4879, 0.5392, 0.4792])}\n",
      "... > loaded dataset\n",
      "... > creating MoleculeWrapper objects\n"
     ]
    },
    {
     "name": "stderr",
     "output_type": "stream",
     "text": [
      "\n",
      "\u001b[A\n",
      "\u001b[A\n",
      "\u001b[A\n",
      "100%|██████████| 744/744 [00:00<00:00, 2069.97it/s]\n"
     ]
    },
    {
     "name": "stdout",
     "output_type": "stream",
     "text": [
      "... > bond_feats_error_count:  0\n",
      "... > atom_feats_error_count:  0\n",
      "element set {'Br', 'Ca', 'Na', 'Al', 'V', 'Ti', 'B', 'Cr', 'Cl', 'Cu', 'F', 'Fe', 'As', 'N', 'H', 'P', 'Se', 'Si', 'O', 'C', 'Ni', 'Zn', 'Ge', 'S'}\n",
      "selected atomic keys ['extra_feat_atom_Hamiltonian_K', 'extra_feat_atom_e_density', 'extra_feat_atom_lap_e_density', 'extra_feat_atom_esp_total', 'extra_feat_atom_det_hessian', 'extra_feat_atom_eta', 'extra_feat_atom_energy_density']\n",
      "selected bond keys ['extra_feat_bond_Lagrangian_K', 'bond_length', 'extra_feat_bond_Hamiltonian_K', 'extra_feat_bond_e_density', 'extra_feat_bond_lap_e_density', 'extra_feat_bond_e_loc_func', 'extra_feat_bond_esp_e', 'extra_feat_bond_esp_total', 'extra_feat_bond_grad_norm', 'extra_feat_bond_lap_norm', 'extra_feat_bond_ellip_e_dens', 'extra_feat_bond_eta']\n",
      "selected global keys ['NR-AR']\n",
      "... > Building graphs and featurizing\n"
     ]
    },
    {
     "name": "stderr",
     "output_type": "stream",
     "text": [
      "\n",
      "\u001b[A\n",
      "\u001b[A\n",
      "\u001b[A\n",
      "\u001b[A\n",
      "\u001b[A\n",
      "\u001b[A\n",
      "\u001b[A\n",
      "\u001b[A\n",
      "\u001b[A\n",
      "\u001b[A\n",
      "\u001b[A\n",
      "\u001b[A\n",
      "\u001b[A\n",
      "\u001b[A\n",
      "\u001b[A\n",
      "\u001b[A\n",
      "\u001b[A\n",
      "\u001b[A\n",
      "\u001b[A\n",
      "\u001b[A\n",
      "\u001b[A\n",
      "\u001b[A\n",
      "100%|██████████| 744/744 [00:02<00:00, 304.68it/s]\n"
     ]
    },
    {
     "name": "stdout",
     "output_type": "stream",
     "text": [
      "included in labels\n",
      "{'global': ['NR-AR']}\n",
      "included in graph features\n",
      "{'atom': ['total_degree', 'total_H', 'is_in_ring', 'ring_size_3', 'ring_size_4', 'ring_size_5', 'ring_size_6', 'chemical_symbol_Br', 'chemical_symbol_Ca', 'chemical_symbol_Na', 'chemical_symbol_Al', 'chemical_symbol_V', 'chemical_symbol_Ti', 'chemical_symbol_B', 'chemical_symbol_Cr', 'chemical_symbol_Cl', 'chemical_symbol_Cu', 'chemical_symbol_F', 'chemical_symbol_Fe', 'chemical_symbol_As', 'chemical_symbol_N', 'chemical_symbol_H', 'chemical_symbol_P', 'chemical_symbol_Se', 'chemical_symbol_Si', 'chemical_symbol_O', 'chemical_symbol_C', 'chemical_symbol_Ni', 'chemical_symbol_Zn', 'chemical_symbol_Ge', 'chemical_symbol_S', 'extra_feat_atom_Hamiltonian_K', 'extra_feat_atom_e_density', 'extra_feat_atom_lap_e_density', 'extra_feat_atom_esp_total', 'extra_feat_atom_det_hessian', 'extra_feat_atom_eta', 'extra_feat_atom_energy_density'], 'bond': ['metal bond', 'ring inclusion', 'ring size_3', 'ring size_4', 'ring size_5', 'ring size_6', 'bond_length', 'extra_feat_bond_Lagrangian_K', 'extra_feat_bond_Hamiltonian_K', 'extra_feat_bond_e_density', 'extra_feat_bond_lap_e_density', 'extra_feat_bond_e_loc_func', 'extra_feat_bond_esp_e', 'extra_feat_bond_esp_total', 'extra_feat_bond_grad_norm', 'extra_feat_bond_lap_norm', 'extra_feat_bond_ellip_e_dens', 'extra_feat_bond_eta'], 'global': ['num atoms', 'num bonds', 'molecule weight']}\n",
      "original loader node types: dict_keys(['atom', 'bond', 'global'])\n",
      "original loader label types: dict_keys([])\n",
      "include names:  dict_keys(['global'])\n",
      "... > parsing labels and features in graphs\n"
     ]
    },
    {
     "name": "stderr",
     "output_type": "stream",
     "text": [
      "\n",
      "744it [00:00, 30730.53it/s]\n"
     ]
    },
    {
     "name": "stdout",
     "output_type": "stream",
     "text": [
      "... > number of categories for each label: \n",
      "...... > label  NR-AR :  2 with distribution:  [667, 25]\n",
      "original loader node types: dict_keys(['atom', 'bond', 'global'])\n",
      "original loader label types: dict_keys(['global'])\n",
      "number of graphs filtered:  52\n",
      "... > Scaling features\n",
      "mean [ 1.65871103e+00  3.99349084e-01  5.44439087e-02  9.64320154e-04\n",
      "  1.16522019e-02  2.72018644e-02  1.46255223e-02  7.63420122e-04\n",
      "  0.00000000e+00  0.00000000e+00  0.00000000e+00  0.00000000e+00\n",
      "  0.00000000e+00  4.01800064e-05  0.00000000e+00  8.47798136e-03\n",
      "  0.00000000e+00  5.22340084e-03  0.00000000e+00  1.20540019e-04\n",
      "  3.88540662e-02  4.90035358e-01  9.64320154e-04  1.20540019e-04\n",
      "  3.21440051e-04  7.45740919e-02  3.73955320e-01  0.00000000e+00\n",
      "  0.00000000e+00  0.00000000e+00  6.54934105e-03  1.12563992e+06\n",
      " -1.12563992e+06 -4.49864208e+06  4.56780596e+08 -1.62552374e+24\n",
      " -1.08668119e+00 -1.12563992e+06]\n",
      "std [1.67965557e+00 6.99619606e-01 2.26891537e-01 3.10385283e-02\n",
      " 1.07314622e-01 1.62671211e-01 1.20048392e-01 2.76195096e-02\n",
      " 0.00000000e+00 0.00000000e+00 0.00000000e+00 0.00000000e+00\n",
      " 0.00000000e+00 6.33864276e-03 0.00000000e+00 9.16848144e-02\n",
      " 0.00000000e+00 7.20840962e-02 0.00000000e+00 1.09784101e-02\n",
      " 1.93247064e-01 4.99900696e-01 3.10385283e-02 1.09784101e-02\n",
      " 1.79258676e-02 2.62702868e-01 4.83851980e-01 0.00000000e+00\n",
      " 0.00000000e+00 0.00000000e+00 8.06625513e-02 2.78428181e+07\n",
      " 2.78428181e+07 1.11269257e+08 7.16989827e+10 5.27062013e+25\n",
      " 1.10430612e-01 2.78428181e+07]\n",
      "Standard deviation for feature 8 is 0.0, smaller than 0.001. You may want to exclude this feature.\n",
      "Standard deviation for feature 9 is 0.0, smaller than 0.001. You may want to exclude this feature.\n",
      "Standard deviation for feature 10 is 0.0, smaller than 0.001. You may want to exclude this feature.\n",
      "Standard deviation for feature 11 is 0.0, smaller than 0.001. You may want to exclude this feature.\n",
      "Standard deviation for feature 12 is 0.0, smaller than 0.001. You may want to exclude this feature.\n",
      "Standard deviation for feature 14 is 0.0, smaller than 0.001. You may want to exclude this feature.\n",
      "Standard deviation for feature 16 is 0.0, smaller than 0.001. You may want to exclude this feature.\n",
      "Standard deviation for feature 18 is 0.0, smaller than 0.001. You may want to exclude this feature.\n",
      "Standard deviation for feature 27 is 0.0, smaller than 0.001. You may want to exclude this feature.\n",
      "Standard deviation for feature 28 is 0.0, smaller than 0.001. You may want to exclude this feature.\n",
      "Standard deviation for feature 29 is 0.0, smaller than 0.001. You may want to exclude this feature.\n",
      "mean [ 0.00000000e+00  6.29819458e-02  1.10818673e-03  1.34829385e-02\n",
      "  3.19527174e-02  1.68998476e-02  1.75581173e+00  1.19942985e-01\n",
      "  2.92070186e-01 -2.92070186e-01 -6.88508806e-01  8.01003127e-01\n",
      " -2.96638143e+01  9.62719743e-01  6.69315004e-16 -6.88508806e-01\n",
      "  1.64960370e-01  1.44693661e+00]\n",
      "std [0.00000000e+00 2.42930484e-01 3.32709881e-02 1.15330607e-01\n",
      " 1.75874220e-01 1.28896248e-01 8.74118252e-01 1.63805954e-01\n",
      " 1.52093448e-01 1.52093448e-01 5.15021900e-01 2.99969966e-01\n",
      " 9.49908934e+00 5.33579047e-01 5.11315735e-15 5.15021900e-01\n",
      " 6.37910121e-01 6.12636707e-01]\n",
      "Standard deviation for feature 0 is 0.0, smaller than 0.001. You may want to exclude this feature.\n",
      "Standard deviation for feature 14 is 5.113157354532622e-15, smaller than 0.001. You may want to exclude this feature.\n",
      "mean [ 35.96531792  31.29624277 267.99826574]\n",
      "std [ 22.17870039  22.11250366 152.33889645]\n",
      "... > Scaling features complete\n",
      "... > feature mean(s): \n",
      " {'atom': tensor([ 1.6587e+00,  3.9935e-01,  5.4444e-02,  9.6432e-04,  1.1652e-02,\n",
      "         2.7202e-02,  1.4626e-02,  7.6342e-04,  0.0000e+00,  0.0000e+00,\n",
      "         0.0000e+00,  0.0000e+00,  0.0000e+00,  4.0180e-05,  0.0000e+00,\n",
      "         8.4780e-03,  0.0000e+00,  5.2234e-03,  0.0000e+00,  1.2054e-04,\n",
      "         3.8854e-02,  4.9004e-01,  9.6432e-04,  1.2054e-04,  3.2144e-04,\n",
      "         7.4574e-02,  3.7396e-01,  0.0000e+00,  0.0000e+00,  0.0000e+00,\n",
      "         6.5493e-03,  1.1256e+06, -1.1256e+06, -4.4986e+06,  4.5678e+08,\n",
      "        -1.6255e+24, -1.0867e+00, -1.1256e+06]), 'bond': tensor([ 0.0000e+00,  6.2982e-02,  1.1082e-03,  1.3483e-02,  3.1953e-02,\n",
      "         1.6900e-02,  1.7558e+00,  1.1994e-01,  2.9207e-01, -2.9207e-01,\n",
      "        -6.8851e-01,  8.0100e-01, -2.9664e+01,  9.6272e-01,  6.6932e-16,\n",
      "        -6.8851e-01,  1.6496e-01,  1.4469e+00]), 'global': tensor([ 35.9653,  31.2962, 267.9983])}\n",
      "... > feature std(s):  \n",
      " {'atom': tensor([1.6797e+00, 6.9962e-01, 2.2689e-01, 3.1039e-02, 1.0731e-01, 1.6267e-01,\n",
      "        1.2005e-01, 2.7620e-02, 1.0000e-03, 1.0000e-03, 1.0000e-03, 1.0000e-03,\n",
      "        1.0000e-03, 6.3386e-03, 1.0000e-03, 9.1685e-02, 1.0000e-03, 7.2084e-02,\n",
      "        1.0000e-03, 1.0978e-02, 1.9325e-01, 4.9990e-01, 3.1039e-02, 1.0978e-02,\n",
      "        1.7926e-02, 2.6270e-01, 4.8385e-01, 1.0000e-03, 1.0000e-03, 1.0000e-03,\n",
      "        8.0663e-02, 2.7843e+07, 2.7843e+07, 1.1127e+08, 7.1699e+10, 5.2706e+25,\n",
      "        1.1043e-01, 2.7843e+07]), 'bond': tensor([1.0000e-03, 2.4293e-01, 3.3271e-02, 1.1533e-01, 1.7587e-01, 1.2890e-01,\n",
      "        8.7412e-01, 1.6381e-01, 1.5209e-01, 1.5209e-01, 5.1502e-01, 2.9997e-01,\n",
      "        9.4991e+00, 5.3358e-01, 1.0000e-03, 5.1502e-01, 6.3791e-01, 6.1264e-01]), 'global': tensor([ 22.1787,  22.1125, 152.3389])}\n",
      "... > loaded dataset\n",
      "... > creating MoleculeWrapper objects\n"
     ]
    },
    {
     "name": "stderr",
     "output_type": "stream",
     "text": [
      "\n",
      "\u001b[A\n",
      "100%|██████████| 744/744 [00:00<00:00, 6288.31it/s]\n"
     ]
    },
    {
     "name": "stdout",
     "output_type": "stream",
     "text": [
      "... > bond_feats_error_count:  0\n",
      "... > atom_feats_error_count:  0\n",
      "element set {'Br', 'Ca', 'Na', 'Al', 'V', 'Ti', 'B', 'Cr', 'Cl', 'Cu', 'F', 'Fe', 'As', 'N', 'H', 'P', 'Se', 'Si', 'O', 'C', 'Ni', 'Zn', 'Ge', 'S'}\n",
      "selected atomic keys []\n",
      "selected bond keys ['bond_length']\n",
      "selected global keys ['NR-AR']\n",
      "... > Building graphs and featurizing\n"
     ]
    },
    {
     "name": "stderr",
     "output_type": "stream",
     "text": [
      "\n",
      "\u001b[A\n",
      "\u001b[A\n",
      "\u001b[A\n",
      "\u001b[A\n",
      "\u001b[A\n",
      "\u001b[A\n",
      "\u001b[A\n",
      "\u001b[A\n",
      "\u001b[A\n",
      "\u001b[A\n",
      "\u001b[A\n",
      "\u001b[A\n",
      "\u001b[A\n",
      "\u001b[A\n",
      "\u001b[A\n",
      "\u001b[A\n",
      "\u001b[A\n",
      "\u001b[A\n",
      "\u001b[A\n",
      "\u001b[A\n",
      "\u001b[A\n",
      "\u001b[A\n",
      "100%|██████████| 744/744 [00:02<00:00, 312.23it/s]\n"
     ]
    },
    {
     "name": "stdout",
     "output_type": "stream",
     "text": [
      "included in labels\n",
      "{'global': ['NR-AR']}\n",
      "included in graph features\n",
      "{'atom': ['total_degree', 'total_H', 'is_in_ring', 'ring_size_3', 'ring_size_4', 'ring_size_5', 'ring_size_6', 'chemical_symbol_Br', 'chemical_symbol_Ca', 'chemical_symbol_Na', 'chemical_symbol_Al', 'chemical_symbol_V', 'chemical_symbol_Ti', 'chemical_symbol_B', 'chemical_symbol_Cr', 'chemical_symbol_Cl', 'chemical_symbol_Cu', 'chemical_symbol_F', 'chemical_symbol_Fe', 'chemical_symbol_As', 'chemical_symbol_N', 'chemical_symbol_H', 'chemical_symbol_P', 'chemical_symbol_Se', 'chemical_symbol_Si', 'chemical_symbol_O', 'chemical_symbol_C', 'chemical_symbol_Ni', 'chemical_symbol_Zn', 'chemical_symbol_Ge', 'chemical_symbol_S'], 'bond': ['metal bond', 'ring inclusion', 'ring size_3', 'ring size_4', 'ring size_5', 'ring size_6', 'bond_length'], 'global': ['num atoms', 'num bonds', 'molecule weight']}\n",
      "original loader node types: dict_keys(['atom', 'bond', 'global'])\n",
      "original loader label types: dict_keys([])\n",
      "include names:  dict_keys(['global'])\n",
      "... > parsing labels and features in graphs\n"
     ]
    },
    {
     "name": "stderr",
     "output_type": "stream",
     "text": [
      "\n",
      "744it [00:00, 30320.86it/s]\n"
     ]
    },
    {
     "name": "stdout",
     "output_type": "stream",
     "text": [
      "... > number of categories for each label: \n",
      "...... > label  NR-AR :  2 with distribution:  [667, 25]\n",
      "original loader node types: dict_keys(['atom', 'bond', 'global'])\n",
      "original loader label types: dict_keys(['global'])\n",
      "number of graphs filtered:  52\n",
      "... > Scaling features\n",
      "mean [1.65871103e+00 3.99349084e-01 5.44439087e-02 9.64320154e-04\n",
      " 1.16522019e-02 2.72018644e-02 1.46255223e-02 7.63420122e-04\n",
      " 0.00000000e+00 0.00000000e+00 0.00000000e+00 0.00000000e+00\n",
      " 0.00000000e+00 4.01800064e-05 0.00000000e+00 8.47798136e-03\n",
      " 0.00000000e+00 5.22340084e-03 0.00000000e+00 1.20540019e-04\n",
      " 3.88540662e-02 4.90035358e-01 9.64320154e-04 1.20540019e-04\n",
      " 3.21440051e-04 7.45740919e-02 3.73955320e-01 0.00000000e+00\n",
      " 0.00000000e+00 0.00000000e+00 6.54934105e-03]\n",
      "std [1.67965557 0.69961961 0.22689154 0.03103853 0.10731462 0.16267121\n",
      " 0.12004839 0.02761951 0.         0.         0.         0.\n",
      " 0.         0.00633864 0.         0.09168481 0.         0.0720841\n",
      " 0.         0.01097841 0.19324706 0.4999007  0.03103853 0.01097841\n",
      " 0.01792587 0.26270287 0.48385198 0.         0.         0.\n",
      " 0.08066255]\n",
      "Standard deviation for feature 8 is 0.0, smaller than 0.001. You may want to exclude this feature.\n",
      "Standard deviation for feature 9 is 0.0, smaller than 0.001. You may want to exclude this feature.\n",
      "Standard deviation for feature 10 is 0.0, smaller than 0.001. You may want to exclude this feature.\n",
      "Standard deviation for feature 11 is 0.0, smaller than 0.001. You may want to exclude this feature.\n",
      "Standard deviation for feature 12 is 0.0, smaller than 0.001. You may want to exclude this feature.\n",
      "Standard deviation for feature 14 is 0.0, smaller than 0.001. You may want to exclude this feature.\n",
      "Standard deviation for feature 16 is 0.0, smaller than 0.001. You may want to exclude this feature.\n",
      "Standard deviation for feature 18 is 0.0, smaller than 0.001. You may want to exclude this feature.\n",
      "Standard deviation for feature 27 is 0.0, smaller than 0.001. You may want to exclude this feature.\n",
      "Standard deviation for feature 28 is 0.0, smaller than 0.001. You may want to exclude this feature.\n",
      "Standard deviation for feature 29 is 0.0, smaller than 0.001. You may want to exclude this feature.\n",
      "mean [0.00000000e+00 6.29819458e-02 1.10818673e-03 1.34829385e-02\n",
      " 3.19527174e-02 1.68998476e-02 1.75581173e+00]\n",
      "std [0.         0.24293048 0.03327099 0.11533061 0.17587422 0.12889625\n",
      " 0.87411825]\n",
      "Standard deviation for feature 0 is 0.0, smaller than 0.001. You may want to exclude this feature.\n",
      "mean [ 35.96531792  31.29624277 267.99826574]\n",
      "std [ 22.17870039  22.11250366 152.33889645]\n",
      "... > Scaling features complete\n",
      "... > feature mean(s): \n",
      " {'atom': tensor([1.6587e+00, 3.9935e-01, 5.4444e-02, 9.6432e-04, 1.1652e-02, 2.7202e-02,\n",
      "        1.4626e-02, 7.6342e-04, 0.0000e+00, 0.0000e+00, 0.0000e+00, 0.0000e+00,\n",
      "        0.0000e+00, 4.0180e-05, 0.0000e+00, 8.4780e-03, 0.0000e+00, 5.2234e-03,\n",
      "        0.0000e+00, 1.2054e-04, 3.8854e-02, 4.9004e-01, 9.6432e-04, 1.2054e-04,\n",
      "        3.2144e-04, 7.4574e-02, 3.7396e-01, 0.0000e+00, 0.0000e+00, 0.0000e+00,\n",
      "        6.5493e-03]), 'bond': tensor([0.0000e+00, 6.2982e-02, 1.1082e-03, 1.3483e-02, 3.1953e-02, 1.6900e-02,\n",
      "        1.7558e+00]), 'global': tensor([ 35.9653,  31.2962, 267.9983])}\n",
      "... > feature std(s):  \n",
      " {'atom': tensor([1.6797e+00, 6.9962e-01, 2.2689e-01, 3.1039e-02, 1.0731e-01, 1.6267e-01,\n",
      "        1.2005e-01, 2.7620e-02, 1.0000e-03, 1.0000e-03, 1.0000e-03, 1.0000e-03,\n",
      "        1.0000e-03, 6.3386e-03, 1.0000e-03, 9.1685e-02, 1.0000e-03, 7.2084e-02,\n",
      "        1.0000e-03, 1.0978e-02, 1.9325e-01, 4.9990e-01, 3.1039e-02, 1.0978e-02,\n",
      "        1.7926e-02, 2.6270e-01, 4.8385e-01, 1.0000e-03, 1.0000e-03, 1.0000e-03,\n",
      "        8.0663e-02]), 'bond': tensor([0.0010, 0.2429, 0.0333, 0.1153, 0.1759, 0.1289, 0.8741]), 'global': tensor([ 22.1787,  22.1125, 152.3389])}\n",
      "... > loaded dataset\n",
      "... > creating MoleculeWrapper objects\n"
     ]
    },
    {
     "name": "stderr",
     "output_type": "stream",
     "text": [
      "\n",
      "\u001b[A\n",
      "\u001b[A\n",
      "\u001b[A\n",
      "100%|██████████| 744/744 [00:00<00:00, 2009.16it/s]\n"
     ]
    },
    {
     "name": "stdout",
     "output_type": "stream",
     "text": [
      "... > bond_feats_error_count:  0\n",
      "... > atom_feats_error_count:  0\n",
      "element set {'Br', 'Ca', 'Na', 'Al', 'V', 'Ti', 'B', 'Cr', 'Cl', 'Cu', 'F', 'Fe', 'As', 'N', 'H', 'P', 'Se', 'Si', 'O', 'C', 'Ni', 'Zn', 'Ge', 'S'}\n",
      "selected atomic keys ['extra_feat_atom_Hamiltonian_K', 'extra_feat_atom_e_density', 'extra_feat_atom_lap_e_density', 'extra_feat_atom_esp_total', 'extra_feat_atom_det_hessian', 'extra_feat_atom_eta', 'extra_feat_atom_energy_density']\n",
      "selected bond keys ['extra_feat_bond_Lagrangian_K', 'bond_length', 'extra_feat_bond_Hamiltonian_K', 'extra_feat_bond_e_density', 'extra_feat_bond_lap_e_density', 'extra_feat_bond_e_loc_func', 'extra_feat_bond_esp_e', 'extra_feat_bond_esp_total', 'extra_feat_bond_grad_norm', 'extra_feat_bond_lap_norm', 'extra_feat_bond_ellip_e_dens', 'extra_feat_bond_eta']\n",
      "selected global keys ['NR-AR-LBD']\n",
      "... > Building graphs and featurizing\n"
     ]
    },
    {
     "name": "stderr",
     "output_type": "stream",
     "text": [
      "\n",
      "\u001b[A\n",
      "\u001b[A\n",
      "\u001b[A\n",
      "\u001b[A\n",
      "\u001b[A\n",
      "\u001b[A\n",
      "\u001b[A\n",
      "\u001b[A\n",
      "\u001b[A\n",
      "\u001b[A\n",
      "\u001b[A\n",
      "\u001b[A\n",
      "\u001b[A\n",
      "\u001b[A\n",
      "\u001b[A\n",
      "\u001b[A\n",
      "\u001b[A\n",
      "\u001b[A\n",
      "\u001b[A\n",
      "\u001b[A\n",
      "\u001b[A\n",
      "\u001b[A\n",
      "100%|██████████| 744/744 [00:02<00:00, 305.05it/s]\n"
     ]
    },
    {
     "name": "stdout",
     "output_type": "stream",
     "text": [
      "included in labels\n",
      "{'global': ['NR-AR-LBD']}\n",
      "included in graph features\n",
      "{'atom': ['total_degree', 'total_H', 'is_in_ring', 'ring_size_3', 'ring_size_4', 'ring_size_5', 'ring_size_6', 'chemical_symbol_Br', 'chemical_symbol_Ca', 'chemical_symbol_Na', 'chemical_symbol_Al', 'chemical_symbol_V', 'chemical_symbol_Ti', 'chemical_symbol_B', 'chemical_symbol_Cr', 'chemical_symbol_Cl', 'chemical_symbol_Cu', 'chemical_symbol_F', 'chemical_symbol_Fe', 'chemical_symbol_As', 'chemical_symbol_N', 'chemical_symbol_H', 'chemical_symbol_P', 'chemical_symbol_Se', 'chemical_symbol_Si', 'chemical_symbol_O', 'chemical_symbol_C', 'chemical_symbol_Ni', 'chemical_symbol_Zn', 'chemical_symbol_Ge', 'chemical_symbol_S', 'extra_feat_atom_Hamiltonian_K', 'extra_feat_atom_e_density', 'extra_feat_atom_lap_e_density', 'extra_feat_atom_esp_total', 'extra_feat_atom_det_hessian', 'extra_feat_atom_eta', 'extra_feat_atom_energy_density'], 'bond': ['metal bond', 'ring inclusion', 'ring size_3', 'ring size_4', 'ring size_5', 'ring size_6', 'bond_length', 'extra_feat_bond_Lagrangian_K', 'extra_feat_bond_Hamiltonian_K', 'extra_feat_bond_e_density', 'extra_feat_bond_lap_e_density', 'extra_feat_bond_e_loc_func', 'extra_feat_bond_esp_e', 'extra_feat_bond_esp_total', 'extra_feat_bond_grad_norm', 'extra_feat_bond_lap_norm', 'extra_feat_bond_ellip_e_dens', 'extra_feat_bond_eta'], 'global': ['num atoms', 'num bonds', 'molecule weight']}\n",
      "original loader node types: dict_keys(['atom', 'bond', 'global'])\n",
      "original loader label types: dict_keys([])\n",
      "include names:  dict_keys(['global'])\n",
      "... > parsing labels and features in graphs\n"
     ]
    },
    {
     "name": "stderr",
     "output_type": "stream",
     "text": [
      "\n",
      "744it [00:00, 31432.25it/s]\n"
     ]
    },
    {
     "name": "stdout",
     "output_type": "stream",
     "text": [
      "... > number of categories for each label: \n",
      "...... > label  NR-AR-LBD :  2 with distribution:  [631, 17]\n",
      "original loader node types: dict_keys(['atom', 'bond', 'global'])\n",
      "original loader label types: dict_keys(['global'])\n",
      "number of graphs filtered:  96\n",
      "... > Scaling features\n",
      "mean [ 1.64485736e+00  3.94627284e-01  5.41215654e-02  9.20285727e-04\n",
      "  1.07804899e-02  2.85726807e-02  1.38481090e-02  7.01170078e-04\n",
      "  0.00000000e+00  0.00000000e+00  0.00000000e+00  0.00000000e+00\n",
      "  0.00000000e+00  4.38231298e-05  0.00000000e+00  7.75669398e-03\n",
      "  0.00000000e+00  4.82054428e-03  0.00000000e+00  1.31469390e-04\n",
      "  3.91778781e-02  4.92133748e-01  1.05175512e-03  1.31469390e-04\n",
      "  3.50585039e-04  7.43678514e-02  3.72628073e-01  0.00000000e+00\n",
      "  0.00000000e+00  0.00000000e+00  6.70493887e-03  1.07658723e+06\n",
      " -1.07658723e+06 -4.30261260e+06  4.97986751e+08 -1.53266112e+24\n",
      " -1.08662543e+00 -1.07658723e+06]\n",
      "std [1.67330334e+00 6.94975844e-01 2.26257423e-01 3.03222493e-02\n",
      " 1.03267957e-01 1.66602169e-01 1.16860339e-01 2.64703313e-02\n",
      " 0.00000000e+00 0.00000000e+00 0.00000000e+00 0.00000000e+00\n",
      " 0.00000000e+00 6.61975901e-03 0.00000000e+00 8.77298563e-02\n",
      " 0.00000000e+00 6.92625919e-02 0.00000000e+00 1.14652564e-02\n",
      " 1.94017968e-01 4.99938118e-01 3.24137151e-02 1.14652564e-02\n",
      " 1.87206338e-02 2.62368584e-01 4.83504284e-01 0.00000000e+00\n",
      " 0.00000000e+00 0.00000000e+00 8.16087168e-02 2.71046604e+07\n",
      " 2.71046604e+07 1.08319392e+08 7.48788036e+10 5.09053771e+25\n",
      " 1.09419568e-01 2.71046604e+07]\n",
      "Standard deviation for feature 8 is 0.0, smaller than 0.001. You may want to exclude this feature.\n",
      "Standard deviation for feature 9 is 0.0, smaller than 0.001. You may want to exclude this feature.\n",
      "Standard deviation for feature 10 is 0.0, smaller than 0.001. You may want to exclude this feature.\n",
      "Standard deviation for feature 11 is 0.0, smaller than 0.001. You may want to exclude this feature.\n",
      "Standard deviation for feature 12 is 0.0, smaller than 0.001. You may want to exclude this feature.\n",
      "Standard deviation for feature 14 is 0.0, smaller than 0.001. You may want to exclude this feature.\n",
      "Standard deviation for feature 16 is 0.0, smaller than 0.001. You may want to exclude this feature.\n",
      "Standard deviation for feature 18 is 0.0, smaller than 0.001. You may want to exclude this feature.\n",
      "Standard deviation for feature 27 is 0.0, smaller than 0.001. You may want to exclude this feature.\n",
      "Standard deviation for feature 28 is 0.0, smaller than 0.001. You may want to exclude this feature.\n",
      "Standard deviation for feature 29 is 0.0, smaller than 0.001. You may want to exclude this feature.\n",
      "mean [ 0.00000000e+00  6.31504137e-02  1.06604396e-03  1.25894715e-02\n",
      "  3.38595868e-02  1.61429514e-02  1.74937200e+00  1.20589390e-01\n",
      "  2.92978344e-01 -2.92978344e-01 -6.89555816e-01  8.03516478e-01\n",
      " -2.90104775e+01  9.65352115e-01  6.70400531e-16 -6.89555816e-01\n",
      "  1.63021927e-01  1.45305713e+00]\n",
      "std [0.00000000e+00 2.43233302e-01 3.26329207e-02 1.11494290e-01\n",
      " 1.80867673e-01 1.26025222e-01 8.71883194e-01 1.64704573e-01\n",
      " 1.51263454e-01 1.51263454e-01 5.17054708e-01 2.97541781e-01\n",
      " 8.84165162e+00 5.31260100e-01 5.13458471e-15 5.17054708e-01\n",
      " 6.09583846e-01 6.11328367e-01]\n",
      "Standard deviation for feature 0 is 0.0, smaller than 0.001. You may want to exclude this feature.\n",
      "Standard deviation for feature 14 is 5.134584707300194e-15, smaller than 0.001. You may want to exclude this feature.\n",
      "mean [ 35.21450617  30.39969136 260.97551208]\n",
      "std [ 20.70289476  20.31083606 141.65193013]\n",
      "... > Scaling features complete\n",
      "... > feature mean(s): \n",
      " {'atom': tensor([ 1.6449e+00,  3.9463e-01,  5.4122e-02,  9.2029e-04,  1.0780e-02,\n",
      "         2.8573e-02,  1.3848e-02,  7.0117e-04,  0.0000e+00,  0.0000e+00,\n",
      "         0.0000e+00,  0.0000e+00,  0.0000e+00,  4.3823e-05,  0.0000e+00,\n",
      "         7.7567e-03,  0.0000e+00,  4.8205e-03,  0.0000e+00,  1.3147e-04,\n",
      "         3.9178e-02,  4.9213e-01,  1.0518e-03,  1.3147e-04,  3.5059e-04,\n",
      "         7.4368e-02,  3.7263e-01,  0.0000e+00,  0.0000e+00,  0.0000e+00,\n",
      "         6.7049e-03,  1.0766e+06, -1.0766e+06, -4.3026e+06,  4.9799e+08,\n",
      "        -1.5327e+24, -1.0866e+00, -1.0766e+06]), 'bond': tensor([ 0.0000e+00,  6.3150e-02,  1.0660e-03,  1.2589e-02,  3.3860e-02,\n",
      "         1.6143e-02,  1.7494e+00,  1.2059e-01,  2.9298e-01, -2.9298e-01,\n",
      "        -6.8956e-01,  8.0352e-01, -2.9010e+01,  9.6535e-01,  6.7040e-16,\n",
      "        -6.8956e-01,  1.6302e-01,  1.4531e+00]), 'global': tensor([ 35.2145,  30.3997, 260.9755])}\n",
      "... > feature std(s):  \n",
      " {'atom': tensor([1.6733e+00, 6.9498e-01, 2.2626e-01, 3.0322e-02, 1.0327e-01, 1.6660e-01,\n",
      "        1.1686e-01, 2.6470e-02, 1.0000e-03, 1.0000e-03, 1.0000e-03, 1.0000e-03,\n",
      "        1.0000e-03, 6.6198e-03, 1.0000e-03, 8.7730e-02, 1.0000e-03, 6.9263e-02,\n",
      "        1.0000e-03, 1.1465e-02, 1.9402e-01, 4.9994e-01, 3.2414e-02, 1.1465e-02,\n",
      "        1.8721e-02, 2.6237e-01, 4.8350e-01, 1.0000e-03, 1.0000e-03, 1.0000e-03,\n",
      "        8.1609e-02, 2.7105e+07, 2.7105e+07, 1.0832e+08, 7.4879e+10, 5.0905e+25,\n",
      "        1.0942e-01, 2.7105e+07]), 'bond': tensor([1.0000e-03, 2.4323e-01, 3.2633e-02, 1.1149e-01, 1.8087e-01, 1.2603e-01,\n",
      "        8.7188e-01, 1.6470e-01, 1.5126e-01, 1.5126e-01, 5.1705e-01, 2.9754e-01,\n",
      "        8.8417e+00, 5.3126e-01, 1.0000e-03, 5.1705e-01, 6.0958e-01, 6.1133e-01]), 'global': tensor([ 20.7029,  20.3108, 141.6519])}\n",
      "... > loaded dataset\n",
      "... > creating MoleculeWrapper objects\n"
     ]
    },
    {
     "name": "stderr",
     "output_type": "stream",
     "text": [
      "\n",
      "\u001b[A\n",
      "100%|██████████| 744/744 [00:00<00:00, 6191.70it/s]\n"
     ]
    },
    {
     "name": "stdout",
     "output_type": "stream",
     "text": [
      "... > bond_feats_error_count:  0\n",
      "... > atom_feats_error_count:  0\n",
      "element set {'Br', 'Ca', 'Na', 'Al', 'V', 'Ti', 'B', 'Cr', 'Cl', 'Cu', 'F', 'Fe', 'As', 'N', 'H', 'P', 'Se', 'Si', 'O', 'C', 'Ni', 'Zn', 'Ge', 'S'}\n",
      "selected atomic keys []\n",
      "selected bond keys ['bond_length']\n",
      "selected global keys ['NR-AR-LBD']\n",
      "... > Building graphs and featurizing\n"
     ]
    },
    {
     "name": "stderr",
     "output_type": "stream",
     "text": [
      "\n",
      "\u001b[A\n",
      "\u001b[A\n",
      "\u001b[A\n",
      "\u001b[A\n",
      "\u001b[A\n",
      "\u001b[A\n",
      "\u001b[A\n",
      "\u001b[A\n",
      "\u001b[A\n",
      "\u001b[A\n",
      "\u001b[A\n",
      "\u001b[A\n",
      "\u001b[A\n",
      "\u001b[A\n",
      "\u001b[A\n",
      "\u001b[A\n",
      "\u001b[A\n",
      "\u001b[A\n",
      "\u001b[A\n",
      "\u001b[A\n",
      "\u001b[A\n",
      "\u001b[A\n",
      "100%|██████████| 744/744 [00:02<00:00, 308.00it/s]\n"
     ]
    },
    {
     "name": "stdout",
     "output_type": "stream",
     "text": [
      "included in labels\n",
      "{'global': ['NR-AR-LBD']}\n",
      "included in graph features\n",
      "{'atom': ['total_degree', 'total_H', 'is_in_ring', 'ring_size_3', 'ring_size_4', 'ring_size_5', 'ring_size_6', 'chemical_symbol_Br', 'chemical_symbol_Ca', 'chemical_symbol_Na', 'chemical_symbol_Al', 'chemical_symbol_V', 'chemical_symbol_Ti', 'chemical_symbol_B', 'chemical_symbol_Cr', 'chemical_symbol_Cl', 'chemical_symbol_Cu', 'chemical_symbol_F', 'chemical_symbol_Fe', 'chemical_symbol_As', 'chemical_symbol_N', 'chemical_symbol_H', 'chemical_symbol_P', 'chemical_symbol_Se', 'chemical_symbol_Si', 'chemical_symbol_O', 'chemical_symbol_C', 'chemical_symbol_Ni', 'chemical_symbol_Zn', 'chemical_symbol_Ge', 'chemical_symbol_S'], 'bond': ['metal bond', 'ring inclusion', 'ring size_3', 'ring size_4', 'ring size_5', 'ring size_6', 'bond_length'], 'global': ['num atoms', 'num bonds', 'molecule weight']}\n",
      "original loader node types: dict_keys(['atom', 'bond', 'global'])\n",
      "original loader label types: dict_keys([])\n",
      "include names:  dict_keys(['global'])\n",
      "... > parsing labels and features in graphs\n"
     ]
    },
    {
     "name": "stderr",
     "output_type": "stream",
     "text": [
      "\n",
      "744it [00:00, 31383.25it/s]\n"
     ]
    },
    {
     "name": "stdout",
     "output_type": "stream",
     "text": [
      "... > number of categories for each label: \n",
      "...... > label  NR-AR-LBD :  2 with distribution:  [631, 17]\n",
      "original loader node types: dict_keys(['atom', 'bond', 'global'])\n",
      "original loader label types: dict_keys(['global'])\n",
      "number of graphs filtered:  96\n",
      "... > Scaling features\n",
      "mean [1.64485736e+00 3.94627284e-01 5.41215654e-02 9.20285727e-04\n",
      " 1.07804899e-02 2.85726807e-02 1.38481090e-02 7.01170078e-04\n",
      " 0.00000000e+00 0.00000000e+00 0.00000000e+00 0.00000000e+00\n",
      " 0.00000000e+00 4.38231298e-05 0.00000000e+00 7.75669398e-03\n",
      " 0.00000000e+00 4.82054428e-03 0.00000000e+00 1.31469390e-04\n",
      " 3.91778781e-02 4.92133748e-01 1.05175512e-03 1.31469390e-04\n",
      " 3.50585039e-04 7.43678514e-02 3.72628073e-01 0.00000000e+00\n",
      " 0.00000000e+00 0.00000000e+00 6.70493887e-03]\n",
      "std [1.67330334 0.69497584 0.22625742 0.03032225 0.10326796 0.16660217\n",
      " 0.11686034 0.02647033 0.         0.         0.         0.\n",
      " 0.         0.00661976 0.         0.08772986 0.         0.06926259\n",
      " 0.         0.01146526 0.19401797 0.49993812 0.03241372 0.01146526\n",
      " 0.01872063 0.26236858 0.48350428 0.         0.         0.\n",
      " 0.08160872]\n",
      "Standard deviation for feature 8 is 0.0, smaller than 0.001. You may want to exclude this feature.\n",
      "Standard deviation for feature 9 is 0.0, smaller than 0.001. You may want to exclude this feature.\n",
      "Standard deviation for feature 10 is 0.0, smaller than 0.001. You may want to exclude this feature.\n",
      "Standard deviation for feature 11 is 0.0, smaller than 0.001. You may want to exclude this feature.\n",
      "Standard deviation for feature 12 is 0.0, smaller than 0.001. You may want to exclude this feature.\n",
      "Standard deviation for feature 14 is 0.0, smaller than 0.001. You may want to exclude this feature.\n",
      "Standard deviation for feature 16 is 0.0, smaller than 0.001. You may want to exclude this feature.\n",
      "Standard deviation for feature 18 is 0.0, smaller than 0.001. You may want to exclude this feature.\n",
      "Standard deviation for feature 27 is 0.0, smaller than 0.001. You may want to exclude this feature.\n",
      "Standard deviation for feature 28 is 0.0, smaller than 0.001. You may want to exclude this feature.\n",
      "Standard deviation for feature 29 is 0.0, smaller than 0.001. You may want to exclude this feature.\n",
      "mean [0.00000000e+00 6.31504137e-02 1.06604396e-03 1.25894715e-02\n",
      " 3.38595868e-02 1.61429514e-02 1.74937200e+00]\n",
      "std [0.         0.2432333  0.03263292 0.11149429 0.18086767 0.12602522\n",
      " 0.87188319]\n",
      "Standard deviation for feature 0 is 0.0, smaller than 0.001. You may want to exclude this feature.\n",
      "mean [ 35.21450617  30.39969136 260.97551208]\n",
      "std [ 20.70289476  20.31083606 141.65193013]\n",
      "... > Scaling features complete\n",
      "... > feature mean(s): \n",
      " {'atom': tensor([1.6449e+00, 3.9463e-01, 5.4122e-02, 9.2029e-04, 1.0780e-02, 2.8573e-02,\n",
      "        1.3848e-02, 7.0117e-04, 0.0000e+00, 0.0000e+00, 0.0000e+00, 0.0000e+00,\n",
      "        0.0000e+00, 4.3823e-05, 0.0000e+00, 7.7567e-03, 0.0000e+00, 4.8205e-03,\n",
      "        0.0000e+00, 1.3147e-04, 3.9178e-02, 4.9213e-01, 1.0518e-03, 1.3147e-04,\n",
      "        3.5059e-04, 7.4368e-02, 3.7263e-01, 0.0000e+00, 0.0000e+00, 0.0000e+00,\n",
      "        6.7049e-03]), 'bond': tensor([0.0000e+00, 6.3150e-02, 1.0660e-03, 1.2589e-02, 3.3860e-02, 1.6143e-02,\n",
      "        1.7494e+00]), 'global': tensor([ 35.2145,  30.3997, 260.9755])}\n",
      "... > feature std(s):  \n",
      " {'atom': tensor([1.6733e+00, 6.9498e-01, 2.2626e-01, 3.0322e-02, 1.0327e-01, 1.6660e-01,\n",
      "        1.1686e-01, 2.6470e-02, 1.0000e-03, 1.0000e-03, 1.0000e-03, 1.0000e-03,\n",
      "        1.0000e-03, 6.6198e-03, 1.0000e-03, 8.7730e-02, 1.0000e-03, 6.9263e-02,\n",
      "        1.0000e-03, 1.1465e-02, 1.9402e-01, 4.9994e-01, 3.2414e-02, 1.1465e-02,\n",
      "        1.8721e-02, 2.6237e-01, 4.8350e-01, 1.0000e-03, 1.0000e-03, 1.0000e-03,\n",
      "        8.1609e-02]), 'bond': tensor([0.0010, 0.2432, 0.0326, 0.1115, 0.1809, 0.1260, 0.8719]), 'global': tensor([ 20.7029,  20.3108, 141.6519])}\n",
      "... > loaded dataset\n",
      "... > creating MoleculeWrapper objects\n"
     ]
    },
    {
     "name": "stderr",
     "output_type": "stream",
     "text": [
      "\n",
      "\u001b[A\n",
      "\u001b[A\n",
      "\u001b[A\n",
      "100%|██████████| 744/744 [00:00<00:00, 2058.52it/s]\n"
     ]
    },
    {
     "name": "stdout",
     "output_type": "stream",
     "text": [
      "... > bond_feats_error_count:  0\n",
      "... > atom_feats_error_count:  0\n",
      "element set {'Br', 'Ca', 'Na', 'Al', 'V', 'Ti', 'B', 'Cr', 'Cl', 'Cu', 'F', 'Fe', 'As', 'N', 'H', 'P', 'Se', 'Si', 'O', 'C', 'Ni', 'Zn', 'Ge', 'S'}\n",
      "selected atomic keys ['extra_feat_atom_Hamiltonian_K', 'extra_feat_atom_e_density', 'extra_feat_atom_lap_e_density', 'extra_feat_atom_esp_total', 'extra_feat_atom_det_hessian', 'extra_feat_atom_eta', 'extra_feat_atom_energy_density']\n",
      "selected bond keys ['extra_feat_bond_Lagrangian_K', 'bond_length', 'extra_feat_bond_Hamiltonian_K', 'extra_feat_bond_e_density', 'extra_feat_bond_lap_e_density', 'extra_feat_bond_e_loc_func', 'extra_feat_bond_esp_e', 'extra_feat_bond_esp_total', 'extra_feat_bond_grad_norm', 'extra_feat_bond_lap_norm', 'extra_feat_bond_ellip_e_dens', 'extra_feat_bond_eta']\n",
      "selected global keys ['NR-AhR']\n",
      "... > Building graphs and featurizing\n"
     ]
    },
    {
     "name": "stderr",
     "output_type": "stream",
     "text": [
      "\n",
      "\u001b[A\n",
      "\u001b[A\n",
      "\u001b[A\n",
      "\u001b[A\n",
      "\u001b[A\n",
      "\u001b[A\n",
      "\u001b[A\n",
      "\u001b[A\n",
      "\u001b[A\n",
      "\u001b[A\n",
      "\u001b[A\n",
      "\u001b[A\n",
      "\u001b[A\n",
      "\u001b[A\n",
      "\u001b[A\n",
      "\u001b[A\n",
      "\u001b[A\n",
      "\u001b[A\n",
      "\u001b[A\n",
      "\u001b[A\n",
      "\u001b[A\n",
      "\u001b[A\n",
      "100%|██████████| 744/744 [00:02<00:00, 304.66it/s]\n"
     ]
    },
    {
     "name": "stdout",
     "output_type": "stream",
     "text": [
      "included in labels\n",
      "{'global': ['NR-AhR']}\n",
      "included in graph features\n",
      "{'atom': ['total_degree', 'total_H', 'is_in_ring', 'ring_size_3', 'ring_size_4', 'ring_size_5', 'ring_size_6', 'chemical_symbol_Br', 'chemical_symbol_Ca', 'chemical_symbol_Na', 'chemical_symbol_Al', 'chemical_symbol_V', 'chemical_symbol_Ti', 'chemical_symbol_B', 'chemical_symbol_Cr', 'chemical_symbol_Cl', 'chemical_symbol_Cu', 'chemical_symbol_F', 'chemical_symbol_Fe', 'chemical_symbol_As', 'chemical_symbol_N', 'chemical_symbol_H', 'chemical_symbol_P', 'chemical_symbol_Se', 'chemical_symbol_Si', 'chemical_symbol_O', 'chemical_symbol_C', 'chemical_symbol_Ni', 'chemical_symbol_Zn', 'chemical_symbol_Ge', 'chemical_symbol_S', 'extra_feat_atom_Hamiltonian_K', 'extra_feat_atom_e_density', 'extra_feat_atom_lap_e_density', 'extra_feat_atom_esp_total', 'extra_feat_atom_det_hessian', 'extra_feat_atom_eta', 'extra_feat_atom_energy_density'], 'bond': ['metal bond', 'ring inclusion', 'ring size_3', 'ring size_4', 'ring size_5', 'ring size_6', 'bond_length', 'extra_feat_bond_Lagrangian_K', 'extra_feat_bond_Hamiltonian_K', 'extra_feat_bond_e_density', 'extra_feat_bond_lap_e_density', 'extra_feat_bond_e_loc_func', 'extra_feat_bond_esp_e', 'extra_feat_bond_esp_total', 'extra_feat_bond_grad_norm', 'extra_feat_bond_lap_norm', 'extra_feat_bond_ellip_e_dens', 'extra_feat_bond_eta'], 'global': ['num atoms', 'num bonds', 'molecule weight']}\n",
      "original loader node types: dict_keys(['atom', 'bond', 'global'])\n",
      "original loader label types: dict_keys([])\n",
      "include names:  dict_keys(['global'])\n",
      "... > parsing labels and features in graphs\n"
     ]
    },
    {
     "name": "stderr",
     "output_type": "stream",
     "text": [
      "\n",
      "744it [00:00, 31265.97it/s]\n"
     ]
    },
    {
     "name": "stdout",
     "output_type": "stream",
     "text": [
      "... > number of categories for each label: \n",
      "...... > label  NR-AhR :  2 with distribution:  [550, 72]\n",
      "original loader node types: dict_keys(['atom', 'bond', 'global'])\n",
      "original loader label types: dict_keys(['global'])\n",
      "number of graphs filtered:  122\n",
      "... > Scaling features\n",
      "mean [ 1.64841118e+00  3.99890740e-01  5.49030320e-02  9.56022945e-04\n",
      "  1.19275244e-02  2.73604662e-02  1.46590185e-02  7.73923336e-04\n",
      "  0.00000000e+00  0.00000000e+00  0.00000000e+00  0.00000000e+00\n",
      "  0.00000000e+00  4.55249021e-05  0.00000000e+00  8.55868160e-03\n",
      "  0.00000000e+00  4.37039060e-03  0.00000000e+00  1.36574706e-04\n",
      "  3.82409178e-02  4.93353364e-01  9.56022945e-04  9.10498042e-05\n",
      "  3.18674315e-04  7.46608395e-02  3.71756351e-01  0.00000000e+00\n",
      "  0.00000000e+00  0.00000000e+00  6.73768551e-03  1.12513558e+06\n",
      " -1.12513558e+06 -4.49662513e+06  5.17256923e+08 -1.62203530e+24\n",
      " -1.08717504e+00 -1.12513558e+06]\n",
      "std [1.67643065e+00 7.01884138e-01 2.27790889e-01 3.09048372e-02\n",
      " 1.08559931e-01 1.63131453e-01 1.20183741e-01 2.78087105e-02\n",
      " 0.00000000e+00 0.00000000e+00 0.00000000e+00 0.00000000e+00\n",
      " 0.00000000e+00 6.74706081e-03 0.00000000e+00 9.21163968e-02\n",
      " 0.00000000e+00 6.59643107e-02 0.00000000e+00 1.16857201e-02\n",
      " 1.91777345e-01 4.99955820e-01 3.09048372e-02 9.54156770e-03\n",
      " 1.78486067e-02 2.62843297e-01 4.83273801e-01 0.00000000e+00\n",
      " 0.00000000e+00 0.00000000e+00 8.18064124e-02 2.78034140e+07\n",
      " 2.78034140e+07 1.11111776e+08 7.63187662e+10 5.27382973e+25\n",
      " 1.10576492e-01 2.78034140e+07]\n",
      "Standard deviation for feature 8 is 0.0, smaller than 0.001. You may want to exclude this feature.\n",
      "Standard deviation for feature 9 is 0.0, smaller than 0.001. You may want to exclude this feature.\n",
      "Standard deviation for feature 10 is 0.0, smaller than 0.001. You may want to exclude this feature.\n",
      "Standard deviation for feature 11 is 0.0, smaller than 0.001. You may want to exclude this feature.\n",
      "Standard deviation for feature 12 is 0.0, smaller than 0.001. You may want to exclude this feature.\n",
      "Standard deviation for feature 14 is 0.0, smaller than 0.001. You may want to exclude this feature.\n",
      "Standard deviation for feature 16 is 0.0, smaller than 0.001. You may want to exclude this feature.\n",
      "Standard deviation for feature 18 is 0.0, smaller than 0.001. You may want to exclude this feature.\n",
      "Standard deviation for feature 27 is 0.0, smaller than 0.001. You may want to exclude this feature.\n",
      "Standard deviation for feature 28 is 0.0, smaller than 0.001. You may want to exclude this feature.\n",
      "Standard deviation for feature 29 is 0.0, smaller than 0.001. You may want to exclude this feature.\n",
      "mean [ 0.00000000e+00  6.39865292e-02  1.10503052e-03  1.38918123e-02\n",
      "  3.24668491e-02  1.70490423e-02  1.75348975e+00  1.19506726e-01\n",
      "  2.91644929e-01 -2.91644929e-01 -6.88552812e-01  8.01766274e-01\n",
      " -2.93194241e+01  9.60913963e-01  6.77331382e-16 -6.88552812e-01\n",
      "  1.62371959e-01  1.44736485e+00]\n",
      "std [0.00000000e+00 2.44728938e-01 3.32236275e-02 1.17042000e-01\n",
      " 1.77236432e-01 1.29454133e-01 8.75989909e-01 1.64032376e-01\n",
      " 1.52042160e-01 1.52042160e-01 5.16486988e-01 2.99673754e-01\n",
      " 9.27635392e+00 5.33161497e-01 5.17620696e-15 5.16486988e-01\n",
      " 5.90980532e-01 6.11801072e-01]\n",
      "Standard deviation for feature 0 is 0.0, smaller than 0.001. You may want to exclude this feature.\n",
      "Standard deviation for feature 14 is 5.176206955165419e-15, smaller than 0.001. You may want to exclude this feature.\n",
      "mean [ 35.31511254  30.55305466 261.80638584]\n",
      "std [ 22.06713805  21.85444944 148.53300432]\n",
      "... > Scaling features complete\n",
      "... > feature mean(s): \n",
      " {'atom': tensor([ 1.6484e+00,  3.9989e-01,  5.4903e-02,  9.5602e-04,  1.1928e-02,\n",
      "         2.7360e-02,  1.4659e-02,  7.7392e-04,  0.0000e+00,  0.0000e+00,\n",
      "         0.0000e+00,  0.0000e+00,  0.0000e+00,  4.5525e-05,  0.0000e+00,\n",
      "         8.5587e-03,  0.0000e+00,  4.3704e-03,  0.0000e+00,  1.3657e-04,\n",
      "         3.8241e-02,  4.9335e-01,  9.5602e-04,  9.1050e-05,  3.1867e-04,\n",
      "         7.4661e-02,  3.7176e-01,  0.0000e+00,  0.0000e+00,  0.0000e+00,\n",
      "         6.7377e-03,  1.1251e+06, -1.1251e+06, -4.4966e+06,  5.1726e+08,\n",
      "        -1.6220e+24, -1.0872e+00, -1.1251e+06]), 'bond': tensor([ 0.0000e+00,  6.3987e-02,  1.1050e-03,  1.3892e-02,  3.2467e-02,\n",
      "         1.7049e-02,  1.7535e+00,  1.1951e-01,  2.9164e-01, -2.9164e-01,\n",
      "        -6.8855e-01,  8.0177e-01, -2.9319e+01,  9.6091e-01,  6.7733e-16,\n",
      "        -6.8855e-01,  1.6237e-01,  1.4474e+00]), 'global': tensor([ 35.3151,  30.5531, 261.8064])}\n",
      "... > feature std(s):  \n",
      " {'atom': tensor([1.6764e+00, 7.0188e-01, 2.2779e-01, 3.0905e-02, 1.0856e-01, 1.6313e-01,\n",
      "        1.2018e-01, 2.7809e-02, 1.0000e-03, 1.0000e-03, 1.0000e-03, 1.0000e-03,\n",
      "        1.0000e-03, 6.7471e-03, 1.0000e-03, 9.2116e-02, 1.0000e-03, 6.5964e-02,\n",
      "        1.0000e-03, 1.1686e-02, 1.9178e-01, 4.9996e-01, 3.0905e-02, 9.5416e-03,\n",
      "        1.7849e-02, 2.6284e-01, 4.8327e-01, 1.0000e-03, 1.0000e-03, 1.0000e-03,\n",
      "        8.1806e-02, 2.7803e+07, 2.7803e+07, 1.1111e+08, 7.6319e+10, 5.2738e+25,\n",
      "        1.1058e-01, 2.7803e+07]), 'bond': tensor([1.0000e-03, 2.4473e-01, 3.3224e-02, 1.1704e-01, 1.7724e-01, 1.2945e-01,\n",
      "        8.7599e-01, 1.6403e-01, 1.5204e-01, 1.5204e-01, 5.1649e-01, 2.9967e-01,\n",
      "        9.2764e+00, 5.3316e-01, 1.0000e-03, 5.1649e-01, 5.9098e-01, 6.1180e-01]), 'global': tensor([ 22.0671,  21.8545, 148.5330])}\n",
      "... > loaded dataset\n",
      "... > creating MoleculeWrapper objects\n"
     ]
    },
    {
     "name": "stderr",
     "output_type": "stream",
     "text": [
      "\n",
      "\u001b[A\n",
      "100%|██████████| 744/744 [00:00<00:00, 6360.26it/s]\n"
     ]
    },
    {
     "name": "stdout",
     "output_type": "stream",
     "text": [
      "... > bond_feats_error_count:  0\n",
      "... > atom_feats_error_count:  0\n",
      "element set {'Br', 'Ca', 'Na', 'Al', 'V', 'Ti', 'B', 'Cr', 'Cl', 'Cu', 'F', 'Fe', 'As', 'N', 'H', 'P', 'Se', 'Si', 'O', 'C', 'Ni', 'Zn', 'Ge', 'S'}\n",
      "selected atomic keys []\n",
      "selected bond keys ['bond_length']\n",
      "selected global keys ['NR-AhR']\n",
      "... > Building graphs and featurizing\n"
     ]
    },
    {
     "name": "stderr",
     "output_type": "stream",
     "text": [
      "\n",
      "\u001b[A\n",
      "\u001b[A\n",
      "\u001b[A\n",
      "\u001b[A\n",
      "\u001b[A\n",
      "\u001b[A\n",
      "\u001b[A\n",
      "\u001b[A\n",
      "\u001b[A\n",
      "\u001b[A\n",
      "\u001b[A\n",
      "\u001b[A\n",
      "\u001b[A\n",
      "\u001b[A\n",
      "\u001b[A\n",
      "\u001b[A\n",
      "\u001b[A\n",
      "\u001b[A\n",
      "\u001b[A\n",
      "\u001b[A\n",
      "\u001b[A\n",
      "\u001b[A\n",
      "100%|██████████| 744/744 [00:02<00:00, 313.12it/s]\n"
     ]
    },
    {
     "name": "stdout",
     "output_type": "stream",
     "text": [
      "included in labels\n",
      "{'global': ['NR-AhR']}\n",
      "included in graph features\n",
      "{'atom': ['total_degree', 'total_H', 'is_in_ring', 'ring_size_3', 'ring_size_4', 'ring_size_5', 'ring_size_6', 'chemical_symbol_Br', 'chemical_symbol_Ca', 'chemical_symbol_Na', 'chemical_symbol_Al', 'chemical_symbol_V', 'chemical_symbol_Ti', 'chemical_symbol_B', 'chemical_symbol_Cr', 'chemical_symbol_Cl', 'chemical_symbol_Cu', 'chemical_symbol_F', 'chemical_symbol_Fe', 'chemical_symbol_As', 'chemical_symbol_N', 'chemical_symbol_H', 'chemical_symbol_P', 'chemical_symbol_Se', 'chemical_symbol_Si', 'chemical_symbol_O', 'chemical_symbol_C', 'chemical_symbol_Ni', 'chemical_symbol_Zn', 'chemical_symbol_Ge', 'chemical_symbol_S'], 'bond': ['metal bond', 'ring inclusion', 'ring size_3', 'ring size_4', 'ring size_5', 'ring size_6', 'bond_length'], 'global': ['num atoms', 'num bonds', 'molecule weight']}\n",
      "original loader node types: dict_keys(['atom', 'bond', 'global'])\n",
      "original loader label types: dict_keys([])\n",
      "include names:  dict_keys(['global'])\n",
      "... > parsing labels and features in graphs\n"
     ]
    },
    {
     "name": "stderr",
     "output_type": "stream",
     "text": [
      "\n",
      "744it [00:00, 30805.46it/s]\n"
     ]
    },
    {
     "name": "stdout",
     "output_type": "stream",
     "text": [
      "... > number of categories for each label: \n",
      "...... > label  NR-AhR :  2 with distribution:  [550, 72]\n",
      "original loader node types: dict_keys(['atom', 'bond', 'global'])\n",
      "original loader label types: dict_keys(['global'])\n",
      "number of graphs filtered:  122\n",
      "... > Scaling features\n",
      "mean [1.64841118e+00 3.99890740e-01 5.49030320e-02 9.56022945e-04\n",
      " 1.19275244e-02 2.73604662e-02 1.46590185e-02 7.73923336e-04\n",
      " 0.00000000e+00 0.00000000e+00 0.00000000e+00 0.00000000e+00\n",
      " 0.00000000e+00 4.55249021e-05 0.00000000e+00 8.55868160e-03\n",
      " 0.00000000e+00 4.37039060e-03 0.00000000e+00 1.36574706e-04\n",
      " 3.82409178e-02 4.93353364e-01 9.56022945e-04 9.10498042e-05\n",
      " 3.18674315e-04 7.46608395e-02 3.71756351e-01 0.00000000e+00\n",
      " 0.00000000e+00 0.00000000e+00 6.73768551e-03]\n",
      "std [1.67643065 0.70188414 0.22779089 0.03090484 0.10855993 0.16313145\n",
      " 0.12018374 0.02780871 0.         0.         0.         0.\n",
      " 0.         0.00674706 0.         0.0921164  0.         0.06596431\n",
      " 0.         0.01168572 0.19177734 0.49995582 0.03090484 0.00954157\n",
      " 0.01784861 0.2628433  0.4832738  0.         0.         0.\n",
      " 0.08180641]\n",
      "Standard deviation for feature 8 is 0.0, smaller than 0.001. You may want to exclude this feature.\n",
      "Standard deviation for feature 9 is 0.0, smaller than 0.001. You may want to exclude this feature.\n",
      "Standard deviation for feature 10 is 0.0, smaller than 0.001. You may want to exclude this feature.\n",
      "Standard deviation for feature 11 is 0.0, smaller than 0.001. You may want to exclude this feature.\n",
      "Standard deviation for feature 12 is 0.0, smaller than 0.001. You may want to exclude this feature.\n",
      "Standard deviation for feature 14 is 0.0, smaller than 0.001. You may want to exclude this feature.\n",
      "Standard deviation for feature 16 is 0.0, smaller than 0.001. You may want to exclude this feature.\n",
      "Standard deviation for feature 18 is 0.0, smaller than 0.001. You may want to exclude this feature.\n",
      "Standard deviation for feature 27 is 0.0, smaller than 0.001. You may want to exclude this feature.\n",
      "Standard deviation for feature 28 is 0.0, smaller than 0.001. You may want to exclude this feature.\n",
      "Standard deviation for feature 29 is 0.0, smaller than 0.001. You may want to exclude this feature.\n",
      "mean [0.00000000e+00 6.39865292e-02 1.10503052e-03 1.38918123e-02\n",
      " 3.24668491e-02 1.70490423e-02 1.75348975e+00]\n",
      "std [0.         0.24472894 0.03322363 0.117042   0.17723643 0.12945413\n",
      " 0.87598991]\n",
      "Standard deviation for feature 0 is 0.0, smaller than 0.001. You may want to exclude this feature.\n",
      "mean [ 35.31511254  30.55305466 261.80638584]\n",
      "std [ 22.06713805  21.85444944 148.53300432]\n",
      "... > Scaling features complete\n",
      "... > feature mean(s): \n",
      " {'atom': tensor([1.6484e+00, 3.9989e-01, 5.4903e-02, 9.5602e-04, 1.1928e-02, 2.7360e-02,\n",
      "        1.4659e-02, 7.7392e-04, 0.0000e+00, 0.0000e+00, 0.0000e+00, 0.0000e+00,\n",
      "        0.0000e+00, 4.5525e-05, 0.0000e+00, 8.5587e-03, 0.0000e+00, 4.3704e-03,\n",
      "        0.0000e+00, 1.3657e-04, 3.8241e-02, 4.9335e-01, 9.5602e-04, 9.1050e-05,\n",
      "        3.1867e-04, 7.4661e-02, 3.7176e-01, 0.0000e+00, 0.0000e+00, 0.0000e+00,\n",
      "        6.7377e-03]), 'bond': tensor([0.0000e+00, 6.3987e-02, 1.1050e-03, 1.3892e-02, 3.2467e-02, 1.7049e-02,\n",
      "        1.7535e+00]), 'global': tensor([ 35.3151,  30.5531, 261.8064])}\n",
      "... > feature std(s):  \n",
      " {'atom': tensor([1.6764e+00, 7.0188e-01, 2.2779e-01, 3.0905e-02, 1.0856e-01, 1.6313e-01,\n",
      "        1.2018e-01, 2.7809e-02, 1.0000e-03, 1.0000e-03, 1.0000e-03, 1.0000e-03,\n",
      "        1.0000e-03, 6.7471e-03, 1.0000e-03, 9.2116e-02, 1.0000e-03, 6.5964e-02,\n",
      "        1.0000e-03, 1.1686e-02, 1.9178e-01, 4.9996e-01, 3.0905e-02, 9.5416e-03,\n",
      "        1.7849e-02, 2.6284e-01, 4.8327e-01, 1.0000e-03, 1.0000e-03, 1.0000e-03,\n",
      "        8.1806e-02]), 'bond': tensor([0.0010, 0.2447, 0.0332, 0.1170, 0.1772, 0.1295, 0.8760]), 'global': tensor([ 22.0671,  21.8545, 148.5330])}\n",
      "... > loaded dataset\n",
      "... > creating MoleculeWrapper objects\n"
     ]
    },
    {
     "name": "stderr",
     "output_type": "stream",
     "text": [
      "\n",
      "\u001b[A\n",
      "\u001b[A\n",
      "\u001b[A\n",
      "100%|██████████| 744/744 [00:00<00:00, 2054.21it/s]\n"
     ]
    },
    {
     "name": "stdout",
     "output_type": "stream",
     "text": [
      "... > bond_feats_error_count:  0\n",
      "... > atom_feats_error_count:  0\n",
      "element set {'Br', 'Ca', 'Na', 'Al', 'V', 'Ti', 'B', 'Cr', 'Cl', 'Cu', 'F', 'Fe', 'As', 'N', 'H', 'P', 'Se', 'Si', 'O', 'C', 'Ni', 'Zn', 'Ge', 'S'}\n",
      "selected atomic keys ['extra_feat_atom_Hamiltonian_K', 'extra_feat_atom_e_density', 'extra_feat_atom_lap_e_density', 'extra_feat_atom_esp_total', 'extra_feat_atom_det_hessian', 'extra_feat_atom_eta', 'extra_feat_atom_energy_density']\n",
      "selected bond keys ['extra_feat_bond_Lagrangian_K', 'bond_length', 'extra_feat_bond_Hamiltonian_K', 'extra_feat_bond_e_density', 'extra_feat_bond_lap_e_density', 'extra_feat_bond_e_loc_func', 'extra_feat_bond_esp_e', 'extra_feat_bond_esp_total', 'extra_feat_bond_grad_norm', 'extra_feat_bond_lap_norm', 'extra_feat_bond_ellip_e_dens', 'extra_feat_bond_eta']\n",
      "selected global keys ['NR-Aromatase']\n",
      "... > Building graphs and featurizing\n"
     ]
    },
    {
     "name": "stderr",
     "output_type": "stream",
     "text": [
      "\n",
      "\u001b[A\n",
      "\u001b[A\n",
      "\u001b[A\n",
      "\u001b[A\n",
      "\u001b[A\n",
      "\u001b[A\n",
      "\u001b[A\n",
      "\u001b[A\n",
      "\u001b[A\n",
      "\u001b[A\n",
      "\u001b[A\n",
      "\u001b[A\n",
      "\u001b[A\n",
      "\u001b[A\n",
      "\u001b[A\n",
      "\u001b[A\n",
      "\u001b[A\n",
      "\u001b[A\n",
      "\u001b[A\n",
      "\u001b[A\n",
      "\u001b[A\n",
      "\u001b[A\n",
      "100%|██████████| 744/744 [00:02<00:00, 306.42it/s]\n"
     ]
    },
    {
     "name": "stdout",
     "output_type": "stream",
     "text": [
      "included in labels\n",
      "{'global': ['NR-Aromatase']}\n",
      "included in graph features\n",
      "{'atom': ['total_degree', 'total_H', 'is_in_ring', 'ring_size_3', 'ring_size_4', 'ring_size_5', 'ring_size_6', 'chemical_symbol_Br', 'chemical_symbol_Ca', 'chemical_symbol_Na', 'chemical_symbol_Al', 'chemical_symbol_V', 'chemical_symbol_Ti', 'chemical_symbol_B', 'chemical_symbol_Cr', 'chemical_symbol_Cl', 'chemical_symbol_Cu', 'chemical_symbol_F', 'chemical_symbol_Fe', 'chemical_symbol_As', 'chemical_symbol_N', 'chemical_symbol_H', 'chemical_symbol_P', 'chemical_symbol_Se', 'chemical_symbol_Si', 'chemical_symbol_O', 'chemical_symbol_C', 'chemical_symbol_Ni', 'chemical_symbol_Zn', 'chemical_symbol_Ge', 'chemical_symbol_S', 'extra_feat_atom_Hamiltonian_K', 'extra_feat_atom_e_density', 'extra_feat_atom_lap_e_density', 'extra_feat_atom_esp_total', 'extra_feat_atom_det_hessian', 'extra_feat_atom_eta', 'extra_feat_atom_energy_density'], 'bond': ['metal bond', 'ring inclusion', 'ring size_3', 'ring size_4', 'ring size_5', 'ring size_6', 'bond_length', 'extra_feat_bond_Lagrangian_K', 'extra_feat_bond_Hamiltonian_K', 'extra_feat_bond_e_density', 'extra_feat_bond_lap_e_density', 'extra_feat_bond_e_loc_func', 'extra_feat_bond_esp_e', 'extra_feat_bond_esp_total', 'extra_feat_bond_grad_norm', 'extra_feat_bond_lap_norm', 'extra_feat_bond_ellip_e_dens', 'extra_feat_bond_eta'], 'global': ['num atoms', 'num bonds', 'molecule weight']}\n",
      "original loader node types: dict_keys(['atom', 'bond', 'global'])\n",
      "original loader label types: dict_keys([])\n",
      "include names:  dict_keys(['global'])\n",
      "... > parsing labels and features in graphs\n"
     ]
    },
    {
     "name": "stderr",
     "output_type": "stream",
     "text": [
      "\n",
      "744it [00:00, 31221.86it/s]\n"
     ]
    },
    {
     "name": "stdout",
     "output_type": "stream",
     "text": [
      "... > number of categories for each label: \n",
      "...... > label  NR-Aromatase :  2 with distribution:  [554, 28]\n",
      "original loader node types: dict_keys(['atom', 'bond', 'global'])\n",
      "original loader label types: dict_keys(['global'])\n",
      "number of graphs filtered:  162\n",
      "... > Scaling features\n",
      "mean [ 1.64148170e+00  3.96981724e-01  5.66416777e-02  8.81963839e-04\n",
      "  1.10735460e-02  3.00847665e-02  1.46014013e-02  6.85971875e-04\n",
      "  0.00000000e+00  0.00000000e+00  0.00000000e+00  0.00000000e+00\n",
      "  0.00000000e+00  4.89979911e-05  0.00000000e+00  8.08466853e-03\n",
      "  0.00000000e+00  4.21382723e-03  0.00000000e+00  1.46993973e-04\n",
      "  3.91003969e-02  4.94732716e-01  9.79959822e-04  4.89979911e-05\n",
      "  2.93987946e-04  7.60448822e-02  3.69640845e-01  0.00000000e+00\n",
      "  0.00000000e+00  0.00000000e+00  5.97775491e-03  1.00422848e+06\n",
      " -1.00422848e+06 -4.01343817e+06  5.56460017e+08 -1.41976815e+24\n",
      " -1.08752957e+00 -1.00422848e+06]\n",
      "std [1.67561011e+00 6.99343261e-01 2.31156653e-01 2.96847769e-02\n",
      " 1.04646656e-01 1.70820588e-01 1.19950825e-01 2.61820801e-02\n",
      " 0.00000000e+00 0.00000000e+00 0.00000000e+00 0.00000000e+00\n",
      " 0.00000000e+00 6.99968501e-03 0.00000000e+00 8.95505816e-02\n",
      " 0.00000000e+00 6.47770862e-02 0.00000000e+00 1.21232160e-02\n",
      " 1.93833836e-01 4.99972255e-01 3.12889677e-02 6.99968501e-03\n",
      " 1.71435562e-02 2.65069912e-01 4.82707459e-01 0.00000000e+00\n",
      " 0.00000000e+00 0.00000000e+00 7.70845079e-02 2.60289827e+07\n",
      " 2.60289827e+07 1.04020568e+08 7.91763020e+10 4.93585536e+25\n",
      " 1.10739925e-01 2.60289827e+07]\n",
      "Standard deviation for feature 8 is 0.0, smaller than 0.001. You may want to exclude this feature.\n",
      "Standard deviation for feature 9 is 0.0, smaller than 0.001. You may want to exclude this feature.\n",
      "Standard deviation for feature 10 is 0.0, smaller than 0.001. You may want to exclude this feature.\n",
      "Standard deviation for feature 11 is 0.0, smaller than 0.001. You may want to exclude this feature.\n",
      "Standard deviation for feature 12 is 0.0, smaller than 0.001. You may want to exclude this feature.\n",
      "Standard deviation for feature 14 is 0.0, smaller than 0.001. You may want to exclude this feature.\n",
      "Standard deviation for feature 16 is 0.0, smaller than 0.001. You may want to exclude this feature.\n",
      "Standard deviation for feature 18 is 0.0, smaller than 0.001. You may want to exclude this feature.\n",
      "Standard deviation for feature 27 is 0.0, smaller than 0.001. You may want to exclude this feature.\n",
      "Standard deviation for feature 28 is 0.0, smaller than 0.001. You may want to exclude this feature.\n",
      "Standard deviation for feature 29 is 0.0, smaller than 0.001. You may want to exclude this feature.\n",
      "mean [ 0.00000000e+00  6.62003071e-02  1.02371609e-03  1.29670705e-02\n",
      "  3.56594438e-02  1.70619348e-02  1.74966126e+00  1.21125636e-01\n",
      "  2.93439456e-01 -2.93439456e-01 -6.89255279e-01  8.01437311e-01\n",
      " -2.93978973e+01  9.66667851e-01  6.59424841e-16 -6.89255279e-01\n",
      "  1.63540354e-01  1.44711183e+00]\n",
      "std [0.00000000e+00 2.48631910e-01 3.19791822e-02 1.13132336e-01\n",
      " 1.85439607e-01 1.29502221e-01 8.75034649e-01 1.66386590e-01\n",
      " 1.52827930e-01 1.52827930e-01 5.19580512e-01 2.99026315e-01\n",
      " 9.64540779e+00 5.36690219e-01 5.03223295e-15 5.19580512e-01\n",
      " 6.30187227e-01 6.12441877e-01]\n",
      "Standard deviation for feature 0 is 0.0, smaller than 0.001. You may want to exclude this feature.\n",
      "Standard deviation for feature 14 is 5.032232954058677e-15, smaller than 0.001. You may want to exclude this feature.\n",
      "mean [ 35.06701031  30.21134021 258.4428365 ]\n",
      "std [ 22.58037902  22.29785117 152.66759638]\n",
      "... > Scaling features complete\n",
      "... > feature mean(s): \n",
      " {'atom': tensor([ 1.6415e+00,  3.9698e-01,  5.6642e-02,  8.8196e-04,  1.1074e-02,\n",
      "         3.0085e-02,  1.4601e-02,  6.8597e-04,  0.0000e+00,  0.0000e+00,\n",
      "         0.0000e+00,  0.0000e+00,  0.0000e+00,  4.8998e-05,  0.0000e+00,\n",
      "         8.0847e-03,  0.0000e+00,  4.2138e-03,  0.0000e+00,  1.4699e-04,\n",
      "         3.9100e-02,  4.9473e-01,  9.7996e-04,  4.8998e-05,  2.9399e-04,\n",
      "         7.6045e-02,  3.6964e-01,  0.0000e+00,  0.0000e+00,  0.0000e+00,\n",
      "         5.9778e-03,  1.0042e+06, -1.0042e+06, -4.0134e+06,  5.5646e+08,\n",
      "        -1.4198e+24, -1.0875e+00, -1.0042e+06]), 'bond': tensor([ 0.0000e+00,  6.6200e-02,  1.0237e-03,  1.2967e-02,  3.5659e-02,\n",
      "         1.7062e-02,  1.7497e+00,  1.2113e-01,  2.9344e-01, -2.9344e-01,\n",
      "        -6.8926e-01,  8.0144e-01, -2.9398e+01,  9.6667e-01,  6.5942e-16,\n",
      "        -6.8926e-01,  1.6354e-01,  1.4471e+00]), 'global': tensor([ 35.0670,  30.2113, 258.4428])}\n",
      "... > feature std(s):  \n",
      " {'atom': tensor([1.6756e+00, 6.9934e-01, 2.3116e-01, 2.9685e-02, 1.0465e-01, 1.7082e-01,\n",
      "        1.1995e-01, 2.6182e-02, 1.0000e-03, 1.0000e-03, 1.0000e-03, 1.0000e-03,\n",
      "        1.0000e-03, 6.9997e-03, 1.0000e-03, 8.9551e-02, 1.0000e-03, 6.4777e-02,\n",
      "        1.0000e-03, 1.2123e-02, 1.9383e-01, 4.9997e-01, 3.1289e-02, 6.9997e-03,\n",
      "        1.7144e-02, 2.6507e-01, 4.8271e-01, 1.0000e-03, 1.0000e-03, 1.0000e-03,\n",
      "        7.7085e-02, 2.6029e+07, 2.6029e+07, 1.0402e+08, 7.9176e+10, 4.9359e+25,\n",
      "        1.1074e-01, 2.6029e+07]), 'bond': tensor([1.0000e-03, 2.4863e-01, 3.1979e-02, 1.1313e-01, 1.8544e-01, 1.2950e-01,\n",
      "        8.7503e-01, 1.6639e-01, 1.5283e-01, 1.5283e-01, 5.1958e-01, 2.9903e-01,\n",
      "        9.6454e+00, 5.3669e-01, 1.0000e-03, 5.1958e-01, 6.3019e-01, 6.1244e-01]), 'global': tensor([ 22.5804,  22.2979, 152.6676])}\n",
      "... > loaded dataset\n",
      "... > creating MoleculeWrapper objects\n"
     ]
    },
    {
     "name": "stderr",
     "output_type": "stream",
     "text": [
      "\n",
      "\u001b[A\n",
      "100%|██████████| 744/744 [00:00<00:00, 6289.26it/s]\n"
     ]
    },
    {
     "name": "stdout",
     "output_type": "stream",
     "text": [
      "... > bond_feats_error_count:  0\n",
      "... > atom_feats_error_count:  0\n",
      "element set {'Br', 'Ca', 'Na', 'Al', 'V', 'Ti', 'B', 'Cr', 'Cl', 'Cu', 'F', 'Fe', 'As', 'N', 'H', 'P', 'Se', 'Si', 'O', 'C', 'Ni', 'Zn', 'Ge', 'S'}\n",
      "selected atomic keys []\n",
      "selected bond keys ['bond_length']\n",
      "selected global keys ['NR-Aromatase']\n",
      "... > Building graphs and featurizing\n"
     ]
    },
    {
     "name": "stderr",
     "output_type": "stream",
     "text": [
      "\n",
      "\u001b[A\n",
      "\u001b[A\n",
      "\u001b[A\n",
      "\u001b[A\n",
      "\u001b[A\n",
      "\u001b[A\n",
      "\u001b[A\n",
      "\u001b[A\n",
      "\u001b[A\n",
      "\u001b[A\n",
      "\u001b[A\n",
      "\u001b[A\n",
      "\u001b[A\n",
      "\u001b[A\n",
      "\u001b[A\n",
      "\u001b[A\n",
      "\u001b[A\n",
      "\u001b[A\n",
      "\u001b[A\n",
      "\u001b[A\n",
      "\u001b[A\n",
      "\u001b[A\n",
      "100%|██████████| 744/744 [00:02<00:00, 309.53it/s]\n"
     ]
    },
    {
     "name": "stdout",
     "output_type": "stream",
     "text": [
      "included in labels\n",
      "{'global': ['NR-Aromatase']}\n",
      "included in graph features\n",
      "{'atom': ['total_degree', 'total_H', 'is_in_ring', 'ring_size_3', 'ring_size_4', 'ring_size_5', 'ring_size_6', 'chemical_symbol_Br', 'chemical_symbol_Ca', 'chemical_symbol_Na', 'chemical_symbol_Al', 'chemical_symbol_V', 'chemical_symbol_Ti', 'chemical_symbol_B', 'chemical_symbol_Cr', 'chemical_symbol_Cl', 'chemical_symbol_Cu', 'chemical_symbol_F', 'chemical_symbol_Fe', 'chemical_symbol_As', 'chemical_symbol_N', 'chemical_symbol_H', 'chemical_symbol_P', 'chemical_symbol_Se', 'chemical_symbol_Si', 'chemical_symbol_O', 'chemical_symbol_C', 'chemical_symbol_Ni', 'chemical_symbol_Zn', 'chemical_symbol_Ge', 'chemical_symbol_S'], 'bond': ['metal bond', 'ring inclusion', 'ring size_3', 'ring size_4', 'ring size_5', 'ring size_6', 'bond_length'], 'global': ['num atoms', 'num bonds', 'molecule weight']}\n",
      "original loader node types: dict_keys(['atom', 'bond', 'global'])\n",
      "original loader label types: dict_keys([])\n",
      "include names:  dict_keys(['global'])\n",
      "... > parsing labels and features in graphs\n"
     ]
    },
    {
     "name": "stderr",
     "output_type": "stream",
     "text": [
      "\n",
      "744it [00:00, 28645.04it/s]\n"
     ]
    },
    {
     "name": "stdout",
     "output_type": "stream",
     "text": [
      "... > number of categories for each label: \n",
      "...... > label  NR-Aromatase :  2 with distribution:  [554, 28]\n",
      "original loader node types: dict_keys(['atom', 'bond', 'global'])\n",
      "original loader label types: dict_keys(['global'])\n",
      "number of graphs filtered:  162\n",
      "... > Scaling features\n",
      "mean [1.64148170e+00 3.96981724e-01 5.66416777e-02 8.81963839e-04\n",
      " 1.10735460e-02 3.00847665e-02 1.46014013e-02 6.85971875e-04\n",
      " 0.00000000e+00 0.00000000e+00 0.00000000e+00 0.00000000e+00\n",
      " 0.00000000e+00 4.89979911e-05 0.00000000e+00 8.08466853e-03\n",
      " 0.00000000e+00 4.21382723e-03 0.00000000e+00 1.46993973e-04\n",
      " 3.91003969e-02 4.94732716e-01 9.79959822e-04 4.89979911e-05\n",
      " 2.93987946e-04 7.60448822e-02 3.69640845e-01 0.00000000e+00\n",
      " 0.00000000e+00 0.00000000e+00 5.97775491e-03]\n",
      "std [1.67561011 0.69934326 0.23115665 0.02968478 0.10464666 0.17082059\n",
      " 0.11995083 0.02618208 0.         0.         0.         0.\n",
      " 0.         0.00699969 0.         0.08955058 0.         0.06477709\n",
      " 0.         0.01212322 0.19383384 0.49997225 0.03128897 0.00699969\n",
      " 0.01714356 0.26506991 0.48270746 0.         0.         0.\n",
      " 0.07708451]\n",
      "Standard deviation for feature 8 is 0.0, smaller than 0.001. You may want to exclude this feature.\n",
      "Standard deviation for feature 9 is 0.0, smaller than 0.001. You may want to exclude this feature.\n",
      "Standard deviation for feature 10 is 0.0, smaller than 0.001. You may want to exclude this feature.\n",
      "Standard deviation for feature 11 is 0.0, smaller than 0.001. You may want to exclude this feature.\n",
      "Standard deviation for feature 12 is 0.0, smaller than 0.001. You may want to exclude this feature.\n",
      "Standard deviation for feature 14 is 0.0, smaller than 0.001. You may want to exclude this feature.\n",
      "Standard deviation for feature 16 is 0.0, smaller than 0.001. You may want to exclude this feature.\n",
      "Standard deviation for feature 18 is 0.0, smaller than 0.001. You may want to exclude this feature.\n",
      "Standard deviation for feature 27 is 0.0, smaller than 0.001. You may want to exclude this feature.\n",
      "Standard deviation for feature 28 is 0.0, smaller than 0.001. You may want to exclude this feature.\n",
      "Standard deviation for feature 29 is 0.0, smaller than 0.001. You may want to exclude this feature.\n",
      "mean [0.00000000e+00 6.62003071e-02 1.02371609e-03 1.29670705e-02\n",
      " 3.56594438e-02 1.70619348e-02 1.74966126e+00]\n",
      "std [0.         0.24863191 0.03197918 0.11313234 0.18543961 0.12950222\n",
      " 0.87503465]\n",
      "Standard deviation for feature 0 is 0.0, smaller than 0.001. You may want to exclude this feature.\n",
      "mean [ 35.06701031  30.21134021 258.4428365 ]\n",
      "std [ 22.58037902  22.29785117 152.66759638]\n",
      "... > Scaling features complete\n",
      "... > feature mean(s): \n",
      " {'atom': tensor([1.6415e+00, 3.9698e-01, 5.6642e-02, 8.8196e-04, 1.1074e-02, 3.0085e-02,\n",
      "        1.4601e-02, 6.8597e-04, 0.0000e+00, 0.0000e+00, 0.0000e+00, 0.0000e+00,\n",
      "        0.0000e+00, 4.8998e-05, 0.0000e+00, 8.0847e-03, 0.0000e+00, 4.2138e-03,\n",
      "        0.0000e+00, 1.4699e-04, 3.9100e-02, 4.9473e-01, 9.7996e-04, 4.8998e-05,\n",
      "        2.9399e-04, 7.6045e-02, 3.6964e-01, 0.0000e+00, 0.0000e+00, 0.0000e+00,\n",
      "        5.9778e-03]), 'bond': tensor([0.0000e+00, 6.6200e-02, 1.0237e-03, 1.2967e-02, 3.5659e-02, 1.7062e-02,\n",
      "        1.7497e+00]), 'global': tensor([ 35.0670,  30.2113, 258.4428])}\n",
      "... > feature std(s):  \n",
      " {'atom': tensor([1.6756e+00, 6.9934e-01, 2.3116e-01, 2.9685e-02, 1.0465e-01, 1.7082e-01,\n",
      "        1.1995e-01, 2.6182e-02, 1.0000e-03, 1.0000e-03, 1.0000e-03, 1.0000e-03,\n",
      "        1.0000e-03, 6.9997e-03, 1.0000e-03, 8.9551e-02, 1.0000e-03, 6.4777e-02,\n",
      "        1.0000e-03, 1.2123e-02, 1.9383e-01, 4.9997e-01, 3.1289e-02, 6.9997e-03,\n",
      "        1.7144e-02, 2.6507e-01, 4.8271e-01, 1.0000e-03, 1.0000e-03, 1.0000e-03,\n",
      "        7.7085e-02]), 'bond': tensor([0.0010, 0.2486, 0.0320, 0.1131, 0.1854, 0.1295, 0.8750]), 'global': tensor([ 22.5804,  22.2979, 152.6676])}\n",
      "... > loaded dataset\n",
      "... > creating MoleculeWrapper objects\n"
     ]
    },
    {
     "name": "stderr",
     "output_type": "stream",
     "text": [
      "\n",
      "\u001b[A\n",
      "\u001b[A\n",
      "\u001b[A\n",
      "100%|██████████| 744/744 [00:00<00:00, 2005.28it/s]\n"
     ]
    },
    {
     "name": "stdout",
     "output_type": "stream",
     "text": [
      "... > bond_feats_error_count:  0\n",
      "... > atom_feats_error_count:  0\n",
      "element set {'Br', 'Ca', 'Na', 'Al', 'V', 'Ti', 'B', 'Cr', 'Cl', 'Cu', 'F', 'Fe', 'As', 'N', 'H', 'P', 'Se', 'Si', 'O', 'C', 'Ni', 'Zn', 'Ge', 'S'}\n",
      "selected atomic keys ['extra_feat_atom_Hamiltonian_K', 'extra_feat_atom_e_density', 'extra_feat_atom_lap_e_density', 'extra_feat_atom_esp_total', 'extra_feat_atom_det_hessian', 'extra_feat_atom_eta', 'extra_feat_atom_energy_density']\n",
      "selected bond keys ['extra_feat_bond_Lagrangian_K', 'bond_length', 'extra_feat_bond_Hamiltonian_K', 'extra_feat_bond_e_density', 'extra_feat_bond_lap_e_density', 'extra_feat_bond_e_loc_func', 'extra_feat_bond_esp_e', 'extra_feat_bond_esp_total', 'extra_feat_bond_grad_norm', 'extra_feat_bond_lap_norm', 'extra_feat_bond_ellip_e_dens', 'extra_feat_bond_eta']\n",
      "selected global keys ['NR-ER']\n",
      "... > Building graphs and featurizing\n"
     ]
    },
    {
     "name": "stderr",
     "output_type": "stream",
     "text": [
      "\n",
      "\u001b[A\n",
      "\u001b[A\n",
      "\u001b[A\n",
      "\u001b[A\n",
      "\u001b[A\n",
      "\u001b[A\n",
      "\u001b[A\n",
      "\u001b[A\n",
      "\u001b[A\n",
      "\u001b[A\n",
      "\u001b[A\n",
      "\u001b[A\n",
      "\u001b[A\n",
      "\u001b[A\n",
      "\u001b[A\n",
      "\u001b[A\n",
      "\u001b[A\n",
      "\u001b[A\n",
      "\u001b[A\n",
      "\u001b[A\n",
      "\u001b[A\n",
      "\u001b[A\n",
      "100%|██████████| 744/744 [00:02<00:00, 304.77it/s]\n"
     ]
    },
    {
     "name": "stdout",
     "output_type": "stream",
     "text": [
      "included in labels\n",
      "{'global': ['NR-ER']}\n",
      "included in graph features\n",
      "{'atom': ['total_degree', 'total_H', 'is_in_ring', 'ring_size_3', 'ring_size_4', 'ring_size_5', 'ring_size_6', 'chemical_symbol_Br', 'chemical_symbol_Ca', 'chemical_symbol_Na', 'chemical_symbol_Al', 'chemical_symbol_V', 'chemical_symbol_Ti', 'chemical_symbol_B', 'chemical_symbol_Cr', 'chemical_symbol_Cl', 'chemical_symbol_Cu', 'chemical_symbol_F', 'chemical_symbol_Fe', 'chemical_symbol_As', 'chemical_symbol_N', 'chemical_symbol_H', 'chemical_symbol_P', 'chemical_symbol_Se', 'chemical_symbol_Si', 'chemical_symbol_O', 'chemical_symbol_C', 'chemical_symbol_Ni', 'chemical_symbol_Zn', 'chemical_symbol_Ge', 'chemical_symbol_S', 'extra_feat_atom_Hamiltonian_K', 'extra_feat_atom_e_density', 'extra_feat_atom_lap_e_density', 'extra_feat_atom_esp_total', 'extra_feat_atom_det_hessian', 'extra_feat_atom_eta', 'extra_feat_atom_energy_density'], 'bond': ['metal bond', 'ring inclusion', 'ring size_3', 'ring size_4', 'ring size_5', 'ring size_6', 'bond_length', 'extra_feat_bond_Lagrangian_K', 'extra_feat_bond_Hamiltonian_K', 'extra_feat_bond_e_density', 'extra_feat_bond_lap_e_density', 'extra_feat_bond_e_loc_func', 'extra_feat_bond_esp_e', 'extra_feat_bond_esp_total', 'extra_feat_bond_grad_norm', 'extra_feat_bond_lap_norm', 'extra_feat_bond_ellip_e_dens', 'extra_feat_bond_eta'], 'global': ['num atoms', 'num bonds', 'molecule weight']}\n",
      "original loader node types: dict_keys(['atom', 'bond', 'global'])\n",
      "original loader label types: dict_keys([])\n",
      "include names:  dict_keys(['global'])\n",
      "... > parsing labels and features in graphs\n"
     ]
    },
    {
     "name": "stderr",
     "output_type": "stream",
     "text": [
      "\n",
      "744it [00:00, 31520.83it/s]\n"
     ]
    },
    {
     "name": "stdout",
     "output_type": "stream",
     "text": [
      "... > number of categories for each label: \n",
      "...... > label  NR-ER :  2 with distribution:  [541, 64]\n",
      "original loader node types: dict_keys(['atom', 'bond', 'global'])\n",
      "original loader label types: dict_keys(['global'])\n",
      "number of graphs filtered:  139\n",
      "... > Scaling features\n",
      "mean [ 1.63431677e+00  3.90867624e-01  5.45419255e-02  1.01902174e-03\n",
      "  1.09666149e-02  2.89693323e-02  1.35869565e-02  7.76397516e-04\n",
      "  0.00000000e+00  0.00000000e+00  0.00000000e+00  0.00000000e+00\n",
      "  0.00000000e+00  4.85248447e-05  0.00000000e+00  8.20069876e-03\n",
      "  0.00000000e+00  4.99805901e-03  0.00000000e+00  1.45574534e-04\n",
      "  3.82861025e-02  4.92333075e-01  9.21972050e-04  9.70496894e-05\n",
      "  3.39673913e-04  7.50194099e-02  3.72088509e-01  0.00000000e+00\n",
      "  0.00000000e+00  0.00000000e+00  6.74495342e-03  1.13368263e+06\n",
      " -1.13368263e+06 -4.53078384e+06  5.51160538e+08 -1.64024502e+24\n",
      " -1.08644824e+00 -1.13368263e+06]\n",
      "std [1.67195380e+00 6.94105104e-01 2.27083914e-01 3.19058511e-02\n",
      " 1.04145803e-01 1.67720333e-01 1.15768524e-01 2.78530918e-02\n",
      " 0.00000000e+00 0.00000000e+00 0.00000000e+00 0.00000000e+00\n",
      " 0.00000000e+00 6.96580864e-03 0.00000000e+00 9.01856269e-02\n",
      " 0.00000000e+00 7.05200568e-02 0.00000000e+00 1.20645490e-02\n",
      " 1.91886104e-01 4.99941215e-01 3.03499920e-02 9.85090203e-03\n",
      " 1.84271141e-02 2.63422661e-01 4.83361822e-01 0.00000000e+00\n",
      " 0.00000000e+00 0.00000000e+00 8.18502231e-02 2.79809250e+07\n",
      " 2.79809250e+07 1.11821191e+08 7.87931122e+10 5.29404809e+25\n",
      " 1.09166671e-01 2.79809250e+07]\n",
      "Standard deviation for feature 8 is 0.0, smaller than 0.001. You may want to exclude this feature.\n",
      "Standard deviation for feature 9 is 0.0, smaller than 0.001. You may want to exclude this feature.\n",
      "Standard deviation for feature 10 is 0.0, smaller than 0.001. You may want to exclude this feature.\n",
      "Standard deviation for feature 11 is 0.0, smaller than 0.001. You may want to exclude this feature.\n",
      "Standard deviation for feature 12 is 0.0, smaller than 0.001. You may want to exclude this feature.\n",
      "Standard deviation for feature 14 is 0.0, smaller than 0.001. You may want to exclude this feature.\n",
      "Standard deviation for feature 16 is 0.0, smaller than 0.001. You may want to exclude this feature.\n",
      "Standard deviation for feature 18 is 0.0, smaller than 0.001. You may want to exclude this feature.\n",
      "Standard deviation for feature 27 is 0.0, smaller than 0.001. You may want to exclude this feature.\n",
      "Standard deviation for feature 28 is 0.0, smaller than 0.001. You may want to exclude this feature.\n",
      "Standard deviation for feature 29 is 0.0, smaller than 0.001. You may want to exclude this feature.\n",
      "mean [ 0.00000000e+00  6.40619699e-02  1.18737985e-03  1.28915526e-02\n",
      "  3.46036413e-02  1.59448151e-02  1.74660566e+00  1.21449235e-01\n",
      "  2.93715103e-01 -2.93715103e-01 -6.89063473e-01  8.05114920e-01\n",
      " -2.83593167e+01  9.66738917e-01  6.89199067e-16 -6.89063473e-01\n",
      "  1.61415085e-01  1.45316197e+00]\n",
      "std [0.00000000e+00 2.44863296e-01 3.44379148e-02 1.12806740e-01\n",
      " 1.82773711e-01 1.25262037e-01 8.72689885e-01 1.67370361e-01\n",
      " 1.51970193e-01 1.51970193e-01 5.14656160e-01 2.95752573e-01\n",
      " 8.37506382e+00 5.32688209e-01 5.33466456e-15 5.14656160e-01\n",
      " 6.28084339e-01 6.09611388e-01]\n",
      "Standard deviation for feature 0 is 0.0, smaller than 0.001. You may want to exclude this feature.\n",
      "Standard deviation for feature 14 is 5.334664556989038e-15, smaller than 0.001. You may want to exclude this feature.\n",
      "mean [ 34.06280992  29.23305785 252.85326763]\n",
      "std [ 19.585102    18.98952033 132.28062561]\n",
      "... > Scaling features complete\n",
      "... > feature mean(s): \n",
      " {'atom': tensor([ 1.6343e+00,  3.9087e-01,  5.4542e-02,  1.0190e-03,  1.0967e-02,\n",
      "         2.8969e-02,  1.3587e-02,  7.7640e-04,  0.0000e+00,  0.0000e+00,\n",
      "         0.0000e+00,  0.0000e+00,  0.0000e+00,  4.8525e-05,  0.0000e+00,\n",
      "         8.2007e-03,  0.0000e+00,  4.9981e-03,  0.0000e+00,  1.4557e-04,\n",
      "         3.8286e-02,  4.9233e-01,  9.2197e-04,  9.7050e-05,  3.3967e-04,\n",
      "         7.5019e-02,  3.7209e-01,  0.0000e+00,  0.0000e+00,  0.0000e+00,\n",
      "         6.7450e-03,  1.1337e+06, -1.1337e+06, -4.5308e+06,  5.5116e+08,\n",
      "        -1.6402e+24, -1.0864e+00, -1.1337e+06]), 'bond': tensor([ 0.0000e+00,  6.4062e-02,  1.1874e-03,  1.2892e-02,  3.4604e-02,\n",
      "         1.5945e-02,  1.7466e+00,  1.2145e-01,  2.9372e-01, -2.9372e-01,\n",
      "        -6.8906e-01,  8.0511e-01, -2.8359e+01,  9.6674e-01,  6.8920e-16,\n",
      "        -6.8906e-01,  1.6142e-01,  1.4532e+00]), 'global': tensor([ 34.0628,  29.2331, 252.8533])}\n",
      "... > feature std(s):  \n",
      " {'atom': tensor([1.6720e+00, 6.9411e-01, 2.2708e-01, 3.1906e-02, 1.0415e-01, 1.6772e-01,\n",
      "        1.1577e-01, 2.7853e-02, 1.0000e-03, 1.0000e-03, 1.0000e-03, 1.0000e-03,\n",
      "        1.0000e-03, 6.9658e-03, 1.0000e-03, 9.0186e-02, 1.0000e-03, 7.0520e-02,\n",
      "        1.0000e-03, 1.2065e-02, 1.9189e-01, 4.9994e-01, 3.0350e-02, 9.8509e-03,\n",
      "        1.8427e-02, 2.6342e-01, 4.8336e-01, 1.0000e-03, 1.0000e-03, 1.0000e-03,\n",
      "        8.1850e-02, 2.7981e+07, 2.7981e+07, 1.1182e+08, 7.8793e+10, 5.2940e+25,\n",
      "        1.0917e-01, 2.7981e+07]), 'bond': tensor([1.0000e-03, 2.4486e-01, 3.4438e-02, 1.1281e-01, 1.8277e-01, 1.2526e-01,\n",
      "        8.7269e-01, 1.6737e-01, 1.5197e-01, 1.5197e-01, 5.1466e-01, 2.9575e-01,\n",
      "        8.3751e+00, 5.3269e-01, 1.0000e-03, 5.1466e-01, 6.2808e-01, 6.0961e-01]), 'global': tensor([ 19.5851,  18.9895, 132.2806])}\n",
      "... > loaded dataset\n",
      "... > creating MoleculeWrapper objects\n"
     ]
    },
    {
     "name": "stderr",
     "output_type": "stream",
     "text": [
      "\n",
      "\u001b[A\n",
      "100%|██████████| 744/744 [00:00<00:00, 6310.22it/s]\n"
     ]
    },
    {
     "name": "stdout",
     "output_type": "stream",
     "text": [
      "... > bond_feats_error_count:  0\n",
      "... > atom_feats_error_count:  0\n",
      "element set {'Br', 'Ca', 'Na', 'Al', 'V', 'Ti', 'B', 'Cr', 'Cl', 'Cu', 'F', 'Fe', 'As', 'N', 'H', 'P', 'Se', 'Si', 'O', 'C', 'Ni', 'Zn', 'Ge', 'S'}\n",
      "selected atomic keys []\n",
      "selected bond keys ['bond_length']\n",
      "selected global keys ['NR-ER']\n",
      "... > Building graphs and featurizing\n"
     ]
    },
    {
     "name": "stderr",
     "output_type": "stream",
     "text": [
      "\n",
      "\u001b[A\n",
      "\u001b[A\n",
      "\u001b[A\n",
      "\u001b[A\n",
      "\u001b[A\n",
      "\u001b[A\n",
      "\u001b[A\n",
      "\u001b[A\n",
      "\u001b[A\n",
      "\u001b[A\n",
      "\u001b[A\n",
      "\u001b[A\n",
      "\u001b[A\n",
      "\u001b[A\n",
      "\u001b[A\n",
      "\u001b[A\n",
      "\u001b[A\n",
      "\u001b[A\n",
      "\u001b[A\n",
      "\u001b[A\n",
      "\u001b[A\n",
      "\u001b[A\n",
      "100%|██████████| 744/744 [00:02<00:00, 312.91it/s]\n"
     ]
    },
    {
     "name": "stdout",
     "output_type": "stream",
     "text": [
      "included in labels\n",
      "{'global': ['NR-ER']}\n",
      "included in graph features\n",
      "{'atom': ['total_degree', 'total_H', 'is_in_ring', 'ring_size_3', 'ring_size_4', 'ring_size_5', 'ring_size_6', 'chemical_symbol_Br', 'chemical_symbol_Ca', 'chemical_symbol_Na', 'chemical_symbol_Al', 'chemical_symbol_V', 'chemical_symbol_Ti', 'chemical_symbol_B', 'chemical_symbol_Cr', 'chemical_symbol_Cl', 'chemical_symbol_Cu', 'chemical_symbol_F', 'chemical_symbol_Fe', 'chemical_symbol_As', 'chemical_symbol_N', 'chemical_symbol_H', 'chemical_symbol_P', 'chemical_symbol_Se', 'chemical_symbol_Si', 'chemical_symbol_O', 'chemical_symbol_C', 'chemical_symbol_Ni', 'chemical_symbol_Zn', 'chemical_symbol_Ge', 'chemical_symbol_S'], 'bond': ['metal bond', 'ring inclusion', 'ring size_3', 'ring size_4', 'ring size_5', 'ring size_6', 'bond_length'], 'global': ['num atoms', 'num bonds', 'molecule weight']}\n",
      "original loader node types: dict_keys(['atom', 'bond', 'global'])\n",
      "original loader label types: dict_keys([])\n",
      "include names:  dict_keys(['global'])\n",
      "... > parsing labels and features in graphs\n"
     ]
    },
    {
     "name": "stderr",
     "output_type": "stream",
     "text": [
      "\n",
      "744it [00:00, 31810.34it/s]\n"
     ]
    },
    {
     "name": "stdout",
     "output_type": "stream",
     "text": [
      "... > number of categories for each label: \n",
      "...... > label  NR-ER :  2 with distribution:  [541, 64]\n",
      "original loader node types: dict_keys(['atom', 'bond', 'global'])\n",
      "original loader label types: dict_keys(['global'])\n",
      "number of graphs filtered:  139\n",
      "... > Scaling features\n",
      "mean [1.63431677e+00 3.90867624e-01 5.45419255e-02 1.01902174e-03\n",
      " 1.09666149e-02 2.89693323e-02 1.35869565e-02 7.76397516e-04\n",
      " 0.00000000e+00 0.00000000e+00 0.00000000e+00 0.00000000e+00\n",
      " 0.00000000e+00 4.85248447e-05 0.00000000e+00 8.20069876e-03\n",
      " 0.00000000e+00 4.99805901e-03 0.00000000e+00 1.45574534e-04\n",
      " 3.82861025e-02 4.92333075e-01 9.21972050e-04 9.70496894e-05\n",
      " 3.39673913e-04 7.50194099e-02 3.72088509e-01 0.00000000e+00\n",
      " 0.00000000e+00 0.00000000e+00 6.74495342e-03]\n",
      "std [1.6719538  0.6941051  0.22708391 0.03190585 0.1041458  0.16772033\n",
      " 0.11576852 0.02785309 0.         0.         0.         0.\n",
      " 0.         0.00696581 0.         0.09018563 0.         0.07052006\n",
      " 0.         0.01206455 0.1918861  0.49994121 0.03034999 0.0098509\n",
      " 0.01842711 0.26342266 0.48336182 0.         0.         0.\n",
      " 0.08185022]\n",
      "Standard deviation for feature 8 is 0.0, smaller than 0.001. You may want to exclude this feature.\n",
      "Standard deviation for feature 9 is 0.0, smaller than 0.001. You may want to exclude this feature.\n",
      "Standard deviation for feature 10 is 0.0, smaller than 0.001. You may want to exclude this feature.\n",
      "Standard deviation for feature 11 is 0.0, smaller than 0.001. You may want to exclude this feature.\n",
      "Standard deviation for feature 12 is 0.0, smaller than 0.001. You may want to exclude this feature.\n",
      "Standard deviation for feature 14 is 0.0, smaller than 0.001. You may want to exclude this feature.\n",
      "Standard deviation for feature 16 is 0.0, smaller than 0.001. You may want to exclude this feature.\n",
      "Standard deviation for feature 18 is 0.0, smaller than 0.001. You may want to exclude this feature.\n",
      "Standard deviation for feature 27 is 0.0, smaller than 0.001. You may want to exclude this feature.\n",
      "Standard deviation for feature 28 is 0.0, smaller than 0.001. You may want to exclude this feature.\n",
      "Standard deviation for feature 29 is 0.0, smaller than 0.001. You may want to exclude this feature.\n",
      "mean [0.00000000e+00 6.40619699e-02 1.18737985e-03 1.28915526e-02\n",
      " 3.46036413e-02 1.59448151e-02 1.74660566e+00]\n",
      "std [0.         0.2448633  0.03443791 0.11280674 0.18277371 0.12526204\n",
      " 0.87268989]\n",
      "Standard deviation for feature 0 is 0.0, smaller than 0.001. You may want to exclude this feature.\n",
      "mean [ 34.06280992  29.23305785 252.85326763]\n",
      "std [ 19.585102    18.98952033 132.28062561]\n",
      "... > Scaling features complete\n",
      "... > feature mean(s): \n",
      " {'atom': tensor([1.6343e+00, 3.9087e-01, 5.4542e-02, 1.0190e-03, 1.0967e-02, 2.8969e-02,\n",
      "        1.3587e-02, 7.7640e-04, 0.0000e+00, 0.0000e+00, 0.0000e+00, 0.0000e+00,\n",
      "        0.0000e+00, 4.8525e-05, 0.0000e+00, 8.2007e-03, 0.0000e+00, 4.9981e-03,\n",
      "        0.0000e+00, 1.4557e-04, 3.8286e-02, 4.9233e-01, 9.2197e-04, 9.7050e-05,\n",
      "        3.3967e-04, 7.5019e-02, 3.7209e-01, 0.0000e+00, 0.0000e+00, 0.0000e+00,\n",
      "        6.7450e-03]), 'bond': tensor([0.0000e+00, 6.4062e-02, 1.1874e-03, 1.2892e-02, 3.4604e-02, 1.5945e-02,\n",
      "        1.7466e+00]), 'global': tensor([ 34.0628,  29.2331, 252.8533])}\n",
      "... > feature std(s):  \n",
      " {'atom': tensor([1.6720e+00, 6.9411e-01, 2.2708e-01, 3.1906e-02, 1.0415e-01, 1.6772e-01,\n",
      "        1.1577e-01, 2.7853e-02, 1.0000e-03, 1.0000e-03, 1.0000e-03, 1.0000e-03,\n",
      "        1.0000e-03, 6.9658e-03, 1.0000e-03, 9.0186e-02, 1.0000e-03, 7.0520e-02,\n",
      "        1.0000e-03, 1.2065e-02, 1.9189e-01, 4.9994e-01, 3.0350e-02, 9.8509e-03,\n",
      "        1.8427e-02, 2.6342e-01, 4.8336e-01, 1.0000e-03, 1.0000e-03, 1.0000e-03,\n",
      "        8.1850e-02]), 'bond': tensor([0.0010, 0.2449, 0.0344, 0.1128, 0.1828, 0.1253, 0.8727]), 'global': tensor([ 19.5851,  18.9895, 132.2806])}\n",
      "... > loaded dataset\n",
      "... > creating MoleculeWrapper objects\n"
     ]
    },
    {
     "name": "stderr",
     "output_type": "stream",
     "text": [
      "\n",
      "\u001b[A\n",
      "\u001b[A\n",
      "\u001b[A\n",
      "100%|██████████| 744/744 [00:00<00:00, 2030.64it/s]\n"
     ]
    },
    {
     "name": "stdout",
     "output_type": "stream",
     "text": [
      "... > bond_feats_error_count:  0\n",
      "... > atom_feats_error_count:  0\n",
      "element set {'Br', 'Ca', 'Na', 'Al', 'V', 'Ti', 'B', 'Cr', 'Cl', 'Cu', 'F', 'Fe', 'As', 'N', 'H', 'P', 'Se', 'Si', 'O', 'C', 'Ni', 'Zn', 'Ge', 'S'}\n",
      "selected atomic keys ['extra_feat_atom_Hamiltonian_K', 'extra_feat_atom_e_density', 'extra_feat_atom_lap_e_density', 'extra_feat_atom_esp_total', 'extra_feat_atom_det_hessian', 'extra_feat_atom_eta', 'extra_feat_atom_energy_density']\n",
      "selected bond keys ['extra_feat_bond_Lagrangian_K', 'bond_length', 'extra_feat_bond_Hamiltonian_K', 'extra_feat_bond_e_density', 'extra_feat_bond_lap_e_density', 'extra_feat_bond_e_loc_func', 'extra_feat_bond_esp_e', 'extra_feat_bond_esp_total', 'extra_feat_bond_grad_norm', 'extra_feat_bond_lap_norm', 'extra_feat_bond_ellip_e_dens', 'extra_feat_bond_eta']\n",
      "selected global keys ['NR-ER-LBD']\n",
      "... > Building graphs and featurizing\n"
     ]
    },
    {
     "name": "stderr",
     "output_type": "stream",
     "text": [
      "\n",
      "\u001b[A\n",
      "\u001b[A\n",
      "\u001b[A\n",
      "\u001b[A\n",
      "\u001b[A\n",
      "\u001b[A\n",
      "\u001b[A\n",
      "\u001b[A\n",
      "\u001b[A\n",
      "\u001b[A\n",
      "\u001b[A\n",
      "\u001b[A\n",
      "\u001b[A\n",
      "\u001b[A\n",
      "\u001b[A\n",
      "\u001b[A\n",
      "\u001b[A\n",
      "\u001b[A\n",
      "\u001b[A\n",
      "\u001b[A\n",
      "\u001b[A\n",
      "\u001b[A\n",
      "\u001b[A\n",
      "100%|██████████| 744/744 [00:02<00:00, 304.30it/s]\n"
     ]
    },
    {
     "name": "stdout",
     "output_type": "stream",
     "text": [
      "included in labels\n",
      "{'global': ['NR-ER-LBD']}\n",
      "included in graph features\n",
      "{'atom': ['total_degree', 'total_H', 'is_in_ring', 'ring_size_3', 'ring_size_4', 'ring_size_5', 'ring_size_6', 'chemical_symbol_Br', 'chemical_symbol_Ca', 'chemical_symbol_Na', 'chemical_symbol_Al', 'chemical_symbol_V', 'chemical_symbol_Ti', 'chemical_symbol_B', 'chemical_symbol_Cr', 'chemical_symbol_Cl', 'chemical_symbol_Cu', 'chemical_symbol_F', 'chemical_symbol_Fe', 'chemical_symbol_As', 'chemical_symbol_N', 'chemical_symbol_H', 'chemical_symbol_P', 'chemical_symbol_Se', 'chemical_symbol_Si', 'chemical_symbol_O', 'chemical_symbol_C', 'chemical_symbol_Ni', 'chemical_symbol_Zn', 'chemical_symbol_Ge', 'chemical_symbol_S', 'extra_feat_atom_Hamiltonian_K', 'extra_feat_atom_e_density', 'extra_feat_atom_lap_e_density', 'extra_feat_atom_esp_total', 'extra_feat_atom_det_hessian', 'extra_feat_atom_eta', 'extra_feat_atom_energy_density'], 'bond': ['metal bond', 'ring inclusion', 'ring size_3', 'ring size_4', 'ring size_5', 'ring size_6', 'bond_length', 'extra_feat_bond_Lagrangian_K', 'extra_feat_bond_Hamiltonian_K', 'extra_feat_bond_e_density', 'extra_feat_bond_lap_e_density', 'extra_feat_bond_e_loc_func', 'extra_feat_bond_esp_e', 'extra_feat_bond_esp_total', 'extra_feat_bond_grad_norm', 'extra_feat_bond_lap_norm', 'extra_feat_bond_ellip_e_dens', 'extra_feat_bond_eta'], 'global': ['num atoms', 'num bonds', 'molecule weight']}\n",
      "original loader node types: dict_keys(['atom', 'bond', 'global'])\n",
      "original loader label types: dict_keys([])\n",
      "include names:  dict_keys(['global'])\n",
      "... > parsing labels and features in graphs\n"
     ]
    },
    {
     "name": "stderr",
     "output_type": "stream",
     "text": [
      "\n",
      "744it [00:00, 31589.75it/s]\n"
     ]
    },
    {
     "name": "stdout",
     "output_type": "stream",
     "text": [
      "... > number of categories for each label: \n",
      "...... > label  NR-ER-LBD :  2 with distribution:  [651, 29]\n",
      "original loader node types: dict_keys(['atom', 'bond', 'global'])\n",
      "original loader label types: dict_keys(['global'])\n",
      "number of graphs filtered:  64\n",
      "... > Scaling features\n",
      "mean [ 1.65199701e+00  3.96952587e-01  5.35580835e-02  8.71875778e-04\n",
      "  1.12098314e-02  2.78585070e-02  1.36178693e-02  8.30357884e-04\n",
      "  0.00000000e+00  0.00000000e+00  0.00000000e+00  0.00000000e+00\n",
      "  0.00000000e+00  4.15178942e-05  0.00000000e+00  8.46965042e-03\n",
      "  0.00000000e+00  4.52545047e-03  0.00000000e+00  1.24553683e-04\n",
      "  3.89853027e-02  4.90783027e-01  8.30357884e-04  1.24553683e-04\n",
      "  3.32143154e-04  7.44415843e-02  3.73910155e-01  0.00000000e+00\n",
      "  0.00000000e+00  0.00000000e+00  6.60134518e-03  1.19207188e+06\n",
      " -1.19207188e+06 -4.76412458e+06  4.71954610e+08 -1.75551312e+24\n",
      " -1.08679175e+00 -1.19207188e+06]\n",
      "std [1.67689209e+00 6.98265854e-01 2.25143544e-01 2.95146677e-02\n",
      " 1.05281390e-01 1.64567344e-01 1.15898330e-01 2.88039648e-02\n",
      " 0.00000000e+00 0.00000000e+00 0.00000000e+00 0.00000000e+00\n",
      " 0.00000000e+00 6.44330431e-03 0.00000000e+00 9.16401410e-02\n",
      " 0.00000000e+00 6.71190790e-02 0.00000000e+00 1.11596671e-02\n",
      " 1.93559936e-01 4.99915040e-01 2.88039648e-02 1.11596671e-02\n",
      " 1.82217682e-02 2.62488161e-01 4.83840212e-01 0.00000000e+00\n",
      " 0.00000000e+00 0.00000000e+00 8.09800434e-02 2.89103945e+07\n",
      " 2.89103945e+07 1.15535633e+08 7.28828522e+10 5.48518140e+25\n",
      " 1.10499340e-01 2.89103945e+07]\n",
      "Standard deviation for feature 8 is 0.0, smaller than 0.001. You may want to exclude this feature.\n",
      "Standard deviation for feature 9 is 0.0, smaller than 0.001. You may want to exclude this feature.\n",
      "Standard deviation for feature 10 is 0.0, smaller than 0.001. You may want to exclude this feature.\n",
      "Standard deviation for feature 11 is 0.0, smaller than 0.001. You may want to exclude this feature.\n",
      "Standard deviation for feature 12 is 0.0, smaller than 0.001. You may want to exclude this feature.\n",
      "Standard deviation for feature 14 is 0.0, smaller than 0.001. You may want to exclude this feature.\n",
      "Standard deviation for feature 16 is 0.0, smaller than 0.001. You may want to exclude this feature.\n",
      "Standard deviation for feature 18 is 0.0, smaller than 0.001. You may want to exclude this feature.\n",
      "Standard deviation for feature 27 is 0.0, smaller than 0.001. You may want to exclude this feature.\n",
      "Standard deviation for feature 28 is 0.0, smaller than 0.001. You may want to exclude this feature.\n",
      "Standard deviation for feature 29 is 0.0, smaller than 0.001. You may want to exclude this feature.\n",
      "mean [ 0.00000000e+00  6.22515922e-02  1.00560264e-03  1.30249485e-02\n",
      "  3.28975722e-02  1.58023273e-02  1.75061781e+00  1.19941329e-01\n",
      "  2.93082778e-01 -2.93082778e-01 -6.92565798e-01  8.04436587e-01\n",
      " -2.92682066e+01  9.64219742e-01  6.64983931e-16 -6.92565798e-01\n",
      "  1.64081534e-01  1.45334953e+00]\n",
      "std [0.00000000e+00 2.41611944e-01 3.16952900e-02 1.13381212e-01\n",
      " 1.78368500e-01 1.24710119e-01 8.71396771e-01 1.63835256e-01\n",
      " 1.51513708e-01 1.51513708e-01 5.13436793e-01 2.96752432e-01\n",
      " 9.07274911e+00 5.30944697e-01 5.04644198e-15 5.13436793e-01\n",
      " 6.36768677e-01 6.08723050e-01]\n",
      "Standard deviation for feature 0 is 0.0, smaller than 0.001. You may want to exclude this feature.\n",
      "Standard deviation for feature 14 is 5.046441976145354e-15, smaller than 0.001. You may want to exclude this feature.\n",
      "mean [ 35.42058824  30.71029412 263.59112787]\n",
      "std [ 21.71871353  21.41583828 146.45707492]\n",
      "... > Scaling features complete\n",
      "... > feature mean(s): \n",
      " {'atom': tensor([ 1.6520e+00,  3.9695e-01,  5.3558e-02,  8.7188e-04,  1.1210e-02,\n",
      "         2.7859e-02,  1.3618e-02,  8.3036e-04,  0.0000e+00,  0.0000e+00,\n",
      "         0.0000e+00,  0.0000e+00,  0.0000e+00,  4.1518e-05,  0.0000e+00,\n",
      "         8.4697e-03,  0.0000e+00,  4.5255e-03,  0.0000e+00,  1.2455e-04,\n",
      "         3.8985e-02,  4.9078e-01,  8.3036e-04,  1.2455e-04,  3.3214e-04,\n",
      "         7.4442e-02,  3.7391e-01,  0.0000e+00,  0.0000e+00,  0.0000e+00,\n",
      "         6.6013e-03,  1.1921e+06, -1.1921e+06, -4.7641e+06,  4.7195e+08,\n",
      "        -1.7555e+24, -1.0868e+00, -1.1921e+06]), 'bond': tensor([ 0.0000e+00,  6.2252e-02,  1.0056e-03,  1.3025e-02,  3.2898e-02,\n",
      "         1.5802e-02,  1.7506e+00,  1.1994e-01,  2.9308e-01, -2.9308e-01,\n",
      "        -6.9257e-01,  8.0444e-01, -2.9268e+01,  9.6422e-01,  6.6498e-16,\n",
      "        -6.9257e-01,  1.6408e-01,  1.4533e+00]), 'global': tensor([ 35.4206,  30.7103, 263.5911])}\n",
      "... > feature std(s):  \n",
      " {'atom': tensor([1.6769e+00, 6.9827e-01, 2.2514e-01, 2.9515e-02, 1.0528e-01, 1.6457e-01,\n",
      "        1.1590e-01, 2.8804e-02, 1.0000e-03, 1.0000e-03, 1.0000e-03, 1.0000e-03,\n",
      "        1.0000e-03, 6.4433e-03, 1.0000e-03, 9.1640e-02, 1.0000e-03, 6.7119e-02,\n",
      "        1.0000e-03, 1.1160e-02, 1.9356e-01, 4.9992e-01, 2.8804e-02, 1.1160e-02,\n",
      "        1.8222e-02, 2.6249e-01, 4.8384e-01, 1.0000e-03, 1.0000e-03, 1.0000e-03,\n",
      "        8.0980e-02, 2.8910e+07, 2.8910e+07, 1.1554e+08, 7.2883e+10, 5.4852e+25,\n",
      "        1.1050e-01, 2.8910e+07]), 'bond': tensor([1.0000e-03, 2.4161e-01, 3.1695e-02, 1.1338e-01, 1.7837e-01, 1.2471e-01,\n",
      "        8.7140e-01, 1.6384e-01, 1.5151e-01, 1.5151e-01, 5.1344e-01, 2.9675e-01,\n",
      "        9.0727e+00, 5.3094e-01, 1.0000e-03, 5.1344e-01, 6.3677e-01, 6.0872e-01]), 'global': tensor([ 21.7187,  21.4158, 146.4571])}\n",
      "... > loaded dataset\n",
      "... > creating MoleculeWrapper objects\n"
     ]
    },
    {
     "name": "stderr",
     "output_type": "stream",
     "text": [
      "\n",
      "\u001b[A\n",
      "100%|██████████| 744/744 [00:00<00:00, 6453.30it/s]\n"
     ]
    },
    {
     "name": "stdout",
     "output_type": "stream",
     "text": [
      "... > bond_feats_error_count:  0\n",
      "... > atom_feats_error_count:  0\n",
      "element set {'Br', 'Ca', 'Na', 'Al', 'V', 'Ti', 'B', 'Cr', 'Cl', 'Cu', 'F', 'Fe', 'As', 'N', 'H', 'P', 'Se', 'Si', 'O', 'C', 'Ni', 'Zn', 'Ge', 'S'}\n",
      "selected atomic keys []\n",
      "selected bond keys ['bond_length']\n",
      "selected global keys ['NR-ER-LBD']\n",
      "... > Building graphs and featurizing\n"
     ]
    },
    {
     "name": "stderr",
     "output_type": "stream",
     "text": [
      "\n",
      "\u001b[A\n",
      "\u001b[A\n",
      "\u001b[A\n",
      "\u001b[A\n",
      "\u001b[A\n",
      "\u001b[A\n",
      "\u001b[A\n",
      "\u001b[A\n",
      "\u001b[A\n",
      "\u001b[A\n",
      "\u001b[A\n",
      "\u001b[A\n",
      "\u001b[A\n",
      "\u001b[A\n",
      "\u001b[A\n",
      "\u001b[A\n",
      "\u001b[A\n",
      "\u001b[A\n",
      "\u001b[A\n",
      "\u001b[A\n",
      "\u001b[A\n",
      "\u001b[A\n",
      "100%|██████████| 744/744 [00:02<00:00, 312.89it/s]\n"
     ]
    },
    {
     "name": "stdout",
     "output_type": "stream",
     "text": [
      "included in labels\n",
      "{'global': ['NR-ER-LBD']}\n",
      "included in graph features\n",
      "{'atom': ['total_degree', 'total_H', 'is_in_ring', 'ring_size_3', 'ring_size_4', 'ring_size_5', 'ring_size_6', 'chemical_symbol_Br', 'chemical_symbol_Ca', 'chemical_symbol_Na', 'chemical_symbol_Al', 'chemical_symbol_V', 'chemical_symbol_Ti', 'chemical_symbol_B', 'chemical_symbol_Cr', 'chemical_symbol_Cl', 'chemical_symbol_Cu', 'chemical_symbol_F', 'chemical_symbol_Fe', 'chemical_symbol_As', 'chemical_symbol_N', 'chemical_symbol_H', 'chemical_symbol_P', 'chemical_symbol_Se', 'chemical_symbol_Si', 'chemical_symbol_O', 'chemical_symbol_C', 'chemical_symbol_Ni', 'chemical_symbol_Zn', 'chemical_symbol_Ge', 'chemical_symbol_S'], 'bond': ['metal bond', 'ring inclusion', 'ring size_3', 'ring size_4', 'ring size_5', 'ring size_6', 'bond_length'], 'global': ['num atoms', 'num bonds', 'molecule weight']}\n",
      "original loader node types: dict_keys(['atom', 'bond', 'global'])\n",
      "original loader label types: dict_keys([])\n",
      "include names:  dict_keys(['global'])\n",
      "... > parsing labels and features in graphs\n"
     ]
    },
    {
     "name": "stderr",
     "output_type": "stream",
     "text": [
      "\n",
      "744it [00:00, 31170.71it/s]\n"
     ]
    },
    {
     "name": "stdout",
     "output_type": "stream",
     "text": [
      "... > number of categories for each label: \n",
      "...... > label  NR-ER-LBD :  2 with distribution:  [651, 29]\n",
      "original loader node types: dict_keys(['atom', 'bond', 'global'])\n",
      "original loader label types: dict_keys(['global'])\n",
      "number of graphs filtered:  64\n",
      "... > Scaling features\n",
      "mean [1.65199701e+00 3.96952587e-01 5.35580835e-02 8.71875778e-04\n",
      " 1.12098314e-02 2.78585070e-02 1.36178693e-02 8.30357884e-04\n",
      " 0.00000000e+00 0.00000000e+00 0.00000000e+00 0.00000000e+00\n",
      " 0.00000000e+00 4.15178942e-05 0.00000000e+00 8.46965042e-03\n",
      " 0.00000000e+00 4.52545047e-03 0.00000000e+00 1.24553683e-04\n",
      " 3.89853027e-02 4.90783027e-01 8.30357884e-04 1.24553683e-04\n",
      " 3.32143154e-04 7.44415843e-02 3.73910155e-01 0.00000000e+00\n",
      " 0.00000000e+00 0.00000000e+00 6.60134518e-03]\n",
      "std [1.67689209 0.69826585 0.22514354 0.02951467 0.10528139 0.16456734\n",
      " 0.11589833 0.02880396 0.         0.         0.         0.\n",
      " 0.         0.0064433  0.         0.09164014 0.         0.06711908\n",
      " 0.         0.01115967 0.19355994 0.49991504 0.02880396 0.01115967\n",
      " 0.01822177 0.26248816 0.48384021 0.         0.         0.\n",
      " 0.08098004]\n",
      "Standard deviation for feature 8 is 0.0, smaller than 0.001. You may want to exclude this feature.\n",
      "Standard deviation for feature 9 is 0.0, smaller than 0.001. You may want to exclude this feature.\n",
      "Standard deviation for feature 10 is 0.0, smaller than 0.001. You may want to exclude this feature.\n",
      "Standard deviation for feature 11 is 0.0, smaller than 0.001. You may want to exclude this feature.\n",
      "Standard deviation for feature 12 is 0.0, smaller than 0.001. You may want to exclude this feature.\n",
      "Standard deviation for feature 14 is 0.0, smaller than 0.001. You may want to exclude this feature.\n",
      "Standard deviation for feature 16 is 0.0, smaller than 0.001. You may want to exclude this feature.\n",
      "Standard deviation for feature 18 is 0.0, smaller than 0.001. You may want to exclude this feature.\n",
      "Standard deviation for feature 27 is 0.0, smaller than 0.001. You may want to exclude this feature.\n",
      "Standard deviation for feature 28 is 0.0, smaller than 0.001. You may want to exclude this feature.\n",
      "Standard deviation for feature 29 is 0.0, smaller than 0.001. You may want to exclude this feature.\n",
      "mean [0.00000000e+00 6.22515922e-02 1.00560264e-03 1.30249485e-02\n",
      " 3.28975722e-02 1.58023273e-02 1.75061781e+00]\n",
      "std [0.         0.24161194 0.03169529 0.11338121 0.1783685  0.12471012\n",
      " 0.87139677]\n",
      "Standard deviation for feature 0 is 0.0, smaller than 0.001. You may want to exclude this feature.\n",
      "mean [ 35.42058824  30.71029412 263.59112787]\n",
      "std [ 21.71871353  21.41583828 146.45707492]\n",
      "... > Scaling features complete\n",
      "... > feature mean(s): \n",
      " {'atom': tensor([1.6520e+00, 3.9695e-01, 5.3558e-02, 8.7188e-04, 1.1210e-02, 2.7859e-02,\n",
      "        1.3618e-02, 8.3036e-04, 0.0000e+00, 0.0000e+00, 0.0000e+00, 0.0000e+00,\n",
      "        0.0000e+00, 4.1518e-05, 0.0000e+00, 8.4697e-03, 0.0000e+00, 4.5255e-03,\n",
      "        0.0000e+00, 1.2455e-04, 3.8985e-02, 4.9078e-01, 8.3036e-04, 1.2455e-04,\n",
      "        3.3214e-04, 7.4442e-02, 3.7391e-01, 0.0000e+00, 0.0000e+00, 0.0000e+00,\n",
      "        6.6013e-03]), 'bond': tensor([0.0000e+00, 6.2252e-02, 1.0056e-03, 1.3025e-02, 3.2898e-02, 1.5802e-02,\n",
      "        1.7506e+00]), 'global': tensor([ 35.4206,  30.7103, 263.5911])}\n",
      "... > feature std(s):  \n",
      " {'atom': tensor([1.6769e+00, 6.9827e-01, 2.2514e-01, 2.9515e-02, 1.0528e-01, 1.6457e-01,\n",
      "        1.1590e-01, 2.8804e-02, 1.0000e-03, 1.0000e-03, 1.0000e-03, 1.0000e-03,\n",
      "        1.0000e-03, 6.4433e-03, 1.0000e-03, 9.1640e-02, 1.0000e-03, 6.7119e-02,\n",
      "        1.0000e-03, 1.1160e-02, 1.9356e-01, 4.9992e-01, 2.8804e-02, 1.1160e-02,\n",
      "        1.8222e-02, 2.6249e-01, 4.8384e-01, 1.0000e-03, 1.0000e-03, 1.0000e-03,\n",
      "        8.0980e-02]), 'bond': tensor([0.0010, 0.2416, 0.0317, 0.1134, 0.1784, 0.1247, 0.8714]), 'global': tensor([ 21.7187,  21.4158, 146.4571])}\n",
      "... > loaded dataset\n",
      "... > creating MoleculeWrapper objects\n"
     ]
    },
    {
     "name": "stderr",
     "output_type": "stream",
     "text": [
      "\n",
      "\u001b[A\n",
      "\u001b[A\n",
      "\u001b[A\n",
      "100%|██████████| 744/744 [00:00<00:00, 2068.27it/s]\n"
     ]
    },
    {
     "name": "stdout",
     "output_type": "stream",
     "text": [
      "... > bond_feats_error_count:  0\n",
      "... > atom_feats_error_count:  0\n",
      "element set {'Br', 'Ca', 'Na', 'Al', 'V', 'Ti', 'B', 'Cr', 'Cl', 'Cu', 'F', 'Fe', 'As', 'N', 'H', 'P', 'Se', 'Si', 'O', 'C', 'Ni', 'Zn', 'Ge', 'S'}\n",
      "selected atomic keys ['extra_feat_atom_Hamiltonian_K', 'extra_feat_atom_e_density', 'extra_feat_atom_lap_e_density', 'extra_feat_atom_esp_total', 'extra_feat_atom_det_hessian', 'extra_feat_atom_eta', 'extra_feat_atom_energy_density']\n",
      "selected bond keys ['extra_feat_bond_Lagrangian_K', 'bond_length', 'extra_feat_bond_Hamiltonian_K', 'extra_feat_bond_e_density', 'extra_feat_bond_lap_e_density', 'extra_feat_bond_e_loc_func', 'extra_feat_bond_esp_e', 'extra_feat_bond_esp_total', 'extra_feat_bond_grad_norm', 'extra_feat_bond_lap_norm', 'extra_feat_bond_ellip_e_dens', 'extra_feat_bond_eta']\n",
      "selected global keys ['NR-PPAR-gamma']\n",
      "... > Building graphs and featurizing\n"
     ]
    },
    {
     "name": "stderr",
     "output_type": "stream",
     "text": [
      "\n",
      "\u001b[A\n",
      "\u001b[A\n",
      "\u001b[A\n",
      "\u001b[A\n",
      "\u001b[A\n",
      "\u001b[A\n",
      "\u001b[A\n",
      "\u001b[A\n",
      "\u001b[A\n",
      "\u001b[A\n",
      "\u001b[A\n",
      "\u001b[A\n",
      "\u001b[A\n",
      "\u001b[A\n",
      "\u001b[A\n",
      "\u001b[A\n",
      "\u001b[A\n",
      "\u001b[A\n",
      "\u001b[A\n",
      "\u001b[A\n",
      "\u001b[A\n",
      "\u001b[A\n",
      "100%|██████████| 744/744 [00:02<00:00, 313.93it/s]\n"
     ]
    },
    {
     "name": "stdout",
     "output_type": "stream",
     "text": [
      "included in labels\n",
      "{'global': ['NR-PPAR-gamma']}\n",
      "included in graph features\n",
      "{'atom': ['total_degree', 'total_H', 'is_in_ring', 'ring_size_3', 'ring_size_4', 'ring_size_5', 'ring_size_6', 'chemical_symbol_Br', 'chemical_symbol_Ca', 'chemical_symbol_Na', 'chemical_symbol_Al', 'chemical_symbol_V', 'chemical_symbol_Ti', 'chemical_symbol_B', 'chemical_symbol_Cr', 'chemical_symbol_Cl', 'chemical_symbol_Cu', 'chemical_symbol_F', 'chemical_symbol_Fe', 'chemical_symbol_As', 'chemical_symbol_N', 'chemical_symbol_H', 'chemical_symbol_P', 'chemical_symbol_Se', 'chemical_symbol_Si', 'chemical_symbol_O', 'chemical_symbol_C', 'chemical_symbol_Ni', 'chemical_symbol_Zn', 'chemical_symbol_Ge', 'chemical_symbol_S', 'extra_feat_atom_Hamiltonian_K', 'extra_feat_atom_e_density', 'extra_feat_atom_lap_e_density', 'extra_feat_atom_esp_total', 'extra_feat_atom_det_hessian', 'extra_feat_atom_eta', 'extra_feat_atom_energy_density'], 'bond': ['metal bond', 'ring inclusion', 'ring size_3', 'ring size_4', 'ring size_5', 'ring size_6', 'bond_length', 'extra_feat_bond_Lagrangian_K', 'extra_feat_bond_Hamiltonian_K', 'extra_feat_bond_e_density', 'extra_feat_bond_lap_e_density', 'extra_feat_bond_e_loc_func', 'extra_feat_bond_esp_e', 'extra_feat_bond_esp_total', 'extra_feat_bond_grad_norm', 'extra_feat_bond_lap_norm', 'extra_feat_bond_ellip_e_dens', 'extra_feat_bond_eta'], 'global': ['num atoms', 'num bonds', 'molecule weight']}\n",
      "original loader node types: dict_keys(['atom', 'bond', 'global'])\n",
      "original loader label types: dict_keys([])\n",
      "include names:  dict_keys(['global'])\n",
      "... > parsing labels and features in graphs\n"
     ]
    },
    {
     "name": "stderr",
     "output_type": "stream",
     "text": [
      "\n",
      "744it [00:00, 32394.84it/s]\n"
     ]
    },
    {
     "name": "stdout",
     "output_type": "stream",
     "text": [
      "... > number of categories for each label: \n",
      "...... > label  NR-PPAR-gamma :  2 with distribution:  [605, 15]\n",
      "original loader node types: dict_keys(['atom', 'bond', 'global'])\n",
      "original loader label types: dict_keys(['global'])\n",
      "number of graphs filtered:  124\n",
      "... > Scaling features\n",
      "mean [ 1.63701068e+00  3.91553974e-01  5.57532622e-02  8.54092527e-04\n",
      "  1.12930012e-02  2.97508897e-02  1.38552788e-02  9.01542112e-04\n",
      "  0.00000000e+00  0.00000000e+00  0.00000000e+00  0.00000000e+00\n",
      "  0.00000000e+00  4.74495848e-05  0.00000000e+00  8.25622776e-03\n",
      "  0.00000000e+00  4.46026097e-03  0.00000000e+00  1.42348754e-04\n",
      "  3.90510083e-02  4.91814947e-01  1.09134045e-03  9.48991696e-05\n",
      "  3.79596679e-04  7.63463820e-02  3.70676157e-01  0.00000000e+00\n",
      "  0.00000000e+00  0.00000000e+00  6.73784104e-03  1.24689782e+06\n",
      " -1.24689782e+06 -4.98322905e+06  5.39119377e+08 -1.86401673e+24\n",
      " -1.08702145e+00 -1.24689782e+06]\n",
      "std [1.67081048e+00 6.92577033e-01 2.29444625e-01 2.92123784e-02\n",
      " 1.05666784e-01 1.69899306e-01 1.16890162e-01 3.00121531e-02\n",
      " 0.00000000e+00 0.00000000e+00 0.00000000e+00 0.00000000e+00\n",
      " 0.00000000e+00 6.88820248e-03 0.00000000e+00 9.04879133e-02\n",
      " 0.00000000e+00 6.66360792e-02 0.00000000e+00 1.19301505e-02\n",
      " 1.93716357e-01 4.99933000e-01 3.30174110e-02 9.74115824e-03\n",
      " 1.94795427e-02 2.65551524e-01 4.82985863e-01 0.00000000e+00\n",
      " 0.00000000e+00 0.00000000e+00 8.18073502e-02 2.97532688e+07\n",
      " 2.97532688e+07 1.18904010e+08 7.79152769e+10 5.67014901e+25\n",
      " 1.10303447e-01 2.97532688e+07]\n",
      "Standard deviation for feature 8 is 0.0, smaller than 0.001. You may want to exclude this feature.\n",
      "Standard deviation for feature 9 is 0.0, smaller than 0.001. You may want to exclude this feature.\n",
      "Standard deviation for feature 10 is 0.0, smaller than 0.001. You may want to exclude this feature.\n",
      "Standard deviation for feature 11 is 0.0, smaller than 0.001. You may want to exclude this feature.\n",
      "Standard deviation for feature 12 is 0.0, smaller than 0.001. You may want to exclude this feature.\n",
      "Standard deviation for feature 14 is 0.0, smaller than 0.001. You may want to exclude this feature.\n",
      "Standard deviation for feature 16 is 0.0, smaller than 0.001. You may want to exclude this feature.\n",
      "Standard deviation for feature 18 is 0.0, smaller than 0.001. You may want to exclude this feature.\n",
      "Standard deviation for feature 27 is 0.0, smaller than 0.001. You may want to exclude this feature.\n",
      "Standard deviation for feature 28 is 0.0, smaller than 0.001. You may want to exclude this feature.\n",
      "Standard deviation for feature 29 is 0.0, smaller than 0.001. You may want to exclude this feature.\n",
      "mean [ 0.00000000e+00  6.52941826e-02  9.93487140e-04  1.32464952e-02\n",
      "  3.51584060e-02  1.62269566e-02  1.74209310e+00  1.22284618e-01\n",
      "  2.94398867e-01 -2.94398867e-01 -6.88456996e-01  8.02678085e-01\n",
      " -2.86122252e+01  9.71538635e-01  6.77420633e-16 -6.88456996e-01\n",
      "  1.61503589e-01  1.44960590e+00]\n",
      "std [0.00000000e+00 2.47044231e-01 3.15039700e-02 1.14328586e-01\n",
      " 1.84180055e-01 1.26347309e-01 8.70136900e-01 1.67476029e-01\n",
      " 1.52672331e-01 1.52672331e-01 5.20824141e-01 2.97195360e-01\n",
      " 8.86844136e+00 5.35838754e-01 5.14759246e-15 5.20824141e-01\n",
      " 6.03998016e-01 6.12063433e-01]\n",
      "Standard deviation for feature 0 is 0.0, smaller than 0.001. You may want to exclude this feature.\n",
      "Standard deviation for feature 14 is 5.147592460501322e-15, smaller than 0.001. You may want to exclude this feature.\n",
      "mean [ 33.99193548  29.22258065 253.07244498]\n",
      "std [ 20.24722043  19.96986778 139.28039038]\n",
      "... > Scaling features complete\n",
      "... > feature mean(s): \n",
      " {'atom': tensor([ 1.6370e+00,  3.9155e-01,  5.5753e-02,  8.5409e-04,  1.1293e-02,\n",
      "         2.9751e-02,  1.3855e-02,  9.0154e-04,  0.0000e+00,  0.0000e+00,\n",
      "         0.0000e+00,  0.0000e+00,  0.0000e+00,  4.7450e-05,  0.0000e+00,\n",
      "         8.2562e-03,  0.0000e+00,  4.4603e-03,  0.0000e+00,  1.4235e-04,\n",
      "         3.9051e-02,  4.9181e-01,  1.0913e-03,  9.4899e-05,  3.7960e-04,\n",
      "         7.6346e-02,  3.7068e-01,  0.0000e+00,  0.0000e+00,  0.0000e+00,\n",
      "         6.7378e-03,  1.2469e+06, -1.2469e+06, -4.9832e+06,  5.3912e+08,\n",
      "        -1.8640e+24, -1.0870e+00, -1.2469e+06]), 'bond': tensor([ 0.0000e+00,  6.5294e-02,  9.9349e-04,  1.3246e-02,  3.5158e-02,\n",
      "         1.6227e-02,  1.7421e+00,  1.2228e-01,  2.9440e-01, -2.9440e-01,\n",
      "        -6.8846e-01,  8.0268e-01, -2.8612e+01,  9.7154e-01,  6.7742e-16,\n",
      "        -6.8846e-01,  1.6150e-01,  1.4496e+00]), 'global': tensor([ 33.9919,  29.2226, 253.0724])}\n",
      "... > feature std(s):  \n",
      " {'atom': tensor([1.6708e+00, 6.9258e-01, 2.2944e-01, 2.9212e-02, 1.0567e-01, 1.6990e-01,\n",
      "        1.1689e-01, 3.0012e-02, 1.0000e-03, 1.0000e-03, 1.0000e-03, 1.0000e-03,\n",
      "        1.0000e-03, 6.8882e-03, 1.0000e-03, 9.0488e-02, 1.0000e-03, 6.6636e-02,\n",
      "        1.0000e-03, 1.1930e-02, 1.9372e-01, 4.9993e-01, 3.3017e-02, 9.7412e-03,\n",
      "        1.9480e-02, 2.6555e-01, 4.8299e-01, 1.0000e-03, 1.0000e-03, 1.0000e-03,\n",
      "        8.1807e-02, 2.9753e+07, 2.9753e+07, 1.1890e+08, 7.7915e+10, 5.6701e+25,\n",
      "        1.1030e-01, 2.9753e+07]), 'bond': tensor([1.0000e-03, 2.4704e-01, 3.1504e-02, 1.1433e-01, 1.8418e-01, 1.2635e-01,\n",
      "        8.7014e-01, 1.6748e-01, 1.5267e-01, 1.5267e-01, 5.2082e-01, 2.9720e-01,\n",
      "        8.8684e+00, 5.3584e-01, 1.0000e-03, 5.2082e-01, 6.0400e-01, 6.1206e-01]), 'global': tensor([ 20.2472,  19.9699, 139.2804])}\n",
      "... > loaded dataset\n",
      "... > creating MoleculeWrapper objects\n"
     ]
    },
    {
     "name": "stderr",
     "output_type": "stream",
     "text": [
      "\n",
      "\u001b[A\n",
      "100%|██████████| 744/744 [00:00<00:00, 6477.60it/s]\n"
     ]
    },
    {
     "name": "stdout",
     "output_type": "stream",
     "text": [
      "... > bond_feats_error_count:  0\n",
      "... > atom_feats_error_count:  0\n",
      "element set {'Br', 'Ca', 'Na', 'Al', 'V', 'Ti', 'B', 'Cr', 'Cl', 'Cu', 'F', 'Fe', 'As', 'N', 'H', 'P', 'Se', 'Si', 'O', 'C', 'Ni', 'Zn', 'Ge', 'S'}\n",
      "selected atomic keys []\n",
      "selected bond keys ['bond_length']\n",
      "selected global keys ['NR-PPAR-gamma']\n",
      "... > Building graphs and featurizing\n"
     ]
    },
    {
     "name": "stderr",
     "output_type": "stream",
     "text": [
      "\n",
      "\u001b[A\n",
      "\u001b[A\n",
      "\u001b[A\n",
      "\u001b[A\n",
      "\u001b[A\n",
      "\u001b[A\n",
      "\u001b[A\n",
      "\u001b[A\n",
      "\u001b[A\n",
      "\u001b[A\n",
      "\u001b[A\n",
      "\u001b[A\n",
      "\u001b[A\n",
      "\u001b[A\n",
      "\u001b[A\n",
      "\u001b[A\n",
      "\u001b[A\n",
      "\u001b[A\n",
      "\u001b[A\n",
      "\u001b[A\n",
      "\u001b[A\n",
      "100%|██████████| 744/744 [00:02<00:00, 322.14it/s]\n"
     ]
    },
    {
     "name": "stdout",
     "output_type": "stream",
     "text": [
      "included in labels\n",
      "{'global': ['NR-PPAR-gamma']}\n",
      "included in graph features\n",
      "{'atom': ['total_degree', 'total_H', 'is_in_ring', 'ring_size_3', 'ring_size_4', 'ring_size_5', 'ring_size_6', 'chemical_symbol_Br', 'chemical_symbol_Ca', 'chemical_symbol_Na', 'chemical_symbol_Al', 'chemical_symbol_V', 'chemical_symbol_Ti', 'chemical_symbol_B', 'chemical_symbol_Cr', 'chemical_symbol_Cl', 'chemical_symbol_Cu', 'chemical_symbol_F', 'chemical_symbol_Fe', 'chemical_symbol_As', 'chemical_symbol_N', 'chemical_symbol_H', 'chemical_symbol_P', 'chemical_symbol_Se', 'chemical_symbol_Si', 'chemical_symbol_O', 'chemical_symbol_C', 'chemical_symbol_Ni', 'chemical_symbol_Zn', 'chemical_symbol_Ge', 'chemical_symbol_S'], 'bond': ['metal bond', 'ring inclusion', 'ring size_3', 'ring size_4', 'ring size_5', 'ring size_6', 'bond_length'], 'global': ['num atoms', 'num bonds', 'molecule weight']}\n",
      "original loader node types: dict_keys(['atom', 'bond', 'global'])\n",
      "original loader label types: dict_keys([])\n",
      "include names:  dict_keys(['global'])\n",
      "... > parsing labels and features in graphs\n"
     ]
    },
    {
     "name": "stderr",
     "output_type": "stream",
     "text": [
      "\n",
      "744it [00:00, 31863.61it/s]\n"
     ]
    },
    {
     "name": "stdout",
     "output_type": "stream",
     "text": [
      "... > number of categories for each label: \n",
      "...... > label  NR-PPAR-gamma :  2 with distribution:  [605, 15]\n",
      "original loader node types: dict_keys(['atom', 'bond', 'global'])\n",
      "original loader label types: dict_keys(['global'])\n",
      "number of graphs filtered:  124\n",
      "... > Scaling features\n",
      "mean [1.63701068e+00 3.91553974e-01 5.57532622e-02 8.54092527e-04\n",
      " 1.12930012e-02 2.97508897e-02 1.38552788e-02 9.01542112e-04\n",
      " 0.00000000e+00 0.00000000e+00 0.00000000e+00 0.00000000e+00\n",
      " 0.00000000e+00 4.74495848e-05 0.00000000e+00 8.25622776e-03\n",
      " 0.00000000e+00 4.46026097e-03 0.00000000e+00 1.42348754e-04\n",
      " 3.90510083e-02 4.91814947e-01 1.09134045e-03 9.48991696e-05\n",
      " 3.79596679e-04 7.63463820e-02 3.70676157e-01 0.00000000e+00\n",
      " 0.00000000e+00 0.00000000e+00 6.73784104e-03]\n",
      "std [1.67081048 0.69257703 0.22944462 0.02921238 0.10566678 0.16989931\n",
      " 0.11689016 0.03001215 0.         0.         0.         0.\n",
      " 0.         0.0068882  0.         0.09048791 0.         0.06663608\n",
      " 0.         0.01193015 0.19371636 0.499933   0.03301741 0.00974116\n",
      " 0.01947954 0.26555152 0.48298586 0.         0.         0.\n",
      " 0.08180735]\n",
      "Standard deviation for feature 8 is 0.0, smaller than 0.001. You may want to exclude this feature.\n",
      "Standard deviation for feature 9 is 0.0, smaller than 0.001. You may want to exclude this feature.\n",
      "Standard deviation for feature 10 is 0.0, smaller than 0.001. You may want to exclude this feature.\n",
      "Standard deviation for feature 11 is 0.0, smaller than 0.001. You may want to exclude this feature.\n",
      "Standard deviation for feature 12 is 0.0, smaller than 0.001. You may want to exclude this feature.\n",
      "Standard deviation for feature 14 is 0.0, smaller than 0.001. You may want to exclude this feature.\n",
      "Standard deviation for feature 16 is 0.0, smaller than 0.001. You may want to exclude this feature.\n",
      "Standard deviation for feature 18 is 0.0, smaller than 0.001. You may want to exclude this feature.\n",
      "Standard deviation for feature 27 is 0.0, smaller than 0.001. You may want to exclude this feature.\n",
      "Standard deviation for feature 28 is 0.0, smaller than 0.001. You may want to exclude this feature.\n",
      "Standard deviation for feature 29 is 0.0, smaller than 0.001. You may want to exclude this feature.\n",
      "mean [0.00000000e+00 6.52941826e-02 9.93487140e-04 1.32464952e-02\n",
      " 3.51584060e-02 1.62269566e-02 1.74209310e+00]\n",
      "std [0.         0.24704423 0.03150397 0.11432859 0.18418005 0.12634731\n",
      " 0.8701369 ]\n",
      "Standard deviation for feature 0 is 0.0, smaller than 0.001. You may want to exclude this feature.\n",
      "mean [ 33.99193548  29.22258065 253.07244498]\n",
      "std [ 20.24722043  19.96986778 139.28039038]\n",
      "... > Scaling features complete\n",
      "... > feature mean(s): \n",
      " {'atom': tensor([1.6370e+00, 3.9155e-01, 5.5753e-02, 8.5409e-04, 1.1293e-02, 2.9751e-02,\n",
      "        1.3855e-02, 9.0154e-04, 0.0000e+00, 0.0000e+00, 0.0000e+00, 0.0000e+00,\n",
      "        0.0000e+00, 4.7450e-05, 0.0000e+00, 8.2562e-03, 0.0000e+00, 4.4603e-03,\n",
      "        0.0000e+00, 1.4235e-04, 3.9051e-02, 4.9181e-01, 1.0913e-03, 9.4899e-05,\n",
      "        3.7960e-04, 7.6346e-02, 3.7068e-01, 0.0000e+00, 0.0000e+00, 0.0000e+00,\n",
      "        6.7378e-03]), 'bond': tensor([0.0000e+00, 6.5294e-02, 9.9349e-04, 1.3246e-02, 3.5158e-02, 1.6227e-02,\n",
      "        1.7421e+00]), 'global': tensor([ 33.9919,  29.2226, 253.0724])}\n",
      "... > feature std(s):  \n",
      " {'atom': tensor([1.6708e+00, 6.9258e-01, 2.2944e-01, 2.9212e-02, 1.0567e-01, 1.6990e-01,\n",
      "        1.1689e-01, 3.0012e-02, 1.0000e-03, 1.0000e-03, 1.0000e-03, 1.0000e-03,\n",
      "        1.0000e-03, 6.8882e-03, 1.0000e-03, 9.0488e-02, 1.0000e-03, 6.6636e-02,\n",
      "        1.0000e-03, 1.1930e-02, 1.9372e-01, 4.9993e-01, 3.3017e-02, 9.7412e-03,\n",
      "        1.9480e-02, 2.6555e-01, 4.8299e-01, 1.0000e-03, 1.0000e-03, 1.0000e-03,\n",
      "        8.1807e-02]), 'bond': tensor([0.0010, 0.2470, 0.0315, 0.1143, 0.1842, 0.1263, 0.8701]), 'global': tensor([ 20.2472,  19.9699, 139.2804])}\n",
      "... > loaded dataset\n",
      "... > creating MoleculeWrapper objects\n"
     ]
    },
    {
     "name": "stderr",
     "output_type": "stream",
     "text": [
      "\n",
      "\u001b[A\n",
      "\u001b[A\n",
      "\u001b[A\n",
      "100%|██████████| 744/744 [00:00<00:00, 2062.43it/s]\n"
     ]
    },
    {
     "name": "stdout",
     "output_type": "stream",
     "text": [
      "... > bond_feats_error_count:  0\n",
      "... > atom_feats_error_count:  0\n",
      "element set {'Br', 'Ca', 'Na', 'Al', 'V', 'Ti', 'B', 'Cr', 'Cl', 'Cu', 'F', 'Fe', 'As', 'N', 'H', 'P', 'Se', 'Si', 'O', 'C', 'Ni', 'Zn', 'Ge', 'S'}\n",
      "selected atomic keys ['extra_feat_atom_Hamiltonian_K', 'extra_feat_atom_e_density', 'extra_feat_atom_lap_e_density', 'extra_feat_atom_esp_total', 'extra_feat_atom_det_hessian', 'extra_feat_atom_eta', 'extra_feat_atom_energy_density']\n",
      "selected bond keys ['extra_feat_bond_Lagrangian_K', 'bond_length', 'extra_feat_bond_Hamiltonian_K', 'extra_feat_bond_e_density', 'extra_feat_bond_lap_e_density', 'extra_feat_bond_e_loc_func', 'extra_feat_bond_esp_e', 'extra_feat_bond_esp_total', 'extra_feat_bond_grad_norm', 'extra_feat_bond_lap_norm', 'extra_feat_bond_ellip_e_dens', 'extra_feat_bond_eta']\n",
      "selected global keys ['SR-ARE']\n",
      "... > Building graphs and featurizing\n"
     ]
    },
    {
     "name": "stderr",
     "output_type": "stream",
     "text": [
      "\n",
      "\u001b[A\n",
      "\u001b[A\n",
      "\u001b[A\n",
      "\u001b[A\n",
      "\u001b[A\n",
      "\u001b[A\n",
      "\u001b[A\n",
      "\u001b[A\n",
      "\u001b[A\n",
      "\u001b[A\n",
      "\u001b[A\n",
      "\u001b[A\n",
      "\u001b[A\n",
      "\u001b[A\n",
      "\u001b[A\n",
      "\u001b[A\n",
      "\u001b[A\n",
      "\u001b[A\n",
      "\u001b[A\n",
      "\u001b[A\n",
      "\u001b[A\n",
      "\u001b[A\n",
      "100%|██████████| 744/744 [00:02<00:00, 310.20it/s]\n"
     ]
    },
    {
     "name": "stdout",
     "output_type": "stream",
     "text": [
      "included in labels\n",
      "{'global': ['SR-ARE']}\n",
      "included in graph features\n",
      "{'atom': ['total_degree', 'total_H', 'is_in_ring', 'ring_size_3', 'ring_size_4', 'ring_size_5', 'ring_size_6', 'chemical_symbol_Br', 'chemical_symbol_Ca', 'chemical_symbol_Na', 'chemical_symbol_Al', 'chemical_symbol_V', 'chemical_symbol_Ti', 'chemical_symbol_B', 'chemical_symbol_Cr', 'chemical_symbol_Cl', 'chemical_symbol_Cu', 'chemical_symbol_F', 'chemical_symbol_Fe', 'chemical_symbol_As', 'chemical_symbol_N', 'chemical_symbol_H', 'chemical_symbol_P', 'chemical_symbol_Se', 'chemical_symbol_Si', 'chemical_symbol_O', 'chemical_symbol_C', 'chemical_symbol_Ni', 'chemical_symbol_Zn', 'chemical_symbol_Ge', 'chemical_symbol_S', 'extra_feat_atom_Hamiltonian_K', 'extra_feat_atom_e_density', 'extra_feat_atom_lap_e_density', 'extra_feat_atom_esp_total', 'extra_feat_atom_det_hessian', 'extra_feat_atom_eta', 'extra_feat_atom_energy_density'], 'bond': ['metal bond', 'ring inclusion', 'ring size_3', 'ring size_4', 'ring size_5', 'ring size_6', 'bond_length', 'extra_feat_bond_Lagrangian_K', 'extra_feat_bond_Hamiltonian_K', 'extra_feat_bond_e_density', 'extra_feat_bond_lap_e_density', 'extra_feat_bond_e_loc_func', 'extra_feat_bond_esp_e', 'extra_feat_bond_esp_total', 'extra_feat_bond_grad_norm', 'extra_feat_bond_lap_norm', 'extra_feat_bond_ellip_e_dens', 'extra_feat_bond_eta'], 'global': ['num atoms', 'num bonds', 'molecule weight']}\n",
      "original loader node types: dict_keys(['atom', 'bond', 'global'])\n",
      "original loader label types: dict_keys([])\n",
      "include names:  dict_keys(['global'])\n",
      "... > parsing labels and features in graphs\n"
     ]
    },
    {
     "name": "stderr",
     "output_type": "stream",
     "text": [
      "\n",
      "744it [00:00, 30591.35it/s]\n"
     ]
    },
    {
     "name": "stdout",
     "output_type": "stream",
     "text": [
      "... > number of categories for each label: \n",
      "...... > label  SR-ARE :  2 with distribution:  [454, 83]\n",
      "original loader node types: dict_keys(['atom', 'bond', 'global'])\n",
      "original loader label types: dict_keys(['global'])\n",
      "number of graphs filtered:  207\n",
      "... > Scaling features\n",
      "mean [ 1.62192982e+00  3.80818713e-01  5.57894737e-02  1.05263158e-03\n",
      "  1.16959064e-02  2.88304094e-02  1.42105263e-02  9.35672515e-04\n",
      "  0.00000000e+00  0.00000000e+00  5.84795322e-05  0.00000000e+00\n",
      "  0.00000000e+00  5.84795322e-05  0.00000000e+00  1.05263158e-02\n",
      "  0.00000000e+00  4.32748538e-03  0.00000000e+00  1.16959064e-04\n",
      "  3.97076023e-02  4.88654971e-01  9.94152047e-04  1.75438596e-04\n",
      "  4.09356725e-04  7.58479532e-02  3.71520468e-01  0.00000000e+00\n",
      "  0.00000000e+00  0.00000000e+00  6.66666667e-03  1.35519275e+06\n",
      " -1.35519275e+06 -5.41601424e+06  6.63887763e+08 -2.00194796e+24\n",
      " -1.08638986e+00 -1.35519275e+06]\n",
      "std [1.65339941e+00 6.82106667e-01 2.29514724e-01 3.24272038e-02\n",
      " 1.07513312e-01 1.67329665e-01 1.18357878e-01 3.05744506e-02\n",
      " 0.00000000e+00 0.00000000e+00 7.64696752e-03 0.00000000e+00\n",
      " 0.00000000e+00 7.64696752e-03 0.00000000e+00 1.02056418e-01\n",
      " 0.00000000e+00 6.56411323e-02 0.00000000e+00 1.08141289e-02\n",
      " 1.95271372e-01 4.99871274e-01 3.15145000e-02 1.32441616e-02\n",
      " 2.02284244e-02 2.64754681e-01 4.83211144e-01 0.00000000e+00\n",
      " 0.00000000e+00 0.00000000e+00 8.13770374e-02 3.08687280e+07\n",
      " 3.08687280e+07 1.23361785e+08 8.64979779e+10 5.85243336e+25\n",
      " 1.09615218e-01 3.08687280e+07]\n",
      "Standard deviation for feature 8 is 0.0, smaller than 0.001. You may want to exclude this feature.\n",
      "Standard deviation for feature 9 is 0.0, smaller than 0.001. You may want to exclude this feature.\n",
      "Standard deviation for feature 11 is 0.0, smaller than 0.001. You may want to exclude this feature.\n",
      "Standard deviation for feature 12 is 0.0, smaller than 0.001. You may want to exclude this feature.\n",
      "Standard deviation for feature 14 is 0.0, smaller than 0.001. You may want to exclude this feature.\n",
      "Standard deviation for feature 16 is 0.0, smaller than 0.001. You may want to exclude this feature.\n",
      "Standard deviation for feature 18 is 0.0, smaller than 0.001. You may want to exclude this feature.\n",
      "Standard deviation for feature 27 is 0.0, smaller than 0.001. You may want to exclude this feature.\n",
      "Standard deviation for feature 28 is 0.0, smaller than 0.001. You may want to exclude this feature.\n",
      "Standard deviation for feature 29 is 0.0, smaller than 0.001. You may want to exclude this feature.\n",
      "mean [ 0.00000000e+00  6.58888126e-02  1.23541524e-03  1.37268360e-02\n",
      "  3.43170899e-02  1.68840082e-02  1.73216321e+00  1.23624920e-01\n",
      "  2.96592384e-01 -2.96592384e-01 -6.91869855e-01  8.03892331e-01\n",
      " -2.77859289e+01  9.78711025e-01  6.99896175e-16 -6.91869855e-01\n",
      "  1.58091275e-01  1.45765396e+00]\n",
      "std [0.00000000e+00 2.48087640e-01 3.51267560e-02 1.16354673e-01\n",
      " 1.82042378e-01 1.28836868e-01 8.67951633e-01 1.67379489e-01\n",
      " 1.52163726e-01 1.52163726e-01 5.17112921e-01 2.94193888e-01\n",
      " 8.39096993e+00 5.32881533e-01 5.17316479e-15 5.17112921e-01\n",
      " 5.69671218e-01 6.13962343e-01]\n",
      "Standard deviation for feature 0 is 0.0, smaller than 0.001. You may want to exclude this feature.\n",
      "Standard deviation for feature 14 is 5.173164792756241e-15, smaller than 0.001. You may want to exclude this feature.\n",
      "mean [ 31.84357542  27.13221601 239.96156228]\n",
      "std [ 18.12808044  17.98673278 127.31165332]\n",
      "... > Scaling features complete\n",
      "... > feature mean(s): \n",
      " {'atom': tensor([ 1.6219e+00,  3.8082e-01,  5.5789e-02,  1.0526e-03,  1.1696e-02,\n",
      "         2.8830e-02,  1.4211e-02,  9.3567e-04,  0.0000e+00,  0.0000e+00,\n",
      "         5.8480e-05,  0.0000e+00,  0.0000e+00,  5.8480e-05,  0.0000e+00,\n",
      "         1.0526e-02,  0.0000e+00,  4.3275e-03,  0.0000e+00,  1.1696e-04,\n",
      "         3.9708e-02,  4.8865e-01,  9.9415e-04,  1.7544e-04,  4.0936e-04,\n",
      "         7.5848e-02,  3.7152e-01,  0.0000e+00,  0.0000e+00,  0.0000e+00,\n",
      "         6.6667e-03,  1.3552e+06, -1.3552e+06, -5.4160e+06,  6.6389e+08,\n",
      "        -2.0019e+24, -1.0864e+00, -1.3552e+06]), 'bond': tensor([ 0.0000e+00,  6.5889e-02,  1.2354e-03,  1.3727e-02,  3.4317e-02,\n",
      "         1.6884e-02,  1.7322e+00,  1.2362e-01,  2.9659e-01, -2.9659e-01,\n",
      "        -6.9187e-01,  8.0389e-01, -2.7786e+01,  9.7871e-01,  6.9990e-16,\n",
      "        -6.9187e-01,  1.5809e-01,  1.4577e+00]), 'global': tensor([ 31.8436,  27.1322, 239.9616])}\n",
      "... > feature std(s):  \n",
      " {'atom': tensor([1.6534e+00, 6.8211e-01, 2.2951e-01, 3.2427e-02, 1.0751e-01, 1.6733e-01,\n",
      "        1.1836e-01, 3.0574e-02, 1.0000e-03, 1.0000e-03, 7.6470e-03, 1.0000e-03,\n",
      "        1.0000e-03, 7.6470e-03, 1.0000e-03, 1.0206e-01, 1.0000e-03, 6.5641e-02,\n",
      "        1.0000e-03, 1.0814e-02, 1.9527e-01, 4.9987e-01, 3.1514e-02, 1.3244e-02,\n",
      "        2.0228e-02, 2.6475e-01, 4.8321e-01, 1.0000e-03, 1.0000e-03, 1.0000e-03,\n",
      "        8.1377e-02, 3.0869e+07, 3.0869e+07, 1.2336e+08, 8.6498e+10, 5.8524e+25,\n",
      "        1.0962e-01, 3.0869e+07]), 'bond': tensor([1.0000e-03, 2.4809e-01, 3.5127e-02, 1.1635e-01, 1.8204e-01, 1.2884e-01,\n",
      "        8.6795e-01, 1.6738e-01, 1.5216e-01, 1.5216e-01, 5.1711e-01, 2.9419e-01,\n",
      "        8.3910e+00, 5.3288e-01, 1.0000e-03, 5.1711e-01, 5.6967e-01, 6.1396e-01]), 'global': tensor([ 18.1281,  17.9867, 127.3117])}\n",
      "... > loaded dataset\n",
      "... > creating MoleculeWrapper objects\n"
     ]
    },
    {
     "name": "stderr",
     "output_type": "stream",
     "text": [
      "\n",
      "\u001b[A\n",
      "100%|██████████| 744/744 [00:00<00:00, 6101.70it/s]\n"
     ]
    },
    {
     "name": "stdout",
     "output_type": "stream",
     "text": [
      "... > bond_feats_error_count:  0\n",
      "... > atom_feats_error_count:  0\n",
      "element set {'Br', 'Ca', 'Na', 'Al', 'V', 'Ti', 'B', 'Cr', 'Cl', 'Cu', 'F', 'Fe', 'As', 'N', 'H', 'P', 'Se', 'Si', 'O', 'C', 'Ni', 'Zn', 'Ge', 'S'}\n",
      "selected atomic keys []\n",
      "selected bond keys ['bond_length']\n",
      "selected global keys ['SR-ARE']\n",
      "... > Building graphs and featurizing\n"
     ]
    },
    {
     "name": "stderr",
     "output_type": "stream",
     "text": [
      "\n",
      "\u001b[A\n",
      "\u001b[A\n",
      "\u001b[A\n",
      "\u001b[A\n",
      "\u001b[A\n",
      "\u001b[A\n",
      "\u001b[A\n",
      "\u001b[A\n",
      "\u001b[A\n",
      "\u001b[A\n",
      "\u001b[A\n",
      "\u001b[A\n",
      "\u001b[A\n",
      "\u001b[A\n",
      "\u001b[A\n",
      "\u001b[A\n",
      "\u001b[A\n",
      "\u001b[A\n",
      "\u001b[A\n",
      "\u001b[A\n",
      "\u001b[A\n",
      "100%|██████████| 744/744 [00:02<00:00, 319.45it/s]\n"
     ]
    },
    {
     "name": "stdout",
     "output_type": "stream",
     "text": [
      "included in labels\n",
      "{'global': ['SR-ARE']}\n",
      "included in graph features\n",
      "{'atom': ['total_degree', 'total_H', 'is_in_ring', 'ring_size_3', 'ring_size_4', 'ring_size_5', 'ring_size_6', 'chemical_symbol_Br', 'chemical_symbol_Ca', 'chemical_symbol_Na', 'chemical_symbol_Al', 'chemical_symbol_V', 'chemical_symbol_Ti', 'chemical_symbol_B', 'chemical_symbol_Cr', 'chemical_symbol_Cl', 'chemical_symbol_Cu', 'chemical_symbol_F', 'chemical_symbol_Fe', 'chemical_symbol_As', 'chemical_symbol_N', 'chemical_symbol_H', 'chemical_symbol_P', 'chemical_symbol_Se', 'chemical_symbol_Si', 'chemical_symbol_O', 'chemical_symbol_C', 'chemical_symbol_Ni', 'chemical_symbol_Zn', 'chemical_symbol_Ge', 'chemical_symbol_S'], 'bond': ['metal bond', 'ring inclusion', 'ring size_3', 'ring size_4', 'ring size_5', 'ring size_6', 'bond_length'], 'global': ['num atoms', 'num bonds', 'molecule weight']}\n",
      "original loader node types: dict_keys(['atom', 'bond', 'global'])\n",
      "original loader label types: dict_keys([])\n",
      "include names:  dict_keys(['global'])\n",
      "... > parsing labels and features in graphs\n"
     ]
    },
    {
     "name": "stderr",
     "output_type": "stream",
     "text": [
      "\n",
      "744it [00:00, 31348.89it/s]\n"
     ]
    },
    {
     "name": "stdout",
     "output_type": "stream",
     "text": [
      "... > number of categories for each label: \n",
      "...... > label  SR-ARE :  2 with distribution:  [454, 83]\n",
      "original loader node types: dict_keys(['atom', 'bond', 'global'])\n",
      "original loader label types: dict_keys(['global'])\n",
      "number of graphs filtered:  207\n",
      "... > Scaling features\n",
      "mean [1.62192982e+00 3.80818713e-01 5.57894737e-02 1.05263158e-03\n",
      " 1.16959064e-02 2.88304094e-02 1.42105263e-02 9.35672515e-04\n",
      " 0.00000000e+00 0.00000000e+00 5.84795322e-05 0.00000000e+00\n",
      " 0.00000000e+00 5.84795322e-05 0.00000000e+00 1.05263158e-02\n",
      " 0.00000000e+00 4.32748538e-03 0.00000000e+00 1.16959064e-04\n",
      " 3.97076023e-02 4.88654971e-01 9.94152047e-04 1.75438596e-04\n",
      " 4.09356725e-04 7.58479532e-02 3.71520468e-01 0.00000000e+00\n",
      " 0.00000000e+00 0.00000000e+00 6.66666667e-03]\n",
      "std [1.65339941 0.68210667 0.22951472 0.0324272  0.10751331 0.16732967\n",
      " 0.11835788 0.03057445 0.         0.         0.00764697 0.\n",
      " 0.         0.00764697 0.         0.10205642 0.         0.06564113\n",
      " 0.         0.01081413 0.19527137 0.49987127 0.0315145  0.01324416\n",
      " 0.02022842 0.26475468 0.48321114 0.         0.         0.\n",
      " 0.08137704]\n",
      "Standard deviation for feature 8 is 0.0, smaller than 0.001. You may want to exclude this feature.\n",
      "Standard deviation for feature 9 is 0.0, smaller than 0.001. You may want to exclude this feature.\n",
      "Standard deviation for feature 11 is 0.0, smaller than 0.001. You may want to exclude this feature.\n",
      "Standard deviation for feature 12 is 0.0, smaller than 0.001. You may want to exclude this feature.\n",
      "Standard deviation for feature 14 is 0.0, smaller than 0.001. You may want to exclude this feature.\n",
      "Standard deviation for feature 16 is 0.0, smaller than 0.001. You may want to exclude this feature.\n",
      "Standard deviation for feature 18 is 0.0, smaller than 0.001. You may want to exclude this feature.\n",
      "Standard deviation for feature 27 is 0.0, smaller than 0.001. You may want to exclude this feature.\n",
      "Standard deviation for feature 28 is 0.0, smaller than 0.001. You may want to exclude this feature.\n",
      "Standard deviation for feature 29 is 0.0, smaller than 0.001. You may want to exclude this feature.\n",
      "mean [0.00000000e+00 6.58888126e-02 1.23541524e-03 1.37268360e-02\n",
      " 3.43170899e-02 1.68840082e-02 1.73216321e+00]\n",
      "std [0.         0.24808764 0.03512676 0.11635467 0.18204238 0.12883687\n",
      " 0.86795163]\n",
      "Standard deviation for feature 0 is 0.0, smaller than 0.001. You may want to exclude this feature.\n",
      "mean [ 31.84357542  27.13221601 239.96156228]\n",
      "std [ 18.12808044  17.98673278 127.31165332]\n",
      "... > Scaling features complete\n",
      "... > feature mean(s): \n",
      " {'atom': tensor([1.6219e+00, 3.8082e-01, 5.5789e-02, 1.0526e-03, 1.1696e-02, 2.8830e-02,\n",
      "        1.4211e-02, 9.3567e-04, 0.0000e+00, 0.0000e+00, 5.8480e-05, 0.0000e+00,\n",
      "        0.0000e+00, 5.8480e-05, 0.0000e+00, 1.0526e-02, 0.0000e+00, 4.3275e-03,\n",
      "        0.0000e+00, 1.1696e-04, 3.9708e-02, 4.8865e-01, 9.9415e-04, 1.7544e-04,\n",
      "        4.0936e-04, 7.5848e-02, 3.7152e-01, 0.0000e+00, 0.0000e+00, 0.0000e+00,\n",
      "        6.6667e-03]), 'bond': tensor([0.0000e+00, 6.5889e-02, 1.2354e-03, 1.3727e-02, 3.4317e-02, 1.6884e-02,\n",
      "        1.7322e+00]), 'global': tensor([ 31.8436,  27.1322, 239.9616])}\n",
      "... > feature std(s):  \n",
      " {'atom': tensor([1.6534e+00, 6.8211e-01, 2.2951e-01, 3.2427e-02, 1.0751e-01, 1.6733e-01,\n",
      "        1.1836e-01, 3.0574e-02, 1.0000e-03, 1.0000e-03, 7.6470e-03, 1.0000e-03,\n",
      "        1.0000e-03, 7.6470e-03, 1.0000e-03, 1.0206e-01, 1.0000e-03, 6.5641e-02,\n",
      "        1.0000e-03, 1.0814e-02, 1.9527e-01, 4.9987e-01, 3.1514e-02, 1.3244e-02,\n",
      "        2.0228e-02, 2.6475e-01, 4.8321e-01, 1.0000e-03, 1.0000e-03, 1.0000e-03,\n",
      "        8.1377e-02]), 'bond': tensor([0.0010, 0.2481, 0.0351, 0.1164, 0.1820, 0.1288, 0.8680]), 'global': tensor([ 18.1281,  17.9867, 127.3117])}\n",
      "... > loaded dataset\n",
      "... > creating MoleculeWrapper objects\n"
     ]
    },
    {
     "name": "stderr",
     "output_type": "stream",
     "text": [
      "\n",
      "\u001b[A\n",
      "\u001b[A\n",
      "\u001b[A\n",
      "100%|██████████| 744/744 [00:00<00:00, 2036.84it/s]\n"
     ]
    },
    {
     "name": "stdout",
     "output_type": "stream",
     "text": [
      "... > bond_feats_error_count:  0\n",
      "... > atom_feats_error_count:  0\n",
      "element set {'Br', 'Ca', 'Na', 'Al', 'V', 'Ti', 'B', 'Cr', 'Cl', 'Cu', 'F', 'Fe', 'As', 'N', 'H', 'P', 'Se', 'Si', 'O', 'C', 'Ni', 'Zn', 'Ge', 'S'}\n",
      "selected atomic keys ['extra_feat_atom_Hamiltonian_K', 'extra_feat_atom_e_density', 'extra_feat_atom_lap_e_density', 'extra_feat_atom_esp_total', 'extra_feat_atom_det_hessian', 'extra_feat_atom_eta', 'extra_feat_atom_energy_density']\n",
      "selected bond keys ['extra_feat_bond_Lagrangian_K', 'bond_length', 'extra_feat_bond_Hamiltonian_K', 'extra_feat_bond_e_density', 'extra_feat_bond_lap_e_density', 'extra_feat_bond_e_loc_func', 'extra_feat_bond_esp_e', 'extra_feat_bond_esp_total', 'extra_feat_bond_grad_norm', 'extra_feat_bond_lap_norm', 'extra_feat_bond_ellip_e_dens', 'extra_feat_bond_eta']\n",
      "selected global keys ['SR-ATAD5']\n",
      "... > Building graphs and featurizing\n"
     ]
    },
    {
     "name": "stderr",
     "output_type": "stream",
     "text": [
      "\n",
      "\u001b[A\n",
      "\u001b[A\n",
      "\u001b[A\n",
      "\u001b[A\n",
      "\u001b[A\n",
      "\u001b[A\n",
      "\u001b[A\n",
      "\u001b[A\n",
      "\u001b[A\n",
      "\u001b[A\n",
      "\u001b[A\n",
      "\u001b[A\n",
      "\u001b[A\n",
      "\u001b[A\n",
      "\u001b[A\n",
      "\u001b[A\n",
      "\u001b[A\n",
      "\u001b[A\n",
      "\u001b[A\n",
      "\u001b[A\n",
      "\u001b[A\n",
      "\u001b[A\n",
      "100%|██████████| 744/744 [00:02<00:00, 310.24it/s]\n"
     ]
    },
    {
     "name": "stdout",
     "output_type": "stream",
     "text": [
      "included in labels\n",
      "{'global': ['SR-ATAD5']}\n",
      "included in graph features\n",
      "{'atom': ['total_degree', 'total_H', 'is_in_ring', 'ring_size_3', 'ring_size_4', 'ring_size_5', 'ring_size_6', 'chemical_symbol_Br', 'chemical_symbol_Ca', 'chemical_symbol_Na', 'chemical_symbol_Al', 'chemical_symbol_V', 'chemical_symbol_Ti', 'chemical_symbol_B', 'chemical_symbol_Cr', 'chemical_symbol_Cl', 'chemical_symbol_Cu', 'chemical_symbol_F', 'chemical_symbol_Fe', 'chemical_symbol_As', 'chemical_symbol_N', 'chemical_symbol_H', 'chemical_symbol_P', 'chemical_symbol_Se', 'chemical_symbol_Si', 'chemical_symbol_O', 'chemical_symbol_C', 'chemical_symbol_Ni', 'chemical_symbol_Zn', 'chemical_symbol_Ge', 'chemical_symbol_S', 'extra_feat_atom_Hamiltonian_K', 'extra_feat_atom_e_density', 'extra_feat_atom_lap_e_density', 'extra_feat_atom_esp_total', 'extra_feat_atom_det_hessian', 'extra_feat_atom_eta', 'extra_feat_atom_energy_density'], 'bond': ['metal bond', 'ring inclusion', 'ring size_3', 'ring size_4', 'ring size_5', 'ring size_6', 'bond_length', 'extra_feat_bond_Lagrangian_K', 'extra_feat_bond_Hamiltonian_K', 'extra_feat_bond_e_density', 'extra_feat_bond_lap_e_density', 'extra_feat_bond_e_loc_func', 'extra_feat_bond_esp_e', 'extra_feat_bond_esp_total', 'extra_feat_bond_grad_norm', 'extra_feat_bond_lap_norm', 'extra_feat_bond_ellip_e_dens', 'extra_feat_bond_eta'], 'global': ['num atoms', 'num bonds', 'molecule weight']}\n",
      "original loader node types: dict_keys(['atom', 'bond', 'global'])\n",
      "original loader label types: dict_keys([])\n",
      "include names:  dict_keys(['global'])\n",
      "... > parsing labels and features in graphs\n"
     ]
    },
    {
     "name": "stderr",
     "output_type": "stream",
     "text": [
      "\n",
      "744it [00:00, 32605.71it/s]\n"
     ]
    },
    {
     "name": "stdout",
     "output_type": "stream",
     "text": [
      "... > number of categories for each label: \n",
      "...... > label  SR-ATAD5 :  2 with distribution:  [669, 15]\n",
      "original loader node types: dict_keys(['atom', 'bond', 'global'])\n",
      "original loader label types: dict_keys(['global'])\n",
      "number of graphs filtered:  60\n",
      "... > Scaling features\n",
      "mean [ 1.64973474e+00  3.96131835e-01  5.53072392e-02  1.00254814e-03\n",
      "  1.17799407e-02  2.80713480e-02  1.44534024e-02  7.93683947e-04\n",
      "  0.00000000e+00  0.00000000e+00  0.00000000e+00  0.00000000e+00\n",
      "  0.00000000e+00  4.17728393e-05  0.00000000e+00  8.85584193e-03\n",
      "  0.00000000e+00  4.51146664e-03  0.00000000e+00  1.25318518e-04\n",
      "  3.86398764e-02  4.90287815e-01  9.60775304e-04  4.17728393e-05\n",
      "  3.34182714e-04  7.53164293e-02  3.73240319e-01  0.00000000e+00\n",
      "  0.00000000e+00  0.00000000e+00  6.85074565e-03  1.10246306e+06\n",
      " -1.10246306e+06 -4.40601718e+06  2.29515691e+06 -1.59211374e+24\n",
      " -1.08693802e+00 -1.10246306e+06]\n",
      "std [1.67642303e+00 6.98278388e-01 2.28578977e-01 3.16471648e-02\n",
      " 1.07894271e-01 1.65176716e-01 1.19350331e-01 2.81612147e-02\n",
      " 0.00000000e+00 0.00000000e+00 0.00000000e+00 0.00000000e+00\n",
      " 0.00000000e+00 6.46305611e-03 0.00000000e+00 9.36878647e-02\n",
      " 0.00000000e+00 6.70157691e-02 0.00000000e+00 1.11938739e-02\n",
      " 1.92735145e-01 4.99905665e-01 3.09814818e-02 6.46305611e-03\n",
      " 1.82776102e-02 2.63901241e-01 4.83665156e-01 0.00000000e+00\n",
      " 0.00000000e+00 0.00000000e+00 8.24852286e-02 2.74546015e+07\n",
      " 2.74546015e+07 1.09717722e+08 2.65474641e+07 5.26657077e+25\n",
      " 1.10993743e-01 2.74546015e+07]\n",
      "Standard deviation for feature 8 is 0.0, smaller than 0.001. You may want to exclude this feature.\n",
      "Standard deviation for feature 9 is 0.0, smaller than 0.001. You may want to exclude this feature.\n",
      "Standard deviation for feature 10 is 0.0, smaller than 0.001. You may want to exclude this feature.\n",
      "Standard deviation for feature 11 is 0.0, smaller than 0.001. You may want to exclude this feature.\n",
      "Standard deviation for feature 12 is 0.0, smaller than 0.001. You may want to exclude this feature.\n",
      "Standard deviation for feature 14 is 0.0, smaller than 0.001. You may want to exclude this feature.\n",
      "Standard deviation for feature 16 is 0.0, smaller than 0.001. You may want to exclude this feature.\n",
      "Standard deviation for feature 18 is 0.0, smaller than 0.001. You may want to exclude this feature.\n",
      "Standard deviation for feature 27 is 0.0, smaller than 0.001. You may want to exclude this feature.\n",
      "Standard deviation for feature 28 is 0.0, smaller than 0.001. You may want to exclude this feature.\n",
      "Standard deviation for feature 29 is 0.0, smaller than 0.001. You may want to exclude this feature.\n",
      "mean [ 0.00000000e+00  6.43153527e-02  1.15796584e-03  1.37025958e-02\n",
      "  3.31467722e-02  1.67905047e-02  1.75194487e+00  1.20607622e-01\n",
      "  2.93043208e-01 -2.93043208e-01 -6.89742344e-01  8.02343556e-01\n",
      " -2.90839453e+01  9.65692703e-01  6.94720487e-16 -6.89742344e-01\n",
      "  1.64843572e-01  1.44856383e+00]\n",
      "std [0.00000000e+00 2.45313856e-01 3.40091893e-02 1.16253321e-01\n",
      " 1.79019730e-01 1.28485733e-01 8.73307556e-01 1.65142463e-01\n",
      " 1.52512681e-01 1.52512681e-01 5.17123590e-01 2.98566293e-01\n",
      " 9.06715130e+00 5.34462009e-01 5.36138562e-15 5.17123590e-01\n",
      " 6.38400270e-01 6.12135305e-01]\n",
      "Standard deviation for feature 0 is 0.0, smaller than 0.001. You may want to exclude this feature.\n",
      "Standard deviation for feature 14 is 5.361385621545211e-15, smaller than 0.001. You may want to exclude this feature.\n",
      "mean [ 34.99853801  30.30116959 261.03576734]\n",
      "std [ 21.06058507  20.8503425  143.56762834]\n",
      "... > Scaling features complete\n",
      "... > feature mean(s): \n",
      " {'atom': tensor([ 1.6497e+00,  3.9613e-01,  5.5307e-02,  1.0025e-03,  1.1780e-02,\n",
      "         2.8071e-02,  1.4453e-02,  7.9368e-04,  0.0000e+00,  0.0000e+00,\n",
      "         0.0000e+00,  0.0000e+00,  0.0000e+00,  4.1773e-05,  0.0000e+00,\n",
      "         8.8558e-03,  0.0000e+00,  4.5115e-03,  0.0000e+00,  1.2532e-04,\n",
      "         3.8640e-02,  4.9029e-01,  9.6078e-04,  4.1773e-05,  3.3418e-04,\n",
      "         7.5316e-02,  3.7324e-01,  0.0000e+00,  0.0000e+00,  0.0000e+00,\n",
      "         6.8507e-03,  1.1025e+06, -1.1025e+06, -4.4060e+06,  2.2952e+06,\n",
      "        -1.5921e+24, -1.0869e+00, -1.1025e+06]), 'bond': tensor([ 0.0000e+00,  6.4315e-02,  1.1580e-03,  1.3703e-02,  3.3147e-02,\n",
      "         1.6791e-02,  1.7519e+00,  1.2061e-01,  2.9304e-01, -2.9304e-01,\n",
      "        -6.8974e-01,  8.0234e-01, -2.9084e+01,  9.6569e-01,  6.9472e-16,\n",
      "        -6.8974e-01,  1.6484e-01,  1.4486e+00]), 'global': tensor([ 34.9985,  30.3012, 261.0358])}\n",
      "... > feature std(s):  \n",
      " {'atom': tensor([1.6764e+00, 6.9828e-01, 2.2858e-01, 3.1647e-02, 1.0789e-01, 1.6518e-01,\n",
      "        1.1935e-01, 2.8161e-02, 1.0000e-03, 1.0000e-03, 1.0000e-03, 1.0000e-03,\n",
      "        1.0000e-03, 6.4631e-03, 1.0000e-03, 9.3688e-02, 1.0000e-03, 6.7016e-02,\n",
      "        1.0000e-03, 1.1194e-02, 1.9274e-01, 4.9991e-01, 3.0981e-02, 6.4631e-03,\n",
      "        1.8278e-02, 2.6390e-01, 4.8367e-01, 1.0000e-03, 1.0000e-03, 1.0000e-03,\n",
      "        8.2485e-02, 2.7455e+07, 2.7455e+07, 1.0972e+08, 2.6547e+07, 5.2666e+25,\n",
      "        1.1099e-01, 2.7455e+07]), 'bond': tensor([1.0000e-03, 2.4531e-01, 3.4009e-02, 1.1625e-01, 1.7902e-01, 1.2849e-01,\n",
      "        8.7331e-01, 1.6514e-01, 1.5251e-01, 1.5251e-01, 5.1712e-01, 2.9857e-01,\n",
      "        9.0672e+00, 5.3446e-01, 1.0000e-03, 5.1712e-01, 6.3840e-01, 6.1214e-01]), 'global': tensor([ 21.0606,  20.8503, 143.5676])}\n",
      "... > loaded dataset\n",
      "... > creating MoleculeWrapper objects\n"
     ]
    },
    {
     "name": "stderr",
     "output_type": "stream",
     "text": [
      "\n",
      "\u001b[A\n",
      "100%|██████████| 744/744 [00:00<00:00, 6388.30it/s]\n"
     ]
    },
    {
     "name": "stdout",
     "output_type": "stream",
     "text": [
      "... > bond_feats_error_count:  0\n",
      "... > atom_feats_error_count:  0\n",
      "element set {'Br', 'Ca', 'Na', 'Al', 'V', 'Ti', 'B', 'Cr', 'Cl', 'Cu', 'F', 'Fe', 'As', 'N', 'H', 'P', 'Se', 'Si', 'O', 'C', 'Ni', 'Zn', 'Ge', 'S'}\n",
      "selected atomic keys []\n",
      "selected bond keys ['bond_length']\n",
      "selected global keys ['SR-ATAD5']\n",
      "... > Building graphs and featurizing\n"
     ]
    },
    {
     "name": "stderr",
     "output_type": "stream",
     "text": [
      "\n",
      "\u001b[A\n",
      "\u001b[A\n",
      "\u001b[A\n",
      "\u001b[A\n",
      "\u001b[A\n",
      "\u001b[A\n",
      "\u001b[A\n",
      "\u001b[A\n",
      "\u001b[A\n",
      "\u001b[A\n",
      "\u001b[A\n",
      "\u001b[A\n",
      "\u001b[A\n",
      "\u001b[A\n",
      "\u001b[A\n",
      "\u001b[A\n",
      "\u001b[A\n",
      "\u001b[A\n",
      "\u001b[A\n",
      "\u001b[A\n",
      "\u001b[A\n",
      "100%|██████████| 744/744 [00:02<00:00, 320.82it/s]\n"
     ]
    },
    {
     "name": "stdout",
     "output_type": "stream",
     "text": [
      "included in labels\n",
      "{'global': ['SR-ATAD5']}\n",
      "included in graph features\n",
      "{'atom': ['total_degree', 'total_H', 'is_in_ring', 'ring_size_3', 'ring_size_4', 'ring_size_5', 'ring_size_6', 'chemical_symbol_Br', 'chemical_symbol_Ca', 'chemical_symbol_Na', 'chemical_symbol_Al', 'chemical_symbol_V', 'chemical_symbol_Ti', 'chemical_symbol_B', 'chemical_symbol_Cr', 'chemical_symbol_Cl', 'chemical_symbol_Cu', 'chemical_symbol_F', 'chemical_symbol_Fe', 'chemical_symbol_As', 'chemical_symbol_N', 'chemical_symbol_H', 'chemical_symbol_P', 'chemical_symbol_Se', 'chemical_symbol_Si', 'chemical_symbol_O', 'chemical_symbol_C', 'chemical_symbol_Ni', 'chemical_symbol_Zn', 'chemical_symbol_Ge', 'chemical_symbol_S'], 'bond': ['metal bond', 'ring inclusion', 'ring size_3', 'ring size_4', 'ring size_5', 'ring size_6', 'bond_length'], 'global': ['num atoms', 'num bonds', 'molecule weight']}\n",
      "original loader node types: dict_keys(['atom', 'bond', 'global'])\n",
      "original loader label types: dict_keys([])\n",
      "include names:  dict_keys(['global'])\n",
      "... > parsing labels and features in graphs\n"
     ]
    },
    {
     "name": "stderr",
     "output_type": "stream",
     "text": [
      "\n",
      "744it [00:00, 32939.21it/s]\n"
     ]
    },
    {
     "name": "stdout",
     "output_type": "stream",
     "text": [
      "... > number of categories for each label: \n",
      "...... > label  SR-ATAD5 :  2 with distribution:  [669, 15]\n",
      "original loader node types: dict_keys(['atom', 'bond', 'global'])\n",
      "original loader label types: dict_keys(['global'])\n",
      "number of graphs filtered:  60\n",
      "... > Scaling features\n",
      "mean [1.64973474e+00 3.96131835e-01 5.53072392e-02 1.00254814e-03\n",
      " 1.17799407e-02 2.80713480e-02 1.44534024e-02 7.93683947e-04\n",
      " 0.00000000e+00 0.00000000e+00 0.00000000e+00 0.00000000e+00\n",
      " 0.00000000e+00 4.17728393e-05 0.00000000e+00 8.85584193e-03\n",
      " 0.00000000e+00 4.51146664e-03 0.00000000e+00 1.25318518e-04\n",
      " 3.86398764e-02 4.90287815e-01 9.60775304e-04 4.17728393e-05\n",
      " 3.34182714e-04 7.53164293e-02 3.73240319e-01 0.00000000e+00\n",
      " 0.00000000e+00 0.00000000e+00 6.85074565e-03]\n",
      "std [1.67642303 0.69827839 0.22857898 0.03164716 0.10789427 0.16517672\n",
      " 0.11935033 0.02816121 0.         0.         0.         0.\n",
      " 0.         0.00646306 0.         0.09368786 0.         0.06701577\n",
      " 0.         0.01119387 0.19273515 0.49990566 0.03098148 0.00646306\n",
      " 0.01827761 0.26390124 0.48366516 0.         0.         0.\n",
      " 0.08248523]\n",
      "Standard deviation for feature 8 is 0.0, smaller than 0.001. You may want to exclude this feature.\n",
      "Standard deviation for feature 9 is 0.0, smaller than 0.001. You may want to exclude this feature.\n",
      "Standard deviation for feature 10 is 0.0, smaller than 0.001. You may want to exclude this feature.\n",
      "Standard deviation for feature 11 is 0.0, smaller than 0.001. You may want to exclude this feature.\n",
      "Standard deviation for feature 12 is 0.0, smaller than 0.001. You may want to exclude this feature.\n",
      "Standard deviation for feature 14 is 0.0, smaller than 0.001. You may want to exclude this feature.\n",
      "Standard deviation for feature 16 is 0.0, smaller than 0.001. You may want to exclude this feature.\n",
      "Standard deviation for feature 18 is 0.0, smaller than 0.001. You may want to exclude this feature.\n",
      "Standard deviation for feature 27 is 0.0, smaller than 0.001. You may want to exclude this feature.\n",
      "Standard deviation for feature 28 is 0.0, smaller than 0.001. You may want to exclude this feature.\n",
      "Standard deviation for feature 29 is 0.0, smaller than 0.001. You may want to exclude this feature.\n",
      "mean [0.00000000e+00 6.43153527e-02 1.15796584e-03 1.37025958e-02\n",
      " 3.31467722e-02 1.67905047e-02 1.75194487e+00]\n",
      "std [0.         0.24531386 0.03400919 0.11625332 0.17901973 0.12848573\n",
      " 0.87330756]\n",
      "Standard deviation for feature 0 is 0.0, smaller than 0.001. You may want to exclude this feature.\n",
      "mean [ 34.99853801  30.30116959 261.03576734]\n",
      "std [ 21.06058507  20.8503425  143.56762834]\n",
      "... > Scaling features complete\n",
      "... > feature mean(s): \n",
      " {'atom': tensor([1.6497e+00, 3.9613e-01, 5.5307e-02, 1.0025e-03, 1.1780e-02, 2.8071e-02,\n",
      "        1.4453e-02, 7.9368e-04, 0.0000e+00, 0.0000e+00, 0.0000e+00, 0.0000e+00,\n",
      "        0.0000e+00, 4.1773e-05, 0.0000e+00, 8.8558e-03, 0.0000e+00, 4.5115e-03,\n",
      "        0.0000e+00, 1.2532e-04, 3.8640e-02, 4.9029e-01, 9.6078e-04, 4.1773e-05,\n",
      "        3.3418e-04, 7.5316e-02, 3.7324e-01, 0.0000e+00, 0.0000e+00, 0.0000e+00,\n",
      "        6.8507e-03]), 'bond': tensor([0.0000e+00, 6.4315e-02, 1.1580e-03, 1.3703e-02, 3.3147e-02, 1.6791e-02,\n",
      "        1.7519e+00]), 'global': tensor([ 34.9985,  30.3012, 261.0358])}\n",
      "... > feature std(s):  \n",
      " {'atom': tensor([1.6764e+00, 6.9828e-01, 2.2858e-01, 3.1647e-02, 1.0789e-01, 1.6518e-01,\n",
      "        1.1935e-01, 2.8161e-02, 1.0000e-03, 1.0000e-03, 1.0000e-03, 1.0000e-03,\n",
      "        1.0000e-03, 6.4631e-03, 1.0000e-03, 9.3688e-02, 1.0000e-03, 6.7016e-02,\n",
      "        1.0000e-03, 1.1194e-02, 1.9274e-01, 4.9991e-01, 3.0981e-02, 6.4631e-03,\n",
      "        1.8278e-02, 2.6390e-01, 4.8367e-01, 1.0000e-03, 1.0000e-03, 1.0000e-03,\n",
      "        8.2485e-02]), 'bond': tensor([0.0010, 0.2453, 0.0340, 0.1163, 0.1790, 0.1285, 0.8733]), 'global': tensor([ 21.0606,  20.8503, 143.5676])}\n",
      "... > loaded dataset\n",
      "... > creating MoleculeWrapper objects\n"
     ]
    },
    {
     "name": "stderr",
     "output_type": "stream",
     "text": [
      "\n",
      "\u001b[A\n",
      "\u001b[A\n",
      "\u001b[A\n",
      "100%|██████████| 744/744 [00:00<00:00, 2062.38it/s]\n"
     ]
    },
    {
     "name": "stdout",
     "output_type": "stream",
     "text": [
      "... > bond_feats_error_count:  0\n",
      "... > atom_feats_error_count:  0\n",
      "element set {'Br', 'Ca', 'Na', 'Al', 'V', 'Ti', 'B', 'Cr', 'Cl', 'Cu', 'F', 'Fe', 'As', 'N', 'H', 'P', 'Se', 'Si', 'O', 'C', 'Ni', 'Zn', 'Ge', 'S'}\n",
      "selected atomic keys ['extra_feat_atom_Hamiltonian_K', 'extra_feat_atom_e_density', 'extra_feat_atom_lap_e_density', 'extra_feat_atom_esp_total', 'extra_feat_atom_det_hessian', 'extra_feat_atom_eta', 'extra_feat_atom_energy_density']\n",
      "selected bond keys ['extra_feat_bond_Lagrangian_K', 'bond_length', 'extra_feat_bond_Hamiltonian_K', 'extra_feat_bond_e_density', 'extra_feat_bond_lap_e_density', 'extra_feat_bond_e_loc_func', 'extra_feat_bond_esp_e', 'extra_feat_bond_esp_total', 'extra_feat_bond_grad_norm', 'extra_feat_bond_lap_norm', 'extra_feat_bond_ellip_e_dens', 'extra_feat_bond_eta']\n",
      "selected global keys ['SR-HSE']\n",
      "... > Building graphs and featurizing\n"
     ]
    },
    {
     "name": "stderr",
     "output_type": "stream",
     "text": [
      "\n",
      "\u001b[A\n",
      "\u001b[A\n",
      "\u001b[A\n",
      "\u001b[A\n",
      "\u001b[A\n",
      "\u001b[A\n",
      "\u001b[A\n",
      "\u001b[A\n",
      "\u001b[A\n",
      "\u001b[A\n",
      "\u001b[A\n",
      "\u001b[A\n",
      "\u001b[A\n",
      "\u001b[A\n",
      "\u001b[A\n",
      "\u001b[A\n",
      "\u001b[A\n",
      "\u001b[A\n",
      "\u001b[A\n",
      "\u001b[A\n",
      "\u001b[A\n",
      "\u001b[A\n",
      "100%|██████████| 744/744 [00:02<00:00, 312.52it/s]\n"
     ]
    },
    {
     "name": "stdout",
     "output_type": "stream",
     "text": [
      "included in labels\n",
      "{'global': ['SR-HSE']}\n",
      "included in graph features\n",
      "{'atom': ['total_degree', 'total_H', 'is_in_ring', 'ring_size_3', 'ring_size_4', 'ring_size_5', 'ring_size_6', 'chemical_symbol_Br', 'chemical_symbol_Ca', 'chemical_symbol_Na', 'chemical_symbol_Al', 'chemical_symbol_V', 'chemical_symbol_Ti', 'chemical_symbol_B', 'chemical_symbol_Cr', 'chemical_symbol_Cl', 'chemical_symbol_Cu', 'chemical_symbol_F', 'chemical_symbol_Fe', 'chemical_symbol_As', 'chemical_symbol_N', 'chemical_symbol_H', 'chemical_symbol_P', 'chemical_symbol_Se', 'chemical_symbol_Si', 'chemical_symbol_O', 'chemical_symbol_C', 'chemical_symbol_Ni', 'chemical_symbol_Zn', 'chemical_symbol_Ge', 'chemical_symbol_S', 'extra_feat_atom_Hamiltonian_K', 'extra_feat_atom_e_density', 'extra_feat_atom_lap_e_density', 'extra_feat_atom_esp_total', 'extra_feat_atom_det_hessian', 'extra_feat_atom_eta', 'extra_feat_atom_energy_density'], 'bond': ['metal bond', 'ring inclusion', 'ring size_3', 'ring size_4', 'ring size_5', 'ring size_6', 'bond_length', 'extra_feat_bond_Lagrangian_K', 'extra_feat_bond_Hamiltonian_K', 'extra_feat_bond_e_density', 'extra_feat_bond_lap_e_density', 'extra_feat_bond_e_loc_func', 'extra_feat_bond_esp_e', 'extra_feat_bond_esp_total', 'extra_feat_bond_grad_norm', 'extra_feat_bond_lap_norm', 'extra_feat_bond_ellip_e_dens', 'extra_feat_bond_eta'], 'global': ['num atoms', 'num bonds', 'molecule weight']}\n",
      "original loader node types: dict_keys(['atom', 'bond', 'global'])\n",
      "original loader label types: dict_keys([])\n",
      "include names:  dict_keys(['global'])\n",
      "... > parsing labels and features in graphs\n"
     ]
    },
    {
     "name": "stderr",
     "output_type": "stream",
     "text": [
      "\n",
      "744it [00:00, 31210.62it/s]\n"
     ]
    },
    {
     "name": "stdout",
     "output_type": "stream",
     "text": [
      "... > number of categories for each label: \n",
      "...... > label  SR-HSE :  2 with distribution:  [565, 31]\n",
      "original loader node types: dict_keys(['atom', 'bond', 'global'])\n",
      "original loader label types: dict_keys(['global'])\n",
      "number of graphs filtered:  148\n",
      "... > Scaling features\n",
      "mean [ 1.62790817e+00  3.80886639e-01  5.39960117e-02  1.07378432e-03\n",
      "  1.08401084e-02  2.93501048e-02  1.27320141e-02  9.20386562e-04\n",
      "  0.00000000e+00  0.00000000e+00  5.11325868e-05  0.00000000e+00\n",
      "  0.00000000e+00  5.11325868e-05  0.00000000e+00  1.06867106e-02\n",
      "  0.00000000e+00  4.65306540e-03  0.00000000e+00  1.53397760e-04\n",
      "  3.99856829e-02  4.87037889e-01  1.07378432e-03  1.53397760e-04\n",
      "  3.57928108e-04  7.33241295e-02  3.74699596e-01  0.00000000e+00\n",
      "  0.00000000e+00  0.00000000e+00  6.85176663e-03  1.35256767e+06\n",
      " -1.35256767e+06 -5.40552551e+06  5.80813548e+08 -1.97518176e+24\n",
      " -1.08551791e+00 -1.35256767e+06]\n",
      "std [1.65611459e+00 6.81525447e-01 2.26009828e-01 3.27510505e-02\n",
      " 1.03549990e-01 1.68785889e-01 1.12115610e-01 3.03239089e-02\n",
      " 0.00000000e+00 0.00000000e+00 7.15052252e-03 0.00000000e+00\n",
      " 0.00000000e+00 7.15052252e-03 0.00000000e+00 1.02822686e-01\n",
      " 0.00000000e+00 6.80544957e-02 0.00000000e+00 1.23844350e-02\n",
      " 1.95925568e-01 4.99831955e-01 3.27510505e-02 1.23844350e-02\n",
      " 1.89156019e-02 2.60667799e-01 4.84045255e-01 0.00000000e+00\n",
      " 0.00000000e+00 0.00000000e+00 8.24913324e-02 3.07094068e+07\n",
      " 3.07094068e+07 1.22725128e+08 8.08824855e+10 5.79991580e+25\n",
      " 1.08255119e-01 3.07094068e+07]\n",
      "Standard deviation for feature 8 is 0.0, smaller than 0.001. You may want to exclude this feature.\n",
      "Standard deviation for feature 9 is 0.0, smaller than 0.001. You may want to exclude this feature.\n",
      "Standard deviation for feature 11 is 0.0, smaller than 0.001. You may want to exclude this feature.\n",
      "Standard deviation for feature 12 is 0.0, smaller than 0.001. You may want to exclude this feature.\n",
      "Standard deviation for feature 14 is 0.0, smaller than 0.001. You may want to exclude this feature.\n",
      "Standard deviation for feature 16 is 0.0, smaller than 0.001. You may want to exclude this feature.\n",
      "Standard deviation for feature 18 is 0.0, smaller than 0.001. You may want to exclude this feature.\n",
      "Standard deviation for feature 27 is 0.0, smaller than 0.001. You may want to exclude this feature.\n",
      "Standard deviation for feature 28 is 0.0, smaller than 0.001. You may want to exclude this feature.\n",
      "Standard deviation for feature 29 is 0.0, smaller than 0.001. You may want to exclude this feature.\n",
      "mean [ 0.00000000e+00  6.35575486e-02  1.25560538e-03  1.26756353e-02\n",
      "  3.47982063e-02  1.50672646e-02  1.73372631e+00  1.22145165e-01\n",
      "  2.95679657e-01 -2.95679657e-01 -6.94137970e-01  8.07890502e-01\n",
      " -2.77980256e+01  9.73912624e-01  6.76394073e-16 -6.94137970e-01\n",
      "  1.60724125e-01  1.46501172e+00]\n",
      "std [0.00000000e+00 2.43963084e-01 3.54122696e-02 1.11870298e-01\n",
      " 1.83268358e-01 1.21820532e-01 8.64799027e-01 1.64913879e-01\n",
      " 1.50159597e-01 1.50159597e-01 5.10500134e-01 2.91325413e-01\n",
      " 7.67994638e+00 5.25247739e-01 4.96427688e-15 5.10500134e-01\n",
      " 5.98341190e-01 6.08373861e-01]\n",
      "Standard deviation for feature 0 is 0.0, smaller than 0.001. You may want to exclude this feature.\n",
      "Standard deviation for feature 14 is 4.964276876805186e-15, smaller than 0.001. You may want to exclude this feature.\n",
      "mean [ 32.81375839  28.06208054 247.87598824]\n",
      "std [ 17.68375848  17.13285547 123.08437362]\n",
      "... > Scaling features complete\n",
      "... > feature mean(s): \n",
      " {'atom': tensor([ 1.6279e+00,  3.8089e-01,  5.3996e-02,  1.0738e-03,  1.0840e-02,\n",
      "         2.9350e-02,  1.2732e-02,  9.2039e-04,  0.0000e+00,  0.0000e+00,\n",
      "         5.1133e-05,  0.0000e+00,  0.0000e+00,  5.1133e-05,  0.0000e+00,\n",
      "         1.0687e-02,  0.0000e+00,  4.6531e-03,  0.0000e+00,  1.5340e-04,\n",
      "         3.9986e-02,  4.8704e-01,  1.0738e-03,  1.5340e-04,  3.5793e-04,\n",
      "         7.3324e-02,  3.7470e-01,  0.0000e+00,  0.0000e+00,  0.0000e+00,\n",
      "         6.8518e-03,  1.3526e+06, -1.3526e+06, -5.4055e+06,  5.8081e+08,\n",
      "        -1.9752e+24, -1.0855e+00, -1.3526e+06]), 'bond': tensor([ 0.0000e+00,  6.3558e-02,  1.2556e-03,  1.2676e-02,  3.4798e-02,\n",
      "         1.5067e-02,  1.7337e+00,  1.2215e-01,  2.9568e-01, -2.9568e-01,\n",
      "        -6.9414e-01,  8.0789e-01, -2.7798e+01,  9.7391e-01,  6.7639e-16,\n",
      "        -6.9414e-01,  1.6072e-01,  1.4650e+00]), 'global': tensor([ 32.8138,  28.0621, 247.8760])}\n",
      "... > feature std(s):  \n",
      " {'atom': tensor([1.6561e+00, 6.8153e-01, 2.2601e-01, 3.2751e-02, 1.0355e-01, 1.6879e-01,\n",
      "        1.1212e-01, 3.0324e-02, 1.0000e-03, 1.0000e-03, 7.1505e-03, 1.0000e-03,\n",
      "        1.0000e-03, 7.1505e-03, 1.0000e-03, 1.0282e-01, 1.0000e-03, 6.8054e-02,\n",
      "        1.0000e-03, 1.2384e-02, 1.9593e-01, 4.9983e-01, 3.2751e-02, 1.2384e-02,\n",
      "        1.8916e-02, 2.6067e-01, 4.8405e-01, 1.0000e-03, 1.0000e-03, 1.0000e-03,\n",
      "        8.2491e-02, 3.0709e+07, 3.0709e+07, 1.2273e+08, 8.0882e+10, 5.7999e+25,\n",
      "        1.0826e-01, 3.0709e+07]), 'bond': tensor([1.0000e-03, 2.4396e-01, 3.5412e-02, 1.1187e-01, 1.8327e-01, 1.2182e-01,\n",
      "        8.6480e-01, 1.6491e-01, 1.5016e-01, 1.5016e-01, 5.1050e-01, 2.9133e-01,\n",
      "        7.6799e+00, 5.2525e-01, 1.0000e-03, 5.1050e-01, 5.9834e-01, 6.0837e-01]), 'global': tensor([ 17.6838,  17.1329, 123.0844])}\n",
      "... > loaded dataset\n",
      "... > creating MoleculeWrapper objects\n"
     ]
    },
    {
     "name": "stderr",
     "output_type": "stream",
     "text": [
      "\n",
      "\u001b[A\n",
      "100%|██████████| 744/744 [00:00<00:00, 6237.29it/s]\n"
     ]
    },
    {
     "name": "stdout",
     "output_type": "stream",
     "text": [
      "... > bond_feats_error_count:  0\n",
      "... > atom_feats_error_count:  0\n",
      "element set {'Br', 'Ca', 'Na', 'Al', 'V', 'Ti', 'B', 'Cr', 'Cl', 'Cu', 'F', 'Fe', 'As', 'N', 'H', 'P', 'Se', 'Si', 'O', 'C', 'Ni', 'Zn', 'Ge', 'S'}\n",
      "selected atomic keys []\n",
      "selected bond keys ['bond_length']\n",
      "selected global keys ['SR-HSE']\n",
      "... > Building graphs and featurizing\n"
     ]
    },
    {
     "name": "stderr",
     "output_type": "stream",
     "text": [
      "\n",
      "\u001b[A\n",
      "\u001b[A\n",
      "\u001b[A\n",
      "\u001b[A\n",
      "\u001b[A\n",
      "\u001b[A\n",
      "\u001b[A\n",
      "\u001b[A\n",
      "\u001b[A\n",
      "\u001b[A\n",
      "\u001b[A\n",
      "\u001b[A\n",
      "\u001b[A\n",
      "\u001b[A\n",
      "\u001b[A\n",
      "\u001b[A\n",
      "\u001b[A\n",
      "\u001b[A\n",
      "\u001b[A\n",
      "\u001b[A\n",
      "\u001b[A\n",
      "100%|██████████| 744/744 [00:02<00:00, 317.62it/s]\n"
     ]
    },
    {
     "name": "stdout",
     "output_type": "stream",
     "text": [
      "included in labels\n",
      "{'global': ['SR-HSE']}\n",
      "included in graph features\n",
      "{'atom': ['total_degree', 'total_H', 'is_in_ring', 'ring_size_3', 'ring_size_4', 'ring_size_5', 'ring_size_6', 'chemical_symbol_Br', 'chemical_symbol_Ca', 'chemical_symbol_Na', 'chemical_symbol_Al', 'chemical_symbol_V', 'chemical_symbol_Ti', 'chemical_symbol_B', 'chemical_symbol_Cr', 'chemical_symbol_Cl', 'chemical_symbol_Cu', 'chemical_symbol_F', 'chemical_symbol_Fe', 'chemical_symbol_As', 'chemical_symbol_N', 'chemical_symbol_H', 'chemical_symbol_P', 'chemical_symbol_Se', 'chemical_symbol_Si', 'chemical_symbol_O', 'chemical_symbol_C', 'chemical_symbol_Ni', 'chemical_symbol_Zn', 'chemical_symbol_Ge', 'chemical_symbol_S'], 'bond': ['metal bond', 'ring inclusion', 'ring size_3', 'ring size_4', 'ring size_5', 'ring size_6', 'bond_length'], 'global': ['num atoms', 'num bonds', 'molecule weight']}\n",
      "original loader node types: dict_keys(['atom', 'bond', 'global'])\n",
      "original loader label types: dict_keys([])\n",
      "include names:  dict_keys(['global'])\n",
      "... > parsing labels and features in graphs\n"
     ]
    },
    {
     "name": "stderr",
     "output_type": "stream",
     "text": [
      "\n",
      "744it [00:00, 30295.54it/s]\n"
     ]
    },
    {
     "name": "stdout",
     "output_type": "stream",
     "text": [
      "... > number of categories for each label: \n",
      "...... > label  SR-HSE :  2 with distribution:  [565, 31]\n",
      "original loader node types: dict_keys(['atom', 'bond', 'global'])\n",
      "original loader label types: dict_keys(['global'])\n",
      "number of graphs filtered:  148\n",
      "... > Scaling features\n",
      "mean [1.62790817e+00 3.80886639e-01 5.39960117e-02 1.07378432e-03\n",
      " 1.08401084e-02 2.93501048e-02 1.27320141e-02 9.20386562e-04\n",
      " 0.00000000e+00 0.00000000e+00 5.11325868e-05 0.00000000e+00\n",
      " 0.00000000e+00 5.11325868e-05 0.00000000e+00 1.06867106e-02\n",
      " 0.00000000e+00 4.65306540e-03 0.00000000e+00 1.53397760e-04\n",
      " 3.99856829e-02 4.87037889e-01 1.07378432e-03 1.53397760e-04\n",
      " 3.57928108e-04 7.33241295e-02 3.74699596e-01 0.00000000e+00\n",
      " 0.00000000e+00 0.00000000e+00 6.85176663e-03]\n",
      "std [1.65611459 0.68152545 0.22600983 0.03275105 0.10354999 0.16878589\n",
      " 0.11211561 0.03032391 0.         0.         0.00715052 0.\n",
      " 0.         0.00715052 0.         0.10282269 0.         0.0680545\n",
      " 0.         0.01238443 0.19592557 0.49983196 0.03275105 0.01238443\n",
      " 0.0189156  0.2606678  0.48404525 0.         0.         0.\n",
      " 0.08249133]\n",
      "Standard deviation for feature 8 is 0.0, smaller than 0.001. You may want to exclude this feature.\n",
      "Standard deviation for feature 9 is 0.0, smaller than 0.001. You may want to exclude this feature.\n",
      "Standard deviation for feature 11 is 0.0, smaller than 0.001. You may want to exclude this feature.\n",
      "Standard deviation for feature 12 is 0.0, smaller than 0.001. You may want to exclude this feature.\n",
      "Standard deviation for feature 14 is 0.0, smaller than 0.001. You may want to exclude this feature.\n",
      "Standard deviation for feature 16 is 0.0, smaller than 0.001. You may want to exclude this feature.\n",
      "Standard deviation for feature 18 is 0.0, smaller than 0.001. You may want to exclude this feature.\n",
      "Standard deviation for feature 27 is 0.0, smaller than 0.001. You may want to exclude this feature.\n",
      "Standard deviation for feature 28 is 0.0, smaller than 0.001. You may want to exclude this feature.\n",
      "Standard deviation for feature 29 is 0.0, smaller than 0.001. You may want to exclude this feature.\n",
      "mean [0.00000000e+00 6.35575486e-02 1.25560538e-03 1.26756353e-02\n",
      " 3.47982063e-02 1.50672646e-02 1.73372631e+00]\n",
      "std [0.         0.24396308 0.03541227 0.1118703  0.18326836 0.12182053\n",
      " 0.86479903]\n",
      "Standard deviation for feature 0 is 0.0, smaller than 0.001. You may want to exclude this feature.\n",
      "mean [ 32.81375839  28.06208054 247.87598824]\n",
      "std [ 17.68375848  17.13285547 123.08437362]\n",
      "... > Scaling features complete\n",
      "... > feature mean(s): \n",
      " {'atom': tensor([1.6279e+00, 3.8089e-01, 5.3996e-02, 1.0738e-03, 1.0840e-02, 2.9350e-02,\n",
      "        1.2732e-02, 9.2039e-04, 0.0000e+00, 0.0000e+00, 5.1133e-05, 0.0000e+00,\n",
      "        0.0000e+00, 5.1133e-05, 0.0000e+00, 1.0687e-02, 0.0000e+00, 4.6531e-03,\n",
      "        0.0000e+00, 1.5340e-04, 3.9986e-02, 4.8704e-01, 1.0738e-03, 1.5340e-04,\n",
      "        3.5793e-04, 7.3324e-02, 3.7470e-01, 0.0000e+00, 0.0000e+00, 0.0000e+00,\n",
      "        6.8518e-03]), 'bond': tensor([0.0000e+00, 6.3558e-02, 1.2556e-03, 1.2676e-02, 3.4798e-02, 1.5067e-02,\n",
      "        1.7337e+00]), 'global': tensor([ 32.8138,  28.0621, 247.8760])}\n",
      "... > feature std(s):  \n",
      " {'atom': tensor([1.6561e+00, 6.8153e-01, 2.2601e-01, 3.2751e-02, 1.0355e-01, 1.6879e-01,\n",
      "        1.1212e-01, 3.0324e-02, 1.0000e-03, 1.0000e-03, 7.1505e-03, 1.0000e-03,\n",
      "        1.0000e-03, 7.1505e-03, 1.0000e-03, 1.0282e-01, 1.0000e-03, 6.8054e-02,\n",
      "        1.0000e-03, 1.2384e-02, 1.9593e-01, 4.9983e-01, 3.2751e-02, 1.2384e-02,\n",
      "        1.8916e-02, 2.6067e-01, 4.8405e-01, 1.0000e-03, 1.0000e-03, 1.0000e-03,\n",
      "        8.2491e-02]), 'bond': tensor([0.0010, 0.2440, 0.0354, 0.1119, 0.1833, 0.1218, 0.8648]), 'global': tensor([ 17.6838,  17.1329, 123.0844])}\n",
      "... > loaded dataset\n",
      "... > creating MoleculeWrapper objects\n"
     ]
    },
    {
     "name": "stderr",
     "output_type": "stream",
     "text": [
      "\n",
      "\u001b[A\n",
      "\u001b[A\n",
      "\u001b[A\n",
      "100%|██████████| 744/744 [00:00<00:00, 2025.63it/s]\n"
     ]
    },
    {
     "name": "stdout",
     "output_type": "stream",
     "text": [
      "... > bond_feats_error_count:  0\n",
      "... > atom_feats_error_count:  0\n",
      "element set {'Br', 'Ca', 'Na', 'Al', 'V', 'Ti', 'B', 'Cr', 'Cl', 'Cu', 'F', 'Fe', 'As', 'N', 'H', 'P', 'Se', 'Si', 'O', 'C', 'Ni', 'Zn', 'Ge', 'S'}\n",
      "selected atomic keys ['extra_feat_atom_Hamiltonian_K', 'extra_feat_atom_e_density', 'extra_feat_atom_lap_e_density', 'extra_feat_atom_esp_total', 'extra_feat_atom_det_hessian', 'extra_feat_atom_eta', 'extra_feat_atom_energy_density']\n",
      "selected bond keys ['extra_feat_bond_Lagrangian_K', 'bond_length', 'extra_feat_bond_Hamiltonian_K', 'extra_feat_bond_e_density', 'extra_feat_bond_lap_e_density', 'extra_feat_bond_e_loc_func', 'extra_feat_bond_esp_e', 'extra_feat_bond_esp_total', 'extra_feat_bond_grad_norm', 'extra_feat_bond_lap_norm', 'extra_feat_bond_ellip_e_dens', 'extra_feat_bond_eta']\n",
      "selected global keys ['SR-MMP']\n",
      "... > Building graphs and featurizing\n"
     ]
    },
    {
     "name": "stderr",
     "output_type": "stream",
     "text": [
      "\n",
      "\u001b[A\n",
      "\u001b[A\n",
      "\u001b[A\n",
      "\u001b[A\n",
      "\u001b[A\n",
      "\u001b[A\n",
      "\u001b[A\n",
      "\u001b[A\n",
      "\u001b[A\n",
      "\u001b[A\n",
      "\u001b[A\n",
      "\u001b[A\n",
      "\u001b[A\n",
      "\u001b[A\n",
      "\u001b[A\n",
      "\u001b[A\n",
      "\u001b[A\n",
      "\u001b[A\n",
      "\u001b[A\n",
      "\u001b[A\n",
      "\u001b[A\n",
      "\u001b[A\n",
      "\u001b[A\n",
      "100%|██████████| 744/744 [00:02<00:00, 302.89it/s]\n"
     ]
    },
    {
     "name": "stdout",
     "output_type": "stream",
     "text": [
      "included in labels\n",
      "{'global': ['SR-MMP']}\n",
      "included in graph features\n",
      "{'atom': ['total_degree', 'total_H', 'is_in_ring', 'ring_size_3', 'ring_size_4', 'ring_size_5', 'ring_size_6', 'chemical_symbol_Br', 'chemical_symbol_Ca', 'chemical_symbol_Na', 'chemical_symbol_Al', 'chemical_symbol_V', 'chemical_symbol_Ti', 'chemical_symbol_B', 'chemical_symbol_Cr', 'chemical_symbol_Cl', 'chemical_symbol_Cu', 'chemical_symbol_F', 'chemical_symbol_Fe', 'chemical_symbol_As', 'chemical_symbol_N', 'chemical_symbol_H', 'chemical_symbol_P', 'chemical_symbol_Se', 'chemical_symbol_Si', 'chemical_symbol_O', 'chemical_symbol_C', 'chemical_symbol_Ni', 'chemical_symbol_Zn', 'chemical_symbol_Ge', 'chemical_symbol_S', 'extra_feat_atom_Hamiltonian_K', 'extra_feat_atom_e_density', 'extra_feat_atom_lap_e_density', 'extra_feat_atom_esp_total', 'extra_feat_atom_det_hessian', 'extra_feat_atom_eta', 'extra_feat_atom_energy_density'], 'bond': ['metal bond', 'ring inclusion', 'ring size_3', 'ring size_4', 'ring size_5', 'ring size_6', 'bond_length', 'extra_feat_bond_Lagrangian_K', 'extra_feat_bond_Hamiltonian_K', 'extra_feat_bond_e_density', 'extra_feat_bond_lap_e_density', 'extra_feat_bond_e_loc_func', 'extra_feat_bond_esp_e', 'extra_feat_bond_esp_total', 'extra_feat_bond_grad_norm', 'extra_feat_bond_lap_norm', 'extra_feat_bond_ellip_e_dens', 'extra_feat_bond_eta'], 'global': ['num atoms', 'num bonds', 'molecule weight']}\n",
      "original loader node types: dict_keys(['atom', 'bond', 'global'])\n",
      "original loader label types: dict_keys([])\n",
      "include names:  dict_keys(['global'])\n",
      "... > parsing labels and features in graphs\n"
     ]
    },
    {
     "name": "stderr",
     "output_type": "stream",
     "text": [
      "\n",
      "744it [00:00, 30406.83it/s]\n"
     ]
    },
    {
     "name": "stdout",
     "output_type": "stream",
     "text": [
      "... > number of categories for each label: \n",
      "...... > label  SR-MMP :  2 with distribution:  [488, 90]\n",
      "original loader node types: dict_keys(['atom', 'bond', 'global'])\n",
      "original loader label types: dict_keys(['global'])\n",
      "number of graphs filtered:  166\n",
      "... > Scaling features\n",
      "mean [ 1.64173228e+00  3.96391907e-01  5.44702482e-02  8.97039769e-04\n",
      "  1.12628327e-02  2.71603708e-02  1.51500050e-02  8.97039769e-04\n",
      "  0.00000000e+00  0.00000000e+00  0.00000000e+00  0.00000000e+00\n",
      "  0.00000000e+00  4.98355427e-05  0.00000000e+00  8.62154889e-03\n",
      "  0.00000000e+00  4.58486993e-03  0.00000000e+00  1.49506628e-04\n",
      "  3.79746835e-02  4.93421708e-01  8.47204226e-04  1.49506628e-04\n",
      "  2.49177714e-04  7.70457490e-02  3.69530549e-01  0.00000000e+00\n",
      "  0.00000000e+00  0.00000000e+00  6.47862055e-03  1.29088861e+06\n",
      " -1.29088861e+06 -5.15903164e+06  5.66030968e+08 -1.92506953e+24\n",
      " -1.08778143e+00 -1.29088861e+06]\n",
      "std [1.67808758e+00 6.96744533e-01 2.26943253e-01 2.99371857e-02\n",
      " 1.05527159e-01 1.62550561e-01 1.22149426e-01 2.99371857e-02\n",
      " 0.00000000e+00 0.00000000e+00 0.00000000e+00 0.00000000e+00\n",
      " 0.00000000e+00 7.05925344e-03 0.00000000e+00 9.24511643e-02\n",
      " 0.00000000e+00 6.75562647e-02 0.00000000e+00 1.22263762e-02\n",
      " 1.91135049e-01 4.99956724e-01 2.90944406e-02 1.22263762e-02\n",
      " 1.57833971e-02 2.66664024e-01 4.82677659e-01 0.00000000e+00\n",
      " 0.00000000e+00 0.00000000e+00 8.02287232e-02 3.03130503e+07\n",
      " 3.03130503e+07 1.21141153e+08 7.98501042e+10 5.72597587e+25\n",
      " 1.11714314e-01 3.03130503e+07]\n",
      "Standard deviation for feature 8 is 0.0, smaller than 0.001. You may want to exclude this feature.\n",
      "Standard deviation for feature 9 is 0.0, smaller than 0.001. You may want to exclude this feature.\n",
      "Standard deviation for feature 10 is 0.0, smaller than 0.001. You may want to exclude this feature.\n",
      "Standard deviation for feature 11 is 0.0, smaller than 0.001. You may want to exclude this feature.\n",
      "Standard deviation for feature 12 is 0.0, smaller than 0.001. You may want to exclude this feature.\n",
      "Standard deviation for feature 14 is 0.0, smaller than 0.001. You may want to exclude this feature.\n",
      "Standard deviation for feature 16 is 0.0, smaller than 0.001. You may want to exclude this feature.\n",
      "Standard deviation for feature 18 is 0.0, smaller than 0.001. You may want to exclude this feature.\n",
      "Standard deviation for feature 27 is 0.0, smaller than 0.001. You may want to exclude this feature.\n",
      "Standard deviation for feature 28 is 0.0, smaller than 0.001. You may want to exclude this feature.\n",
      "Standard deviation for feature 29 is 0.0, smaller than 0.001. You may want to exclude this feature.\n",
      "mean [ 0.00000000e+00  6.37473246e-02  1.04124487e-03  1.31891016e-02\n",
      "  3.23942847e-02  1.77011627e-02  1.75193223e+00  1.21177432e-01\n",
      "  2.93301840e-01 -2.93301840e-01 -6.88497633e-01  8.01754942e-01\n",
      " -2.91742405e+01  9.66557479e-01  7.10492431e-16 -6.88497633e-01\n",
      "  1.63981427e-01  1.44248561e+00]\n",
      "std [0.00000000e+00 2.44302278e-01 3.22515221e-02 1.14083957e-01\n",
      " 1.77044896e-01 1.31862927e-01 8.73965204e-01 1.67297689e-01\n",
      " 1.53739957e-01 1.53739957e-01 5.19677123e-01 2.98855425e-01\n",
      " 9.49712467e+00 5.39127579e-01 5.41846746e-15 5.19677123e-01\n",
      " 6.36410669e-01 6.11033947e-01]\n",
      "Standard deviation for feature 0 is 0.0, smaller than 0.001. You may want to exclude this feature.\n",
      "Standard deviation for feature 14 is 5.418467459690929e-15, smaller than 0.001. You may want to exclude this feature.\n",
      "mean [ 34.71626298  29.9083045  257.91898615]\n",
      "std [ 22.19087795  21.83494787 149.8030531 ]\n",
      "... > Scaling features complete\n",
      "... > feature mean(s): \n",
      " {'atom': tensor([ 1.6417e+00,  3.9639e-01,  5.4470e-02,  8.9704e-04,  1.1263e-02,\n",
      "         2.7160e-02,  1.5150e-02,  8.9704e-04,  0.0000e+00,  0.0000e+00,\n",
      "         0.0000e+00,  0.0000e+00,  0.0000e+00,  4.9836e-05,  0.0000e+00,\n",
      "         8.6215e-03,  0.0000e+00,  4.5849e-03,  0.0000e+00,  1.4951e-04,\n",
      "         3.7975e-02,  4.9342e-01,  8.4720e-04,  1.4951e-04,  2.4918e-04,\n",
      "         7.7046e-02,  3.6953e-01,  0.0000e+00,  0.0000e+00,  0.0000e+00,\n",
      "         6.4786e-03,  1.2909e+06, -1.2909e+06, -5.1590e+06,  5.6603e+08,\n",
      "        -1.9251e+24, -1.0878e+00, -1.2909e+06]), 'bond': tensor([ 0.0000e+00,  6.3747e-02,  1.0412e-03,  1.3189e-02,  3.2394e-02,\n",
      "         1.7701e-02,  1.7519e+00,  1.2118e-01,  2.9330e-01, -2.9330e-01,\n",
      "        -6.8850e-01,  8.0175e-01, -2.9174e+01,  9.6656e-01,  7.1049e-16,\n",
      "        -6.8850e-01,  1.6398e-01,  1.4425e+00]), 'global': tensor([ 34.7163,  29.9083, 257.9190])}\n",
      "... > feature std(s):  \n",
      " {'atom': tensor([1.6781e+00, 6.9674e-01, 2.2694e-01, 2.9937e-02, 1.0553e-01, 1.6255e-01,\n",
      "        1.2215e-01, 2.9937e-02, 1.0000e-03, 1.0000e-03, 1.0000e-03, 1.0000e-03,\n",
      "        1.0000e-03, 7.0593e-03, 1.0000e-03, 9.2451e-02, 1.0000e-03, 6.7556e-02,\n",
      "        1.0000e-03, 1.2226e-02, 1.9114e-01, 4.9996e-01, 2.9094e-02, 1.2226e-02,\n",
      "        1.5783e-02, 2.6666e-01, 4.8268e-01, 1.0000e-03, 1.0000e-03, 1.0000e-03,\n",
      "        8.0229e-02, 3.0313e+07, 3.0313e+07, 1.2114e+08, 7.9850e+10, 5.7260e+25,\n",
      "        1.1171e-01, 3.0313e+07]), 'bond': tensor([1.0000e-03, 2.4430e-01, 3.2252e-02, 1.1408e-01, 1.7704e-01, 1.3186e-01,\n",
      "        8.7397e-01, 1.6730e-01, 1.5374e-01, 1.5374e-01, 5.1968e-01, 2.9886e-01,\n",
      "        9.4971e+00, 5.3913e-01, 1.0000e-03, 5.1968e-01, 6.3641e-01, 6.1103e-01]), 'global': tensor([ 22.1909,  21.8349, 149.8031])}\n",
      "... > loaded dataset\n",
      "... > creating MoleculeWrapper objects\n"
     ]
    },
    {
     "name": "stderr",
     "output_type": "stream",
     "text": [
      "\n",
      "\u001b[A\n",
      "100%|██████████| 744/744 [00:00<00:00, 5798.24it/s]\n"
     ]
    },
    {
     "name": "stdout",
     "output_type": "stream",
     "text": [
      "... > bond_feats_error_count:  0\n",
      "... > atom_feats_error_count:  0\n",
      "element set {'Br', 'Ca', 'Na', 'Al', 'V', 'Ti', 'B', 'Cr', 'Cl', 'Cu', 'F', 'Fe', 'As', 'N', 'H', 'P', 'Se', 'Si', 'O', 'C', 'Ni', 'Zn', 'Ge', 'S'}\n",
      "selected atomic keys []\n",
      "selected bond keys ['bond_length']\n",
      "selected global keys ['SR-MMP']\n",
      "... > Building graphs and featurizing\n"
     ]
    },
    {
     "name": "stderr",
     "output_type": "stream",
     "text": [
      "\n",
      "\u001b[A\n",
      "\u001b[A\n",
      "\u001b[A\n",
      "\u001b[A\n",
      "\u001b[A\n",
      "\u001b[A\n",
      "\u001b[A\n",
      "\u001b[A\n",
      "\u001b[A\n",
      "\u001b[A\n",
      "\u001b[A\n",
      "\u001b[A\n",
      "\u001b[A\n",
      "\u001b[A\n",
      "\u001b[A\n",
      "\u001b[A\n",
      "\u001b[A\n",
      "\u001b[A\n",
      "\u001b[A\n",
      "\u001b[A\n",
      "\u001b[A\n",
      "\u001b[A\n",
      "100%|██████████| 744/744 [00:02<00:00, 308.96it/s]\n"
     ]
    },
    {
     "name": "stdout",
     "output_type": "stream",
     "text": [
      "included in labels\n",
      "{'global': ['SR-MMP']}\n",
      "included in graph features\n",
      "{'atom': ['total_degree', 'total_H', 'is_in_ring', 'ring_size_3', 'ring_size_4', 'ring_size_5', 'ring_size_6', 'chemical_symbol_Br', 'chemical_symbol_Ca', 'chemical_symbol_Na', 'chemical_symbol_Al', 'chemical_symbol_V', 'chemical_symbol_Ti', 'chemical_symbol_B', 'chemical_symbol_Cr', 'chemical_symbol_Cl', 'chemical_symbol_Cu', 'chemical_symbol_F', 'chemical_symbol_Fe', 'chemical_symbol_As', 'chemical_symbol_N', 'chemical_symbol_H', 'chemical_symbol_P', 'chemical_symbol_Se', 'chemical_symbol_Si', 'chemical_symbol_O', 'chemical_symbol_C', 'chemical_symbol_Ni', 'chemical_symbol_Zn', 'chemical_symbol_Ge', 'chemical_symbol_S'], 'bond': ['metal bond', 'ring inclusion', 'ring size_3', 'ring size_4', 'ring size_5', 'ring size_6', 'bond_length'], 'global': ['num atoms', 'num bonds', 'molecule weight']}\n",
      "original loader node types: dict_keys(['atom', 'bond', 'global'])\n",
      "original loader label types: dict_keys([])\n",
      "include names:  dict_keys(['global'])\n",
      "... > parsing labels and features in graphs\n"
     ]
    },
    {
     "name": "stderr",
     "output_type": "stream",
     "text": [
      "\n",
      "744it [00:00, 30429.96it/s]\n"
     ]
    },
    {
     "name": "stdout",
     "output_type": "stream",
     "text": [
      "... > number of categories for each label: \n",
      "...... > label  SR-MMP :  2 with distribution:  [488, 90]\n",
      "original loader node types: dict_keys(['atom', 'bond', 'global'])\n",
      "original loader label types: dict_keys(['global'])\n",
      "number of graphs filtered:  166\n",
      "... > Scaling features\n",
      "mean [1.64173228e+00 3.96391907e-01 5.44702482e-02 8.97039769e-04\n",
      " 1.12628327e-02 2.71603708e-02 1.51500050e-02 8.97039769e-04\n",
      " 0.00000000e+00 0.00000000e+00 0.00000000e+00 0.00000000e+00\n",
      " 0.00000000e+00 4.98355427e-05 0.00000000e+00 8.62154889e-03\n",
      " 0.00000000e+00 4.58486993e-03 0.00000000e+00 1.49506628e-04\n",
      " 3.79746835e-02 4.93421708e-01 8.47204226e-04 1.49506628e-04\n",
      " 2.49177714e-04 7.70457490e-02 3.69530549e-01 0.00000000e+00\n",
      " 0.00000000e+00 0.00000000e+00 6.47862055e-03]\n",
      "std [1.67808758 0.69674453 0.22694325 0.02993719 0.10552716 0.16255056\n",
      " 0.12214943 0.02993719 0.         0.         0.         0.\n",
      " 0.         0.00705925 0.         0.09245116 0.         0.06755626\n",
      " 0.         0.01222638 0.19113505 0.49995672 0.02909444 0.01222638\n",
      " 0.0157834  0.26666402 0.48267766 0.         0.         0.\n",
      " 0.08022872]\n",
      "Standard deviation for feature 8 is 0.0, smaller than 0.001. You may want to exclude this feature.\n",
      "Standard deviation for feature 9 is 0.0, smaller than 0.001. You may want to exclude this feature.\n",
      "Standard deviation for feature 10 is 0.0, smaller than 0.001. You may want to exclude this feature.\n",
      "Standard deviation for feature 11 is 0.0, smaller than 0.001. You may want to exclude this feature.\n",
      "Standard deviation for feature 12 is 0.0, smaller than 0.001. You may want to exclude this feature.\n",
      "Standard deviation for feature 14 is 0.0, smaller than 0.001. You may want to exclude this feature.\n",
      "Standard deviation for feature 16 is 0.0, smaller than 0.001. You may want to exclude this feature.\n",
      "Standard deviation for feature 18 is 0.0, smaller than 0.001. You may want to exclude this feature.\n",
      "Standard deviation for feature 27 is 0.0, smaller than 0.001. You may want to exclude this feature.\n",
      "Standard deviation for feature 28 is 0.0, smaller than 0.001. You may want to exclude this feature.\n",
      "Standard deviation for feature 29 is 0.0, smaller than 0.001. You may want to exclude this feature.\n",
      "mean [0.00000000e+00 6.37473246e-02 1.04124487e-03 1.31891016e-02\n",
      " 3.23942847e-02 1.77011627e-02 1.75193223e+00]\n",
      "std [0.         0.24430228 0.03225152 0.11408396 0.1770449  0.13186293\n",
      " 0.8739652 ]\n",
      "Standard deviation for feature 0 is 0.0, smaller than 0.001. You may want to exclude this feature.\n",
      "mean [ 34.71626298  29.9083045  257.91898615]\n",
      "std [ 22.19087795  21.83494787 149.8030531 ]\n",
      "... > Scaling features complete\n",
      "... > feature mean(s): \n",
      " {'atom': tensor([1.6417e+00, 3.9639e-01, 5.4470e-02, 8.9704e-04, 1.1263e-02, 2.7160e-02,\n",
      "        1.5150e-02, 8.9704e-04, 0.0000e+00, 0.0000e+00, 0.0000e+00, 0.0000e+00,\n",
      "        0.0000e+00, 4.9836e-05, 0.0000e+00, 8.6215e-03, 0.0000e+00, 4.5849e-03,\n",
      "        0.0000e+00, 1.4951e-04, 3.7975e-02, 4.9342e-01, 8.4720e-04, 1.4951e-04,\n",
      "        2.4918e-04, 7.7046e-02, 3.6953e-01, 0.0000e+00, 0.0000e+00, 0.0000e+00,\n",
      "        6.4786e-03]), 'bond': tensor([0.0000e+00, 6.3747e-02, 1.0412e-03, 1.3189e-02, 3.2394e-02, 1.7701e-02,\n",
      "        1.7519e+00]), 'global': tensor([ 34.7163,  29.9083, 257.9190])}\n",
      "... > feature std(s):  \n",
      " {'atom': tensor([1.6781e+00, 6.9674e-01, 2.2694e-01, 2.9937e-02, 1.0553e-01, 1.6255e-01,\n",
      "        1.2215e-01, 2.9937e-02, 1.0000e-03, 1.0000e-03, 1.0000e-03, 1.0000e-03,\n",
      "        1.0000e-03, 7.0593e-03, 1.0000e-03, 9.2451e-02, 1.0000e-03, 6.7556e-02,\n",
      "        1.0000e-03, 1.2226e-02, 1.9114e-01, 4.9996e-01, 2.9094e-02, 1.2226e-02,\n",
      "        1.5783e-02, 2.6666e-01, 4.8268e-01, 1.0000e-03, 1.0000e-03, 1.0000e-03,\n",
      "        8.0229e-02]), 'bond': tensor([0.0010, 0.2443, 0.0323, 0.1141, 0.1770, 0.1319, 0.8740]), 'global': tensor([ 22.1909,  21.8349, 149.8031])}\n",
      "... > loaded dataset\n",
      "... > creating MoleculeWrapper objects\n"
     ]
    },
    {
     "name": "stderr",
     "output_type": "stream",
     "text": [
      "\n",
      "\u001b[A\n",
      "\u001b[A\n",
      "\u001b[A\n",
      "100%|██████████| 744/744 [00:00<00:00, 1989.77it/s]\n"
     ]
    },
    {
     "name": "stdout",
     "output_type": "stream",
     "text": [
      "... > bond_feats_error_count:  0\n",
      "... > atom_feats_error_count:  0\n",
      "element set {'Br', 'Ca', 'Na', 'Al', 'V', 'Ti', 'B', 'Cr', 'Cl', 'Cu', 'F', 'Fe', 'As', 'N', 'H', 'P', 'Se', 'Si', 'O', 'C', 'Ni', 'Zn', 'Ge', 'S'}\n",
      "selected atomic keys ['extra_feat_atom_Hamiltonian_K', 'extra_feat_atom_e_density', 'extra_feat_atom_lap_e_density', 'extra_feat_atom_esp_total', 'extra_feat_atom_det_hessian', 'extra_feat_atom_eta', 'extra_feat_atom_energy_density']\n",
      "selected bond keys ['extra_feat_bond_Lagrangian_K', 'bond_length', 'extra_feat_bond_Hamiltonian_K', 'extra_feat_bond_e_density', 'extra_feat_bond_lap_e_density', 'extra_feat_bond_e_loc_func', 'extra_feat_bond_esp_e', 'extra_feat_bond_esp_total', 'extra_feat_bond_grad_norm', 'extra_feat_bond_lap_norm', 'extra_feat_bond_ellip_e_dens', 'extra_feat_bond_eta']\n",
      "selected global keys ['SR-p53']\n",
      "... > Building graphs and featurizing\n"
     ]
    },
    {
     "name": "stderr",
     "output_type": "stream",
     "text": [
      "\n",
      "\u001b[A\n",
      "\u001b[A\n",
      "\u001b[A\n",
      "\u001b[A\n",
      "\u001b[A\n",
      "\u001b[A\n",
      "\u001b[A\n",
      "\u001b[A\n",
      "\u001b[A\n",
      "\u001b[A\n",
      "\u001b[A\n",
      "\u001b[A\n",
      "\u001b[A\n",
      "\u001b[A\n",
      "\u001b[A\n",
      "\u001b[A\n",
      "\u001b[A\n",
      "\u001b[A\n",
      "\u001b[A\n",
      "\u001b[A\n",
      "\u001b[A\n",
      "\u001b[A\n",
      "100%|██████████| 744/744 [00:02<00:00, 303.93it/s]\n"
     ]
    },
    {
     "name": "stdout",
     "output_type": "stream",
     "text": [
      "included in labels\n",
      "{'global': ['SR-p53']}\n",
      "included in graph features\n",
      "{'atom': ['total_degree', 'total_H', 'is_in_ring', 'ring_size_3', 'ring_size_4', 'ring_size_5', 'ring_size_6', 'chemical_symbol_Br', 'chemical_symbol_Ca', 'chemical_symbol_Na', 'chemical_symbol_Al', 'chemical_symbol_V', 'chemical_symbol_Ti', 'chemical_symbol_B', 'chemical_symbol_Cr', 'chemical_symbol_Cl', 'chemical_symbol_Cu', 'chemical_symbol_F', 'chemical_symbol_Fe', 'chemical_symbol_As', 'chemical_symbol_N', 'chemical_symbol_H', 'chemical_symbol_P', 'chemical_symbol_Se', 'chemical_symbol_Si', 'chemical_symbol_O', 'chemical_symbol_C', 'chemical_symbol_Ni', 'chemical_symbol_Zn', 'chemical_symbol_Ge', 'chemical_symbol_S', 'extra_feat_atom_Hamiltonian_K', 'extra_feat_atom_e_density', 'extra_feat_atom_lap_e_density', 'extra_feat_atom_esp_total', 'extra_feat_atom_det_hessian', 'extra_feat_atom_eta', 'extra_feat_atom_energy_density'], 'bond': ['metal bond', 'ring inclusion', 'ring size_3', 'ring size_4', 'ring size_5', 'ring size_6', 'bond_length', 'extra_feat_bond_Lagrangian_K', 'extra_feat_bond_Hamiltonian_K', 'extra_feat_bond_e_density', 'extra_feat_bond_lap_e_density', 'extra_feat_bond_e_loc_func', 'extra_feat_bond_esp_e', 'extra_feat_bond_esp_total', 'extra_feat_bond_grad_norm', 'extra_feat_bond_lap_norm', 'extra_feat_bond_ellip_e_dens', 'extra_feat_bond_eta'], 'global': ['num atoms', 'num bonds', 'molecule weight']}\n",
      "original loader node types: dict_keys(['atom', 'bond', 'global'])\n",
      "original loader label types: dict_keys([])\n",
      "include names:  dict_keys(['global'])\n",
      "... > parsing labels and features in graphs\n"
     ]
    },
    {
     "name": "stderr",
     "output_type": "stream",
     "text": [
      "\n",
      "744it [00:00, 29815.90it/s]\n"
     ]
    },
    {
     "name": "stdout",
     "output_type": "stream",
     "text": [
      "... > number of categories for each label: \n",
      "...... > label  SR-p53 :  2 with distribution:  [623, 38]\n",
      "original loader node types: dict_keys(['atom', 'bond', 'global'])\n",
      "original loader label types: dict_keys(['global'])\n",
      "number of graphs filtered:  83\n",
      "... > Scaling features\n",
      "mean [ 1.64869288e+00  3.95968819e-01  5.64623799e-02  1.03363625e-03\n",
      "  1.23174986e-02  2.84680649e-02  1.46431802e-02  8.61363538e-04\n",
      "  0.00000000e+00  0.00000000e+00  0.00000000e+00  0.00000000e+00\n",
      "  0.00000000e+00  4.30681769e-05  0.00000000e+00  8.65670356e-03\n",
      "  0.00000000e+00  4.34988587e-03  0.00000000e+00  1.29204531e-04\n",
      "  3.86752229e-02  4.91106421e-01  9.04431715e-04  1.29204531e-04\n",
      "  3.44545415e-04  7.67905595e-02  3.71592231e-01  0.00000000e+00\n",
      "  0.00000000e+00  0.00000000e+00  6.41715836e-03  1.22909428e+06\n",
      " -1.22909428e+06 -4.91207969e+06  4.89522714e+08 -1.82106231e+24\n",
      " -1.08701791e+00 -1.22909428e+06]\n",
      "std [1.67994978e+00 6.97539333e-01 2.30812434e-01 3.21335937e-02\n",
      " 1.10298585e-01 1.66305845e-01 1.20119763e-01 2.93363527e-02\n",
      " 0.00000000e+00 0.00000000e+00 0.00000000e+00 0.00000000e+00\n",
      " 0.00000000e+00 6.56249359e-03 0.00000000e+00 9.26378165e-02\n",
      " 0.00000000e+00 6.58100628e-02 0.00000000e+00 1.13660827e-02\n",
      " 1.92819735e-01 4.99920898e-01 3.00601683e-02 1.13660827e-02\n",
      " 1.85587366e-02 2.66258839e-01 4.83230219e-01 0.00000000e+00\n",
      " 0.00000000e+00 0.00000000e+00 7.98497241e-02 2.94434365e+07\n",
      " 2.94434365e+07 1.17665846e+08 7.42310507e+10 5.58654466e+25\n",
      " 1.10811592e-01 2.94434365e+07]\n",
      "Standard deviation for feature 8 is 0.0, smaller than 0.001. You may want to exclude this feature.\n",
      "Standard deviation for feature 9 is 0.0, smaller than 0.001. You may want to exclude this feature.\n",
      "Standard deviation for feature 10 is 0.0, smaller than 0.001. You may want to exclude this feature.\n",
      "Standard deviation for feature 11 is 0.0, smaller than 0.001. You may want to exclude this feature.\n",
      "Standard deviation for feature 12 is 0.0, smaller than 0.001. You may want to exclude this feature.\n",
      "Standard deviation for feature 14 is 0.0, smaller than 0.001. You may want to exclude this feature.\n",
      "Standard deviation for feature 16 is 0.0, smaller than 0.001. You may want to exclude this feature.\n",
      "Standard deviation for feature 18 is 0.0, smaller than 0.001. You may want to exclude this feature.\n",
      "Standard deviation for feature 27 is 0.0, smaller than 0.001. You may want to exclude this feature.\n",
      "Standard deviation for feature 28 is 0.0, smaller than 0.001. You may want to exclude this feature.\n",
      "Standard deviation for feature 29 is 0.0, smaller than 0.001. You may want to exclude this feature.\n",
      "mean [ 0.00000000e+00  6.57475612e-02  1.19450528e-03  1.43340633e-02\n",
      "  3.36950030e-02  1.70217002e-02  1.75173555e+00  1.21123477e-01\n",
      "  2.93281334e-01 -2.93281334e-01 -6.88631427e-01  8.01983984e-01\n",
      " -2.93722483e+01  9.66714052e-01  6.95235887e-16 -6.88631427e-01\n",
      "  1.60915437e-01  1.44608908e+00]\n",
      "std [0.00000000e+00 2.47840310e-01 3.45409675e-02 1.18863779e-01\n",
      " 1.80442927e-01 1.29352085e-01 8.72689834e-01 1.66021886e-01\n",
      " 1.52830410e-01 1.52830410e-01 5.16769163e-01 2.98252158e-01\n",
      " 9.30148043e+00 5.35636789e-01 5.33927226e-15 5.16769163e-01\n",
      " 5.93745824e-01 6.11668390e-01]\n",
      "Standard deviation for feature 0 is 0.0, smaller than 0.001. You may want to exclude this feature.\n",
      "Standard deviation for feature 14 is 5.3392722604898574e-15, smaller than 0.001. You may want to exclude this feature.\n",
      "mean [ 35.12708018  30.39636914 261.72185921]\n",
      "std [ 21.97775403  21.73016167 149.1248379 ]\n",
      "... > Scaling features complete\n",
      "... > feature mean(s): \n",
      " {'atom': tensor([ 1.6487e+00,  3.9597e-01,  5.6462e-02,  1.0336e-03,  1.2317e-02,\n",
      "         2.8468e-02,  1.4643e-02,  8.6136e-04,  0.0000e+00,  0.0000e+00,\n",
      "         0.0000e+00,  0.0000e+00,  0.0000e+00,  4.3068e-05,  0.0000e+00,\n",
      "         8.6567e-03,  0.0000e+00,  4.3499e-03,  0.0000e+00,  1.2920e-04,\n",
      "         3.8675e-02,  4.9111e-01,  9.0443e-04,  1.2920e-04,  3.4455e-04,\n",
      "         7.6791e-02,  3.7159e-01,  0.0000e+00,  0.0000e+00,  0.0000e+00,\n",
      "         6.4172e-03,  1.2291e+06, -1.2291e+06, -4.9121e+06,  4.8952e+08,\n",
      "        -1.8211e+24, -1.0870e+00, -1.2291e+06]), 'bond': tensor([ 0.0000e+00,  6.5748e-02,  1.1945e-03,  1.4334e-02,  3.3695e-02,\n",
      "         1.7022e-02,  1.7517e+00,  1.2112e-01,  2.9328e-01, -2.9328e-01,\n",
      "        -6.8863e-01,  8.0198e-01, -2.9372e+01,  9.6671e-01,  6.9524e-16,\n",
      "        -6.8863e-01,  1.6092e-01,  1.4461e+00]), 'global': tensor([ 35.1271,  30.3964, 261.7219])}\n",
      "... > feature std(s):  \n",
      " {'atom': tensor([1.6799e+00, 6.9754e-01, 2.3081e-01, 3.2134e-02, 1.1030e-01, 1.6631e-01,\n",
      "        1.2012e-01, 2.9336e-02, 1.0000e-03, 1.0000e-03, 1.0000e-03, 1.0000e-03,\n",
      "        1.0000e-03, 6.5625e-03, 1.0000e-03, 9.2638e-02, 1.0000e-03, 6.5810e-02,\n",
      "        1.0000e-03, 1.1366e-02, 1.9282e-01, 4.9992e-01, 3.0060e-02, 1.1366e-02,\n",
      "        1.8559e-02, 2.6626e-01, 4.8323e-01, 1.0000e-03, 1.0000e-03, 1.0000e-03,\n",
      "        7.9850e-02, 2.9443e+07, 2.9443e+07, 1.1767e+08, 7.4231e+10, 5.5865e+25,\n",
      "        1.1081e-01, 2.9443e+07]), 'bond': tensor([1.0000e-03, 2.4784e-01, 3.4541e-02, 1.1886e-01, 1.8044e-01, 1.2935e-01,\n",
      "        8.7269e-01, 1.6602e-01, 1.5283e-01, 1.5283e-01, 5.1677e-01, 2.9825e-01,\n",
      "        9.3015e+00, 5.3564e-01, 1.0000e-03, 5.1677e-01, 5.9375e-01, 6.1167e-01]), 'global': tensor([ 21.9778,  21.7302, 149.1248])}\n",
      "... > loaded dataset\n",
      "... > creating MoleculeWrapper objects\n"
     ]
    },
    {
     "name": "stderr",
     "output_type": "stream",
     "text": [
      "\n",
      "\u001b[A\n",
      "100%|██████████| 744/744 [00:00<00:00, 6110.16it/s]\n"
     ]
    },
    {
     "name": "stdout",
     "output_type": "stream",
     "text": [
      "... > bond_feats_error_count:  0\n",
      "... > atom_feats_error_count:  0\n",
      "element set {'Br', 'Ca', 'Na', 'Al', 'V', 'Ti', 'B', 'Cr', 'Cl', 'Cu', 'F', 'Fe', 'As', 'N', 'H', 'P', 'Se', 'Si', 'O', 'C', 'Ni', 'Zn', 'Ge', 'S'}\n",
      "selected atomic keys []\n",
      "selected bond keys ['bond_length']\n",
      "selected global keys ['SR-p53']\n",
      "... > Building graphs and featurizing\n"
     ]
    },
    {
     "name": "stderr",
     "output_type": "stream",
     "text": [
      "\n",
      "\u001b[A\n",
      "\u001b[A\n",
      "\u001b[A\n",
      "\u001b[A\n",
      "\u001b[A\n",
      "\u001b[A\n",
      "\u001b[A\n",
      "\u001b[A\n",
      "\u001b[A\n",
      "\u001b[A\n",
      "\u001b[A\n",
      "\u001b[A\n",
      "\u001b[A\n",
      "\u001b[A\n",
      "\u001b[A\n",
      "\u001b[A\n",
      "\u001b[A\n",
      "\u001b[A\n",
      "\u001b[A\n",
      "\u001b[A\n",
      "\u001b[A\n",
      "\u001b[A\n",
      "100%|██████████| 744/744 [00:02<00:00, 310.47it/s]\n"
     ]
    },
    {
     "name": "stdout",
     "output_type": "stream",
     "text": [
      "included in labels\n",
      "{'global': ['SR-p53']}\n",
      "included in graph features\n",
      "{'atom': ['total_degree', 'total_H', 'is_in_ring', 'ring_size_3', 'ring_size_4', 'ring_size_5', 'ring_size_6', 'chemical_symbol_Br', 'chemical_symbol_Ca', 'chemical_symbol_Na', 'chemical_symbol_Al', 'chemical_symbol_V', 'chemical_symbol_Ti', 'chemical_symbol_B', 'chemical_symbol_Cr', 'chemical_symbol_Cl', 'chemical_symbol_Cu', 'chemical_symbol_F', 'chemical_symbol_Fe', 'chemical_symbol_As', 'chemical_symbol_N', 'chemical_symbol_H', 'chemical_symbol_P', 'chemical_symbol_Se', 'chemical_symbol_Si', 'chemical_symbol_O', 'chemical_symbol_C', 'chemical_symbol_Ni', 'chemical_symbol_Zn', 'chemical_symbol_Ge', 'chemical_symbol_S'], 'bond': ['metal bond', 'ring inclusion', 'ring size_3', 'ring size_4', 'ring size_5', 'ring size_6', 'bond_length'], 'global': ['num atoms', 'num bonds', 'molecule weight']}\n",
      "original loader node types: dict_keys(['atom', 'bond', 'global'])\n",
      "original loader label types: dict_keys([])\n",
      "include names:  dict_keys(['global'])\n",
      "... > parsing labels and features in graphs\n"
     ]
    },
    {
     "name": "stderr",
     "output_type": "stream",
     "text": [
      "\n",
      "744it [00:00, 30173.10it/s]\n"
     ]
    },
    {
     "name": "stdout",
     "output_type": "stream",
     "text": [
      "... > number of categories for each label: \n",
      "...... > label  SR-p53 :  2 with distribution:  [623, 38]\n",
      "original loader node types: dict_keys(['atom', 'bond', 'global'])\n",
      "original loader label types: dict_keys(['global'])\n",
      "number of graphs filtered:  83\n",
      "... > Scaling features\n",
      "mean [1.64869288e+00 3.95968819e-01 5.64623799e-02 1.03363625e-03\n",
      " 1.23174986e-02 2.84680649e-02 1.46431802e-02 8.61363538e-04\n",
      " 0.00000000e+00 0.00000000e+00 0.00000000e+00 0.00000000e+00\n",
      " 0.00000000e+00 4.30681769e-05 0.00000000e+00 8.65670356e-03\n",
      " 0.00000000e+00 4.34988587e-03 0.00000000e+00 1.29204531e-04\n",
      " 3.86752229e-02 4.91106421e-01 9.04431715e-04 1.29204531e-04\n",
      " 3.44545415e-04 7.67905595e-02 3.71592231e-01 0.00000000e+00\n",
      " 0.00000000e+00 0.00000000e+00 6.41715836e-03]\n",
      "std [1.67994978 0.69753933 0.23081243 0.03213359 0.11029858 0.16630585\n",
      " 0.12011976 0.02933635 0.         0.         0.         0.\n",
      " 0.         0.00656249 0.         0.09263782 0.         0.06581006\n",
      " 0.         0.01136608 0.19281973 0.4999209  0.03006017 0.01136608\n",
      " 0.01855874 0.26625884 0.48323022 0.         0.         0.\n",
      " 0.07984972]\n",
      "Standard deviation for feature 8 is 0.0, smaller than 0.001. You may want to exclude this feature.\n",
      "Standard deviation for feature 9 is 0.0, smaller than 0.001. You may want to exclude this feature.\n",
      "Standard deviation for feature 10 is 0.0, smaller than 0.001. You may want to exclude this feature.\n",
      "Standard deviation for feature 11 is 0.0, smaller than 0.001. You may want to exclude this feature.\n",
      "Standard deviation for feature 12 is 0.0, smaller than 0.001. You may want to exclude this feature.\n",
      "Standard deviation for feature 14 is 0.0, smaller than 0.001. You may want to exclude this feature.\n",
      "Standard deviation for feature 16 is 0.0, smaller than 0.001. You may want to exclude this feature.\n",
      "Standard deviation for feature 18 is 0.0, smaller than 0.001. You may want to exclude this feature.\n",
      "Standard deviation for feature 27 is 0.0, smaller than 0.001. You may want to exclude this feature.\n",
      "Standard deviation for feature 28 is 0.0, smaller than 0.001. You may want to exclude this feature.\n",
      "Standard deviation for feature 29 is 0.0, smaller than 0.001. You may want to exclude this feature.\n",
      "mean [0.00000000e+00 6.57475612e-02 1.19450528e-03 1.43340633e-02\n",
      " 3.36950030e-02 1.70217002e-02 1.75173555e+00]\n",
      "std [0.         0.24784031 0.03454097 0.11886378 0.18044293 0.12935209\n",
      " 0.87268983]\n",
      "Standard deviation for feature 0 is 0.0, smaller than 0.001. You may want to exclude this feature.\n",
      "mean [ 35.12708018  30.39636914 261.72185921]\n",
      "std [ 21.97775403  21.73016167 149.1248379 ]\n",
      "... > Scaling features complete\n",
      "... > feature mean(s): \n",
      " {'atom': tensor([1.6487e+00, 3.9597e-01, 5.6462e-02, 1.0336e-03, 1.2317e-02, 2.8468e-02,\n",
      "        1.4643e-02, 8.6136e-04, 0.0000e+00, 0.0000e+00, 0.0000e+00, 0.0000e+00,\n",
      "        0.0000e+00, 4.3068e-05, 0.0000e+00, 8.6567e-03, 0.0000e+00, 4.3499e-03,\n",
      "        0.0000e+00, 1.2920e-04, 3.8675e-02, 4.9111e-01, 9.0443e-04, 1.2920e-04,\n",
      "        3.4455e-04, 7.6791e-02, 3.7159e-01, 0.0000e+00, 0.0000e+00, 0.0000e+00,\n",
      "        6.4172e-03]), 'bond': tensor([0.0000e+00, 6.5748e-02, 1.1945e-03, 1.4334e-02, 3.3695e-02, 1.7022e-02,\n",
      "        1.7517e+00]), 'global': tensor([ 35.1271,  30.3964, 261.7219])}\n",
      "... > feature std(s):  \n",
      " {'atom': tensor([1.6799e+00, 6.9754e-01, 2.3081e-01, 3.2134e-02, 1.1030e-01, 1.6631e-01,\n",
      "        1.2012e-01, 2.9336e-02, 1.0000e-03, 1.0000e-03, 1.0000e-03, 1.0000e-03,\n",
      "        1.0000e-03, 6.5625e-03, 1.0000e-03, 9.2638e-02, 1.0000e-03, 6.5810e-02,\n",
      "        1.0000e-03, 1.1366e-02, 1.9282e-01, 4.9992e-01, 3.0060e-02, 1.1366e-02,\n",
      "        1.8559e-02, 2.6626e-01, 4.8323e-01, 1.0000e-03, 1.0000e-03, 1.0000e-03,\n",
      "        7.9850e-02]), 'bond': tensor([0.0010, 0.2478, 0.0345, 0.1189, 0.1804, 0.1294, 0.8727]), 'global': tensor([ 21.9778,  21.7302, 149.1248])}\n",
      "... > loaded dataset\n"
     ]
    }
   ],
   "source": [
    "tox21_test_loc = \"../../../../data/splits_1205/test_tox21_qtaim_1205_labelled.pkl\"\n",
    "tox21_train_loc = \"../../../../data/splits_1205/train_tox21_qtaim_1205_labelled.pkl\"\n",
    "\n",
    "bl_keys = {\n",
    "    \"atom\": [],\n",
    "    \"bond\": [\"bond_length\"],\n",
    "    \"global\": [\n",
    "        \"NR-AR\",\n",
    "        \"NR-AR-LBD\",\n",
    "        \"NR-AhR\",\n",
    "        \"NR-Aromatase\",\n",
    "        \"NR-ER\",\n",
    "        \"NR-ER-LBD\",\n",
    "        \"NR-PPAR-gamma\",\n",
    "        \"SR-ARE\",\n",
    "        \"SR-ATAD5\",\n",
    "        \"SR-HSE\",\n",
    "        \"SR-MMP\",\n",
    "        \"SR-p53\",\n",
    "    ],\n",
    "}\n",
    "\n",
    "qtaim_dict = {\n",
    "    \"atom\": [\n",
    "        \"extra_feat_atom_Hamiltonian_K\",\n",
    "        \"extra_feat_atom_e_density\",\n",
    "        \"extra_feat_atom_lap_e_density\",\n",
    "        \"extra_feat_atom_esp_total\",\n",
    "        \"extra_feat_atom_det_hessian\",\n",
    "        \"extra_feat_atom_eta\",\n",
    "        \"extra_feat_atom_energy_density\"\n",
    "    ],\n",
    "    \"bond\": [\n",
    "        \"extra_feat_bond_Lagrangian_K\",\n",
    "        \"bond_length\",\n",
    "        \"extra_feat_bond_Hamiltonian_K\",\n",
    "        \"extra_feat_bond_e_density\",\n",
    "        \"extra_feat_bond_lap_e_density\",\n",
    "        \"extra_feat_bond_e_loc_func\",\n",
    "        \"extra_feat_bond_esp_e\",\n",
    "        \"extra_feat_bond_esp_total\",\n",
    "        \"extra_feat_bond_grad_norm\",\n",
    "        \"extra_feat_bond_lap_norm\",\n",
    "        \"extra_feat_bond_ellip_e_dens\",\n",
    "        \"extra_feat_bond_eta\",\n",
    "    ],\n",
    "    \"global\": [\n",
    "        \"NR-AR\",\n",
    "        \"NR-AR-LBD\",\n",
    "        \"NR-AhR\",\n",
    "        \"NR-Aromatase\",\n",
    "        \"NR-ER\",\n",
    "        \"NR-ER-LBD\",\n",
    "        \"NR-PPAR-gamma\",\n",
    "        \"SR-ARE\",\n",
    "        \"SR-ATAD5\",\n",
    "        \"SR-HSE\",\n",
    "        \"SR-MMP\",\n",
    "        \"SR-p53\",\n",
    "    ],\n",
    "}\n",
    "\n",
    "\n",
    "\n",
    "dataset_bl_train = HeteroGraphGraphLabelClassifierDataset(\n",
    "    file=tox21_train_loc,\n",
    "    allowed_ring_size=[3, 4, 5, 6],\n",
    "    allowed_charges=None,\n",
    "    allowed_spins=None,\n",
    "    self_loop=True,\n",
    "    extra_keys=bl_keys,\n",
    "    target_list=[\n",
    "        \"NR-AR\",\n",
    "        \"NR-AR-LBD\",\n",
    "        \"NR-AhR\",\n",
    "        \"NR-Aromatase\",\n",
    "        \"NR-ER\",\n",
    "        \"NR-ER-LBD\",\n",
    "        \"NR-PPAR-gamma\",\n",
    "        \"SR-ARE\",\n",
    "        \"SR-ATAD5\",\n",
    "        \"SR-HSE\",\n",
    "        \"SR-MMP\",\n",
    "        \"SR-p53\",\n",
    "    ],\n",
    "    extra_dataset_info={},\n",
    "    debug=False,\n",
    "    impute=False,\n",
    "    element_set={\n",
    "        \"Fe\",\n",
    "        \"H\",\n",
    "        \"Cu\",\n",
    "        \"Cr\",\n",
    "        \"Ge\",\n",
    "        \"Na\",\n",
    "        \"P\",\n",
    "        \"N\",\n",
    "        \"C\",\n",
    "        \"Br\",\n",
    "        \"S\",\n",
    "        \"V\",\n",
    "        \"F\",\n",
    "        \"Se\",\n",
    "        \"B\",\n",
    "        \"Cl\",\n",
    "        \"Zn\",\n",
    "        \"Ti\",\n",
    "        \"O\",\n",
    "        \"Si\",\n",
    "        \"Ni\",\n",
    "        \"Ca\",\n",
    "        \"Al\",\n",
    "        \"As\",\n",
    "    },\n",
    "    log_scale_features=False,\n",
    "    standard_scale_features=True,\n",
    ")\n",
    "\n",
    "dataset_bl_test = HeteroGraphGraphLabelClassifierDataset(\n",
    "    file=tox21_test_loc,\n",
    "    allowed_ring_size=[3, 4, 5, 6],\n",
    "    allowed_charges=None,\n",
    "    allowed_spins=None,\n",
    "    self_loop=True,\n",
    "    extra_keys=bl_keys,\n",
    "    target_list=[\n",
    "        \"NR-AR\",\n",
    "        \"NR-AR-LBD\",\n",
    "        \"NR-AhR\",\n",
    "        \"NR-Aromatase\",\n",
    "        \"NR-ER\",\n",
    "        \"NR-ER-LBD\",\n",
    "        \"NR-PPAR-gamma\",\n",
    "        \"SR-ARE\",\n",
    "        \"SR-ATAD5\",\n",
    "        \"SR-HSE\",\n",
    "        \"SR-MMP\",\n",
    "        \"SR-p53\",\n",
    "    ],\n",
    "    extra_dataset_info={},\n",
    "    debug=False,\n",
    "    impute=False,\n",
    "    element_set={\n",
    "        \"Fe\",\n",
    "        \"H\",\n",
    "        \"Cu\",\n",
    "        \"Cr\",\n",
    "        \"Ge\",\n",
    "        \"Na\",\n",
    "        \"P\",\n",
    "        \"N\",\n",
    "        \"C\",\n",
    "        \"Br\",\n",
    "        \"S\",\n",
    "        \"V\",\n",
    "        \"F\",\n",
    "        \"Se\",\n",
    "        \"B\",\n",
    "        \"Cl\",\n",
    "        \"Zn\",\n",
    "        \"Ti\",\n",
    "        \"O\",\n",
    "        \"Si\",\n",
    "        \"Ni\",\n",
    "        \"Ca\",\n",
    "        \"Al\",\n",
    "        \"As\",\n",
    "    },\n",
    "    log_scale_features=False,\n",
    "    standard_scale_features=True,\n",
    ")\n",
    "\n",
    "dataset_train_qtaim = HeteroGraphGraphLabelClassifierDataset(\n",
    "    file=tox21_train_loc,\n",
    "    allowed_ring_size=[3, 4, 5, 6],\n",
    "    allowed_charges=None,\n",
    "    allowed_spins=None,\n",
    "    self_loop=True,\n",
    "    extra_keys=qtaim_dict,\n",
    "    target_list=[\n",
    "        \"NR-AR\",\n",
    "        \"NR-AR-LBD\",\n",
    "        \"NR-AhR\",\n",
    "        \"NR-Aromatase\",\n",
    "        \"NR-ER\",\n",
    "        \"NR-ER-LBD\",\n",
    "        \"NR-PPAR-gamma\",\n",
    "        \"SR-ARE\",\n",
    "        \"SR-ATAD5\",\n",
    "        \"SR-HSE\",\n",
    "        \"SR-MMP\",\n",
    "        \"SR-p53\",\n",
    "    ],\n",
    "    extra_dataset_info={},\n",
    "    debug=False,\n",
    "    impute=False,\n",
    "    element_set={\n",
    "        \"Fe\",\n",
    "        \"H\",\n",
    "        \"Cu\",\n",
    "        \"Cr\",\n",
    "        \"Ge\",\n",
    "        \"Na\",\n",
    "        \"P\",\n",
    "        \"N\",\n",
    "        \"C\",\n",
    "        \"Br\",\n",
    "        \"S\",\n",
    "        \"V\",\n",
    "        \"F\",\n",
    "        \"Se\",\n",
    "        \"B\",\n",
    "        \"Cl\",\n",
    "        \"Zn\",\n",
    "        \"Ti\",\n",
    "        \"O\",\n",
    "        \"Si\",\n",
    "        \"Ni\",\n",
    "        \"Ca\",\n",
    "        \"Al\",\n",
    "        \"As\",\n",
    "    },\n",
    "    log_scale_features=False,\n",
    "    standard_scale_features=True,\n",
    ")\n",
    "\n",
    "dataset_test_qtaim = HeteroGraphGraphLabelClassifierDataset(\n",
    "    file=tox21_test_loc,\n",
    "    allowed_ring_size=[3, 4, 5, 6],\n",
    "    allowed_charges=None,\n",
    "    allowed_spins=None,\n",
    "    self_loop=True,\n",
    "    extra_keys=qtaim_dict,\n",
    "    target_list=[\n",
    "        \"NR-AR\",\n",
    "        \"NR-AR-LBD\",\n",
    "        \"NR-AhR\",\n",
    "        \"NR-Aromatase\",\n",
    "        \"NR-ER\",\n",
    "        \"NR-ER-LBD\",\n",
    "        \"NR-PPAR-gamma\",\n",
    "        \"SR-ARE\",\n",
    "        \"SR-ATAD5\",\n",
    "        \"SR-HSE\",\n",
    "        \"SR-MMP\",\n",
    "        \"SR-p53\",\n",
    "    ],\n",
    "    extra_dataset_info={},\n",
    "    debug=False,\n",
    "    impute=False,\n",
    "    element_set={\n",
    "        \"Fe\",\n",
    "        \"H\",\n",
    "        \"Cu\",\n",
    "        \"Cr\",\n",
    "        \"Ge\",\n",
    "        \"Na\",\n",
    "        \"P\",\n",
    "        \"N\",\n",
    "        \"C\",\n",
    "        \"Br\",\n",
    "        \"S\",\n",
    "        \"V\",\n",
    "        \"F\",\n",
    "        \"Se\",\n",
    "        \"B\",\n",
    "        \"Cl\",\n",
    "        \"Zn\",\n",
    "        \"Ti\",\n",
    "        \"O\",\n",
    "        \"Si\",\n",
    "        \"Ni\",\n",
    "        \"Ca\",\n",
    "        \"Al\",\n",
    "        \"As\",\n",
    "    },\n",
    "    log_scale_features=True,\n",
    "    standard_scale_features=True,\n",
    ")\n",
    "\n",
    "\n",
    "# make a dataset for each task\n",
    "dict_datasets = {}\n",
    "dict_datasets[\"qtaim\"] = {}\n",
    "dict_datasets[\"bl\"] = {}\n",
    "dict_datasets[\"qtaim\"][\"test\"] = dataset_test_qtaim\n",
    "dict_datasets[\"bl\"][\"test\"] = dataset_bl_test\n",
    "dict_datasets[\"qtaim\"][\"single_list\"] = []\n",
    "dict_datasets[\"bl\"][\"single_list\"] = []\n",
    "\n",
    "for task in qtaim_dict[\"global\"]:\n",
    "    qtaim_dict_temp = qtaim_dict.copy()\n",
    "    qtaim_dict_temp[\"global\"] = [task]\n",
    "    base_dict_bl_temp = bl_keys.copy()\n",
    "    base_dict_bl_temp[\"global\"] = [task]\n",
    "\n",
    "    dict_datasets[\"qtaim\"][\"single_list\"].append(\n",
    "        HeteroGraphGraphLabelClassifierDataset(\n",
    "            file=tox21_test_loc,\n",
    "            allowed_ring_size=[3, 4, 5, 6],\n",
    "            allowed_charges=None,\n",
    "            allowed_spins=None,\n",
    "            self_loop=True,\n",
    "            extra_keys=qtaim_dict_temp,\n",
    "            target_list=[task],\n",
    "            extra_dataset_info={},\n",
    "            debug=False,\n",
    "            impute=False,\n",
    "            element_set={\n",
    "                \"Fe\",\n",
    "                \"H\",\n",
    "                \"Cu\",\n",
    "                \"Cr\",\n",
    "                \"Ge\",\n",
    "                \"Na\",\n",
    "                \"P\",\n",
    "                \"N\",\n",
    "                \"C\",\n",
    "                \"Br\",\n",
    "                \"S\",\n",
    "                \"V\",\n",
    "                \"F\",\n",
    "                \"Se\",\n",
    "                \"B\",\n",
    "                \"Cl\",\n",
    "                \"Zn\",\n",
    "                \"Ti\",\n",
    "                \"O\",\n",
    "                \"Si\",\n",
    "                \"Ni\",\n",
    "                \"Ca\",\n",
    "                \"Al\",\n",
    "                \"As\",\n",
    "            },\n",
    "            log_scale_features=False,\n",
    "            standard_scale_features=True,\n",
    "        )\n",
    "    )\n",
    "\n",
    "    dict_datasets[\"bl\"][\"single_list\"].append(\n",
    "        HeteroGraphGraphLabelClassifierDataset(\n",
    "            file=tox21_test_loc,\n",
    "            allowed_ring_size=[3, 4, 5, 6],\n",
    "            allowed_charges=None,\n",
    "            allowed_spins=None,\n",
    "            self_loop=True,\n",
    "            extra_keys=base_dict_bl_temp,\n",
    "            target_list=[task],\n",
    "            extra_dataset_info={},\n",
    "            debug=False,\n",
    "            impute=False,\n",
    "            element_set={\n",
    "                \"Fe\",\n",
    "                \"H\",\n",
    "                \"Cu\",\n",
    "                \"Cr\",\n",
    "                \"Ge\",\n",
    "                \"Na\",\n",
    "                \"P\",\n",
    "                \"N\",\n",
    "                \"C\",\n",
    "                \"Br\",\n",
    "                \"S\",\n",
    "                \"V\",\n",
    "                \"F\",\n",
    "                \"Se\",\n",
    "                \"B\",\n",
    "                \"Cl\",\n",
    "                \"Zn\",\n",
    "                \"Ti\",\n",
    "                \"O\",\n",
    "                \"Si\",\n",
    "                \"Ni\",\n",
    "                \"Ca\",\n",
    "                \"Al\",\n",
    "                \"As\",\n",
    "            },\n",
    "            log_scale_features=False,\n",
    "            standard_scale_features=True,\n",
    "        )\n",
    "    )\n"
   ]
  },
  {
   "cell_type": "code",
   "execution_count": 60,
   "metadata": {},
   "outputs": [
    {
     "name": "stdout",
     "output_type": "stream",
     "text": [
      "The autoreload extension is already loaded. To reload it, use:\n",
      "  %reload_ext autoreload\n",
      ":::CLASSIFIER MODEL:::\n",
      "... > number of tasks: 12\n",
      ":::CLASSIFIER MODEL:::\n",
      "... > number of tasks: 12\n"
     ]
    }
   ],
   "source": [
    "from pytorch_lightning.callbacks import (\n",
    "    LearningRateMonitor,\n",
    "    EarlyStopping,\n",
    "    ModelCheckpoint,\n",
    ")\n",
    "import pytorch_lightning as pl\n",
    "\n",
    "dataloader_qtaim_train = DataLoaderMoleculeGraphTask(\n",
    "    dataset=dataset_train_qtaim,\n",
    "    batch_size=1024,\n",
    "    shuffle=True\n",
    ")\n",
    "\n",
    "dataloader_qtaim_test = DataLoaderMoleculeGraphTask(\n",
    "    dataset=dataset_test_qtaim,\n",
    "    batch_size=1024, \n",
    "    shuffle=False\n",
    ")\n",
    "\n",
    "\n",
    "dataloader_bl_train = DataLoaderMoleculeGraphTask(\n",
    "    dataset=dataset_bl_train,\n",
    "    batch_size=1024,\n",
    "    shuffle=True\n",
    ")\n",
    "\n",
    "dataloader_bl_test = DataLoaderMoleculeGraphTask(\n",
    "    dataset=dataset_bl_test,\n",
    "    batch_size=1024,\n",
    "    shuffle=False\n",
    ")\n",
    "\n",
    "\n",
    "qtaim_model_bl_dict = {\n",
    "    \"atom_feature_size\": 38,\n",
    "    \"bond_feature_size\": 18,\n",
    "    \"global_feature_size\": 3,\n",
    "    \"conv_fn\": \"ResidualBlock\",\n",
    "    \"target_dict\": {\"global\": ['NR-AR',\n",
    "  'NR-AR-LBD',\n",
    "  'NR-AhR',\n",
    "  'NR-Aromatase',\n",
    "  'NR-ER',\n",
    "  'NR-ER-LBD',\n",
    "  'NR-PPAR-gamma',\n",
    "  'SR-ARE',\n",
    "  'SR-ATAD5',\n",
    "  'SR-HSE',\n",
    "  'SR-MMP',\n",
    "  'SR-p53']},\n",
    "    \"dropout\": 0.2,\n",
    "    \"batch_norm_tf\": True,\n",
    "    \"activation\": \"ReLU\",\n",
    "    \"bias\": True,\n",
    "    \"norm\": \"both\",\n",
    "    \"aggregate\": \"sum\",\n",
    "    \"n_conv_layers\": 4,\n",
    "    \"lr\": 0.001,\n",
    "    \"weight_decay\": 1e-05,\n",
    "    \"lr_plateau_patience\": 10,\n",
    "    \"lr_scale_factor\": 0.1,\n",
    "    \"scheduler_name\": \"reduce_on_plateau\",\n",
    "    \"loss_fn\": \"mse\",\n",
    "    \"resid_n_graph_convs\": 4,\n",
    "    \"embedding_size\": 100,\n",
    "    \"fc_layer_size\": [512, 512, 512],\n",
    "    \"shape_fc\": \"flat\",\n",
    "    \"fc_dropout\": 0.2,\n",
    "    \"fc_batch_norm\": True,\n",
    "    \"n_fc_layers\": 2,\n",
    "    \"global_pooling_fn\": \"MeanPoolingThenCat\",\n",
    "    \"ntypes_pool\": [\"atom\", \"bond\", \"global\"],\n",
    "    \"ntypes_pool_direct_cat\": [\"global\"],\n",
    "    \"lstm_iters\": 15,\n",
    "    \"lstm_layers\": 3,\n",
    "    \"num_heads\": 1,\n",
    "    \"feat_drop\": 0.2,\n",
    "    \"attn_drop\": 0.1,\n",
    "    \"residual\": True,\n",
    "    \"ntasks\": 12,\n",
    "    \"num_heads_gat\": 1,\n",
    "    \"dropout_feat_gat\": 0.2,\n",
    "    \"dropout_attn_gat\": 0.1,\n",
    "    \"hidden_size_gat\": 100,\n",
    "    \"residual_gat\": True,\n",
    "    \"shape_fc\": \"flat\",\n",
    "    \"classifier\": False,\n",
    "    \"batch_norm\": False,\n",
    "    \"pooling_ntypes\": [\"atom\", \"bond\", \"global\"],\n",
    "    \"pooling_ntypes_direct\": [\"global\"],\n",
    "    \"fc_hidden_size_1\": 1024,\n",
    "    \"fc_num_layers\": 2,\n",
    "    \"restore\": False,\n",
    "    \"classifier\": True,\n",
    "}\n",
    "\n",
    "non_qtaim_model_bl_dict = {\n",
    "    \"atom_feature_size\": 31,\n",
    "    \"bond_feature_size\": 7,\n",
    "    \"global_feature_size\": 3,\n",
    "    \"conv_fn\": \"GraphConvDropoutBatch\",\n",
    "    \"target_dict\": {\"global\": \n",
    "        ['NR-AR',\n",
    "        'NR-AR-LBD',\n",
    "        'NR-AhR',\n",
    "        'NR-Aromatase',\n",
    "        'NR-ER',\n",
    "        'NR-ER-LBD',\n",
    "        'NR-PPAR-gamma',\n",
    "        'SR-ARE',\n",
    "        'SR-ATAD5',\n",
    "        'SR-HSE',\n",
    "        'SR-MMP',\n",
    "        'SR-p53']},\n",
    "    \"dropout\": 0.2,\n",
    "    \"batch_norm_tf\": True,\n",
    "    \"activation\": \"ReLU\",\n",
    "    \"bias\": True,\n",
    "    \"norm\": \"both\",\n",
    "    \"fc_num_layers\": 3,\n",
    "    \"aggregate\": \"sum\",\n",
    "    \"n_conv_layers\": 5,\n",
    "    \"lr\": 0.001,\n",
    "    \"weight_decay\": 1e-05,\n",
    "    \"lr_plateau_patience\": 10,\n",
    "    \"lr_scale_factor\": 0.1,\n",
    "    \"scheduler_name\": \"reduce_on_plateau\",\n",
    "    \"loss_fn\": \"mse\",\n",
    "    \"resid_n_graph_convs\": 2,\n",
    "    \"embedding_size\": 50,\n",
    "    \"fc_layer_size\": [1024, 512, 256],\n",
    "    \"fc_dropout\": 0.1,\n",
    "    \"fc_batch_norm\": True,\n",
    "    \"n_fc_layers\": 3,\n",
    "    \"global_pooling_fn\": \"MeanPoolingThenCat\",\n",
    "    \"ntypes_pool\": [\"atom\", \"bond\", \"global\"],\n",
    "    \"ntypes_pool_direct_cat\": [\"global\"],\n",
    "    \"lstm_iters\": 9,\n",
    "    \"lstm_layers\": 2,\n",
    "    \"num_heads\": 3,\n",
    "    \"feat_drop\": 0.1,\n",
    "    \"attn_drop\": 0.1,\n",
    "    \"residual\": False,\n",
    "    \"hidden_size\": 10,\n",
    "    \"ntasks\": 12,\n",
    "    \"shape_fc\": \"cone\",\n",
    "    \"num_heads_gat\": 1,\n",
    "    \"dropout_feat_gat\": 0.1,\n",
    "    \"dropout_attn_gat\": 0.1,\n",
    "    \"hidden_size_gat\": 10,\n",
    "    \"residual_gat\": False,\n",
    "    \"batch_norm\": True,\n",
    "    \"pooling_ntypes\": [\"atom\", \"bond\", \"global\"],\n",
    "    \"pooling_ntypes_direct\": [\"global\"],\n",
    "    \"fc_hidden_size_1\": 1024,\n",
    "    \"restore\": False,\n",
    "    \"classifier\": True,\n",
    "}\n",
    "\n",
    "%load_ext autoreload\n",
    "%autoreload 2\n",
    "model_temp_qtaim = load_graph_level_model_from_config(qtaim_model_bl_dict)\n",
    "model_temp_noqtaim = load_graph_level_model_from_config(non_qtaim_model_bl_dict)\n"
   ]
  },
  {
   "cell_type": "code",
   "execution_count": 61,
   "metadata": {},
   "outputs": [
    {
     "name": "stderr",
     "output_type": "stream",
     "text": [
      "Using bfloat16 Automatic Mixed Precision (AMP)\n",
      "GPU available: True (cuda), used: True\n",
      "TPU available: False, using: 0 TPU cores\n",
      "IPU available: False, using: 0 IPUs\n",
      "HPU available: False, using: 0 HPUs\n"
     ]
    },
    {
     "name": "stderr",
     "output_type": "stream",
     "text": [
      "LOCAL_RANK: 0 - CUDA_VISIBLE_DEVICES: [0,1]\n",
      "\n",
      "   | Name        | Type               | Params\n",
      "----------------------------------------------------\n",
      "0  | activation  | ReLU               | 0     \n",
      "1  | embedding   | UnifySize          | 5.9 K \n",
      "2  | conv_layers | ModuleList         | 336 K \n",
      "3  | readout     | MeanPoolingThenCat | 0     \n",
      "4  | fc_layers   | ModuleList         | 1.3 M \n",
      "5  | train_auroc | MultilabelAUROC    | 0     \n",
      "6  | train_acc   | MultilabelAccuracy | 0     \n",
      "7  | train_f1    | MultilabelF1Score  | 0     \n",
      "8  | val_auroc   | MultilabelAUROC    | 0     \n",
      "9  | val_acc     | MultilabelAccuracy | 0     \n",
      "10 | val_f1      | MultilabelF1Score  | 0     \n",
      "11 | test_auroc  | MultilabelAUROC    | 0     \n",
      "12 | test_acc    | MultilabelAccuracy | 0     \n",
      "13 | test_f1     | MultilabelF1Score  | 0     \n",
      "14 | loss        | ModuleList         | 0     \n",
      "----------------------------------------------------\n",
      "1.6 M     Trainable params\n",
      "0         Non-trainable params\n",
      "1.6 M     Total params\n",
      "6.557     Total estimated model params size (MB)\n",
      "/home/santiagovargas/anaconda3/envs/qtaim_embed/lib/python3.11/site-packages/pytorch_lightning/trainer/connectors/data_connector.py:442: PossibleUserWarning: The dataloader, train_dataloader, does not have many workers which may be a bottleneck. Consider increasing the value of the `num_workers` argument` (try 32 which is the number of cpus on this machine) in the `DataLoader` init to improve performance.\n",
      "  rank_zero_warn(\n",
      "/home/santiagovargas/anaconda3/envs/qtaim_embed/lib/python3.11/site-packages/pytorch_lightning/loops/fit_loop.py:281: PossibleUserWarning: The number of training batches (3) is smaller than the logging interval Trainer(log_every_n_steps=50). Set a lower value for log_every_n_steps if you want to see logs for the training epoch.\n",
      "  rank_zero_warn(\n",
      "/home/santiagovargas/anaconda3/envs/qtaim_embed/lib/python3.11/site-packages/pytorch_lightning/trainer/connectors/data_connector.py:442: PossibleUserWarning: The dataloader, val_dataloader, does not have many workers which may be a bottleneck. Consider increasing the value of the `num_workers` argument` (try 32 which is the number of cpus on this machine) in the `DataLoader` init to improve performance.\n",
      "  rank_zero_warn(\n"
     ]
    },
    {
     "data": {
      "application/vnd.jupyter.widget-view+json": {
       "model_id": "ca5c7a56b2da4d0a8b8d36cb5b7da918",
       "version_major": 2,
       "version_minor": 0
      },
      "text/plain": [
       "Training: 0it [00:00, ?it/s]"
      ]
     },
     "metadata": {},
     "output_type": "display_data"
    },
    {
     "data": {
      "application/vnd.jupyter.widget-view+json": {
       "model_id": "1dd94cbac2b44c1ba814d7c1be72c634",
       "version_major": 2,
       "version_minor": 0
      },
      "text/plain": [
       "Validation: 0it [00:00, ?it/s]"
      ]
     },
     "metadata": {},
     "output_type": "display_data"
    },
    {
     "data": {
      "application/vnd.jupyter.widget-view+json": {
       "model_id": "22f93c3362cf4e7f89f91d38664d3f2f",
       "version_major": 2,
       "version_minor": 0
      },
      "text/plain": [
       "Validation: 0it [00:00, ?it/s]"
      ]
     },
     "metadata": {},
     "output_type": "display_data"
    },
    {
     "data": {
      "application/vnd.jupyter.widget-view+json": {
       "model_id": "e8ab4c7d1c524289bdb91cbdd568959e",
       "version_major": 2,
       "version_minor": 0
      },
      "text/plain": [
       "Validation: 0it [00:00, ?it/s]"
      ]
     },
     "metadata": {},
     "output_type": "display_data"
    },
    {
     "data": {
      "application/vnd.jupyter.widget-view+json": {
       "model_id": "af8531d5fb2d429094d7ae046cc9ecf5",
       "version_major": 2,
       "version_minor": 0
      },
      "text/plain": [
       "Validation: 0it [00:00, ?it/s]"
      ]
     },
     "metadata": {},
     "output_type": "display_data"
    },
    {
     "data": {
      "application/vnd.jupyter.widget-view+json": {
       "model_id": "5e0ec8a9ca934338a4b77f4a5e120414",
       "version_major": 2,
       "version_minor": 0
      },
      "text/plain": [
       "Validation: 0it [00:00, ?it/s]"
      ]
     },
     "metadata": {},
     "output_type": "display_data"
    },
    {
     "data": {
      "application/vnd.jupyter.widget-view+json": {
       "model_id": "e03fb42adc5f44ebb21d82cda1f599a1",
       "version_major": 2,
       "version_minor": 0
      },
      "text/plain": [
       "Validation: 0it [00:00, ?it/s]"
      ]
     },
     "metadata": {},
     "output_type": "display_data"
    },
    {
     "data": {
      "application/vnd.jupyter.widget-view+json": {
       "model_id": "d570594b1d984575af7d18dc3c078864",
       "version_major": 2,
       "version_minor": 0
      },
      "text/plain": [
       "Validation: 0it [00:00, ?it/s]"
      ]
     },
     "metadata": {},
     "output_type": "display_data"
    },
    {
     "data": {
      "application/vnd.jupyter.widget-view+json": {
       "model_id": "d68c121750db486280e7768381b6d07a",
       "version_major": 2,
       "version_minor": 0
      },
      "text/plain": [
       "Validation: 0it [00:00, ?it/s]"
      ]
     },
     "metadata": {},
     "output_type": "display_data"
    },
    {
     "data": {
      "application/vnd.jupyter.widget-view+json": {
       "model_id": "c7b4b5e9c9624b239b8fbba96db177a4",
       "version_major": 2,
       "version_minor": 0
      },
      "text/plain": [
       "Validation: 0it [00:00, ?it/s]"
      ]
     },
     "metadata": {},
     "output_type": "display_data"
    },
    {
     "data": {
      "application/vnd.jupyter.widget-view+json": {
       "model_id": "29f5469a6e824248ae2e282cf89461fb",
       "version_major": 2,
       "version_minor": 0
      },
      "text/plain": [
       "Validation: 0it [00:00, ?it/s]"
      ]
     },
     "metadata": {},
     "output_type": "display_data"
    },
    {
     "data": {
      "application/vnd.jupyter.widget-view+json": {
       "model_id": "012686bbc0ae4269b0c35c3fab897d7e",
       "version_major": 2,
       "version_minor": 0
      },
      "text/plain": [
       "Validation: 0it [00:00, ?it/s]"
      ]
     },
     "metadata": {},
     "output_type": "display_data"
    },
    {
     "data": {
      "application/vnd.jupyter.widget-view+json": {
       "model_id": "336f33a7cc3841b89cb25f1289eb9c2e",
       "version_major": 2,
       "version_minor": 0
      },
      "text/plain": [
       "Validation: 0it [00:00, ?it/s]"
      ]
     },
     "metadata": {},
     "output_type": "display_data"
    },
    {
     "data": {
      "application/vnd.jupyter.widget-view+json": {
       "model_id": "8859f16b316042bb90966698f20f583c",
       "version_major": 2,
       "version_minor": 0
      },
      "text/plain": [
       "Validation: 0it [00:00, ?it/s]"
      ]
     },
     "metadata": {},
     "output_type": "display_data"
    },
    {
     "data": {
      "application/vnd.jupyter.widget-view+json": {
       "model_id": "ea0e61402e8b43eeb5c2f68a57e21df9",
       "version_major": 2,
       "version_minor": 0
      },
      "text/plain": [
       "Validation: 0it [00:00, ?it/s]"
      ]
     },
     "metadata": {},
     "output_type": "display_data"
    },
    {
     "data": {
      "application/vnd.jupyter.widget-view+json": {
       "model_id": "efcf4e71e66f4be1824461473c39ba2d",
       "version_major": 2,
       "version_minor": 0
      },
      "text/plain": [
       "Validation: 0it [00:00, ?it/s]"
      ]
     },
     "metadata": {},
     "output_type": "display_data"
    },
    {
     "data": {
      "application/vnd.jupyter.widget-view+json": {
       "model_id": "d8b391cb6b1d488aaf18fd0434a42fc6",
       "version_major": 2,
       "version_minor": 0
      },
      "text/plain": [
       "Validation: 0it [00:00, ?it/s]"
      ]
     },
     "metadata": {},
     "output_type": "display_data"
    },
    {
     "data": {
      "application/vnd.jupyter.widget-view+json": {
       "model_id": "c586b94dc4ea4b158de44526db3562d2",
       "version_major": 2,
       "version_minor": 0
      },
      "text/plain": [
       "Validation: 0it [00:00, ?it/s]"
      ]
     },
     "metadata": {},
     "output_type": "display_data"
    },
    {
     "data": {
      "application/vnd.jupyter.widget-view+json": {
       "model_id": "bc96e8c5a67f418db5afcaf1d6d701d3",
       "version_major": 2,
       "version_minor": 0
      },
      "text/plain": [
       "Validation: 0it [00:00, ?it/s]"
      ]
     },
     "metadata": {},
     "output_type": "display_data"
    },
    {
     "data": {
      "application/vnd.jupyter.widget-view+json": {
       "model_id": "65965ace4add4541b52019770b91251b",
       "version_major": 2,
       "version_minor": 0
      },
      "text/plain": [
       "Validation: 0it [00:00, ?it/s]"
      ]
     },
     "metadata": {},
     "output_type": "display_data"
    },
    {
     "data": {
      "application/vnd.jupyter.widget-view+json": {
       "model_id": "5f41418a16d2460fb82d90943bd9704c",
       "version_major": 2,
       "version_minor": 0
      },
      "text/plain": [
       "Validation: 0it [00:00, ?it/s]"
      ]
     },
     "metadata": {},
     "output_type": "display_data"
    },
    {
     "data": {
      "application/vnd.jupyter.widget-view+json": {
       "model_id": "3c5985640701406f88d555407a93b9b5",
       "version_major": 2,
       "version_minor": 0
      },
      "text/plain": [
       "Validation: 0it [00:00, ?it/s]"
      ]
     },
     "metadata": {},
     "output_type": "display_data"
    },
    {
     "data": {
      "application/vnd.jupyter.widget-view+json": {
       "model_id": "c8ccf609a9b6444fa70084e97025acfb",
       "version_major": 2,
       "version_minor": 0
      },
      "text/plain": [
       "Validation: 0it [00:00, ?it/s]"
      ]
     },
     "metadata": {},
     "output_type": "display_data"
    },
    {
     "data": {
      "application/vnd.jupyter.widget-view+json": {
       "model_id": "db0e91f4277d4a65bbe1618d49d62048",
       "version_major": 2,
       "version_minor": 0
      },
      "text/plain": [
       "Validation: 0it [00:00, ?it/s]"
      ]
     },
     "metadata": {},
     "output_type": "display_data"
    },
    {
     "data": {
      "application/vnd.jupyter.widget-view+json": {
       "model_id": "9e3f4d4315354e23ae1e5bc12c08ec1e",
       "version_major": 2,
       "version_minor": 0
      },
      "text/plain": [
       "Validation: 0it [00:00, ?it/s]"
      ]
     },
     "metadata": {},
     "output_type": "display_data"
    },
    {
     "data": {
      "application/vnd.jupyter.widget-view+json": {
       "model_id": "08dedc6338224c4c8f8013264f2623ef",
       "version_major": 2,
       "version_minor": 0
      },
      "text/plain": [
       "Validation: 0it [00:00, ?it/s]"
      ]
     },
     "metadata": {},
     "output_type": "display_data"
    },
    {
     "data": {
      "application/vnd.jupyter.widget-view+json": {
       "model_id": "2c90c4728bb743608b121e4d49648f76",
       "version_major": 2,
       "version_minor": 0
      },
      "text/plain": [
       "Validation: 0it [00:00, ?it/s]"
      ]
     },
     "metadata": {},
     "output_type": "display_data"
    },
    {
     "data": {
      "application/vnd.jupyter.widget-view+json": {
       "model_id": "31f12711c3704a9fbd931f1409984cbf",
       "version_major": 2,
       "version_minor": 0
      },
      "text/plain": [
       "Validation: 0it [00:00, ?it/s]"
      ]
     },
     "metadata": {},
     "output_type": "display_data"
    },
    {
     "data": {
      "application/vnd.jupyter.widget-view+json": {
       "model_id": "44c45185647943859a728ce923c6af5a",
       "version_major": 2,
       "version_minor": 0
      },
      "text/plain": [
       "Validation: 0it [00:00, ?it/s]"
      ]
     },
     "metadata": {},
     "output_type": "display_data"
    },
    {
     "data": {
      "application/vnd.jupyter.widget-view+json": {
       "model_id": "fc7b8c04d76a42469726e644e91a6f87",
       "version_major": 2,
       "version_minor": 0
      },
      "text/plain": [
       "Validation: 0it [00:00, ?it/s]"
      ]
     },
     "metadata": {},
     "output_type": "display_data"
    },
    {
     "data": {
      "application/vnd.jupyter.widget-view+json": {
       "model_id": "332bbbf563114f0889a2154a7afae6a0",
       "version_major": 2,
       "version_minor": 0
      },
      "text/plain": [
       "Validation: 0it [00:00, ?it/s]"
      ]
     },
     "metadata": {},
     "output_type": "display_data"
    },
    {
     "data": {
      "application/vnd.jupyter.widget-view+json": {
       "model_id": "98bcfbc6415b4f6bb0e2c93c9fa1ddb9",
       "version_major": 2,
       "version_minor": 0
      },
      "text/plain": [
       "Validation: 0it [00:00, ?it/s]"
      ]
     },
     "metadata": {},
     "output_type": "display_data"
    },
    {
     "data": {
      "application/vnd.jupyter.widget-view+json": {
       "model_id": "afcea3b976d34a10b0a384dd14737504",
       "version_major": 2,
       "version_minor": 0
      },
      "text/plain": [
       "Validation: 0it [00:00, ?it/s]"
      ]
     },
     "metadata": {},
     "output_type": "display_data"
    },
    {
     "data": {
      "application/vnd.jupyter.widget-view+json": {
       "model_id": "c0091eae8afa433cb07bc2cabb7e5531",
       "version_major": 2,
       "version_minor": 0
      },
      "text/plain": [
       "Validation: 0it [00:00, ?it/s]"
      ]
     },
     "metadata": {},
     "output_type": "display_data"
    },
    {
     "data": {
      "application/vnd.jupyter.widget-view+json": {
       "model_id": "e611f0c3a9ef4e21ab146c7820b9a0c0",
       "version_major": 2,
       "version_minor": 0
      },
      "text/plain": [
       "Validation: 0it [00:00, ?it/s]"
      ]
     },
     "metadata": {},
     "output_type": "display_data"
    },
    {
     "name": "stdout",
     "output_type": "stream",
     "text": [
      "Epoch 00034: reducing learning rate of group 0 to 1.0000e-04.\n"
     ]
    },
    {
     "data": {
      "application/vnd.jupyter.widget-view+json": {
       "model_id": "6c16e165fa7c43eeb5f657bb161de52f",
       "version_major": 2,
       "version_minor": 0
      },
      "text/plain": [
       "Validation: 0it [00:00, ?it/s]"
      ]
     },
     "metadata": {},
     "output_type": "display_data"
    },
    {
     "data": {
      "application/vnd.jupyter.widget-view+json": {
       "model_id": "2a6e43d31ec345e5be57a8001981ab55",
       "version_major": 2,
       "version_minor": 0
      },
      "text/plain": [
       "Validation: 0it [00:00, ?it/s]"
      ]
     },
     "metadata": {},
     "output_type": "display_data"
    },
    {
     "data": {
      "application/vnd.jupyter.widget-view+json": {
       "model_id": "31d706850df645eb87523b433547faad",
       "version_major": 2,
       "version_minor": 0
      },
      "text/plain": [
       "Validation: 0it [00:00, ?it/s]"
      ]
     },
     "metadata": {},
     "output_type": "display_data"
    },
    {
     "data": {
      "application/vnd.jupyter.widget-view+json": {
       "model_id": "b33f200f857842048f61d2a61c428ea1",
       "version_major": 2,
       "version_minor": 0
      },
      "text/plain": [
       "Validation: 0it [00:00, ?it/s]"
      ]
     },
     "metadata": {},
     "output_type": "display_data"
    },
    {
     "data": {
      "application/vnd.jupyter.widget-view+json": {
       "model_id": "f4fc0a239a60496290126e8c82dda39f",
       "version_major": 2,
       "version_minor": 0
      },
      "text/plain": [
       "Validation: 0it [00:00, ?it/s]"
      ]
     },
     "metadata": {},
     "output_type": "display_data"
    },
    {
     "data": {
      "application/vnd.jupyter.widget-view+json": {
       "model_id": "bfcf0dc52de3446493f8cc7c2c529e66",
       "version_major": 2,
       "version_minor": 0
      },
      "text/plain": [
       "Validation: 0it [00:00, ?it/s]"
      ]
     },
     "metadata": {},
     "output_type": "display_data"
    },
    {
     "data": {
      "application/vnd.jupyter.widget-view+json": {
       "model_id": "2981562e08864cabbba00746b11f2a8c",
       "version_major": 2,
       "version_minor": 0
      },
      "text/plain": [
       "Validation: 0it [00:00, ?it/s]"
      ]
     },
     "metadata": {},
     "output_type": "display_data"
    },
    {
     "data": {
      "application/vnd.jupyter.widget-view+json": {
       "model_id": "d215963e6bbf410aa103fdd2c95f742b",
       "version_major": 2,
       "version_minor": 0
      },
      "text/plain": [
       "Validation: 0it [00:00, ?it/s]"
      ]
     },
     "metadata": {},
     "output_type": "display_data"
    },
    {
     "data": {
      "application/vnd.jupyter.widget-view+json": {
       "model_id": "4c005225e80644c2809acf929b14c350",
       "version_major": 2,
       "version_minor": 0
      },
      "text/plain": [
       "Validation: 0it [00:00, ?it/s]"
      ]
     },
     "metadata": {},
     "output_type": "display_data"
    },
    {
     "data": {
      "application/vnd.jupyter.widget-view+json": {
       "model_id": "17d584a2a92f421e88f03802a5040710",
       "version_major": 2,
       "version_minor": 0
      },
      "text/plain": [
       "Validation: 0it [00:00, ?it/s]"
      ]
     },
     "metadata": {},
     "output_type": "display_data"
    },
    {
     "data": {
      "application/vnd.jupyter.widget-view+json": {
       "model_id": "f48ab9b50bad4649a6cbedd122499b95",
       "version_major": 2,
       "version_minor": 0
      },
      "text/plain": [
       "Validation: 0it [00:00, ?it/s]"
      ]
     },
     "metadata": {},
     "output_type": "display_data"
    },
    {
     "name": "stdout",
     "output_type": "stream",
     "text": [
      "Epoch 00045: reducing learning rate of group 0 to 1.0000e-05.\n"
     ]
    },
    {
     "data": {
      "application/vnd.jupyter.widget-view+json": {
       "model_id": "c444c39b16694ff5b596f56b28dc7288",
       "version_major": 2,
       "version_minor": 0
      },
      "text/plain": [
       "Validation: 0it [00:00, ?it/s]"
      ]
     },
     "metadata": {},
     "output_type": "display_data"
    },
    {
     "data": {
      "application/vnd.jupyter.widget-view+json": {
       "model_id": "993ef72068004fe78923f126405ddcfc",
       "version_major": 2,
       "version_minor": 0
      },
      "text/plain": [
       "Validation: 0it [00:00, ?it/s]"
      ]
     },
     "metadata": {},
     "output_type": "display_data"
    },
    {
     "data": {
      "application/vnd.jupyter.widget-view+json": {
       "model_id": "5f86e81031a44273a43f1af513192736",
       "version_major": 2,
       "version_minor": 0
      },
      "text/plain": [
       "Validation: 0it [00:00, ?it/s]"
      ]
     },
     "metadata": {},
     "output_type": "display_data"
    },
    {
     "data": {
      "application/vnd.jupyter.widget-view+json": {
       "model_id": "28e24df2591141b38eda1d246aac7419",
       "version_major": 2,
       "version_minor": 0
      },
      "text/plain": [
       "Validation: 0it [00:00, ?it/s]"
      ]
     },
     "metadata": {},
     "output_type": "display_data"
    },
    {
     "data": {
      "application/vnd.jupyter.widget-view+json": {
       "model_id": "2284c26d340c4cd7afbcab31227f81c4",
       "version_major": 2,
       "version_minor": 0
      },
      "text/plain": [
       "Validation: 0it [00:00, ?it/s]"
      ]
     },
     "metadata": {},
     "output_type": "display_data"
    },
    {
     "data": {
      "application/vnd.jupyter.widget-view+json": {
       "model_id": "7aae5d0cec644b80abceeefd176840b1",
       "version_major": 2,
       "version_minor": 0
      },
      "text/plain": [
       "Validation: 0it [00:00, ?it/s]"
      ]
     },
     "metadata": {},
     "output_type": "display_data"
    },
    {
     "data": {
      "application/vnd.jupyter.widget-view+json": {
       "model_id": "c4c740146d4a4c48b3159b7674ab1501",
       "version_major": 2,
       "version_minor": 0
      },
      "text/plain": [
       "Validation: 0it [00:00, ?it/s]"
      ]
     },
     "metadata": {},
     "output_type": "display_data"
    },
    {
     "data": {
      "application/vnd.jupyter.widget-view+json": {
       "model_id": "d240e67807fb4058b5afc05856d3bb2c",
       "version_major": 2,
       "version_minor": 0
      },
      "text/plain": [
       "Validation: 0it [00:00, ?it/s]"
      ]
     },
     "metadata": {},
     "output_type": "display_data"
    },
    {
     "data": {
      "application/vnd.jupyter.widget-view+json": {
       "model_id": "79154f6f0c05426bba2a3ac4d221393d",
       "version_major": 2,
       "version_minor": 0
      },
      "text/plain": [
       "Validation: 0it [00:00, ?it/s]"
      ]
     },
     "metadata": {},
     "output_type": "display_data"
    },
    {
     "data": {
      "application/vnd.jupyter.widget-view+json": {
       "model_id": "da9645757fcf4acebcf56ddaa7dbecd1",
       "version_major": 2,
       "version_minor": 0
      },
      "text/plain": [
       "Validation: 0it [00:00, ?it/s]"
      ]
     },
     "metadata": {},
     "output_type": "display_data"
    },
    {
     "data": {
      "application/vnd.jupyter.widget-view+json": {
       "model_id": "bb37a38af0ce4c10bbbe8bf94f2f85f6",
       "version_major": 2,
       "version_minor": 0
      },
      "text/plain": [
       "Validation: 0it [00:00, ?it/s]"
      ]
     },
     "metadata": {},
     "output_type": "display_data"
    },
    {
     "name": "stdout",
     "output_type": "stream",
     "text": [
      "Epoch 00056: reducing learning rate of group 0 to 1.0000e-06.\n"
     ]
    },
    {
     "data": {
      "application/vnd.jupyter.widget-view+json": {
       "model_id": "fbc1228f27d1497ba89e9d032ddc1c04",
       "version_major": 2,
       "version_minor": 0
      },
      "text/plain": [
       "Validation: 0it [00:00, ?it/s]"
      ]
     },
     "metadata": {},
     "output_type": "display_data"
    },
    {
     "data": {
      "application/vnd.jupyter.widget-view+json": {
       "model_id": "895ac18dcd1b406f924b5879c9d3d5bd",
       "version_major": 2,
       "version_minor": 0
      },
      "text/plain": [
       "Validation: 0it [00:00, ?it/s]"
      ]
     },
     "metadata": {},
     "output_type": "display_data"
    },
    {
     "data": {
      "application/vnd.jupyter.widget-view+json": {
       "model_id": "7ebb06acc9f54e4c9a47d6a4ceec5c0d",
       "version_major": 2,
       "version_minor": 0
      },
      "text/plain": [
       "Validation: 0it [00:00, ?it/s]"
      ]
     },
     "metadata": {},
     "output_type": "display_data"
    },
    {
     "data": {
      "application/vnd.jupyter.widget-view+json": {
       "model_id": "c88b9cd02fb1427eabb1ebf9bb0adad3",
       "version_major": 2,
       "version_minor": 0
      },
      "text/plain": [
       "Validation: 0it [00:00, ?it/s]"
      ]
     },
     "metadata": {},
     "output_type": "display_data"
    },
    {
     "data": {
      "application/vnd.jupyter.widget-view+json": {
       "model_id": "2b871c1a9a7f4031a5043f5557a15072",
       "version_major": 2,
       "version_minor": 0
      },
      "text/plain": [
       "Validation: 0it [00:00, ?it/s]"
      ]
     },
     "metadata": {},
     "output_type": "display_data"
    },
    {
     "data": {
      "application/vnd.jupyter.widget-view+json": {
       "model_id": "3d81451f51bb42e2b07aae386e50c8bb",
       "version_major": 2,
       "version_minor": 0
      },
      "text/plain": [
       "Validation: 0it [00:00, ?it/s]"
      ]
     },
     "metadata": {},
     "output_type": "display_data"
    },
    {
     "data": {
      "application/vnd.jupyter.widget-view+json": {
       "model_id": "ef39ab5f89c949b4bd217152aaf6fe35",
       "version_major": 2,
       "version_minor": 0
      },
      "text/plain": [
       "Validation: 0it [00:00, ?it/s]"
      ]
     },
     "metadata": {},
     "output_type": "display_data"
    },
    {
     "data": {
      "application/vnd.jupyter.widget-view+json": {
       "model_id": "ba13e88f45344a0fb66ca5f67fe7baac",
       "version_major": 2,
       "version_minor": 0
      },
      "text/plain": [
       "Validation: 0it [00:00, ?it/s]"
      ]
     },
     "metadata": {},
     "output_type": "display_data"
    },
    {
     "data": {
      "application/vnd.jupyter.widget-view+json": {
       "model_id": "c2be0f1d12274a09b0bf33e84b52c58c",
       "version_major": 2,
       "version_minor": 0
      },
      "text/plain": [
       "Validation: 0it [00:00, ?it/s]"
      ]
     },
     "metadata": {},
     "output_type": "display_data"
    },
    {
     "data": {
      "application/vnd.jupyter.widget-view+json": {
       "model_id": "33a8807b42784f80a0cf4599a4ef9c48",
       "version_major": 2,
       "version_minor": 0
      },
      "text/plain": [
       "Validation: 0it [00:00, ?it/s]"
      ]
     },
     "metadata": {},
     "output_type": "display_data"
    },
    {
     "data": {
      "application/vnd.jupyter.widget-view+json": {
       "model_id": "fd6f749c7df84328a98c4c57f5bc12b2",
       "version_major": 2,
       "version_minor": 0
      },
      "text/plain": [
       "Validation: 0it [00:00, ?it/s]"
      ]
     },
     "metadata": {},
     "output_type": "display_data"
    },
    {
     "name": "stdout",
     "output_type": "stream",
     "text": [
      "Epoch 00067: reducing learning rate of group 0 to 1.0000e-07.\n"
     ]
    },
    {
     "data": {
      "application/vnd.jupyter.widget-view+json": {
       "model_id": "0b5351bc529f420ebad02e03f5a9bcb3",
       "version_major": 2,
       "version_minor": 0
      },
      "text/plain": [
       "Validation: 0it [00:00, ?it/s]"
      ]
     },
     "metadata": {},
     "output_type": "display_data"
    },
    {
     "data": {
      "application/vnd.jupyter.widget-view+json": {
       "model_id": "752af059b7344e368bbf2d25a95a47a1",
       "version_major": 2,
       "version_minor": 0
      },
      "text/plain": [
       "Validation: 0it [00:00, ?it/s]"
      ]
     },
     "metadata": {},
     "output_type": "display_data"
    },
    {
     "data": {
      "application/vnd.jupyter.widget-view+json": {
       "model_id": "4656b73fc08340058852acd4468b4ca2",
       "version_major": 2,
       "version_minor": 0
      },
      "text/plain": [
       "Validation: 0it [00:00, ?it/s]"
      ]
     },
     "metadata": {},
     "output_type": "display_data"
    },
    {
     "data": {
      "application/vnd.jupyter.widget-view+json": {
       "model_id": "9f78cf10af8341938a4a170446368735",
       "version_major": 2,
       "version_minor": 0
      },
      "text/plain": [
       "Validation: 0it [00:00, ?it/s]"
      ]
     },
     "metadata": {},
     "output_type": "display_data"
    },
    {
     "data": {
      "application/vnd.jupyter.widget-view+json": {
       "model_id": "7156ba920ad94fadb826f7b255d0c02f",
       "version_major": 2,
       "version_minor": 0
      },
      "text/plain": [
       "Validation: 0it [00:00, ?it/s]"
      ]
     },
     "metadata": {},
     "output_type": "display_data"
    },
    {
     "data": {
      "application/vnd.jupyter.widget-view+json": {
       "model_id": "9d1935a300ec4fccb53ba5bb9248dc96",
       "version_major": 2,
       "version_minor": 0
      },
      "text/plain": [
       "Validation: 0it [00:00, ?it/s]"
      ]
     },
     "metadata": {},
     "output_type": "display_data"
    },
    {
     "data": {
      "application/vnd.jupyter.widget-view+json": {
       "model_id": "08f18338a112421c928bed22ddc8a60a",
       "version_major": 2,
       "version_minor": 0
      },
      "text/plain": [
       "Validation: 0it [00:00, ?it/s]"
      ]
     },
     "metadata": {},
     "output_type": "display_data"
    },
    {
     "data": {
      "application/vnd.jupyter.widget-view+json": {
       "model_id": "e4f59cecc63b4cbfa3db28b246a2e49b",
       "version_major": 2,
       "version_minor": 0
      },
      "text/plain": [
       "Validation: 0it [00:00, ?it/s]"
      ]
     },
     "metadata": {},
     "output_type": "display_data"
    },
    {
     "data": {
      "application/vnd.jupyter.widget-view+json": {
       "model_id": "d418706a3afc4eddb13b2fadd46a6922",
       "version_major": 2,
       "version_minor": 0
      },
      "text/plain": [
       "Validation: 0it [00:00, ?it/s]"
      ]
     },
     "metadata": {},
     "output_type": "display_data"
    },
    {
     "data": {
      "application/vnd.jupyter.widget-view+json": {
       "model_id": "6b36a0fa4439489bbcdf2bb24dce6abc",
       "version_major": 2,
       "version_minor": 0
      },
      "text/plain": [
       "Validation: 0it [00:00, ?it/s]"
      ]
     },
     "metadata": {},
     "output_type": "display_data"
    },
    {
     "data": {
      "application/vnd.jupyter.widget-view+json": {
       "model_id": "f55b16983def4cb49b5b5fcb98bb8d81",
       "version_major": 2,
       "version_minor": 0
      },
      "text/plain": [
       "Validation: 0it [00:00, ?it/s]"
      ]
     },
     "metadata": {},
     "output_type": "display_data"
    },
    {
     "name": "stdout",
     "output_type": "stream",
     "text": [
      "Epoch 00078: reducing learning rate of group 0 to 1.0000e-08.\n"
     ]
    },
    {
     "data": {
      "application/vnd.jupyter.widget-view+json": {
       "model_id": "5e0490972e2b488a9304eaa7f6527dd8",
       "version_major": 2,
       "version_minor": 0
      },
      "text/plain": [
       "Validation: 0it [00:00, ?it/s]"
      ]
     },
     "metadata": {},
     "output_type": "display_data"
    },
    {
     "data": {
      "application/vnd.jupyter.widget-view+json": {
       "model_id": "3e42fecb05be4bb8973ff05dfb6bdc07",
       "version_major": 2,
       "version_minor": 0
      },
      "text/plain": [
       "Validation: 0it [00:00, ?it/s]"
      ]
     },
     "metadata": {},
     "output_type": "display_data"
    },
    {
     "data": {
      "application/vnd.jupyter.widget-view+json": {
       "model_id": "2be54adf1fdc47d9b4329a4329d2e8a9",
       "version_major": 2,
       "version_minor": 0
      },
      "text/plain": [
       "Validation: 0it [00:00, ?it/s]"
      ]
     },
     "metadata": {},
     "output_type": "display_data"
    },
    {
     "data": {
      "application/vnd.jupyter.widget-view+json": {
       "model_id": "695e093808f947ffa3ba586b5ff5a990",
       "version_major": 2,
       "version_minor": 0
      },
      "text/plain": [
       "Validation: 0it [00:00, ?it/s]"
      ]
     },
     "metadata": {},
     "output_type": "display_data"
    },
    {
     "data": {
      "application/vnd.jupyter.widget-view+json": {
       "model_id": "230f53483bdf46ff86dbf4fd73235949",
       "version_major": 2,
       "version_minor": 0
      },
      "text/plain": [
       "Validation: 0it [00:00, ?it/s]"
      ]
     },
     "metadata": {},
     "output_type": "display_data"
    },
    {
     "data": {
      "application/vnd.jupyter.widget-view+json": {
       "model_id": "04a15a66d86f46c28e221973bbd0d7b3",
       "version_major": 2,
       "version_minor": 0
      },
      "text/plain": [
       "Validation: 0it [00:00, ?it/s]"
      ]
     },
     "metadata": {},
     "output_type": "display_data"
    },
    {
     "data": {
      "application/vnd.jupyter.widget-view+json": {
       "model_id": "3768213b81a043a5a28973fb3b330ff5",
       "version_major": 2,
       "version_minor": 0
      },
      "text/plain": [
       "Validation: 0it [00:00, ?it/s]"
      ]
     },
     "metadata": {},
     "output_type": "display_data"
    },
    {
     "data": {
      "application/vnd.jupyter.widget-view+json": {
       "model_id": "fdee5f0502694da2b63674c00a151c5b",
       "version_major": 2,
       "version_minor": 0
      },
      "text/plain": [
       "Validation: 0it [00:00, ?it/s]"
      ]
     },
     "metadata": {},
     "output_type": "display_data"
    },
    {
     "data": {
      "application/vnd.jupyter.widget-view+json": {
       "model_id": "6b1625c6ba1549c3a71f1379d6343ed3",
       "version_major": 2,
       "version_minor": 0
      },
      "text/plain": [
       "Validation: 0it [00:00, ?it/s]"
      ]
     },
     "metadata": {},
     "output_type": "display_data"
    },
    {
     "data": {
      "application/vnd.jupyter.widget-view+json": {
       "model_id": "dd80439d936d4e8a9eb6dbc0be44076a",
       "version_major": 2,
       "version_minor": 0
      },
      "text/plain": [
       "Validation: 0it [00:00, ?it/s]"
      ]
     },
     "metadata": {},
     "output_type": "display_data"
    },
    {
     "data": {
      "application/vnd.jupyter.widget-view+json": {
       "model_id": "36a02155d93f404a9149c46f8ddc9478",
       "version_major": 2,
       "version_minor": 0
      },
      "text/plain": [
       "Validation: 0it [00:00, ?it/s]"
      ]
     },
     "metadata": {},
     "output_type": "display_data"
    },
    {
     "data": {
      "application/vnd.jupyter.widget-view+json": {
       "model_id": "b42763b1611847b5b13fc0aec69e8a70",
       "version_major": 2,
       "version_minor": 0
      },
      "text/plain": [
       "Validation: 0it [00:00, ?it/s]"
      ]
     },
     "metadata": {},
     "output_type": "display_data"
    },
    {
     "data": {
      "application/vnd.jupyter.widget-view+json": {
       "model_id": "b6f595670cf84cd680dc82e448ef1232",
       "version_major": 2,
       "version_minor": 0
      },
      "text/plain": [
       "Validation: 0it [00:00, ?it/s]"
      ]
     },
     "metadata": {},
     "output_type": "display_data"
    },
    {
     "data": {
      "application/vnd.jupyter.widget-view+json": {
       "model_id": "5c53e6135d304e69962b743b7bf2b793",
       "version_major": 2,
       "version_minor": 0
      },
      "text/plain": [
       "Validation: 0it [00:00, ?it/s]"
      ]
     },
     "metadata": {},
     "output_type": "display_data"
    },
    {
     "data": {
      "application/vnd.jupyter.widget-view+json": {
       "model_id": "da141f67d4164dc092cb52a84f6d95a7",
       "version_major": 2,
       "version_minor": 0
      },
      "text/plain": [
       "Validation: 0it [00:00, ?it/s]"
      ]
     },
     "metadata": {},
     "output_type": "display_data"
    },
    {
     "data": {
      "application/vnd.jupyter.widget-view+json": {
       "model_id": "8a9f7a8acaa84eb5ba270ca30fbac0c7",
       "version_major": 2,
       "version_minor": 0
      },
      "text/plain": [
       "Validation: 0it [00:00, ?it/s]"
      ]
     },
     "metadata": {},
     "output_type": "display_data"
    },
    {
     "data": {
      "application/vnd.jupyter.widget-view+json": {
       "model_id": "032fd8d01176479288674ad2114cb7da",
       "version_major": 2,
       "version_minor": 0
      },
      "text/plain": [
       "Validation: 0it [00:00, ?it/s]"
      ]
     },
     "metadata": {},
     "output_type": "display_data"
    },
    {
     "data": {
      "application/vnd.jupyter.widget-view+json": {
       "model_id": "7080697a5bca43fb8a780d904da7f5b3",
       "version_major": 2,
       "version_minor": 0
      },
      "text/plain": [
       "Validation: 0it [00:00, ?it/s]"
      ]
     },
     "metadata": {},
     "output_type": "display_data"
    },
    {
     "data": {
      "application/vnd.jupyter.widget-view+json": {
       "model_id": "4dff6df02faa4955a3c353d1a9d67cbd",
       "version_major": 2,
       "version_minor": 0
      },
      "text/plain": [
       "Validation: 0it [00:00, ?it/s]"
      ]
     },
     "metadata": {},
     "output_type": "display_data"
    },
    {
     "data": {
      "application/vnd.jupyter.widget-view+json": {
       "model_id": "0b3e0e67ace34b67a31e2d7b1455e3fb",
       "version_major": 2,
       "version_minor": 0
      },
      "text/plain": [
       "Validation: 0it [00:00, ?it/s]"
      ]
     },
     "metadata": {},
     "output_type": "display_data"
    },
    {
     "data": {
      "application/vnd.jupyter.widget-view+json": {
       "model_id": "fd91838b55754ff292d02940ed552d14",
       "version_major": 2,
       "version_minor": 0
      },
      "text/plain": [
       "Validation: 0it [00:00, ?it/s]"
      ]
     },
     "metadata": {},
     "output_type": "display_data"
    },
    {
     "data": {
      "application/vnd.jupyter.widget-view+json": {
       "model_id": "272a7b5325c34328987f312e35ceae03",
       "version_major": 2,
       "version_minor": 0
      },
      "text/plain": [
       "Validation: 0it [00:00, ?it/s]"
      ]
     },
     "metadata": {},
     "output_type": "display_data"
    },
    {
     "name": "stderr",
     "output_type": "stream",
     "text": [
      "`Trainer.fit` stopped: `max_epochs=100` reached.\n"
     ]
    }
   ],
   "source": [
    "early_stopping_callback = EarlyStopping(\n",
    "    monitor=\"val_loss\",\n",
    "    min_delta=0.00,\n",
    "    patience=100,\n",
    "    verbose=False,\n",
    "    mode=\"min\",\n",
    ")\n",
    "lr_monitor = LearningRateMonitor(logging_interval=\"step\")\n",
    "\n",
    "trainer = pl.Trainer(\n",
    "    max_epochs=100,\n",
    "    accelerator=\"gpu\",\n",
    "    devices=[0],\n",
    "    num_nodes=1,\n",
    "    gradient_clip_val=100.0,\n",
    "    accumulate_grad_batches=2,\n",
    "    enable_progress_bar=True,\n",
    "    callbacks=[\n",
    "        early_stopping_callback,\n",
    "        lr_monitor,\n",
    "    ],\n",
    "    enable_checkpointing=True,\n",
    "    strategy=\"auto\",\n",
    "    default_root_dir=\"./qtaim/\",\n",
    "    precision=\"bf16-mixed\",\n",
    "    num_sanity_val_steps=0\n",
    ")\n",
    "\n",
    "trainer.fit(model_temp_qtaim, dataloader_qtaim_train, val_dataloaders=dataloader_qtaim_test)"
   ]
  },
  {
   "cell_type": "code",
   "execution_count": 62,
   "metadata": {},
   "outputs": [],
   "source": [
    "from sklearn.metrics import f1_score\n",
    "\n",
    "\n",
    "def manual_eval_separate_tasks(model, dataset_list):\n",
    "    n_tasks = len(dataset_list)\n",
    "\n",
    "    temp_data_loader = []\n",
    "    for i in dataset_list:\n",
    "        temp_data_loader.append(\n",
    "            DataLoaderMoleculeGraphTask(i, batch_size=len(i.graphs), shuffle=False)\n",
    "        )\n",
    "    task_ind = 0\n",
    "    statistics_dict = {\"f1\": [], \"acc\": [], \"auroc\": []}\n",
    "    for task_ind in range(n_tasks):\n",
    "        batch_graph, batch_label = next(iter(temp_data_loader[task_ind]))\n",
    "\n",
    "        labels = batch_label[\"global\"]\n",
    "        labels_one_hot = torch.argmax(labels, axis=2)\n",
    "        logits = model.forward(batch_graph, batch_graph.ndata[\"feat\"])\n",
    "        logits_one_hot = torch.argmax(logits, axis=-1)\n",
    "\n",
    "        # take logits from first task only\n",
    "        labels = labels.reshape(-1)\n",
    "        logits = logits[:, task_ind].reshape(-1)\n",
    "        logits_one_hot = logits_one_hot[:, task_ind].reshape(-1)\n",
    "        labels_one_hot = labels_one_hot.reshape(-1)\n",
    "        # compute acc, auroc, f1 manually\n",
    "        acc_manual = torch.sum(logits_one_hot == labels_one_hot) / len(labels_one_hot)\n",
    "        auroc_manual = torchmetrics.functional.auroc(\n",
    "            logits, labels, num_classes=2, task=\"binary\"\n",
    "        )\n",
    "        f1 = f1_score(labels_one_hot, logits_one_hot, pos_label=0)\n",
    "        # print(\"-\" * 50)\n",
    "        # print(\n",
    "        #    \"acc: {:.4f}\\t auroc: {:.4f}\\t f1: {:.4f}\".format(\n",
    "        #        acc_manual, auroc_manual, f1\n",
    "        #    )\n",
    "        # )\n",
    "        statistics_dict[\"f1\"].append(f1)\n",
    "        statistics_dict[\"acc\"].append(acc_manual.numpy())\n",
    "        statistics_dict[\"auroc\"].append(auroc_manual.numpy())\n",
    "    return statistics_dict"
   ]
  },
  {
   "cell_type": "code",
   "execution_count": 63,
   "metadata": {},
   "outputs": [],
   "source": [
    "\n",
    "\n",
    "model_temp_qtaim.cpu()\n",
    "\n",
    "stats_dict = manual_eval_separate_tasks(\n",
    "    model_temp_qtaim, dataset_list=dict_datasets[\"qtaim\"][\"single_list\"]\n",
    ")\n",
    "print(np.array(stats_dict[\"f1\"]).mean(), np.array(stats_dict[\"auroc\"]).mean())\n"
   ]
  },
  {
   "cell_type": "code",
   "execution_count": null,
   "metadata": {},
   "outputs": [
    {
     "name": "stderr",
     "output_type": "stream",
     "text": [
      "Using bfloat16 Automatic Mixed Precision (AMP)\n",
      "GPU available: True (cuda), used: True\n",
      "TPU available: False, using: 0 TPU cores\n",
      "IPU available: False, using: 0 IPUs\n",
      "HPU available: False, using: 0 HPUs\n",
      "LOCAL_RANK: 0 - CUDA_VISIBLE_DEVICES: [0,1]\n",
      "\n",
      "   | Name        | Type               | Params\n",
      "----------------------------------------------------\n",
      "0  | activation  | ReLU               | 0     \n",
      "1  | embedding   | UnifySize          | 2.0 K \n",
      "2  | conv_layers | ModuleList         | 119 K \n",
      "3  | readout     | MeanPoolingThenCat | 0     \n",
      "4  | fc_layers   | ModuleList         | 820 K \n",
      "5  | train_auroc | MultilabelAUROC    | 0     \n",
      "6  | train_acc   | MultilabelAccuracy | 0     \n",
      "7  | train_f1    | MultilabelF1Score  | 0     \n",
      "8  | val_auroc   | MultilabelAUROC    | 0     \n",
      "9  | val_acc     | MultilabelAccuracy | 0     \n",
      "10 | val_f1      | MultilabelF1Score  | 0     \n",
      "11 | test_auroc  | MultilabelAUROC    | 0     \n",
      "12 | test_acc    | MultilabelAccuracy | 0     \n",
      "13 | test_f1     | MultilabelF1Score  | 0     \n",
      "14 | loss        | ModuleList         | 0     \n",
      "----------------------------------------------------\n",
      "941 K     Trainable params\n",
      "0         Non-trainable params\n",
      "941 K     Total params\n",
      "3.767     Total estimated model params size (MB)\n",
      "/home/santiagovargas/anaconda3/envs/qtaim_embed/lib/python3.11/site-packages/pytorch_lightning/trainer/connectors/data_connector.py:442: PossibleUserWarning: The dataloader, train_dataloader, does not have many workers which may be a bottleneck. Consider increasing the value of the `num_workers` argument` (try 32 which is the number of cpus on this machine) in the `DataLoader` init to improve performance.\n",
      "  rank_zero_warn(\n",
      "/home/santiagovargas/anaconda3/envs/qtaim_embed/lib/python3.11/site-packages/pytorch_lightning/loops/fit_loop.py:281: PossibleUserWarning: The number of training batches (7) is smaller than the logging interval Trainer(log_every_n_steps=50). Set a lower value for log_every_n_steps if you want to see logs for the training epoch.\n",
      "  rank_zero_warn(\n",
      "/home/santiagovargas/anaconda3/envs/qtaim_embed/lib/python3.11/site-packages/pytorch_lightning/trainer/connectors/data_connector.py:442: PossibleUserWarning: The dataloader, val_dataloader, does not have many workers which may be a bottleneck. Consider increasing the value of the `num_workers` argument` (try 32 which is the number of cpus on this machine) in the `DataLoader` init to improve performance.\n",
      "  rank_zero_warn(\n"
     ]
    },
    {
     "data": {
      "application/vnd.jupyter.widget-view+json": {
       "model_id": "6634f70c7a654b599b43417b6b3e828f",
       "version_major": 2,
       "version_minor": 0
      },
      "text/plain": [
       "Training: 0it [00:00, ?it/s]"
      ]
     },
     "metadata": {},
     "output_type": "display_data"
    },
    {
     "data": {
      "application/vnd.jupyter.widget-view+json": {
       "model_id": "1e627a9761f943afa1d822d1e4724d04",
       "version_major": 2,
       "version_minor": 0
      },
      "text/plain": [
       "Validation: 0it [00:00, ?it/s]"
      ]
     },
     "metadata": {},
     "output_type": "display_data"
    },
    {
     "data": {
      "application/vnd.jupyter.widget-view+json": {
       "model_id": "872e1d68ae8247dba43fa15078045c1e",
       "version_major": 2,
       "version_minor": 0
      },
      "text/plain": [
       "Validation: 0it [00:00, ?it/s]"
      ]
     },
     "metadata": {},
     "output_type": "display_data"
    },
    {
     "data": {
      "application/vnd.jupyter.widget-view+json": {
       "model_id": "aa8c10a2986949ac8b39d6bc9f37f456",
       "version_major": 2,
       "version_minor": 0
      },
      "text/plain": [
       "Validation: 0it [00:00, ?it/s]"
      ]
     },
     "metadata": {},
     "output_type": "display_data"
    },
    {
     "data": {
      "application/vnd.jupyter.widget-view+json": {
       "model_id": "00b7cd38cc8c44b8bac940baa73c06bd",
       "version_major": 2,
       "version_minor": 0
      },
      "text/plain": [
       "Validation: 0it [00:00, ?it/s]"
      ]
     },
     "metadata": {},
     "output_type": "display_data"
    },
    {
     "data": {
      "application/vnd.jupyter.widget-view+json": {
       "model_id": "afabe8aa269743f6be0e81933a574c88",
       "version_major": 2,
       "version_minor": 0
      },
      "text/plain": [
       "Validation: 0it [00:00, ?it/s]"
      ]
     },
     "metadata": {},
     "output_type": "display_data"
    },
    {
     "data": {
      "application/vnd.jupyter.widget-view+json": {
       "model_id": "f2ab70964bcc4b9990926a8afc49a927",
       "version_major": 2,
       "version_minor": 0
      },
      "text/plain": [
       "Validation: 0it [00:00, ?it/s]"
      ]
     },
     "metadata": {},
     "output_type": "display_data"
    },
    {
     "data": {
      "application/vnd.jupyter.widget-view+json": {
       "model_id": "f0d66b4e4277449e83424618a320e9d1",
       "version_major": 2,
       "version_minor": 0
      },
      "text/plain": [
       "Validation: 0it [00:00, ?it/s]"
      ]
     },
     "metadata": {},
     "output_type": "display_data"
    },
    {
     "data": {
      "application/vnd.jupyter.widget-view+json": {
       "model_id": "3fdb303151a04c61b42624ab0fab40f3",
       "version_major": 2,
       "version_minor": 0
      },
      "text/plain": [
       "Validation: 0it [00:00, ?it/s]"
      ]
     },
     "metadata": {},
     "output_type": "display_data"
    },
    {
     "data": {
      "application/vnd.jupyter.widget-view+json": {
       "model_id": "2a45156242ab48d1bd40302317921ceb",
       "version_major": 2,
       "version_minor": 0
      },
      "text/plain": [
       "Validation: 0it [00:00, ?it/s]"
      ]
     },
     "metadata": {},
     "output_type": "display_data"
    },
    {
     "data": {
      "application/vnd.jupyter.widget-view+json": {
       "model_id": "3d6b02561d274f4697310bc4cdcee70b",
       "version_major": 2,
       "version_minor": 0
      },
      "text/plain": [
       "Validation: 0it [00:00, ?it/s]"
      ]
     },
     "metadata": {},
     "output_type": "display_data"
    },
    {
     "data": {
      "application/vnd.jupyter.widget-view+json": {
       "model_id": "c76ff05045774898b3fe04d5338fa655",
       "version_major": 2,
       "version_minor": 0
      },
      "text/plain": [
       "Validation: 0it [00:00, ?it/s]"
      ]
     },
     "metadata": {},
     "output_type": "display_data"
    },
    {
     "data": {
      "application/vnd.jupyter.widget-view+json": {
       "model_id": "ff1f79d94a1140df8f39d37aef655ae1",
       "version_major": 2,
       "version_minor": 0
      },
      "text/plain": [
       "Validation: 0it [00:00, ?it/s]"
      ]
     },
     "metadata": {},
     "output_type": "display_data"
    },
    {
     "data": {
      "application/vnd.jupyter.widget-view+json": {
       "model_id": "5f7d657988af44d3b4f220c61c413163",
       "version_major": 2,
       "version_minor": 0
      },
      "text/plain": [
       "Validation: 0it [00:00, ?it/s]"
      ]
     },
     "metadata": {},
     "output_type": "display_data"
    },
    {
     "data": {
      "application/vnd.jupyter.widget-view+json": {
       "model_id": "9c09ec6b809b4deea0b9421dc92c40bb",
       "version_major": 2,
       "version_minor": 0
      },
      "text/plain": [
       "Validation: 0it [00:00, ?it/s]"
      ]
     },
     "metadata": {},
     "output_type": "display_data"
    },
    {
     "data": {
      "application/vnd.jupyter.widget-view+json": {
       "model_id": "6ed0312156ea4a18892d119cb835c7e0",
       "version_major": 2,
       "version_minor": 0
      },
      "text/plain": [
       "Validation: 0it [00:00, ?it/s]"
      ]
     },
     "metadata": {},
     "output_type": "display_data"
    },
    {
     "data": {
      "application/vnd.jupyter.widget-view+json": {
       "model_id": "a3916b34a94044089115de8c88a39e12",
       "version_major": 2,
       "version_minor": 0
      },
      "text/plain": [
       "Validation: 0it [00:00, ?it/s]"
      ]
     },
     "metadata": {},
     "output_type": "display_data"
    },
    {
     "data": {
      "application/vnd.jupyter.widget-view+json": {
       "model_id": "8338927c5b6b427796c05d41d0522ca5",
       "version_major": 2,
       "version_minor": 0
      },
      "text/plain": [
       "Validation: 0it [00:00, ?it/s]"
      ]
     },
     "metadata": {},
     "output_type": "display_data"
    },
    {
     "data": {
      "application/vnd.jupyter.widget-view+json": {
       "model_id": "e8d0dfad28314f98857adf4d3741ef1a",
       "version_major": 2,
       "version_minor": 0
      },
      "text/plain": [
       "Validation: 0it [00:00, ?it/s]"
      ]
     },
     "metadata": {},
     "output_type": "display_data"
    },
    {
     "data": {
      "application/vnd.jupyter.widget-view+json": {
       "model_id": "0ec7108446ae448489fb7403be772dff",
       "version_major": 2,
       "version_minor": 0
      },
      "text/plain": [
       "Validation: 0it [00:00, ?it/s]"
      ]
     },
     "metadata": {},
     "output_type": "display_data"
    },
    {
     "data": {
      "application/vnd.jupyter.widget-view+json": {
       "model_id": "8e567efaf854455dbcdef92472dcefae",
       "version_major": 2,
       "version_minor": 0
      },
      "text/plain": [
       "Validation: 0it [00:00, ?it/s]"
      ]
     },
     "metadata": {},
     "output_type": "display_data"
    },
    {
     "data": {
      "application/vnd.jupyter.widget-view+json": {
       "model_id": "55c6cfe3521142bfb7a0e9808a8d1dd4",
       "version_major": 2,
       "version_minor": 0
      },
      "text/plain": [
       "Validation: 0it [00:00, ?it/s]"
      ]
     },
     "metadata": {},
     "output_type": "display_data"
    },
    {
     "data": {
      "application/vnd.jupyter.widget-view+json": {
       "model_id": "fcd5aa9d345a43f786456ed723cf4430",
       "version_major": 2,
       "version_minor": 0
      },
      "text/plain": [
       "Validation: 0it [00:00, ?it/s]"
      ]
     },
     "metadata": {},
     "output_type": "display_data"
    },
    {
     "data": {
      "application/vnd.jupyter.widget-view+json": {
       "model_id": "3be0ef4fcd8541d1920542d6898a5228",
       "version_major": 2,
       "version_minor": 0
      },
      "text/plain": [
       "Validation: 0it [00:00, ?it/s]"
      ]
     },
     "metadata": {},
     "output_type": "display_data"
    },
    {
     "data": {
      "application/vnd.jupyter.widget-view+json": {
       "model_id": "9c3fb12167b94632ac9dc246e40b002e",
       "version_major": 2,
       "version_minor": 0
      },
      "text/plain": [
       "Validation: 0it [00:00, ?it/s]"
      ]
     },
     "metadata": {},
     "output_type": "display_data"
    },
    {
     "data": {
      "application/vnd.jupyter.widget-view+json": {
       "model_id": "f4783f53be38416ca557ce03c9b3fb20",
       "version_major": 2,
       "version_minor": 0
      },
      "text/plain": [
       "Validation: 0it [00:00, ?it/s]"
      ]
     },
     "metadata": {},
     "output_type": "display_data"
    },
    {
     "data": {
      "application/vnd.jupyter.widget-view+json": {
       "model_id": "446beeacf2a24e7d8eaa11b49b518353",
       "version_major": 2,
       "version_minor": 0
      },
      "text/plain": [
       "Validation: 0it [00:00, ?it/s]"
      ]
     },
     "metadata": {},
     "output_type": "display_data"
    },
    {
     "data": {
      "application/vnd.jupyter.widget-view+json": {
       "model_id": "8c220d3eb1d84bb9b64399a182fc74b5",
       "version_major": 2,
       "version_minor": 0
      },
      "text/plain": [
       "Validation: 0it [00:00, ?it/s]"
      ]
     },
     "metadata": {},
     "output_type": "display_data"
    },
    {
     "data": {
      "application/vnd.jupyter.widget-view+json": {
       "model_id": "6f453468198f4d47b4c2f8daf229a748",
       "version_major": 2,
       "version_minor": 0
      },
      "text/plain": [
       "Validation: 0it [00:00, ?it/s]"
      ]
     },
     "metadata": {},
     "output_type": "display_data"
    },
    {
     "data": {
      "application/vnd.jupyter.widget-view+json": {
       "model_id": "f1c8e1f2525e476ba07be600f635219d",
       "version_major": 2,
       "version_minor": 0
      },
      "text/plain": [
       "Validation: 0it [00:00, ?it/s]"
      ]
     },
     "metadata": {},
     "output_type": "display_data"
    },
    {
     "data": {
      "application/vnd.jupyter.widget-view+json": {
       "model_id": "4df8a5af78fa47a3aa823a7b511aca85",
       "version_major": 2,
       "version_minor": 0
      },
      "text/plain": [
       "Validation: 0it [00:00, ?it/s]"
      ]
     },
     "metadata": {},
     "output_type": "display_data"
    },
    {
     "data": {
      "application/vnd.jupyter.widget-view+json": {
       "model_id": "ee8e2113cdfe4752bca45021ca51bc8d",
       "version_major": 2,
       "version_minor": 0
      },
      "text/plain": [
       "Validation: 0it [00:00, ?it/s]"
      ]
     },
     "metadata": {},
     "output_type": "display_data"
    },
    {
     "data": {
      "application/vnd.jupyter.widget-view+json": {
       "model_id": "42885d73be4e4ac9b50c2bed2ec8bcff",
       "version_major": 2,
       "version_minor": 0
      },
      "text/plain": [
       "Validation: 0it [00:00, ?it/s]"
      ]
     },
     "metadata": {},
     "output_type": "display_data"
    },
    {
     "data": {
      "application/vnd.jupyter.widget-view+json": {
       "model_id": "63470317c578403ea142dcfd0e62827d",
       "version_major": 2,
       "version_minor": 0
      },
      "text/plain": [
       "Validation: 0it [00:00, ?it/s]"
      ]
     },
     "metadata": {},
     "output_type": "display_data"
    },
    {
     "data": {
      "application/vnd.jupyter.widget-view+json": {
       "model_id": "f387cd2df4904dcc90fca027fd0a5fd5",
       "version_major": 2,
       "version_minor": 0
      },
      "text/plain": [
       "Validation: 0it [00:00, ?it/s]"
      ]
     },
     "metadata": {},
     "output_type": "display_data"
    },
    {
     "data": {
      "application/vnd.jupyter.widget-view+json": {
       "model_id": "bfb4cb2a6f044b06a327cdba533df2b1",
       "version_major": 2,
       "version_minor": 0
      },
      "text/plain": [
       "Validation: 0it [00:00, ?it/s]"
      ]
     },
     "metadata": {},
     "output_type": "display_data"
    },
    {
     "data": {
      "application/vnd.jupyter.widget-view+json": {
       "model_id": "8dd6fc23335741d8969de1228cf13b77",
       "version_major": 2,
       "version_minor": 0
      },
      "text/plain": [
       "Validation: 0it [00:00, ?it/s]"
      ]
     },
     "metadata": {},
     "output_type": "display_data"
    },
    {
     "data": {
      "application/vnd.jupyter.widget-view+json": {
       "model_id": "69244186e79f4f69ab3835f7fc8e5125",
       "version_major": 2,
       "version_minor": 0
      },
      "text/plain": [
       "Validation: 0it [00:00, ?it/s]"
      ]
     },
     "metadata": {},
     "output_type": "display_data"
    },
    {
     "data": {
      "application/vnd.jupyter.widget-view+json": {
       "model_id": "61b850efab9442628b505e72140410ca",
       "version_major": 2,
       "version_minor": 0
      },
      "text/plain": [
       "Validation: 0it [00:00, ?it/s]"
      ]
     },
     "metadata": {},
     "output_type": "display_data"
    },
    {
     "data": {
      "application/vnd.jupyter.widget-view+json": {
       "model_id": "d29679d50c984919b40ee67e76b5cab7",
       "version_major": 2,
       "version_minor": 0
      },
      "text/plain": [
       "Validation: 0it [00:00, ?it/s]"
      ]
     },
     "metadata": {},
     "output_type": "display_data"
    },
    {
     "data": {
      "application/vnd.jupyter.widget-view+json": {
       "model_id": "8d11e325b5504359823dad5886fff386",
       "version_major": 2,
       "version_minor": 0
      },
      "text/plain": [
       "Validation: 0it [00:00, ?it/s]"
      ]
     },
     "metadata": {},
     "output_type": "display_data"
    },
    {
     "data": {
      "application/vnd.jupyter.widget-view+json": {
       "model_id": "c0732ef22a7b4e2dbfc1b80c0228d47f",
       "version_major": 2,
       "version_minor": 0
      },
      "text/plain": [
       "Validation: 0it [00:00, ?it/s]"
      ]
     },
     "metadata": {},
     "output_type": "display_data"
    },
    {
     "data": {
      "application/vnd.jupyter.widget-view+json": {
       "model_id": "bd8bb5504df345ba86c59f0eeee8fdf4",
       "version_major": 2,
       "version_minor": 0
      },
      "text/plain": [
       "Validation: 0it [00:00, ?it/s]"
      ]
     },
     "metadata": {},
     "output_type": "display_data"
    },
    {
     "data": {
      "application/vnd.jupyter.widget-view+json": {
       "model_id": "6f7edc23a5414c6fa8bed248c5c08f7a",
       "version_major": 2,
       "version_minor": 0
      },
      "text/plain": [
       "Validation: 0it [00:00, ?it/s]"
      ]
     },
     "metadata": {},
     "output_type": "display_data"
    },
    {
     "data": {
      "application/vnd.jupyter.widget-view+json": {
       "model_id": "d4f0f97b1a6d4e5c9c1f7e004edcb4d0",
       "version_major": 2,
       "version_minor": 0
      },
      "text/plain": [
       "Validation: 0it [00:00, ?it/s]"
      ]
     },
     "metadata": {},
     "output_type": "display_data"
    },
    {
     "data": {
      "application/vnd.jupyter.widget-view+json": {
       "model_id": "b1404afd39bc43f28ab19dbe44e0b252",
       "version_major": 2,
       "version_minor": 0
      },
      "text/plain": [
       "Validation: 0it [00:00, ?it/s]"
      ]
     },
     "metadata": {},
     "output_type": "display_data"
    },
    {
     "data": {
      "application/vnd.jupyter.widget-view+json": {
       "model_id": "b5dbf3e28a11430488456ebb2929b50a",
       "version_major": 2,
       "version_minor": 0
      },
      "text/plain": [
       "Validation: 0it [00:00, ?it/s]"
      ]
     },
     "metadata": {},
     "output_type": "display_data"
    },
    {
     "data": {
      "application/vnd.jupyter.widget-view+json": {
       "model_id": "bac5265b5d244e6bb41730bea980a85f",
       "version_major": 2,
       "version_minor": 0
      },
      "text/plain": [
       "Validation: 0it [00:00, ?it/s]"
      ]
     },
     "metadata": {},
     "output_type": "display_data"
    },
    {
     "data": {
      "application/vnd.jupyter.widget-view+json": {
       "model_id": "dcdb137c682d478fae21f10799088827",
       "version_major": 2,
       "version_minor": 0
      },
      "text/plain": [
       "Validation: 0it [00:00, ?it/s]"
      ]
     },
     "metadata": {},
     "output_type": "display_data"
    },
    {
     "data": {
      "application/vnd.jupyter.widget-view+json": {
       "model_id": "b2446b9adb8749a39041fd4be84cd653",
       "version_major": 2,
       "version_minor": 0
      },
      "text/plain": [
       "Validation: 0it [00:00, ?it/s]"
      ]
     },
     "metadata": {},
     "output_type": "display_data"
    },
    {
     "data": {
      "application/vnd.jupyter.widget-view+json": {
       "model_id": "cfebee1e9e2f49bf99337bdd64d3456e",
       "version_major": 2,
       "version_minor": 0
      },
      "text/plain": [
       "Validation: 0it [00:00, ?it/s]"
      ]
     },
     "metadata": {},
     "output_type": "display_data"
    },
    {
     "data": {
      "application/vnd.jupyter.widget-view+json": {
       "model_id": "5c5649c8ba214b038b5673803f390bec",
       "version_major": 2,
       "version_minor": 0
      },
      "text/plain": [
       "Validation: 0it [00:00, ?it/s]"
      ]
     },
     "metadata": {},
     "output_type": "display_data"
    },
    {
     "data": {
      "application/vnd.jupyter.widget-view+json": {
       "model_id": "8983c0afa5f34769a1412621a991b6ed",
       "version_major": 2,
       "version_minor": 0
      },
      "text/plain": [
       "Validation: 0it [00:00, ?it/s]"
      ]
     },
     "metadata": {},
     "output_type": "display_data"
    },
    {
     "data": {
      "application/vnd.jupyter.widget-view+json": {
       "model_id": "32f35bffdd4f4e608de4ce4e628e83b1",
       "version_major": 2,
       "version_minor": 0
      },
      "text/plain": [
       "Validation: 0it [00:00, ?it/s]"
      ]
     },
     "metadata": {},
     "output_type": "display_data"
    },
    {
     "data": {
      "application/vnd.jupyter.widget-view+json": {
       "model_id": "9c2483499f2d4f42b7cf1afb1d5c023d",
       "version_major": 2,
       "version_minor": 0
      },
      "text/plain": [
       "Validation: 0it [00:00, ?it/s]"
      ]
     },
     "metadata": {},
     "output_type": "display_data"
    },
    {
     "data": {
      "application/vnd.jupyter.widget-view+json": {
       "model_id": "476c338793c24cb98b93bb8550f06643",
       "version_major": 2,
       "version_minor": 0
      },
      "text/plain": [
       "Validation: 0it [00:00, ?it/s]"
      ]
     },
     "metadata": {},
     "output_type": "display_data"
    },
    {
     "data": {
      "application/vnd.jupyter.widget-view+json": {
       "model_id": "01cbe69ba1bf492088d26e4f1d3c55af",
       "version_major": 2,
       "version_minor": 0
      },
      "text/plain": [
       "Validation: 0it [00:00, ?it/s]"
      ]
     },
     "metadata": {},
     "output_type": "display_data"
    },
    {
     "data": {
      "application/vnd.jupyter.widget-view+json": {
       "model_id": "94d48178eac247b6b544439fdab105e5",
       "version_major": 2,
       "version_minor": 0
      },
      "text/plain": [
       "Validation: 0it [00:00, ?it/s]"
      ]
     },
     "metadata": {},
     "output_type": "display_data"
    },
    {
     "data": {
      "application/vnd.jupyter.widget-view+json": {
       "model_id": "9c529d2c0bc24d269f365f93cb5c47c4",
       "version_major": 2,
       "version_minor": 0
      },
      "text/plain": [
       "Validation: 0it [00:00, ?it/s]"
      ]
     },
     "metadata": {},
     "output_type": "display_data"
    },
    {
     "data": {
      "application/vnd.jupyter.widget-view+json": {
       "model_id": "7417c83e9e1f40d786c49a7d1b310938",
       "version_major": 2,
       "version_minor": 0
      },
      "text/plain": [
       "Validation: 0it [00:00, ?it/s]"
      ]
     },
     "metadata": {},
     "output_type": "display_data"
    },
    {
     "data": {
      "application/vnd.jupyter.widget-view+json": {
       "model_id": "2922744187e74896a85d3d3234821eef",
       "version_major": 2,
       "version_minor": 0
      },
      "text/plain": [
       "Validation: 0it [00:00, ?it/s]"
      ]
     },
     "metadata": {},
     "output_type": "display_data"
    },
    {
     "data": {
      "application/vnd.jupyter.widget-view+json": {
       "model_id": "50b89bde1f48416fbbdd6e2f0335ac9a",
       "version_major": 2,
       "version_minor": 0
      },
      "text/plain": [
       "Validation: 0it [00:00, ?it/s]"
      ]
     },
     "metadata": {},
     "output_type": "display_data"
    },
    {
     "data": {
      "application/vnd.jupyter.widget-view+json": {
       "model_id": "08045e7ddc584b8ebb4aea925e196a3e",
       "version_major": 2,
       "version_minor": 0
      },
      "text/plain": [
       "Validation: 0it [00:00, ?it/s]"
      ]
     },
     "metadata": {},
     "output_type": "display_data"
    },
    {
     "data": {
      "application/vnd.jupyter.widget-view+json": {
       "model_id": "f30c5719401946b5b19980934b911bb8",
       "version_major": 2,
       "version_minor": 0
      },
      "text/plain": [
       "Validation: 0it [00:00, ?it/s]"
      ]
     },
     "metadata": {},
     "output_type": "display_data"
    },
    {
     "data": {
      "application/vnd.jupyter.widget-view+json": {
       "model_id": "2064d5c0f60e4d54b22002fdea9961ba",
       "version_major": 2,
       "version_minor": 0
      },
      "text/plain": [
       "Validation: 0it [00:00, ?it/s]"
      ]
     },
     "metadata": {},
     "output_type": "display_data"
    },
    {
     "data": {
      "application/vnd.jupyter.widget-view+json": {
       "model_id": "4e9249a1bb6b4f769cb2a755703c94ac",
       "version_major": 2,
       "version_minor": 0
      },
      "text/plain": [
       "Validation: 0it [00:00, ?it/s]"
      ]
     },
     "metadata": {},
     "output_type": "display_data"
    },
    {
     "data": {
      "application/vnd.jupyter.widget-view+json": {
       "model_id": "93ea07b9de5b4bf9b67e0f65e09a60e6",
       "version_major": 2,
       "version_minor": 0
      },
      "text/plain": [
       "Validation: 0it [00:00, ?it/s]"
      ]
     },
     "metadata": {},
     "output_type": "display_data"
    },
    {
     "data": {
      "application/vnd.jupyter.widget-view+json": {
       "model_id": "78c7c12d9221483ab8ad7e2b32b3a011",
       "version_major": 2,
       "version_minor": 0
      },
      "text/plain": [
       "Validation: 0it [00:00, ?it/s]"
      ]
     },
     "metadata": {},
     "output_type": "display_data"
    },
    {
     "data": {
      "application/vnd.jupyter.widget-view+json": {
       "model_id": "c4a76090208745338a4e02d246020046",
       "version_major": 2,
       "version_minor": 0
      },
      "text/plain": [
       "Validation: 0it [00:00, ?it/s]"
      ]
     },
     "metadata": {},
     "output_type": "display_data"
    },
    {
     "data": {
      "application/vnd.jupyter.widget-view+json": {
       "model_id": "0cbed2ca8a1b49ffbc8275cdfd678668",
       "version_major": 2,
       "version_minor": 0
      },
      "text/plain": [
       "Validation: 0it [00:00, ?it/s]"
      ]
     },
     "metadata": {},
     "output_type": "display_data"
    },
    {
     "data": {
      "application/vnd.jupyter.widget-view+json": {
       "model_id": "ee9c903213ee440dabcf5212314dd210",
       "version_major": 2,
       "version_minor": 0
      },
      "text/plain": [
       "Validation: 0it [00:00, ?it/s]"
      ]
     },
     "metadata": {},
     "output_type": "display_data"
    },
    {
     "data": {
      "application/vnd.jupyter.widget-view+json": {
       "model_id": "51d3983d103c41dc9d8fa63aa7ada9ea",
       "version_major": 2,
       "version_minor": 0
      },
      "text/plain": [
       "Validation: 0it [00:00, ?it/s]"
      ]
     },
     "metadata": {},
     "output_type": "display_data"
    },
    {
     "data": {
      "application/vnd.jupyter.widget-view+json": {
       "model_id": "29a00c912087461ba9e4c50713422038",
       "version_major": 2,
       "version_minor": 0
      },
      "text/plain": [
       "Validation: 0it [00:00, ?it/s]"
      ]
     },
     "metadata": {},
     "output_type": "display_data"
    },
    {
     "data": {
      "application/vnd.jupyter.widget-view+json": {
       "model_id": "81ead9f8585042c9860c32190525388e",
       "version_major": 2,
       "version_minor": 0
      },
      "text/plain": [
       "Validation: 0it [00:00, ?it/s]"
      ]
     },
     "metadata": {},
     "output_type": "display_data"
    },
    {
     "data": {
      "application/vnd.jupyter.widget-view+json": {
       "model_id": "75093ed6da5e4627835e7c9389d06169",
       "version_major": 2,
       "version_minor": 0
      },
      "text/plain": [
       "Validation: 0it [00:00, ?it/s]"
      ]
     },
     "metadata": {},
     "output_type": "display_data"
    },
    {
     "data": {
      "application/vnd.jupyter.widget-view+json": {
       "model_id": "dae10cf76f7a4c4b855a67cc40408ff0",
       "version_major": 2,
       "version_minor": 0
      },
      "text/plain": [
       "Validation: 0it [00:00, ?it/s]"
      ]
     },
     "metadata": {},
     "output_type": "display_data"
    },
    {
     "data": {
      "application/vnd.jupyter.widget-view+json": {
       "model_id": "70efa177f9024c79bc1c07b246175f29",
       "version_major": 2,
       "version_minor": 0
      },
      "text/plain": [
       "Validation: 0it [00:00, ?it/s]"
      ]
     },
     "metadata": {},
     "output_type": "display_data"
    },
    {
     "data": {
      "application/vnd.jupyter.widget-view+json": {
       "model_id": "c08633650c6347afa93740d181e44b8a",
       "version_major": 2,
       "version_minor": 0
      },
      "text/plain": [
       "Validation: 0it [00:00, ?it/s]"
      ]
     },
     "metadata": {},
     "output_type": "display_data"
    },
    {
     "data": {
      "application/vnd.jupyter.widget-view+json": {
       "model_id": "8f5fc0b8e4a44ef1a0f2fdb25b975e17",
       "version_major": 2,
       "version_minor": 0
      },
      "text/plain": [
       "Validation: 0it [00:00, ?it/s]"
      ]
     },
     "metadata": {},
     "output_type": "display_data"
    },
    {
     "data": {
      "application/vnd.jupyter.widget-view+json": {
       "model_id": "190bc29c1dd743dc91c609c909507e39",
       "version_major": 2,
       "version_minor": 0
      },
      "text/plain": [
       "Validation: 0it [00:00, ?it/s]"
      ]
     },
     "metadata": {},
     "output_type": "display_data"
    },
    {
     "data": {
      "application/vnd.jupyter.widget-view+json": {
       "model_id": "0759f0f41f7449c793e9e783a12f61d7",
       "version_major": 2,
       "version_minor": 0
      },
      "text/plain": [
       "Validation: 0it [00:00, ?it/s]"
      ]
     },
     "metadata": {},
     "output_type": "display_data"
    },
    {
     "name": "stdout",
     "output_type": "stream",
     "text": [
      "Epoch 00080: reducing learning rate of group 0 to 1.0000e-04.\n"
     ]
    },
    {
     "data": {
      "application/vnd.jupyter.widget-view+json": {
       "model_id": "5cd7c16bac4a4f1bad6fe3c744c0256e",
       "version_major": 2,
       "version_minor": 0
      },
      "text/plain": [
       "Validation: 0it [00:00, ?it/s]"
      ]
     },
     "metadata": {},
     "output_type": "display_data"
    },
    {
     "data": {
      "application/vnd.jupyter.widget-view+json": {
       "model_id": "4bef9a66691742d6a181b5baba94f7bd",
       "version_major": 2,
       "version_minor": 0
      },
      "text/plain": [
       "Validation: 0it [00:00, ?it/s]"
      ]
     },
     "metadata": {},
     "output_type": "display_data"
    },
    {
     "data": {
      "application/vnd.jupyter.widget-view+json": {
       "model_id": "3ba9693e25934921af98ee8bb59ed87e",
       "version_major": 2,
       "version_minor": 0
      },
      "text/plain": [
       "Validation: 0it [00:00, ?it/s]"
      ]
     },
     "metadata": {},
     "output_type": "display_data"
    },
    {
     "data": {
      "application/vnd.jupyter.widget-view+json": {
       "model_id": "289f2d588ef04b06866456b7d2cbda0a",
       "version_major": 2,
       "version_minor": 0
      },
      "text/plain": [
       "Validation: 0it [00:00, ?it/s]"
      ]
     },
     "metadata": {},
     "output_type": "display_data"
    },
    {
     "data": {
      "application/vnd.jupyter.widget-view+json": {
       "model_id": "f861987d1b89460dbb5cb409d212c612",
       "version_major": 2,
       "version_minor": 0
      },
      "text/plain": [
       "Validation: 0it [00:00, ?it/s]"
      ]
     },
     "metadata": {},
     "output_type": "display_data"
    },
    {
     "data": {
      "application/vnd.jupyter.widget-view+json": {
       "model_id": "24be65ddeb0644bfa3b69f7aff052b61",
       "version_major": 2,
       "version_minor": 0
      },
      "text/plain": [
       "Validation: 0it [00:00, ?it/s]"
      ]
     },
     "metadata": {},
     "output_type": "display_data"
    },
    {
     "data": {
      "application/vnd.jupyter.widget-view+json": {
       "model_id": "1c0f77aac642454881021b0c7018fbeb",
       "version_major": 2,
       "version_minor": 0
      },
      "text/plain": [
       "Validation: 0it [00:00, ?it/s]"
      ]
     },
     "metadata": {},
     "output_type": "display_data"
    },
    {
     "data": {
      "application/vnd.jupyter.widget-view+json": {
       "model_id": "916ba0327a7749719736073203eb76be",
       "version_major": 2,
       "version_minor": 0
      },
      "text/plain": [
       "Validation: 0it [00:00, ?it/s]"
      ]
     },
     "metadata": {},
     "output_type": "display_data"
    },
    {
     "data": {
      "application/vnd.jupyter.widget-view+json": {
       "model_id": "44484fd8921d42799426d3b680414ca2",
       "version_major": 2,
       "version_minor": 0
      },
      "text/plain": [
       "Validation: 0it [00:00, ?it/s]"
      ]
     },
     "metadata": {},
     "output_type": "display_data"
    },
    {
     "data": {
      "application/vnd.jupyter.widget-view+json": {
       "model_id": "7b7d177942544e729fd10156d353c812",
       "version_major": 2,
       "version_minor": 0
      },
      "text/plain": [
       "Validation: 0it [00:00, ?it/s]"
      ]
     },
     "metadata": {},
     "output_type": "display_data"
    },
    {
     "data": {
      "application/vnd.jupyter.widget-view+json": {
       "model_id": "4349c9eb3be14456b8f872e6a4c90356",
       "version_major": 2,
       "version_minor": 0
      },
      "text/plain": [
       "Validation: 0it [00:00, ?it/s]"
      ]
     },
     "metadata": {},
     "output_type": "display_data"
    },
    {
     "name": "stdout",
     "output_type": "stream",
     "text": [
      "Epoch 00091: reducing learning rate of group 0 to 1.0000e-05.\n"
     ]
    },
    {
     "data": {
      "application/vnd.jupyter.widget-view+json": {
       "model_id": "6ac7fd0617544b5b9bbf2f5f899ecfe8",
       "version_major": 2,
       "version_minor": 0
      },
      "text/plain": [
       "Validation: 0it [00:00, ?it/s]"
      ]
     },
     "metadata": {},
     "output_type": "display_data"
    },
    {
     "data": {
      "application/vnd.jupyter.widget-view+json": {
       "model_id": "3d577fa78b8847aeb63d8d1f801cf3d7",
       "version_major": 2,
       "version_minor": 0
      },
      "text/plain": [
       "Validation: 0it [00:00, ?it/s]"
      ]
     },
     "metadata": {},
     "output_type": "display_data"
    },
    {
     "data": {
      "application/vnd.jupyter.widget-view+json": {
       "model_id": "2e09040becdc450b9ea755d45bf02865",
       "version_major": 2,
       "version_minor": 0
      },
      "text/plain": [
       "Validation: 0it [00:00, ?it/s]"
      ]
     },
     "metadata": {},
     "output_type": "display_data"
    },
    {
     "data": {
      "application/vnd.jupyter.widget-view+json": {
       "model_id": "6b3e56a14c7840698994f30bd6d17034",
       "version_major": 2,
       "version_minor": 0
      },
      "text/plain": [
       "Validation: 0it [00:00, ?it/s]"
      ]
     },
     "metadata": {},
     "output_type": "display_data"
    },
    {
     "data": {
      "application/vnd.jupyter.widget-view+json": {
       "model_id": "d72bc47d9ca349c99c19d417dfd46ffe",
       "version_major": 2,
       "version_minor": 0
      },
      "text/plain": [
       "Validation: 0it [00:00, ?it/s]"
      ]
     },
     "metadata": {},
     "output_type": "display_data"
    },
    {
     "data": {
      "application/vnd.jupyter.widget-view+json": {
       "model_id": "9b398f43a453437ab09a33bed7f9c306",
       "version_major": 2,
       "version_minor": 0
      },
      "text/plain": [
       "Validation: 0it [00:00, ?it/s]"
      ]
     },
     "metadata": {},
     "output_type": "display_data"
    },
    {
     "data": {
      "application/vnd.jupyter.widget-view+json": {
       "model_id": "d0da0203e84d4c7ca81fefb721438280",
       "version_major": 2,
       "version_minor": 0
      },
      "text/plain": [
       "Validation: 0it [00:00, ?it/s]"
      ]
     },
     "metadata": {},
     "output_type": "display_data"
    },
    {
     "data": {
      "application/vnd.jupyter.widget-view+json": {
       "model_id": "14e69ffb7aa244dd9104f7760a9ea775",
       "version_major": 2,
       "version_minor": 0
      },
      "text/plain": [
       "Validation: 0it [00:00, ?it/s]"
      ]
     },
     "metadata": {},
     "output_type": "display_data"
    },
    {
     "data": {
      "application/vnd.jupyter.widget-view+json": {
       "model_id": "5116effde9dc4103ab1e9af73282cc71",
       "version_major": 2,
       "version_minor": 0
      },
      "text/plain": [
       "Validation: 0it [00:00, ?it/s]"
      ]
     },
     "metadata": {},
     "output_type": "display_data"
    },
    {
     "name": "stderr",
     "output_type": "stream",
     "text": [
      "`Trainer.fit` stopped: `max_epochs=100` reached.\n"
     ]
    }
   ],
   "source": [
    "early_stopping_callback = EarlyStopping(\n",
    "    monitor=\"val_loss\",\n",
    "    min_delta=0.00,\n",
    "    patience=50,\n",
    "    verbose=False,\n",
    "    mode=\"min\",\n",
    ")\n",
    "lr_monitor = LearningRateMonitor(logging_interval=\"step\")\n",
    "\n",
    "trainer = pl.Trainer(\n",
    "    max_epochs=100,\n",
    "    accelerator=\"gpu\",\n",
    "    devices=[0],\n",
    "    num_nodes=1,\n",
    "    gradient_clip_val=100.0,\n",
    "    accumulate_grad_batches=2,\n",
    "    enable_progress_bar=True,\n",
    "    callbacks=[\n",
    "        early_stopping_callback,\n",
    "        lr_monitor,\n",
    "    ],\n",
    "    enable_checkpointing=True,\n",
    "    strategy=\"auto\",\n",
    "    default_root_dir=\"./no_qtaim/\",\n",
    "    precision=\"bf16-mixed\",\n",
    "    num_sanity_val_steps=0\n",
    ")\n",
    "\n",
    "trainer.fit(model_temp_noqtaim, dataloader_bl_train, val_dataloaders=dataloader_bl_test)"
   ]
  },
  {
   "cell_type": "code",
   "execution_count": null,
   "metadata": {},
   "outputs": [
    {
     "name": "stdout",
     "output_type": "stream",
     "text": [
      "0.9629272824038767 0.9429536\n"
     ]
    }
   ],
   "source": [
    "\n",
    "\n",
    "model_temp_noqtaim.cpu()\n",
    "\n",
    "stats_dict = manual_eval_separate_tasks(\n",
    "    model_temp_noqtaim, dataset_list=dict_datasets[\"bl\"][\"single_list\"]\n",
    ")\n",
    "print(np.array(stats_dict[\"f1\"]).mean(), np.array(stats_dict[\"auroc\"]).mean())"
   ]
  },
  {
   "cell_type": "code",
   "execution_count": null,
   "metadata": {},
   "outputs": [],
   "source": []
  },
  {
   "cell_type": "code",
   "execution_count": null,
   "metadata": {},
   "outputs": [],
   "source": []
  }
 ],
 "metadata": {
  "kernelspec": {
   "display_name": "qtaim_embed",
   "language": "python",
   "name": "python3"
  },
  "language_info": {
   "codemirror_mode": {
    "name": "ipython",
    "version": 3
   },
   "file_extension": ".py",
   "mimetype": "text/x-python",
   "name": "python",
   "nbconvert_exporter": "python",
   "pygments_lexer": "ipython3",
   "version": "3.11.3"
  },
  "orig_nbformat": 4
 },
 "nbformat": 4,
 "nbformat_minor": 2
}
