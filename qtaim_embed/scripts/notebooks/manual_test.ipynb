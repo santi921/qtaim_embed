{
 "cells": [
  {
   "cell_type": "code",
   "execution_count": 19,
   "metadata": {},
   "outputs": [],
   "source": [
    "import torch\n",
    "\n",
    "from qtaim_embed.models.utils import load_graph_level_model_from_config\n",
    "from qtaim_embed.utils.tests import get_dataset_graph_level\n",
    "from qtaim_embed.data.dataloader import DataLoaderMoleculeGraphTask\n",
    "from qtaim_embed.utils.data import get_default_graph_level_config\n",
    "from qtaim_embed.core.dataset import HeteroGraphGraphLabelDataset"
   ]
  },
  {
   "cell_type": "code",
   "execution_count": 25,
   "metadata": {},
   "outputs": [
    {
     "name": "stdout",
     "output_type": "stream",
     "text": [
      ":::RESTORING MODEL FROM EXISTING FILE:::\n",
      "... > number of tasks: 1\n",
      ":::MODEL LOADED:::\n"
     ]
    }
   ],
   "source": [
    "\n",
    "model_config ={\n",
    "    \"model\": {\n",
    "        \"restore\": True,\n",
    "        \"restore_path\": \"../../../data/saved_models/1119/qm8/model_lightning_epoch=442-val_mae=0.10.ckpt\"\n",
    "    }\n",
    "}\n",
    "model = load_graph_level_model_from_config(model_config[\"model\"])\n"
   ]
  },
  {
   "cell_type": "code",
   "execution_count": 31,
   "metadata": {},
   "outputs": [
    {
     "data": {
      "text/plain": [
       "GCNGraphPred(\n",
       "  (activation): ReLU()\n",
       "  (embedding): UnifySize(\n",
       "    (linears): ModuleDict(\n",
       "      (atom): Linear(in_features=13, out_features=100, bias=False)\n",
       "      (bond): Linear(in_features=9, out_features=100, bias=False)\n",
       "      (global): Linear(in_features=3, out_features=100, bias=False)\n",
       "    )\n",
       "  )\n",
       "  (conv_layers): ModuleList(\n",
       "    (0-5): 6 x HeteroGraphConv(\n",
       "      (mods): ModuleDict(\n",
       "        (a2b): GraphConvDropoutBatch(\n",
       "          (graph_conv): GraphConv(\n",
       "            in=100, out=100, normalization=both\n",
       "            (_activation): ReLU()\n",
       "          )\n",
       "          (dropout): Dropout(p=0.1, inplace=False)\n",
       "          (batch_norm): BatchNorm1d(100, eps=1e-05, momentum=0.1, affine=True, track_running_stats=True)\n",
       "        )\n",
       "        (b2a): GraphConvDropoutBatch(\n",
       "          (graph_conv): GraphConv(\n",
       "            in=100, out=100, normalization=both\n",
       "            (_activation): ReLU()\n",
       "          )\n",
       "          (dropout): Dropout(p=0.1, inplace=False)\n",
       "          (batch_norm): BatchNorm1d(100, eps=1e-05, momentum=0.1, affine=True, track_running_stats=True)\n",
       "        )\n",
       "        (a2g): GraphConvDropoutBatch(\n",
       "          (graph_conv): GraphConv(\n",
       "            in=100, out=100, normalization=both\n",
       "            (_activation): ReLU()\n",
       "          )\n",
       "          (dropout): Dropout(p=0.1, inplace=False)\n",
       "          (batch_norm): BatchNorm1d(100, eps=1e-05, momentum=0.1, affine=True, track_running_stats=True)\n",
       "        )\n",
       "        (g2a): GraphConvDropoutBatch(\n",
       "          (graph_conv): GraphConv(\n",
       "            in=100, out=100, normalization=both\n",
       "            (_activation): ReLU()\n",
       "          )\n",
       "          (dropout): Dropout(p=0.1, inplace=False)\n",
       "          (batch_norm): BatchNorm1d(100, eps=1e-05, momentum=0.1, affine=True, track_running_stats=True)\n",
       "        )\n",
       "        (b2g): GraphConvDropoutBatch(\n",
       "          (graph_conv): GraphConv(\n",
       "            in=100, out=100, normalization=both\n",
       "            (_activation): ReLU()\n",
       "          )\n",
       "          (dropout): Dropout(p=0.1, inplace=False)\n",
       "          (batch_norm): BatchNorm1d(100, eps=1e-05, momentum=0.1, affine=True, track_running_stats=True)\n",
       "        )\n",
       "        (g2b): GraphConvDropoutBatch(\n",
       "          (graph_conv): GraphConv(\n",
       "            in=100, out=100, normalization=both\n",
       "            (_activation): ReLU()\n",
       "          )\n",
       "          (dropout): Dropout(p=0.1, inplace=False)\n",
       "          (batch_norm): BatchNorm1d(100, eps=1e-05, momentum=0.1, affine=True, track_running_stats=True)\n",
       "        )\n",
       "        (a2a): GraphConvDropoutBatch(\n",
       "          (graph_conv): GraphConv(\n",
       "            in=100, out=100, normalization=both\n",
       "            (_activation): ReLU()\n",
       "          )\n",
       "          (dropout): Dropout(p=0.1, inplace=False)\n",
       "          (batch_norm): BatchNorm1d(100, eps=1e-05, momentum=0.1, affine=True, track_running_stats=True)\n",
       "        )\n",
       "        (b2b): GraphConvDropoutBatch(\n",
       "          (graph_conv): GraphConv(\n",
       "            in=100, out=100, normalization=both\n",
       "            (_activation): ReLU()\n",
       "          )\n",
       "          (dropout): Dropout(p=0.1, inplace=False)\n",
       "          (batch_norm): BatchNorm1d(100, eps=1e-05, momentum=0.1, affine=True, track_running_stats=True)\n",
       "        )\n",
       "        (g2g): GraphConvDropoutBatch(\n",
       "          (graph_conv): GraphConv(\n",
       "            in=100, out=100, normalization=both\n",
       "            (_activation): ReLU()\n",
       "          )\n",
       "          (dropout): Dropout(p=0.1, inplace=False)\n",
       "          (batch_norm): BatchNorm1d(100, eps=1e-05, momentum=0.1, affine=True, track_running_stats=True)\n",
       "        )\n",
       "      )\n",
       "    )\n",
       "  )\n",
       "  (readout): Set2SetThenCat(\n",
       "    (layers): ModuleDict(\n",
       "      (atom): Set2Set(\n",
       "        n_iters=3\n",
       "        (lstm): LSTM(200, 100, num_layers=3)\n",
       "      )\n",
       "      (bond): Set2Set(\n",
       "        n_iters=3\n",
       "        (lstm): LSTM(200, 100, num_layers=3)\n",
       "      )\n",
       "    )\n",
       "  )\n",
       "  (loss): MeanSquaredError()\n",
       "  (fc_layers): ModuleList(\n",
       "    (0): Linear(in_features=500, out_features=512, bias=True)\n",
       "    (1): ReLU()\n",
       "    (2): Dropout(p=0.1, inplace=False)\n",
       "    (3): Linear(in_features=512, out_features=512, bias=True)\n",
       "    (4): ReLU()\n",
       "    (5): Dropout(p=0.1, inplace=False)\n",
       "    (6): Linear(in_features=512, out_features=512, bias=True)\n",
       "    (7): ReLU()\n",
       "    (8): Dropout(p=0.1, inplace=False)\n",
       "    (9): Linear(in_features=512, out_features=1, bias=True)\n",
       "  )\n",
       "  (train_r2): MultioutputWrapper(\n",
       "    (metrics): ModuleList(\n",
       "      (0): R2Score()\n",
       "    )\n",
       "  )\n",
       "  (train_torch_l1): MultioutputWrapper(\n",
       "    (metrics): ModuleList(\n",
       "      (0): MeanAbsoluteError()\n",
       "    )\n",
       "  )\n",
       "  (train_torch_mse): MultioutputWrapper(\n",
       "    (metrics): ModuleList(\n",
       "      (0): MeanSquaredError()\n",
       "    )\n",
       "  )\n",
       "  (val_r2): MultioutputWrapper(\n",
       "    (metrics): ModuleList(\n",
       "      (0): R2Score()\n",
       "    )\n",
       "  )\n",
       "  (val_torch_l1): MultioutputWrapper(\n",
       "    (metrics): ModuleList(\n",
       "      (0): MeanAbsoluteError()\n",
       "    )\n",
       "  )\n",
       "  (val_torch_mse): MultioutputWrapper(\n",
       "    (metrics): ModuleList(\n",
       "      (0): MeanSquaredError()\n",
       "    )\n",
       "  )\n",
       "  (test_r2): MultioutputWrapper(\n",
       "    (metrics): ModuleList(\n",
       "      (0): R2Score()\n",
       "    )\n",
       "  )\n",
       "  (test_torch_l1): MultioutputWrapper(\n",
       "    (metrics): ModuleList(\n",
       "      (0): MeanAbsoluteError()\n",
       "    )\n",
       "  )\n",
       "  (test_torch_mse): MultioutputWrapper(\n",
       "    (metrics): ModuleList(\n",
       "      (0): MeanSquaredError()\n",
       "    )\n",
       "  )\n",
       ")"
      ]
     },
     "execution_count": 31,
     "metadata": {},
     "output_type": "execute_result"
    }
   ],
   "source": [
    "# move model to cpu\n",
    "model.cpu()"
   ]
  },
  {
   "cell_type": "code",
   "execution_count": 49,
   "metadata": {},
   "outputs": [
    {
     "name": "stdout",
     "output_type": "stream",
     "text": [
      "test_qm8_qtaim_1109_labelled.pkl  train_qm8_qtaim_1109_labelled.pkl\n"
     ]
    }
   ],
   "source": [
    "! ls ../../../data/qm8_splits_1109/test_qm8_qtaim_1109_labelled.pkl"
   ]
  },
  {
   "cell_type": "code",
   "execution_count": 54,
   "metadata": {},
   "outputs": [
    {
     "name": "stdout",
     "output_type": "stream",
     "text": [
      "... > creating MoleculeWrapper objects\n"
     ]
    },
    {
     "name": "stderr",
     "output_type": "stream",
     "text": [
      "100%|██████████| 19607/19607 [00:01<00:00, 11356.04it/s]\n"
     ]
    },
    {
     "name": "stdout",
     "output_type": "stream",
     "text": [
      "... > bond_feats_error_count:  0\n",
      "... > atom_feats_error_count:  0\n",
      "element set {'O', 'C', 'F', 'H', 'N'}\n",
      "selected atomic keys ['extra_feat_atom_esp_total']\n",
      "selected bond keys ['extra_feat_bond_esp_total', 'extra_feat_bond_ellip_e_dens', 'bond_length']\n",
      "selected global keys ['E1-PBE0']\n",
      "... > Building graphs and featurizing\n"
     ]
    },
    {
     "name": "stderr",
     "output_type": "stream",
     "text": [
      "100%|██████████| 19607/19607 [00:33<00:00, 585.93it/s]\n"
     ]
    },
    {
     "name": "stdout",
     "output_type": "stream",
     "text": [
      "included in labels\n",
      "{'global': ['E1-PBE0']}\n",
      "included in graph features\n",
      "{'atom': ['total_degree', 'total_H', 'is_in_ring', 'ring_size_4', 'ring_size_5', 'ring_size_6', 'ring_size_7', 'chemical_symbol_O', 'chemical_symbol_C', 'chemical_symbol_F', 'chemical_symbol_H', 'chemical_symbol_N', 'extra_feat_atom_esp_total'], 'bond': ['metal bond', 'ring inclusion', 'ring size_4', 'ring size_5', 'ring size_6', 'ring size_7', 'bond_length', 'extra_feat_bond_esp_total', 'extra_feat_bond_ellip_e_dens'], 'global': ['num atoms', 'num bonds', 'molecule weight']}\n",
      "original loader node types: dict_keys(['atom', 'bond', 'global'])\n",
      "original loader label types: dict_keys([])\n",
      "include names:  dict_keys(['global'])\n",
      "... > parsing labels and features in graphs\n"
     ]
    },
    {
     "name": "stderr",
     "output_type": "stream",
     "text": [
      "100%|██████████| 19607/19607 [00:00<00:00, 34620.10it/s]\n"
     ]
    },
    {
     "name": "stdout",
     "output_type": "stream",
     "text": [
      "original loader node types: dict_keys(['atom', 'bond', 'global'])\n",
      "original loader label types: dict_keys(['global'])\n",
      "... > Log scaling features\n",
      "... > Log scaling features complete\n",
      "... > Scaling features\n",
      "mean [6.94480210e-01 1.98050807e-01 3.01505867e-02 1.64613505e-02\n",
      " 1.04097064e-02 2.77211426e-03 5.07415527e-04 5.44933523e-02\n",
      " 2.38230492e-01 9.64309161e-04 3.58360568e-01 4.10984611e-02\n",
      " 8.98075974e+00]\n",
      "std [0.59373438 0.36611921 0.14138506 0.10554223 0.0843036  0.04374698\n",
      " 0.01874716 0.18655398 0.32920363 0.0258356  0.3463731  0.16370155\n",
      " 5.65623872]\n",
      "mean [0.00000000e+00 4.05843994e-02 2.21955127e-02 1.39939104e-02\n",
      " 3.77720853e-03 6.79544525e-04 8.79190508e-01 6.87148685e-01\n",
      " 7.57948703e-02]\n",
      "std [0.         0.16273865 0.12203326 0.09748851 0.05102837 0.02169245\n",
      " 0.37075581 0.20561536 0.12395626]\n",
      "Standard deviation for feature 0 is 0.0, smaller than 0.001. You may want to exclude this feature.\n",
      "mean [2.82349657 2.55658954 4.69597158]\n",
      "std [0.17786156 0.14303875 0.08497963]\n",
      "... > Scaling features complete\n",
      "... > feature mean(s): \n",
      " {'atom': tensor([6.9448e-01, 1.9805e-01, 3.0151e-02, 1.6461e-02, 1.0410e-02, 2.7721e-03,\n",
      "        5.0742e-04, 5.4493e-02, 2.3823e-01, 9.6431e-04, 3.5836e-01, 4.1098e-02,\n",
      "        8.9808e+00]), 'bond': tensor([0.0000e+00, 4.0584e-02, 2.2196e-02, 1.3994e-02, 3.7772e-03, 6.7954e-04,\n",
      "        8.7919e-01, 6.8715e-01, 7.5795e-02]), 'global': tensor([2.8235, 2.5566, 4.6960])}\n",
      "... > feature std(s):  \n",
      " {'atom': tensor([0.5937, 0.3661, 0.1414, 0.1055, 0.0843, 0.0437, 0.0187, 0.1866, 0.3292,\n",
      "        0.0258, 0.3464, 0.1637, 5.6562]), 'bond': tensor([0.0010, 0.1627, 0.1220, 0.0975, 0.0510, 0.0217, 0.3708, 0.2056, 0.1240]), 'global': tensor([0.1779, 0.1430, 0.0850])}\n",
      "... > Scaling targets\n",
      "mean [0.21658008]\n",
      "std [0.04797486]\n",
      "... > Scaling targets complete\n",
      "... > feature mean(s): \n",
      " {'global': tensor([0.2166])}\n",
      "... > feature std(s):  \n",
      " {'global': tensor([0.0480])}\n",
      "... > loaded dataset\n"
     ]
    }
   ],
   "source": [
    "qm8_loc = \"../../../data/qm8_splits_1109/train_qm8_qtaim_1109_labelled.pkl\"\n",
    "dataset = HeteroGraphGraphLabelDataset(\n",
    "    file=qm8_loc,\n",
    "    allowed_ring_size=[4, 5, 6, 7],\n",
    "    allowed_charges=None,\n",
    "    allowed_spins=None,\n",
    "    self_loop=True,\n",
    "    extra_keys={\n",
    "        \"atom\": [\"extra_feat_atom_esp_total\"],\n",
    "        \"bond\": [\n",
    "            \"extra_feat_bond_esp_total\",\n",
    "            \"extra_feat_bond_ellip_e_dens\",\n",
    "            \"bond_length\",\n",
    "        ],\n",
    "        \"global\": [\"E1-PBE0\"],\n",
    "    },\n",
    "    target_list=[\"E1-PBE0\"],\n",
    "    extra_dataset_info={},\n",
    "    debug=False,\n",
    "    log_scale_features=True,\n",
    "    log_scale_targets=False,\n",
    "    standard_scale_features=True,\n",
    "    standard_scale_targets=True,\n",
    ")"
   ]
  },
  {
   "cell_type": "code",
   "execution_count": 57,
   "metadata": {},
   "outputs": [
    {
     "data": {
      "text/plain": [
       "{'atom': 13, 'bond': 9, 'global': 3}"
      ]
     },
     "execution_count": 57,
     "metadata": {},
     "output_type": "execute_result"
    }
   ],
   "source": [
    "dataset.feature_size()"
   ]
  },
  {
   "cell_type": "code",
   "execution_count": 58,
   "metadata": {},
   "outputs": [
    {
     "name": "stdout",
     "output_type": "stream",
     "text": [
      "--------------------------------------------------\n",
      "Prior to training:\t r2: 0.7773\t mae: 0.0154\t mse: 0.0226\n"
     ]
    }
   ],
   "source": [
    "data_loader = DataLoaderMoleculeGraphTask(\n",
    "    dataset, batch_size=len(dataset.graphs), shuffle=False\n",
    ")\n",
    "\n",
    "batch_graph, batched_labels = next(iter(data_loader))\n",
    "r2_pre, mae, mse = model.evaluate_manually(\n",
    "    batch_graph,\n",
    "    batched_labels,\n",
    "    scaler_list=dataset.label_scalers,\n",
    ")\n",
    "print(\"-\" * 50)\n",
    "print(\n",
    "    \"Prior to training:\\t r2: {:.4f}\\t mae: {:.4f}\\t mse: {:.4f}\".format(\n",
    "        r2_pre, mae, mse\n",
    "    )\n",
    ")"
   ]
  },
  {
   "cell_type": "code",
   "execution_count": null,
   "metadata": {},
   "outputs": [],
   "source": []
  },
  {
   "cell_type": "code",
   "execution_count": null,
   "metadata": {},
   "outputs": [],
   "source": []
  }
 ],
 "metadata": {
  "kernelspec": {
   "display_name": "qtaim_embed",
   "language": "python",
   "name": "python3"
  },
  "language_info": {
   "codemirror_mode": {
    "name": "ipython",
    "version": 3
   },
   "file_extension": ".py",
   "mimetype": "text/x-python",
   "name": "python",
   "nbconvert_exporter": "python",
   "pygments_lexer": "ipython3",
   "version": "3.11.3"
  },
  "orig_nbformat": 4
 },
 "nbformat": 4,
 "nbformat_minor": 2
}
