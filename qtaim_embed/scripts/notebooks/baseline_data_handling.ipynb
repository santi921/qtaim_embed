{
 "cells": [
  {
   "cell_type": "code",
   "execution_count": 1,
   "metadata": {},
   "outputs": [],
   "source": [
    "import pandas as pd\n",
    "import dgl\n",
    "import networkx as nx\n",
    "import numpy as np\n",
    "import torch\n",
    "\n",
    "from qtaim_embed.core.molwrapper import MoleculeWrapper\n",
    "from qtaim_embed.utils.descriptors import get_atom_feats, get_bond_features\n",
    "from qtaim_embed.data.grapher import HeteroCompleteGraphFromMolWrapper\n",
    "from qtaim_embed.data.featurizer import (\n",
    "    BondAsNodeGraphFeaturizerGeneral,\n",
    "    AtomFeaturizerGraphGeneral,\n",
    "    GlobalFeaturizerGraph,\n",
    ")"
   ]
  },
  {
   "cell_type": "code",
   "execution_count": 2,
   "metadata": {},
   "outputs": [],
   "source": [
    "file = \"/home/santiagovargas/dev/qtaim_embed/data/qm8/molecules_full.pkl\"\n",
    "df = pd.read_pickle(file)"
   ]
  },
  {
   "cell_type": "code",
   "execution_count": 3,
   "metadata": {},
   "outputs": [],
   "source": [
    "def clean(input):\n",
    "    return \"\".join([i for i in input if not i.isdigit()])\n",
    "\n",
    "\n",
    "atom_keys = [\n",
    "    \"extra_feat_atom_esp_total\",\n",
    "]\n",
    "\n",
    "bond_keys = [\n",
    "    \"extra_feat_bond_esp_total\",\n",
    "]\n",
    "\n",
    "element_set = set()\n",
    "mol_wrappers = []\n",
    "for index, row in df.iterrows():\n",
    "    charge = 0\n",
    "    free_energy = 0\n",
    "    bonds = row.bonds\n",
    "    id_combined = str(row.ids) + \"_\" + row.names\n",
    "    bonds = {tuple(sorted(b)): None for b in bonds}\n",
    "    global_features = {}\n",
    "    atom_feats = get_atom_feats(row, atom_keys)\n",
    "\n",
    "    bond_feats = get_bond_features(\n",
    "        row,\n",
    "        \"extra_feat_bond_indices_qtaim\",\n",
    "        keys=bond_keys,\n",
    "    )\n",
    "    mol_graph = row.molecule_graph\n",
    "    pmg_mol = row.molecule\n",
    "    formula = pmg_mol.composition.formula.split()\n",
    "    elements = [clean(x) for x in formula]\n",
    "    element_set.update(elements)\n",
    "\n",
    "    # filter for bond_feats = -1\n",
    "    if bond_feats != -1 and atom_feats != 1:\n",
    "        mol_wrapper = MoleculeWrapper(\n",
    "            mol_graph,\n",
    "            functional_group=None,\n",
    "            free_energy=None,\n",
    "            id=None,\n",
    "            non_metal_bonds=None,\n",
    "            atom_features=atom_feats,\n",
    "            bond_features=bond_feats,\n",
    "            global_features=global_features,\n",
    "            original_atom_ind=None,\n",
    "            original_bond_mapping=None,\n",
    "        )\n",
    "        mol_wrappers.append(mol_wrapper)"
   ]
  },
  {
   "cell_type": "code",
   "execution_count": 4,
   "metadata": {},
   "outputs": [],
   "source": [
    "atom_featurizer = AtomFeaturizerGraphGeneral(\n",
    "    selected_keys=[\"extra_feat_atom_esp_total\"],\n",
    "    element_set=element_set,\n",
    ")\n",
    "bond_featurizer = BondAsNodeGraphFeaturizerGeneral(\n",
    "    selected_keys=[\"extra_feat_bond_esp_total\"],\n",
    "    allowed_ring_size=[3, 4, 5, 6, 7],\n",
    ")\n",
    "global_featurizer = GlobalFeaturizerGraph()\n",
    "\n",
    "grapher = HeteroCompleteGraphFromMolWrapper(\n",
    "    atom_featurizer=atom_featurizer,\n",
    "    bond_featurizer=bond_featurizer,\n",
    "    global_featurizer=global_featurizer,\n",
    "    self_loop=True,\n",
    ")\n",
    "\n",
    "graph_list = []\n",
    "for mol in mol_wrappers:\n",
    "    graph = grapher.build_graph(mol)\n",
    "    graph, names = grapher.featurize(graph, mol, ret_feat_names=True)\n",
    "    graph_list.append(graph)"
   ]
  },
  {
   "cell_type": "code",
   "execution_count": 5,
   "metadata": {},
   "outputs": [
    {
     "name": "stdout",
     "output_type": "stream",
     "text": [
      "included in labels\n",
      "{'atom': [3], 'bond': [7], 'global': [2]}\n",
      "{'atom': ['extra_feat_atom_esp_total'], 'bond': ['extra_feat_bond_esp_total'], 'global': ['molecule weight']}\n",
      "included in graph features\n",
      "{'atom': [0, 1, 2, 4, 5, 6, 7, 8, 9, 10, 11, 12, 13], 'bond': [0, 1, 2, 3, 4, 5, 6], 'global': [0, 1]}\n",
      "{'atom': ['total degree', 'is in ring', 'total H', 'chemical symbol', 'chemical symbol', 'chemical symbol', 'chemical symbol', 'chemical symbol', 'ring size', 'ring size', 'ring size', 'ring size', 'ring size'], 'bond': ['metal bond', 'ring inclusion', 'ring size', 'ring size', 'ring size', 'ring size', 'ring size'], 'global': ['num atoms', 'num bonds']}\n"
     ]
    }
   ],
   "source": [
    "# TODO: build dataloader class\n",
    "\n",
    "\n",
    "class Dataset(torch.utils.data.Dataset):\n",
    "    def __init__(self, molecule_wrappers, graphs, feature_names, target_dict):\n",
    "        \"\"\"\n",
    "        Args:\n",
    "            molecule_wrappers (list): list of MoleculeWrapper objects\n",
    "            feature_names (list): list of feature names\n",
    "            graphs (list): list of dgl graphs\n",
    "            target_dict (dict): dict with node type as keys and target names as value\n",
    "        \"\"\"\n",
    "        self.data = molecule_wrappers\n",
    "        self.feature_names = feature_names\n",
    "        self.graphs = graphs\n",
    "        self.target_dict = target_dict\n",
    "\n",
    "        # if self.exclude_dict != []:\n",
    "        #    # get indices of features to exclude\n",
    "        #    self.exclude_indices = [\n",
    "        #        self.feature_names.index(name) for name in self.exclude_names\n",
    "        #    ]\n",
    "        # self.target_index = self.feature_names.index(self.target_name)\n",
    "        # self.target = np.array([mol.global_features[self.target_index] for mol in self.data])\n",
    "        # get target from feature names\n",
    "\n",
    "        self.load()\n",
    "\n",
    "    def __len__(self):\n",
    "        return len(self.data)\n",
    "\n",
    "    def __getitem__(self, idx):\n",
    "        return self.graphs[idx], self.labels[idx]\n",
    "\n",
    "    def get_include_exclude_indices(self):\n",
    "        target_locs = {}\n",
    "        # get locations of target features\n",
    "        for node_type, value_list in self.target_dict.items():\n",
    "            if node_type not in target_locs:\n",
    "                target_locs[node_type] = []\n",
    "\n",
    "            for value in value_list:\n",
    "                target_locs[node_type].append(names[node_type].index(value))\n",
    "\n",
    "        # now partition features into feats in target_locs and feats not in target_locs\n",
    "        include_locs = {}\n",
    "        exclude_locs = {}\n",
    "        include_names = {}\n",
    "        exclude_names = {}\n",
    "\n",
    "        for node_type, value_list in names.items():\n",
    "            if node_type not in include_locs:\n",
    "                include_locs[node_type] = []\n",
    "                exclude_locs[node_type] = []\n",
    "                include_names[node_type] = []\n",
    "                exclude_names[node_type] = []\n",
    "\n",
    "            for i, value in enumerate(value_list):\n",
    "                if node_type in target_locs.keys():\n",
    "                    if i in target_locs[node_type]:\n",
    "                        include_locs[node_type].append(i)\n",
    "                        include_names[node_type].append(value)\n",
    "                    else:\n",
    "                        exclude_locs[node_type].append(i)\n",
    "                        exclude_names[node_type].append(value)\n",
    "                else:\n",
    "                    exclude_locs[node_type].append(i)\n",
    "                    exclude_names[node_type].append(value)\n",
    "\n",
    "        self.include_locs = include_locs\n",
    "        self.exclude_locs = exclude_locs\n",
    "        self.include_names = include_names\n",
    "        self.exclude_names = exclude_names\n",
    "        print(\"included in labels\")\n",
    "        print(self.include_locs)\n",
    "        print(self.include_names)\n",
    "        print(\"included in graph features\")\n",
    "        print(self.exclude_locs)\n",
    "        print(self.exclude_names)\n",
    "\n",
    "    def load(self):\n",
    "        self.get_include_exclude_indices()\n",
    "\n",
    "        label_list = []\n",
    "\n",
    "        for graph in self.graphs:\n",
    "            labels = {}\n",
    "            features_new = {}\n",
    "            for key, value in graph.ndata[\"feat\"].items():\n",
    "                if key in self.include_names.keys():\n",
    "                    graph_features = {}\n",
    "\n",
    "                    graph_features[key] = graph.ndata[\"feat\"][key][\n",
    "                        :, self.exclude_locs[key]\n",
    "                    ]\n",
    "\n",
    "                    features_new.update(graph_features)\n",
    "                    if key == \"global\":\n",
    "                        labels[key] = graph.ndata[\"feat\"][key][\n",
    "                            :, self.include_locs[key]\n",
    "                        ]\n",
    "                    else:\n",
    "                        labels[key] = graph.ndata[\"feat\"][key][\n",
    "                            :, self.include_locs[key]\n",
    "                        ]\n",
    "                graph.ndata[\"feat\"] = features_new\n",
    "            label_list.append(labels)\n",
    "\n",
    "        self.labels = label_list\n",
    "\n",
    "\n",
    "target_dict = {\n",
    "    \"atom\": [\"extra_feat_atom_esp_total\"],\n",
    "    \"bond\": [\"extra_feat_bond_esp_total\"],\n",
    "    \"global\": [\"molecule weight\"],\n",
    "}\n",
    "from copy import deepcopy\n",
    "\n",
    "graph_list_temp = deepcopy(graph_list)\n",
    "train_dataset = Dataset(mol_wrappers, graph_list_temp, names, target_dict=target_dict)"
   ]
  },
  {
   "cell_type": "code",
   "execution_count": 13,
   "metadata": {},
   "outputs": [
    {
     "name": "stdout",
     "output_type": "stream",
     "text": [
      "torch.Size([18, 1])\n",
      "torch.Size([18, 1])\n",
      "torch.Size([1, 1])\n"
     ]
    },
    {
     "data": {
      "text/plain": [
       "[None, None, None]"
      ]
     },
     "execution_count": 13,
     "metadata": {},
     "output_type": "execute_result"
    }
   ],
   "source": [
    "[print(v.shape) for k, v in train_dataset.labels[2].items()]"
   ]
  },
  {
   "cell_type": "code",
   "execution_count": 14,
   "metadata": {},
   "outputs": [
    {
     "data": {
      "text/plain": [
       "torch.Size([18, 13])"
      ]
     },
     "execution_count": 14,
     "metadata": {},
     "output_type": "execute_result"
    }
   ],
   "source": [
    "train_dataset.graphs[2].ndata[\"feat\"][\"atom\"].shape"
   ]
  },
  {
   "cell_type": "code",
   "execution_count": 21,
   "metadata": {},
   "outputs": [
    {
     "name": "stdout",
     "output_type": "stream",
     "text": [
      "<class 'dgl.heterograph.DGLGraph'>\n",
      "<class 'dict'>\n",
      "torch.Size([18, 13])\n",
      "{'atom': tensor([[1.4713e+06],\n",
      "        [3.5727e+01],\n",
      "        [3.4055e+01],\n",
      "        [3.5410e+01],\n",
      "        [3.4057e+01],\n",
      "        [6.2590e+06],\n",
      "        [3.5420e+01],\n",
      "        [2.0817e+06],\n",
      "        [2.0817e+06],\n",
      "        [3.2031e+06],\n",
      "        [3.3250e+01],\n",
      "        [3.5410e+01],\n",
      "        [3.5727e+01],\n",
      "        [3.5420e+01],\n",
      "        [3.4055e+01],\n",
      "        [3.3250e+01],\n",
      "        [3.3248e+01],\n",
      "        [3.4057e+01]]), 'bond': tensor([[1.4942],\n",
      "        [0.8365],\n",
      "        [0.8364],\n",
      "        [0.8456],\n",
      "        [1.7912],\n",
      "        [2.3291],\n",
      "        [0.7243],\n",
      "        [0.6597],\n",
      "        [0.7020],\n",
      "        [0.7020],\n",
      "        [0.8158],\n",
      "        [0.8209],\n",
      "        [0.8155],\n",
      "        [0.7307],\n",
      "        [0.8452],\n",
      "        [0.8417],\n",
      "        [0.8419],\n",
      "        [0.8451]]), 'global': tensor([[114.1440]])}\n"
     ]
    }
   ],
   "source": [
    "print(type(train_dataset.__getitem__(2)[0]))\n",
    "print(type(train_dataset.__getitem__(2)[1]))\n",
    "print(train_dataset.__getitem__(2)[0].ndata[\"feat\"][\"atom\"].shape)\n",
    "print(train_dataset.__getitem__(2)[1])"
   ]
  },
  {
   "cell_type": "code",
   "execution_count": null,
   "metadata": {},
   "outputs": [],
   "source": []
  }
 ],
 "metadata": {
  "kernelspec": {
   "display_name": "qtaim_embed",
   "language": "python",
   "name": "python3"
  },
  "language_info": {
   "codemirror_mode": {
    "name": "ipython",
    "version": 3
   },
   "file_extension": ".py",
   "mimetype": "text/x-python",
   "name": "python",
   "nbconvert_exporter": "python",
   "pygments_lexer": "ipython3",
   "version": "3.11.3"
  },
  "orig_nbformat": 4
 },
 "nbformat": 4,
 "nbformat_minor": 2
}
