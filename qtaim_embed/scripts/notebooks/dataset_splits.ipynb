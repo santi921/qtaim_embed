{
 "cells": [
  {
   "cell_type": "code",
   "execution_count": 6,
   "metadata": {},
   "outputs": [],
   "source": [
    "import pandas as pd\n",
    "\n",
    "\n",
    "def split_pickle_into_train_test(pkl_file, seed=10, test_size=0.1):\n",
    "    \"\"\"\n",
    "    Split a pickle file into train and test sets.\n",
    "    \"\"\"\n",
    "    df = pd.read_pickle(pkl_file)\n",
    "    df = df.sample(frac=1, random_state=seed).reset_index(drop=True)\n",
    "    test = df.sample(frac=test_size, random_state=seed)\n",
    "    train = df.drop(test.index)\n",
    "    return train, test"
   ]
  },
  {
   "cell_type": "code",
   "execution_count": 7,
   "metadata": {},
   "outputs": [],
   "source": [
    "libe_file = \"../../../data/libe_qtaim_1029_labelled.pkl\"\n",
    "train, test = split_pickle_into_train_test(libe_file, seed=10, test_size=0.1)\n",
    "train.to_pickle(\"../../../data/train_libe_qtaim_1029_labelled.pkl\")\n",
    "test.to_pickle(\"../../../data/test_libe_qtaim_1029_labelled.pkl\")"
   ]
  },
  {
   "cell_type": "code",
   "execution_count": 8,
   "metadata": {},
   "outputs": [],
   "source": [
    "libe_file = \"../../../data/qm8_qtaim_1025_labelled.pkl\"\n",
    "train, test = split_pickle_into_train_test(libe_file, seed=10, test_size=0.1)\n",
    "train.to_pickle(\"../../../data/train_qm8_qtaim_1025_labelled.pkl\")\n",
    "test.to_pickle(\"../../../data/test_qm8_qtaim_1025_labelled.pkl\")"
   ]
  },
  {
   "cell_type": "code",
   "execution_count": 9,
   "metadata": {},
   "outputs": [],
   "source": [
    "libe_file = \"../../../data/tox21_qtaim_1026_labelled.pkl\"\n",
    "train, test = split_pickle_into_train_test(libe_file, seed=10, test_size=0.1)\n",
    "train.to_pickle(\"../../../data/train_tox21_qtaim_1026_labelled.pkl\")\n",
    "test.to_pickle(\"../../../data/test_tox21_qtaim_1026_labelled.pkl\")"
   ]
  },
  {
   "cell_type": "code",
   "execution_count": 10,
   "metadata": {},
   "outputs": [],
   "source": [
    "libe_file = \"../../../data/qm9_qtaim_1025_labelled.pkl\"\n",
    "train, test = split_pickle_into_train_test(libe_file, seed=10, test_size=0.1)\n",
    "train.to_pickle(\"../../../data/train_qm9_qtaim_1025_labelled.pkl\")\n",
    "test.to_pickle(\"../../../data/test_qm9_qtaim_1025_labelled.pkl\")"
   ]
  },
  {
   "cell_type": "code",
   "execution_count": 11,
   "metadata": {},
   "outputs": [
    {
     "data": {
      "text/plain": [
       "(120463, 51)"
      ]
     },
     "execution_count": 11,
     "metadata": {},
     "output_type": "execute_result"
    }
   ],
   "source": [
    "train.shape"
   ]
  },
  {
   "cell_type": "code",
   "execution_count": 12,
   "metadata": {},
   "outputs": [
    {
     "data": {
      "text/plain": [
       "(13385, 51)"
      ]
     },
     "execution_count": 12,
     "metadata": {},
     "output_type": "execute_result"
    }
   ],
   "source": [
    "test.shape"
   ]
  },
  {
   "cell_type": "code",
   "execution_count": 14,
   "metadata": {},
   "outputs": [
    {
     "data": {
      "text/plain": [
       "Index(['molecule', 'molecule_graph', 'ids', 'names', 'bonds',\n",
       "       'extra_feat_atom_Lagrangian_K', 'extra_feat_atom_Hamiltonian_K',\n",
       "       'extra_feat_atom_e_density', 'extra_feat_atom_lap_e_density',\n",
       "       'extra_feat_atom_e_loc_func', 'extra_feat_atom_ave_loc_ion_E',\n",
       "       'extra_feat_atom_delta_g_promolecular', 'extra_feat_atom_delta_g_hirsh',\n",
       "       'extra_feat_atom_esp_nuc', 'extra_feat_atom_esp_e',\n",
       "       'extra_feat_atom_esp_total', 'extra_feat_atom_grad_norm',\n",
       "       'extra_feat_atom_lap_norm', 'extra_feat_atom_eig_hess',\n",
       "       'extra_feat_atom_det_hessian', 'extra_feat_atom_ellip_e_dens',\n",
       "       'extra_feat_atom_eta', 'extra_feat_bond_Lagrangian_K',\n",
       "       'extra_feat_bond_Hamiltonian_K', 'extra_feat_bond_e_density',\n",
       "       'extra_feat_bond_lap_e_density', 'extra_feat_bond_e_loc_func',\n",
       "       'extra_feat_bond_ave_loc_ion_E', 'extra_feat_bond_delta_g_promolecular',\n",
       "       'extra_feat_bond_delta_g_hirsh', 'extra_feat_bond_esp_nuc',\n",
       "       'extra_feat_bond_esp_e', 'extra_feat_bond_esp_total',\n",
       "       'extra_feat_bond_grad_norm', 'extra_feat_bond_lap_norm',\n",
       "       'extra_feat_bond_eig_hess', 'extra_feat_bond_det_hessian',\n",
       "       'extra_feat_bond_ellip_e_dens', 'extra_feat_bond_eta',\n",
       "       'extra_feat_bond_indices_qtaim', 'bonds_original', 'u0', 'mu', 'A', 'B',\n",
       "       'C', 'r2', 'homo', 'lumo', 'gap', 'zpve'],\n",
       "      dtype='object')"
      ]
     },
     "execution_count": 14,
     "metadata": {},
     "output_type": "execute_result"
    }
   ],
   "source": [
    "test.columns"
   ]
  },
  {
   "cell_type": "code",
   "execution_count": null,
   "metadata": {},
   "outputs": [],
   "source": []
  }
 ],
 "metadata": {
  "kernelspec": {
   "display_name": "qtaim_embed",
   "language": "python",
   "name": "python3"
  },
  "language_info": {
   "codemirror_mode": {
    "name": "ipython",
    "version": 3
   },
   "file_extension": ".py",
   "mimetype": "text/x-python",
   "name": "python",
   "nbconvert_exporter": "python",
   "pygments_lexer": "ipython3",
   "version": "3.11.3"
  },
  "orig_nbformat": 4
 },
 "nbformat": 4,
 "nbformat_minor": 2
}
