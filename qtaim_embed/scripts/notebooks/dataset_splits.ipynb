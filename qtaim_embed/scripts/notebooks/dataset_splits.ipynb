{
 "cells": [
  {
   "cell_type": "code",
   "execution_count": 2,
   "metadata": {},
   "outputs": [],
   "source": [
    "import pandas as pd\n",
    "\n",
    "\n",
    "def split_pickle_into_train_test(pkl_file, seed=10, test_size=0.1):\n",
    "    \"\"\"\n",
    "    Split a pickle file into train and test sets.\n",
    "    \"\"\"\n",
    "    df = pd.read_pickle(pkl_file)\n",
    "    df = df.sample(frac=1, random_state=seed).reset_index(drop=True)\n",
    "    test = df.sample(frac=test_size, random_state=seed)\n",
    "    train = df.drop(test.index)\n",
    "    return train, test\n",
    "\n",
    "\n",
    "def split_json_into_train_test(json_file, seed=10, test_size=0.1):\n",
    "    \"\"\"\n",
    "    Split a pickle file into train and test sets.\n",
    "    \"\"\"\n",
    "    df = pd.read_json(json_file)\n",
    "    df = df.sample(frac=1, random_state=seed).reset_index(drop=True)\n",
    "    test = df.sample(frac=test_size, random_state=seed)\n",
    "    train = df.drop(test.index)\n",
    "    return train, test\n"
   ]
  },
  {
   "cell_type": "code",
   "execution_count": 3,
   "metadata": {},
   "outputs": [],
   "source": [
    "green = \"/home/santiagovargas/dev/qtaim_embed/data/green_splits/ccsdtf_121423_qtaim.json\"\n",
    "\n",
    "train, test = split_json_into_train_test(green, seed=10, test_size=0.15)"
   ]
  },
  {
   "cell_type": "code",
   "execution_count": 4,
   "metadata": {},
   "outputs": [],
   "source": [
    "green_full = \"/home/santiagovargas/dev/qtaim_embed/data/green_splits/ccsdtf_121423_qtaim.json\"\n",
    "green_10000 = \"/home/santiagovargas/dev/qtaim_embed/data/green_splits/ccsdtf_121423_qtaim_10000.json\"\n",
    "df = pd.read_json(green_full)\n",
    "df_10000 = pd.read_json(green_10000)"
   ]
  },
  {
   "cell_type": "code",
   "execution_count": null,
   "metadata": {},
   "outputs": [],
   "source": [
    "reaction_id_10000 = list(df_10000.reaction_id)\n",
    "reaction_id_full = list(df.reaction_id)\n",
    "ind_test_learn = []\n",
    "\n",
    "for ind, i in enumerate(reaction_id_full): \n",
    "    if i not in reaction_id_10000:\n",
    "        ind_test_learn.append(int(ind))\n",
    "\n",
    "df_test = df.loc[ind_test_learn]\n",
    "#df[df[\"reaction_id\"] in df_10000[\"reaction_id\"]]\n",
    "\n",
    "df_test.to_json(\"/home/santiagovargas/dev/qtaim_embed/data/green_splits/ccsdtf_121423_qtaim_learning_test.json\")"
   ]
  },
  {
   "cell_type": "code",
   "execution_count": 4,
   "metadata": {},
   "outputs": [],
   "source": [
    "# save \n",
    "train.to_json(\"/home/santiagovargas/dev/qtaim_embed/data/green_splits/train_ccsdtf_121423_qtaim.json\")\n",
    "test.to_json(\"/home/santiagovargas/dev/qtaim_embed/data/green_splits/test_ccsdtf_121423_qtaim.json\")"
   ]
  },
  {
   "cell_type": "code",
   "execution_count": 17,
   "metadata": {},
   "outputs": [],
   "source": [
    "libe = pd.read_pickle(\"../../../data/splits_1205/libe_qtaim_1205_labelled.pkl\")\n"
   ]
  },
  {
   "cell_type": "code",
   "execution_count": 14,
   "metadata": {},
   "outputs": [
    {
     "name": "stdout",
     "output_type": "stream",
     "text": [
      "libe_qtaim_1205_labelled.pkl\t   test_tox21_qtaim_1205_labelled.pkl\n",
      "qm8_qtaim_120523.pkl\t\t   tox21_qtaim_120523.pkl\n",
      "qm8_qtaim_1205_labelled.pkl\t   tox21_qtaim_1205_labelled.pkl\n",
      "qm9_qtaim_1205_labelled.pkl\t   train_libe_qtaim_1205_labelled.pkl\n",
      "qm9_qtaim_1205.pkl\t\t   train_qm8_qtaim_1205_labelled.pkl\n",
      "test_libe_qtaim_1205_labelled.pkl  train_qm9_qtaim_1205_labelled.pkl\n",
      "test_qm8_qtaim_1205_labelled.pkl   train_tox21_qtaim_1205_labelled.pkl\n",
      "test_qm9_qtaim_1205_labelled.pkl   wb97xd3_qtaim_120523.json\n"
     ]
    }
   ],
   "source": [
    "! ls ../../../data/splits_1205/"
   ]
  },
  {
   "cell_type": "code",
   "execution_count": 19,
   "metadata": {},
   "outputs": [
    {
     "data": {
      "text/plain": [
       "(17157, 55)"
      ]
     },
     "execution_count": 19,
     "metadata": {},
     "output_type": "execute_result"
    }
   ],
   "source": [
    "libe.shape\n"
   ]
  },
  {
   "cell_type": "code",
   "execution_count": 41,
   "metadata": {},
   "outputs": [],
   "source": [
    "libe[\"bonds\"] = libe[\"extra_feat_bond_indices_qtaim\"]\n",
    "# save\n",
    "libe.to_pickle(\"../../../data/splits_1205/libe_qtaim_1205_labelled.pkl\")\n"
   ]
  },
  {
   "cell_type": "code",
   "execution_count": 22,
   "metadata": {},
   "outputs": [],
   "source": [
    "qm9 = pd.read_pickle(\"../../../data/splits_1205/qm9_qtaim_1205_labelled.pkl\")\n"
   ]
  },
  {
   "cell_type": "code",
   "execution_count": 8,
   "metadata": {},
   "outputs": [
    {
     "data": {
      "text/plain": [
       "Index(['molecule', 'molecule_graph', 'ids', 'names', 'bonds',\n",
       "       'extra_feat_atom_Lagrangian_K', 'extra_feat_atom_Hamiltonian_K',\n",
       "       'extra_feat_atom_e_density', 'extra_feat_atom_lap_e_density',\n",
       "       'extra_feat_atom_e_loc_func', 'extra_feat_atom_ave_loc_ion_E',\n",
       "       'extra_feat_atom_delta_g_promolecular', 'extra_feat_atom_delta_g_hirsh',\n",
       "       'extra_feat_atom_esp_nuc', 'extra_feat_atom_esp_e',\n",
       "       'extra_feat_atom_esp_total', 'extra_feat_atom_grad_norm',\n",
       "       'extra_feat_atom_lap_norm', 'extra_feat_atom_eig_hess',\n",
       "       'extra_feat_atom_det_hessian', 'extra_feat_atom_ellip_e_dens',\n",
       "       'extra_feat_atom_eta', 'extra_feat_bond_Lagrangian_K',\n",
       "       'extra_feat_bond_Hamiltonian_K', 'extra_feat_bond_e_density',\n",
       "       'extra_feat_bond_lap_e_density', 'extra_feat_bond_e_loc_func',\n",
       "       'extra_feat_bond_ave_loc_ion_E', 'extra_feat_bond_delta_g_promolecular',\n",
       "       'extra_feat_bond_delta_g_hirsh', 'extra_feat_bond_esp_nuc',\n",
       "       'extra_feat_bond_esp_e', 'extra_feat_bond_esp_total',\n",
       "       'extra_feat_bond_grad_norm', 'extra_feat_bond_lap_norm',\n",
       "       'extra_feat_bond_eig_hess', 'extra_feat_bond_det_hessian',\n",
       "       'extra_feat_bond_ellip_e_dens', 'extra_feat_bond_eta',\n",
       "       'extra_feat_bond_indices_qtaim', 'bonds_original',\n",
       "       'extra_feat_atom_energy_density', 'extra_feat_atom_density_beta',\n",
       "       'extra_feat_atom_density_alpha', 'extra_feat_atom_spin_density',\n",
       "       'extra_feat_atom_lol', 'extra_feat_bond_energy_density',\n",
       "       'extra_feat_bond_density_beta', 'extra_feat_bond_density_alpha',\n",
       "       'extra_feat_bond_spin_density', 'extra_feat_bond_lol'],\n",
       "      dtype='object')"
      ]
     },
     "execution_count": 8,
     "metadata": {},
     "output_type": "execute_result"
    }
   ],
   "source": [
    "qm9.columns\n"
   ]
  },
  {
   "cell_type": "code",
   "execution_count": 2,
   "metadata": {},
   "outputs": [],
   "source": [
    "qm8 = pd.read_pickle(\"../../../data/splits_1205/qm8_qtaim_1205_labelled.pkl\")\n"
   ]
  },
  {
   "cell_type": "code",
   "execution_count": 3,
   "metadata": {},
   "outputs": [
    {
     "data": {
      "text/plain": [
       "Index(['molecule', 'molecule_graph', 'bonds', 'ids', 'names',\n",
       "       'extra_feat_atom_Lagrangian_K', 'extra_feat_atom_Hamiltonian_K',\n",
       "       'extra_feat_atom_energy_density', 'extra_feat_atom_lap_e_density',\n",
       "       'extra_feat_atom_e_loc_func', 'extra_feat_atom_ave_loc_ion_E',\n",
       "       'extra_feat_atom_delta_g_promolecular', 'extra_feat_atom_delta_g_hirsh',\n",
       "       'extra_feat_atom_esp_nuc', 'extra_feat_atom_esp_e',\n",
       "       'extra_feat_atom_esp_total', 'extra_feat_atom_grad_norm',\n",
       "       'extra_feat_atom_lap_norm', 'extra_feat_atom_eig_hess',\n",
       "       'extra_feat_atom_det_hessian', 'extra_feat_atom_ellip_e_dens',\n",
       "       'extra_feat_atom_eta', 'extra_feat_atom_density_beta',\n",
       "       'extra_feat_atom_density_alpha', 'extra_feat_atom_spin_density',\n",
       "       'extra_feat_atom_lol', 'extra_feat_bond_Lagrangian_K',\n",
       "       'extra_feat_bond_Hamiltonian_K', 'extra_feat_bond_energy_density',\n",
       "       'extra_feat_bond_lap_e_density', 'extra_feat_bond_e_loc_func',\n",
       "       'extra_feat_bond_ave_loc_ion_E', 'extra_feat_bond_delta_g_promolecular',\n",
       "       'extra_feat_bond_delta_g_hirsh', 'extra_feat_bond_esp_nuc',\n",
       "       'extra_feat_bond_esp_e', 'extra_feat_bond_esp_total',\n",
       "       'extra_feat_bond_grad_norm', 'extra_feat_bond_lap_norm',\n",
       "       'extra_feat_bond_eig_hess', 'extra_feat_bond_det_hessian',\n",
       "       'extra_feat_bond_ellip_e_dens', 'extra_feat_bond_eta',\n",
       "       'extra_feat_bond_density_beta', 'extra_feat_bond_density_alpha',\n",
       "       'extra_feat_bond_spin_density', 'extra_feat_bond_lol',\n",
       "       'extra_feat_bond_indices_qtaim', 'bonds_original', 'gdb9_index',\n",
       "       'E1-CC2', 'E2-CC2', 'f1-CC2', 'f2-CC2', 'E1-PBE0', 'E2-PBE0', 'f1-PBE0',\n",
       "       'f2-PBE0', 'E1-CAM', 'E2-CAM', 'f1-CAM', 'f2-CAM'],\n",
       "      dtype='object')"
      ]
     },
     "execution_count": 3,
     "metadata": {},
     "output_type": "execute_result"
    }
   ],
   "source": [
    "qm8.columns\n"
   ]
  },
  {
   "cell_type": "code",
   "execution_count": 40,
   "metadata": {},
   "outputs": [
    {
     "data": {
      "text/plain": [
       "0        [[(6, 7), (5, 6), (6, 12), (2, 6), (3, 5), (2,...\n",
       "1        [[(5, 14), (5, 16), (5, 5), (5, 6), (5, 13), (...\n",
       "2        [[(5, 12), (6, 14), (6, 17), (5, 5), (6, 6), (...\n",
       "3        [[(5, 15), (5, 5), (5, 6), (5, 14), (3, 5), (1...\n",
       "4        [[(6, 7), (6, 17), (5, 6), (4, 15), (2, 13), (...\n",
       "                               ...                        \n",
       "21781    [[(5, 12), (4, 11), (4, 5), (5, 5), (3, 4), (5...\n",
       "21782    [[(5, 11), (4, 5), (3, 4), (3, 10), (5, 6), (3...\n",
       "21783    [[(5, 13), (5, 5), (3, 5), (2, 10), (2, 3), (5...\n",
       "21784    [[(4, 15), (3, 14), (3, 4), (3, 16), (3, 3), (...\n",
       "21785    [[(7, 11), (7, 7), (4, 9), (6, 7), (4, 6), (4,...\n",
       "Name: bonds, Length: 21786, dtype: object"
      ]
     },
     "execution_count": 40,
     "metadata": {},
     "output_type": "execute_result"
    }
   ],
   "source": [
    "qm8.bonds\n"
   ]
  },
  {
   "cell_type": "code",
   "execution_count": 11,
   "metadata": {},
   "outputs": [],
   "source": [
    "libe = pd.read_pickle(\"../../../data/splits_1205/libe_qtaim_1205_labelled.pkl\")\n"
   ]
  },
  {
   "cell_type": "code",
   "execution_count": 12,
   "metadata": {},
   "outputs": [
    {
     "data": {
      "text/html": [
       "<div>\n",
       "<style scoped>\n",
       "    .dataframe tbody tr th:only-of-type {\n",
       "        vertical-align: middle;\n",
       "    }\n",
       "\n",
       "    .dataframe tbody tr th {\n",
       "        vertical-align: top;\n",
       "    }\n",
       "\n",
       "    .dataframe thead th {\n",
       "        text-align: right;\n",
       "    }\n",
       "</style>\n",
       "<table border=\"1\" class=\"dataframe\">\n",
       "  <thead>\n",
       "    <tr style=\"text-align: right;\">\n",
       "      <th></th>\n",
       "      <th>molecule</th>\n",
       "      <th>molecule_graph</th>\n",
       "      <th>bonds</th>\n",
       "      <th>ids</th>\n",
       "      <th>names</th>\n",
       "      <th>extra_feat_atom_Lagrangian_K</th>\n",
       "      <th>extra_feat_atom_Hamiltonian_K</th>\n",
       "      <th>extra_feat_atom_energy_density</th>\n",
       "      <th>extra_feat_atom_lap_e_density</th>\n",
       "      <th>extra_feat_atom_e_loc_func</th>\n",
       "      <th>...</th>\n",
       "      <th>extra_feat_bond_ellip_e_dens</th>\n",
       "      <th>extra_feat_bond_eta</th>\n",
       "      <th>extra_feat_bond_density_beta</th>\n",
       "      <th>extra_feat_bond_density_alpha</th>\n",
       "      <th>extra_feat_bond_spin_density</th>\n",
       "      <th>extra_feat_bond_lol</th>\n",
       "      <th>extra_feat_bond_indices_qtaim</th>\n",
       "      <th>bonds_original</th>\n",
       "      <th>ev_free_energy</th>\n",
       "      <th>shifted_rrho_ev_free_energy</th>\n",
       "    </tr>\n",
       "  </thead>\n",
       "  <tbody>\n",
       "  </tbody>\n",
       "</table>\n",
       "<p>0 rows × 51 columns</p>\n",
       "</div>"
      ],
      "text/plain": [
       "Empty DataFrame\n",
       "Columns: [molecule, molecule_graph, bonds, ids, names, extra_feat_atom_Lagrangian_K, extra_feat_atom_Hamiltonian_K, extra_feat_atom_energy_density, extra_feat_atom_lap_e_density, extra_feat_atom_e_loc_func, extra_feat_atom_ave_loc_ion_E, extra_feat_atom_delta_g_promolecular, extra_feat_atom_delta_g_hirsh, extra_feat_atom_esp_nuc, extra_feat_atom_esp_e, extra_feat_atom_esp_total, extra_feat_atom_grad_norm, extra_feat_atom_lap_norm, extra_feat_atom_eig_hess, extra_feat_atom_det_hessian, extra_feat_atom_ellip_e_dens, extra_feat_atom_eta, extra_feat_atom_density_beta, extra_feat_atom_density_alpha, extra_feat_atom_spin_density, extra_feat_atom_lol, extra_feat_bond_Lagrangian_K, extra_feat_bond_Hamiltonian_K, extra_feat_bond_energy_density, extra_feat_bond_lap_e_density, extra_feat_bond_e_loc_func, extra_feat_bond_ave_loc_ion_E, extra_feat_bond_delta_g_promolecular, extra_feat_bond_delta_g_hirsh, extra_feat_bond_esp_nuc, extra_feat_bond_esp_e, extra_feat_bond_esp_total, extra_feat_bond_grad_norm, extra_feat_bond_lap_norm, extra_feat_bond_eig_hess, extra_feat_bond_det_hessian, extra_feat_bond_ellip_e_dens, extra_feat_bond_eta, extra_feat_bond_density_beta, extra_feat_bond_density_alpha, extra_feat_bond_spin_density, extra_feat_bond_lol, extra_feat_bond_indices_qtaim, bonds_original, ev_free_energy, shifted_rrho_ev_free_energy]\n",
       "Index: []\n",
       "\n",
       "[0 rows x 51 columns]"
      ]
     },
     "execution_count": 12,
     "metadata": {},
     "output_type": "execute_result"
    }
   ],
   "source": [
    "libe\n"
   ]
  },
  {
   "cell_type": "code",
   "execution_count": 21,
   "metadata": {},
   "outputs": [],
   "source": [
    "libe_file = \"../../../data/splits_1205/libe_qtaim_1205_labelled.pkl\"\n",
    "train, test = split_pickle_into_train_test(libe_file, seed=10, test_size=0.1)\n",
    "train.to_pickle(\"../../../data/splits_1205/train_libe_qtaim_1205_labelled.pkl\")\n",
    "test.to_pickle(\"../../../data/splits_1205/test_libe_qtaim_1205_labelled.pkl\")\n"
   ]
  },
  {
   "cell_type": "code",
   "execution_count": 4,
   "metadata": {},
   "outputs": [],
   "source": [
    "libe_file = \"../../../data/splits_1205/qm8_qtaim_1205_labelled.pkl\"\n",
    "train, test = split_pickle_into_train_test(libe_file, seed=10, test_size=0.1)\n",
    "train.to_pickle(\"../../../data/splits_1205/train_qm8_qtaim_1205_labelled.pkl\")\n",
    "test.to_pickle(\"../../../data/splits_1205/test_qm8_qtaim_1205_labelled.pkl\")\n"
   ]
  },
  {
   "cell_type": "code",
   "execution_count": 30,
   "metadata": {},
   "outputs": [],
   "source": [
    "libe_file = \"../../../data/splits_1205/tox21_qtaim_1205_labelled.pkl\"\n",
    "train, test = split_pickle_into_train_test(libe_file, seed=10, test_size=0.1)\n",
    "train.to_pickle(\"../../../data/splits_1205/train_tox21_qtaim_1205_labelled.pkl\")\n",
    "test.to_pickle(\"../../../data/splits_1205/test_tox21_qtaim_1205_labelled.pkl\")\n"
   ]
  },
  {
   "cell_type": "code",
   "execution_count": 22,
   "metadata": {},
   "outputs": [
    {
     "data": {
      "text/plain": [
       "(15441, 55)"
      ]
     },
     "execution_count": 22,
     "metadata": {},
     "output_type": "execute_result"
    }
   ],
   "source": [
    "train.shape\n"
   ]
  },
  {
   "cell_type": "code",
   "execution_count": 31,
   "metadata": {},
   "outputs": [],
   "source": [
    "libe_file = \"../../../data/splits_1205/qm9_qtaim_1205_labelled.pkl\"\n",
    "train, test = split_pickle_into_train_test(libe_file, seed=10, test_size=0.1)\n",
    "train.to_pickle(\"../../../data/splits_1205/train_qm9_qtaim_1205_labelled.pkl\")\n",
    "test.to_pickle(\"../../../data/splits_1205/test_qm9_qtaim_1205_labelled.pkl\")\n"
   ]
  },
  {
   "cell_type": "code",
   "execution_count": 11,
   "metadata": {},
   "outputs": [
    {
     "data": {
      "text/plain": [
       "(120463, 51)"
      ]
     },
     "execution_count": 11,
     "metadata": {},
     "output_type": "execute_result"
    }
   ],
   "source": [
    "train.shape\n"
   ]
  },
  {
   "cell_type": "code",
   "execution_count": 12,
   "metadata": {},
   "outputs": [
    {
     "data": {
      "text/plain": [
       "(13385, 51)"
      ]
     },
     "execution_count": 12,
     "metadata": {},
     "output_type": "execute_result"
    }
   ],
   "source": [
    "test.shape\n"
   ]
  },
  {
   "cell_type": "code",
   "execution_count": 34,
   "metadata": {},
   "outputs": [],
   "source": [
    "df_check = pd.read_pickle(\"../../../data/qm9_qtaim_1025_labelled.pkl\")\n"
   ]
  },
  {
   "cell_type": "code",
   "execution_count": 4,
   "metadata": {},
   "outputs": [],
   "source": [
    "df_tox21 = pd.read_pickle(\"../../../data/tox21_qtaim_1026_labelled.pkl\")\n"
   ]
  },
  {
   "cell_type": "code",
   "execution_count": 5,
   "metadata": {},
   "outputs": [],
   "source": [
    "df_qm8 = pd.read_pickle(\"../../../data/qm8_qtaim_1109_labelled.pkl\")\n"
   ]
  },
  {
   "cell_type": "code",
   "execution_count": 35,
   "metadata": {},
   "outputs": [
    {
     "data": {
      "text/plain": [
       "Index(['molecule', 'molecule_graph', 'ids', 'names', 'bonds',\n",
       "       'extra_feat_atom_Lagrangian_K', 'extra_feat_atom_Hamiltonian_K',\n",
       "       'extra_feat_atom_e_density', 'extra_feat_atom_lap_e_density',\n",
       "       'extra_feat_atom_e_loc_func', 'extra_feat_atom_ave_loc_ion_E',\n",
       "       'extra_feat_atom_delta_g_promolecular', 'extra_feat_atom_delta_g_hirsh',\n",
       "       'extra_feat_atom_esp_nuc', 'extra_feat_atom_esp_e',\n",
       "       'extra_feat_atom_esp_total', 'extra_feat_atom_grad_norm',\n",
       "       'extra_feat_atom_lap_norm', 'extra_feat_atom_eig_hess',\n",
       "       'extra_feat_atom_det_hessian', 'extra_feat_atom_ellip_e_dens',\n",
       "       'extra_feat_atom_eta', 'extra_feat_bond_Lagrangian_K',\n",
       "       'extra_feat_bond_Hamiltonian_K', 'extra_feat_bond_e_density',\n",
       "       'extra_feat_bond_lap_e_density', 'extra_feat_bond_e_loc_func',\n",
       "       'extra_feat_bond_ave_loc_ion_E', 'extra_feat_bond_delta_g_promolecular',\n",
       "       'extra_feat_bond_delta_g_hirsh', 'extra_feat_bond_esp_nuc',\n",
       "       'extra_feat_bond_esp_e', 'extra_feat_bond_esp_total',\n",
       "       'extra_feat_bond_grad_norm', 'extra_feat_bond_lap_norm',\n",
       "       'extra_feat_bond_eig_hess', 'extra_feat_bond_det_hessian',\n",
       "       'extra_feat_bond_ellip_e_dens', 'extra_feat_bond_eta',\n",
       "       'extra_feat_bond_indices_qtaim', 'bonds_original', 'u0', 'mu', 'A', 'B',\n",
       "       'C', 'r2', 'homo', 'lumo', 'gap', 'zpve'],\n",
       "      dtype='object')"
      ]
     },
     "execution_count": 35,
     "metadata": {},
     "output_type": "execute_result"
    }
   ],
   "source": [
    "df_check.columns\n"
   ]
  },
  {
   "cell_type": "code",
   "execution_count": 8,
   "metadata": {},
   "outputs": [
    {
     "data": {
      "text/plain": [
       "Index(['molecule', 'molecule_graph', 'bonds', 'ids', 'names',\n",
       "       'extra_feat_atom_Lagrangian_K', 'extra_feat_atom_Hamiltonian_K',\n",
       "       'extra_feat_atom_e_density', 'extra_feat_atom_lap_e_density',\n",
       "       'extra_feat_atom_e_loc_func', 'extra_feat_atom_ave_loc_ion_E',\n",
       "       'extra_feat_atom_delta_g_promolecular', 'extra_feat_atom_delta_g_hirsh',\n",
       "       'extra_feat_atom_esp_nuc', 'extra_feat_atom_esp_e',\n",
       "       'extra_feat_atom_esp_total', 'extra_feat_atom_grad_norm',\n",
       "       'extra_feat_atom_lap_norm', 'extra_feat_atom_eig_hess',\n",
       "       'extra_feat_atom_det_hessian', 'extra_feat_atom_ellip_e_dens',\n",
       "       'extra_feat_atom_eta', 'extra_feat_bond_Lagrangian_K',\n",
       "       'extra_feat_bond_Hamiltonian_K', 'extra_feat_bond_e_density',\n",
       "       'extra_feat_bond_lap_e_density', 'extra_feat_bond_e_loc_func',\n",
       "       'extra_feat_bond_ave_loc_ion_E', 'extra_feat_bond_delta_g_promolecular',\n",
       "       'extra_feat_bond_delta_g_hirsh', 'extra_feat_bond_esp_nuc',\n",
       "       'extra_feat_bond_esp_e', 'extra_feat_bond_esp_total',\n",
       "       'extra_feat_bond_grad_norm', 'extra_feat_bond_lap_norm',\n",
       "       'extra_feat_bond_eig_hess', 'extra_feat_bond_det_hessian',\n",
       "       'extra_feat_bond_ellip_e_dens', 'extra_feat_bond_eta',\n",
       "       'extra_feat_bond_indices_qtaim', 'bonds_original', 'gdb9_index',\n",
       "       'E1-CC2', 'E2-CC2', 'f1-CC2', 'f2-CC2', 'E1-PBE0', 'E2-PBE0', 'f1-PBE0',\n",
       "       'f2-PBE0', 'E1-CAM', 'E2-CAM', 'f1-CAM', 'f2-CAM'],\n",
       "      dtype='object')"
      ]
     },
     "execution_count": 8,
     "metadata": {},
     "output_type": "execute_result"
    }
   ],
   "source": [
    "df_qm8.columns\n"
   ]
  },
  {
   "cell_type": "code",
   "execution_count": 10,
   "metadata": {},
   "outputs": [
    {
     "data": {
      "text/plain": [
       "Index(['molecule', 'molecule_graph', 'ids', 'names',\n",
       "       'extra_feat_atom_Lagrangian_K', 'extra_feat_atom_Hamiltonian_K',\n",
       "       'extra_feat_atom_e_density', 'extra_feat_atom_lap_e_density',\n",
       "       'extra_feat_atom_e_loc_func', 'extra_feat_atom_ave_loc_ion_E',\n",
       "       'extra_feat_atom_delta_g_promolecular', 'extra_feat_atom_delta_g_hirsh',\n",
       "       'extra_feat_atom_esp_nuc', 'extra_feat_atom_esp_e',\n",
       "       'extra_feat_atom_esp_total', 'extra_feat_atom_grad_norm',\n",
       "       'extra_feat_atom_lap_norm', 'extra_feat_atom_eig_hess',\n",
       "       'extra_feat_atom_det_hessian', 'extra_feat_atom_ellip_e_dens',\n",
       "       'extra_feat_atom_eta', 'extra_feat_bond_Lagrangian_K',\n",
       "       'extra_feat_bond_Hamiltonian_K', 'extra_feat_bond_e_density',\n",
       "       'extra_feat_bond_lap_e_density', 'extra_feat_bond_e_loc_func',\n",
       "       'extra_feat_bond_ave_loc_ion_E', 'extra_feat_bond_delta_g_promolecular',\n",
       "       'extra_feat_bond_delta_g_hirsh', 'extra_feat_bond_esp_nuc',\n",
       "       'extra_feat_bond_esp_e', 'extra_feat_bond_esp_total',\n",
       "       'extra_feat_bond_grad_norm', 'extra_feat_bond_lap_norm',\n",
       "       'extra_feat_bond_eig_hess', 'extra_feat_bond_det_hessian',\n",
       "       'extra_feat_bond_ellip_e_dens', 'extra_feat_bond_eta',\n",
       "       'extra_feat_bond_indices_qtaim', 'bonds', 'NR-AR', 'NR-AR-LBD',\n",
       "       'NR-AhR', 'NR-Aromatase', 'NR-ER', 'NR-ER-LBD', 'NR-PPAR-gamma',\n",
       "       'SR-ARE', 'SR-ATAD5', 'SR-HSE', 'SR-MMP', 'SR-p53'],\n",
       "      dtype='object')"
      ]
     },
     "execution_count": 10,
     "metadata": {},
     "output_type": "execute_result"
    }
   ],
   "source": [
    "df_tox21.columns\n"
   ]
  },
  {
   "cell_type": "code",
   "execution_count": 5,
   "metadata": {},
   "outputs": [],
   "source": [
    "df_qm8 = pd.read_pickle(\"../../../data/splits_1205/train_qm8_qtaim_1205_labelled.pkl\")\n"
   ]
  },
  {
   "cell_type": "code",
   "execution_count": 7,
   "metadata": {},
   "outputs": [],
   "source": [
    "df_qm9 = pd.read_pickle(\"../../../data/splits_1205/train_qm9_qtaim_1205_labelled.pkl\")\n"
   ]
  },
  {
   "cell_type": "code",
   "execution_count": 12,
   "metadata": {},
   "outputs": [],
   "source": [
    "df_libe = pd.read_pickle(\"../../../data/splits_1205/train_libe_qtaim_1205_labelled.pkl\")\n"
   ]
  },
  {
   "cell_type": "code",
   "execution_count": 4,
   "metadata": {},
   "outputs": [
    {
     "name": "stdout",
     "output_type": "stream",
     "text": [
      "libe_qtaim_1205_labelled.pkl\t   test_tox21_qtaim_1205_labelled.pkl\n",
      "qm8_qtaim_120523.pkl\t\t   tox21_qtaim_120523.pkl\n",
      "qm8_qtaim_1205_labelled.pkl\t   tox21_qtaim_1205_labelled.pkl\n",
      "qm9_qtaim_1205_labelled.pkl\t   train_libe_qtaim_1205_labelled.pkl\n",
      "qm9_qtaim_1205.pkl\t\t   train_qm8_qtaim_1205_labelled.pkl\n",
      "test_libe_qtaim_1205_labelled.pkl  train_qm9_qtaim_1205_labelled.pkl\n",
      "test_qm8_qtaim_1205_labelled.pkl   train_tox21_qtaim_1205_labelled.pkl\n",
      "test_qm9_qtaim_1205_labelled.pkl   wb97xd3_qtaim_120523.json\n"
     ]
    }
   ],
   "source": [
    "! ls ../../../data/splits_1205/"
   ]
  },
  {
   "cell_type": "code",
   "execution_count": 6,
   "metadata": {},
   "outputs": [],
   "source": [
    "# get 10 rows of the qm8 data\n",
    "df_10 = df_qm8.sample(n=10, random_state=10)\n",
    "# save the 10 rows\n",
    "df_10.to_pickle(\"../../../data/splits_1205/train_qm8_qtaim_1205_labelled_10.pkl\")\n",
    "# get 100 rows of the qm8 data\n",
    "df_100 = df_qm8.sample(n=100, random_state=10)\n",
    "# save the 100 rows\n",
    "df_100.to_pickle(\"../../../data/splits_1205/train_qm8_qtaim_1205_labelled_100.pkl\")\n",
    "# get 1000 rows of the qm8 data\n",
    "df_1000 = df_qm8.sample(n=1000, random_state=10)\n",
    "# save the 1000 rows\n",
    "df_1000.to_pickle(\"../../../data/splits_1205/train_qm8_qtaim_1205_labelled_1000.pkl\")\n",
    "# get 10000 rows of the qm8 data\n",
    "df_10000 = df_qm8.sample(n=10000, random_state=10)\n",
    "# save the 10000 rows\n",
    "df_10000.to_pickle(\"../../../data/splits_1205/train_qm8_qtaim_1205_labelled_10000.pkl\")\n"
   ]
  },
  {
   "cell_type": "code",
   "execution_count": 8,
   "metadata": {},
   "outputs": [],
   "source": [
    "# get 10 rows of the qm8 data\n",
    "df_10 = df_qm9.sample(n=10, random_state=10)\n",
    "# save the 10 rows\n",
    "df_10.to_pickle(\"../../../data/splits_1205/train_qm9_qtaim_1205_labelled_10.pkl\")\n",
    "# get 100 rows of the qm8 data\n",
    "df_100 = df_qm9.sample(n=100, random_state=10)\n",
    "# save the 100 rows\n",
    "df_100.to_pickle(\"../../../data/splits_1205/train_qm9_qtaim_1205_labelled_100.pkl\")\n",
    "# get 1000 rows of the qm8 data\n",
    "df_1000 = df_qm9.sample(n=1000, random_state=10)\n",
    "# save the 1000 rows\n",
    "df_1000.to_pickle(\"../../../data/splits_1205/train_qm9_qtaim_1205_labelled_1000.pkl\")\n",
    "# get 10000 rows of the qm8 data\n",
    "df_10000 = df_qm9.sample(n=10000, random_state=10)\n",
    "# save the 10000 rows\n",
    "df_10000.to_pickle(\"../../../data/splits_1205/train_qm9_qtaim_1205_labelled_10000.pkl\")\n",
    "# get 10000 rows of the qm8 data\n",
    "df_100000 = df_qm9.sample(n=100000, random_state=10)\n",
    "# save the 10000 rows\n",
    "df_100000.to_pickle(\n",
    "    \"../../../data/splits_1205/train_qm9_qtaim_1205_labelled_100000.pkl\"\n",
    ")\n"
   ]
  },
  {
   "cell_type": "code",
   "execution_count": 13,
   "metadata": {},
   "outputs": [],
   "source": [
    "# get 10 rows of the qm8 data\n",
    "df_10 = df_libe.sample(n=10, random_state=10)\n",
    "# save the 10 rows\n",
    "df_10.to_pickle(\"../../../data/splits_1205/train_libe_qtaim_1205_labelled_10.pkl\")\n",
    "# get 100 rows of the qm8 data\n",
    "df_100 = df_libe.sample(n=100, random_state=10)\n",
    "# save the 100 rows\n",
    "df_100.to_pickle(\"../../../data/splits_1205/train_libe_qtaim_1205_labelled_100.pkl\")\n",
    "# get 1000 rows of the qm8 data\n",
    "df_1000 = df_libe.sample(n=1000, random_state=10)\n",
    "# save the 1000 rows\n",
    "df_1000.to_pickle(\"../../../data/splits_1205/train_libe_qtaim_1205_labelled_1000.pkl\")\n",
    "# get 10000 rows of the qm8 data\n",
    "df_10000 = df_libe.sample(n=10000, random_state=10)\n",
    "# save the 10000 rows\n",
    "df_10000.to_pickle(\"../../../data/splits_1205/train_libe_qtaim_1205_labelled_10000.pkl\")\n"
   ]
  },
  {
   "cell_type": "code",
   "execution_count": null,
   "metadata": {},
   "outputs": [],
   "source": []
  }
 ],
 "metadata": {
  "kernelspec": {
   "display_name": "qtaim_embed",
   "language": "python",
   "name": "python3"
  },
  "language_info": {
   "codemirror_mode": {
    "name": "ipython",
    "version": 3
   },
   "file_extension": ".py",
   "mimetype": "text/x-python",
   "name": "python",
   "nbconvert_exporter": "python",
   "pygments_lexer": "ipython3",
   "version": "3.9.18"
  },
  "orig_nbformat": 4
 },
 "nbformat": 4,
 "nbformat_minor": 2
}
