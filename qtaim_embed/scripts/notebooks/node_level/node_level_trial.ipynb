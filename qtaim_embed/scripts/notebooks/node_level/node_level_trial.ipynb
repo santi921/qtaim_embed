{
 "cells": [
  {
   "cell_type": "code",
   "execution_count": 1,
   "metadata": {},
   "outputs": [],
   "source": [
    "import numpy as np\n",
    "import pandas as pd\n",
    "from copy import deepcopy\n",
    "import networkx as nx\n",
    "\n",
    "import torch\n",
    "import dgl\n",
    "from tqdm import tqdm\n",
    "from qtaim_embed.utils.grapher import get_grapher\n",
    "\n",
    "from qtaim_embed.data.molwrapper import mol_wrappers_from_df\n",
    "from qtaim_embed.utils.tests import get_data\n",
    "from qtaim_embed.core.dataset import HeteroGraphNodeLabelDataset\n",
    "from qtaim_embed.data.dataloader import DataLoaderMoleculeNodeTask\n",
    "from qtaim_embed.models.node_level.base_gcn import GCNNodePred"
   ]
  },
  {
   "cell_type": "code",
   "execution_count": 2,
   "metadata": {},
   "outputs": [
    {
     "ename": "ModuleNotFoundError",
     "evalue": "No module named 'pickle5'",
     "output_type": "error",
     "traceback": [
      "\u001b[0;31m---------------------------------------------------------------------------\u001b[0m",
      "\u001b[0;31mFileNotFoundError\u001b[0m                         Traceback (most recent call last)",
      "File \u001b[0;32m~/dev/qtaim_embed/qtaim_embed/core/dataset.py:66\u001b[0m, in \u001b[0;36mHeteroGraphNodeLabelDataset.__init__\u001b[0;34m(self, file, standard_scale_features, log_scale_features, log_scale_targets, standard_scale_targets, allowed_ring_size, element_set, allowed_charges, allowed_spins, self_loop, size, debug, extra_keys, target_dict, extra_dataset_info)\u001b[0m\n\u001b[1;32m     65\u001b[0m \u001b[39mtry\u001b[39;00m:\n\u001b[0;32m---> 66\u001b[0m     df \u001b[39m=\u001b[39m pd\u001b[39m.\u001b[39;49mread_pickle(file)\n\u001b[1;32m     67\u001b[0m \u001b[39mexcept\u001b[39;00m:\n",
      "File \u001b[0;32m~/anaconda3/envs/qtaim_embed/lib/python3.11/site-packages/pandas/io/pickle.py:179\u001b[0m, in \u001b[0;36mread_pickle\u001b[0;34m(filepath_or_buffer, compression, storage_options)\u001b[0m\n\u001b[1;32m    178\u001b[0m excs_to_catch \u001b[39m=\u001b[39m (\u001b[39mAttributeError\u001b[39;00m, \u001b[39mImportError\u001b[39;00m, \u001b[39mModuleNotFoundError\u001b[39;00m, \u001b[39mTypeError\u001b[39;00m)\n\u001b[0;32m--> 179\u001b[0m \u001b[39mwith\u001b[39;00m get_handle(\n\u001b[1;32m    180\u001b[0m     filepath_or_buffer,\n\u001b[1;32m    181\u001b[0m     \u001b[39m\"\u001b[39;49m\u001b[39mrb\u001b[39;49m\u001b[39m\"\u001b[39;49m,\n\u001b[1;32m    182\u001b[0m     compression\u001b[39m=\u001b[39;49mcompression,\n\u001b[1;32m    183\u001b[0m     is_text\u001b[39m=\u001b[39;49m\u001b[39mFalse\u001b[39;49;00m,\n\u001b[1;32m    184\u001b[0m     storage_options\u001b[39m=\u001b[39;49mstorage_options,\n\u001b[1;32m    185\u001b[0m ) \u001b[39mas\u001b[39;00m handles:\n\u001b[1;32m    186\u001b[0m     \u001b[39m# 1) try standard library Pickle\u001b[39;00m\n\u001b[1;32m    187\u001b[0m     \u001b[39m# 2) try pickle_compat (older pandas version) to handle subclass changes\u001b[39;00m\n\u001b[1;32m    188\u001b[0m     \u001b[39m# 3) try pickle_compat with latin-1 encoding upon a UnicodeDecodeError\u001b[39;00m\n\u001b[1;32m    190\u001b[0m     \u001b[39mtry\u001b[39;00m:\n\u001b[1;32m    191\u001b[0m         \u001b[39m# TypeError for Cython complaints about object.__new__ vs Tick.__new__\u001b[39;00m\n",
      "File \u001b[0;32m~/anaconda3/envs/qtaim_embed/lib/python3.11/site-packages/pandas/io/common.py:868\u001b[0m, in \u001b[0;36mget_handle\u001b[0;34m(path_or_buf, mode, encoding, compression, memory_map, is_text, errors, storage_options)\u001b[0m\n\u001b[1;32m    866\u001b[0m \u001b[39melse\u001b[39;00m:\n\u001b[1;32m    867\u001b[0m     \u001b[39m# Binary mode\u001b[39;00m\n\u001b[0;32m--> 868\u001b[0m     handle \u001b[39m=\u001b[39m \u001b[39mopen\u001b[39;49m(handle, ioargs\u001b[39m.\u001b[39;49mmode)\n\u001b[1;32m    869\u001b[0m handles\u001b[39m.\u001b[39mappend(handle)\n",
      "\u001b[0;31mFileNotFoundError\u001b[0m: [Errno 2] No such file or directory: '/home/santiagovargas/dev/qtaim_embed/data/xyz_qm8/molecules_qtaim_labelled.pkl'",
      "\nDuring handling of the above exception, another exception occurred:\n",
      "\u001b[0;31mModuleNotFoundError\u001b[0m                       Traceback (most recent call last)",
      "Cell \u001b[0;32mIn[2], line 5\u001b[0m\n\u001b[1;32m      1\u001b[0m \u001b[39m# df = pd.read_pickle(\u001b[39;00m\n\u001b[1;32m      2\u001b[0m \u001b[39m#    \"/home/santiagovargas/dev/qtaim_embed/data/xyz_qm8/molecules_qtaim_labelled.pkl\"\u001b[39;00m\n\u001b[1;32m      3\u001b[0m \u001b[39m# )\u001b[39;00m\n\u001b[0;32m----> 5\u001b[0m dataset \u001b[39m=\u001b[39m HeteroGraphNodeLabelDataset(\n\u001b[1;32m      6\u001b[0m     \u001b[39m# file=\"/home/santiagovargas/dev/qtaim_embed/data/xyz_qm8/molecules_full.pkl\",\u001b[39;49;00m\n\u001b[1;32m      7\u001b[0m     file\u001b[39m=\u001b[39;49m\u001b[39m\"\u001b[39;49m\u001b[39m/home/santiagovargas/dev/qtaim_embed/data/xyz_qm8/molecules_qtaim_labelled.pkl\u001b[39;49m\u001b[39m\"\u001b[39;49m,\n\u001b[1;32m      8\u001b[0m     allowed_ring_size\u001b[39m=\u001b[39;49m[\u001b[39m3\u001b[39;49m, \u001b[39m4\u001b[39;49m, \u001b[39m5\u001b[39;49m, \u001b[39m6\u001b[39;49m, \u001b[39m7\u001b[39;49m],\n\u001b[1;32m      9\u001b[0m     allowed_charges\u001b[39m=\u001b[39;49m\u001b[39mNone\u001b[39;49;00m,\n\u001b[1;32m     10\u001b[0m     self_loop\u001b[39m=\u001b[39;49m\u001b[39mTrue\u001b[39;49;00m,\n\u001b[1;32m     11\u001b[0m     extra_keys\u001b[39m=\u001b[39;49m{\n\u001b[1;32m     12\u001b[0m         \u001b[39m\"\u001b[39;49m\u001b[39matom\u001b[39;49m\u001b[39m\"\u001b[39;49m: [\u001b[39m\"\u001b[39;49m\u001b[39mextra_feat_atom_esp_total\u001b[39;49m\u001b[39m\"\u001b[39;49m],\n\u001b[1;32m     13\u001b[0m         \u001b[39m\"\u001b[39;49m\u001b[39mbond\u001b[39;49m\u001b[39m\"\u001b[39;49m: [\n\u001b[1;32m     14\u001b[0m             \u001b[39m\"\u001b[39;49m\u001b[39mbond_length\u001b[39;49m\u001b[39m\"\u001b[39;49m,\n\u001b[1;32m     15\u001b[0m             \u001b[39m\"\u001b[39;49m\u001b[39mextra_feat_bond_esp_total\u001b[39;49m\u001b[39m\"\u001b[39;49m,\n\u001b[1;32m     16\u001b[0m             \u001b[39m# \"extra_feat_bond_ellip_e_dens\",\u001b[39;49;00m\n\u001b[1;32m     17\u001b[0m             \u001b[39m# \"extra_feat_bond_eta\",\u001b[39;49;00m\n\u001b[1;32m     18\u001b[0m         ],\n\u001b[1;32m     19\u001b[0m         \u001b[39m\"\u001b[39;49m\u001b[39mglobal\u001b[39;49m\u001b[39m\"\u001b[39;49m: [\u001b[39m\"\u001b[39;49m\u001b[39mextra_feat_global_E1_CAM\u001b[39;49m\u001b[39m\"\u001b[39;49m],\n\u001b[1;32m     20\u001b[0m     },\n\u001b[1;32m     21\u001b[0m     target_dict\u001b[39m=\u001b[39;49m{\n\u001b[1;32m     22\u001b[0m         \u001b[39m# \"atom\": [\"extra_feat_atom_esp_total\"],\u001b[39;49;00m\n\u001b[1;32m     23\u001b[0m         \u001b[39m# \"bond\": [\u001b[39;49;00m\n\u001b[1;32m     24\u001b[0m         \u001b[39m#    \"extra_feat_bond_esp_total\",\u001b[39;49;00m\n\u001b[1;32m     25\u001b[0m         \u001b[39m#    # \"extra_feat_bond_ellip_e_dens\",\u001b[39;49;00m\n\u001b[1;32m     26\u001b[0m         \u001b[39m#    # \"extra_feat_bond_eta\",\u001b[39;49;00m\n\u001b[1;32m     27\u001b[0m         \u001b[39m# ],\u001b[39;49;00m\n\u001b[1;32m     28\u001b[0m         \u001b[39m\"\u001b[39;49m\u001b[39mglobal\u001b[39;49m\u001b[39m\"\u001b[39;49m: [\u001b[39m\"\u001b[39;49m\u001b[39mextra_feat_global_E1_CAM\u001b[39;49m\u001b[39m\"\u001b[39;49m]\n\u001b[1;32m     29\u001b[0m     },\n\u001b[1;32m     30\u001b[0m     extra_dataset_info\u001b[39m=\u001b[39;49m{},\n\u001b[1;32m     31\u001b[0m     debug\u001b[39m=\u001b[39;49m\u001b[39mTrue\u001b[39;49;00m,\n\u001b[1;32m     32\u001b[0m     log_scale_features\u001b[39m=\u001b[39;49m\u001b[39mTrue\u001b[39;49;00m,\n\u001b[1;32m     33\u001b[0m     log_scale_targets\u001b[39m=\u001b[39;49m\u001b[39mFalse\u001b[39;49;00m,\n\u001b[1;32m     34\u001b[0m     standard_scale_features\u001b[39m=\u001b[39;49m\u001b[39mTrue\u001b[39;49;00m,\n\u001b[1;32m     35\u001b[0m     standard_scale_targets\u001b[39m=\u001b[39;49m\u001b[39mTrue\u001b[39;49;00m,\n\u001b[1;32m     36\u001b[0m )\n\u001b[1;32m     38\u001b[0m bond \u001b[39m=\u001b[39m [\n\u001b[1;32m     39\u001b[0m     \u001b[39m\"\u001b[39m\u001b[39mextra_feat_bond_esp_total\u001b[39m\u001b[39m\"\u001b[39m,\n\u001b[1;32m     40\u001b[0m     \u001b[39m\"\u001b[39m\u001b[39mextra_feat_bond_ellip_e_dens\u001b[39m\u001b[39m\"\u001b[39m,\n\u001b[1;32m     41\u001b[0m     \u001b[39m\"\u001b[39m\u001b[39mextra_feat_bond_eta\u001b[39m\u001b[39m\"\u001b[39m,\n\u001b[1;32m     42\u001b[0m ]\n",
      "File \u001b[0;32m~/dev/qtaim_embed/qtaim_embed/core/dataset.py:68\u001b[0m, in \u001b[0;36mHeteroGraphNodeLabelDataset.__init__\u001b[0;34m(self, file, standard_scale_features, log_scale_features, log_scale_targets, standard_scale_targets, allowed_ring_size, element_set, allowed_charges, allowed_spins, self_loop, size, debug, extra_keys, target_dict, extra_dataset_info)\u001b[0m\n\u001b[1;32m     66\u001b[0m     df \u001b[39m=\u001b[39m pd\u001b[39m.\u001b[39mread_pickle(file)\n\u001b[1;32m     67\u001b[0m \u001b[39mexcept\u001b[39;00m:\n\u001b[0;32m---> 68\u001b[0m     \u001b[39mimport\u001b[39;00m \u001b[39mpickle5\u001b[39;00m \u001b[39mas\u001b[39;00m \u001b[39mpickle\u001b[39;00m\n\u001b[1;32m     70\u001b[0m     \u001b[39mwith\u001b[39;00m \u001b[39mopen\u001b[39m(file, \u001b[39m\"\u001b[39m\u001b[39mrb\u001b[39m\u001b[39m\"\u001b[39m) \u001b[39mas\u001b[39;00m fh:\n\u001b[1;32m     71\u001b[0m         df \u001b[39m=\u001b[39m pickle\u001b[39m.\u001b[39mload(fh)\n",
      "\u001b[0;31mModuleNotFoundError\u001b[0m: No module named 'pickle5'"
     ]
    }
   ],
   "source": [
    "# df = pd.read_pickle(\n",
    "#    \"/home/santiagovargas/dev/qtaim_embed/data/xyz_qm8/molecules_qtaim_labelled.pkl\"\n",
    "# )\n",
    "\n",
    "dataset = HeteroGraphNodeLabelDataset(\n",
    "    # file=\"/home/santiagovargas/dev/qtaim_embed/data/xyz_qm8/molecules_full.pkl\",\n",
    "    file=\"/home/santiagovargas/dev/qtaim_embed/data/xyz_qm8/molecules_qtaim_labelled.pkl\",\n",
    "    allowed_ring_size=[3, 4, 5, 6, 7],\n",
    "    allowed_charges=None,\n",
    "    self_loop=True,\n",
    "    extra_keys={\n",
    "        \"atom\": [\"extra_feat_atom_esp_total\"],\n",
    "        \"bond\": [\n",
    "            \"bond_length\",\n",
    "            \"extra_feat_bond_esp_total\",\n",
    "            # \"extra_feat_bond_ellip_e_dens\",\n",
    "            # \"extra_feat_bond_eta\",\n",
    "        ],\n",
    "        \"global\": [\"extra_feat_global_E1_CAM\"],\n",
    "    },\n",
    "    target_dict={\n",
    "        # \"atom\": [\"extra_feat_atom_esp_total\"],\n",
    "        # \"bond\": [\n",
    "        #    \"extra_feat_bond_esp_total\",\n",
    "        #    # \"extra_feat_bond_ellip_e_dens\",\n",
    "        #    # \"extra_feat_bond_eta\",\n",
    "        # ],\n",
    "        \"global\": [\"extra_feat_global_E1_CAM\"]\n",
    "    },\n",
    "    extra_dataset_info={},\n",
    "    debug=True,\n",
    "    log_scale_features=True,\n",
    "    log_scale_targets=False,\n",
    "    standard_scale_features=True,\n",
    "    standard_scale_targets=True,\n",
    ")\n",
    "\n",
    "bond = [\n",
    "    \"extra_feat_bond_esp_total\",\n",
    "    \"extra_feat_bond_ellip_e_dens\",\n",
    "    \"extra_feat_bond_eta\",\n",
    "]"
   ]
  },
  {
   "cell_type": "code",
   "execution_count": 3,
   "metadata": {},
   "outputs": [
    {
     "name": "stdout",
     "output_type": "stream",
     "text": [
      "100\n"
     ]
    }
   ],
   "source": [
    "print(len(dataset))"
   ]
  },
  {
   "cell_type": "code",
   "execution_count": 4,
   "metadata": {},
   "outputs": [],
   "source": [
    "# split dataset into train and val\n",
    "from torch.utils.data import random_split\n",
    "\n",
    "generator = torch.Generator().manual_seed(42)\n",
    "train_size = int(0.5 * len(dataset))\n",
    "val_size = len(dataset) - train_size\n",
    "train_dataset, val_dataset = random_split(\n",
    "    dataset, [train_size, val_size], generator=generator\n",
    ")\n",
    "\n",
    "\n",
    "train_dataloader = DataLoaderMoleculeNodeTask(\n",
    "    train_dataset, batch_size=100, shuffle=True, num_workers=4\n",
    ")\n",
    "\n",
    "batch_graph, batch_label = next(iter(train_dataloader))\n",
    "val_dataloader = DataLoaderMoleculeNodeTask(\n",
    "    val_dataset, batch_size=100, shuffle=True, num_workers=4\n",
    ")"
   ]
  },
  {
   "cell_type": "code",
   "execution_count": 5,
   "metadata": {},
   "outputs": [
    {
     "name": "stdout",
     "output_type": "stream",
     "text": [
      "{'a2b': {'in_feats': 13, 'out_feats': 9, 'norm': 'both', 'bias': True, 'activation': ReLU(), 'allow_zero_in_degree': True, 'dropout': 0.2, 'batch_norm_tf': True}, 'b2a': {'in_feats': 9, 'out_feats': 13, 'norm': 'both', 'bias': True, 'activation': ReLU(), 'allow_zero_in_degree': True, 'dropout': 0.2, 'batch_norm_tf': True}, 'a2g': {'in_feats': 13, 'out_feats': 3, 'norm': 'both', 'bias': True, 'activation': ReLU(), 'allow_zero_in_degree': True, 'dropout': 0.2, 'batch_norm_tf': True}, 'b2g': {'in_feats': 9, 'out_feats': 3, 'norm': 'both', 'bias': True, 'activation': ReLU(), 'allow_zero_in_degree': True, 'dropout': 0.2, 'batch_norm_tf': True}, 'g2a': {'in_feats': 3, 'out_feats': 13, 'norm': 'both', 'bias': True, 'activation': ReLU(), 'allow_zero_in_degree': True, 'dropout': 0.2, 'batch_norm_tf': True}, 'g2b': {'in_feats': 3, 'out_feats': 9, 'norm': 'both', 'bias': True, 'activation': ReLU(), 'allow_zero_in_degree': True, 'dropout': 0.2, 'batch_norm_tf': True}, 'a2a': {'in_feats': 13, 'out_feats': 13, 'norm': 'both', 'bias': True, 'activation': ReLU(), 'allow_zero_in_degree': True, 'dropout': 0.2, 'batch_norm_tf': True}, 'b2b': {'in_feats': 9, 'out_feats': 9, 'norm': 'both', 'bias': True, 'activation': ReLU(), 'allow_zero_in_degree': True, 'dropout': 0.2, 'batch_norm_tf': True}, 'g2g': {'in_feats': 3, 'out_feats': 3, 'norm': 'both', 'bias': True, 'activation': ReLU(), 'allow_zero_in_degree': True, 'dropout': 0.2, 'batch_norm_tf': True}}\n",
      "{'a2b': {'in_feats': 13, 'out_feats': 9, 'norm': 'both', 'bias': True, 'activation': ReLU(), 'allow_zero_in_degree': True, 'dropout': 0.2, 'batch_norm_tf': True}, 'b2a': {'in_feats': 9, 'out_feats': 13, 'norm': 'both', 'bias': True, 'activation': ReLU(), 'allow_zero_in_degree': True, 'dropout': 0.2, 'batch_norm_tf': True}, 'a2g': {'in_feats': 13, 'out_feats': 3, 'norm': 'both', 'bias': True, 'activation': ReLU(), 'allow_zero_in_degree': True, 'dropout': 0.2, 'batch_norm_tf': True}, 'b2g': {'in_feats': 9, 'out_feats': 3, 'norm': 'both', 'bias': True, 'activation': ReLU(), 'allow_zero_in_degree': True, 'dropout': 0.2, 'batch_norm_tf': True}, 'g2a': {'in_feats': 3, 'out_feats': 13, 'norm': 'both', 'bias': True, 'activation': ReLU(), 'allow_zero_in_degree': True, 'dropout': 0.2, 'batch_norm_tf': True}, 'g2b': {'in_feats': 3, 'out_feats': 9, 'norm': 'both', 'bias': True, 'activation': ReLU(), 'allow_zero_in_degree': True, 'dropout': 0.2, 'batch_norm_tf': True}, 'a2a': {'in_feats': 13, 'out_feats': 13, 'norm': 'both', 'bias': True, 'activation': ReLU(), 'allow_zero_in_degree': True, 'dropout': 0.2, 'batch_norm_tf': True}, 'b2b': {'in_feats': 9, 'out_feats': 9, 'norm': 'both', 'bias': True, 'activation': ReLU(), 'allow_zero_in_degree': True, 'dropout': 0.2, 'batch_norm_tf': True}, 'g2g': {'in_feats': 3, 'out_feats': 3, 'norm': 'both', 'bias': True, 'activation': ReLU(), 'allow_zero_in_degree': True, 'dropout': 0.2, 'batch_norm_tf': True}}\n",
      "{'a2b': {'in_feats': 13, 'out_feats': 9, 'norm': 'both', 'bias': True, 'activation': ReLU(), 'allow_zero_in_degree': True, 'dropout': 0.2, 'batch_norm_tf': True}, 'b2a': {'in_feats': 9, 'out_feats': 13, 'norm': 'both', 'bias': True, 'activation': ReLU(), 'allow_zero_in_degree': True, 'dropout': 0.2, 'batch_norm_tf': True}, 'a2g': {'in_feats': 13, 'out_feats': 3, 'norm': 'both', 'bias': True, 'activation': ReLU(), 'allow_zero_in_degree': True, 'dropout': 0.2, 'batch_norm_tf': True}, 'b2g': {'in_feats': 9, 'out_feats': 3, 'norm': 'both', 'bias': True, 'activation': ReLU(), 'allow_zero_in_degree': True, 'dropout': 0.2, 'batch_norm_tf': True}, 'g2a': {'in_feats': 3, 'out_feats': 13, 'norm': 'both', 'bias': True, 'activation': ReLU(), 'allow_zero_in_degree': True, 'dropout': 0.2, 'batch_norm_tf': True}, 'g2b': {'in_feats': 3, 'out_feats': 9, 'norm': 'both', 'bias': True, 'activation': ReLU(), 'allow_zero_in_degree': True, 'dropout': 0.2, 'batch_norm_tf': True}, 'a2a': {'in_feats': 13, 'out_feats': 13, 'norm': 'both', 'bias': True, 'activation': ReLU(), 'allow_zero_in_degree': True, 'dropout': 0.2, 'batch_norm_tf': True}, 'b2b': {'in_feats': 9, 'out_feats': 9, 'norm': 'both', 'bias': True, 'activation': ReLU(), 'allow_zero_in_degree': True, 'dropout': 0.2, 'batch_norm_tf': True}, 'g2g': {'in_feats': 3, 'out_feats': 3, 'norm': 'both', 'bias': True, 'activation': ReLU(), 'allow_zero_in_degree': True, 'dropout': 0.2, 'batch_norm_tf': True}}\n",
      "{'a2b_inner': {'in_feats': 13, 'out_feats': 9, 'norm': 'both', 'bias': True, 'activation': ReLU(), 'allow_zero_in_degree': True, 'dropout': 0.2, 'batch_norm_tf': True}, 'b2a_inner': {'in_feats': 9, 'out_feats': 13, 'norm': 'both', 'bias': True, 'activation': ReLU(), 'allow_zero_in_degree': True, 'dropout': 0.2, 'batch_norm_tf': True}, 'a2g_inner': {'in_feats': 13, 'out_feats': 3, 'norm': 'both', 'bias': True, 'activation': ReLU(), 'allow_zero_in_degree': True, 'dropout': 0.2, 'batch_norm_tf': True}, 'b2g_inner': {'in_feats': 9, 'out_feats': 3, 'norm': 'both', 'bias': True, 'activation': ReLU(), 'allow_zero_in_degree': True, 'dropout': 0.2, 'batch_norm_tf': True}, 'g2a_inner': {'in_feats': 3, 'out_feats': 13, 'norm': 'both', 'bias': True, 'activation': ReLU(), 'allow_zero_in_degree': True, 'dropout': 0.2, 'batch_norm_tf': True}, 'g2b_inner': {'in_feats': 3, 'out_feats': 9, 'norm': 'both', 'bias': True, 'activation': ReLU(), 'allow_zero_in_degree': True, 'dropout': 0.2, 'batch_norm_tf': True}, 'a2a_inner': {'in_feats': 13, 'out_feats': 13, 'norm': 'both', 'bias': True, 'activation': ReLU(), 'allow_zero_in_degree': True, 'dropout': 0.2, 'batch_norm_tf': True}, 'b2b_inner': {'in_feats': 9, 'out_feats': 9, 'norm': 'both', 'bias': True, 'activation': ReLU(), 'allow_zero_in_degree': True, 'dropout': 0.2, 'batch_norm_tf': True}, 'g2g_inner': {'in_feats': 3, 'out_feats': 3, 'norm': 'both', 'bias': True, 'activation': ReLU(), 'allow_zero_in_degree': True, 'dropout': 0.2, 'batch_norm_tf': True}, 'a2b': {'in_feats': 13, 'out_feats': 9, 'norm': 'both', 'bias': True, 'activation': ReLU(), 'allow_zero_in_degree': True, 'dropout': 0.2, 'batch_norm_tf': True}, 'b2a': {'in_feats': 9, 'out_feats': 13, 'norm': 'both', 'bias': True, 'activation': ReLU(), 'allow_zero_in_degree': True, 'dropout': 0.2, 'batch_norm_tf': True}, 'a2g': {'in_feats': 13, 'out_feats': 1, 'norm': 'both', 'bias': True, 'activation': ReLU(), 'allow_zero_in_degree': True, 'dropout': 0.2, 'batch_norm_tf': True}, 'b2g': {'in_feats': 9, 'out_feats': 1, 'norm': 'both', 'bias': True, 'activation': ReLU(), 'allow_zero_in_degree': True, 'dropout': 0.2, 'batch_norm_tf': True}, 'g2a': {'in_feats': 3, 'out_feats': 13, 'norm': 'both', 'bias': True, 'activation': ReLU(), 'allow_zero_in_degree': True, 'dropout': 0.2, 'batch_norm_tf': True}, 'g2b': {'in_feats': 3, 'out_feats': 9, 'norm': 'both', 'bias': True, 'activation': ReLU(), 'allow_zero_in_degree': True, 'dropout': 0.2, 'batch_norm_tf': True}, 'a2a': {'in_feats': 13, 'out_feats': 13, 'norm': 'both', 'bias': True, 'activation': ReLU(), 'allow_zero_in_degree': True, 'dropout': 0.2, 'batch_norm_tf': True}, 'b2b': {'in_feats': 9, 'out_feats': 9, 'norm': 'both', 'bias': True, 'activation': ReLU(), 'allow_zero_in_degree': True, 'dropout': 0.2, 'batch_norm_tf': True}, 'g2g': {'in_feats': 3, 'out_feats': 1, 'norm': 'both', 'bias': True, 'activation': ReLU(), 'allow_zero_in_degree': True, 'dropout': 0.2, 'batch_norm_tf': True}}\n",
      "number of output dims 1\n"
     ]
    }
   ],
   "source": [
    "len_dict = dataset.feature_size()\n",
    "atom_input_size = len_dict[\"atom\"]\n",
    "bond_input_size = len_dict[\"bond\"]\n",
    "global_input_size = len_dict[\"global\"]\n",
    "\n",
    "model = GCNNodePred(\n",
    "    atom_input_size=atom_input_size,\n",
    "    bond_input_size=bond_input_size,\n",
    "    global_input_size=global_input_size,\n",
    "    target_dict={\"global\": [\"extra_feat_global_E1_CAM\"]},\n",
    "    activation=\"ReLU\",\n",
    "    conv_fn=\"ResidualBlock\",\n",
    "    resid_n_graph_convs=3,\n",
    "    dropout=0.2,\n",
    "    bias=True,\n",
    "    batch_norm=True,\n",
    "    n_conv_layers=10,\n",
    "    lr_plateau_patience=10,\n",
    "    lr=0.02,\n",
    "    weight_decay=0.0001,\n",
    ")"
   ]
  },
  {
   "cell_type": "code",
   "execution_count": 6,
   "metadata": {},
   "outputs": [
    {
     "data": {
      "text/plain": [
       "'\\nfeats = batch_graph.ndata[\"feat\"]\\nfor layer in model.conv_layers:\\n    feats = layer(batch_graph, feats)\\n\\n\\nfor key in [\"atom\", \"bond\", \"global\"]:\\n    feats[key] = _split_batched_output(batch_graph, feats[key], key)\\n\\n\\ndef get_targets(self, targets_feats):\\n    targets = {}\\n    for k, v in self.target_dict.items():\\n        # if v is None or [] skip \\n        if not (v is None or len(v) == 0):\\n            targets[k] = targets_feats[k]\\n    #[print(i) for i in list(targets.values())]\\n    # concat dict of tensors into one tensor\\n    list(targets.values())\\n    targets = torch.cat(list(targets.values()), dim=1)\\n    return targets    \\n\\ntargets = get_targets(model, feats)\\n'"
      ]
     },
     "execution_count": 6,
     "metadata": {},
     "output_type": "execute_result"
    }
   ],
   "source": [
    "\"\"\"\n",
    "feats = batch_graph.ndata[\"feat\"]\n",
    "for layer in model.conv_layers:\n",
    "    feats = layer(batch_graph, feats)\n",
    "\n",
    "\n",
    "for key in [\"atom\", \"bond\", \"global\"]:\n",
    "    feats[key] = _split_batched_output(batch_graph, feats[key], key)\n",
    "\n",
    "\n",
    "def get_targets(self, targets_feats):\n",
    "    targets = {}\n",
    "    for k, v in self.target_dict.items():\n",
    "        # if v is None or [] skip \n",
    "        if not (v is None or len(v) == 0):\n",
    "            targets[k] = targets_feats[k]\n",
    "    #[print(i) for i in list(targets.values())]\n",
    "    # concat dict of tensors into one tensor\n",
    "    list(targets.values())\n",
    "    targets = torch.cat(list(targets.values()), dim=1)\n",
    "    return targets    \n",
    "\n",
    "targets = get_targets(model, feats)\n",
    "\"\"\""
   ]
  },
  {
   "cell_type": "code",
   "execution_count": 7,
   "metadata": {},
   "outputs": [],
   "source": [
    "feats = model.forward(batch_graph, batch_graph.ndata[\"feat\"])"
   ]
  },
  {
   "cell_type": "code",
   "execution_count": 8,
   "metadata": {},
   "outputs": [
    {
     "data": {
      "text/plain": [
       "torch.Size([804, 13])"
      ]
     },
     "execution_count": 8,
     "metadata": {},
     "output_type": "execute_result"
    }
   ],
   "source": [
    "feats[\"atom\"].shape"
   ]
  },
  {
   "cell_type": "code",
   "execution_count": 9,
   "metadata": {},
   "outputs": [
    {
     "data": {
      "text/plain": [
       "'\\noptimizer, lr_scheduler = model.configure_optimizers()\\noptimizer = optimizer[0]\\nlr_scheduler = lr_scheduler[0]\\n'"
      ]
     },
     "execution_count": 9,
     "metadata": {},
     "output_type": "execute_result"
    }
   ],
   "source": [
    "\"\"\"\n",
    "optimizer, lr_scheduler = model.configure_optimizers()\n",
    "optimizer = optimizer[0]\n",
    "lr_scheduler = lr_scheduler[0]\n",
    "\"\"\""
   ]
  },
  {
   "cell_type": "code",
   "execution_count": 10,
   "metadata": {},
   "outputs": [
    {
     "name": "stderr",
     "output_type": "stream",
     "text": [
      "/home/santiagovargas/anaconda3/envs/qtaim_embed/lib/python3.11/site-packages/lightning_fabric/connector.py:554: UserWarning: bf16 is supported for historical reasons but its usage is discouraged. Please set your precision to bf16-mixed instead!\n",
      "  rank_zero_warn(\n",
      "Using bfloat16 Automatic Mixed Precision (AMP)\n",
      "GPU available: True (cuda), used: True\n",
      "TPU available: False, using: 0 TPU cores\n",
      "IPU available: False, using: 0 IPUs\n",
      "HPU available: False, using: 0 HPUs\n",
      "/home/santiagovargas/anaconda3/envs/qtaim_embed/lib/python3.11/site-packages/pytorch_lightning/trainer/connectors/logger_connector/logger_connector.py:67: UserWarning: Starting from v1.9.0, `tensorboardX` has been removed as a dependency of the `pytorch_lightning` package, due to potential conflicts with other packages in the ML ecosystem. For this reason, `logger=True` will use `CSVLogger` as the default logger, unless the `tensorboard` or `tensorboardX` packages are found. Please `pip install lightning[extra]` or one of them to enable TensorBoard support by default\n",
      "  warning_cache.warn(\n",
      "LOCAL_RANK: 0 - CUDA_VISIBLE_DEVICES: [0,1]\n",
      "\n",
      "   | Name            | Type               | Params\n",
      "--------------------------------------------------------\n",
      "0  | conv_layers     | ModuleList         | 10.1 K\n",
      "1  | loss            | MultioutputWrapper | 0     \n",
      "2  | train_r2        | MultioutputWrapper | 0     \n",
      "3  | train_torch_l1  | MultioutputWrapper | 0     \n",
      "4  | train_torch_mse | MultioutputWrapper | 0     \n",
      "5  | val_r2          | MultioutputWrapper | 0     \n",
      "6  | val_torch_l1    | MultioutputWrapper | 0     \n",
      "7  | val_torch_mse   | MultioutputWrapper | 0     \n",
      "8  | test_r2         | MultioutputWrapper | 0     \n",
      "9  | test_torch_l1   | MultioutputWrapper | 0     \n",
      "10 | test_torch_mse  | MultioutputWrapper | 0     \n",
      "--------------------------------------------------------\n",
      "10.1 K    Trainable params\n",
      "0         Non-trainable params\n",
      "10.1 K    Total params\n",
      "0.041     Total estimated model params size (MB)\n"
     ]
    },
    {
     "data": {
      "application/vnd.jupyter.widget-view+json": {
       "model_id": "95e681aa1965413184b8cdacf97985d1",
       "version_major": 2,
       "version_minor": 0
      },
      "text/plain": [
       "Sanity Checking: 0it [00:00, ?it/s]"
      ]
     },
     "metadata": {},
     "output_type": "display_data"
    },
    {
     "name": "stderr",
     "output_type": "stream",
     "text": [
      "/home/santiagovargas/anaconda3/envs/qtaim_embed/lib/python3.11/site-packages/pytorch_lightning/trainer/connectors/data_connector.py:490: PossibleUserWarning: Your `val_dataloader`'s sampler has shuffling enabled, it is strongly recommended that you turn shuffling off for val/test dataloaders.\n",
      "  rank_zero_warn(\n",
      "/home/santiagovargas/anaconda3/envs/qtaim_embed/lib/python3.11/site-packages/pytorch_lightning/loops/fit_loop.py:281: PossibleUserWarning: The number of training batches (1) is smaller than the logging interval Trainer(log_every_n_steps=10). Set a lower value for log_every_n_steps if you want to see logs for the training epoch.\n",
      "  rank_zero_warn(\n"
     ]
    },
    {
     "data": {
      "application/vnd.jupyter.widget-view+json": {
       "model_id": "89a31c2ab8454c7ba14513445007a6c5",
       "version_major": 2,
       "version_minor": 0
      },
      "text/plain": [
       "Training: 0it [00:00, ?it/s]"
      ]
     },
     "metadata": {},
     "output_type": "display_data"
    },
    {
     "data": {
      "application/vnd.jupyter.widget-view+json": {
       "model_id": "0f83f80884e04eb0ac607c5ae4785b1e",
       "version_major": 2,
       "version_minor": 0
      },
      "text/plain": [
       "Validation: 0it [00:00, ?it/s]"
      ]
     },
     "metadata": {},
     "output_type": "display_data"
    },
    {
     "name": "stderr",
     "output_type": "stream",
     "text": [
      "/home/santiagovargas/anaconda3/envs/qtaim_embed/lib/python3.11/site-packages/pytorch_lightning/trainer/connectors/logger_connector/result.py:212: UserWarning: You called `self.log('val_mae', ...)` in your `on_train_epoch_end` but the value needs to be floating point. Converting it to torch.float32.\n",
      "  warning_cache.warn(\n"
     ]
    },
    {
     "data": {
      "application/vnd.jupyter.widget-view+json": {
       "model_id": "fef1cc5e1f7f49269ff9189d5a99feea",
       "version_major": 2,
       "version_minor": 0
      },
      "text/plain": [
       "Validation: 0it [00:00, ?it/s]"
      ]
     },
     "metadata": {},
     "output_type": "display_data"
    },
    {
     "data": {
      "application/vnd.jupyter.widget-view+json": {
       "model_id": "f5d31c69bbdd4a83bfad9e101b5f62c0",
       "version_major": 2,
       "version_minor": 0
      },
      "text/plain": [
       "Validation: 0it [00:00, ?it/s]"
      ]
     },
     "metadata": {},
     "output_type": "display_data"
    },
    {
     "data": {
      "application/vnd.jupyter.widget-view+json": {
       "model_id": "fae7aceb60fe4c728d9798071d60b0bc",
       "version_major": 2,
       "version_minor": 0
      },
      "text/plain": [
       "Validation: 0it [00:00, ?it/s]"
      ]
     },
     "metadata": {},
     "output_type": "display_data"
    },
    {
     "data": {
      "application/vnd.jupyter.widget-view+json": {
       "model_id": "afe138159cc94b67b546972d41055099",
       "version_major": 2,
       "version_minor": 0
      },
      "text/plain": [
       "Validation: 0it [00:00, ?it/s]"
      ]
     },
     "metadata": {},
     "output_type": "display_data"
    },
    {
     "data": {
      "application/vnd.jupyter.widget-view+json": {
       "model_id": "5434897ac71a4c19a2d001df91bc9e0f",
       "version_major": 2,
       "version_minor": 0
      },
      "text/plain": [
       "Validation: 0it [00:00, ?it/s]"
      ]
     },
     "metadata": {},
     "output_type": "display_data"
    },
    {
     "data": {
      "application/vnd.jupyter.widget-view+json": {
       "model_id": "15de2b363e014f7fb082907652d67d8d",
       "version_major": 2,
       "version_minor": 0
      },
      "text/plain": [
       "Validation: 0it [00:00, ?it/s]"
      ]
     },
     "metadata": {},
     "output_type": "display_data"
    },
    {
     "data": {
      "application/vnd.jupyter.widget-view+json": {
       "model_id": "16774928091e4506a6cab345d25e9b7d",
       "version_major": 2,
       "version_minor": 0
      },
      "text/plain": [
       "Validation: 0it [00:00, ?it/s]"
      ]
     },
     "metadata": {},
     "output_type": "display_data"
    },
    {
     "data": {
      "application/vnd.jupyter.widget-view+json": {
       "model_id": "44513e0fce1e41a5bdb928822bf7035f",
       "version_major": 2,
       "version_minor": 0
      },
      "text/plain": [
       "Validation: 0it [00:00, ?it/s]"
      ]
     },
     "metadata": {},
     "output_type": "display_data"
    },
    {
     "data": {
      "application/vnd.jupyter.widget-view+json": {
       "model_id": "80e2837272b344e29cb4bec91de23338",
       "version_major": 2,
       "version_minor": 0
      },
      "text/plain": [
       "Validation: 0it [00:00, ?it/s]"
      ]
     },
     "metadata": {},
     "output_type": "display_data"
    },
    {
     "data": {
      "application/vnd.jupyter.widget-view+json": {
       "model_id": "b05cd5f6838241dc8887838f89925a9b",
       "version_major": 2,
       "version_minor": 0
      },
      "text/plain": [
       "Validation: 0it [00:00, ?it/s]"
      ]
     },
     "metadata": {},
     "output_type": "display_data"
    },
    {
     "data": {
      "application/vnd.jupyter.widget-view+json": {
       "model_id": "12878403108d4a12916808b44e2859a7",
       "version_major": 2,
       "version_minor": 0
      },
      "text/plain": [
       "Validation: 0it [00:00, ?it/s]"
      ]
     },
     "metadata": {},
     "output_type": "display_data"
    },
    {
     "name": "stdout",
     "output_type": "stream",
     "text": [
      "Epoch 00012: reducing learning rate of group 0 to 1.0000e-02.\n"
     ]
    },
    {
     "data": {
      "application/vnd.jupyter.widget-view+json": {
       "model_id": "53b5fe95776a459f9c3026c80dab1b61",
       "version_major": 2,
       "version_minor": 0
      },
      "text/plain": [
       "Validation: 0it [00:00, ?it/s]"
      ]
     },
     "metadata": {},
     "output_type": "display_data"
    },
    {
     "data": {
      "application/vnd.jupyter.widget-view+json": {
       "model_id": "8973c59627d84f6eb760654d52473ddd",
       "version_major": 2,
       "version_minor": 0
      },
      "text/plain": [
       "Validation: 0it [00:00, ?it/s]"
      ]
     },
     "metadata": {},
     "output_type": "display_data"
    },
    {
     "data": {
      "application/vnd.jupyter.widget-view+json": {
       "model_id": "b43874c2b3414b5e81164dcb463cd0a3",
       "version_major": 2,
       "version_minor": 0
      },
      "text/plain": [
       "Validation: 0it [00:00, ?it/s]"
      ]
     },
     "metadata": {},
     "output_type": "display_data"
    },
    {
     "data": {
      "application/vnd.jupyter.widget-view+json": {
       "model_id": "507d4ba8e7c745308f50fbf8b8a8d86a",
       "version_major": 2,
       "version_minor": 0
      },
      "text/plain": [
       "Validation: 0it [00:00, ?it/s]"
      ]
     },
     "metadata": {},
     "output_type": "display_data"
    },
    {
     "data": {
      "application/vnd.jupyter.widget-view+json": {
       "model_id": "42aaa0a7f2df4dc1a75ab8da1a5102c9",
       "version_major": 2,
       "version_minor": 0
      },
      "text/plain": [
       "Validation: 0it [00:00, ?it/s]"
      ]
     },
     "metadata": {},
     "output_type": "display_data"
    },
    {
     "data": {
      "application/vnd.jupyter.widget-view+json": {
       "model_id": "dc919182c1684a499acbe60818489992",
       "version_major": 2,
       "version_minor": 0
      },
      "text/plain": [
       "Validation: 0it [00:00, ?it/s]"
      ]
     },
     "metadata": {},
     "output_type": "display_data"
    },
    {
     "data": {
      "application/vnd.jupyter.widget-view+json": {
       "model_id": "9469af3236ae41a8afb65494b81e20e8",
       "version_major": 2,
       "version_minor": 0
      },
      "text/plain": [
       "Validation: 0it [00:00, ?it/s]"
      ]
     },
     "metadata": {},
     "output_type": "display_data"
    },
    {
     "data": {
      "application/vnd.jupyter.widget-view+json": {
       "model_id": "612b0f8925724d2cbd796706c0bc27e5",
       "version_major": 2,
       "version_minor": 0
      },
      "text/plain": [
       "Validation: 0it [00:00, ?it/s]"
      ]
     },
     "metadata": {},
     "output_type": "display_data"
    },
    {
     "data": {
      "application/vnd.jupyter.widget-view+json": {
       "model_id": "6df717de4f344279873c186dac61a769",
       "version_major": 2,
       "version_minor": 0
      },
      "text/plain": [
       "Validation: 0it [00:00, ?it/s]"
      ]
     },
     "metadata": {},
     "output_type": "display_data"
    },
    {
     "data": {
      "application/vnd.jupyter.widget-view+json": {
       "model_id": "4b9a3246d5154b6f9bf67c5d806169d1",
       "version_major": 2,
       "version_minor": 0
      },
      "text/plain": [
       "Validation: 0it [00:00, ?it/s]"
      ]
     },
     "metadata": {},
     "output_type": "display_data"
    },
    {
     "data": {
      "application/vnd.jupyter.widget-view+json": {
       "model_id": "2e47692de0e94f2e958b832a07cf1ed7",
       "version_major": 2,
       "version_minor": 0
      },
      "text/plain": [
       "Validation: 0it [00:00, ?it/s]"
      ]
     },
     "metadata": {},
     "output_type": "display_data"
    },
    {
     "name": "stdout",
     "output_type": "stream",
     "text": [
      "Epoch 00023: reducing learning rate of group 0 to 5.0000e-03.\n"
     ]
    },
    {
     "data": {
      "application/vnd.jupyter.widget-view+json": {
       "model_id": "89c1bd603d9b44ed8669b0f5e06c7228",
       "version_major": 2,
       "version_minor": 0
      },
      "text/plain": [
       "Validation: 0it [00:00, ?it/s]"
      ]
     },
     "metadata": {},
     "output_type": "display_data"
    },
    {
     "data": {
      "application/vnd.jupyter.widget-view+json": {
       "model_id": "099bfef9db81419c8f30db2b68d5a38f",
       "version_major": 2,
       "version_minor": 0
      },
      "text/plain": [
       "Validation: 0it [00:00, ?it/s]"
      ]
     },
     "metadata": {},
     "output_type": "display_data"
    },
    {
     "data": {
      "application/vnd.jupyter.widget-view+json": {
       "model_id": "1a9a97bbec554c44a58b3d039489a4d3",
       "version_major": 2,
       "version_minor": 0
      },
      "text/plain": [
       "Validation: 0it [00:00, ?it/s]"
      ]
     },
     "metadata": {},
     "output_type": "display_data"
    },
    {
     "data": {
      "application/vnd.jupyter.widget-view+json": {
       "model_id": "ae4412c9e72045449903f24f41aba358",
       "version_major": 2,
       "version_minor": 0
      },
      "text/plain": [
       "Validation: 0it [00:00, ?it/s]"
      ]
     },
     "metadata": {},
     "output_type": "display_data"
    },
    {
     "data": {
      "application/vnd.jupyter.widget-view+json": {
       "model_id": "5d45642994c14a3396eaee17ddac4455",
       "version_major": 2,
       "version_minor": 0
      },
      "text/plain": [
       "Validation: 0it [00:00, ?it/s]"
      ]
     },
     "metadata": {},
     "output_type": "display_data"
    },
    {
     "name": "stderr",
     "output_type": "stream",
     "text": [
      "Exception ignored in: <function _MultiProcessingDataLoaderIter.__del__ at 0x7f2926bb51c0>\n",
      "Traceback (most recent call last):\n",
      "  File \"/home/santiagovargas/anaconda3/envs/qtaim_embed/lib/python3.11/site-packages/torch/utils/data/dataloader.py\", line 1478, in __del__\n",
      "    self._shutdown_workers()\n",
      "  File \"/home/santiagovargas/anaconda3/envs/qtaim_embed/lib/python3.11/site-packages/torch/utils/data/dataloader.py\", line 1442, in _shutdown_workers\n",
      "    w.join(timeout=_utils.MP_STATUS_CHECK_INTERVAL)\n",
      "  File \"/home/santiagovargas/anaconda3/envs/qtaim_embed/lib/python3.11/multiprocessing/process.py\", line 149, in join\n",
      "    res = self._popen.wait(timeout)\n",
      "          ^^^^^^^^^^^^^^^^^^^^^^^^^\n",
      "  File \"/home/santiagovargas/anaconda3/envs/qtaim_embed/lib/python3.11/multiprocessing/popen_fork.py\", line 40, in wait\n",
      "    if not wait([self.sentinel], timeout):\n",
      "           ^^^^^^^^^^^^^^^^^^^^^^^^^^^^^^\n",
      "  File \"/home/santiagovargas/anaconda3/envs/qtaim_embed/lib/python3.11/multiprocessing/connection.py\", line 930, in wait\n",
      "    ready = selector.select(timeout)\n",
      "            ^^^^^^^^^^^^^^^^^^^^^^^^\n",
      "  File \"/home/santiagovargas/anaconda3/envs/qtaim_embed/lib/python3.11/selectors.py\", line 415, in select\n",
      "    fd_event_list = self._selector.poll(timeout)\n",
      "                    ^^^^^^^^^^^^^^^^^^^^^^^^^^^^\n",
      "KeyboardInterrupt: \n"
     ]
    },
    {
     "data": {
      "application/vnd.jupyter.widget-view+json": {
       "model_id": "536a121fa2a04a81a2b4000d2859bf57",
       "version_major": 2,
       "version_minor": 0
      },
      "text/plain": [
       "Validation: 0it [00:00, ?it/s]"
      ]
     },
     "metadata": {},
     "output_type": "display_data"
    },
    {
     "data": {
      "application/vnd.jupyter.widget-view+json": {
       "model_id": "fde199fb83724a17ae0f37630c52fbe4",
       "version_major": 2,
       "version_minor": 0
      },
      "text/plain": [
       "Validation: 0it [00:00, ?it/s]"
      ]
     },
     "metadata": {},
     "output_type": "display_data"
    },
    {
     "data": {
      "application/vnd.jupyter.widget-view+json": {
       "model_id": "139cde45cb3b49e09fece3f41057255f",
       "version_major": 2,
       "version_minor": 0
      },
      "text/plain": [
       "Validation: 0it [00:00, ?it/s]"
      ]
     },
     "metadata": {},
     "output_type": "display_data"
    },
    {
     "data": {
      "application/vnd.jupyter.widget-view+json": {
       "model_id": "b0624bc4da974bf296f4d31adb64156a",
       "version_major": 2,
       "version_minor": 0
      },
      "text/plain": [
       "Validation: 0it [00:00, ?it/s]"
      ]
     },
     "metadata": {},
     "output_type": "display_data"
    },
    {
     "data": {
      "application/vnd.jupyter.widget-view+json": {
       "model_id": "bd78244e099a41f380f2df7546a91560",
       "version_major": 2,
       "version_minor": 0
      },
      "text/plain": [
       "Validation: 0it [00:00, ?it/s]"
      ]
     },
     "metadata": {},
     "output_type": "display_data"
    },
    {
     "data": {
      "application/vnd.jupyter.widget-view+json": {
       "model_id": "c2c4f20749b04ce1b72bd9c8b77390cd",
       "version_major": 2,
       "version_minor": 0
      },
      "text/plain": [
       "Validation: 0it [00:00, ?it/s]"
      ]
     },
     "metadata": {},
     "output_type": "display_data"
    },
    {
     "name": "stdout",
     "output_type": "stream",
     "text": [
      "Epoch 00034: reducing learning rate of group 0 to 2.5000e-03.\n"
     ]
    },
    {
     "data": {
      "application/vnd.jupyter.widget-view+json": {
       "model_id": "311bcd8c90bd4b698d6f1a6637729356",
       "version_major": 2,
       "version_minor": 0
      },
      "text/plain": [
       "Validation: 0it [00:00, ?it/s]"
      ]
     },
     "metadata": {},
     "output_type": "display_data"
    },
    {
     "data": {
      "application/vnd.jupyter.widget-view+json": {
       "model_id": "b6c923f5dcae48aab8f8195e910584a0",
       "version_major": 2,
       "version_minor": 0
      },
      "text/plain": [
       "Validation: 0it [00:00, ?it/s]"
      ]
     },
     "metadata": {},
     "output_type": "display_data"
    },
    {
     "data": {
      "application/vnd.jupyter.widget-view+json": {
       "model_id": "b409c42aaa074c0a8dfa1a36fea3822e",
       "version_major": 2,
       "version_minor": 0
      },
      "text/plain": [
       "Validation: 0it [00:00, ?it/s]"
      ]
     },
     "metadata": {},
     "output_type": "display_data"
    },
    {
     "data": {
      "application/vnd.jupyter.widget-view+json": {
       "model_id": "06bf483fb1fb46dab24cbafb868b9c16",
       "version_major": 2,
       "version_minor": 0
      },
      "text/plain": [
       "Validation: 0it [00:00, ?it/s]"
      ]
     },
     "metadata": {},
     "output_type": "display_data"
    },
    {
     "data": {
      "application/vnd.jupyter.widget-view+json": {
       "model_id": "b96a59336bc94379ae060de160738681",
       "version_major": 2,
       "version_minor": 0
      },
      "text/plain": [
       "Validation: 0it [00:00, ?it/s]"
      ]
     },
     "metadata": {},
     "output_type": "display_data"
    },
    {
     "data": {
      "application/vnd.jupyter.widget-view+json": {
       "model_id": "2f707251225047bc866626a3fae99115",
       "version_major": 2,
       "version_minor": 0
      },
      "text/plain": [
       "Validation: 0it [00:00, ?it/s]"
      ]
     },
     "metadata": {},
     "output_type": "display_data"
    },
    {
     "data": {
      "application/vnd.jupyter.widget-view+json": {
       "model_id": "b2bcb5ed48f24d50adbc4cb94e37cc36",
       "version_major": 2,
       "version_minor": 0
      },
      "text/plain": [
       "Validation: 0it [00:00, ?it/s]"
      ]
     },
     "metadata": {},
     "output_type": "display_data"
    },
    {
     "data": {
      "application/vnd.jupyter.widget-view+json": {
       "model_id": "c5c52be937774d838d89aa3f0426cdc7",
       "version_major": 2,
       "version_minor": 0
      },
      "text/plain": [
       "Validation: 0it [00:00, ?it/s]"
      ]
     },
     "metadata": {},
     "output_type": "display_data"
    },
    {
     "data": {
      "application/vnd.jupyter.widget-view+json": {
       "model_id": "cbf2f59442f04466b73fb4d1c7372ce1",
       "version_major": 2,
       "version_minor": 0
      },
      "text/plain": [
       "Validation: 0it [00:00, ?it/s]"
      ]
     },
     "metadata": {},
     "output_type": "display_data"
    },
    {
     "data": {
      "application/vnd.jupyter.widget-view+json": {
       "model_id": "e48118a2d7c54ba8849611bd0fef5474",
       "version_major": 2,
       "version_minor": 0
      },
      "text/plain": [
       "Validation: 0it [00:00, ?it/s]"
      ]
     },
     "metadata": {},
     "output_type": "display_data"
    },
    {
     "data": {
      "application/vnd.jupyter.widget-view+json": {
       "model_id": "f736325dab0f41dea1d457be97be3267",
       "version_major": 2,
       "version_minor": 0
      },
      "text/plain": [
       "Validation: 0it [00:00, ?it/s]"
      ]
     },
     "metadata": {},
     "output_type": "display_data"
    },
    {
     "name": "stdout",
     "output_type": "stream",
     "text": [
      "Epoch 00045: reducing learning rate of group 0 to 1.2500e-03.\n"
     ]
    },
    {
     "data": {
      "application/vnd.jupyter.widget-view+json": {
       "model_id": "41c367d3e5484d7693a07f8152a37ed6",
       "version_major": 2,
       "version_minor": 0
      },
      "text/plain": [
       "Validation: 0it [00:00, ?it/s]"
      ]
     },
     "metadata": {},
     "output_type": "display_data"
    },
    {
     "data": {
      "application/vnd.jupyter.widget-view+json": {
       "model_id": "8c00d20533e5446fa694de606aed3674",
       "version_major": 2,
       "version_minor": 0
      },
      "text/plain": [
       "Validation: 0it [00:00, ?it/s]"
      ]
     },
     "metadata": {},
     "output_type": "display_data"
    },
    {
     "data": {
      "application/vnd.jupyter.widget-view+json": {
       "model_id": "0014bdb5255442ddabc4603754bca603",
       "version_major": 2,
       "version_minor": 0
      },
      "text/plain": [
       "Validation: 0it [00:00, ?it/s]"
      ]
     },
     "metadata": {},
     "output_type": "display_data"
    },
    {
     "data": {
      "application/vnd.jupyter.widget-view+json": {
       "model_id": "81474da1841240018544b915f412baee",
       "version_major": 2,
       "version_minor": 0
      },
      "text/plain": [
       "Validation: 0it [00:00, ?it/s]"
      ]
     },
     "metadata": {},
     "output_type": "display_data"
    },
    {
     "data": {
      "application/vnd.jupyter.widget-view+json": {
       "model_id": "c2c4ac23a9fd4396aa9308d9a5077420",
       "version_major": 2,
       "version_minor": 0
      },
      "text/plain": [
       "Validation: 0it [00:00, ?it/s]"
      ]
     },
     "metadata": {},
     "output_type": "display_data"
    },
    {
     "data": {
      "application/vnd.jupyter.widget-view+json": {
       "model_id": "d8aff785d8b647bbaf828be868f8f7a7",
       "version_major": 2,
       "version_minor": 0
      },
      "text/plain": [
       "Validation: 0it [00:00, ?it/s]"
      ]
     },
     "metadata": {},
     "output_type": "display_data"
    },
    {
     "data": {
      "application/vnd.jupyter.widget-view+json": {
       "model_id": "aaa3d4a2300146a68432fb0f77bdec1e",
       "version_major": 2,
       "version_minor": 0
      },
      "text/plain": [
       "Validation: 0it [00:00, ?it/s]"
      ]
     },
     "metadata": {},
     "output_type": "display_data"
    },
    {
     "data": {
      "application/vnd.jupyter.widget-view+json": {
       "model_id": "6d5cf869216445dbba3222517d5081c7",
       "version_major": 2,
       "version_minor": 0
      },
      "text/plain": [
       "Validation: 0it [00:00, ?it/s]"
      ]
     },
     "metadata": {},
     "output_type": "display_data"
    },
    {
     "data": {
      "application/vnd.jupyter.widget-view+json": {
       "model_id": "bf66b8ae98b14f02a39c989115c53e96",
       "version_major": 2,
       "version_minor": 0
      },
      "text/plain": [
       "Validation: 0it [00:00, ?it/s]"
      ]
     },
     "metadata": {},
     "output_type": "display_data"
    },
    {
     "data": {
      "application/vnd.jupyter.widget-view+json": {
       "model_id": "3a7bbcfa125b4b17861b68176e198c86",
       "version_major": 2,
       "version_minor": 0
      },
      "text/plain": [
       "Validation: 0it [00:00, ?it/s]"
      ]
     },
     "metadata": {},
     "output_type": "display_data"
    },
    {
     "data": {
      "application/vnd.jupyter.widget-view+json": {
       "model_id": "59e3b4d9e79941e6965b12e6a8f1b67b",
       "version_major": 2,
       "version_minor": 0
      },
      "text/plain": [
       "Validation: 0it [00:00, ?it/s]"
      ]
     },
     "metadata": {},
     "output_type": "display_data"
    },
    {
     "name": "stdout",
     "output_type": "stream",
     "text": [
      "Epoch 00056: reducing learning rate of group 0 to 6.2500e-04.\n"
     ]
    },
    {
     "data": {
      "application/vnd.jupyter.widget-view+json": {
       "model_id": "7dfb42b4247e482380dfd5e86db0e132",
       "version_major": 2,
       "version_minor": 0
      },
      "text/plain": [
       "Validation: 0it [00:00, ?it/s]"
      ]
     },
     "metadata": {},
     "output_type": "display_data"
    },
    {
     "data": {
      "application/vnd.jupyter.widget-view+json": {
       "model_id": "d9f9c24057bb440ebdb19430296cbaa4",
       "version_major": 2,
       "version_minor": 0
      },
      "text/plain": [
       "Validation: 0it [00:00, ?it/s]"
      ]
     },
     "metadata": {},
     "output_type": "display_data"
    },
    {
     "data": {
      "application/vnd.jupyter.widget-view+json": {
       "model_id": "97b5e6640d184bd282483f8134acc5b5",
       "version_major": 2,
       "version_minor": 0
      },
      "text/plain": [
       "Validation: 0it [00:00, ?it/s]"
      ]
     },
     "metadata": {},
     "output_type": "display_data"
    },
    {
     "data": {
      "application/vnd.jupyter.widget-view+json": {
       "model_id": "823c61944b6f4447b522077fa600d216",
       "version_major": 2,
       "version_minor": 0
      },
      "text/plain": [
       "Validation: 0it [00:00, ?it/s]"
      ]
     },
     "metadata": {},
     "output_type": "display_data"
    },
    {
     "data": {
      "application/vnd.jupyter.widget-view+json": {
       "model_id": "9c9918045951410ca5b01ed7ba455f18",
       "version_major": 2,
       "version_minor": 0
      },
      "text/plain": [
       "Validation: 0it [00:00, ?it/s]"
      ]
     },
     "metadata": {},
     "output_type": "display_data"
    },
    {
     "data": {
      "application/vnd.jupyter.widget-view+json": {
       "model_id": "e082943236ff4cabafa7e0217f61e9d3",
       "version_major": 2,
       "version_minor": 0
      },
      "text/plain": [
       "Validation: 0it [00:00, ?it/s]"
      ]
     },
     "metadata": {},
     "output_type": "display_data"
    },
    {
     "data": {
      "application/vnd.jupyter.widget-view+json": {
       "model_id": "6691073f10c642e287f1d1d92cf34745",
       "version_major": 2,
       "version_minor": 0
      },
      "text/plain": [
       "Validation: 0it [00:00, ?it/s]"
      ]
     },
     "metadata": {},
     "output_type": "display_data"
    },
    {
     "data": {
      "application/vnd.jupyter.widget-view+json": {
       "model_id": "c3884df9bbd146499d43f2daf202fa85",
       "version_major": 2,
       "version_minor": 0
      },
      "text/plain": [
       "Validation: 0it [00:00, ?it/s]"
      ]
     },
     "metadata": {},
     "output_type": "display_data"
    },
    {
     "data": {
      "application/vnd.jupyter.widget-view+json": {
       "model_id": "167a99a227dd40198550e22793e0b129",
       "version_major": 2,
       "version_minor": 0
      },
      "text/plain": [
       "Validation: 0it [00:00, ?it/s]"
      ]
     },
     "metadata": {},
     "output_type": "display_data"
    },
    {
     "data": {
      "application/vnd.jupyter.widget-view+json": {
       "model_id": "4305ce678b164a0ab688bea96ca31af3",
       "version_major": 2,
       "version_minor": 0
      },
      "text/plain": [
       "Validation: 0it [00:00, ?it/s]"
      ]
     },
     "metadata": {},
     "output_type": "display_data"
    },
    {
     "data": {
      "application/vnd.jupyter.widget-view+json": {
       "model_id": "65d2781b59eb433586e60ef5b6399349",
       "version_major": 2,
       "version_minor": 0
      },
      "text/plain": [
       "Validation: 0it [00:00, ?it/s]"
      ]
     },
     "metadata": {},
     "output_type": "display_data"
    },
    {
     "name": "stdout",
     "output_type": "stream",
     "text": [
      "Epoch 00067: reducing learning rate of group 0 to 3.1250e-04.\n"
     ]
    },
    {
     "data": {
      "application/vnd.jupyter.widget-view+json": {
       "model_id": "c6874f13ab8840c5942f9d12c1091c28",
       "version_major": 2,
       "version_minor": 0
      },
      "text/plain": [
       "Validation: 0it [00:00, ?it/s]"
      ]
     },
     "metadata": {},
     "output_type": "display_data"
    },
    {
     "data": {
      "application/vnd.jupyter.widget-view+json": {
       "model_id": "be780d0423be422ea8122dd57ff5317c",
       "version_major": 2,
       "version_minor": 0
      },
      "text/plain": [
       "Validation: 0it [00:00, ?it/s]"
      ]
     },
     "metadata": {},
     "output_type": "display_data"
    },
    {
     "data": {
      "application/vnd.jupyter.widget-view+json": {
       "model_id": "9126930b0ee949dcb228325a16266763",
       "version_major": 2,
       "version_minor": 0
      },
      "text/plain": [
       "Validation: 0it [00:00, ?it/s]"
      ]
     },
     "metadata": {},
     "output_type": "display_data"
    },
    {
     "data": {
      "application/vnd.jupyter.widget-view+json": {
       "model_id": "1e1f9f6669874a84b8a2fbb3df46beed",
       "version_major": 2,
       "version_minor": 0
      },
      "text/plain": [
       "Validation: 0it [00:00, ?it/s]"
      ]
     },
     "metadata": {},
     "output_type": "display_data"
    },
    {
     "data": {
      "application/vnd.jupyter.widget-view+json": {
       "model_id": "a2addb77526e45c6a64cccb4f8c5a3e1",
       "version_major": 2,
       "version_minor": 0
      },
      "text/plain": [
       "Validation: 0it [00:00, ?it/s]"
      ]
     },
     "metadata": {},
     "output_type": "display_data"
    },
    {
     "data": {
      "application/vnd.jupyter.widget-view+json": {
       "model_id": "078ebe5b170c452f9ae6794d556bf7e9",
       "version_major": 2,
       "version_minor": 0
      },
      "text/plain": [
       "Validation: 0it [00:00, ?it/s]"
      ]
     },
     "metadata": {},
     "output_type": "display_data"
    },
    {
     "data": {
      "application/vnd.jupyter.widget-view+json": {
       "model_id": "e3712f7e7f3c4c7cb2bce5623c215a92",
       "version_major": 2,
       "version_minor": 0
      },
      "text/plain": [
       "Validation: 0it [00:00, ?it/s]"
      ]
     },
     "metadata": {},
     "output_type": "display_data"
    },
    {
     "data": {
      "application/vnd.jupyter.widget-view+json": {
       "model_id": "1c5408bcbd384e40ac6da8c2e01d2ed8",
       "version_major": 2,
       "version_minor": 0
      },
      "text/plain": [
       "Validation: 0it [00:00, ?it/s]"
      ]
     },
     "metadata": {},
     "output_type": "display_data"
    },
    {
     "data": {
      "application/vnd.jupyter.widget-view+json": {
       "model_id": "a86e0fbbd7f64afa86d67605fcaa2e7d",
       "version_major": 2,
       "version_minor": 0
      },
      "text/plain": [
       "Validation: 0it [00:00, ?it/s]"
      ]
     },
     "metadata": {},
     "output_type": "display_data"
    },
    {
     "data": {
      "application/vnd.jupyter.widget-view+json": {
       "model_id": "fa032a0f60c6449b99bf75df1d6ebf4c",
       "version_major": 2,
       "version_minor": 0
      },
      "text/plain": [
       "Validation: 0it [00:00, ?it/s]"
      ]
     },
     "metadata": {},
     "output_type": "display_data"
    },
    {
     "data": {
      "application/vnd.jupyter.widget-view+json": {
       "model_id": "53656aa170eb45f1baa60516378d5f85",
       "version_major": 2,
       "version_minor": 0
      },
      "text/plain": [
       "Validation: 0it [00:00, ?it/s]"
      ]
     },
     "metadata": {},
     "output_type": "display_data"
    },
    {
     "name": "stdout",
     "output_type": "stream",
     "text": [
      "Epoch 00078: reducing learning rate of group 0 to 1.5625e-04.\n"
     ]
    },
    {
     "data": {
      "application/vnd.jupyter.widget-view+json": {
       "model_id": "35666beef83f4518840c800aebec96b6",
       "version_major": 2,
       "version_minor": 0
      },
      "text/plain": [
       "Validation: 0it [00:00, ?it/s]"
      ]
     },
     "metadata": {},
     "output_type": "display_data"
    },
    {
     "data": {
      "application/vnd.jupyter.widget-view+json": {
       "model_id": "001c3a18effe44e9bc477b0a1971358b",
       "version_major": 2,
       "version_minor": 0
      },
      "text/plain": [
       "Validation: 0it [00:00, ?it/s]"
      ]
     },
     "metadata": {},
     "output_type": "display_data"
    },
    {
     "data": {
      "application/vnd.jupyter.widget-view+json": {
       "model_id": "9ec38b4280f84f1782723987065c6f92",
       "version_major": 2,
       "version_minor": 0
      },
      "text/plain": [
       "Validation: 0it [00:00, ?it/s]"
      ]
     },
     "metadata": {},
     "output_type": "display_data"
    },
    {
     "data": {
      "application/vnd.jupyter.widget-view+json": {
       "model_id": "3827262669444b9bb772504ca042095d",
       "version_major": 2,
       "version_minor": 0
      },
      "text/plain": [
       "Validation: 0it [00:00, ?it/s]"
      ]
     },
     "metadata": {},
     "output_type": "display_data"
    },
    {
     "data": {
      "application/vnd.jupyter.widget-view+json": {
       "model_id": "60612564060c46589d07f2913ec1104f",
       "version_major": 2,
       "version_minor": 0
      },
      "text/plain": [
       "Validation: 0it [00:00, ?it/s]"
      ]
     },
     "metadata": {},
     "output_type": "display_data"
    },
    {
     "data": {
      "application/vnd.jupyter.widget-view+json": {
       "model_id": "e1d3fe2a704b4ee6a3c8599910cc34d3",
       "version_major": 2,
       "version_minor": 0
      },
      "text/plain": [
       "Validation: 0it [00:00, ?it/s]"
      ]
     },
     "metadata": {},
     "output_type": "display_data"
    },
    {
     "data": {
      "application/vnd.jupyter.widget-view+json": {
       "model_id": "b363c10febd74e52added4becb1477ef",
       "version_major": 2,
       "version_minor": 0
      },
      "text/plain": [
       "Validation: 0it [00:00, ?it/s]"
      ]
     },
     "metadata": {},
     "output_type": "display_data"
    },
    {
     "data": {
      "application/vnd.jupyter.widget-view+json": {
       "model_id": "6d284a3631cc42ffb6b28a8eddcb035e",
       "version_major": 2,
       "version_minor": 0
      },
      "text/plain": [
       "Validation: 0it [00:00, ?it/s]"
      ]
     },
     "metadata": {},
     "output_type": "display_data"
    },
    {
     "data": {
      "application/vnd.jupyter.widget-view+json": {
       "model_id": "e8dd5462dc8840d8b675fb6a58391ede",
       "version_major": 2,
       "version_minor": 0
      },
      "text/plain": [
       "Validation: 0it [00:00, ?it/s]"
      ]
     },
     "metadata": {},
     "output_type": "display_data"
    },
    {
     "data": {
      "application/vnd.jupyter.widget-view+json": {
       "model_id": "eeb78a85db374417a6aed6e2c05cdc27",
       "version_major": 2,
       "version_minor": 0
      },
      "text/plain": [
       "Validation: 0it [00:00, ?it/s]"
      ]
     },
     "metadata": {},
     "output_type": "display_data"
    },
    {
     "data": {
      "application/vnd.jupyter.widget-view+json": {
       "model_id": "478a144c68da4903b53bb00f11779bcd",
       "version_major": 2,
       "version_minor": 0
      },
      "text/plain": [
       "Validation: 0it [00:00, ?it/s]"
      ]
     },
     "metadata": {},
     "output_type": "display_data"
    },
    {
     "name": "stdout",
     "output_type": "stream",
     "text": [
      "Epoch 00089: reducing learning rate of group 0 to 7.8125e-05.\n"
     ]
    },
    {
     "data": {
      "application/vnd.jupyter.widget-view+json": {
       "model_id": "c11f416b75d441f0bae8aa1229a1b6bc",
       "version_major": 2,
       "version_minor": 0
      },
      "text/plain": [
       "Validation: 0it [00:00, ?it/s]"
      ]
     },
     "metadata": {},
     "output_type": "display_data"
    },
    {
     "data": {
      "application/vnd.jupyter.widget-view+json": {
       "model_id": "a2680fb9075447679dc5f89ecffc3f7a",
       "version_major": 2,
       "version_minor": 0
      },
      "text/plain": [
       "Validation: 0it [00:00, ?it/s]"
      ]
     },
     "metadata": {},
     "output_type": "display_data"
    },
    {
     "data": {
      "application/vnd.jupyter.widget-view+json": {
       "model_id": "96abe848ad3343839ef894eb9e1e553e",
       "version_major": 2,
       "version_minor": 0
      },
      "text/plain": [
       "Validation: 0it [00:00, ?it/s]"
      ]
     },
     "metadata": {},
     "output_type": "display_data"
    },
    {
     "data": {
      "application/vnd.jupyter.widget-view+json": {
       "model_id": "adb70b35ce2444448f29bf5c57f4e238",
       "version_major": 2,
       "version_minor": 0
      },
      "text/plain": [
       "Validation: 0it [00:00, ?it/s]"
      ]
     },
     "metadata": {},
     "output_type": "display_data"
    },
    {
     "data": {
      "application/vnd.jupyter.widget-view+json": {
       "model_id": "f99542f3514b4b5e919ca3df8bad1445",
       "version_major": 2,
       "version_minor": 0
      },
      "text/plain": [
       "Validation: 0it [00:00, ?it/s]"
      ]
     },
     "metadata": {},
     "output_type": "display_data"
    },
    {
     "data": {
      "application/vnd.jupyter.widget-view+json": {
       "model_id": "ae09ef9ece7d42d6a310a48d4824a350",
       "version_major": 2,
       "version_minor": 0
      },
      "text/plain": [
       "Validation: 0it [00:00, ?it/s]"
      ]
     },
     "metadata": {},
     "output_type": "display_data"
    },
    {
     "data": {
      "application/vnd.jupyter.widget-view+json": {
       "model_id": "c7e2794fef6c4cd5a5aca9ca00650c47",
       "version_major": 2,
       "version_minor": 0
      },
      "text/plain": [
       "Validation: 0it [00:00, ?it/s]"
      ]
     },
     "metadata": {},
     "output_type": "display_data"
    },
    {
     "data": {
      "application/vnd.jupyter.widget-view+json": {
       "model_id": "b26dbc1a70394464a131d3f3fd03921d",
       "version_major": 2,
       "version_minor": 0
      },
      "text/plain": [
       "Validation: 0it [00:00, ?it/s]"
      ]
     },
     "metadata": {},
     "output_type": "display_data"
    },
    {
     "data": {
      "application/vnd.jupyter.widget-view+json": {
       "model_id": "23c719d62d104e3898eb91bc87ac0658",
       "version_major": 2,
       "version_minor": 0
      },
      "text/plain": [
       "Validation: 0it [00:00, ?it/s]"
      ]
     },
     "metadata": {},
     "output_type": "display_data"
    },
    {
     "data": {
      "application/vnd.jupyter.widget-view+json": {
       "model_id": "a8c478f616a944b6918205cdd4ede15f",
       "version_major": 2,
       "version_minor": 0
      },
      "text/plain": [
       "Validation: 0it [00:00, ?it/s]"
      ]
     },
     "metadata": {},
     "output_type": "display_data"
    },
    {
     "data": {
      "application/vnd.jupyter.widget-view+json": {
       "model_id": "c11bf4a60e8a4679bb7c91b900fde839",
       "version_major": 2,
       "version_minor": 0
      },
      "text/plain": [
       "Validation: 0it [00:00, ?it/s]"
      ]
     },
     "metadata": {},
     "output_type": "display_data"
    },
    {
     "name": "stderr",
     "output_type": "stream",
     "text": [
      "`Trainer.fit` stopped: `max_epochs=100` reached.\n"
     ]
    },
    {
     "name": "stdout",
     "output_type": "stream",
     "text": [
      "Epoch 00100: reducing learning rate of group 0 to 3.9063e-05.\n"
     ]
    }
   ],
   "source": [
    "import pytorch_lightning as pl\n",
    "\n",
    "torch.set_float32_matmul_precision(\"high\")\n",
    "\n",
    "trainer_transfer = pl.Trainer(\n",
    "    max_epochs=100,\n",
    "    accelerator=\"gpu\",\n",
    "    devices=1,\n",
    "    enable_progress_bar=True,\n",
    "    gradient_clip_val=3.0,\n",
    "    default_root_dir=\"./test/\",\n",
    "    precision=\"bf16\",\n",
    "    log_every_n_steps=10,\n",
    ")\n",
    "\n",
    "trainer_transfer.fit(model, train_dataloader, val_dataloader)"
   ]
  },
  {
   "cell_type": "code",
   "execution_count": null,
   "metadata": {},
   "outputs": [],
   "source": [
    "df = pd.read_pickle(\n",
    "    \"/home/santiagovargas/dev/qtaim_embed/data/xyz_qm8/molecules_qtaim.pkl\"\n",
    ")"
   ]
  },
  {
   "cell_type": "code",
   "execution_count": null,
   "metadata": {},
   "outputs": [],
   "source": [
    "df.names"
   ]
  },
  {
   "cell_type": "code",
   "execution_count": null,
   "metadata": {},
   "outputs": [],
   "source": [
    "root_xyz = \"../../../data/xyz_qm8/xyz/\"\n",
    "csv = \"../../../data/xyz_qm8/qm8.sdf.csv\"\n",
    "# open csv file\n",
    "df_labels = pd.read_csv(csv)\n",
    "# print(df.head())\n",
    "data_added = [[] for i in range(len(df))]\n",
    "col_names_labels = list(df_labels.columns)\n",
    "for i in tqdm(range(len(df))):\n",
    "    name = df.names[i]\n",
    "    # get second line of xyz file\n",
    "    with open(root_xyz + name, \"r\") as f:\n",
    "        line = f.readlines()[1]\n",
    "    id = float(line.split()[1])\n",
    "    row_hit = df_labels[df_labels[\"gdb9_index\"] == id]\n",
    "\n",
    "    # convert to list\n",
    "    row_hit = row_hit.values.tolist()[0]\n",
    "    # append to data_added\n",
    "    data_added[i] = row_hit\n",
    "\n",
    "# add to df with column names with prefix \"extra_feat_global_\" and replace . with _ and - with _\n",
    "for i in range(len(col_names_labels)):\n",
    "    df[\n",
    "        \"extra_feat_global_\" + col_names_labels[i].replace(\".\", \"_\").replace(\"-\", \"_\")\n",
    "    ] = [row[i] for row in data_added]"
   ]
  },
  {
   "cell_type": "code",
   "execution_count": null,
   "metadata": {},
   "outputs": [],
   "source": [
    "df.columns"
   ]
  },
  {
   "cell_type": "code",
   "execution_count": null,
   "metadata": {},
   "outputs": [],
   "source": [
    "df.to_pickle(\n",
    "    \"/home/santiagovargas/dev/qtaim_embed/data/xyz_qm8/molecules_qtaim_labelled.pkl\"\n",
    ")"
   ]
  },
  {
   "cell_type": "code",
   "execution_count": 4,
   "metadata": {},
   "outputs": [],
   "source": [
    "import pandas as pd\n",
    "\n",
    "df = pd.read_pickle(\n",
    "    \"/home/santiagovargas/dev/qtaim_embed/data/xyz_qm8/molecules_qtaim_labelled.pkl\"\n",
    ")\n",
    "df = df.head(100)\n",
    "df.to_pickle(\"/home/santiagovargas/dev/qtaim_embed/tests/data/labelled_data.pkl\")"
   ]
  },
  {
   "cell_type": "code",
   "execution_count": null,
   "metadata": {},
   "outputs": [],
   "source": []
  }
 ],
 "metadata": {
  "kernelspec": {
   "display_name": "qtaim_embed",
   "language": "python",
   "name": "python3"
  },
  "language_info": {
   "codemirror_mode": {
    "name": "ipython",
    "version": 3
   },
   "file_extension": ".py",
   "mimetype": "text/x-python",
   "name": "python",
   "nbconvert_exporter": "python",
   "pygments_lexer": "ipython3",
   "version": "3.11.3"
  },
  "orig_nbformat": 4
 },
 "nbformat": 4,
 "nbformat_minor": 2
}
