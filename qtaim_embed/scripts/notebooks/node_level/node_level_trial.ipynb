{
 "cells": [
  {
   "cell_type": "code",
   "execution_count": 1,
   "metadata": {},
   "outputs": [],
   "source": [
    "import pandas as pd\n",
    "\n",
    "import torch\n",
    "import dgl\n",
    "from tqdm import tqdm\n",
    "\n",
    "from qtaim_embed.core.dataset import HeteroGraphNodeLabelDataset\n",
    "from qtaim_embed.data.dataloader import DataLoaderMoleculeNodeTask\n",
    "from qtaim_embed.models.node_level.base_gcn import GCNNodePred"
   ]
  },
  {
   "cell_type": "code",
   "execution_count": 15,
   "metadata": {},
   "outputs": [
    {
     "name": "stdout",
     "output_type": "stream",
     "text": [
      "... > creating MoleculeWrapper objects\n"
     ]
    },
    {
     "name": "stderr",
     "output_type": "stream",
     "text": [
      "100%|██████████| 19607/19607 [00:02<00:00, 8688.51it/s]\n"
     ]
    },
    {
     "name": "stdout",
     "output_type": "stream",
     "text": [
      "... > bond_feats_error_count:  0\n",
      "... > atom_feats_error_count:  0\n",
      "element set {'N', 'C', 'O', 'F', 'H'}\n",
      "selected atomic keys ['extra_feat_atom_esp_total']\n",
      "selected bond keys ['bond_length', 'extra_feat_bond_esp_total', 'extra_feat_bond_ellip_e_dens', 'extra_feat_bond_eta']\n",
      "selected global keys []\n",
      "... > Building graphs and featurizing\n"
     ]
    },
    {
     "name": "stderr",
     "output_type": "stream",
     "text": [
      "100%|██████████| 19607/19607 [00:33<00:00, 582.16it/s]\n"
     ]
    },
    {
     "name": "stdout",
     "output_type": "stream",
     "text": [
      "included in labels\n",
      "{'atom': ['extra_feat_atom_esp_total'], 'bond': ['extra_feat_bond_esp_total', 'extra_feat_bond_ellip_e_dens', 'extra_feat_bond_eta']}\n",
      "included in graph features\n",
      "{'atom': ['total_degree', 'total_H', 'is_in_ring', 'ring_size_3', 'ring_size_4', 'ring_size_5', 'ring_size_6', 'ring_size_7', 'chemical_symbol_N', 'chemical_symbol_C', 'chemical_symbol_O', 'chemical_symbol_F', 'chemical_symbol_H'], 'bond': ['metal bond', 'ring inclusion', 'ring size_3', 'ring size_4', 'ring size_5', 'ring size_6', 'ring size_7', 'bond_length'], 'global': ['num atoms', 'num bonds', 'molecule weight']}\n",
      "original loader node types: dict_keys(['atom', 'bond', 'global'])\n",
      "original loader label types: dict_keys([])\n",
      "include names:  dict_keys(['atom', 'bond'])\n",
      "... > parsing labels and features in graphs\n"
     ]
    },
    {
     "name": "stderr",
     "output_type": "stream",
     "text": [
      "100%|██████████| 19607/19607 [00:01<00:00, 14412.44it/s]\n"
     ]
    },
    {
     "name": "stdout",
     "output_type": "stream",
     "text": [
      "original loader node types: dict_keys(['atom', 'bond', 'global'])\n",
      "original loader label types: dict_keys(['atom', 'bond'])\n",
      "... > Scaling features\n",
      "mean [1.40693510e+00 3.21409331e-01 5.23967372e-02 9.02539660e-03\n",
      " 2.37487086e-02 1.49895105e-02 3.90107557e-03 7.32045862e-04\n",
      " 5.92925458e-02 3.43693948e-01 7.86172890e-02 1.39120404e-03\n",
      " 5.17005013e-01]\n",
      "std [1.5807023  0.64451751 0.22282576 0.0945724  0.15226525 0.1215106\n",
      " 0.06233664 0.02704644 0.23617142 0.47494044 0.2691405  0.03727289\n",
      " 0.49971075]\n",
      "mean [0.00000000e+00 7.05700608e-02 1.21337385e-02 3.20213561e-02\n",
      " 2.01889451e-02 5.44936000e-03 9.80375514e-04 1.55522426e+00]\n",
      "std [0.         0.25610531 0.10948293 0.17605678 0.14064619 0.07361837\n",
      " 0.0312956  0.7714357 ]\n",
      "Standard deviation for feature 0 is 0.0, smaller than 0.001. You may want to exclude this feature.\n",
      "mean [ 16.09394604  12.01734075 108.859255  ]\n",
      "std [2.90372676 1.74248899 8.05426511]\n",
      "... > Scaling features complete\n",
      "... > feature mean(s): \n",
      " {'atom': tensor([1.4069e+00, 3.2141e-01, 5.2397e-02, 9.0254e-03, 2.3749e-02, 1.4990e-02,\n",
      "        3.9011e-03, 7.3205e-04, 5.9293e-02, 3.4369e-01, 7.8617e-02, 1.3912e-03,\n",
      "        5.1701e-01]), 'bond': tensor([0.0000e+00, 7.0570e-02, 1.2134e-02, 3.2021e-02, 2.0189e-02, 5.4494e-03,\n",
      "        9.8038e-04, 1.5552e+00]), 'global': tensor([ 16.0939,  12.0173, 108.8593])}\n",
      "... > feature std(s):  \n",
      " {'atom': tensor([1.5807, 0.6445, 0.2228, 0.0946, 0.1523, 0.1215, 0.0623, 0.0270, 0.2362,\n",
      "        0.4749, 0.2691, 0.0373, 0.4997]), 'bond': tensor([0.0010, 0.2561, 0.1095, 0.1761, 0.1406, 0.0736, 0.0313, 0.7714]), 'global': tensor([2.9037, 1.7425, 8.0543])}\n",
      "... > Log scaling targets\n",
      "... > Log scaling targets complete\n",
      "... > Scaling targets\n",
      "mean [8.98075974]\n",
      "std [5.65623872]\n",
      "mean [0.68714868 0.07579487 0.89432038]\n",
      "std [0.20561536 0.12395626 0.18225771]\n",
      "... > Scaling targets complete\n",
      "... > feature mean(s): \n",
      " {'atom': tensor([8.9808]), 'bond': tensor([0.6871, 0.0758, 0.8943])}\n",
      "... > feature std(s):  \n",
      " {'atom': tensor([5.6562]), 'bond': tensor([0.2056, 0.1240, 0.1823])}\n",
      "... > loaded dataset\n"
     ]
    }
   ],
   "source": [
    "# df = pd.read_pickle(\n",
    "#    \"/home/santiagovargas/dev/qtaim_embed/data/xyz_qm8/molecules_qtaim_labelled.pkl\"\n",
    "# )\n",
    "\n",
    "dataset = HeteroGraphNodeLabelDataset(\n",
    "    # file=\"/home/santiagovargas/dev/qtaim_embed/data/xyz_qm8/molecules_full.pkl\",\n",
    "    file=\"/home/santiagovargas/dev/qtaim_embed/data/splits_1205/train_qm8_qtaim_1205_labelled.pkl\",\n",
    "    allowed_ring_size=[3, 4, 5, 6, 7],\n",
    "    allowed_charges=None,\n",
    "    self_loop=True,\n",
    "    extra_keys={\n",
    "        \"atom\": [\"extra_feat_atom_esp_total\"],\n",
    "        \"bond\": [\n",
    "            \"bond_length\",\n",
    "            \"extra_feat_bond_esp_total\",\n",
    "           \"extra_feat_bond_ellip_e_dens\",\n",
    "           \"extra_feat_bond_eta\",\n",
    "        ],\n",
    "        #\"global\": [\"E1-CC2\", \"E2-CC2\"],\n",
    "    },\n",
    "    target_dict={\n",
    "        \"atom\": [\"extra_feat_atom_esp_total\"],\n",
    "        \"bond\": [\n",
    "           \"extra_feat_bond_esp_total\",\n",
    "           \"extra_feat_bond_ellip_e_dens\",\n",
    "           \"extra_feat_bond_eta\",\n",
    "        ],\n",
    "        #\"global\": [\"E1-CC2\", \"E2-CC2\"],\n",
    "    },\n",
    "    extra_dataset_info={},\n",
    "    debug=False,\n",
    "    log_scale_features=False,\n",
    "    log_scale_targets=True,\n",
    "    standard_scale_features=True,\n",
    "    standard_scale_targets=True,\n",
    "    \n",
    ")\n",
    "\n",
    "bond = [\n",
    "    \"extra_feat_bond_esp_total\",\n",
    "    \"extra_feat_bond_ellip_e_dens\",\n",
    "    \"extra_feat_bond_eta\",\n",
    "]"
   ]
  },
  {
   "cell_type": "code",
   "execution_count": 16,
   "metadata": {},
   "outputs": [],
   "source": [
    "# split dataset into train and val\n",
    "from torch.utils.data import random_split\n",
    "\n",
    "generator = torch.Generator().manual_seed(42)\n",
    "train_size = int(0.5 * len(dataset))\n",
    "val_size = len(dataset) - train_size\n",
    "train_dataset, val_dataset = random_split(\n",
    "    dataset, [train_size, val_size], generator=generator\n",
    ")\n",
    "\n",
    "\n",
    "train_dataloader = DataLoaderMoleculeNodeTask(\n",
    "    train_dataset, batch_size=100, shuffle=True, num_workers=4, \n",
    ")\n",
    "\n",
    "batch_graph, batch_label = next(iter(train_dataloader))\n",
    "val_dataloader = DataLoaderMoleculeNodeTask(\n",
    "    val_dataset, batch_size=100, shuffle=True, num_workers=4\n",
    ")"
   ]
  },
  {
   "cell_type": "code",
   "execution_count": 17,
   "metadata": {},
   "outputs": [
    {
     "name": "stdout",
     "output_type": "stream",
     "text": [
      "torch.Size([1588, 1])\n",
      "torch.Size([1194, 3])\n"
     ]
    }
   ],
   "source": [
    "print(batch_label[\"atom\"].shape)\n",
    "print(batch_label[\"bond\"].shape)"
   ]
  },
  {
   "cell_type": "code",
   "execution_count": 18,
   "metadata": {},
   "outputs": [
    {
     "name": "stdout",
     "output_type": "stream",
     "text": [
      "triggered output_layer args\n",
      "number of output dims 4\n"
     ]
    }
   ],
   "source": [
    "len_dict = dataset.feature_size()\n",
    "atom_input_size = len_dict[\"atom\"]\n",
    "bond_input_size = len_dict[\"bond\"]\n",
    "global_input_size = len_dict[\"global\"]\n",
    "\n",
    "model = GCNNodePred(\n",
    "    atom_input_size=atom_input_size,\n",
    "    bond_input_size=bond_input_size,\n",
    "    global_input_size=global_input_size,\n",
    "    target_dict={\n",
    "        \"atom\": [\"extra_feat_atom_esp_total\"],\n",
    "        \"bond\": [\n",
    "           \"extra_feat_bond_esp_total\",\n",
    "           \"extra_feat_bond_ellip_e_dens\",\n",
    "           \"extra_feat_bond_eta\",\n",
    "        ],\n",
    "    },\n",
    "    activation=\"ReLU\",\n",
    "    conv_fn=\"ResidualBlock\",\n",
    "    resid_n_graph_convs=3,\n",
    "    hidden_size_gat=64,\n",
    "    num_heads_gat=3,\n",
    "    dropout_feat_gat=0.2,\n",
    "    dropout_attn_gat=0.2,\n",
    "    dropout=0.2,\n",
    "    bias=True,\n",
    "    batch_norm=True,\n",
    "    n_conv_layers=6,\n",
    "    lr_plateau_patience=10,\n",
    "    lr=0.02,\n",
    "    embedding_size=64,\n",
    "    weight_decay=0.0001,\n",
    ")"
   ]
  },
  {
   "cell_type": "code",
   "execution_count": 19,
   "metadata": {},
   "outputs": [],
   "source": [
    "batch_graph, batch_label = next(iter(train_dataloader))\n",
    "feats = model.forward(batch_graph, batch_graph.ndata[\"feat\"])"
   ]
  },
  {
   "cell_type": "code",
   "execution_count": 20,
   "metadata": {},
   "outputs": [
    {
     "data": {
      "text/plain": [
       "'\\noptimizer, lr_scheduler = model.configure_optimizers()\\noptimizer = optimizer[0]\\nlr_scheduler = lr_scheduler[0]\\n'"
      ]
     },
     "execution_count": 20,
     "metadata": {},
     "output_type": "execute_result"
    }
   ],
   "source": [
    "\"\"\"\n",
    "optimizer, lr_scheduler = model.configure_optimizers()\n",
    "optimizer = optimizer[0]\n",
    "lr_scheduler = lr_scheduler[0]\n",
    "\"\"\""
   ]
  },
  {
   "cell_type": "code",
   "execution_count": 21,
   "metadata": {},
   "outputs": [
    {
     "name": "stderr",
     "output_type": "stream",
     "text": [
      "/home/santiagovargas/anaconda3/envs/qtaim_embed/lib/python3.11/site-packages/lightning_fabric/connector.py:554: UserWarning: bf16 is supported for historical reasons but its usage is discouraged. Please set your precision to bf16-mixed instead!\n",
      "  rank_zero_warn(\n",
      "Using bfloat16 Automatic Mixed Precision (AMP)\n",
      "GPU available: True (cuda), used: True\n",
      "TPU available: False, using: 0 TPU cores\n",
      "IPU available: False, using: 0 IPUs\n",
      "HPU available: False, using: 0 HPUs\n",
      "LOCAL_RANK: 0 - CUDA_VISIBLE_DEVICES: [0,1]\n",
      "\n",
      "   | Name            | Type               | Params\n",
      "--------------------------------------------------------\n",
      "0  | embedding       | UnifySize          | 1.5 K \n",
      "1  | conv_layers     | ModuleList         | 193 K \n",
      "2  | loss            | MultioutputWrapper | 0     \n",
      "3  | train_r2        | MultioutputWrapper | 0     \n",
      "4  | train_torch_l1  | MultioutputWrapper | 0     \n",
      "5  | train_torch_mse | MultioutputWrapper | 0     \n",
      "6  | val_r2          | MultioutputWrapper | 0     \n",
      "7  | val_torch_l1    | MultioutputWrapper | 0     \n",
      "8  | val_torch_mse   | MultioutputWrapper | 0     \n",
      "9  | test_r2         | MultioutputWrapper | 0     \n",
      "10 | test_torch_l1   | MultioutputWrapper | 0     \n",
      "11 | test_torch_mse  | MultioutputWrapper | 0     \n",
      "--------------------------------------------------------\n",
      "195 K     Trainable params\n",
      "0         Non-trainable params\n",
      "195 K     Total params\n",
      "0.782     Total estimated model params size (MB)\n"
     ]
    },
    {
     "data": {
      "application/vnd.jupyter.widget-view+json": {
       "model_id": "d6088cf18f79473f999c1c79425cd2d8",
       "version_major": 2,
       "version_minor": 0
      },
      "text/plain": [
       "Sanity Checking: 0it [00:00, ?it/s]"
      ]
     },
     "metadata": {},
     "output_type": "display_data"
    },
    {
     "name": "stderr",
     "output_type": "stream",
     "text": [
      "/home/santiagovargas/anaconda3/envs/qtaim_embed/lib/python3.11/site-packages/pytorch_lightning/trainer/connectors/data_connector.py:490: PossibleUserWarning: Your `val_dataloader`'s sampler has shuffling enabled, it is strongly recommended that you turn shuffling off for val/test dataloaders.\n",
      "  rank_zero_warn(\n"
     ]
    },
    {
     "data": {
      "application/vnd.jupyter.widget-view+json": {
       "model_id": "11fccf634d3e4b7983a456eb59942a3e",
       "version_major": 2,
       "version_minor": 0
      },
      "text/plain": [
       "Training: 0it [00:00, ?it/s]"
      ]
     },
     "metadata": {},
     "output_type": "display_data"
    },
    {
     "data": {
      "application/vnd.jupyter.widget-view+json": {
       "model_id": "0518b21025164df7badc7ed302b016cf",
       "version_major": 2,
       "version_minor": 0
      },
      "text/plain": [
       "Validation: 0it [00:00, ?it/s]"
      ]
     },
     "metadata": {},
     "output_type": "display_data"
    },
    {
     "data": {
      "application/vnd.jupyter.widget-view+json": {
       "model_id": "168628b821914a89b5de8d77e38bf282",
       "version_major": 2,
       "version_minor": 0
      },
      "text/plain": [
       "Validation: 0it [00:00, ?it/s]"
      ]
     },
     "metadata": {},
     "output_type": "display_data"
    },
    {
     "data": {
      "application/vnd.jupyter.widget-view+json": {
       "model_id": "110254431f404ed885ebafd925c6ea52",
       "version_major": 2,
       "version_minor": 0
      },
      "text/plain": [
       "Validation: 0it [00:00, ?it/s]"
      ]
     },
     "metadata": {},
     "output_type": "display_data"
    },
    {
     "data": {
      "application/vnd.jupyter.widget-view+json": {
       "model_id": "12f5af4f1ad64ed189b18a5f33d0fd83",
       "version_major": 2,
       "version_minor": 0
      },
      "text/plain": [
       "Validation: 0it [00:00, ?it/s]"
      ]
     },
     "metadata": {},
     "output_type": "display_data"
    },
    {
     "data": {
      "application/vnd.jupyter.widget-view+json": {
       "model_id": "ef6df30663414b2b8b8bbc59b3d7d71a",
       "version_major": 2,
       "version_minor": 0
      },
      "text/plain": [
       "Validation: 0it [00:00, ?it/s]"
      ]
     },
     "metadata": {},
     "output_type": "display_data"
    },
    {
     "data": {
      "application/vnd.jupyter.widget-view+json": {
       "model_id": "7cdf564a527e43ff874801bd0618f173",
       "version_major": 2,
       "version_minor": 0
      },
      "text/plain": [
       "Validation: 0it [00:00, ?it/s]"
      ]
     },
     "metadata": {},
     "output_type": "display_data"
    },
    {
     "data": {
      "application/vnd.jupyter.widget-view+json": {
       "model_id": "959ae9cee09646a6a412bf6ca9042924",
       "version_major": 2,
       "version_minor": 0
      },
      "text/plain": [
       "Validation: 0it [00:00, ?it/s]"
      ]
     },
     "metadata": {},
     "output_type": "display_data"
    },
    {
     "data": {
      "application/vnd.jupyter.widget-view+json": {
       "model_id": "6a43aea21e9141519ea786b571d16caa",
       "version_major": 2,
       "version_minor": 0
      },
      "text/plain": [
       "Validation: 0it [00:00, ?it/s]"
      ]
     },
     "metadata": {},
     "output_type": "display_data"
    },
    {
     "data": {
      "application/vnd.jupyter.widget-view+json": {
       "model_id": "83559133d6d34ca98976adee85668428",
       "version_major": 2,
       "version_minor": 0
      },
      "text/plain": [
       "Validation: 0it [00:00, ?it/s]"
      ]
     },
     "metadata": {},
     "output_type": "display_data"
    },
    {
     "data": {
      "application/vnd.jupyter.widget-view+json": {
       "model_id": "4d97fe35ff2448a68a1efb90f59d7356",
       "version_major": 2,
       "version_minor": 0
      },
      "text/plain": [
       "Validation: 0it [00:00, ?it/s]"
      ]
     },
     "metadata": {},
     "output_type": "display_data"
    },
    {
     "data": {
      "application/vnd.jupyter.widget-view+json": {
       "model_id": "f8ddd1bf8ff3421ba1f20afe264bd0de",
       "version_major": 2,
       "version_minor": 0
      },
      "text/plain": [
       "Validation: 0it [00:00, ?it/s]"
      ]
     },
     "metadata": {},
     "output_type": "display_data"
    },
    {
     "data": {
      "application/vnd.jupyter.widget-view+json": {
       "model_id": "981d438c4d2e4e1bb6e6168050c43586",
       "version_major": 2,
       "version_minor": 0
      },
      "text/plain": [
       "Validation: 0it [00:00, ?it/s]"
      ]
     },
     "metadata": {},
     "output_type": "display_data"
    },
    {
     "name": "stdout",
     "output_type": "stream",
     "text": [
      "Epoch 00012: reducing learning rate of group 0 to 1.0000e-02.\n"
     ]
    },
    {
     "data": {
      "application/vnd.jupyter.widget-view+json": {
       "model_id": "796098171fb5431fa68f9cb06eb76fda",
       "version_major": 2,
       "version_minor": 0
      },
      "text/plain": [
       "Validation: 0it [00:00, ?it/s]"
      ]
     },
     "metadata": {},
     "output_type": "display_data"
    },
    {
     "data": {
      "application/vnd.jupyter.widget-view+json": {
       "model_id": "443d4f727edd449c95023877c5516a2a",
       "version_major": 2,
       "version_minor": 0
      },
      "text/plain": [
       "Validation: 0it [00:00, ?it/s]"
      ]
     },
     "metadata": {},
     "output_type": "display_data"
    },
    {
     "data": {
      "application/vnd.jupyter.widget-view+json": {
       "model_id": "e2bad373af594599a247c41e49f916fb",
       "version_major": 2,
       "version_minor": 0
      },
      "text/plain": [
       "Validation: 0it [00:00, ?it/s]"
      ]
     },
     "metadata": {},
     "output_type": "display_data"
    },
    {
     "data": {
      "application/vnd.jupyter.widget-view+json": {
       "model_id": "d40d764948b043968414082890116c07",
       "version_major": 2,
       "version_minor": 0
      },
      "text/plain": [
       "Validation: 0it [00:00, ?it/s]"
      ]
     },
     "metadata": {},
     "output_type": "display_data"
    },
    {
     "data": {
      "application/vnd.jupyter.widget-view+json": {
       "model_id": "3f68a61c7f764e06b4fe19da6d6820c5",
       "version_major": 2,
       "version_minor": 0
      },
      "text/plain": [
       "Validation: 0it [00:00, ?it/s]"
      ]
     },
     "metadata": {},
     "output_type": "display_data"
    },
    {
     "data": {
      "application/vnd.jupyter.widget-view+json": {
       "model_id": "585d8685434648f7a7e6bc71adf7c76f",
       "version_major": 2,
       "version_minor": 0
      },
      "text/plain": [
       "Validation: 0it [00:00, ?it/s]"
      ]
     },
     "metadata": {},
     "output_type": "display_data"
    },
    {
     "data": {
      "application/vnd.jupyter.widget-view+json": {
       "model_id": "b8fe2a554e0f45d5baadd6edd836f2e3",
       "version_major": 2,
       "version_minor": 0
      },
      "text/plain": [
       "Validation: 0it [00:00, ?it/s]"
      ]
     },
     "metadata": {},
     "output_type": "display_data"
    },
    {
     "data": {
      "application/vnd.jupyter.widget-view+json": {
       "model_id": "63980898c2fe4de4be6bfc92c9b3b376",
       "version_major": 2,
       "version_minor": 0
      },
      "text/plain": [
       "Validation: 0it [00:00, ?it/s]"
      ]
     },
     "metadata": {},
     "output_type": "display_data"
    },
    {
     "data": {
      "application/vnd.jupyter.widget-view+json": {
       "model_id": "b5e94c48f022421eb3ef15ff83b48136",
       "version_major": 2,
       "version_minor": 0
      },
      "text/plain": [
       "Validation: 0it [00:00, ?it/s]"
      ]
     },
     "metadata": {},
     "output_type": "display_data"
    },
    {
     "data": {
      "application/vnd.jupyter.widget-view+json": {
       "model_id": "f1c20b85b5304216b6096f335e06791c",
       "version_major": 2,
       "version_minor": 0
      },
      "text/plain": [
       "Validation: 0it [00:00, ?it/s]"
      ]
     },
     "metadata": {},
     "output_type": "display_data"
    },
    {
     "data": {
      "application/vnd.jupyter.widget-view+json": {
       "model_id": "2422bc255d3846ee81035912bf0c15b5",
       "version_major": 2,
       "version_minor": 0
      },
      "text/plain": [
       "Validation: 0it [00:00, ?it/s]"
      ]
     },
     "metadata": {},
     "output_type": "display_data"
    },
    {
     "name": "stdout",
     "output_type": "stream",
     "text": [
      "Epoch 00023: reducing learning rate of group 0 to 5.0000e-03.\n"
     ]
    },
    {
     "data": {
      "application/vnd.jupyter.widget-view+json": {
       "model_id": "105a0bdb5e9f492a96e7ead47179b0ec",
       "version_major": 2,
       "version_minor": 0
      },
      "text/plain": [
       "Validation: 0it [00:00, ?it/s]"
      ]
     },
     "metadata": {},
     "output_type": "display_data"
    },
    {
     "data": {
      "application/vnd.jupyter.widget-view+json": {
       "model_id": "83d952fe4faa478b82d2ece7964b16dc",
       "version_major": 2,
       "version_minor": 0
      },
      "text/plain": [
       "Validation: 0it [00:00, ?it/s]"
      ]
     },
     "metadata": {},
     "output_type": "display_data"
    },
    {
     "data": {
      "application/vnd.jupyter.widget-view+json": {
       "model_id": "24dc256eff8342cbb3721f1b73a83f9a",
       "version_major": 2,
       "version_minor": 0
      },
      "text/plain": [
       "Validation: 0it [00:00, ?it/s]"
      ]
     },
     "metadata": {},
     "output_type": "display_data"
    },
    {
     "data": {
      "application/vnd.jupyter.widget-view+json": {
       "model_id": "6cbc5df6265d4b7fa8ec62e7d0a6161b",
       "version_major": 2,
       "version_minor": 0
      },
      "text/plain": [
       "Validation: 0it [00:00, ?it/s]"
      ]
     },
     "metadata": {},
     "output_type": "display_data"
    },
    {
     "data": {
      "application/vnd.jupyter.widget-view+json": {
       "model_id": "8307cf340e884cc4a8055b498eb306de",
       "version_major": 2,
       "version_minor": 0
      },
      "text/plain": [
       "Validation: 0it [00:00, ?it/s]"
      ]
     },
     "metadata": {},
     "output_type": "display_data"
    },
    {
     "data": {
      "application/vnd.jupyter.widget-view+json": {
       "model_id": "a79da986dd684e458c28cb3951d99d86",
       "version_major": 2,
       "version_minor": 0
      },
      "text/plain": [
       "Validation: 0it [00:00, ?it/s]"
      ]
     },
     "metadata": {},
     "output_type": "display_data"
    },
    {
     "data": {
      "application/vnd.jupyter.widget-view+json": {
       "model_id": "bfe72bff23b4426385e84a32a15ef3b5",
       "version_major": 2,
       "version_minor": 0
      },
      "text/plain": [
       "Validation: 0it [00:00, ?it/s]"
      ]
     },
     "metadata": {},
     "output_type": "display_data"
    },
    {
     "data": {
      "application/vnd.jupyter.widget-view+json": {
       "model_id": "620346beb432480ca67b7cccf148590c",
       "version_major": 2,
       "version_minor": 0
      },
      "text/plain": [
       "Validation: 0it [00:00, ?it/s]"
      ]
     },
     "metadata": {},
     "output_type": "display_data"
    },
    {
     "data": {
      "application/vnd.jupyter.widget-view+json": {
       "model_id": "4cbc075e8dc24631be194a6b8dda89a8",
       "version_major": 2,
       "version_minor": 0
      },
      "text/plain": [
       "Validation: 0it [00:00, ?it/s]"
      ]
     },
     "metadata": {},
     "output_type": "display_data"
    },
    {
     "data": {
      "application/vnd.jupyter.widget-view+json": {
       "model_id": "3693268911ea4cbcbfc2a27313fcce31",
       "version_major": 2,
       "version_minor": 0
      },
      "text/plain": [
       "Validation: 0it [00:00, ?it/s]"
      ]
     },
     "metadata": {},
     "output_type": "display_data"
    },
    {
     "data": {
      "application/vnd.jupyter.widget-view+json": {
       "model_id": "8a9f2ef2b481453488a418f630b40f4f",
       "version_major": 2,
       "version_minor": 0
      },
      "text/plain": [
       "Validation: 0it [00:00, ?it/s]"
      ]
     },
     "metadata": {},
     "output_type": "display_data"
    },
    {
     "name": "stdout",
     "output_type": "stream",
     "text": [
      "Epoch 00034: reducing learning rate of group 0 to 2.5000e-03.\n"
     ]
    },
    {
     "data": {
      "application/vnd.jupyter.widget-view+json": {
       "model_id": "99115375a44e44398ec7dcb355bee263",
       "version_major": 2,
       "version_minor": 0
      },
      "text/plain": [
       "Validation: 0it [00:00, ?it/s]"
      ]
     },
     "metadata": {},
     "output_type": "display_data"
    },
    {
     "data": {
      "application/vnd.jupyter.widget-view+json": {
       "model_id": "6517823fd2b8491f960a09e7e4ad3605",
       "version_major": 2,
       "version_minor": 0
      },
      "text/plain": [
       "Validation: 0it [00:00, ?it/s]"
      ]
     },
     "metadata": {},
     "output_type": "display_data"
    },
    {
     "data": {
      "application/vnd.jupyter.widget-view+json": {
       "model_id": "7239f25208764debba8b45e127e87c21",
       "version_major": 2,
       "version_minor": 0
      },
      "text/plain": [
       "Validation: 0it [00:00, ?it/s]"
      ]
     },
     "metadata": {},
     "output_type": "display_data"
    },
    {
     "data": {
      "application/vnd.jupyter.widget-view+json": {
       "model_id": "e56ea761faf64ae699bafb110b14fce0",
       "version_major": 2,
       "version_minor": 0
      },
      "text/plain": [
       "Validation: 0it [00:00, ?it/s]"
      ]
     },
     "metadata": {},
     "output_type": "display_data"
    },
    {
     "data": {
      "application/vnd.jupyter.widget-view+json": {
       "model_id": "80b78b267b884fa99c546ec9740abc6a",
       "version_major": 2,
       "version_minor": 0
      },
      "text/plain": [
       "Validation: 0it [00:00, ?it/s]"
      ]
     },
     "metadata": {},
     "output_type": "display_data"
    },
    {
     "data": {
      "application/vnd.jupyter.widget-view+json": {
       "model_id": "c8a397059c8e44cd848152fb6f318a0d",
       "version_major": 2,
       "version_minor": 0
      },
      "text/plain": [
       "Validation: 0it [00:00, ?it/s]"
      ]
     },
     "metadata": {},
     "output_type": "display_data"
    },
    {
     "data": {
      "application/vnd.jupyter.widget-view+json": {
       "model_id": "46c9c0e68b4840e990a19c8ed418cf70",
       "version_major": 2,
       "version_minor": 0
      },
      "text/plain": [
       "Validation: 0it [00:00, ?it/s]"
      ]
     },
     "metadata": {},
     "output_type": "display_data"
    },
    {
     "data": {
      "application/vnd.jupyter.widget-view+json": {
       "model_id": "91acd4ad89774605b25eb0ceb43e9786",
       "version_major": 2,
       "version_minor": 0
      },
      "text/plain": [
       "Validation: 0it [00:00, ?it/s]"
      ]
     },
     "metadata": {},
     "output_type": "display_data"
    },
    {
     "data": {
      "application/vnd.jupyter.widget-view+json": {
       "model_id": "1389704db16a4267a42b69622423c402",
       "version_major": 2,
       "version_minor": 0
      },
      "text/plain": [
       "Validation: 0it [00:00, ?it/s]"
      ]
     },
     "metadata": {},
     "output_type": "display_data"
    },
    {
     "data": {
      "application/vnd.jupyter.widget-view+json": {
       "model_id": "ffb06a0092b643c58cb2fc8b57bd62ae",
       "version_major": 2,
       "version_minor": 0
      },
      "text/plain": [
       "Validation: 0it [00:00, ?it/s]"
      ]
     },
     "metadata": {},
     "output_type": "display_data"
    },
    {
     "data": {
      "application/vnd.jupyter.widget-view+json": {
       "model_id": "8ea009fca1e74990ab3feb18b2b32f2c",
       "version_major": 2,
       "version_minor": 0
      },
      "text/plain": [
       "Validation: 0it [00:00, ?it/s]"
      ]
     },
     "metadata": {},
     "output_type": "display_data"
    },
    {
     "name": "stdout",
     "output_type": "stream",
     "text": [
      "Epoch 00045: reducing learning rate of group 0 to 1.2500e-03.\n"
     ]
    },
    {
     "data": {
      "application/vnd.jupyter.widget-view+json": {
       "model_id": "08d5df01ffc34405bccc46d0df70e4fb",
       "version_major": 2,
       "version_minor": 0
      },
      "text/plain": [
       "Validation: 0it [00:00, ?it/s]"
      ]
     },
     "metadata": {},
     "output_type": "display_data"
    },
    {
     "data": {
      "application/vnd.jupyter.widget-view+json": {
       "model_id": "90cd2877b4424920b8d7b5b7aa722067",
       "version_major": 2,
       "version_minor": 0
      },
      "text/plain": [
       "Validation: 0it [00:00, ?it/s]"
      ]
     },
     "metadata": {},
     "output_type": "display_data"
    },
    {
     "data": {
      "application/vnd.jupyter.widget-view+json": {
       "model_id": "665373b0a0f8479eb7d64e50b4db434c",
       "version_major": 2,
       "version_minor": 0
      },
      "text/plain": [
       "Validation: 0it [00:00, ?it/s]"
      ]
     },
     "metadata": {},
     "output_type": "display_data"
    },
    {
     "data": {
      "application/vnd.jupyter.widget-view+json": {
       "model_id": "f12aa431a8114d36848b70408abb6397",
       "version_major": 2,
       "version_minor": 0
      },
      "text/plain": [
       "Validation: 0it [00:00, ?it/s]"
      ]
     },
     "metadata": {},
     "output_type": "display_data"
    },
    {
     "data": {
      "application/vnd.jupyter.widget-view+json": {
       "model_id": "dd9f013cb0804e8498a30c06c29a3504",
       "version_major": 2,
       "version_minor": 0
      },
      "text/plain": [
       "Validation: 0it [00:00, ?it/s]"
      ]
     },
     "metadata": {},
     "output_type": "display_data"
    },
    {
     "data": {
      "application/vnd.jupyter.widget-view+json": {
       "model_id": "3fc567ade043407ca9be8b63070e231e",
       "version_major": 2,
       "version_minor": 0
      },
      "text/plain": [
       "Validation: 0it [00:00, ?it/s]"
      ]
     },
     "metadata": {},
     "output_type": "display_data"
    },
    {
     "data": {
      "application/vnd.jupyter.widget-view+json": {
       "model_id": "d8d6746622994f2c913a033261ea4dd6",
       "version_major": 2,
       "version_minor": 0
      },
      "text/plain": [
       "Validation: 0it [00:00, ?it/s]"
      ]
     },
     "metadata": {},
     "output_type": "display_data"
    },
    {
     "data": {
      "application/vnd.jupyter.widget-view+json": {
       "model_id": "24837217dd0d4c928400df6b8c40ae21",
       "version_major": 2,
       "version_minor": 0
      },
      "text/plain": [
       "Validation: 0it [00:00, ?it/s]"
      ]
     },
     "metadata": {},
     "output_type": "display_data"
    },
    {
     "data": {
      "application/vnd.jupyter.widget-view+json": {
       "model_id": "6410d8eb34254b5a9d2d9fd98d1c9f64",
       "version_major": 2,
       "version_minor": 0
      },
      "text/plain": [
       "Validation: 0it [00:00, ?it/s]"
      ]
     },
     "metadata": {},
     "output_type": "display_data"
    },
    {
     "data": {
      "application/vnd.jupyter.widget-view+json": {
       "model_id": "2360fb204e3c4b9bb4ceb20ec8ea4834",
       "version_major": 2,
       "version_minor": 0
      },
      "text/plain": [
       "Validation: 0it [00:00, ?it/s]"
      ]
     },
     "metadata": {},
     "output_type": "display_data"
    },
    {
     "data": {
      "application/vnd.jupyter.widget-view+json": {
       "model_id": "6d10d549756b4315a223d069567250e9",
       "version_major": 2,
       "version_minor": 0
      },
      "text/plain": [
       "Validation: 0it [00:00, ?it/s]"
      ]
     },
     "metadata": {},
     "output_type": "display_data"
    },
    {
     "name": "stdout",
     "output_type": "stream",
     "text": [
      "Epoch 00056: reducing learning rate of group 0 to 6.2500e-04.\n"
     ]
    },
    {
     "data": {
      "application/vnd.jupyter.widget-view+json": {
       "model_id": "eb4aabcf831b4922ab7cdbb99bf09489",
       "version_major": 2,
       "version_minor": 0
      },
      "text/plain": [
       "Validation: 0it [00:00, ?it/s]"
      ]
     },
     "metadata": {},
     "output_type": "display_data"
    },
    {
     "data": {
      "application/vnd.jupyter.widget-view+json": {
       "model_id": "9c42f55d5d75413db32037c3ad38e526",
       "version_major": 2,
       "version_minor": 0
      },
      "text/plain": [
       "Validation: 0it [00:00, ?it/s]"
      ]
     },
     "metadata": {},
     "output_type": "display_data"
    },
    {
     "data": {
      "application/vnd.jupyter.widget-view+json": {
       "model_id": "b484effdb78f41b48ad3850283ce8787",
       "version_major": 2,
       "version_minor": 0
      },
      "text/plain": [
       "Validation: 0it [00:00, ?it/s]"
      ]
     },
     "metadata": {},
     "output_type": "display_data"
    },
    {
     "data": {
      "application/vnd.jupyter.widget-view+json": {
       "model_id": "781009b463ee47a395d02c65cb452f33",
       "version_major": 2,
       "version_minor": 0
      },
      "text/plain": [
       "Validation: 0it [00:00, ?it/s]"
      ]
     },
     "metadata": {},
     "output_type": "display_data"
    },
    {
     "data": {
      "application/vnd.jupyter.widget-view+json": {
       "model_id": "af637c643825413d893102d721c1549c",
       "version_major": 2,
       "version_minor": 0
      },
      "text/plain": [
       "Validation: 0it [00:00, ?it/s]"
      ]
     },
     "metadata": {},
     "output_type": "display_data"
    },
    {
     "data": {
      "application/vnd.jupyter.widget-view+json": {
       "model_id": "35bfd510cc6d4610b1793db6160a86ec",
       "version_major": 2,
       "version_minor": 0
      },
      "text/plain": [
       "Validation: 0it [00:00, ?it/s]"
      ]
     },
     "metadata": {},
     "output_type": "display_data"
    },
    {
     "data": {
      "application/vnd.jupyter.widget-view+json": {
       "model_id": "5026cc2c911542b4b5e511512b99f2f0",
       "version_major": 2,
       "version_minor": 0
      },
      "text/plain": [
       "Validation: 0it [00:00, ?it/s]"
      ]
     },
     "metadata": {},
     "output_type": "display_data"
    },
    {
     "data": {
      "application/vnd.jupyter.widget-view+json": {
       "model_id": "be5a6c4abf3c4453aea6c5c3d56d2121",
       "version_major": 2,
       "version_minor": 0
      },
      "text/plain": [
       "Validation: 0it [00:00, ?it/s]"
      ]
     },
     "metadata": {},
     "output_type": "display_data"
    },
    {
     "data": {
      "application/vnd.jupyter.widget-view+json": {
       "model_id": "d5db8e71f1a9489c9ebf90b1d1aff986",
       "version_major": 2,
       "version_minor": 0
      },
      "text/plain": [
       "Validation: 0it [00:00, ?it/s]"
      ]
     },
     "metadata": {},
     "output_type": "display_data"
    },
    {
     "data": {
      "application/vnd.jupyter.widget-view+json": {
       "model_id": "5bb5737bd3d44841884aeaffeb6c8cb5",
       "version_major": 2,
       "version_minor": 0
      },
      "text/plain": [
       "Validation: 0it [00:00, ?it/s]"
      ]
     },
     "metadata": {},
     "output_type": "display_data"
    },
    {
     "data": {
      "application/vnd.jupyter.widget-view+json": {
       "model_id": "d678cd4a51fb4732900373f5e0db0774",
       "version_major": 2,
       "version_minor": 0
      },
      "text/plain": [
       "Validation: 0it [00:00, ?it/s]"
      ]
     },
     "metadata": {},
     "output_type": "display_data"
    },
    {
     "name": "stdout",
     "output_type": "stream",
     "text": [
      "Epoch 00067: reducing learning rate of group 0 to 3.1250e-04.\n"
     ]
    },
    {
     "data": {
      "application/vnd.jupyter.widget-view+json": {
       "model_id": "60bbd01e85834bf8ad0cdf95bf53374a",
       "version_major": 2,
       "version_minor": 0
      },
      "text/plain": [
       "Validation: 0it [00:00, ?it/s]"
      ]
     },
     "metadata": {},
     "output_type": "display_data"
    },
    {
     "data": {
      "application/vnd.jupyter.widget-view+json": {
       "model_id": "dbd0afa137764a22bd9f27db34d3ced5",
       "version_major": 2,
       "version_minor": 0
      },
      "text/plain": [
       "Validation: 0it [00:00, ?it/s]"
      ]
     },
     "metadata": {},
     "output_type": "display_data"
    },
    {
     "data": {
      "application/vnd.jupyter.widget-view+json": {
       "model_id": "1f31ae71a60e48b88ce071553b4437b6",
       "version_major": 2,
       "version_minor": 0
      },
      "text/plain": [
       "Validation: 0it [00:00, ?it/s]"
      ]
     },
     "metadata": {},
     "output_type": "display_data"
    },
    {
     "data": {
      "application/vnd.jupyter.widget-view+json": {
       "model_id": "f0c2ee2655d844a69cee68234955322c",
       "version_major": 2,
       "version_minor": 0
      },
      "text/plain": [
       "Validation: 0it [00:00, ?it/s]"
      ]
     },
     "metadata": {},
     "output_type": "display_data"
    },
    {
     "data": {
      "application/vnd.jupyter.widget-view+json": {
       "model_id": "6e871a6005c4498a8e8d13d220e3d2bd",
       "version_major": 2,
       "version_minor": 0
      },
      "text/plain": [
       "Validation: 0it [00:00, ?it/s]"
      ]
     },
     "metadata": {},
     "output_type": "display_data"
    },
    {
     "data": {
      "application/vnd.jupyter.widget-view+json": {
       "model_id": "1315b248421546ceb76d304634e0c57d",
       "version_major": 2,
       "version_minor": 0
      },
      "text/plain": [
       "Validation: 0it [00:00, ?it/s]"
      ]
     },
     "metadata": {},
     "output_type": "display_data"
    },
    {
     "data": {
      "application/vnd.jupyter.widget-view+json": {
       "model_id": "f11b2e92c93f46f4b24ba3088c0408bb",
       "version_major": 2,
       "version_minor": 0
      },
      "text/plain": [
       "Validation: 0it [00:00, ?it/s]"
      ]
     },
     "metadata": {},
     "output_type": "display_data"
    },
    {
     "data": {
      "application/vnd.jupyter.widget-view+json": {
       "model_id": "0ab2acade66c42ed8e2958a25fe5e93c",
       "version_major": 2,
       "version_minor": 0
      },
      "text/plain": [
       "Validation: 0it [00:00, ?it/s]"
      ]
     },
     "metadata": {},
     "output_type": "display_data"
    },
    {
     "data": {
      "application/vnd.jupyter.widget-view+json": {
       "model_id": "000875df9c5148deaa54e08c432c060f",
       "version_major": 2,
       "version_minor": 0
      },
      "text/plain": [
       "Validation: 0it [00:00, ?it/s]"
      ]
     },
     "metadata": {},
     "output_type": "display_data"
    },
    {
     "data": {
      "application/vnd.jupyter.widget-view+json": {
       "model_id": "18ddd279962b48d6a92f6a2d197628f2",
       "version_major": 2,
       "version_minor": 0
      },
      "text/plain": [
       "Validation: 0it [00:00, ?it/s]"
      ]
     },
     "metadata": {},
     "output_type": "display_data"
    },
    {
     "data": {
      "application/vnd.jupyter.widget-view+json": {
       "model_id": "930b4f30e19248d082282f169b094170",
       "version_major": 2,
       "version_minor": 0
      },
      "text/plain": [
       "Validation: 0it [00:00, ?it/s]"
      ]
     },
     "metadata": {},
     "output_type": "display_data"
    },
    {
     "name": "stdout",
     "output_type": "stream",
     "text": [
      "Epoch 00078: reducing learning rate of group 0 to 1.5625e-04.\n"
     ]
    },
    {
     "data": {
      "application/vnd.jupyter.widget-view+json": {
       "model_id": "159d51a8abd94b00a452bf6028cad46c",
       "version_major": 2,
       "version_minor": 0
      },
      "text/plain": [
       "Validation: 0it [00:00, ?it/s]"
      ]
     },
     "metadata": {},
     "output_type": "display_data"
    },
    {
     "data": {
      "application/vnd.jupyter.widget-view+json": {
       "model_id": "db6673c4b6134415ac0d26094a7aa4ca",
       "version_major": 2,
       "version_minor": 0
      },
      "text/plain": [
       "Validation: 0it [00:00, ?it/s]"
      ]
     },
     "metadata": {},
     "output_type": "display_data"
    },
    {
     "data": {
      "application/vnd.jupyter.widget-view+json": {
       "model_id": "4bb92162da524cf9ae9a2556e95ebf5d",
       "version_major": 2,
       "version_minor": 0
      },
      "text/plain": [
       "Validation: 0it [00:00, ?it/s]"
      ]
     },
     "metadata": {},
     "output_type": "display_data"
    },
    {
     "data": {
      "application/vnd.jupyter.widget-view+json": {
       "model_id": "4e54ecdf7b064d73bf6710b94a1686c1",
       "version_major": 2,
       "version_minor": 0
      },
      "text/plain": [
       "Validation: 0it [00:00, ?it/s]"
      ]
     },
     "metadata": {},
     "output_type": "display_data"
    },
    {
     "data": {
      "application/vnd.jupyter.widget-view+json": {
       "model_id": "b80a74a23aed410293b3a086976f96c0",
       "version_major": 2,
       "version_minor": 0
      },
      "text/plain": [
       "Validation: 0it [00:00, ?it/s]"
      ]
     },
     "metadata": {},
     "output_type": "display_data"
    },
    {
     "data": {
      "application/vnd.jupyter.widget-view+json": {
       "model_id": "7e9fc032dc5c4faf81d0c7650260deeb",
       "version_major": 2,
       "version_minor": 0
      },
      "text/plain": [
       "Validation: 0it [00:00, ?it/s]"
      ]
     },
     "metadata": {},
     "output_type": "display_data"
    },
    {
     "data": {
      "application/vnd.jupyter.widget-view+json": {
       "model_id": "bc8f5e37dd8a4ea486f7e92c8b213f23",
       "version_major": 2,
       "version_minor": 0
      },
      "text/plain": [
       "Validation: 0it [00:00, ?it/s]"
      ]
     },
     "metadata": {},
     "output_type": "display_data"
    },
    {
     "data": {
      "application/vnd.jupyter.widget-view+json": {
       "model_id": "acad935c5f184882ad93453b6ed2c7c2",
       "version_major": 2,
       "version_minor": 0
      },
      "text/plain": [
       "Validation: 0it [00:00, ?it/s]"
      ]
     },
     "metadata": {},
     "output_type": "display_data"
    },
    {
     "data": {
      "application/vnd.jupyter.widget-view+json": {
       "model_id": "eaf1d9276fb64f82ac7bf93a7f0eb5e3",
       "version_major": 2,
       "version_minor": 0
      },
      "text/plain": [
       "Validation: 0it [00:00, ?it/s]"
      ]
     },
     "metadata": {},
     "output_type": "display_data"
    },
    {
     "data": {
      "application/vnd.jupyter.widget-view+json": {
       "model_id": "a3e78fe885c74c849a7da09da123da83",
       "version_major": 2,
       "version_minor": 0
      },
      "text/plain": [
       "Validation: 0it [00:00, ?it/s]"
      ]
     },
     "metadata": {},
     "output_type": "display_data"
    },
    {
     "data": {
      "application/vnd.jupyter.widget-view+json": {
       "model_id": "4506b82905144b35ab6e6459ac6dd995",
       "version_major": 2,
       "version_minor": 0
      },
      "text/plain": [
       "Validation: 0it [00:00, ?it/s]"
      ]
     },
     "metadata": {},
     "output_type": "display_data"
    },
    {
     "name": "stdout",
     "output_type": "stream",
     "text": [
      "Epoch 00089: reducing learning rate of group 0 to 7.8125e-05.\n"
     ]
    },
    {
     "data": {
      "application/vnd.jupyter.widget-view+json": {
       "model_id": "3c347e536de641659f47d92b4fa3c907",
       "version_major": 2,
       "version_minor": 0
      },
      "text/plain": [
       "Validation: 0it [00:00, ?it/s]"
      ]
     },
     "metadata": {},
     "output_type": "display_data"
    },
    {
     "data": {
      "application/vnd.jupyter.widget-view+json": {
       "model_id": "586161607aa74991b2a617c65d6a2a34",
       "version_major": 2,
       "version_minor": 0
      },
      "text/plain": [
       "Validation: 0it [00:00, ?it/s]"
      ]
     },
     "metadata": {},
     "output_type": "display_data"
    },
    {
     "data": {
      "application/vnd.jupyter.widget-view+json": {
       "model_id": "ca7a0a7007794401a63acc1bc57c7148",
       "version_major": 2,
       "version_minor": 0
      },
      "text/plain": [
       "Validation: 0it [00:00, ?it/s]"
      ]
     },
     "metadata": {},
     "output_type": "display_data"
    },
    {
     "data": {
      "application/vnd.jupyter.widget-view+json": {
       "model_id": "be1edc1f327744ac8225b63a053e2eaa",
       "version_major": 2,
       "version_minor": 0
      },
      "text/plain": [
       "Validation: 0it [00:00, ?it/s]"
      ]
     },
     "metadata": {},
     "output_type": "display_data"
    },
    {
     "data": {
      "application/vnd.jupyter.widget-view+json": {
       "model_id": "508e4f6101eb4c39a2174ceda7270463",
       "version_major": 2,
       "version_minor": 0
      },
      "text/plain": [
       "Validation: 0it [00:00, ?it/s]"
      ]
     },
     "metadata": {},
     "output_type": "display_data"
    },
    {
     "data": {
      "application/vnd.jupyter.widget-view+json": {
       "model_id": "8a0fb200fd79430f892cab05504111d5",
       "version_major": 2,
       "version_minor": 0
      },
      "text/plain": [
       "Validation: 0it [00:00, ?it/s]"
      ]
     },
     "metadata": {},
     "output_type": "display_data"
    },
    {
     "data": {
      "application/vnd.jupyter.widget-view+json": {
       "model_id": "3e27136bbb7042e9b9bd46b02620dc4c",
       "version_major": 2,
       "version_minor": 0
      },
      "text/plain": [
       "Validation: 0it [00:00, ?it/s]"
      ]
     },
     "metadata": {},
     "output_type": "display_data"
    },
    {
     "data": {
      "application/vnd.jupyter.widget-view+json": {
       "model_id": "f0b60c9e3ce143778fd11f6cc9dc9ed9",
       "version_major": 2,
       "version_minor": 0
      },
      "text/plain": [
       "Validation: 0it [00:00, ?it/s]"
      ]
     },
     "metadata": {},
     "output_type": "display_data"
    },
    {
     "data": {
      "application/vnd.jupyter.widget-view+json": {
       "model_id": "43fa3dbc5765468caf1d8f32f3254008",
       "version_major": 2,
       "version_minor": 0
      },
      "text/plain": [
       "Validation: 0it [00:00, ?it/s]"
      ]
     },
     "metadata": {},
     "output_type": "display_data"
    },
    {
     "data": {
      "application/vnd.jupyter.widget-view+json": {
       "model_id": "63f904989d524b949f490ed2ea6e797d",
       "version_major": 2,
       "version_minor": 0
      },
      "text/plain": [
       "Validation: 0it [00:00, ?it/s]"
      ]
     },
     "metadata": {},
     "output_type": "display_data"
    },
    {
     "data": {
      "application/vnd.jupyter.widget-view+json": {
       "model_id": "873244e40b604b2d83c47635157dcf5d",
       "version_major": 2,
       "version_minor": 0
      },
      "text/plain": [
       "Validation: 0it [00:00, ?it/s]"
      ]
     },
     "metadata": {},
     "output_type": "display_data"
    },
    {
     "name": "stderr",
     "output_type": "stream",
     "text": [
      "`Trainer.fit` stopped: `max_epochs=100` reached.\n"
     ]
    },
    {
     "name": "stdout",
     "output_type": "stream",
     "text": [
      "Epoch 00100: reducing learning rate of group 0 to 3.9063e-05.\n"
     ]
    }
   ],
   "source": [
    "import pytorch_lightning as pl\n",
    "\n",
    "torch.set_float32_matmul_precision(\"high\")\n",
    "\n",
    "trainer_transfer = pl.Trainer(\n",
    "    max_epochs=100,\n",
    "    accelerator=\"gpu\",\n",
    "    devices=1,\n",
    "    enable_progress_bar=True,\n",
    "    gradient_clip_val=30.0,\n",
    "    default_root_dir=\"./test/\",\n",
    "    precision=\"bf16\",\n",
    "    log_every_n_steps=10,\n",
    ")\n",
    "\n",
    "trainer_transfer.fit(model, train_dataloader, val_dataloader)"
   ]
  },
  {
   "cell_type": "code",
   "execution_count": 22,
   "metadata": {},
   "outputs": [
    {
     "data": {
      "text/plain": [
       "GCNNodePred(\n",
       "  (embedding): UnifySize(\n",
       "    (linears): ModuleDict(\n",
       "      (atom): Linear(in_features=13, out_features=64, bias=False)\n",
       "      (bond): Linear(in_features=8, out_features=64, bias=False)\n",
       "      (global): Linear(in_features=3, out_features=64, bias=False)\n",
       "    )\n",
       "  )\n",
       "  (conv_layers): ModuleList(\n",
       "    (0): ResidualBlock(\n",
       "      (layers): ModuleList(\n",
       "        (0-2): 3 x HeteroGraphConv(\n",
       "          (mods): ModuleDict(\n",
       "            (a2b): GraphConvDropoutBatch(\n",
       "              (graph_conv): GraphConv(\n",
       "                in=64, out=64, normalization=both\n",
       "                (_activation): ReLU()\n",
       "              )\n",
       "              (dropout): Dropout(p=0.2, inplace=False)\n",
       "              (batch_norm): BatchNorm1d(64, eps=1e-05, momentum=0.1, affine=True, track_running_stats=True)\n",
       "            )\n",
       "            (b2a): GraphConvDropoutBatch(\n",
       "              (graph_conv): GraphConv(\n",
       "                in=64, out=64, normalization=both\n",
       "                (_activation): ReLU()\n",
       "              )\n",
       "              (dropout): Dropout(p=0.2, inplace=False)\n",
       "              (batch_norm): BatchNorm1d(64, eps=1e-05, momentum=0.1, affine=True, track_running_stats=True)\n",
       "            )\n",
       "            (a2g): GraphConvDropoutBatch(\n",
       "              (graph_conv): GraphConv(\n",
       "                in=64, out=64, normalization=both\n",
       "                (_activation): ReLU()\n",
       "              )\n",
       "              (dropout): Dropout(p=0.2, inplace=False)\n",
       "              (batch_norm): BatchNorm1d(64, eps=1e-05, momentum=0.1, affine=True, track_running_stats=True)\n",
       "            )\n",
       "            (g2a): GraphConvDropoutBatch(\n",
       "              (graph_conv): GraphConv(\n",
       "                in=64, out=64, normalization=both\n",
       "                (_activation): ReLU()\n",
       "              )\n",
       "              (dropout): Dropout(p=0.2, inplace=False)\n",
       "              (batch_norm): BatchNorm1d(64, eps=1e-05, momentum=0.1, affine=True, track_running_stats=True)\n",
       "            )\n",
       "            (b2g): GraphConvDropoutBatch(\n",
       "              (graph_conv): GraphConv(\n",
       "                in=64, out=64, normalization=both\n",
       "                (_activation): ReLU()\n",
       "              )\n",
       "              (dropout): Dropout(p=0.2, inplace=False)\n",
       "              (batch_norm): BatchNorm1d(64, eps=1e-05, momentum=0.1, affine=True, track_running_stats=True)\n",
       "            )\n",
       "            (g2b): GraphConvDropoutBatch(\n",
       "              (graph_conv): GraphConv(\n",
       "                in=64, out=64, normalization=both\n",
       "                (_activation): ReLU()\n",
       "              )\n",
       "              (dropout): Dropout(p=0.2, inplace=False)\n",
       "              (batch_norm): BatchNorm1d(64, eps=1e-05, momentum=0.1, affine=True, track_running_stats=True)\n",
       "            )\n",
       "            (a2a): GraphConvDropoutBatch(\n",
       "              (graph_conv): GraphConv(\n",
       "                in=64, out=64, normalization=both\n",
       "                (_activation): ReLU()\n",
       "              )\n",
       "              (dropout): Dropout(p=0.2, inplace=False)\n",
       "              (batch_norm): BatchNorm1d(64, eps=1e-05, momentum=0.1, affine=True, track_running_stats=True)\n",
       "            )\n",
       "            (b2b): GraphConvDropoutBatch(\n",
       "              (graph_conv): GraphConv(\n",
       "                in=64, out=64, normalization=both\n",
       "                (_activation): ReLU()\n",
       "              )\n",
       "              (dropout): Dropout(p=0.2, inplace=False)\n",
       "              (batch_norm): BatchNorm1d(64, eps=1e-05, momentum=0.1, affine=True, track_running_stats=True)\n",
       "            )\n",
       "            (g2g): GraphConvDropoutBatch(\n",
       "              (graph_conv): GraphConv(\n",
       "                in=64, out=64, normalization=both\n",
       "                (_activation): ReLU()\n",
       "              )\n",
       "              (dropout): Dropout(p=0.2, inplace=False)\n",
       "              (batch_norm): BatchNorm1d(64, eps=1e-05, momentum=0.1, affine=True, track_running_stats=True)\n",
       "            )\n",
       "          )\n",
       "        )\n",
       "      )\n",
       "    )\n",
       "    (1): ResidualBlock(\n",
       "      (layers): ModuleList(\n",
       "        (0-1): 2 x HeteroGraphConv(\n",
       "          (mods): ModuleDict(\n",
       "            (a2b): GraphConvDropoutBatch(\n",
       "              (graph_conv): GraphConv(\n",
       "                in=64, out=64, normalization=both\n",
       "                (_activation): ReLU()\n",
       "              )\n",
       "              (dropout): Dropout(p=0.2, inplace=False)\n",
       "              (batch_norm): BatchNorm1d(64, eps=1e-05, momentum=0.1, affine=True, track_running_stats=True)\n",
       "            )\n",
       "            (b2a): GraphConvDropoutBatch(\n",
       "              (graph_conv): GraphConv(\n",
       "                in=64, out=64, normalization=both\n",
       "                (_activation): ReLU()\n",
       "              )\n",
       "              (dropout): Dropout(p=0.2, inplace=False)\n",
       "              (batch_norm): BatchNorm1d(64, eps=1e-05, momentum=0.1, affine=True, track_running_stats=True)\n",
       "            )\n",
       "            (a2g): GraphConvDropoutBatch(\n",
       "              (graph_conv): GraphConv(\n",
       "                in=64, out=64, normalization=both\n",
       "                (_activation): ReLU()\n",
       "              )\n",
       "              (dropout): Dropout(p=0.2, inplace=False)\n",
       "              (batch_norm): BatchNorm1d(64, eps=1e-05, momentum=0.1, affine=True, track_running_stats=True)\n",
       "            )\n",
       "            (g2a): GraphConvDropoutBatch(\n",
       "              (graph_conv): GraphConv(\n",
       "                in=64, out=64, normalization=both\n",
       "                (_activation): ReLU()\n",
       "              )\n",
       "              (dropout): Dropout(p=0.2, inplace=False)\n",
       "              (batch_norm): BatchNorm1d(64, eps=1e-05, momentum=0.1, affine=True, track_running_stats=True)\n",
       "            )\n",
       "            (b2g): GraphConvDropoutBatch(\n",
       "              (graph_conv): GraphConv(\n",
       "                in=64, out=64, normalization=both\n",
       "                (_activation): ReLU()\n",
       "              )\n",
       "              (dropout): Dropout(p=0.2, inplace=False)\n",
       "              (batch_norm): BatchNorm1d(64, eps=1e-05, momentum=0.1, affine=True, track_running_stats=True)\n",
       "            )\n",
       "            (g2b): GraphConvDropoutBatch(\n",
       "              (graph_conv): GraphConv(\n",
       "                in=64, out=64, normalization=both\n",
       "                (_activation): ReLU()\n",
       "              )\n",
       "              (dropout): Dropout(p=0.2, inplace=False)\n",
       "              (batch_norm): BatchNorm1d(64, eps=1e-05, momentum=0.1, affine=True, track_running_stats=True)\n",
       "            )\n",
       "            (a2a): GraphConvDropoutBatch(\n",
       "              (graph_conv): GraphConv(\n",
       "                in=64, out=64, normalization=both\n",
       "                (_activation): ReLU()\n",
       "              )\n",
       "              (dropout): Dropout(p=0.2, inplace=False)\n",
       "              (batch_norm): BatchNorm1d(64, eps=1e-05, momentum=0.1, affine=True, track_running_stats=True)\n",
       "            )\n",
       "            (b2b): GraphConvDropoutBatch(\n",
       "              (graph_conv): GraphConv(\n",
       "                in=64, out=64, normalization=both\n",
       "                (_activation): ReLU()\n",
       "              )\n",
       "              (dropout): Dropout(p=0.2, inplace=False)\n",
       "              (batch_norm): BatchNorm1d(64, eps=1e-05, momentum=0.1, affine=True, track_running_stats=True)\n",
       "            )\n",
       "            (g2g): GraphConvDropoutBatch(\n",
       "              (graph_conv): GraphConv(\n",
       "                in=64, out=64, normalization=both\n",
       "                (_activation): ReLU()\n",
       "              )\n",
       "              (dropout): Dropout(p=0.2, inplace=False)\n",
       "              (batch_norm): BatchNorm1d(64, eps=1e-05, momentum=0.1, affine=True, track_running_stats=True)\n",
       "            )\n",
       "          )\n",
       "        )\n",
       "        (2): HeteroGraphConv(\n",
       "          (mods): ModuleDict(\n",
       "            (a2b): GraphConvDropoutBatch(\n",
       "              (graph_conv): GraphConv(\n",
       "                in=64, out=3, normalization=both\n",
       "                (_activation): ReLU()\n",
       "              )\n",
       "              (dropout): Dropout(p=0.2, inplace=False)\n",
       "              (batch_norm): BatchNorm1d(3, eps=1e-05, momentum=0.1, affine=True, track_running_stats=True)\n",
       "            )\n",
       "            (b2a): GraphConvDropoutBatch(\n",
       "              (graph_conv): GraphConv(\n",
       "                in=64, out=1, normalization=both\n",
       "                (_activation): ReLU()\n",
       "              )\n",
       "              (dropout): Dropout(p=0.2, inplace=False)\n",
       "              (batch_norm): BatchNorm1d(1, eps=1e-05, momentum=0.1, affine=True, track_running_stats=True)\n",
       "            )\n",
       "            (a2g): GraphConvDropoutBatch(\n",
       "              (graph_conv): GraphConv(\n",
       "                in=64, out=1, normalization=both\n",
       "                (_activation): ReLU()\n",
       "              )\n",
       "              (dropout): Dropout(p=0.2, inplace=False)\n",
       "              (batch_norm): BatchNorm1d(1, eps=1e-05, momentum=0.1, affine=True, track_running_stats=True)\n",
       "            )\n",
       "            (g2a): GraphConvDropoutBatch(\n",
       "              (graph_conv): GraphConv(\n",
       "                in=64, out=1, normalization=both\n",
       "                (_activation): ReLU()\n",
       "              )\n",
       "              (dropout): Dropout(p=0.2, inplace=False)\n",
       "              (batch_norm): BatchNorm1d(1, eps=1e-05, momentum=0.1, affine=True, track_running_stats=True)\n",
       "            )\n",
       "            (b2g): GraphConvDropoutBatch(\n",
       "              (graph_conv): GraphConv(\n",
       "                in=64, out=1, normalization=both\n",
       "                (_activation): ReLU()\n",
       "              )\n",
       "              (dropout): Dropout(p=0.2, inplace=False)\n",
       "              (batch_norm): BatchNorm1d(1, eps=1e-05, momentum=0.1, affine=True, track_running_stats=True)\n",
       "            )\n",
       "            (g2b): GraphConvDropoutBatch(\n",
       "              (graph_conv): GraphConv(\n",
       "                in=64, out=3, normalization=both\n",
       "                (_activation): ReLU()\n",
       "              )\n",
       "              (dropout): Dropout(p=0.2, inplace=False)\n",
       "              (batch_norm): BatchNorm1d(3, eps=1e-05, momentum=0.1, affine=True, track_running_stats=True)\n",
       "            )\n",
       "            (a2a): GraphConvDropoutBatch(\n",
       "              (graph_conv): GraphConv(\n",
       "                in=64, out=1, normalization=both\n",
       "                (_activation): ReLU()\n",
       "              )\n",
       "              (dropout): Dropout(p=0.2, inplace=False)\n",
       "              (batch_norm): BatchNorm1d(1, eps=1e-05, momentum=0.1, affine=True, track_running_stats=True)\n",
       "            )\n",
       "            (b2b): GraphConvDropoutBatch(\n",
       "              (graph_conv): GraphConv(\n",
       "                in=64, out=3, normalization=both\n",
       "                (_activation): ReLU()\n",
       "              )\n",
       "              (dropout): Dropout(p=0.2, inplace=False)\n",
       "              (batch_norm): BatchNorm1d(3, eps=1e-05, momentum=0.1, affine=True, track_running_stats=True)\n",
       "            )\n",
       "            (g2g): GraphConvDropoutBatch(\n",
       "              (graph_conv): GraphConv(\n",
       "                in=64, out=1, normalization=both\n",
       "                (_activation): ReLU()\n",
       "              )\n",
       "              (dropout): Dropout(p=0.2, inplace=False)\n",
       "              (batch_norm): BatchNorm1d(1, eps=1e-05, momentum=0.1, affine=True, track_running_stats=True)\n",
       "            )\n",
       "          )\n",
       "        )\n",
       "      )\n",
       "    )\n",
       "  )\n",
       "  (loss): MultioutputWrapper(\n",
       "    (metrics): ModuleList(\n",
       "      (0-3): 4 x MeanSquaredError()\n",
       "    )\n",
       "  )\n",
       "  (train_r2): MultioutputWrapper(\n",
       "    (metrics): ModuleList(\n",
       "      (0-3): 4 x R2Score()\n",
       "    )\n",
       "  )\n",
       "  (train_torch_l1): MultioutputWrapper(\n",
       "    (metrics): ModuleList(\n",
       "      (0-3): 4 x MeanAbsoluteError()\n",
       "    )\n",
       "  )\n",
       "  (train_torch_mse): MultioutputWrapper(\n",
       "    (metrics): ModuleList(\n",
       "      (0-3): 4 x MeanSquaredError()\n",
       "    )\n",
       "  )\n",
       "  (val_r2): MultioutputWrapper(\n",
       "    (metrics): ModuleList(\n",
       "      (0-3): 4 x R2Score()\n",
       "    )\n",
       "  )\n",
       "  (val_torch_l1): MultioutputWrapper(\n",
       "    (metrics): ModuleList(\n",
       "      (0-3): 4 x MeanAbsoluteError()\n",
       "    )\n",
       "  )\n",
       "  (val_torch_mse): MultioutputWrapper(\n",
       "    (metrics): ModuleList(\n",
       "      (0-3): 4 x MeanSquaredError()\n",
       "    )\n",
       "  )\n",
       "  (test_r2): MultioutputWrapper(\n",
       "    (metrics): ModuleList(\n",
       "      (0-3): 4 x R2Score()\n",
       "    )\n",
       "  )\n",
       "  (test_torch_l1): MultioutputWrapper(\n",
       "    (metrics): ModuleList(\n",
       "      (0-3): 4 x MeanAbsoluteError()\n",
       "    )\n",
       "  )\n",
       "  (test_torch_mse): MultioutputWrapper(\n",
       "    (metrics): ModuleList(\n",
       "      (0-3): 4 x MeanSquaredError()\n",
       "    )\n",
       "  )\n",
       ")"
      ]
     },
     "execution_count": 22,
     "metadata": {},
     "output_type": "execute_result"
    }
   ],
   "source": [
    "val_dataloader = DataLoaderMoleculeNodeTask(\n",
    "    val_dataset, batch_size=100, shuffle=True, num_workers=4\n",
    ")\n",
    "\n",
    "\n",
    "#batch_graph, batch_label = next(iter(train_dataloader))\n",
    "#feats = model.forward(batch_graph, batch_graph.ndata[\"feat\"])\n",
    "\n",
    "batch_graph, batch_label = next(iter(val_dataloader))\n",
    "scaler_list = dataset.label_scalers\n",
    "model.cpu()\n",
    "#model.evaluate_manually(batch_graph, batch_label, scaler_list)"
   ]
  },
  {
   "cell_type": "code",
   "execution_count": 23,
   "metadata": {},
   "outputs": [],
   "source": [
    "from copy import deepcopy\n",
    "import torchmetrics\n",
    "from torchmetrics.wrappers import MultioutputWrapper\n",
    "\n",
    "\n",
    "def evaluate_manually(model, batch_graph, batched_label, scaler_list):\n",
    "    \"\"\"\n",
    "    Evaluate a set of data manually\n",
    "    Takes\n",
    "        feats: dict, dictionary of batched features\n",
    "        scaler_list: list, list of scalers\n",
    "    \"\"\"\n",
    "    \n",
    "\n",
    "    #batch_graph, batch_label = batch\n",
    "    preds = model.forward(batch_graph, batch_graph.ndata[\"feat\"])\n",
    "    for k, v in preds.items():\n",
    "        preds[k] = v.cpu().detach()\n",
    "        \n",
    "    preds_unscaled = deepcopy(preds)\n",
    "    labels_unscaled = deepcopy(batched_label)\n",
    "    \n",
    "    for scaler in scaler_list:\n",
    "        labels_unscaled = scaler.inverse_feats(labels_unscaled)\n",
    "        preds_unscaled = scaler.inverse_feats(preds_unscaled)\n",
    "\n",
    "    r2_eval = MultioutputWrapper(\n",
    "        torchmetrics.R2Score(), num_outputs=model.hparams.output_dims\n",
    "    )\n",
    "    mae_eval = MultioutputWrapper(\n",
    "        torchmetrics.MeanAbsoluteError(), num_outputs=model.hparams.output_dims\n",
    "    )\n",
    "    mse_eval = MultioutputWrapper(\n",
    "        torchmetrics.MeanSquaredError(squared=False),\n",
    "        num_outputs=model.hparams.output_dims,\n",
    "    )\n",
    "\n",
    "    r2_dict = {}\n",
    "    mae_dict = {}\n",
    "    #max_nodes = -1\n",
    "    for target_type, target_list in model.hparams.target_dict.items():\n",
    "        if target_list != [None] and len(target_list) > 0:\n",
    "                        \n",
    "            r2_eval = MultioutputWrapper(\n",
    "                torchmetrics.R2Score(), num_outputs=len(model.hparams.target_dict[target_type])\n",
    "            )\n",
    "            mae_eval = MultioutputWrapper(\n",
    "                torchmetrics.MeanAbsoluteError(), num_outputs=len(model.hparams.target_dict[target_type])\n",
    "            )\n",
    "            logits = preds[target_type]\n",
    "            labels = batched_label[target_type]\n",
    "\n",
    "            r2_eval.update(logits, labels)\n",
    "            mae_eval.update(logits, labels)\n",
    "            \n",
    "            r2_val = r2_eval.compute()\n",
    "            mae_val = mae_eval.compute()\n",
    "\n",
    "            r2_dict[target_type] = r2_val\n",
    "            mae_dict[target_type] = mae_val\n",
    "    \n",
    "    return r2_dict, mae_dict\n",
    "            \n",
    "\n",
    "    \n",
    "r2, mae = evaluate_manually(model, batch_graph, batch_label, scaler_list)"
   ]
  },
  {
   "cell_type": "code",
   "execution_count": 24,
   "metadata": {},
   "outputs": [
    {
     "name": "stdout",
     "output_type": "stream",
     "text": [
      "{'atom': tensor([0.7550]), 'bond': tensor([0.7377, 0.5981, 0.5113])}\n"
     ]
    }
   ],
   "source": [
    "print(r2)"
   ]
  },
  {
   "cell_type": "code",
   "execution_count": 25,
   "metadata": {},
   "outputs": [
    {
     "name": "stdout",
     "output_type": "stream",
     "text": [
      "{'atom': tensor([0.3381]), 'bond': tensor([0.3045, 0.3326, 0.4291])}\n"
     ]
    }
   ],
   "source": [
    "print(mae)"
   ]
  },
  {
   "cell_type": "code",
   "execution_count": 26,
   "metadata": {},
   "outputs": [
    {
     "name": "stdout",
     "output_type": "stream",
     "text": [
      "torch.Size([1204, 3])\n",
      "torch.Size([1204, 3])\n"
     ]
    }
   ],
   "source": [
    "preds = model.forward(batch_graph, batch_graph.ndata[\"feat\"])\n",
    "for k, v in preds.items():\n",
    "    preds[k] = v.cpu().detach()\n",
    "print(preds[\"bond\"].shape)\n",
    "print(batch_label[\"bond\"].shape)"
   ]
  },
  {
   "cell_type": "code",
   "execution_count": 27,
   "metadata": {},
   "outputs": [
    {
     "name": "stdout",
     "output_type": "stream",
     "text": [
      "torch.Size([1628, 1])\n",
      "torch.Size([1628, 1])\n"
     ]
    }
   ],
   "source": [
    "batch_label.keys()\n",
    "print(preds[\"atom\"].shape)\n",
    "print(batch_label[\"atom\"].shape)"
   ]
  },
  {
   "cell_type": "code",
   "execution_count": 28,
   "metadata": {},
   "outputs": [
    {
     "ename": "FileNotFoundError",
     "evalue": "[Errno 2] No such file or directory: '/home/santiagovargas/dev/qtaim_embed/data/xyz_qm8/molecules_qtaim.pkl'",
     "output_type": "error",
     "traceback": [
      "\u001b[0;31m---------------------------------------------------------------------------\u001b[0m",
      "\u001b[0;31mFileNotFoundError\u001b[0m                         Traceback (most recent call last)",
      "Cell \u001b[0;32mIn[28], line 1\u001b[0m\n\u001b[0;32m----> 1\u001b[0m df \u001b[38;5;241m=\u001b[39m \u001b[43mpd\u001b[49m\u001b[38;5;241;43m.\u001b[39;49m\u001b[43mread_pickle\u001b[49m\u001b[43m(\u001b[49m\n\u001b[1;32m      2\u001b[0m \u001b[43m    \u001b[49m\u001b[38;5;124;43m\"\u001b[39;49m\u001b[38;5;124;43m/home/santiagovargas/dev/qtaim_embed/data/xyz_qm8/molecules_qtaim.pkl\u001b[39;49m\u001b[38;5;124;43m\"\u001b[39;49m\n\u001b[1;32m      3\u001b[0m \u001b[43m)\u001b[49m\n",
      "File \u001b[0;32m~/anaconda3/envs/qtaim_embed/lib/python3.11/site-packages/pandas/io/pickle.py:179\u001b[0m, in \u001b[0;36mread_pickle\u001b[0;34m(filepath_or_buffer, compression, storage_options)\u001b[0m\n\u001b[1;32m    115\u001b[0m \u001b[38;5;250m\u001b[39m\u001b[38;5;124;03m\"\"\"\u001b[39;00m\n\u001b[1;32m    116\u001b[0m \u001b[38;5;124;03mLoad pickled pandas object (or any object) from file.\u001b[39;00m\n\u001b[1;32m    117\u001b[0m \n\u001b[0;32m   (...)\u001b[0m\n\u001b[1;32m    176\u001b[0m \u001b[38;5;124;03m4    4    9\u001b[39;00m\n\u001b[1;32m    177\u001b[0m \u001b[38;5;124;03m\"\"\"\u001b[39;00m\n\u001b[1;32m    178\u001b[0m excs_to_catch \u001b[38;5;241m=\u001b[39m (\u001b[38;5;167;01mAttributeError\u001b[39;00m, \u001b[38;5;167;01mImportError\u001b[39;00m, \u001b[38;5;167;01mModuleNotFoundError\u001b[39;00m, \u001b[38;5;167;01mTypeError\u001b[39;00m)\n\u001b[0;32m--> 179\u001b[0m \u001b[38;5;28;01mwith\u001b[39;00m \u001b[43mget_handle\u001b[49m\u001b[43m(\u001b[49m\n\u001b[1;32m    180\u001b[0m \u001b[43m    \u001b[49m\u001b[43mfilepath_or_buffer\u001b[49m\u001b[43m,\u001b[49m\n\u001b[1;32m    181\u001b[0m \u001b[43m    \u001b[49m\u001b[38;5;124;43m\"\u001b[39;49m\u001b[38;5;124;43mrb\u001b[39;49m\u001b[38;5;124;43m\"\u001b[39;49m\u001b[43m,\u001b[49m\n\u001b[1;32m    182\u001b[0m \u001b[43m    \u001b[49m\u001b[43mcompression\u001b[49m\u001b[38;5;241;43m=\u001b[39;49m\u001b[43mcompression\u001b[49m\u001b[43m,\u001b[49m\n\u001b[1;32m    183\u001b[0m \u001b[43m    \u001b[49m\u001b[43mis_text\u001b[49m\u001b[38;5;241;43m=\u001b[39;49m\u001b[38;5;28;43;01mFalse\u001b[39;49;00m\u001b[43m,\u001b[49m\n\u001b[1;32m    184\u001b[0m \u001b[43m    \u001b[49m\u001b[43mstorage_options\u001b[49m\u001b[38;5;241;43m=\u001b[39;49m\u001b[43mstorage_options\u001b[49m\u001b[43m,\u001b[49m\n\u001b[1;32m    185\u001b[0m \u001b[43m\u001b[49m\u001b[43m)\u001b[49m \u001b[38;5;28;01mas\u001b[39;00m handles:\n\u001b[1;32m    186\u001b[0m     \u001b[38;5;66;03m# 1) try standard library Pickle\u001b[39;00m\n\u001b[1;32m    187\u001b[0m     \u001b[38;5;66;03m# 2) try pickle_compat (older pandas version) to handle subclass changes\u001b[39;00m\n\u001b[1;32m    188\u001b[0m     \u001b[38;5;66;03m# 3) try pickle_compat with latin-1 encoding upon a UnicodeDecodeError\u001b[39;00m\n\u001b[1;32m    190\u001b[0m     \u001b[38;5;28;01mtry\u001b[39;00m:\n\u001b[1;32m    191\u001b[0m         \u001b[38;5;66;03m# TypeError for Cython complaints about object.__new__ vs Tick.__new__\u001b[39;00m\n\u001b[1;32m    192\u001b[0m         \u001b[38;5;28;01mtry\u001b[39;00m:\n",
      "File \u001b[0;32m~/anaconda3/envs/qtaim_embed/lib/python3.11/site-packages/pandas/io/common.py:868\u001b[0m, in \u001b[0;36mget_handle\u001b[0;34m(path_or_buf, mode, encoding, compression, memory_map, is_text, errors, storage_options)\u001b[0m\n\u001b[1;32m    859\u001b[0m         handle \u001b[38;5;241m=\u001b[39m \u001b[38;5;28mopen\u001b[39m(\n\u001b[1;32m    860\u001b[0m             handle,\n\u001b[1;32m    861\u001b[0m             ioargs\u001b[38;5;241m.\u001b[39mmode,\n\u001b[0;32m   (...)\u001b[0m\n\u001b[1;32m    864\u001b[0m             newline\u001b[38;5;241m=\u001b[39m\u001b[38;5;124m\"\u001b[39m\u001b[38;5;124m\"\u001b[39m,\n\u001b[1;32m    865\u001b[0m         )\n\u001b[1;32m    866\u001b[0m     \u001b[38;5;28;01melse\u001b[39;00m:\n\u001b[1;32m    867\u001b[0m         \u001b[38;5;66;03m# Binary mode\u001b[39;00m\n\u001b[0;32m--> 868\u001b[0m         handle \u001b[38;5;241m=\u001b[39m \u001b[38;5;28;43mopen\u001b[39;49m\u001b[43m(\u001b[49m\u001b[43mhandle\u001b[49m\u001b[43m,\u001b[49m\u001b[43m \u001b[49m\u001b[43mioargs\u001b[49m\u001b[38;5;241;43m.\u001b[39;49m\u001b[43mmode\u001b[49m\u001b[43m)\u001b[49m\n\u001b[1;32m    869\u001b[0m     handles\u001b[38;5;241m.\u001b[39mappend(handle)\n\u001b[1;32m    871\u001b[0m \u001b[38;5;66;03m# Convert BytesIO or file objects passed with an encoding\u001b[39;00m\n",
      "\u001b[0;31mFileNotFoundError\u001b[0m: [Errno 2] No such file or directory: '/home/santiagovargas/dev/qtaim_embed/data/xyz_qm8/molecules_qtaim.pkl'"
     ]
    }
   ],
   "source": [
    "df = pd.read_pickle(\n",
    "    \"/home/santiagovargas/dev/qtaim_embed/data/xyz_qm8/molecules_qtaim.pkl\"\n",
    ")"
   ]
  },
  {
   "cell_type": "code",
   "execution_count": null,
   "metadata": {},
   "outputs": [],
   "source": [
    "df.names"
   ]
  },
  {
   "cell_type": "code",
   "execution_count": null,
   "metadata": {},
   "outputs": [],
   "source": [
    "root_xyz = \"../../../data/xyz_qm8/xyz/\"\n",
    "csv = \"../../../data/xyz_qm8/qm8.sdf.csv\"\n",
    "# open csv file\n",
    "df_labels = pd.read_csv(csv)\n",
    "# print(df.head())\n",
    "data_added = [[] for i in range(len(df))]\n",
    "col_names_labels = list(df_labels.columns)\n",
    "for i in tqdm(range(len(df))):\n",
    "    name = df.names[i]\n",
    "    # get second line of xyz file\n",
    "    with open(root_xyz + name, \"r\") as f:\n",
    "        line = f.readlines()[1]\n",
    "    id = float(line.split()[1])\n",
    "    row_hit = df_labels[df_labels[\"gdb9_index\"] == id]\n",
    "\n",
    "    # convert to list\n",
    "    row_hit = row_hit.values.tolist()[0]\n",
    "    # append to data_added\n",
    "    data_added[i] = row_hit\n",
    "\n",
    "# add to df with column names with prefix \"extra_feat_global_\" and replace . with _ and - with _\n",
    "for i in range(len(col_names_labels)):\n",
    "    df[\n",
    "        \"extra_feat_global_\" + col_names_labels[i].replace(\".\", \"_\").replace(\"-\", \"_\")\n",
    "    ] = [row[i] for row in data_added]"
   ]
  },
  {
   "cell_type": "code",
   "execution_count": null,
   "metadata": {},
   "outputs": [],
   "source": [
    "df.columns"
   ]
  },
  {
   "cell_type": "code",
   "execution_count": null,
   "metadata": {},
   "outputs": [],
   "source": [
    "df.to_pickle(\n",
    "    \"/home/santiagovargas/dev/qtaim_embed/data/xyz_qm8/molecules_qtaim_labelled.pkl\"\n",
    ")"
   ]
  },
  {
   "cell_type": "code",
   "execution_count": 4,
   "metadata": {},
   "outputs": [],
   "source": [
    "import pandas as pd\n",
    "\n",
    "df = pd.read_pickle(\n",
    "    \"/home/santiagovargas/dev/qtaim_embed/data/xyz_qm8/molecules_qtaim_labelled.pkl\"\n",
    ")\n",
    "df = df.head(100)\n",
    "df.to_pickle(\"/home/santiagovargas/dev/qtaim_embed/tests/data/labelled_data.pkl\")"
   ]
  },
  {
   "cell_type": "code",
   "execution_count": null,
   "metadata": {},
   "outputs": [],
   "source": []
  }
 ],
 "metadata": {
  "kernelspec": {
   "display_name": "qtaim_embed",
   "language": "python",
   "name": "python3"
  },
  "language_info": {
   "codemirror_mode": {
    "name": "ipython",
    "version": 3
   },
   "file_extension": ".py",
   "mimetype": "text/x-python",
   "name": "python",
   "nbconvert_exporter": "python",
   "pygments_lexer": "ipython3",
   "version": "3.11.3"
  },
  "orig_nbformat": 4
 },
 "nbformat": 4,
 "nbformat_minor": 2
}
