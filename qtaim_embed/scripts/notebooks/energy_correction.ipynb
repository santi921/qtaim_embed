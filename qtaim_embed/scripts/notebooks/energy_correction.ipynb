{
 "cells": [
  {
   "cell_type": "markdown",
   "metadata": {},
   "source": [
    "# LIBE Correction\n"
   ]
  },
  {
   "cell_type": "code",
   "execution_count": null,
   "metadata": {},
   "outputs": [],
   "source": [
    "import pandas as pd\n",
    "import os \n",
    "! ls ../../../data/splits_1205/libe_qtaim_1205_labelled.pkl\n",
    "folder_loc = \"../../../data/splits_1205/\"\n",
    "loc_libe = \"../../../data/splits_1205/libe_qtaim_1205_labelled.pkl\"\n",
    "libe_full = pd.read_pickle(loc_libe)\n",
    "# get all datasets with libe in the name \n",
    "datasets_update = [x for x in os.listdir(folder_loc) if \"libe\" in x]"
   ]
  },
  {
   "cell_type": "code",
   "execution_count": 2,
   "metadata": {},
   "outputs": [
    {
     "data": {
      "text/plain": [
       "['train_libe_qtaim_1205_labelled_charge_1.pkl',\n",
       " 'train_libe_qtaim_1205_labelled_10000.pkl',\n",
       " 'libe_qtaim_1205_labelled.pkl',\n",
       " 'train_libe_qtaim_1205_labelled.pkl',\n",
       " 'train_libe_1205_small.pkl',\n",
       " 'train_libe_1205_large.pkl',\n",
       " 'train_libe_qtaim_1205_labelled_spin_2.pkl',\n",
       " 'test_libe_qtaim_1205_labelled_spin_3.pkl',\n",
       " 'train_libe_qtaim_1205_labelled_100.pkl',\n",
       " 'train_libe_qtaim_1205_labelled_spin_1.pkl',\n",
       " 'test_libe_qtaim_1205_labelled.pkl',\n",
       " 'test_libe_qtaim_1205_labelled_charge_neg_1.pkl',\n",
       " 'libe_qtaim_1205_labelled_corrected.pkl',\n",
       " 'test_libe_qtaim_1205_labelled_charge_1_neg_1.pkl',\n",
       " 'test_libe_1205_small.pkl',\n",
       " 'test_libe_qtaim_1205_labelled_charge_1.pkl',\n",
       " 'test_libe_qtaim_1205_labelled_charge_0.pkl',\n",
       " 'train_libe_qtaim_1205_labelled_spin_3.pkl',\n",
       " 'test_libe_qtaim_1205_labelled_spin_1.pkl',\n",
       " 'train_libe_qtaim_1205_labelled_1000.pkl',\n",
       " 'test_libe_1205_large.pkl',\n",
       " 'test_libe_qtaim_1205_labelled_spin_2.pkl',\n",
       " 'train_libe_qtaim_1205_labelled_10.pkl',\n",
       " 'train_libe_qtaim_1205_labelled_charge_neg_1.pkl',\n",
       " 'train_libe_qtaim_1205_labelled_charge_0.pkl']"
      ]
     },
     "execution_count": 2,
     "metadata": {},
     "output_type": "execute_result"
    }
   ],
   "source": [
    "datasets_update\n"
   ]
  },
  {
   "cell_type": "code",
   "execution_count": 3,
   "metadata": {},
   "outputs": [],
   "source": [
    "def get_elem_list(molecule):\n",
    "    return [site.specie for site in molecule.sites]\n",
    "\n",
    "\n",
    "elem_to_int = {\n",
    "    \"H\": 1,\n",
    "    \"He\": 2,\n",
    "    \"Li\": 3,\n",
    "    \"Be\": 4,\n",
    "    \"B\": 5,\n",
    "    \"C\": 6,\n",
    "    \"N\": 7,\n",
    "    \"O\": 8,\n",
    "    \"F\": 9,\n",
    "    \"S\": 16,\n",
    "    \"P\": 15,\n",
    "    \"Ne\": 10,\n",
    "    \"Mg\": 12,\n",
    "}\n"
   ]
  },
  {
   "cell_type": "code",
   "execution_count": 5,
   "metadata": {},
   "outputs": [],
   "source": [
    "from tqdm import tqdm, trange\n",
    "import numpy as np\n",
    "from copy import deepcopy\n",
    "\n",
    "\n",
    "def get_elem_list(molecule):\n",
    "    return [site.specie for site in molecule.sites]\n",
    "\n",
    "\n",
    "# function to find what elements are present in the dataset\n",
    "def elem_present(df):\n",
    "    elem_list = []\n",
    "    print(\"Calculating elements present in dataset\")\n",
    "    for i, row in tqdm(df.iterrows()):\n",
    "        molecule = row.molecule_graph.molecule\n",
    "        for elem in get_elem_list(molecule):  # todo\n",
    "            elem = str(elem)\n",
    "            # for elem in structure.atomic_numbers:  # todo\n",
    "            if int(elem_to_int[elem]) not in elem_list:\n",
    "                elem_list.append(int(elem_to_int[elem]))\n",
    "    elem_list.sort()\n",
    "    return elem_list\n",
    "\n",
    "\n",
    "# function to create the coefficient matrix\n",
    "# row for each structure, column for each element\n",
    "# each entry tells the number of times that element is in that structure\n",
    "def coeff_matrix_func(elem_list, df):\n",
    "    num_structures = df.shape[0]\n",
    "    num_elems = len(elem_list)\n",
    "    matrix = np.zeros((num_structures, num_elems))\n",
    "    # print(\"Constructing coefficient matrix\")\n",
    "    # print(\"matrix shape\", matrix.shape)\n",
    "    # print(\"number of structures\", num_structures)\n",
    "    for i in trange(num_structures):\n",
    "        row = df.iloc[i]\n",
    "        molecule = row.molecule_graph.molecule\n",
    "        elems = get_elem_list(molecule)\n",
    "        elems = [elem_to_int[str(elem)] for elem in elems]\n",
    "        for elem in elems:\n",
    "            for j in range(len(elem_list)):\n",
    "                if int(elem) == elem_list[j]:\n",
    "                    try:\n",
    "                        matrix[i][j] += 1\n",
    "                    except:\n",
    "                        print(i, j)\n",
    "                        # throw error if the element is not in the list\n",
    "                        raise ValueError(\"Element not in list\")\n",
    "    return matrix\n",
    "\n",
    "\n",
    "# function to solve for the target values attributable to any given element\n",
    "def target_references(coeff_matrix, df):\n",
    "    sol_matrix = np.zeros(len(df))\n",
    "    for i in range(len(df)):\n",
    "        # sol_matrix[i] = dataset[i].y_relaxed  # todo\n",
    "        sol_matrix[i] = df.iloc[i].shifted_rrho_ev_free_energy\n",
    "    sol_matrix = sol_matrix.T\n",
    "    vars = np.linalg.solve(coeff_matrix.T @ coeff_matrix, coeff_matrix.T @ sol_matrix)\n",
    "    return vars\n",
    "\n",
    "\n",
    "# function to subtract off target values attributable to each individual element\n",
    "def target_correction(coeff_matrix, target_references, df):\n",
    "    df_ret = deepcopy(df)\n",
    "    print(\"Correcting targets\")\n",
    "    debug_list = []\n",
    "    # for i in trange(len(dataset)):\n",
    "    for i in range(len(df_ret)):\n",
    "        data = df_ret.iloc[i]\n",
    "        reference_target = coeff_matrix[i, :] @ target_references\n",
    "        corrected_target = data.shifted_rrho_ev_free_energy - reference_target  # todo\n",
    "        # overwrite the target values with the corrected values\n",
    "        debug_list.append(corrected_target)\n",
    "        # df_ret.iloc[i].shifted_rrho_ev_free_energy = corrected_target\n",
    "        # new_dataset.append(data)\n",
    "    df_ret[\"corrected_E\"] = debug_list\n",
    "    return df_ret, debug_list\n",
    "    # return debug_list\n"
   ]
  },
  {
   "cell_type": "code",
   "execution_count": 28,
   "metadata": {},
   "outputs": [
    {
     "name": "stdout",
     "output_type": "stream",
     "text": [
      "Calculating elements present in dataset\n"
     ]
    },
    {
     "name": "stderr",
     "output_type": "stream",
     "text": [
      "17157it [00:00, 49096.23it/s]\n",
      "100%|██████████| 17157/17157 [00:00<00:00, 21801.28it/s]\n"
     ]
    },
    {
     "name": "stdout",
     "output_type": "stream",
     "text": [
      "Correcting targets\n"
     ]
    }
   ],
   "source": [
    "elems_present_libe = elem_present(libe_full)\n",
    "matrix = coeff_matrix_func(elems_present_libe, libe_full)\n",
    "target_refs_libe = target_references(matrix, libe_full)\n",
    "df_ret, debug_list = target_correction(matrix, target_refs_libe, libe_full)\n",
    "# overwrite pickle with new one\n",
    "df_ret.to_pickle(\"../../../data/splits_1205/libe_qtaim_1205_labelled_corrected.pkl\")\n"
   ]
  },
  {
   "cell_type": "code",
   "execution_count": 21,
   "metadata": {},
   "outputs": [
    {
     "data": {
      "text/plain": [
       "[1, 3, 6, 7, 8, 9, 15, 16]"
      ]
     },
     "execution_count": 21,
     "metadata": {},
     "output_type": "execute_result"
    }
   ],
   "source": [
    "elems_present_libe\n"
   ]
  },
  {
   "cell_type": "code",
   "execution_count": 22,
   "metadata": {},
   "outputs": [
    {
     "data": {
      "text/plain": [
       "array([   -16.77537562,   -206.45292515,  -1034.69861041,  -1488.80081496,\n",
       "        -2048.19270236,  -2717.83725543,  -9286.36995521, -10831.57826394])"
      ]
     },
     "execution_count": 22,
     "metadata": {},
     "output_type": "execute_result"
    }
   ],
   "source": [
    "target_refs_libe\n"
   ]
  },
  {
   "cell_type": "code",
   "execution_count": 30,
   "metadata": {},
   "outputs": [
    {
     "name": "stdout",
     "output_type": "stream",
     "text": [
      "train_libe_qtaim_1205_labelled_charge_1.pkl (4555, 55)\n",
      "Calculating elements present in dataset\n"
     ]
    },
    {
     "name": "stderr",
     "output_type": "stream",
     "text": [
      "4555it [00:00, 40345.01it/s]\n",
      "100%|██████████| 4555/4555 [00:00<00:00, 24422.30it/s]\n"
     ]
    },
    {
     "name": "stdout",
     "output_type": "stream",
     "text": [
      "Correcting targets\n",
      "train_libe_qtaim_1205_labelled_10000.pkl (10000, 55)\n",
      "Calculating elements present in dataset\n"
     ]
    },
    {
     "name": "stderr",
     "output_type": "stream",
     "text": [
      "10000it [00:00, 41871.19it/s]\n",
      "100%|██████████| 10000/10000 [00:00<00:00, 24569.75it/s]\n"
     ]
    },
    {
     "name": "stdout",
     "output_type": "stream",
     "text": [
      "Correcting targets\n",
      "libe_qtaim_1205_labelled.pkl (17157, 55)\n",
      "Calculating elements present in dataset\n"
     ]
    },
    {
     "name": "stderr",
     "output_type": "stream",
     "text": [
      "17157it [00:00, 43556.85it/s]\n",
      "100%|██████████| 17157/17157 [00:00<00:00, 19731.14it/s]\n"
     ]
    },
    {
     "name": "stdout",
     "output_type": "stream",
     "text": [
      "Correcting targets\n",
      "train_libe_qtaim_1205_labelled.pkl (15441, 55)\n",
      "Calculating elements present in dataset\n"
     ]
    },
    {
     "name": "stderr",
     "output_type": "stream",
     "text": [
      "15441it [00:00, 40093.63it/s]\n",
      "100%|██████████| 15441/15441 [00:00<00:00, 23911.96it/s]\n"
     ]
    },
    {
     "name": "stdout",
     "output_type": "stream",
     "text": [
      "Correcting targets\n",
      "train_libe_1205_small.pkl (1969, 56)\n",
      "Calculating elements present in dataset\n"
     ]
    },
    {
     "name": "stderr",
     "output_type": "stream",
     "text": [
      "1969it [00:00, 52580.35it/s]\n",
      "100%|██████████| 1969/1969 [00:00<00:00, 30045.09it/s]"
     ]
    },
    {
     "name": "stdout",
     "output_type": "stream",
     "text": [
      "Correcting targets\n"
     ]
    },
    {
     "name": "stderr",
     "output_type": "stream",
     "text": [
      "\n"
     ]
    },
    {
     "name": "stdout",
     "output_type": "stream",
     "text": [
      "train_libe_1205_large.pkl (13472, 56)\n",
      "Calculating elements present in dataset\n"
     ]
    },
    {
     "name": "stderr",
     "output_type": "stream",
     "text": [
      "13472it [00:00, 38078.59it/s]\n",
      "100%|██████████| 13472/13472 [00:00<00:00, 22903.25it/s]\n"
     ]
    },
    {
     "name": "stdout",
     "output_type": "stream",
     "text": [
      "Correcting targets\n",
      "train_libe_qtaim_1205_labelled_spin_2.pkl (6872, 55)\n",
      "Calculating elements present in dataset\n"
     ]
    },
    {
     "name": "stderr",
     "output_type": "stream",
     "text": [
      "6872it [00:00, 38988.86it/s]\n",
      "100%|██████████| 6872/6872 [00:00<00:00, 23211.02it/s]\n"
     ]
    },
    {
     "name": "stdout",
     "output_type": "stream",
     "text": [
      "Correcting targets\n",
      "test_libe_qtaim_1205_labelled_spin_3.pkl (250, 55)\n",
      "Calculating elements present in dataset\n"
     ]
    },
    {
     "name": "stderr",
     "output_type": "stream",
     "text": [
      "250it [00:00, 46680.14it/s]\n",
      "100%|██████████| 250/250 [00:00<00:00, 34153.35it/s]\n"
     ]
    },
    {
     "name": "stdout",
     "output_type": "stream",
     "text": [
      "Correcting targets\n",
      "train_libe_qtaim_1205_labelled_100.pkl (100, 55)\n",
      "Calculating elements present in dataset\n"
     ]
    },
    {
     "name": "stderr",
     "output_type": "stream",
     "text": [
      "100it [00:00, 47962.31it/s]\n",
      "100%|██████████| 100/100 [00:00<00:00, 30595.26it/s]"
     ]
    },
    {
     "name": "stdout",
     "output_type": "stream",
     "text": [
      "Correcting targets\n"
     ]
    },
    {
     "name": "stderr",
     "output_type": "stream",
     "text": [
      "\n"
     ]
    },
    {
     "name": "stdout",
     "output_type": "stream",
     "text": [
      "train_libe_qtaim_1205_labelled_spin_1.pkl (6391, 55)\n",
      "Calculating elements present in dataset\n"
     ]
    },
    {
     "name": "stderr",
     "output_type": "stream",
     "text": [
      "6391it [00:00, 38214.51it/s]\n",
      "100%|██████████| 6391/6391 [00:00<00:00, 23187.10it/s]\n"
     ]
    },
    {
     "name": "stdout",
     "output_type": "stream",
     "text": [
      "Correcting targets\n",
      "test_libe_qtaim_1205_labelled.pkl (1716, 55)\n",
      "Calculating elements present in dataset\n"
     ]
    },
    {
     "name": "stderr",
     "output_type": "stream",
     "text": [
      "1716it [00:00, 39388.09it/s]\n",
      "100%|██████████| 1716/1716 [00:00<00:00, 23933.02it/s]"
     ]
    },
    {
     "name": "stdout",
     "output_type": "stream",
     "text": [
      "Correcting targets\n"
     ]
    },
    {
     "name": "stderr",
     "output_type": "stream",
     "text": [
      "\n"
     ]
    },
    {
     "name": "stdout",
     "output_type": "stream",
     "text": [
      "test_libe_qtaim_1205_labelled_charge_neg_1.pkl (604, 55)\n",
      "Calculating elements present in dataset\n"
     ]
    },
    {
     "name": "stderr",
     "output_type": "stream",
     "text": [
      "604it [00:00, 41326.56it/s]\n",
      "100%|██████████| 604/604 [00:00<00:00, 27906.28it/s]"
     ]
    },
    {
     "name": "stdout",
     "output_type": "stream",
     "text": [
      "Correcting targets\n"
     ]
    },
    {
     "name": "stderr",
     "output_type": "stream",
     "text": [
      "\n"
     ]
    },
    {
     "name": "stdout",
     "output_type": "stream",
     "text": [
      "libe_qtaim_1205_labelled_corrected.pkl (17157, 56)\n",
      "Calculating elements present in dataset\n"
     ]
    },
    {
     "name": "stderr",
     "output_type": "stream",
     "text": [
      "17157it [00:00, 41020.94it/s]\n",
      "100%|██████████| 17157/17157 [00:00<00:00, 24971.47it/s]\n"
     ]
    },
    {
     "name": "stdout",
     "output_type": "stream",
     "text": [
      "Correcting targets\n",
      "test_libe_qtaim_1205_labelled_charge_1_neg_1.pkl (1110, 55)\n",
      "Calculating elements present in dataset\n"
     ]
    },
    {
     "name": "stderr",
     "output_type": "stream",
     "text": [
      "1110it [00:00, 37414.53it/s]\n",
      "100%|██████████| 1110/1110 [00:00<00:00, 23532.18it/s]"
     ]
    },
    {
     "name": "stdout",
     "output_type": "stream",
     "text": [
      "Correcting targets\n"
     ]
    },
    {
     "name": "stderr",
     "output_type": "stream",
     "text": [
      "\n"
     ]
    },
    {
     "name": "stdout",
     "output_type": "stream",
     "text": [
      "test_libe_1205_small.pkl (215, 56)\n",
      "Calculating elements present in dataset\n"
     ]
    },
    {
     "name": "stderr",
     "output_type": "stream",
     "text": [
      "215it [00:00, 56516.38it/s]\n",
      "100%|██████████| 215/215 [00:00<00:00, 35572.99it/s]\n"
     ]
    },
    {
     "name": "stdout",
     "output_type": "stream",
     "text": [
      "Correcting targets\n",
      "test_libe_qtaim_1205_labelled_charge_1.pkl (506, 55)\n",
      "Calculating elements present in dataset\n"
     ]
    },
    {
     "name": "stderr",
     "output_type": "stream",
     "text": [
      "506it [00:00, 45232.69it/s]\n",
      "100%|██████████| 506/506 [00:00<00:00, 27783.39it/s]"
     ]
    },
    {
     "name": "stdout",
     "output_type": "stream",
     "text": [
      "Correcting targets\n"
     ]
    },
    {
     "name": "stderr",
     "output_type": "stream",
     "text": [
      "\n"
     ]
    },
    {
     "name": "stdout",
     "output_type": "stream",
     "text": [
      "test_libe_qtaim_1205_labelled_charge_0.pkl (606, 55)\n",
      "Calculating elements present in dataset\n"
     ]
    },
    {
     "name": "stderr",
     "output_type": "stream",
     "text": [
      "606it [00:00, 42296.91it/s]\n",
      "100%|██████████| 606/606 [00:00<00:00, 25550.60it/s]\n"
     ]
    },
    {
     "name": "stdout",
     "output_type": "stream",
     "text": [
      "Correcting targets\n",
      "train_libe_qtaim_1205_labelled_spin_3.pkl (2178, 55)\n",
      "Calculating elements present in dataset\n"
     ]
    },
    {
     "name": "stderr",
     "output_type": "stream",
     "text": [
      "2178it [00:00, 45917.50it/s]\n",
      "100%|██████████| 2178/2178 [00:00<00:00, 27879.34it/s]"
     ]
    },
    {
     "name": "stdout",
     "output_type": "stream",
     "text": [
      "Correcting targets\n"
     ]
    },
    {
     "name": "stderr",
     "output_type": "stream",
     "text": [
      "\n"
     ]
    },
    {
     "name": "stdout",
     "output_type": "stream",
     "text": [
      "test_libe_qtaim_1205_labelled_spin_1.pkl (742, 55)\n",
      "Calculating elements present in dataset\n"
     ]
    },
    {
     "name": "stderr",
     "output_type": "stream",
     "text": [
      "742it [00:00, 40148.27it/s]\n",
      "100%|██████████| 742/742 [00:00<00:00, 27993.72it/s]"
     ]
    },
    {
     "name": "stdout",
     "output_type": "stream",
     "text": [
      "Correcting targets\n"
     ]
    },
    {
     "name": "stderr",
     "output_type": "stream",
     "text": [
      "\n"
     ]
    },
    {
     "name": "stdout",
     "output_type": "stream",
     "text": [
      "train_libe_qtaim_1205_labelled_1000.pkl (1000, 55)\n",
      "Calculating elements present in dataset\n"
     ]
    },
    {
     "name": "stderr",
     "output_type": "stream",
     "text": [
      "1000it [00:00, 39642.96it/s]\n",
      "100%|██████████| 1000/1000 [00:00<00:00, 26227.84it/s]"
     ]
    },
    {
     "name": "stdout",
     "output_type": "stream",
     "text": [
      "Correcting targets\n"
     ]
    },
    {
     "name": "stderr",
     "output_type": "stream",
     "text": [
      "\n"
     ]
    },
    {
     "name": "stdout",
     "output_type": "stream",
     "text": [
      "test_libe_1205_large.pkl (1501, 56)\n",
      "Calculating elements present in dataset\n"
     ]
    },
    {
     "name": "stderr",
     "output_type": "stream",
     "text": [
      "1501it [00:00, 39319.80it/s]\n",
      "100%|██████████| 1501/1501 [00:00<00:00, 23351.47it/s]"
     ]
    },
    {
     "name": "stdout",
     "output_type": "stream",
     "text": [
      "Correcting targets\n"
     ]
    },
    {
     "name": "stderr",
     "output_type": "stream",
     "text": [
      "\n"
     ]
    },
    {
     "name": "stdout",
     "output_type": "stream",
     "text": [
      "test_libe_qtaim_1205_labelled_spin_2.pkl (724, 55)\n",
      "Calculating elements present in dataset\n"
     ]
    },
    {
     "name": "stderr",
     "output_type": "stream",
     "text": [
      "724it [00:00, 41862.09it/s]\n",
      "100%|██████████| 724/724 [00:00<00:00, 25599.39it/s]\n"
     ]
    },
    {
     "name": "stdout",
     "output_type": "stream",
     "text": [
      "Correcting targets\n",
      "train_libe_qtaim_1205_labelled_10.pkl (10, 55)\n",
      "Calculating elements present in dataset\n"
     ]
    },
    {
     "name": "stderr",
     "output_type": "stream",
     "text": [
      "10it [00:00, 22671.91it/s]\n",
      "100%|██████████| 10/10 [00:00<00:00, 23523.86it/s]"
     ]
    },
    {
     "name": "stdout",
     "output_type": "stream",
     "text": [
      "Correcting targets\n"
     ]
    },
    {
     "name": "stderr",
     "output_type": "stream",
     "text": [
      "\n"
     ]
    },
    {
     "name": "stdout",
     "output_type": "stream",
     "text": [
      "train_libe_qtaim_1205_labelled_charge_neg_1.pkl (5633, 55)\n",
      "Calculating elements present in dataset\n"
     ]
    },
    {
     "name": "stderr",
     "output_type": "stream",
     "text": [
      "5633it [00:00, 39100.56it/s]\n",
      "100%|██████████| 5633/5633 [00:00<00:00, 23454.31it/s]\n"
     ]
    },
    {
     "name": "stdout",
     "output_type": "stream",
     "text": [
      "Correcting targets\n",
      "train_libe_qtaim_1205_labelled_charge_0.pkl (5253, 55)\n",
      "Calculating elements present in dataset\n"
     ]
    },
    {
     "name": "stderr",
     "output_type": "stream",
     "text": [
      "5253it [00:00, 42091.84it/s]\n",
      "100%|██████████| 5253/5253 [00:00<00:00, 24397.59it/s]\n"
     ]
    },
    {
     "name": "stdout",
     "output_type": "stream",
     "text": [
      "Correcting targets\n"
     ]
    }
   ],
   "source": [
    "failed_datasets = []\n",
    "# iterate through all datasets and correct them\n",
    "for dataset in datasets_update:\n",
    "    try:\n",
    "        dataset_loc = folder_loc + dataset\n",
    "        dataset_df = pd.read_pickle(dataset_loc)\n",
    "        print(dataset, dataset_df.shape)\n",
    "        elems_present = elem_present(dataset_df)\n",
    "        matrix = coeff_matrix_func(elems_present, dataset_df)\n",
    "        # target_refs = target_references(matrix, dataset_df)\n",
    "        df_ret, debug_list = target_correction(matrix, target_refs_libe, dataset_df)\n",
    "        # overwrite pickle with new one\n",
    "        dataset_loc_new = dataset_loc.replace(\".pkl\", \"_corrected.pkl\")\n",
    "        df_ret.to_pickle(dataset_loc_new)\n",
    "    except:\n",
    "        failed_datasets.append(dataset)\n"
   ]
  },
  {
   "cell_type": "code",
   "execution_count": 31,
   "metadata": {},
   "outputs": [
    {
     "data": {
      "text/plain": [
       "['train_libe_qtaim_1205_labelled_10.pkl']"
      ]
     },
     "execution_count": 31,
     "metadata": {},
     "output_type": "execute_result"
    }
   ],
   "source": [
    "failed_datasets\n"
   ]
  },
  {
   "cell_type": "code",
   "execution_count": 88,
   "metadata": {},
   "outputs": [
    {
     "data": {
      "image/png": "[encoded data removed]",
      "text/plain": [
       "<Figure size 640x480 with 1 Axes>"
      ]
     },
     "metadata": {},
     "output_type": "display_data"
    },
    {
     "data": {
      "text/plain": [
       "<Figure size 640x480 with 0 Axes>"
      ]
     },
     "metadata": {},
     "output_type": "display_data"
    }
   ],
   "source": [
    "# plot histogram of corrected target values\n",
    "import matplotlib.pyplot as plt\n",
    "\n",
    "plt.hist(debug_list, bins=100)\n",
    "plt.title(\"Corrected target values - LIBE\")\n",
    "plt.xlabel(\"Corrected target value\")\n",
    "plt.ylabel(\"Frequency\")\n",
    "# plt.show()\n",
    "# save figu\n",
    "plt.savefig(\"corrected_target_hist_libe.png\")\n"
   ]
  },
  {
   "cell_type": "code",
   "execution_count": 1,
   "metadata": {},
   "outputs": [
    {
     "name": "stdout",
     "output_type": "stream",
     "text": [
      "... > creating MoleculeWrapper objects\n"
     ]
    },
    {
     "name": "stderr",
     "output_type": "stream",
     "text": [
      "100%|██████████| 1716/1716 [00:00<00:00, 20903.24it/s]\n"
     ]
    },
    {
     "name": "stdout",
     "output_type": "stream",
     "text": [
      "... > bond_feats_error_count:  0\n",
      "... > atom_feats_error_count:  0\n",
      "element set {'S', 'O', 'C', 'P', 'H', 'F', 'Li', 'N'}\n",
      "selected atomic keys []\n",
      "selected bond keys []\n",
      "selected global keys ['corrected_E', 'charge', 'spin']\n",
      "... > Building graphs and featurizing\n"
     ]
    },
    {
     "name": "stderr",
     "output_type": "stream",
     "text": [
      "100%|██████████| 1716/1716 [00:02<00:00, 596.83it/s]\n"
     ]
    },
    {
     "name": "stdout",
     "output_type": "stream",
     "text": [
      "included in labels\n",
      "{'global': ['corrected_E']}\n",
      "included in graph features\n",
      "{'atom': ['total_degree', 'total_H', 'is_in_ring', 'ring_size_3', 'ring_size_4', 'ring_size_5', 'ring_size_6', 'ring_size_7', 'chemical_symbol_S', 'chemical_symbol_O', 'chemical_symbol_C', 'chemical_symbol_P', 'chemical_symbol_H', 'chemical_symbol_F', 'chemical_symbol_Li', 'chemical_symbol_N'], 'bond': ['metal bond', 'ring inclusion', 'ring size_3', 'ring size_4', 'ring size_5', 'ring size_6', 'ring size_7'], 'global': ['num atoms', 'num bonds', 'molecule weight', 'charge one hot', 'charge one hot', 'charge one hot', 'spin one hot', 'spin one hot', 'spin one hot']}\n",
      "original loader node types: dict_keys(['atom', 'bond', 'global'])\n",
      "original loader label types: dict_keys([])\n",
      "include names:  dict_keys(['global'])\n",
      "... > parsing labels and features in graphs\n"
     ]
    },
    {
     "name": "stderr",
     "output_type": "stream",
     "text": [
      "100%|██████████| 1716/1716 [00:00<00:00, 34316.11it/s]\n"
     ]
    },
    {
     "name": "stdout",
     "output_type": "stream",
     "text": [
      "original loader node types: dict_keys(['atom', 'bond', 'global'])\n",
      "original loader label types: dict_keys(['global'])\n",
      "... > Log scaling features\n",
      "... > Log scaling features complete\n",
      "... > Scaling features\n",
      "mean [0.82051049 0.12242161 0.07909777 0.00656382 0.05048244 0.01205826\n",
      " 0.00859197 0.00140127 0.00413005 0.16778314 0.20550669 0.01191076\n",
      " 0.21188614 0.04406612 0.0463524  0.00151189]\n",
      "std [0.5301781  0.31105153 0.22038588 0.06713131 0.1801202  0.09062421\n",
      " 0.07669211 0.0311339  0.05334485 0.29689599 0.31656498 0.09007798\n",
      " 0.3193314  0.16912269 0.17314875 0.03233694]\n",
      "mean [0.         0.09420027 0.00786088 0.05984692 0.01498344 0.01068385\n",
      " 0.00182407]\n",
      "std [0.         0.23753096 0.07339587 0.19468197 0.10080292 0.08538931\n",
      " 0.03551088]\n",
      "Standard deviation for feature 0 is 0.0, smaller than 0.001. You may want to exclude this feature.\n",
      "mean [2.41164055 2.24761734 4.63867565 0.24397488 0.24478275 0.20438955\n",
      " 0.29971749 0.29244671 0.10098298]\n",
      "std [0.37903647 0.42249919 0.41820949 0.33103891 0.33128821 0.31606479\n",
      " 0.34339155 0.34232081 0.24453733]\n",
      "... > Scaling features complete\n",
      "... > feature mean(s): \n",
      " {'atom': tensor([0.8205, 0.1224, 0.0791, 0.0066, 0.0505, 0.0121, 0.0086, 0.0014, 0.0041,\n",
      "        0.1678, 0.2055, 0.0119, 0.2119, 0.0441, 0.0464, 0.0015]), 'bond': tensor([0.0000, 0.0942, 0.0079, 0.0598, 0.0150, 0.0107, 0.0018]), 'global': tensor([2.4116, 2.2476, 4.6387, 0.2440, 0.2448, 0.2044, 0.2997, 0.2924, 0.1010])}\n",
      "... > feature std(s):  \n",
      " {'atom': tensor([0.5302, 0.3111, 0.2204, 0.0671, 0.1801, 0.0906, 0.0767, 0.0311, 0.0533,\n",
      "        0.2969, 0.3166, 0.0901, 0.3193, 0.1691, 0.1731, 0.0323]), 'bond': tensor([0.0010, 0.2375, 0.0734, 0.1947, 0.1008, 0.0854, 0.0355]), 'global': tensor([0.3790, 0.4225, 0.4182, 0.3310, 0.3313, 0.3161, 0.3434, 0.3423, 0.2445])}\n",
      "... > Scaling targets\n",
      "mean [0.46935998]\n",
      "std [3.96668811]\n",
      "... > Scaling targets complete\n",
      "... > feature mean(s): \n",
      " {'global': tensor([0.4694])}\n",
      "... > feature std(s):  \n",
      " {'global': tensor([3.9667])}\n",
      "... > loaded dataset\n"
     ]
    }
   ],
   "source": [
    "base_dict = {\n",
    "    \"atom\": [],\n",
    "    \"bond\": [],\n",
    "    \"global\": [\"corrected_E\", \"charge\", \"spin\"],\n",
    "}\n",
    "from qtaim_embed.core.dataset import HeteroGraphGraphLabelDataset\n",
    "from qtaim_embed.data.dataloader import DataLoaderMoleculeGraphTask\n",
    "\n",
    "dataset_test_base = HeteroGraphGraphLabelDataset(\n",
    "    file=\"../../../data/splits_1205/test_libe_qtaim_1205_labelled_corrected.pkl\",\n",
    "    allowed_ring_size=[3, 4, 5, 6, 7],\n",
    "    allowed_charges=[-1, 0, 1],\n",
    "    allowed_spins=[1, 2, 3],\n",
    "    self_loop=True,\n",
    "    extra_keys=base_dict,\n",
    "    target_list=[\"corrected_E\"],\n",
    "    extra_dataset_info={},\n",
    "    debug=False,\n",
    "    log_scale_features=True,\n",
    "    log_scale_targets=False,\n",
    "    standard_scale_features=True,\n",
    "    standard_scale_targets=True,\n",
    ")\n",
    "\n",
    "dataloader_train = DataLoaderMoleculeGraphTask(\n",
    "    dataset_test_base, batch_size=256, shuffle=True, num_workers=0\n",
    ")\n",
    "import torch\n",
    "from sklearn.metrics import r2_score\n",
    "\n",
    "\n",
    "def manual_statistics(model, batch_graph, batched_labels, scaler_list):\n",
    "    preds = model.forward(batch_graph, batch_graph.ndata[\"feat\"])\n",
    "\n",
    "    preds_unscaled = deepcopy(preds.detach())\n",
    "    labels_unscaled = deepcopy(batched_labels)\n",
    "    # print(\"preds unscaled\", preds_unscaled)  # * this looks good\n",
    "    # print(\"labels unscaled\", labels_unscaled)  # * this looks good\n",
    "    for scaler in scaler_list:\n",
    "        labels_unscaled = scaler.inverse_feats(labels_unscaled)\n",
    "        preds_unscaled = scaler.inverse_feats({\"global\": preds_unscaled})\n",
    "\n",
    "    preds_unscaled = preds_unscaled[\"global\"].view(-1, model.hparams.ntasks)\n",
    "    labels_unscaled = labels_unscaled[\"global\"].view(-1, model.hparams.ntasks)\n",
    "    # manually compute mae and r2\n",
    "    mae = torch.mean(torch.abs(preds_unscaled - labels_unscaled))\n",
    "    r2 = r2_score(labels_unscaled, preds_unscaled)\n",
    "    return mae, r2\n"
   ]
  },
  {
   "cell_type": "code",
   "execution_count": 2,
   "metadata": {},
   "outputs": [],
   "source": [
    "non_qtaim_model_dict = {\n",
    "    \"atom_feature_size\": 16,\n",
    "    \"bond_feature_size\": 7,\n",
    "    \"global_feature_size\": 9,\n",
    "    \"conv_fn\": \"GraphConvDropoutBatch\",\n",
    "    \"target_dict\": {\"global\": [\"corrected_E\"]},\n",
    "    \"dropout\": 0,\n",
    "    \"batch_norm_tf\": True,\n",
    "    \"activation\": \"ReLU\",\n",
    "    \"bias\": True,\n",
    "    \"norm\": \"both\",\n",
    "    \"aggregate\": \"sum\",\n",
    "    \"n_conv_layers\": 3,\n",
    "    \"lr\": 0.00757866661159144,\n",
    "    \"weight_decay\": 1e-05,\n",
    "    \"lr_plateau_patience\": 50,\n",
    "    \"lr_scale_factor\": 0.75,\n",
    "    \"scheduler_name\": \"reduce_on_plateau\",\n",
    "    \"loss_fn\": \"mse\",\n",
    "    \"resid_n_graph_convs\": 3,\n",
    "    \"embedding_size\": 16,\n",
    "    \"fc_layer_size\": [256, 128],\n",
    "    \"fc_dropout\": 0,\n",
    "    \"fc_batch_norm\": False,\n",
    "    \"n_fc_layers\": 2,\n",
    "    \"global_pooling_fn\": \"Set2SetThenCat\",\n",
    "    \"ntypes_pool\": [\"atom\", \"bond\", \"global\"],\n",
    "    \"ntypes_pool_direct_cat\": [\"global\"],\n",
    "    \"lstm_iters\": 3,\n",
    "    \"lstm_layers\": 2,\n",
    "    \"num_heads\": 2,\n",
    "    \"feat_drop\": 0,\n",
    "    \"attn_drop\": 0,\n",
    "    \"residual\": False,\n",
    "    \"hidden_size\": 16,\n",
    "    \"ntasks\": 1,\n",
    "    \"num_heads_gat\": 2,\n",
    "    \"dropout_feat_gat\": 0,\n",
    "    \"dropout_attn_gat\": 0,\n",
    "    \"hidden_size_gat\": 16,\n",
    "    \"residual_gat\": False,\n",
    "    \"batch_norm\": True,\n",
    "    \"classifier\": False,\n",
    "    \"shape_fc\": \"cone\",\n",
    "    \"fc_hidden_size_1\": 256,\n",
    "    \"fc_num_layers\": 2,\n",
    "    \"restore\": False,\n",
    "    \"pooling_ntypes\": [\"atom\", \"bond\", \"global\"],\n",
    "    \"pooling_ntypes_direct\": [\"global\"],\n",
    "}\n"
   ]
  },
  {
   "cell_type": "code",
   "execution_count": 3,
   "metadata": {},
   "outputs": [
    {
     "name": "stdout",
     "output_type": "stream",
     "text": [
      ":::REGRESSION MODEL:::\n",
      "readout in size 80\n",
      "... > number of tasks: 1\n"
     ]
    }
   ],
   "source": [
    "from qtaim_embed.models.utils import load_graph_level_model_from_config\n",
    "\n",
    "model_temp = load_graph_level_model_from_config(non_qtaim_model_dict)\n"
   ]
  },
  {
   "cell_type": "code",
   "execution_count": 8,
   "metadata": {},
   "outputs": [
    {
     "name": "stderr",
     "output_type": "stream",
     "text": [
      "Using bfloat16 Automatic Mixed Precision (AMP)\n",
      "GPU available: True (cuda), used: True\n",
      "TPU available: False, using: 0 TPU cores\n",
      "IPU available: False, using: 0 IPUs\n",
      "HPU available: False, using: 0 HPUs\n",
      "/home/santiagovargas/anaconda3/envs/qtaim_embed/lib/python3.11/site-packages/pytorch_lightning/trainer/configuration_validator.py:71: PossibleUserWarning: You defined a `validation_step` but have no `val_dataloader`. Skipping val loop.\n",
      "  rank_zero_warn(\n",
      "LOCAL_RANK: 0 - CUDA_VISIBLE_DEVICES: [0,1]\n",
      "\n",
      "   | Name            | Type               | Params\n",
      "--------------------------------------------------------\n",
      "0  | activation      | ReLU               | 0     \n",
      "1  | embedding       | UnifySize          | 512   \n",
      "2  | conv_layers     | ModuleList         | 8.2 K \n",
      "3  | readout         | Set2SetThenCat     | 10.8 K\n",
      "4  | loss            | MeanSquaredError   | 0     \n",
      "5  | fc_layers       | ModuleList         | 53.8 K\n",
      "6  | train_r2        | MultioutputWrapper | 0     \n",
      "7  | train_torch_l1  | MultioutputWrapper | 0     \n",
      "8  | train_torch_mse | MultioutputWrapper | 0     \n",
      "9  | val_r2          | MultioutputWrapper | 0     \n",
      "10 | val_torch_l1    | MultioutputWrapper | 0     \n",
      "11 | val_torch_mse   | MultioutputWrapper | 0     \n",
      "12 | test_r2         | MultioutputWrapper | 0     \n",
      "13 | test_torch_l1   | MultioutputWrapper | 0     \n",
      "14 | test_torch_mse  | MultioutputWrapper | 0     \n",
      "--------------------------------------------------------\n",
      "73.2 K    Trainable params\n",
      "0         Non-trainable params\n",
      "73.2 K    Total params\n",
      "0.293     Total estimated model params size (MB)\n",
      "/home/santiagovargas/anaconda3/envs/qtaim_embed/lib/python3.11/site-packages/pytorch_lightning/trainer/connectors/data_connector.py:442: PossibleUserWarning: The dataloader, train_dataloader, does not have many workers which may be a bottleneck. Consider increasing the value of the `num_workers` argument` (try 32 which is the number of cpus on this machine) in the `DataLoader` init to improve performance.\n",
      "  rank_zero_warn(\n",
      "/home/santiagovargas/anaconda3/envs/qtaim_embed/lib/python3.11/site-packages/pytorch_lightning/loops/fit_loop.py:281: PossibleUserWarning: The number of training batches (7) is smaller than the logging interval Trainer(log_every_n_steps=50). Set a lower value for log_every_n_steps if you want to see logs for the training epoch.\n",
      "  rank_zero_warn(\n"
     ]
    },
    {
     "data": {
      "application/vnd.jupyter.widget-view+json": {
       "model_id": "ab810b0e82f548c6abfbe548d9bf8c8f",
       "version_major": 2,
       "version_minor": 0
      },
      "text/plain": [
       "Training: 0it [00:00, ?it/s]"
      ]
     },
     "metadata": {},
     "output_type": "display_data"
    },
    {
     "name": "stdout",
     "output_type": "stream",
     "text": [
      "Epoch 00052: reducing learning rate of group 0 to 5.6840e-03.\n",
      "Epoch 00103: reducing learning rate of group 0 to 4.2630e-03.\n",
      "Epoch 00154: reducing learning rate of group 0 to 3.1972e-03.\n"
     ]
    },
    {
     "name": "stderr",
     "output_type": "stream",
     "text": [
      "`Trainer.fit` stopped: `max_epochs=200` reached.\n"
     ]
    }
   ],
   "source": [
    "import pytorch_lightning as pl\n",
    "\n",
    "trainer = pl.Trainer(\n",
    "    max_epochs=200,\n",
    "    accelerator=\"gpu\",\n",
    "    gradient_clip_val=2.0,\n",
    "    devices=1,\n",
    "    accumulate_grad_batches=1,\n",
    "    enable_progress_bar=True,\n",
    "    enable_checkpointing=True,\n",
    "    strategy=\"auto\",\n",
    "    # default_root_dir=model_save_string,\n",
    "    default_root_dir=\"./test/\",\n",
    "    precision=\"bf16-mixed\",\n",
    ")\n",
    "\n",
    "trainer.fit(model_temp, dataloader_train)\n"
   ]
  },
  {
   "cell_type": "code",
   "execution_count": 23,
   "metadata": {},
   "outputs": [
    {
     "name": "stdout",
     "output_type": "stream",
     "text": [
      "Mean MAE(meV/Atom) 21.938033401966095\n",
      "Mean MSE(meV/Atom) 8.427459746599197\n",
      "r2:  tensor([0.9947])\n"
     ]
    }
   ],
   "source": [
    "scaler_list = dataset_test_base.label_scalers\n",
    "batch_graph, batch_label = next(iter(dataloader_train))\n",
    "mean_mae, mean_mse, preds_unscaled, labels_unscaled = model_temp.evaluate_manually(\n",
    "    batch_graph, batch_label, scaler_list, per_atom=True\n",
    ")\n",
    "print(\"Mean MAE(meV/Atom)\", 1000 * mean_mae.detach().cpu().numpy())\n",
    "print(\"Mean MSE(meV/Atom)\", 1000 * mean_mse.detach().cpu().numpy())\n",
    "\n",
    "(\n",
    "    r2_val,\n",
    "    mae_val,\n",
    "    mse_val,\n",
    "    preds_unscaled,\n",
    "    labels_unscaled,\n",
    ") = model_temp.evaluate_manually(batch_graph, batch_label, scaler_list, per_atom=False)\n",
    "print(\"r2: \", r2_val)\n"
   ]
  },
  {
   "cell_type": "code",
   "execution_count": 42,
   "metadata": {},
   "outputs": [
    {
     "name": "stdout",
     "output_type": "stream",
     "text": [
      "torch.Size([256, 1])\n",
      "torch.Size([256, 1])\n",
      "torch.Size([256, 1]) torch.Size([256])\n",
      "Mean MAE(meV/Atom) 21.938033401966095\n",
      "Mean RMSE(meV/Atom) 91.80119633674622\n",
      "Mean EWT 0.88671875\n"
     ]
    }
   ],
   "source": [
    "from copy import deepcopy\n",
    "\n",
    "preds = model_temp.forward(batch_graph, batch_graph.ndata[\"feat\"])\n",
    "\n",
    "preds_unscaled = deepcopy(preds.detach())\n",
    "labels_unscaled = deepcopy(batch_label)\n",
    "# print(\"preds unscaled\", preds_unscaled)  # * this looks good\n",
    "# print(\"labels unscaled\", labels_unscaled)  # * this looks good\n",
    "for scaler in scaler_list:\n",
    "    labels_unscaled = scaler.inverse_feats(labels_unscaled)\n",
    "    preds_unscaled = scaler.inverse_feats({\"global\": preds_unscaled})\n",
    "\n",
    "preds_unscaled = preds_unscaled[\"global\"].view(-1, model_temp.hparams.ntasks)\n",
    "labels_unscaled = labels_unscaled[\"global\"].view(-1, model_temp.hparams.ntasks)\n",
    "abs_diff = torch.abs(preds_unscaled - labels_unscaled)\n",
    "print(abs_diff.shape)\n",
    "abs_diff = abs_diff.view(-1, model_temp.hparams.ntasks)\n",
    "print(abs_diff.shape)\n",
    "n_atoms = batch_graph.batch_num_nodes(\"atom\")\n",
    "n_mols = batch_graph.batch_size\n",
    "abs_diff = abs_diff.view(n_mols, -1)\n",
    "print(abs_diff.shape, n_atoms.shape)\n",
    "# print(abs_diff.shape)\n",
    "# mae per atom\n",
    "mae_per_atom = torch.sum(abs_diff, dim=1) / n_atoms\n",
    "# print binary mask of where the mae per atom is less than 0.043\n",
    "ewt_prop = torch.sum(mae_per_atom < 0.043) / len(mae_per_atom)\n",
    "# mse per atom\n",
    "mse_per_atom = torch.sum(abs_diff**2, dim=1) / n_atoms\n",
    "# print(mse_per_atom.shape)\n",
    "mean_mae = torch.mean(mae_per_atom)\n",
    "mean_mse = torch.sqrt(torch.mean(mse_per_atom))\n",
    "# return mean_mae, mean_mse, preds_unscaled, labels_unscaled\n",
    "print(\"Mean MAE(meV/Atom)\", 1000 * mean_mae.detach().cpu().numpy())\n",
    "print(\"Mean RMSE(meV/Atom)\", 1000 * mean_mse.detach().cpu().numpy())\n",
    "print(\"Mean EWT\", ewt_prop.detach().cpu().numpy())\n"
   ]
  },
  {
   "cell_type": "markdown",
   "metadata": {},
   "source": [
    "# QM9\n"
   ]
  },
  {
   "cell_type": "code",
   "execution_count": 6,
   "metadata": {},
   "outputs": [
    {
     "name": "stdout",
     "output_type": "stream",
     "text": [
      "../../../data/splits_1205/qm9_qtaim_1205_labelled.pkl\n",
      "../../../data/splits_1205/qm9_qtaim_1205.pkl\n",
      "../../../data/splits_1205/test_qm9_1205_large.pkl\n",
      "../../../data/splits_1205/test_qm9_1205_small.pkl\n",
      "../../../data/splits_1205/test_qm9_qtaim_1205_labelled.pkl\n",
      "../../../data/splits_1205/train_qm9_1205_large.pkl\n",
      "../../../data/splits_1205/train_qm9_1205_small.pkl\n",
      "../../../data/splits_1205/train_qm9_qtaim_1205_labelled_100000.pkl\n",
      "../../../data/splits_1205/train_qm9_qtaim_1205_labelled_10000.pkl\n",
      "../../../data/splits_1205/train_qm9_qtaim_1205_labelled_1000.pkl\n",
      "../../../data/splits_1205/train_qm9_qtaim_1205_labelled_100.pkl\n",
      "../../../data/splits_1205/train_qm9_qtaim_1205_labelled_10.pkl\n",
      "../../../data/splits_1205/train_qm9_qtaim_1205_labelled.pkl\n"
     ]
    }
   ],
   "source": [
    "import pandas as pd\n",
    "import os \n",
    "! ls ../../../data/splits_1205/*qm9*\n",
    "\n",
    "folder_loc = \"../../../data/splits_1205/\"\n",
    "loc_qm9 = \"../../../data/splits_1205/qm9_qtaim_1205_labelled.pkl\"\n",
    "qm9_full = pd.read_pickle(loc_qm9)\n",
    "# get all datasets with libe in the name \n",
    "datasets_update = [x for x in os.listdir(folder_loc) if \"qm9\" in x]"
   ]
  },
  {
   "cell_type": "code",
   "execution_count": 14,
   "metadata": {},
   "outputs": [],
   "source": [
    "def get_elem_list(molecule):\n",
    "    return [site.specie for site in molecule.sites]\n",
    "\n",
    "\n",
    "elem_to_int = {\n",
    "    \"H\": 1,\n",
    "    \"He\": 2,\n",
    "    \"Li\": 3,\n",
    "    \"Be\": 4,\n",
    "    \"B\": 5,\n",
    "    \"C\": 6,\n",
    "    \"N\": 7,\n",
    "    \"O\": 8,\n",
    "    \"F\": 9,\n",
    "    \"S\": 16,\n",
    "    \"P\": 15,\n",
    "    \"Ne\": 10,\n",
    "    \"Mg\": 12,\n",
    "}\n",
    "\n",
    "\n",
    "# function to solve for the target values attributable to any given element\n",
    "def target_references(coeff_matrix, df):\n",
    "    sol_matrix = np.zeros(len(df))\n",
    "    for i in range(len(df)):\n",
    "        # sol_matrix[i] = dataset[i].y_relaxed  # todo\n",
    "        sol_matrix[i] = df.iloc[i].u0\n",
    "    sol_matrix = sol_matrix.T\n",
    "    vars = np.linalg.solve(coeff_matrix.T @ coeff_matrix, coeff_matrix.T @ sol_matrix)\n",
    "    return vars\n",
    "\n",
    "\n",
    "# function to subtract off target values attributable to each individual element\n",
    "def target_correction(coeff_matrix, target_references, df):\n",
    "    df_ret = deepcopy(df)\n",
    "    print(\"Correcting targets\")\n",
    "    debug_list = []\n",
    "    # for i in trange(len(dataset)):\n",
    "    for i in range(len(df_ret)):\n",
    "        data = df_ret.iloc[i]\n",
    "        reference_target = coeff_matrix[i, :] @ target_references\n",
    "        corrected_target = data.u0 - reference_target  # todo\n",
    "        # overwrite the target values with the corrected values\n",
    "        debug_list.append(corrected_target)\n",
    "        # df_ret.iloc[i].shifted_rrho_ev_free_energy = corrected_target\n",
    "        # new_dataset.append(data)\n",
    "    df_ret[\"corrected_E\"] = debug_list\n",
    "    return df_ret, debug_list\n",
    "    # return debug_list\n"
   ]
  },
  {
   "cell_type": "code",
   "execution_count": 15,
   "metadata": {},
   "outputs": [
    {
     "name": "stdout",
     "output_type": "stream",
     "text": [
      "Calculating elements present in dataset\n"
     ]
    },
    {
     "name": "stderr",
     "output_type": "stream",
     "text": [
      "133848it [00:03, 40405.59it/s]\n",
      "100%|██████████| 133848/133848 [00:05<00:00, 22768.80it/s]\n"
     ]
    },
    {
     "name": "stdout",
     "output_type": "stream",
     "text": [
      "Correcting targets\n"
     ]
    }
   ],
   "source": [
    "elems_present_qm9 = elem_present(qm9_full)\n",
    "matrix = coeff_matrix_func(elems_present_qm9, qm9_full)\n",
    "target_refs_qm9 = target_references(matrix, qm9_full)\n",
    "df_ret, debug_list = target_correction(matrix, target_refs_qm9, qm9_full)\n",
    "# overwrite pickle with new one\n",
    "# df_ret.to_pickle(\"../../../data/splits_1205/qm9_qtaim_1205_labelled_corrected.pkl\")\n"
   ]
  },
  {
   "cell_type": "code",
   "execution_count": 16,
   "metadata": {},
   "outputs": [
    {
     "name": "stdout",
     "output_type": "stream",
     "text": [
      "[1, 6, 7, 8, 9]\n",
      "[ -0.60381529 -38.0739702  -54.74928931 -75.2254792  -99.86669125]\n"
     ]
    }
   ],
   "source": [
    "print(elems_present_qm9)\n",
    "print(target_refs_qm9)\n"
   ]
  },
  {
   "cell_type": "code",
   "execution_count": 17,
   "metadata": {},
   "outputs": [],
   "source": [
    "df_ret.to_pickle(\"../../../data/splits_1205/qm9_qtaim_1205_labelled_corrected.pkl\")\n"
   ]
  },
  {
   "cell_type": "code",
   "execution_count": 18,
   "metadata": {},
   "outputs": [
    {
     "data": {
      "image/png": "[encoded data removed]",
      "text/plain": [
       "<Figure size 640x480 with 1 Axes>"
      ]
     },
     "metadata": {},
     "output_type": "display_data"
    }
   ],
   "source": [
    "# plot histogram of corrected target values\n",
    "import matplotlib.pyplot as plt\n",
    "\n",
    "plt.hist(debug_list, bins=100)\n",
    "plt.title(\"Corrected target values - QM9\")\n",
    "plt.xlabel(\"Corrected target value\")\n",
    "plt.ylabel(\"Frequency\")\n",
    "# plt.show()\n",
    "# save figu\n",
    "plt.savefig(\"corrected_target_hist_qm9.png\")\n"
   ]
  },
  {
   "cell_type": "code",
   "execution_count": 19,
   "metadata": {},
   "outputs": [
    {
     "name": "stdout",
     "output_type": "stream",
     "text": [
      "test_qm9_1205_small.pkl (398, 62)\n"
     ]
    },
    {
     "name": "stderr",
     "output_type": "stream",
     "text": [
      "100%|██████████| 398/398 [00:00<00:00, 26377.60it/s]"
     ]
    },
    {
     "name": "stdout",
     "output_type": "stream",
     "text": [
      "Correcting targets\n"
     ]
    },
    {
     "name": "stderr",
     "output_type": "stream",
     "text": [
      "\n"
     ]
    },
    {
     "name": "stdout",
     "output_type": "stream",
     "text": [
      "qm9_qtaim_1205.pkl (133848, 51)\n"
     ]
    },
    {
     "name": "stderr",
     "output_type": "stream",
     "text": [
      "100%|██████████| 133848/133848 [00:07<00:00, 18874.46it/s]\n"
     ]
    },
    {
     "name": "stdout",
     "output_type": "stream",
     "text": [
      "Correcting targets\n",
      "train_qm9_qtaim_1205_labelled_100.pkl (100, 61)\n"
     ]
    },
    {
     "name": "stderr",
     "output_type": "stream",
     "text": [
      "100%|██████████| 100/100 [00:00<00:00, 16319.61it/s]"
     ]
    },
    {
     "name": "stdout",
     "output_type": "stream",
     "text": [
      "Correcting targets\n"
     ]
    },
    {
     "name": "stderr",
     "output_type": "stream",
     "text": [
      "\n"
     ]
    },
    {
     "name": "stdout",
     "output_type": "stream",
     "text": [
      "train_qm9_qtaim_1205_labelled_100000.pkl (100000, 61)\n"
     ]
    },
    {
     "name": "stderr",
     "output_type": "stream",
     "text": [
      "100%|██████████| 100000/100000 [00:04<00:00, 20014.67it/s]\n"
     ]
    },
    {
     "name": "stdout",
     "output_type": "stream",
     "text": [
      "Correcting targets\n",
      "train_qm9_qtaim_1205_labelled_10.pkl (10, 61)\n"
     ]
    },
    {
     "name": "stderr",
     "output_type": "stream",
     "text": [
      "100%|██████████| 10/10 [00:00<00:00, 11768.53it/s]"
     ]
    },
    {
     "name": "stdout",
     "output_type": "stream",
     "text": [
      "Correcting targets\n"
     ]
    },
    {
     "name": "stderr",
     "output_type": "stream",
     "text": [
      "\n"
     ]
    },
    {
     "name": "stdout",
     "output_type": "stream",
     "text": [
      "train_qm9_qtaim_1205_labelled_1000.pkl (1000, 61)\n"
     ]
    },
    {
     "name": "stderr",
     "output_type": "stream",
     "text": [
      "100%|██████████| 1000/1000 [00:00<00:00, 19275.91it/s]\n"
     ]
    },
    {
     "name": "stdout",
     "output_type": "stream",
     "text": [
      "Correcting targets\n",
      "train_qm9_1205_small.pkl (3921, 62)\n"
     ]
    },
    {
     "name": "stderr",
     "output_type": "stream",
     "text": [
      "100%|██████████| 3921/3921 [00:00<00:00, 22617.01it/s]"
     ]
    },
    {
     "name": "stdout",
     "output_type": "stream",
     "text": [
      "Correcting targets\n"
     ]
    },
    {
     "name": "stderr",
     "output_type": "stream",
     "text": [
      "\n"
     ]
    },
    {
     "name": "stdout",
     "output_type": "stream",
     "text": [
      "test_qm9_qtaim_1205_labelled.pkl (13385, 61)\n"
     ]
    },
    {
     "name": "stderr",
     "output_type": "stream",
     "text": [
      "100%|██████████| 13385/13385 [00:00<00:00, 18428.33it/s]\n"
     ]
    },
    {
     "name": "stdout",
     "output_type": "stream",
     "text": [
      "Correcting targets\n",
      "train_qm9_qtaim_1205_labelled.pkl (120463, 61)\n"
     ]
    },
    {
     "name": "stderr",
     "output_type": "stream",
     "text": [
      "100%|██████████| 120463/120463 [00:05<00:00, 21058.79it/s]\n"
     ]
    },
    {
     "name": "stdout",
     "output_type": "stream",
     "text": [
      "Correcting targets\n",
      "train_qm9_1205_large.pkl (116542, 62)\n"
     ]
    },
    {
     "name": "stderr",
     "output_type": "stream",
     "text": [
      "100%|██████████| 116542/116542 [00:05<00:00, 21736.88it/s]\n"
     ]
    },
    {
     "name": "stdout",
     "output_type": "stream",
     "text": [
      "Correcting targets\n",
      "test_qm9_1205_large.pkl (12987, 62)\n"
     ]
    },
    {
     "name": "stderr",
     "output_type": "stream",
     "text": [
      "100%|██████████| 12987/12987 [00:00<00:00, 19125.99it/s]\n"
     ]
    },
    {
     "name": "stdout",
     "output_type": "stream",
     "text": [
      "Correcting targets\n",
      "qm9_qtaim_1205_labelled.pkl (133848, 61)\n"
     ]
    },
    {
     "name": "stderr",
     "output_type": "stream",
     "text": [
      "100%|██████████| 133848/133848 [00:06<00:00, 20649.46it/s]\n"
     ]
    },
    {
     "name": "stdout",
     "output_type": "stream",
     "text": [
      "Correcting targets\n",
      "train_qm9_qtaim_1205_labelled_10000.pkl (10000, 61)\n"
     ]
    },
    {
     "name": "stderr",
     "output_type": "stream",
     "text": [
      "100%|██████████| 10000/10000 [00:00<00:00, 18536.34it/s]\n"
     ]
    },
    {
     "name": "stdout",
     "output_type": "stream",
     "text": [
      "Correcting targets\n"
     ]
    }
   ],
   "source": [
    "failed_datasets = []\n",
    "# iterate through all datasets and correct them\n",
    "for dataset in datasets_update:\n",
    "    try:\n",
    "        dataset_loc = folder_loc + dataset\n",
    "        dataset_df = pd.read_pickle(dataset_loc)\n",
    "        print(dataset, dataset_df.shape)\n",
    "        #elems_present = elem_present(dataset_df)\n",
    "        matrix = coeff_matrix_func(elems_present_qm9, dataset_df)\n",
    "        # target_refs = target_references(matrix, dataset_df)\n",
    "        df_ret, debug_list = target_correction(matrix, target_refs_qm9, dataset_df)\n",
    "        # overwrite pickle with new one\n",
    "        dataset_loc_new = dataset_loc.replace(\".pkl\", \"_corrected.pkl\")\n",
    "        df_ret.to_pickle(dataset_loc_new)\n",
    "    except:\n",
    "        failed_datasets.append(dataset)\n"
   ]
  },
  {
   "cell_type": "code",
   "execution_count": 20,
   "metadata": {},
   "outputs": [
    {
     "data": {
      "text/plain": [
       "['qm9_qtaim_1205.pkl']"
      ]
     },
     "execution_count": 20,
     "metadata": {},
     "output_type": "execute_result"
    }
   ],
   "source": [
    "failed_datasets"
   ]
  },
  {
   "cell_type": "markdown",
   "metadata": {},
   "source": [
    "# TMQM Correction\n"
   ]
  },
  {
   "cell_type": "code",
   "execution_count": 4,
   "metadata": {},
   "outputs": [
    {
     "name": "stdout",
     "output_type": "stream",
     "text": [
      "/home/santiagovargas/Downloads/TMCs_qtaim.pkl\n"
     ]
    }
   ],
   "source": [
    "import pandas as pd\n",
    "import os\n",
    "! ls ~/Downloads/TMCs_qtaim.pkl\n",
    "\n",
    "folder_loc = \"~/Downloads/\"\n",
    "loc_qm9 = \"~/Downloads/TMCs_qtaim.pkl\"\n",
    "qm9_full = pd.read_pickle(loc_qm9)\n",
    "\n",
    "# get all datasets with libe in the name\n",
    "\n",
    "#datasets_update = [x for x in os.listdir(folder_loc) if \"qm9\" in x]\n"
   ]
  },
  {
   "cell_type": "code",
   "execution_count": 7,
   "metadata": {},
   "outputs": [
    {
     "data": {
      "text/plain": [
       "Index(['molecule', 'molecule_graph', 'bonds', 'charge', 'molecular_mass',\n",
       "       'xyz_file', 'ids', 'n_atoms', 'n_electrons', 'tzvp_lumo_energy',\n",
       "       'tzvp_homo_energy', 'tzvp_homo_lumo_gap', 'homo_lumo_gap_delta',\n",
       "       'tzvp_electronic_energy', 'electronic_energy_delta',\n",
       "       'tzvp_dispersion_energy', 'dispersion_energy_delta', 'enthalpy_energy',\n",
       "       'enthalpy_energy_correction', 'gibbs_energy', 'gibbs_energy_correction',\n",
       "       'zpe_correction', 'heat_capacity', 'entropy', 'tzvp_dipole_moment',\n",
       "       'dipole_moment_delta', 'polarisability', 'lowest_vibrational_frequency',\n",
       "       'highest_vibrational_frequency', 'extra_feat_atom_Lagrangian_K',\n",
       "       'extra_feat_atom_Hamiltonian_K', 'extra_feat_atom_energy_density',\n",
       "       'extra_feat_atom_lap_e_density', 'extra_feat_atom_e_loc_func',\n",
       "       'extra_feat_atom_ave_loc_ion_E', 'extra_feat_atom_delta_g_promolecular',\n",
       "       'extra_feat_atom_delta_g_hirsh', 'extra_feat_atom_esp_nuc',\n",
       "       'extra_feat_atom_esp_e', 'extra_feat_atom_esp_total',\n",
       "       'extra_feat_atom_grad_norm', 'extra_feat_atom_lap_norm',\n",
       "       'extra_feat_atom_eig_hess', 'extra_feat_atom_det_hessian',\n",
       "       'extra_feat_atom_ellip_e_dens', 'extra_feat_atom_eta',\n",
       "       'extra_feat_atom_density_beta', 'extra_feat_atom_density_alpha',\n",
       "       'extra_feat_atom_spin_density', 'extra_feat_atom_lol',\n",
       "       'extra_feat_bond_Lagrangian_K', 'extra_feat_bond_Hamiltonian_K',\n",
       "       'extra_feat_bond_energy_density', 'extra_feat_bond_lap_e_density',\n",
       "       'extra_feat_bond_e_loc_func', 'extra_feat_bond_ave_loc_ion_E',\n",
       "       'extra_feat_bond_delta_g_promolecular', 'extra_feat_bond_delta_g_hirsh',\n",
       "       'extra_feat_bond_esp_nuc', 'extra_feat_bond_esp_e',\n",
       "       'extra_feat_bond_esp_total', 'extra_feat_bond_grad_norm',\n",
       "       'extra_feat_bond_lap_norm', 'extra_feat_bond_eig_hess',\n",
       "       'extra_feat_bond_det_hessian', 'extra_feat_bond_ellip_e_dens',\n",
       "       'extra_feat_bond_eta', 'extra_feat_bond_density_beta',\n",
       "       'extra_feat_bond_density_alpha', 'extra_feat_bond_spin_density',\n",
       "       'extra_feat_bond_lol', 'extra_feat_bond_indices_qtaim',\n",
       "       'bonds_original'],\n",
       "      dtype='object')"
      ]
     },
     "execution_count": 7,
     "metadata": {},
     "output_type": "execute_result"
    }
   ],
   "source": [
    "qm9_full.tzvp_electronic_energy"
   ]
  },
  {
   "cell_type": "code",
   "execution_count": 82,
   "metadata": {},
   "outputs": [],
   "source": [
    "def get_elem_list(molecule):\n",
    "    return [site.specie for site in molecule.sites]\n",
    "\n",
    "\n",
    "elem_to_int = {\n",
    "    \"H\": 1,\n",
    "    \"He\": 2,\n",
    "    \"Li\": 3,\n",
    "    \"Be\": 4,\n",
    "    \"B\": 5,\n",
    "    \"C\": 6,\n",
    "    \"N\": 7,\n",
    "    \"O\": 8,\n",
    "    \"F\": 9,\n",
    "    \"S\": 16,\n",
    "    \"P\": 15,\n",
    "    \"Ne\": 10,\n",
    "    \"Mg\": 12,\n",
    "    \"Hf\": 72,\n",
    "    \"As\": 33,\n",
    "    \"Ru\": 44, \n",
    "    \"Cl\": 17,\n",
    "    \"Zn\": 30,\n",
    "    \"Cu\": 29,\n",
    "    \"Pt\": 78,\n",
    "    \"Fe\": 26,\n",
    "    \"Re\": 75,\n",
    "    \"Ti\": 22,\n",
    "    \"Pd\": 46,\n",
    "    \"Au\": 79,\n",
    "    \"Si\": 14,\n",
    "    \"Cr\": 24,\n",
    "    \"Ni\": 28,\n",
    "    \"Co\": 27,\n",
    "    \"Hg\": 80,\n",
    "    \"Ir\": 77,\n",
    "    \"W\": 74,\n",
    "    \"Rh\": 45,\n",
    "    \"Cd\": 48,\n",
    "    \"Mo\": 42,\n",
    "    \"Br\": 35,\n",
    "    \"I\": 53,\n",
    "    \"Se\": 34,\n",
    "    \"V\": 23,\n",
    "    \"Zr\": 40,\n",
    "    \"Ag\": 47,\n",
    "    \"Mn\": 25,\n",
    "    \"Nb\": 41,\n",
    "    \"Sc\": 21,\n",
    "    \"Y\": 39,\n",
    "    \"Os\": 76,\n",
    "    \"Ta\": 73,\n",
    "    \"Tc\": 43,\n",
    "    \"La\": 57\n",
    "}\n",
    "\n",
    "\n",
    "# function to solve for the target values attributable to any given element\n",
    "def target_references(coeff_matrix, df):\n",
    "    sol_matrix = np.zeros(len(df))\n",
    "    for i in range(len(df)):\n",
    "        # sol_matrix[i] = dataset[i].y_relaxed  # todo\n",
    "        sol_matrix[i] = df.iloc[i].tzvp_electronic_energy # update\n",
    "    sol_matrix = sol_matrix.T\n",
    "    vars = np.linalg.solve(coeff_matrix.T @ coeff_matrix, coeff_matrix.T @ sol_matrix)\n",
    "    return vars\n",
    "\n",
    "\n",
    "# function to subtract off target values attributable to each individual element\n",
    "def target_correction(coeff_matrix, target_references, df):\n",
    "    df_ret = deepcopy(df)\n",
    "    print(\"Correcting targets\")\n",
    "    debug_list = []\n",
    "    # for i in trange(len(dataset)):\n",
    "    for i in range(len(df_ret)):\n",
    "        data = df_ret.iloc[i]\n",
    "        reference_target = coeff_matrix[i, :] @ target_references\n",
    "        corrected_target = data.tzvp_electronic_energy - reference_target  # update\n",
    "        # overwrite the target values with the corrected values\n",
    "        debug_list.append(corrected_target)\n",
    "        # df_ret.iloc[i].shifted_rrho_ev_free_energy = corrected_target\n",
    "        # new_dataset.append(data)\n",
    "    df_ret[\"corrected_E\"] = debug_list\n",
    "    return df_ret, debug_list\n",
    "    # return debug_list\n"
   ]
  },
  {
   "cell_type": "code",
   "execution_count": 83,
   "metadata": {},
   "outputs": [
    {
     "name": "stdout",
     "output_type": "stream",
     "text": [
      "Calculating elements present in dataset\n"
     ]
    },
    {
     "name": "stderr",
     "output_type": "stream",
     "text": [
      "57568it [00:02, 21760.55it/s]\n",
      "100%|██████████| 57568/57568 [00:08<00:00, 7024.36it/s]\n"
     ]
    },
    {
     "name": "stdout",
     "output_type": "stream",
     "text": [
      "Correcting targets\n"
     ]
    }
   ],
   "source": [
    "elems_present_qm9 = elem_present(qm9_full)\n",
    "matrix = coeff_matrix_func(elems_present_qm9, qm9_full)\n",
    "target_refs_qm9 = target_references(matrix, qm9_full)\n",
    "df_ret, debug_list = target_correction(matrix, target_refs_qm9, qm9_full)"
   ]
  },
  {
   "cell_type": "code",
   "execution_count": 84,
   "metadata": {},
   "outputs": [
    {
     "name": "stdout",
     "output_type": "stream",
     "text": [
      "[1, 5, 6, 7, 8, 9, 14, 15, 16, 17, 21, 22, 23, 24, 25, 26, 27, 28, 29, 30, 33, 34, 35, 39, 40, 41, 42, 43, 44, 45, 46, 47, 48, 53, 57, 72, 73, 74, 75, 76, 77, 78, 79, 80]\n",
      "[-6.01063039e-01 -2.48516751e+01 -3.80776361e+01 -5.47125995e+01\n",
      " -7.51869894e+01 -9.97966426e+01 -2.89443529e+02 -3.41270378e+02\n",
      " -3.98089551e+02 -4.60107555e+02 -7.60596988e+02 -8.49364765e+02\n",
      " -9.43870392e+02 -1.04425352e+03 -1.15075620e+03 -1.26347156e+03\n",
      " -1.38248877e+03 -1.50809580e+03 -1.64022931e+03 -1.77916929e+03\n",
      " -2.23563332e+03 -2.40130198e+03 -2.57390380e+03 -3.84148663e+01\n",
      " -4.71516244e+01 -5.70616705e+01 -6.82606648e+01 -8.08248687e+01\n",
      " -9.48935165e+01 -1.10543645e+02 -1.27888822e+02 -1.46880937e+02\n",
      " -1.67732457e+02 -2.97781367e+02 -3.16079259e+01 -4.81245941e+01\n",
      " -5.71015909e+01 -6.71445701e+01 -7.83523487e+01 -9.06854993e+01\n",
      " -1.04376966e+02 -1.19349347e+02 -1.35684545e+02 -1.53421480e+02]\n"
     ]
    }
   ],
   "source": [
    "print(elems_present_qm9)\n",
    "print(target_refs_qm9)\n"
   ]
  },
  {
   "cell_type": "code",
   "execution_count": 85,
   "metadata": {},
   "outputs": [
    {
     "data": {
      "image/png": "[encoded data removed]",
      "text/plain": [
       "<Figure size 640x480 with 1 Axes>"
      ]
     },
     "metadata": {},
     "output_type": "display_data"
    }
   ],
   "source": [
    "# plot histogram of corrected target values\n",
    "import matplotlib.pyplot as plt\n",
    "\n",
    "plt.hist(debug_list, bins=100)\n",
    "plt.title(\"Corrected target values - TMQM\")\n",
    "plt.xlabel(\"Corrected target value\")\n",
    "plt.ylabel(\"Frequency\")\n",
    "# plt.show()\n",
    "# save figu\n",
    "plt.savefig(\"corrected_target_hist_tmqm.png\")\n"
   ]
  },
  {
   "cell_type": "code",
   "execution_count": 87,
   "metadata": {},
   "outputs": [],
   "source": [
    "#loc_qm9\n",
    "\n",
    "loc_qm9_new = loc_qm9.replace(\".pkl\", \"_corrected.pkl\")\n",
    "df_ret.to_pickle(loc_qm9_new)"
   ]
  },
  {
   "cell_type": "markdown",
   "metadata": {},
   "source": [
    "~\n"
   ]
  }
 ],
 "metadata": {
  "kernelspec": {
   "display_name": "qtaim_embed",
   "language": "python",
   "name": "python3"
  },
  "language_info": {
   "codemirror_mode": {
    "name": "ipython",
    "version": 3
   },
   "file_extension": ".py",
   "mimetype": "text/x-python",
   "name": "python",
   "nbconvert_exporter": "python",
   "pygments_lexer": "ipython3",
   "version": "3.11.3"
  },
  "orig_nbformat": 4
 },
 "nbformat": 4,
 "nbformat_minor": 2
}
