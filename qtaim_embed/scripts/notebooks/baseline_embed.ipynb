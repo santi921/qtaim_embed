{
 "cells": [
  {
   "cell_type": "code",
   "execution_count": 1,
   "metadata": {},
   "outputs": [
    {
     "ename": "ModuleNotFoundError",
     "evalue": "No module named 'karateclub'",
     "output_type": "error",
     "traceback": [
      "\u001b[0;31m---------------------------------------------------------------------------\u001b[0m",
      "\u001b[0;31mModuleNotFoundError\u001b[0m                       Traceback (most recent call last)",
      "Cell \u001b[0;32mIn[1], line 4\u001b[0m\n\u001b[1;32m      2\u001b[0m \u001b[39mimport\u001b[39;00m \u001b[39mdgl\u001b[39;00m\n\u001b[1;32m      3\u001b[0m \u001b[39mimport\u001b[39;00m \u001b[39mnetworkx\u001b[39;00m \u001b[39mas\u001b[39;00m \u001b[39mnx\u001b[39;00m\n\u001b[0;32m----> 4\u001b[0m \u001b[39mfrom\u001b[39;00m \u001b[39mkarateclub\u001b[39;00m \u001b[39mimport\u001b[39;00m FeatherGraph, Graph2Vec, GL2Vec, WaveletCharacteristic\n",
      "\u001b[0;31mModuleNotFoundError\u001b[0m: No module named 'karateclub'"
     ]
    }
   ],
   "source": [
    "import pandas as pd\n",
    "import dgl\n",
    "import networkx as nx\n",
    "from karateclub import FeatherGraph, Graph2Vec, GL2Vec, WaveletCharacteristic"
   ]
  },
  {
   "cell_type": "code",
   "execution_count": null,
   "metadata": {},
   "outputs": [],
   "source": [
    "file = \"/home/santiagovargas/dev/qtaim_generator/data/xyz/molecule_complete.pkl\"\n",
    "df = pd.read_pickle(file)\n",
    "names_list = list(df.names)"
   ]
  },
  {
   "cell_type": "code",
   "execution_count": null,
   "metadata": {},
   "outputs": [],
   "source": [
    "dict_base = {}\n",
    "for name in names_list:\n",
    "    basename = name[:-14]\n",
    "    # print(basename)\n",
    "    if basename not in dict_base.keys():\n",
    "        dict_base[basename] = {\"names\": [], \"graphs\": {}}\n",
    "    dict_base[basename][\"names\"].append(name)\n",
    "\n",
    "# sort each list\n",
    "\n",
    "for keys in dict_base.keys():\n",
    "    dict_base[keys][\"names\"].sort()\n",
    "\n",
    "for keys in dict_base.keys():\n",
    "    if len(dict_base[keys][\"names\"]) > 2:\n",
    "        # remove all but the first and last\n",
    "        dict_base[keys][\"names\"] = [\n",
    "            dict_base[keys][\"names\"][0],\n",
    "            dict_base[keys][\"names\"][-1],\n",
    "        ]\n",
    "\n",
    "# filter df to only have rows with names in the list\n",
    "df = df[\n",
    "    df.names.isin([item for sublist in dict_base.values() for item in sublist[\"names\"]])\n",
    "]"
   ]
  },
  {
   "cell_type": "code",
   "execution_count": null,
   "metadata": {},
   "outputs": [
    {
     "data": {
      "text/plain": [
       "'def featurize(self, g, row, ret_feat_names=False, **kwargs):\\n    if self.atom_featurizer is not None:\\n        feat_dict, feat_atom = self.atom_featurizer(row, **kwargs)\\n        g.nodes[\"atom\"].data.update(feat_dict)\\n\\n    if self.bond_featurizer is not None:\\n        feat_dict, feat_bond = self.bond_featurizer(row, **kwargs)\\n        g.nodes[\"bond\"].data.update(feat_dict)\\n\\n    if ret_feat_names:\\n        feat_names = {}\\n        feat_names[\"atom\"] = [feat_atom]\\n        feat_names[\"bond\"] = [feat_bond]\\n        return g, feat_names\\n\\n    return g'"
      ]
     },
     "execution_count": 4,
     "metadata": {},
     "output_type": "execute_result"
    }
   ],
   "source": [
    "def build_graph(row, self_loop=True):\n",
    "    bonds = list(row[\"bonds\"])\n",
    "    num_bonds = len(bonds)\n",
    "    num_atoms = len(row[\"molecule_graph\"])\n",
    "\n",
    "    a2b = []\n",
    "    b2a = []\n",
    "    if num_bonds == 0:\n",
    "        num_bonds = 1\n",
    "        a2b = [(0, 0)]\n",
    "        b2a = [(0, 0)]\n",
    "\n",
    "    else:\n",
    "        a2b = []\n",
    "        b2a = []\n",
    "        for b in range(num_bonds):\n",
    "            u = bonds[b][0]\n",
    "            v = bonds[b][1]\n",
    "            b2a.extend([[b, u], [b, v]])\n",
    "            a2b.extend([[u, b], [v, b]])\n",
    "\n",
    "    a2g = [(a, 0) for a in range(num_atoms)]\n",
    "    g2a = [(0, a) for a in range(num_atoms)]\n",
    "    b2g = [(b, 0) for b in range(num_bonds)]\n",
    "    g2b = [(0, b) for b in range(num_bonds)]\n",
    "\n",
    "    edges_dict = {\n",
    "        (\"atom\", \"a2b\", \"bond\"): a2b,\n",
    "        (\"bond\", \"b2a\", \"atom\"): b2a,\n",
    "        (\"atom\", \"a2g\", \"global\"): a2g,\n",
    "        (\"global\", \"g2a\", \"atom\"): g2a,\n",
    "        (\"bond\", \"b2g\", \"global\"): b2g,\n",
    "        (\"global\", \"g2b\", \"bond\"): g2b,\n",
    "    }\n",
    "    if self_loop:\n",
    "        a2a = [(i, i) for i in range(num_atoms)]\n",
    "        b2b = [(i, i) for i in range(num_bonds)]\n",
    "        g2g = [(0, 0)]\n",
    "        edges_dict.update(\n",
    "            {\n",
    "                (\"atom\", \"a2a\", \"atom\"): a2a,\n",
    "                (\"bond\", \"b2b\", \"bond\"): b2b,\n",
    "                (\"global\", \"g2g\", \"global\"): g2g,\n",
    "            }\n",
    "        )\n",
    "\n",
    "    g = dgl.heterograph(edges_dict)\n",
    "    # add name\n",
    "    g.mol_name = row[\"ids\"]\n",
    "    # if mol.original_atom_ind != None:\n",
    "    #    g.atom_ind = mol.original_atom_ind\n",
    "    # if mol.original_bond_mapping != None:\n",
    "    #    g.bond_ind = mol.original_bond_mapping\n",
    "\n",
    "    return g\n",
    "\n",
    "\n",
    "def build_networkx_graph(\n",
    "    row,\n",
    "    attr_atom=[\"extra_feat_atom_esp_e\", \"extra_feat_atom_Lagrangian_K\"],\n",
    "    attr_bond=[\"extra_feat_bond_esp_e\"],\n",
    "):\n",
    "    bonds = list(row[\"bonds\"])\n",
    "    num_bonds = len(bonds)\n",
    "    num_atoms = len(row[\"molecule_graph\"])\n",
    "\n",
    "    G = nx.Graph()\n",
    "    G.add_nodes_from(range(num_atoms))\n",
    "    G.add_edges_from(bonds)\n",
    "\n",
    "    def _add_node_attrs(G, attr, attr_ind, val, as_str=False):\n",
    "        for ind, n in enumerate(G.nodes()):\n",
    "            if G.nodes[n] == {}:\n",
    "                G.nodes[n][\"feature\"] = {}\n",
    "\n",
    "            if as_str:\n",
    "                G.nodes[n][\"feature\"][attr] = float(val[ind])\n",
    "            else:\n",
    "                G.nodes[n][\"feature\"][attr_ind] = float(val[ind])\n",
    "\n",
    "    def _add_bond_attrs(G, attr, attr_ind, vals, bond_ordering, as_str=False):\n",
    "        bonds_order_as_tuple = [tuple(b) for b in bond_ordering[0]]\n",
    "        # zip list of tuples with list vals\n",
    "        dict_attrs = {\n",
    "            edge: float(val) for edge, val in zip(bonds_order_as_tuple, vals[0])\n",
    "        }\n",
    "        if as_str:\n",
    "            nx.set_edge_attributes(G, dict_attrs, attr)\n",
    "        else:\n",
    "            nx.set_edge_attributes(G, dict_attrs, attr_ind)\n",
    "\n",
    "    bond_list = row.extra_feat_bond_indices_qtaim\n",
    "    [\n",
    "        _add_node_attrs(G, attr, ind + 1, row[attr], as_str=False)\n",
    "        for ind, attr in enumerate(attr_atom)\n",
    "    ]\n",
    "\n",
    "    [\n",
    "        _add_bond_attrs(G, attr, ind + 1, row[attr], bond_list, as_str=False)\n",
    "        for ind, attr in enumerate(attr_bond)\n",
    "    ]\n",
    "\n",
    "    # show atom atrributes\n",
    "    print(G.nodes[0])\n",
    "    print(G.edges[(0, 1)])\n",
    "    return G\n",
    "\n",
    "\n",
    "\"\"\"def featurize(self, g, row, ret_feat_names=False, **kwargs):\n",
    "    if self.atom_featurizer is not None:\n",
    "        feat_dict, feat_atom = self.atom_featurizer(row, **kwargs)\n",
    "        g.nodes[\"atom\"].data.update(feat_dict)\n",
    "\n",
    "    if self.bond_featurizer is not None:\n",
    "        feat_dict, feat_bond = self.bond_featurizer(row, **kwargs)\n",
    "        g.nodes[\"bond\"].data.update(feat_dict)\n",
    "\n",
    "    if ret_feat_names:\n",
    "        feat_names = {}\n",
    "        feat_names[\"atom\"] = [feat_atom]\n",
    "        feat_names[\"bond\"] = [feat_bond]\n",
    "        return g, feat_names\n",
    "\n",
    "    return g\"\"\""
   ]
  },
  {
   "cell_type": "code",
   "execution_count": 2,
   "metadata": {},
   "outputs": [
    {
     "ename": "NameError",
     "evalue": "name 'build_graph' is not defined",
     "output_type": "error",
     "traceback": [
      "\u001b[0;31m---------------------------------------------------------------------------\u001b[0m",
      "\u001b[0;31mNameError\u001b[0m                                 Traceback (most recent call last)",
      "Cell \u001b[0;32mIn[2], line 1\u001b[0m\n\u001b[0;32m----> 1\u001b[0m dgl_test \u001b[39m=\u001b[39m build_graph(df\u001b[39m.\u001b[39miloc[\u001b[39m0\u001b[39m])\n\u001b[1;32m      2\u001b[0m nx_test \u001b[39m=\u001b[39m build_networkx_graph(df\u001b[39m.\u001b[39miloc[\u001b[39m0\u001b[39m])\n",
      "\u001b[0;31mNameError\u001b[0m: name 'build_graph' is not defined"
     ]
    }
   ],
   "source": [
    "dgl_test = build_graph(df.iloc[0])\n",
    "nx_test = build_networkx_graph(df.iloc[0])"
   ]
  },
  {
   "cell_type": "code",
   "execution_count": 1,
   "metadata": {},
   "outputs": [
    {
     "ename": "NameError",
     "evalue": "name 'dgl_test' is not defined",
     "output_type": "error",
     "traceback": [
      "\u001b[0;31m---------------------------------------------------------------------------\u001b[0m",
      "\u001b[0;31mNameError\u001b[0m                                 Traceback (most recent call last)",
      "Cell \u001b[0;32mIn[1], line 5\u001b[0m\n\u001b[1;32m      1\u001b[0m \u001b[39m# feather - uses node features\u001b[39;00m\n\u001b[1;32m      2\u001b[0m \u001b[39m# graph2vec - can be attributed\u001b[39;00m\n\u001b[1;32m      3\u001b[0m \u001b[39m# GL2Vec -can take node-level features\u001b[39;00m\n\u001b[1;32m      4\u001b[0m \u001b[39m# Wavelet - uses node features\u001b[39;00m\n\u001b[0;32m----> 5\u001b[0m dgl_test\n",
      "\u001b[0;31mNameError\u001b[0m: name 'dgl_test' is not defined"
     ]
    }
   ],
   "source": [
    "# feather - uses node features\n",
    "# graph2vec - can be attributed\n",
    "# GL2Vec -can take node-level features\n",
    "# Wavelet - uses node features\n",
    "dgl_test"
   ]
  },
  {
   "cell_type": "code",
   "execution_count": 7,
   "metadata": {},
   "outputs": [
    {
     "name": "stdout",
     "output_type": "stream",
     "text": [
      "{}\n",
      "{}\n",
      "{}\n",
      "{}\n",
      "{}\n",
      "{}\n",
      "{}\n",
      "{}\n",
      "{}\n",
      "{}\n",
      "{}\n",
      "{}\n",
      "{}\n",
      "{}\n",
      "{}\n",
      "{}\n",
      "{}\n",
      "{}\n",
      "{}\n",
      "{}\n",
      "{'feature': {1: -694.0230222, 2: 286822171.20000005}}\n",
      "{1: -170.5283626}\n",
      "{'feature': {1: -694.0230222, 2: 286822171.20000005}}\n",
      "{1: -170.5283626}\n",
      "{'feature': {1: -694.0230222, 2: 286822171.20000005}}\n",
      "{1: -170.5283626}\n",
      "{'feature': {1: -694.0230222, 2: 286822171.20000005}}\n",
      "{1: -170.5283626}\n",
      "{'feature': {1: -694.0230222, 2: 286822171.20000005}}\n",
      "{1: -170.5283626}\n",
      "{'feature': {1: -694.0230222, 2: 286822171.20000005}}\n",
      "{1: -170.5283626}\n",
      "{'feature': {1: -694.0230222, 2: 286822171.20000005}}\n",
      "{1: -170.5283626}\n",
      "{'feature': {1: -694.0230222, 2: 286822171.20000005}}\n",
      "{1: -170.5283626}\n",
      "{'feature': {1: -694.0230222, 2: 286822171.20000005}}\n",
      "{1: -170.5283626}\n",
      "{'feature': {1: -694.0230222, 2: 286822171.20000005}}\n",
      "{1: -170.5283626}\n"
     ]
    }
   ],
   "source": [
    "nx_graphs_non_attr = [\n",
    "    build_networkx_graph(row, attr_atom=[], attr_bond=[]) for i, row in df.iterrows()\n",
    "]\n",
    "nx_graphs_attr = [build_networkx_graph(row) for i, row in df.iterrows()]"
   ]
  },
  {
   "cell_type": "code",
   "execution_count": 8,
   "metadata": {},
   "outputs": [
    {
     "name": "stdout",
     "output_type": "stream",
     "text": [
      "rmse non attr 0.0\n",
      "rmse non attr 0.0\n",
      "rmse non attr 0.0\n"
     ]
    }
   ],
   "source": [
    "# import mean squared error\n",
    "from sklearn.metrics import mean_squared_error\n",
    "\n",
    "models = [FeatherGraph(), Graph2Vec(), WaveletCharacteristic()]\n",
    "for model in models:\n",
    "    model.fit(nx_graphs_non_attr)\n",
    "    X_non = model.get_embedding()\n",
    "    model.fit(nx_graphs_attr)\n",
    "    X_attr = model.get_embedding()\n",
    "    print(\"rmse non attr\", mean_squared_error(X_non, X_non))"
   ]
  },
  {
   "cell_type": "code",
   "execution_count": 9,
   "metadata": {},
   "outputs": [],
   "source": [
    "features = nx.get_node_attributes(nx_graphs_attr[0], \"feature\")\n",
    "for node in nx_graphs_attr[0].nodes():\n",
    "    nebs = nx_graphs_attr[0].neighbors(node)\n",
    "    degs = [features[neb] for neb in nebs]"
   ]
  },
  {
   "cell_type": "code",
   "execution_count": 10,
   "metadata": {},
   "outputs": [
    {
     "data": {
      "text/plain": [
       "<karateclub.utils.treefeatures.WeisfeilerLehmanHashing at 0x7f2a23bece10>"
      ]
     },
     "execution_count": 10,
     "metadata": {},
     "output_type": "execute_result"
    }
   ],
   "source": [
    "from karateclub.utils.treefeatures import WeisfeilerLehmanHashing\n",
    "\n",
    "WeisfeilerLehmanHashing(\n",
    "    graph=nx_graphs_attr[0], wl_iterations=2, attributed=True, erase_base_features=False\n",
    ")"
   ]
  },
  {
   "cell_type": "code",
   "execution_count": 11,
   "metadata": {},
   "outputs": [],
   "source": [
    "model = Graph2Vec(attributed=True)\n",
    "model.fit(nx_graphs_attr)\n",
    "X = model.get_embedding()"
   ]
  },
  {
   "cell_type": "code",
   "execution_count": 12,
   "metadata": {},
   "outputs": [],
   "source": [
    "GL2Vec = Graph2Vec(attributed=True)\n",
    "GL2Vec.fit(nx_graphs_attr)\n",
    "X = GL2Vec.get_embedding()"
   ]
  },
  {
   "cell_type": "code",
   "execution_count": 13,
   "metadata": {},
   "outputs": [
    {
     "name": "stdout",
     "output_type": "stream",
     "text": [
      "[1.58207044e-01 1.34318843e-01 1.22978434e-01 1.19704649e-01\n",
      " 1.10156767e-01 9.56119150e-02 9.27518830e-02 9.19782072e-02\n",
      " 7.42923021e-02 2.03103953e-15]\n"
     ]
    }
   ],
   "source": [
    "from sklearn.decomposition import PCA\n",
    "\n",
    "pca = PCA(n_components=10)\n",
    "X_pca = pca.fit_transform(X)\n",
    "print(pca.explained_variance_ratio_)\n",
    "# x_mani = TSNE(n_components=2, perplexity=).fit_transform(X)"
   ]
  },
  {
   "cell_type": "code",
   "execution_count": 14,
   "metadata": {},
   "outputs": [
    {
     "data": {
      "image/png": "[encoded data removed]",
      "text/plain": [
       "<Figure size 640x480 with 1 Axes>"
      ]
     },
     "metadata": {},
     "output_type": "display_data"
    }
   ],
   "source": [
    "# plot\n",
    "import matplotlib.pyplot as plt\n",
    "\n",
    "plt.scatter(X_pca[:, 0], X_pca[:, 1])\n",
    "plt.show()"
   ]
  },
  {
   "cell_type": "code",
   "execution_count": 18,
   "metadata": {},
   "outputs": [],
   "source": [
    "import umap\n",
    "\n",
    "x_trans = umap.UMAP(n_neighbors=2).fit_transform(X)"
   ]
  },
  {
   "cell_type": "code",
   "execution_count": 20,
   "metadata": {},
   "outputs": [
    {
     "data": {
      "image/png": "[encoded data removed]",
      "text/plain": [
       "<Figure size 640x480 with 1 Axes>"
      ]
     },
     "metadata": {},
     "output_type": "display_data"
    }
   ],
   "source": [
    "plt.scatter(x_trans[:, 0], x_trans[:, 1])\n",
    "plt.show()"
   ]
  },
  {
   "cell_type": "code",
   "execution_count": 4,
   "metadata": {},
   "outputs": [
    {
     "data": {
      "text/plain": [
       "torch.nn.modules.activation.ReLU"
      ]
     },
     "execution_count": 4,
     "metadata": {},
     "output_type": "execute_result"
    }
   ],
   "source": [
    "import torch.nn\n",
    "type(getattr(torch.nn, \"ReLU\")())"
   ]
  },
  {
   "cell_type": "code",
   "execution_count": null,
   "metadata": {},
   "outputs": [],
   "source": []
  }
 ],
 "metadata": {
  "kernelspec": {
   "display_name": "allegro",
   "language": "python",
   "name": "python3"
  },
  "language_info": {
   "codemirror_mode": {
    "name": "ipython",
    "version": 3
   },
   "file_extension": ".py",
   "mimetype": "text/x-python",
   "name": "python",
   "nbconvert_exporter": "python",
   "pygments_lexer": "ipython3",
   "version": "3.9.18"
  },
  "orig_nbformat": 4
 },
 "nbformat": 4,
 "nbformat_minor": 2
}
