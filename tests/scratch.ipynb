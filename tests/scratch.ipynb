{
 "cells": [
  {
   "cell_type": "code",
   "execution_count": 7,
   "metadata": {},
   "outputs": [],
   "source": [
    "import pandas as pd\n",
    "\n",
    "df = pd.read_pickle(\"./data/labelled_data.pkl\")\n",
    "# \"./data/labelled_data.pkl\","
   ]
  },
  {
   "cell_type": "code",
   "execution_count": 8,
   "metadata": {},
   "outputs": [
    {
     "name": "stdout",
     "output_type": "stream",
     "text": [
      "../data/tox21_qtaim_1026_labelled.pkl\n"
     ]
    }
   ],
   "source": [
    "! ls ../data/tox21_qtaim_1026_labelled.pkl"
   ]
  },
  {
   "cell_type": "code",
   "execution_count": 9,
   "metadata": {},
   "outputs": [],
   "source": [
    "df = pd.read_pickle(\"../data/tox21_qtaim_1026_labelled.pkl\")"
   ]
  },
  {
   "cell_type": "code",
   "execution_count": 2,
   "metadata": {},
   "outputs": [
    {
     "data": {
      "text/plain": [
       "Index(['molecule', 'molecule_graph', 'bonds', 'ids', 'names',\n",
       "       'extra_feat_atom_Lagrangian_K', 'extra_feat_atom_Hamiltonian_K',\n",
       "       'extra_feat_atom_e_density', 'extra_feat_atom_lap_e_density',\n",
       "       'extra_feat_atom_e_loc_func', 'extra_feat_atom_ave_loc_ion_E',\n",
       "       'extra_feat_atom_delta_g_promolecular', 'extra_feat_atom_delta_g_hirsh',\n",
       "       'extra_feat_atom_esp_nuc', 'extra_feat_atom_esp_e',\n",
       "       'extra_feat_atom_esp_total', 'extra_feat_atom_grad_norm',\n",
       "       'extra_feat_atom_lap_norm', 'extra_feat_atom_eig_hess',\n",
       "       'extra_feat_atom_det_hessian', 'extra_feat_atom_ellip_e_dens',\n",
       "       'extra_feat_atom_eta', 'extra_feat_bond_Lagrangian_K',\n",
       "       'extra_feat_bond_Hamiltonian_K', 'extra_feat_bond_e_density',\n",
       "       'extra_feat_bond_lap_e_density', 'extra_feat_bond_e_loc_func',\n",
       "       'extra_feat_bond_ave_loc_ion_E', 'extra_feat_bond_delta_g_promolecular',\n",
       "       'extra_feat_bond_delta_g_hirsh', 'extra_feat_bond_esp_nuc',\n",
       "       'extra_feat_bond_esp_e', 'extra_feat_bond_esp_total',\n",
       "       'extra_feat_bond_grad_norm', 'extra_feat_bond_lap_norm',\n",
       "       'extra_feat_bond_eig_hess', 'extra_feat_bond_det_hessian',\n",
       "       'extra_feat_bond_ellip_e_dens', 'extra_feat_bond_eta',\n",
       "       'extra_feat_bond_indices_qtaim', 'extra_feat_global_gdb9_index',\n",
       "       'extra_feat_global_E1_CC2', 'extra_feat_global_E2_CC2',\n",
       "       'extra_feat_global_f1_CC2', 'extra_feat_global_f2_CC2',\n",
       "       'extra_feat_global_E1_PBE0', 'extra_feat_global_E2_PBE0',\n",
       "       'extra_feat_global_f1_PBE0', 'extra_feat_global_f2_PBE0',\n",
       "       'extra_feat_global_E1_PBE0_1', 'extra_feat_global_E2_PBE0_1',\n",
       "       'extra_feat_global_f1_PBE0_1', 'extra_feat_global_f2_PBE0_1',\n",
       "       'extra_feat_global_E1_CAM', 'extra_feat_global_E2_CAM',\n",
       "       'extra_feat_global_f1_CAM', 'extra_feat_global_f2_CAM'],\n",
       "      dtype='object')"
      ]
     },
     "execution_count": 2,
     "metadata": {},
     "output_type": "execute_result"
    }
   ],
   "source": [
    "df.columns"
   ]
  },
  {
   "cell_type": "code",
   "execution_count": 4,
   "metadata": {},
   "outputs": [
    {
     "data": {
      "text/plain": [
       "0     0.145596\n",
       "1     0.264791\n",
       "2     0.224277\n",
       "3     0.233816\n",
       "4     0.193598\n",
       "        ...   \n",
       "95    0.186007\n",
       "96    0.203605\n",
       "97    0.220288\n",
       "98    0.169731\n",
       "99    0.161093\n",
       "Name: extra_feat_global_E1_CC2, Length: 100, dtype: float64"
      ]
     },
     "execution_count": 4,
     "metadata": {},
     "output_type": "execute_result"
    }
   ],
   "source": [
    "df.extra_feat_global_E1_CC2"
   ]
  },
  {
   "cell_type": "code",
   "execution_count": 4,
   "metadata": {},
   "outputs": [],
   "source": [
    "mean = df.extra_feat_global_E1_CAM.mean()"
   ]
  },
  {
   "cell_type": "code",
   "execution_count": 6,
   "metadata": {},
   "outputs": [
    {
     "name": "stdout",
     "output_type": "stream",
     "text": [
      "r2:  0.0\n",
      "mae:  0.035566026550000004\n",
      "rmse:  0.042542786234389264\n"
     ]
    }
   ],
   "source": [
    "# calculate r2, rmse, mae of guessing mean\n",
    "from sklearn.metrics import r2_score, mean_squared_error, mean_absolute_error\n",
    "\n",
    "r2 = r2_score(df.extra_feat_global_E1_CAM, [mean] * len(df))\n",
    "rmse = mean_squared_error(df.extra_feat_global_E1_CAM, [mean] * len(df), squared=False)\n",
    "mae = mean_absolute_error(df.extra_feat_global_E1_CAM, [mean] * len(df))\n",
    "print(\"r2: \", r2)\n",
    "print(\"mae: \", mae)\n",
    "print(\"rmse: \", rmse)"
   ]
  },
  {
   "cell_type": "code",
   "execution_count": null,
   "metadata": {},
   "outputs": [],
   "source": []
  }
 ],
 "metadata": {
  "kernelspec": {
   "display_name": "qtaim_embed",
   "language": "python",
   "name": "python3"
  },
  "language_info": {
   "codemirror_mode": {
    "name": "ipython",
    "version": 3
   },
   "file_extension": ".py",
   "mimetype": "text/x-python",
   "name": "python",
   "nbconvert_exporter": "python",
   "pygments_lexer": "ipython3",
   "version": "3.11.3"
  },
  "orig_nbformat": 4
 },
 "nbformat": 4,
 "nbformat_minor": 2
}
