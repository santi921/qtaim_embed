{
 "cells": [
  {
   "cell_type": "code",
   "execution_count": 2,
   "metadata": {},
   "outputs": [],
   "source": [
    "import pandas as pd\n",
    "\n",
    "df = pd.read_pickle(\"./data/labelled_data.pkl\")\n",
    "# \"./data/labelled_data.pkl\","
   ]
  },
  {
   "cell_type": "code",
   "execution_count": 3,
   "metadata": {},
   "outputs": [
    {
     "data": {
      "text/plain": [
       "0     0.142110\n",
       "1     0.257833\n",
       "2     0.220985\n",
       "3     0.244232\n",
       "4     0.188892\n",
       "        ...   \n",
       "95    0.181736\n",
       "96    0.200100\n",
       "97    0.227409\n",
       "98    0.165526\n",
       "99    0.158790\n",
       "Name: extra_feat_global_E1_CAM, Length: 100, dtype: float64"
      ]
     },
     "execution_count": 3,
     "metadata": {},
     "output_type": "execute_result"
    }
   ],
   "source": [
    "df.extra_feat_global_E1_CAM"
   ]
  },
  {
   "cell_type": "code",
   "execution_count": 4,
   "metadata": {},
   "outputs": [],
   "source": [
    "mean = df.extra_feat_global_E1_CAM.mean()"
   ]
  },
  {
   "cell_type": "code",
   "execution_count": 6,
   "metadata": {},
   "outputs": [
    {
     "name": "stdout",
     "output_type": "stream",
     "text": [
      "r2:  0.0\n",
      "mae:  0.035566026550000004\n",
      "rmse:  0.042542786234389264\n"
     ]
    }
   ],
   "source": [
    "# calculate r2, rmse, mae of guessing mean\n",
    "from sklearn.metrics import r2_score, mean_squared_error, mean_absolute_error\n",
    "\n",
    "r2 = r2_score(df.extra_feat_global_E1_CAM, [mean] * len(df))\n",
    "rmse = mean_squared_error(df.extra_feat_global_E1_CAM, [mean] * len(df), squared=False)\n",
    "mae = mean_absolute_error(df.extra_feat_global_E1_CAM, [mean] * len(df))\n",
    "print(\"r2: \", r2)\n",
    "print(\"mae: \", mae)\n",
    "print(\"rmse: \", rmse)"
   ]
  },
  {
   "cell_type": "code",
   "execution_count": null,
   "metadata": {},
   "outputs": [],
   "source": []
  }
 ],
 "metadata": {
  "kernelspec": {
   "display_name": "qtaim_embed",
   "language": "python",
   "name": "python3"
  },
  "language_info": {
   "codemirror_mode": {
    "name": "ipython",
    "version": 3
   },
   "file_extension": ".py",
   "mimetype": "text/x-python",
   "name": "python",
   "nbconvert_exporter": "python",
   "pygments_lexer": "ipython3",
   "version": "3.11.3"
  },
  "orig_nbformat": 4
 },
 "nbformat": 4,
 "nbformat_minor": 2
}
